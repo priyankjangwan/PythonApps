{
 "cells": [
  {
   "cell_type": "code",
   "execution_count": 1,
   "id": "4921fc82-0c4d-4825-b004-772e69059210",
   "metadata": {},
   "outputs": [],
   "source": [
    "import numpy as np\n",
    "import pandas as pd\n",
    "import matplotlib.pyplot as plt\n",
    "from scipy.stats import ttest_1samp,ttest_ind\n",
    "import scipy.stats as stats\n",
    "import seaborn as sns"
   ]
  },
  {
   "cell_type": "markdown",
   "id": "fda9a561-a5e3-470e-a3fd-3cc146355382",
   "metadata": {},
   "source": [
    "\n",
    "## Problem objective:\n",
    "As a data scientist, you must conduct exploratory data analysis and hypothesis testing to enhance your comprehension of the diverse factors influencing customer acquisition."
   ]
  },
  {
   "cell_type": "code",
   "execution_count": 2,
   "id": "131a1e4d-62ed-4cef-8c31-34c35620a5b7",
   "metadata": {},
   "outputs": [],
   "source": [
    "mt_data = pd.read_csv('marketing_data.csv')"
   ]
  },
  {
   "cell_type": "code",
   "execution_count": 3,
   "id": "dfe63b47-dccc-4759-8cca-227524a1f21b",
   "metadata": {},
   "outputs": [],
   "source": [
    "mt_df= pd.DataFrame(mt_data)"
   ]
  },
  {
   "cell_type": "code",
   "execution_count": 4,
   "id": "74f6960e-4f3c-45ca-ad45-48799e5e2058",
   "metadata": {},
   "outputs": [
    {
     "data": {
      "text/plain": [
       "(2240, 28)"
      ]
     },
     "execution_count": 4,
     "metadata": {},
     "output_type": "execute_result"
    }
   ],
   "source": [
    "mt_df.shape"
   ]
  },
  {
   "cell_type": "code",
   "execution_count": 5,
   "id": "a8be6567-8c50-47cf-9c79-885390f2b4a2",
   "metadata": {},
   "outputs": [
    {
     "data": {
      "text/plain": [
       "Index(['ID', 'Year_Birth', 'Education', 'Marital_Status', ' Income ',\n",
       "       'Kidhome', 'Teenhome', 'Dt_Customer', 'Recency', 'MntWines',\n",
       "       'MntFruits', 'MntMeatProducts', 'MntFishProducts', 'MntSweetProducts',\n",
       "       'MntGoldProds', 'NumDealsPurchases', 'NumWebPurchases',\n",
       "       'NumCatalogPurchases', 'NumStorePurchases', 'NumWebVisitsMonth',\n",
       "       'AcceptedCmp3', 'AcceptedCmp4', 'AcceptedCmp5', 'AcceptedCmp1',\n",
       "       'AcceptedCmp2', 'Response', 'Complain', 'Country'],\n",
       "      dtype='object')"
      ]
     },
     "execution_count": 5,
     "metadata": {},
     "output_type": "execute_result"
    }
   ],
   "source": [
    "mt_df.columns"
   ]
  },
  {
   "cell_type": "code",
   "execution_count": 6,
   "id": "294621aa-a1a4-4cb4-bae6-9d8b7ecc3364",
   "metadata": {},
   "outputs": [],
   "source": [
    "mt_df.columns = mt_df.columns.str.strip()"
   ]
  },
  {
   "cell_type": "code",
   "execution_count": 7,
   "id": "0bf81326-4e1d-455d-8c18-52638889a7f7",
   "metadata": {},
   "outputs": [
    {
     "name": "stdout",
     "output_type": "stream",
     "text": [
      "<class 'pandas.core.frame.DataFrame'>\n",
      "RangeIndex: 2240 entries, 0 to 2239\n",
      "Data columns (total 28 columns):\n",
      " #   Column               Non-Null Count  Dtype \n",
      "---  ------               --------------  ----- \n",
      " 0   ID                   2240 non-null   int64 \n",
      " 1   Year_Birth           2240 non-null   int64 \n",
      " 2   Education            2240 non-null   object\n",
      " 3   Marital_Status       2240 non-null   object\n",
      " 4   Income               2216 non-null   object\n",
      " 5   Kidhome              2240 non-null   int64 \n",
      " 6   Teenhome             2240 non-null   int64 \n",
      " 7   Dt_Customer          2240 non-null   object\n",
      " 8   Recency              2240 non-null   int64 \n",
      " 9   MntWines             2240 non-null   int64 \n",
      " 10  MntFruits            2240 non-null   int64 \n",
      " 11  MntMeatProducts      2240 non-null   int64 \n",
      " 12  MntFishProducts      2240 non-null   int64 \n",
      " 13  MntSweetProducts     2240 non-null   int64 \n",
      " 14  MntGoldProds         2240 non-null   int64 \n",
      " 15  NumDealsPurchases    2240 non-null   int64 \n",
      " 16  NumWebPurchases      2240 non-null   int64 \n",
      " 17  NumCatalogPurchases  2240 non-null   int64 \n",
      " 18  NumStorePurchases    2240 non-null   int64 \n",
      " 19  NumWebVisitsMonth    2240 non-null   int64 \n",
      " 20  AcceptedCmp3         2240 non-null   int64 \n",
      " 21  AcceptedCmp4         2240 non-null   int64 \n",
      " 22  AcceptedCmp5         2240 non-null   int64 \n",
      " 23  AcceptedCmp1         2240 non-null   int64 \n",
      " 24  AcceptedCmp2         2240 non-null   int64 \n",
      " 25  Response             2240 non-null   int64 \n",
      " 26  Complain             2240 non-null   int64 \n",
      " 27  Country              2240 non-null   object\n",
      "dtypes: int64(23), object(5)\n",
      "memory usage: 490.1+ KB\n"
     ]
    }
   ],
   "source": [
    "mt_df.info()"
   ]
  },
  {
   "cell_type": "code",
   "execution_count": 8,
   "id": "35d22e91-8e3d-4a93-859a-8e7d34898ee2",
   "metadata": {},
   "outputs": [
    {
     "data": {
      "text/html": [
       "<div>\n",
       "<style scoped>\n",
       "    .dataframe tbody tr th:only-of-type {\n",
       "        vertical-align: middle;\n",
       "    }\n",
       "\n",
       "    .dataframe tbody tr th {\n",
       "        vertical-align: top;\n",
       "    }\n",
       "\n",
       "    .dataframe thead th {\n",
       "        text-align: right;\n",
       "    }\n",
       "</style>\n",
       "<table border=\"1\" class=\"dataframe\">\n",
       "  <thead>\n",
       "    <tr style=\"text-align: right;\">\n",
       "      <th></th>\n",
       "      <th>ID</th>\n",
       "      <th>Year_Birth</th>\n",
       "      <th>Education</th>\n",
       "      <th>Marital_Status</th>\n",
       "      <th>Income</th>\n",
       "      <th>Kidhome</th>\n",
       "      <th>Teenhome</th>\n",
       "      <th>Dt_Customer</th>\n",
       "      <th>Recency</th>\n",
       "      <th>MntWines</th>\n",
       "      <th>...</th>\n",
       "      <th>NumStorePurchases</th>\n",
       "      <th>NumWebVisitsMonth</th>\n",
       "      <th>AcceptedCmp3</th>\n",
       "      <th>AcceptedCmp4</th>\n",
       "      <th>AcceptedCmp5</th>\n",
       "      <th>AcceptedCmp1</th>\n",
       "      <th>AcceptedCmp2</th>\n",
       "      <th>Response</th>\n",
       "      <th>Complain</th>\n",
       "      <th>Country</th>\n",
       "    </tr>\n",
       "  </thead>\n",
       "  <tbody>\n",
       "    <tr>\n",
       "      <th>0</th>\n",
       "      <td>1826</td>\n",
       "      <td>1970</td>\n",
       "      <td>Graduation</td>\n",
       "      <td>Divorced</td>\n",
       "      <td>$84,835.00</td>\n",
       "      <td>0</td>\n",
       "      <td>0</td>\n",
       "      <td>6/16/14</td>\n",
       "      <td>0</td>\n",
       "      <td>189</td>\n",
       "      <td>...</td>\n",
       "      <td>6</td>\n",
       "      <td>1</td>\n",
       "      <td>0</td>\n",
       "      <td>0</td>\n",
       "      <td>0</td>\n",
       "      <td>0</td>\n",
       "      <td>0</td>\n",
       "      <td>1</td>\n",
       "      <td>0</td>\n",
       "      <td>SP</td>\n",
       "    </tr>\n",
       "    <tr>\n",
       "      <th>1</th>\n",
       "      <td>1</td>\n",
       "      <td>1961</td>\n",
       "      <td>Graduation</td>\n",
       "      <td>Single</td>\n",
       "      <td>$57,091.00</td>\n",
       "      <td>0</td>\n",
       "      <td>0</td>\n",
       "      <td>6/15/14</td>\n",
       "      <td>0</td>\n",
       "      <td>464</td>\n",
       "      <td>...</td>\n",
       "      <td>7</td>\n",
       "      <td>5</td>\n",
       "      <td>0</td>\n",
       "      <td>0</td>\n",
       "      <td>0</td>\n",
       "      <td>0</td>\n",
       "      <td>1</td>\n",
       "      <td>1</td>\n",
       "      <td>0</td>\n",
       "      <td>CA</td>\n",
       "    </tr>\n",
       "    <tr>\n",
       "      <th>2</th>\n",
       "      <td>10476</td>\n",
       "      <td>1958</td>\n",
       "      <td>Graduation</td>\n",
       "      <td>Married</td>\n",
       "      <td>$67,267.00</td>\n",
       "      <td>0</td>\n",
       "      <td>1</td>\n",
       "      <td>5/13/14</td>\n",
       "      <td>0</td>\n",
       "      <td>134</td>\n",
       "      <td>...</td>\n",
       "      <td>5</td>\n",
       "      <td>2</td>\n",
       "      <td>0</td>\n",
       "      <td>0</td>\n",
       "      <td>0</td>\n",
       "      <td>0</td>\n",
       "      <td>0</td>\n",
       "      <td>0</td>\n",
       "      <td>0</td>\n",
       "      <td>US</td>\n",
       "    </tr>\n",
       "    <tr>\n",
       "      <th>3</th>\n",
       "      <td>1386</td>\n",
       "      <td>1967</td>\n",
       "      <td>Graduation</td>\n",
       "      <td>Together</td>\n",
       "      <td>$32,474.00</td>\n",
       "      <td>1</td>\n",
       "      <td>1</td>\n",
       "      <td>5/11/14</td>\n",
       "      <td>0</td>\n",
       "      <td>10</td>\n",
       "      <td>...</td>\n",
       "      <td>2</td>\n",
       "      <td>7</td>\n",
       "      <td>0</td>\n",
       "      <td>0</td>\n",
       "      <td>0</td>\n",
       "      <td>0</td>\n",
       "      <td>0</td>\n",
       "      <td>0</td>\n",
       "      <td>0</td>\n",
       "      <td>AUS</td>\n",
       "    </tr>\n",
       "    <tr>\n",
       "      <th>4</th>\n",
       "      <td>5371</td>\n",
       "      <td>1989</td>\n",
       "      <td>Graduation</td>\n",
       "      <td>Single</td>\n",
       "      <td>$21,474.00</td>\n",
       "      <td>1</td>\n",
       "      <td>0</td>\n",
       "      <td>4/8/14</td>\n",
       "      <td>0</td>\n",
       "      <td>6</td>\n",
       "      <td>...</td>\n",
       "      <td>2</td>\n",
       "      <td>7</td>\n",
       "      <td>1</td>\n",
       "      <td>0</td>\n",
       "      <td>0</td>\n",
       "      <td>0</td>\n",
       "      <td>0</td>\n",
       "      <td>1</td>\n",
       "      <td>0</td>\n",
       "      <td>SP</td>\n",
       "    </tr>\n",
       "  </tbody>\n",
       "</table>\n",
       "<p>5 rows × 28 columns</p>\n",
       "</div>"
      ],
      "text/plain": [
       "      ID  Year_Birth   Education Marital_Status       Income  Kidhome  \\\n",
       "0   1826        1970  Graduation       Divorced  $84,835.00         0   \n",
       "1      1        1961  Graduation         Single  $57,091.00         0   \n",
       "2  10476        1958  Graduation        Married  $67,267.00         0   \n",
       "3   1386        1967  Graduation       Together  $32,474.00         1   \n",
       "4   5371        1989  Graduation         Single  $21,474.00         1   \n",
       "\n",
       "   Teenhome Dt_Customer  Recency  MntWines  ...  NumStorePurchases  \\\n",
       "0         0     6/16/14        0       189  ...                  6   \n",
       "1         0     6/15/14        0       464  ...                  7   \n",
       "2         1     5/13/14        0       134  ...                  5   \n",
       "3         1     5/11/14        0        10  ...                  2   \n",
       "4         0      4/8/14        0         6  ...                  2   \n",
       "\n",
       "   NumWebVisitsMonth  AcceptedCmp3  AcceptedCmp4  AcceptedCmp5  AcceptedCmp1  \\\n",
       "0                  1             0             0             0             0   \n",
       "1                  5             0             0             0             0   \n",
       "2                  2             0             0             0             0   \n",
       "3                  7             0             0             0             0   \n",
       "4                  7             1             0             0             0   \n",
       "\n",
       "   AcceptedCmp2  Response  Complain  Country  \n",
       "0             0         1         0       SP  \n",
       "1             1         1         0       CA  \n",
       "2             0         0         0       US  \n",
       "3             0         0         0      AUS  \n",
       "4             0         1         0       SP  \n",
       "\n",
       "[5 rows x 28 columns]"
      ]
     },
     "execution_count": 8,
     "metadata": {},
     "output_type": "execute_result"
    }
   ],
   "source": [
    "mt_df.head()"
   ]
  },
  {
   "cell_type": "markdown",
   "id": "22208782-cea1-4d55-b1bc-e14571185794",
   "metadata": {},
   "source": [
    "## Data Sampling"
   ]
  },
  {
   "cell_type": "code",
   "execution_count": 9,
   "id": "59aef493-bdc0-42df-983d-9a5bca79fc01",
   "metadata": {},
   "outputs": [
    {
     "data": {
      "text/plain": [
       "ID                      0\n",
       "Year_Birth              0\n",
       "Education               0\n",
       "Marital_Status          0\n",
       "Income                 24\n",
       "Kidhome                 0\n",
       "Teenhome                0\n",
       "Dt_Customer             0\n",
       "Recency                 0\n",
       "MntWines                0\n",
       "MntFruits               0\n",
       "MntMeatProducts         0\n",
       "MntFishProducts         0\n",
       "MntSweetProducts        0\n",
       "MntGoldProds            0\n",
       "NumDealsPurchases       0\n",
       "NumWebPurchases         0\n",
       "NumCatalogPurchases     0\n",
       "NumStorePurchases       0\n",
       "NumWebVisitsMonth       0\n",
       "AcceptedCmp3            0\n",
       "AcceptedCmp4            0\n",
       "AcceptedCmp5            0\n",
       "AcceptedCmp1            0\n",
       "AcceptedCmp2            0\n",
       "Response                0\n",
       "Complain                0\n",
       "Country                 0\n",
       "dtype: int64"
      ]
     },
     "execution_count": 9,
     "metadata": {},
     "output_type": "execute_result"
    }
   ],
   "source": [
    "mt_df.isnull().sum()"
   ]
  },
  {
   "cell_type": "markdown",
   "id": "cbeb5115-3ddd-407e-9c07-4232278c6176",
   "metadata": {},
   "source": [
    "## Step 1 :"
   ]
  },
  {
   "cell_type": "code",
   "execution_count": 10,
   "id": "10a496f1-d391-4d1f-92aa-f57b9ab8bbc9",
   "metadata": {},
   "outputs": [
    {
     "data": {
      "text/plain": [
       "count           2216\n",
       "unique          1974\n",
       "top       $7,500.00 \n",
       "freq              12\n",
       "Name: Income, dtype: object"
      ]
     },
     "execution_count": 10,
     "metadata": {},
     "output_type": "execute_result"
    }
   ],
   "source": [
    "mt_df['Income'].describe()"
   ]
  },
  {
   "cell_type": "code",
   "execution_count": 11,
   "id": "46c6c68e-7f72-4744-a175-ff2bdab61e63",
   "metadata": {},
   "outputs": [],
   "source": [
    "## Fix the income filed for further analysis\n"
   ]
  },
  {
   "cell_type": "code",
   "execution_count": 12,
   "id": "cdcbd357-62c5-49da-b251-b514acdb9bbe",
   "metadata": {},
   "outputs": [],
   "source": [
    "mt_df['Income'] = mt_df['Income'].replace('[\\$,]', '', regex=True).astype(float)"
   ]
  },
  {
   "cell_type": "code",
   "execution_count": 13,
   "id": "07fab45f-44aa-4778-8de2-ea66efa7f135",
   "metadata": {},
   "outputs": [],
   "source": [
    "mt_df['Income'].fillna(mt_df['Income'].mean(), inplace=True)"
   ]
  },
  {
   "cell_type": "code",
   "execution_count": 14,
   "id": "6c5f3446-4547-43b3-b04b-404a803770b8",
   "metadata": {},
   "outputs": [
    {
     "data": {
      "text/plain": [
       "count      2240.000000\n",
       "mean      52247.251354\n",
       "std       25037.797168\n",
       "min        1730.000000\n",
       "25%       35538.750000\n",
       "50%       51741.500000\n",
       "75%       68289.750000\n",
       "max      666666.000000\n",
       "Name: Income, dtype: float64"
      ]
     },
     "execution_count": 14,
     "metadata": {},
     "output_type": "execute_result"
    }
   ],
   "source": [
    "mt_df['Income'].describe()"
   ]
  },
  {
   "cell_type": "code",
   "execution_count": 15,
   "id": "a96bd68f-306d-4521-b8aa-c6eca15613ed",
   "metadata": {},
   "outputs": [
    {
     "data": {
      "text/plain": [
       "<AxesSubplot: xlabel='Income'>"
      ]
     },
     "execution_count": 15,
     "metadata": {},
     "output_type": "execute_result"
    },
    {
     "data": {
      "image/png": "[encoded data removed]",
      "text/plain": [
       "<Figure size 432x288 with 1 Axes>"
      ]
     },
     "metadata": {
      "needs_background": "light"
     },
     "output_type": "display_data"
    }
   ],
   "source": [
    "sns.boxplot(x=mt_df['Income'])"
   ]
  },
  {
   "cell_type": "code",
   "execution_count": 16,
   "id": "644b1cfb-c8b8-440a-9626-cfde1369654d",
   "metadata": {},
   "outputs": [],
   "source": [
    "##Age from 'Dt_Customer'"
   ]
  },
  {
   "cell_type": "code",
   "execution_count": 17,
   "id": "fb6e0aee-252e-41f4-a6f6-7d61d74d9c29",
   "metadata": {},
   "outputs": [],
   "source": [
    "mt_df['Age'] = 2025 - mt_df['Year_Birth']"
   ]
  },
  {
   "cell_type": "code",
   "execution_count": 18,
   "id": "15398d03-2b77-4063-9281-772575d0cb44",
   "metadata": {},
   "outputs": [
    {
     "data": {
      "text/plain": [
       "array(['Graduation', 'PhD', '2n Cycle', 'Master', 'Basic'], dtype=object)"
      ]
     },
     "execution_count": 18,
     "metadata": {},
     "output_type": "execute_result"
    }
   ],
   "source": [
    "mt_df['Education'].unique()            "
   ]
  },
  {
   "cell_type": "code",
   "execution_count": 19,
   "id": "7d3da6e2-1081-4031-8cb3-44db27461bff",
   "metadata": {},
   "outputs": [
    {
     "data": {
      "text/plain": [
       "Graduation    1127\n",
       "PhD            486\n",
       "Master         370\n",
       "2n Cycle       203\n",
       "Basic           54\n",
       "Name: Education, dtype: int64"
      ]
     },
     "execution_count": 19,
     "metadata": {},
     "output_type": "execute_result"
    }
   ],
   "source": [
    "mt_df['Education'].value_counts()        "
   ]
  },
  {
   "cell_type": "code",
   "execution_count": 20,
   "id": "fbb8a9c4-66c6-41ed-b2cd-2c858a4ae607",
   "metadata": {},
   "outputs": [
    {
     "data": {
      "text/plain": [
       "array(['Divorced', 'Single', 'Married', 'Together', 'Widow', 'YOLO',\n",
       "       'Alone', 'Absurd'], dtype=object)"
      ]
     },
     "execution_count": 20,
     "metadata": {},
     "output_type": "execute_result"
    }
   ],
   "source": [
    "mt_df['Marital_Status'].unique()        "
   ]
  },
  {
   "cell_type": "code",
   "execution_count": 21,
   "id": "9a78a26d-adbe-44a4-aaa7-92edd6cf2eda",
   "metadata": {},
   "outputs": [
    {
     "data": {
      "text/plain": [
       "Married     864\n",
       "Together    580\n",
       "Single      480\n",
       "Divorced    232\n",
       "Widow        77\n",
       "Alone         3\n",
       "YOLO          2\n",
       "Absurd        2\n",
       "Name: Marital_Status, dtype: int64"
      ]
     },
     "execution_count": 21,
     "metadata": {},
     "output_type": "execute_result"
    }
   ],
   "source": [
    "mt_df['Marital_Status'].value_counts()"
   ]
  },
  {
   "cell_type": "code",
   "execution_count": 22,
   "id": "6a439f4f-92be-441a-81b5-3edf5eadcea5",
   "metadata": {},
   "outputs": [],
   "source": [
    "# Data cleaning for Status\n",
    "mt_df['Marital_Status'] = mt_df['Marital_Status'].replace({\n",
    "    'Alone': 'Single',\n",
    "    'YOLO': 'Single',\n",
    "    'Absurd': 'Single',\n",
    "    'Together': 'Married', \n",
    "})"
   ]
  },
  {
   "cell_type": "code",
   "execution_count": 23,
   "id": "be69609c-af6e-4a97-863b-893388412282",
   "metadata": {},
   "outputs": [
    {
     "data": {
      "text/plain": [
       "Married     1444\n",
       "Single       487\n",
       "Divorced     232\n",
       "Widow         77\n",
       "Name: Marital_Status, dtype: int64"
      ]
     },
     "execution_count": 23,
     "metadata": {},
     "output_type": "execute_result"
    }
   ],
   "source": [
    "mt_df['Marital_Status'].value_counts()"
   ]
  },
  {
   "cell_type": "markdown",
   "id": "97c45d30-3553-4ad2-a3a5-0f6a36f3829f",
   "metadata": {},
   "source": [
    "## Step 3"
   ]
  },
  {
   "cell_type": "code",
   "execution_count": 24,
   "id": "e5f298b2-4ac2-463d-98fd-bdb35c111303",
   "metadata": {},
   "outputs": [],
   "source": [
    "## Step 3 Data Engineering\n",
    "\n",
    "mt_df['Total_Children'] = mt_df['Kidhome'] + mt_df['Teenhome']"
   ]
  },
  {
   "cell_type": "code",
   "execution_count": 25,
   "id": "308273bd-1425-4949-accd-10a518c8ed5a",
   "metadata": {},
   "outputs": [
    {
     "data": {
      "text/plain": [
       "1    1128\n",
       "0     638\n",
       "2     421\n",
       "3      53\n",
       "Name: Total_Children, dtype: int64"
      ]
     },
     "execution_count": 25,
     "metadata": {},
     "output_type": "execute_result"
    }
   ],
   "source": [
    "mt_df['Total_Children'].value_counts()"
   ]
  },
  {
   "cell_type": "code",
   "execution_count": 26,
   "id": "05b29be8-39c7-4557-a7be-fa0bff21c3ad",
   "metadata": {},
   "outputs": [],
   "source": [
    "## to get the Customer age to get spending info\n",
    "mt_df['Age'] = 2025 - mt_df['Year_Birth']"
   ]
  },
  {
   "cell_type": "code",
   "execution_count": 27,
   "id": "9de7ccd9-9b9a-4c50-b01b-80ae08967c80",
   "metadata": {},
   "outputs": [],
   "source": [
    "spend_cols = ['MntWines', 'MntFruits', 'MntMeatProducts', \n",
    "              'MntFishProducts', 'MntSweetProducts', 'MntGoldProds']\n"
   ]
  },
  {
   "cell_type": "code",
   "execution_count": 28,
   "id": "c2868b62-67e6-47de-bbe3-fc575f870c13",
   "metadata": {},
   "outputs": [],
   "source": [
    "\n",
    "mt_df['Total_Spend'] = mt_df[spend_cols].sum(axis=1)"
   ]
  },
  {
   "cell_type": "code",
   "execution_count": 29,
   "id": "9de5f45f-fa43-4e87-8e70-6e8cc4da6c87",
   "metadata": {},
   "outputs": [
    {
     "data": {
      "text/html": [
       "<div>\n",
       "<style scoped>\n",
       "    .dataframe tbody tr th:only-of-type {\n",
       "        vertical-align: middle;\n",
       "    }\n",
       "\n",
       "    .dataframe tbody tr th {\n",
       "        vertical-align: top;\n",
       "    }\n",
       "\n",
       "    .dataframe thead th {\n",
       "        text-align: right;\n",
       "    }\n",
       "</style>\n",
       "<table border=\"1\" class=\"dataframe\">\n",
       "  <thead>\n",
       "    <tr style=\"text-align: right;\">\n",
       "      <th></th>\n",
       "      <th>Total_Children</th>\n",
       "      <th>Age</th>\n",
       "      <th>Total_Spend</th>\n",
       "    </tr>\n",
       "  </thead>\n",
       "  <tbody>\n",
       "    <tr>\n",
       "      <th>count</th>\n",
       "      <td>2240.000000</td>\n",
       "      <td>2240.000000</td>\n",
       "      <td>2240.000000</td>\n",
       "    </tr>\n",
       "    <tr>\n",
       "      <th>mean</th>\n",
       "      <td>0.950446</td>\n",
       "      <td>56.194196</td>\n",
       "      <td>605.798214</td>\n",
       "    </tr>\n",
       "    <tr>\n",
       "      <th>std</th>\n",
       "      <td>0.751803</td>\n",
       "      <td>11.984069</td>\n",
       "      <td>602.249288</td>\n",
       "    </tr>\n",
       "    <tr>\n",
       "      <th>min</th>\n",
       "      <td>0.000000</td>\n",
       "      <td>29.000000</td>\n",
       "      <td>5.000000</td>\n",
       "    </tr>\n",
       "    <tr>\n",
       "      <th>25%</th>\n",
       "      <td>0.000000</td>\n",
       "      <td>48.000000</td>\n",
       "      <td>68.750000</td>\n",
       "    </tr>\n",
       "    <tr>\n",
       "      <th>50%</th>\n",
       "      <td>1.000000</td>\n",
       "      <td>55.000000</td>\n",
       "      <td>396.000000</td>\n",
       "    </tr>\n",
       "    <tr>\n",
       "      <th>75%</th>\n",
       "      <td>1.000000</td>\n",
       "      <td>66.000000</td>\n",
       "      <td>1045.500000</td>\n",
       "    </tr>\n",
       "    <tr>\n",
       "      <th>max</th>\n",
       "      <td>3.000000</td>\n",
       "      <td>132.000000</td>\n",
       "      <td>2525.000000</td>\n",
       "    </tr>\n",
       "  </tbody>\n",
       "</table>\n",
       "</div>"
      ],
      "text/plain": [
       "       Total_Children          Age  Total_Spend\n",
       "count     2240.000000  2240.000000  2240.000000\n",
       "mean         0.950446    56.194196   605.798214\n",
       "std          0.751803    11.984069   602.249288\n",
       "min          0.000000    29.000000     5.000000\n",
       "25%          0.000000    48.000000    68.750000\n",
       "50%          1.000000    55.000000   396.000000\n",
       "75%          1.000000    66.000000  1045.500000\n",
       "max          3.000000   132.000000  2525.000000"
      ]
     },
     "execution_count": 29,
     "metadata": {},
     "output_type": "execute_result"
    }
   ],
   "source": [
    "mt_df[['Total_Children', 'Age', 'Total_Spend']].describe()\n"
   ]
  },
  {
   "cell_type": "code",
   "execution_count": 30,
   "id": "af314a57-43d5-4a01-ad41-801775f66116",
   "metadata": {},
   "outputs": [],
   "source": [
    "channel_cols = ['NumWebPurchases', 'NumCatalogPurchases', 'NumStorePurchases']\n",
    "mt_df['Total_Purchases'] = mt_df[channel_cols].sum(axis=1)"
   ]
  },
  {
   "cell_type": "code",
   "execution_count": 31,
   "id": "130b33c9-f065-4a35-933b-018f5ac7babc",
   "metadata": {},
   "outputs": [
    {
     "data": {
      "text/plain": [
       "count    2240.000000\n",
       "mean       12.537054\n",
       "std         7.205741\n",
       "min         0.000000\n",
       "25%         6.000000\n",
       "50%        12.000000\n",
       "75%        18.000000\n",
       "max        32.000000\n",
       "Name: Total_Purchases, dtype: float64"
      ]
     },
     "execution_count": 31,
     "metadata": {},
     "output_type": "execute_result"
    }
   ],
   "source": [
    "mt_df['Total_Purchases'].describe()"
   ]
  },
  {
   "cell_type": "code",
   "execution_count": 32,
   "id": "8b0a2690-1d75-4038-8164-7922f4b80512",
   "metadata": {},
   "outputs": [
    {
     "data": {
      "text/html": [
       "<div>\n",
       "<style scoped>\n",
       "    .dataframe tbody tr th:only-of-type {\n",
       "        vertical-align: middle;\n",
       "    }\n",
       "\n",
       "    .dataframe tbody tr th {\n",
       "        vertical-align: top;\n",
       "    }\n",
       "\n",
       "    .dataframe thead th {\n",
       "        text-align: right;\n",
       "    }\n",
       "</style>\n",
       "<table border=\"1\" class=\"dataframe\">\n",
       "  <thead>\n",
       "    <tr style=\"text-align: right;\">\n",
       "      <th></th>\n",
       "      <th>NumWebPurchases</th>\n",
       "      <th>NumCatalogPurchases</th>\n",
       "      <th>NumStorePurchases</th>\n",
       "      <th>Total_Purchases</th>\n",
       "    </tr>\n",
       "  </thead>\n",
       "  <tbody>\n",
       "    <tr>\n",
       "      <th>0</th>\n",
       "      <td>4</td>\n",
       "      <td>4</td>\n",
       "      <td>6</td>\n",
       "      <td>14</td>\n",
       "    </tr>\n",
       "    <tr>\n",
       "      <th>1</th>\n",
       "      <td>7</td>\n",
       "      <td>3</td>\n",
       "      <td>7</td>\n",
       "      <td>17</td>\n",
       "    </tr>\n",
       "    <tr>\n",
       "      <th>2</th>\n",
       "      <td>3</td>\n",
       "      <td>2</td>\n",
       "      <td>5</td>\n",
       "      <td>10</td>\n",
       "    </tr>\n",
       "    <tr>\n",
       "      <th>3</th>\n",
       "      <td>1</td>\n",
       "      <td>0</td>\n",
       "      <td>2</td>\n",
       "      <td>3</td>\n",
       "    </tr>\n",
       "    <tr>\n",
       "      <th>4</th>\n",
       "      <td>3</td>\n",
       "      <td>1</td>\n",
       "      <td>2</td>\n",
       "      <td>6</td>\n",
       "    </tr>\n",
       "  </tbody>\n",
       "</table>\n",
       "</div>"
      ],
      "text/plain": [
       "   NumWebPurchases  NumCatalogPurchases  NumStorePurchases  Total_Purchases\n",
       "0                4                    4                  6               14\n",
       "1                7                    3                  7               17\n",
       "2                3                    2                  5               10\n",
       "3                1                    0                  2                3\n",
       "4                3                    1                  2                6"
      ]
     },
     "execution_count": 32,
     "metadata": {},
     "output_type": "execute_result"
    }
   ],
   "source": [
    "mt_df[['NumWebPurchases', 'NumCatalogPurchases', 'NumStorePurchases', 'Total_Purchases']].head()"
   ]
  },
  {
   "cell_type": "markdown",
   "id": "fde90567-787b-479f-b16b-afb2ce3b203f",
   "metadata": {},
   "source": [
    "## Step 4 Outlies"
   ]
  },
  {
   "cell_type": "code",
   "execution_count": 33,
   "id": "f540eec2-1327-4b8d-a4c2-12cff675bcdf",
   "metadata": {},
   "outputs": [
    {
     "data": {
      "image/png": "[encoded data removed]",
      "text/plain": [
       "<Figure size 432x288 with 5 Axes>"
      ]
     },
     "metadata": {
      "needs_background": "light"
     },
     "output_type": "display_data"
    }
   ],
   "source": [
    "cols_to_plot = ['Income', 'Age', 'Total_Children', 'Total_Spend', 'Total_Purchases']\n",
    "\n",
    "\n",
    "for i, col in enumerate(cols_to_plot, 1):\n",
    "    plt.subplot(2, 3, i)\n",
    "    sns.boxplot(x=mt_df[col])\n",
    "    plt.title(f'{col}')\n",
    "plt.tight_layout()\n",
    "plt.show()"
   ]
  },
  {
   "cell_type": "code",
   "execution_count": 34,
   "id": "cdde708a-71a1-4a49-84aa-1b9a3603e647",
   "metadata": {},
   "outputs": [
    {
     "data": {
      "text/plain": [
       "<seaborn.axisgrid.FacetGrid at 0x7f04cd696dd0>"
      ]
     },
     "execution_count": 34,
     "metadata": {},
     "output_type": "execute_result"
    },
    {
     "data": {
      "image/png": "[encoded data removed]",
      "text/plain": [
       "<Figure size 360x360 with 1 Axes>"
      ]
     },
     "metadata": {
      "needs_background": "light"
     },
     "output_type": "display_data"
    }
   ],
   "source": [
    "sns.displot()"
   ]
  },
  {
   "cell_type": "code",
   "execution_count": null,
   "id": "44bd14d7-9dcf-4dcd-a2d7-7bb8f74aa782",
   "metadata": {},
   "outputs": [],
   "source": []
  },
  {
   "cell_type": "code",
   "execution_count": 35,
   "id": "06f2fc60-320e-4d7a-9c9e-c0916fe1652a",
   "metadata": {},
   "outputs": [
    {
     "data": {
      "text/plain": [
       "<AxesSubplot: xlabel='Total_Purchases'>"
      ]
     },
     "execution_count": 35,
     "metadata": {},
     "output_type": "execute_result"
    },
    {
     "data": {
      "image/png": "[encoded data removed]",
      "text/plain": [
       "<Figure size 432x288 with 1 Axes>"
      ]
     },
     "metadata": {
      "needs_background": "light"
     },
     "output_type": "display_data"
    }
   ],
   "source": [
    "sns.boxplot(x=mt_df[col], color='skyblue', orient='h')\n"
   ]
  },
  {
   "cell_type": "markdown",
   "id": "9db8aca2-5876-4eff-b602-b08db9f88f5f",
   "metadata": {},
   "source": [
    "Outlier Treatment Using IQR (Clipping)\n",
    " Step 1: Define the function"
   ]
  },
  {
   "cell_type": "code",
   "execution_count": 39,
   "id": "cf731c42-e2e1-4b5e-b821-343f9e1cf589",
   "metadata": {},
   "outputs": [],
   "source": [
    "def clip_outliers_iqr(df, column):\n",
    "    Q1 = df[column].quantile(0.25)\n",
    "    Q3 = df[column].quantile(0.75)\n",
    "    IQR = Q3 - Q1\n",
    "    lower_bound = Q1 - 1.5 * IQR\n",
    "    upper_bound = Q3 + 1.5 * IQR\n",
    "    df[column] = df[column].clip(lower_bound, upper_bound)"
   ]
  },
  {
   "cell_type": "code",
   "execution_count": 40,
   "id": "ad53bb16-7c29-414d-a6d1-4f348a8e6982",
   "metadata": {},
   "outputs": [],
   "source": [
    "##Step 2: Apply to your target columns\n",
    "for col in cols_to_plot:\n",
    "    clip_outliers_iqr(mt_df, col)\n"
   ]
  },
  {
   "cell_type": "code",
   "execution_count": 41,
   "id": "cb696cb3-3cfc-4a70-9271-b53ccb13c3b4",
   "metadata": {},
   "outputs": [
    {
     "data": {
      "image/png": "[encoded data removed]",
      "text/plain": [
       "<Figure size 432x288 with 5 Axes>"
      ]
     },
     "metadata": {
      "needs_background": "light"
     },
     "output_type": "display_data"
    }
   ],
   "source": [
    "##Step 3 (Optional): Re-plot boxplots to confirm outliers are handled\n",
    "for i, col in enumerate(cols_to_plot, 1):\n",
    "    plt.subplot(2, 3, i)\n",
    "    sns.boxplot(x=mt_df[col], color='lightgreen')\n",
    "    plt.title(f'{col} (Post-treatment)')\n",
    "plt.tight_layout()\n",
    "plt.show()\n"
   ]
  },
  {
   "cell_type": "code",
   "execution_count": null,
   "id": "32e48950-82da-4dc1-8eb4-79d87ebddfe0",
   "metadata": {},
   "outputs": [],
   "source": []
  }
 ],
 "metadata": {
  "kernelspec": {
   "display_name": "Python 3 [3.10]",
   "language": "python",
   "name": "python3"
  },
  "language_info": {
   "codemirror_mode": {
    "name": "ipython",
    "version": 3
   },
   "file_extension": ".py",
   "mimetype": "text/x-python",
   "name": "python",
   "nbconvert_exporter": "python",
   "pygments_lexer": "ipython3",
   "version": "3.10.2"
  }
 },
 "nbformat": 4,
 "nbformat_minor": 5
}
