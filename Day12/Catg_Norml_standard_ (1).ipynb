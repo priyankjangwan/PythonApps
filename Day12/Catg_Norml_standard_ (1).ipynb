{
    "cells": [
        {
            "cell_type": "code",
            "execution_count": 2,
            "id": "be16ab4d-769f-4199-ac4d-232510e3d051",
            "metadata": {},
            "outputs": [],
            "source": [
                "import numpy as np\n",
                "import pandas as pd\n",
                "import seaborn as sns\n",
                "import matplotlib.pyplot as plt"
            ]
        },
        {
            "cell_type": "code",
            "execution_count": 8,
            "id": "08590f41-e79a-4ecd-8065-d39fad5a1747",
            "metadata": {},
            "outputs": [],
            "source": [
                "titanic_df =  pd.read_csv(\"Titanic.csv\")"
            ]
        },
        {
            "cell_type": "code",
            "execution_count": 9,
            "id": "e6da7a61-ae5a-414e-a12c-9cc29cdde857",
            "metadata": {},
            "outputs": [],
            "source": [
                "titanic_df.shape"
            ]
        },
        {
            "cell_type": "code",
            "execution_count": 10,
            "id": "32e02d9b-8f6b-4969-8305-8ca2bdde284f",
            "metadata": {},
            "outputs": [],
            "source": [
                "titanic_df.head()"
            ]
        },
        {
            "cell_type": "code",
            "execution_count": 11,
            "id": "9d1c68ff-ed80-482a-a6ec-e16afc497f14",
            "metadata": {},
            "outputs": [],
            "source": [
                "titanic_df.info()"
            ]
        },
        {
            "cell_type": "code",
            "execution_count": 17,
            "id": "982c8642-43b2-4ee9-bb95-4823db48dc56",
            "metadata": {},
            "outputs": [],
            "source": [
                "titanic_df['Sex'].value_counts() "
            ]
        },
        {
            "cell_type": "markdown",
            "id": "882fa99c-aff8-40aa-86b1-885f92ae3a92",
            "metadata": {},
            "source": [
                "More Femail than Male on boarded"
            ]
        },
        {
            "cell_type": "code",
            "execution_count": 18,
            "id": "56679c07-29a2-412e-b0e9-ce9dee896b70",
            "metadata": {},
            "outputs": [],
            "source": [
                "titanic_df['Survived'].value_counts() "
            ]
        },
        {
            "cell_type": "code",
            "execution_count": 22,
            "id": "03fead8a-f2fc-48c4-954a-12da3ed71b05",
            "metadata": {},
            "outputs": [],
            "source": [
                "titanic_df.groupby('Survived').agg({'Sex':'value_counts'})"
            ]
        },
        {
            "cell_type": "markdown",
            "id": "5085a059-eaad-49a5-91e0-25a147d5d120",
            "metadata": {},
            "source": [
                "More male were servived - 0 Survived , 1 - Not Survived"
            ]
        },
        {
            "cell_type": "code",
            "execution_count": null,
            "id": "7836aa27-d7ba-4c20-9559-f3f0254465ff",
            "metadata": {},
            "outputs": [],
            "source": [
                "## One hot encoding"
            ]
        },
        {
            "cell_type": "code",
            "execution_count": 31,
            "id": "2ebcb266-c642-465e-b460-66bef1cd517e",
            "metadata": {},
            "outputs": [],
            "source": [
                "new_df= pd.get_dummies(titanic_df,columns=['Sex','Embarked'])"
            ]
        },
        {
            "cell_type": "code",
            "execution_count": 33,
            "id": "0d791fed-7474-41bb-8929-ae2eedc4238f",
            "metadata": {},
            "outputs": [],
            "source": [
                "#Reduce column with same info"
            ]
        },
        {
            "cell_type": "code",
            "execution_count": 37,
            "id": "9a1f29fe-1900-43b0-b8d2-67bcf4ca3e19",
            "metadata": {},
            "outputs": [],
            "source": [
                " new_df = pd.get_dummies(titanic_df,columns=['Sex','Embarked'],drop_first=True)"
            ]
        },
        {
            "cell_type": "code",
            "execution_count": 39,
            "id": "6a508ebc-33d4-444f-bda5-5723a45a64b0",
            "metadata": {},
            "outputs": [],
            "source": [
                "new_df.info()"
            ]
        },
        {
            "cell_type": "code",
            "execution_count": 42,
            "id": "147cd448-b132-4030-9676-a28ecfe5ef83",
            "metadata": {},
            "outputs": [],
            "source": [
                "from sklearn.preprocessing import LabelEncoder"
            ]
        },
        {
            "cell_type": "code",
            "execution_count": 44,
            "id": "d12d8659-3cbd-46dd-a742-9a208a007fbf",
            "metadata": {},
            "outputs": [],
            "source": [
                "le_encoder = LabelEncoder()"
            ]
        },
        {
            "cell_type": "code",
            "execution_count": 45,
            "id": "d5625617-5612-4bb5-b8b3-d4413c7ceff5",
            "metadata": {},
            "outputs": [],
            "source": [
                "titanic_df['Encoder_Gender'] = le_encoder.fit_transform(titanic_df['Sex'])"
            ]
        },
        {
            "cell_type": "code",
            "execution_count": 46,
            "id": "bbd664e6-c6c7-4915-97df-dbd589f992a5",
            "metadata": {},
            "outputs": [],
            "source": [
                "titanic_df.head()"
            ]
        },
        {
            "cell_type": "code",
            "execution_count": 51,
            "id": "45df548e-4c7c-4504-b466-74139cfe196d",
            "metadata": {},
            "outputs": [],
            "source": [
                "titanic_df['Encoded_Embark'] = le_encoder.fit_transform(titanic_df['Embarked'])"
            ]
        },
        {
            "cell_type": "code",
            "execution_count": 52,
            "id": "e5c51c16-06d4-45e7-8208-bc8d5cbb6089",
            "metadata": {},
            "outputs": [],
            "source": [
                "titanic_df['Encoded_Embark'].value_counts()"
            ]
        },
        {
            "cell_type": "code",
            "execution_count": 50,
            "id": "e8cf1d21-f37f-45eb-bf50-fed72b24e8a2",
            "metadata": {},
            "outputs": [],
            "source": [
                "titanic_df['Embarked'].unique()"
            ]
        },
        {
            "cell_type": "code",
            "execution_count": null,
            "id": "3e201767-419e-4be6-9010-cffa572ef0fa",
            "metadata": {},
            "outputs": [],
            "source": []
        }
    ],
    "metadata": {
        "kernelspec": {
            "display_name": "Python 3 [3.10]",
            "language": "python",
            "name": "python3"
        },
        "language_info": {
            "codemirror_mode": {
                "name": "ipython",
                "version": 3
            },
            "file_extension": ".py",
            "mimetype": "text/x-python",
            "name": "python",
            "nbconvert_exporter": "python",
            "pygments_lexer": "ipython3",
            "version": "3.10.2"
        }
    },
    "nbformat": 4,
    "nbformat_minor": 5
}