{
    "cells": [
        {
            "cell_type": "code",
            "execution_count": 36,
            "metadata": {},
            "outputs": [],
            "source": [
                "import numpy as np\n",
                "import pandas as pd\n",
                "import seaborn as sns\n",
                "import matplotlib.pyplot as plt"
            ]
        },
        {
            "cell_type": "code",
            "execution_count": null,
            "metadata": {},
            "outputs": [],
            "source": []
        },
        {
            "cell_type": "code",
            "execution_count": 37,
            "metadata": {},
            "outputs": [],
            "source": [
                "movies_df = pd.read_csv(\"movie_metadata.csv\")\n",
                "print (\"data-frame shape: \", movies_df.shape)"
            ]
        },
        {
            "cell_type": "code",
            "execution_count": 38,
            "metadata": {},
            "outputs": [],
            "source": [
                "print (\"column names: \", movies_df.columns.values)"
            ]
        },
        {
            "cell_type": "code",
            "execution_count": 39,
            "metadata": {},
            "outputs": [],
            "source": [
                "print(movies_df.isnull().sum())"
            ]
        },
        {
            "cell_type": "code",
            "execution_count": 40,
            "metadata": {},
            "outputs": [],
            "source": [
                "print (\"total null values: \", movies_df.isna().sum().sum())"
            ]
        },
        {
            "cell_type": "code",
            "execution_count": 41,
            "metadata": {},
            "outputs": [],
            "source": [
                "clean_movies_df = movies_df.dropna(how='any')"
            ]
        },
        {
            "cell_type": "code",
            "execution_count": 42,
            "metadata": {},
            "outputs": [],
            "source": [
                "print (\"new dataframe shape: \", clean_movies_df.shape)\n",
                "print (\"old dataframe shape:\", movies_df.shape)"
            ]
        },
        {
            "cell_type": "code",
            "execution_count": 43,
            "metadata": {},
            "outputs": [],
            "source": [
                "movies_df.fillna(value=0, inplace = True)"
            ]
        },
        {
            "cell_type": "code",
            "execution_count": 44,
            "metadata": {},
            "outputs": [],
            "source": [
                "movies_df[['gross', 'budget']] = movies_df[['gross', 'budget']].fillna(value=0)"
            ]
        },
        {
            "cell_type": "code",
            "execution_count": 45,
            "metadata": {},
            "outputs": [],
            "source": [
                "movies_df['language'].fillna(\"no info\", inplace=True)"
            ]
        },
        {
            "cell_type": "code",
            "execution_count": 46,
            "metadata": {},
            "outputs": [],
            "source": [
                "movies_df['budget'].fillna(movies_df['budget'].mean(), inplace=True)"
            ]
        },
        {
            "cell_type": "code",
            "execution_count": 47,
            "metadata": {},
            "outputs": [],
            "source": [
                "duplicate_rows_df = movies_df[movies_df.duplicated()]"
            ]
        },
        {
            "cell_type": "code",
            "execution_count": 48,
            "metadata": {},
            "outputs": [],
            "source": [
                "print (\"number of duplicate rows: \", duplicate_rows_df.shape)"
            ]
        },
        {
            "cell_type": "code",
            "execution_count": 49,
            "metadata": {},
            "outputs": [],
            "source": [
                "duplicated_rows_df_imdb_link= movies_df[movies_df.duplicated(['movie_imdb_link'])]"
            ]
        },
        {
            "cell_type": "code",
            "execution_count": 50,
            "metadata": {},
            "outputs": [],
            "source": [
                "print(movies_df.duplicated(['movie_imdb_link']))"
            ]
        },
        {
            "cell_type": "code",
            "execution_count": 51,
            "metadata": {},
            "outputs": [],
            "source": [
                "print (duplicated_rows_df_imdb_link.shape)"
            ]
        },
        {
            "cell_type": "code",
            "execution_count": 52,
            "metadata": {},
            "outputs": [],
            "source": [
                "op_labels = ['poor', 'moderate', 'good']\n",
                "category = [0.,4.,7.,10.]\n",
                "movies_df['imdb_labels'] = pd.cut(movies_df['imdb_score'], labels=op_labels, bins=category)"
            ]
        },
        {
            "cell_type": "code",
            "execution_count": 53,
            "metadata": {},
            "outputs": [],
            "source": [
                "print (movies_df[['movie_title', 'imdb_score', 'imdb_labels']][100:200])"
            ]
        },
        {
            "cell_type": "code",
            "execution_count": 54,
            "metadata": {},
            "outputs": [],
            "source": [
                "sns.boxplot(x=movies_df['facenumber_in_poster'], color='red')\n",
                "plt.xlabel('No. of Actors Featured in Poster', fontsize=14)\n",
                "plt.show()"
            ]
        },
        {
            "cell_type": "code",
            "execution_count": 55,
            "metadata": {},
            "outputs": [],
            "source": [
                "print (movies_df[['movie_title', 'facenumber_in_poster']].iloc[movies_df['facenumber_in_poster'].idxmax()])"
            ]
        },
        {
            "cell_type": "code",
            "execution_count": 56,
            "metadata": {},
            "outputs": [],
            "source": [
                "print (movies_df['facenumber_in_poster'].describe())"
            ]
        },
        {
            "cell_type": "code",
            "execution_count": 57,
            "metadata": {},
            "outputs": [],
            "source": [
                "def outlier_treatment(datacolumn):\n",
                "    sorted(datacolumn)\n",
                "    Q1,Q3 = np.percentile(datacolumn , [25,75])\n",
                "    IQR = Q3 - Q1\n",
                "    lower_range = Q1 - (1.5 * IQR)\n",
                "    upper_range = Q3 + (1.5 * IQR)\n",
                "    return lower_range,upper_range"
            ]
        },
        {
            "cell_type": "code",
            "execution_count": 58,
            "metadata": {},
            "outputs": [],
            "source": [
                "l,u = outlier_treatment(movies_df.facenumber_in_poster)"
            ]
        },
        {
            "cell_type": "code",
            "execution_count": 59,
            "metadata": {},
            "outputs": [],
            "source": [
                "l"
            ]
        },
        {
            "cell_type": "code",
            "execution_count": 60,
            "metadata": {},
            "outputs": [],
            "source": [
                "u"
            ]
        },
        {
            "cell_type": "code",
            "execution_count": 61,
            "metadata": {},
            "outputs": [],
            "source": [
                "movies_df[ (movies_df.facenumber_in_poster > u) | (movies_df.facenumber_in_poster < l) ]"
            ]
        },
        {
            "cell_type": "code",
            "execution_count": 81,
            "metadata": {},
            "outputs": [],
            "source": [
                "movies_df.drop(movies_df[ (movies_df.facenumber_in_poster > u) | (movies_df.facenumber_in_poster < l) ].index , inplace=True)"
            ]
        },
        {
            "cell_type": "code",
            "execution_count": 82,
            "metadata": {},
            "outputs": [],
            "source": [
                "sns.boxplot(movies_df.facenumber_in_poster)"
            ]
        },
        {
            "cell_type": "code",
            "execution_count": 86,
            "metadata": {},
            "outputs": [],
            "source": [
                "movies_df.dtypes"
            ]
        },
        {
            "cell_type": "code",
            "execution_count": null,
            "metadata": {},
            "outputs": [],
            "source": []
        }
    ],
    "metadata": {
        "kernelspec": {
            "display_name": "Python 3 [3.10]",
            "language": "python",
            "name": "python3"
        },
        "language_info": {
            "codemirror_mode": {
                "name": "ipython",
                "version": 3
            },
            "file_extension": ".py",
            "mimetype": "text/x-python",
            "name": "python",
            "nbconvert_exporter": "python",
            "pygments_lexer": "ipython3",
            "version": "3.10.2"
        }
    },
    "nbformat": 4,
    "nbformat_minor": 4
}