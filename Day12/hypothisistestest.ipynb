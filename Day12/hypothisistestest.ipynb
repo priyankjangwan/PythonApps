{
 "cells": [
  {
   "cell_type": "code",
   "execution_count": 18,
   "id": "946601d6-5a2b-475a-8180-a30970e3ba17",
   "metadata": {},
   "outputs": [],
   "source": [
    "import numpy as np\n",
    "import pandas as pd\n",
    "import matplotlib.pyplot as plt\n",
    "from scipy.stats import ttest_1samp,ttest_ind"
   ]
  },
  {
   "cell_type": "code",
   "execution_count": 19,
   "id": "74bffee3-92d4-4434-a27b-c0017d01ba68",
   "metadata": {},
   "outputs": [],
   "source": [
    "sample = [52000,51000,49500,53000,48000,50000,50500,51500,49800,49000] # salary data for sample of 10\n",
    "given_avg_for_salary_data = 50000 # for whole population"
   ]
  },
  {
   "cell_type": "code",
   "execution_count": 20,
   "id": "c1f399a3-7765-4eae-a217-2ce972f405f3",
   "metadata": {},
   "outputs": [
    {
     "data": {
      "text/plain": [
       "Ttest_1sampResult(statistic=0.9135161792978956, pvalue=0.3847901317073621)"
      ]
     },
     "execution_count": 20,
     "metadata": {},
     "output_type": "execute_result"
    }
   ],
   "source": [
    "ttest_1samp(sample,given_avg_for_salary_data)\n"
   ]
  },
  {
   "cell_type": "code",
   "execution_count": 24,
   "id": "1364f34c-da09-4f61-8539-f3f825304fb6",
   "metadata": {},
   "outputs": [],
   "source": [
    "class_a = [85,90,88,75,95]\n",
    "class_b = [80,70,78,85,82]\n",
    "result = ttest_ind(class_a,class_b)"
   ]
  },
  {
   "cell_type": "code",
   "execution_count": 25,
   "id": "9c9b2658-53b7-4a48-9c65-fad15cf0d166",
   "metadata": {},
   "outputs": [
    {
     "name": "stdout",
     "output_type": "stream",
     "text": [
      "Ttest_indResult(statistic=1.818827335164935, pvalue=0.10644300564634536)\n"
     ]
    }
   ],
   "source": [
    "print(result)"
   ]
  },
  {
   "cell_type": "code",
   "execution_count": null,
   "id": "5478b8c4-ac23-4128-9fcc-a3020ffacaab",
   "metadata": {},
   "outputs": [],
   "source": []
  }
 ],
 "metadata": {
  "kernelspec": {
   "display_name": "Python 3 [3.10]",
   "language": "python",
   "name": "python3"
  },
  "language_info": {
   "codemirror_mode": {
    "name": "ipython",
    "version": 3
   },
   "file_extension": ".py",
   "mimetype": "text/x-python",
   "name": "python",
   "nbconvert_exporter": "python",
   "pygments_lexer": "ipython3",
   "version": "3.10.2"
  }
 },
 "nbformat": 4,
 "nbformat_minor": 5
}
