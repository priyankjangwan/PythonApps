{
    "cells": [
        {
            "cell_type": "code",
            "execution_count": 1,
            "id": "ae7873e6-66eb-4f65-9292-d55add2a4f30",
            "metadata": {},
            "outputs": [],
            "source": [
                "import numpy as np\n",
                "import pandas as pd\n"
            ]
        },
        {
            "cell_type": "code",
            "execution_count": 2,
            "id": "3f8c8dcd-a21a-47de-b17f-e1bf28dffcd7",
            "metadata": {},
            "outputs": [],
            "source": [
                "sample_date={'Date':['2025-03-22','2025-03-21','2025-03-20']}"
            ]
        },
        {
            "cell_type": "code",
            "execution_count": 3,
            "id": "a1c8d417-fd96-4345-9a67-0b161a23cd32",
            "metadata": {},
            "outputs": [],
            "source": [
                "sample_date"
            ]
        },
        {
            "cell_type": "code",
            "execution_count": 6,
            "id": "c342826a-f2a9-42e5-a702-d680ed3f963f",
            "metadata": {},
            "outputs": [],
            "source": [
                "sample_df = pd.DataFrame(sample_date)"
            ]
        },
        {
            "cell_type": "code",
            "execution_count": 7,
            "id": "72a0df7b-404e-4f35-bfd5-9b2585f72316",
            "metadata": {},
            "outputs": [],
            "source": [
                "sample_df"
            ]
        },
        {
            "cell_type": "code",
            "execution_count": 8,
            "id": "3727db9f-e1af-48db-9245-7de8fc8626cf",
            "metadata": {},
            "outputs": [],
            "source": [
                "sample_df.info()"
            ]
        },
        {
            "cell_type": "code",
            "execution_count": 9,
            "id": "e8093065-81fa-40fa-a9e1-140310dc3bf3",
            "metadata": {},
            "outputs": [],
            "source": [
                "sample_df['ConvertedDate']=pd.to_datetime(sammple_df['Date'])"
            ]
        },
        {
            "cell_type": "code",
            "execution_count": 10,
            "id": "7d430347-358f-4be1-8501-a11211171ac6",
            "metadata": {},
            "outputs": [],
            "source": [
                "sample_df"
            ]
        },
        {
            "cell_type": "code",
            "execution_count": 11,
            "id": "dd62d151-2eb7-467c-b5d4-1e3d1fc6f4b0",
            "metadata": {},
            "outputs": [],
            "source": [
                "sample_df.info()"
            ]
        },
        {
            "cell_type": "code",
            "execution_count": 17,
            "id": "46576e89-1b81-420c-9125-cc20f22a18f3",
            "metadata": {},
            "outputs": [],
            "source": [
                "sample_df['Month']=sample_df['ConvertedDate'].dt.month"
            ]
        },
        {
            "cell_type": "code",
            "execution_count": 19,
            "id": "282c2920-6c65-4c59-8365-c30e23591f87",
            "metadata": {},
            "outputs": [],
            "source": [
                "sample_df['Day']=sample_df['ConvertedDate'].dt.day"
            ]
        },
        {
            "cell_type": "code",
            "execution_count": 20,
            "id": "d00caf11-d20d-4d5f-bcde-db2eafa651c9",
            "metadata": {},
            "outputs": [],
            "source": [
                "sample_df"
            ]
        },
        {
            "cell_type": "code",
            "execution_count": 31,
            "id": "f4e1401b-4f8d-474d-b267-8c785b70f6c6",
            "metadata": {},
            "outputs": [],
            "source": [
                "sample_date2={'Date':['2025-03-22','2025-03-21','2025-03-20','2024-03-12','2015-12-21','2012-06-28']}"
            ]
        },
        {
            "cell_type": "code",
            "execution_count": 32,
            "id": "2ebd1dbd-465a-4e75-99ee-80ff4e895a33",
            "metadata": {},
            "outputs": [],
            "source": [
                "sample_df2 = pd.DataFrame(sample_date2)"
            ]
        },
        {
            "cell_type": "code",
            "execution_count": 33,
            "id": "ec733f67-f7a2-4154-a324-608c91e5620b",
            "metadata": {},
            "outputs": [],
            "source": [
                "sample_df2"
            ]
        },
        {
            "cell_type": "code",
            "execution_count": 34,
            "id": "55deec97-395e-40e9-ad8d-d434845e8747",
            "metadata": {},
            "outputs": [],
            "source": [
                "sample_df2['FormatedDate'] = pd.to_datetime(sample_df2['Date'],format='%Y-%m-%d')"
            ]
        },
        {
            "cell_type": "code",
            "execution_count": 35,
            "id": "fa6e216c-bb73-48fc-9b30-a21ec2f05d67",
            "metadata": {},
            "outputs": [],
            "source": [
                "sample_df2"
            ]
        },
        {
            "cell_type": "code",
            "execution_count": 36,
            "id": "e799483d-dfb7-4a74-9fdd-99732c084bbc",
            "metadata": {},
            "outputs": [],
            "source": [
                "sample_df2['Day']=sample_df2['FormatedDate'].dt.day"
            ]
        },
        {
            "cell_type": "code",
            "execution_count": 41,
            "id": "2bba4da1-39e5-4219-833b-8ffd2abe22d0",
            "metadata": {},
            "outputs": [],
            "source": [
                "sample_df2['Month']=sample_df2['FormatedDate'].dt.month"
            ]
        },
        {
            "cell_type": "code",
            "execution_count": 42,
            "id": "f4d9e6c5-ba66-4a64-831e-1bd211e4a0a2",
            "metadata": {},
            "outputs": [],
            "source": [
                "sample_df2['Year']=sample_df2['FormatedDate'].dt.year"
            ]
        },
        {
            "cell_type": "code",
            "execution_count": 43,
            "id": "f740ac97-83ff-47cf-a813-9027acee9a46",
            "metadata": {},
            "outputs": [],
            "source": [
                "sample_df2"
            ]
        },
        {
            "cell_type": "code",
            "execution_count": null,
            "id": "908bca3a-a2ec-46f4-a86f-69a02ccb99f0",
            "metadata": {},
            "outputs": [],
            "source": []
        }
    ],
    "metadata": {
        "kernelspec": {
            "display_name": "Python 3 [3.10]",
            "language": "python",
            "name": "python3"
        },
        "language_info": {
            "codemirror_mode": {
                "name": "ipython",
                "version": 3
            },
            "file_extension": ".py",
            "mimetype": "text/x-python",
            "name": "python",
            "nbconvert_exporter": "python",
            "pygments_lexer": "ipython3",
            "version": "3.10.2"
        }
    },
    "nbformat": 4,
    "nbformat_minor": 5
}