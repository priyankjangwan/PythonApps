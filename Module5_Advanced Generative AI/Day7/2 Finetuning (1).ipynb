{
  "nbformat": 4,
  "nbformat_minor": 0,
  "metadata": {
    "colab": {
      "provenance": [],
      "machine_shape": "hm",
      "gpuType": "A100"
    },
    "kernelspec": {
      "name": "python3",
      "display_name": "Python 3"
    },
    "language_info": {
      "name": "python"
    },
    "accelerator": "GPU",
    "widgets": {
      "application/vnd.jupyter.widget-state+json": {
        "f091eeb1ccc3461c8db58d8d74a2e9e4": {
          "model_module": "@jupyter-widgets/controls",
          "model_name": "HBoxModel",
          "model_module_version": "1.5.0",
          "state": {
            "_dom_classes": [],
            "_model_module": "@jupyter-widgets/controls",
            "_model_module_version": "1.5.0",
            "_model_name": "HBoxModel",
            "_view_count": null,
            "_view_module": "@jupyter-widgets/controls",
            "_view_module_version": "1.5.0",
            "_view_name": "HBoxView",
            "box_style": "",
            "children": [
              "IPY_MODEL_4eee620f4f14461d8a569904d724ad4f",
              "IPY_MODEL_a587d2ce1a404573a61b45d54a929270",
              "IPY_MODEL_e7838327647840adb75e93e34d9ce222"
            ],
            "layout": "IPY_MODEL_85555feb6c5644b3bb9930b68a601485"
          }
        },
        "4eee620f4f14461d8a569904d724ad4f": {
          "model_module": "@jupyter-widgets/controls",
          "model_name": "HTMLModel",
          "model_module_version": "1.5.0",
          "state": {
            "_dom_classes": [],
            "_model_module": "@jupyter-widgets/controls",
            "_model_module_version": "1.5.0",
            "_model_name": "HTMLModel",
            "_view_count": null,
            "_view_module": "@jupyter-widgets/controls",
            "_view_module_version": "1.5.0",
            "_view_name": "HTMLView",
            "description": "",
            "description_tooltip": null,
            "layout": "IPY_MODEL_24939fc23a5d400488a8981454fce6e3",
            "placeholder": "​",
            "style": "IPY_MODEL_d5bd4cc64d7a467a988d0b1dfddb83d1",
            "value": "Map: 100%"
          }
        },
        "a587d2ce1a404573a61b45d54a929270": {
          "model_module": "@jupyter-widgets/controls",
          "model_name": "FloatProgressModel",
          "model_module_version": "1.5.0",
          "state": {
            "_dom_classes": [],
            "_model_module": "@jupyter-widgets/controls",
            "_model_module_version": "1.5.0",
            "_model_name": "FloatProgressModel",
            "_view_count": null,
            "_view_module": "@jupyter-widgets/controls",
            "_view_module_version": "1.5.0",
            "_view_name": "ProgressView",
            "bar_style": "success",
            "description": "",
            "description_tooltip": null,
            "layout": "IPY_MODEL_78b2f5b5e0cf43788abeae684b34e97b",
            "max": 12800,
            "min": 0,
            "orientation": "horizontal",
            "style": "IPY_MODEL_0099d56833dc44ff927f0bc783db039e",
            "value": 12800
          }
        },
        "e7838327647840adb75e93e34d9ce222": {
          "model_module": "@jupyter-widgets/controls",
          "model_name": "HTMLModel",
          "model_module_version": "1.5.0",
          "state": {
            "_dom_classes": [],
            "_model_module": "@jupyter-widgets/controls",
            "_model_module_version": "1.5.0",
            "_model_name": "HTMLModel",
            "_view_count": null,
            "_view_module": "@jupyter-widgets/controls",
            "_view_module_version": "1.5.0",
            "_view_name": "HTMLView",
            "description": "",
            "description_tooltip": null,
            "layout": "IPY_MODEL_74433d83dd624e21813270d74eb191a9",
            "placeholder": "​",
            "style": "IPY_MODEL_f45f3859d25a48b0bbd635e49ef3fab7",
            "value": " 12800/12800 [00:01&lt;00:00, 9371.10 examples/s]"
          }
        },
        "85555feb6c5644b3bb9930b68a601485": {
          "model_module": "@jupyter-widgets/base",
          "model_name": "LayoutModel",
          "model_module_version": "1.2.0",
          "state": {
            "_model_module": "@jupyter-widgets/base",
            "_model_module_version": "1.2.0",
            "_model_name": "LayoutModel",
            "_view_count": null,
            "_view_module": "@jupyter-widgets/base",
            "_view_module_version": "1.2.0",
            "_view_name": "LayoutView",
            "align_content": null,
            "align_items": null,
            "align_self": null,
            "border": null,
            "bottom": null,
            "display": null,
            "flex": null,
            "flex_flow": null,
            "grid_area": null,
            "grid_auto_columns": null,
            "grid_auto_flow": null,
            "grid_auto_rows": null,
            "grid_column": null,
            "grid_gap": null,
            "grid_row": null,
            "grid_template_areas": null,
            "grid_template_columns": null,
            "grid_template_rows": null,
            "height": null,
            "justify_content": null,
            "justify_items": null,
            "left": null,
            "margin": null,
            "max_height": null,
            "max_width": null,
            "min_height": null,
            "min_width": null,
            "object_fit": null,
            "object_position": null,
            "order": null,
            "overflow": null,
            "overflow_x": null,
            "overflow_y": null,
            "padding": null,
            "right": null,
            "top": null,
            "visibility": null,
            "width": null
          }
        },
        "24939fc23a5d400488a8981454fce6e3": {
          "model_module": "@jupyter-widgets/base",
          "model_name": "LayoutModel",
          "model_module_version": "1.2.0",
          "state": {
            "_model_module": "@jupyter-widgets/base",
            "_model_module_version": "1.2.0",
            "_model_name": "LayoutModel",
            "_view_count": null,
            "_view_module": "@jupyter-widgets/base",
            "_view_module_version": "1.2.0",
            "_view_name": "LayoutView",
            "align_content": null,
            "align_items": null,
            "align_self": null,
            "border": null,
            "bottom": null,
            "display": null,
            "flex": null,
            "flex_flow": null,
            "grid_area": null,
            "grid_auto_columns": null,
            "grid_auto_flow": null,
            "grid_auto_rows": null,
            "grid_column": null,
            "grid_gap": null,
            "grid_row": null,
            "grid_template_areas": null,
            "grid_template_columns": null,
            "grid_template_rows": null,
            "height": null,
            "justify_content": null,
            "justify_items": null,
            "left": null,
            "margin": null,
            "max_height": null,
            "max_width": null,
            "min_height": null,
            "min_width": null,
            "object_fit": null,
            "object_position": null,
            "order": null,
            "overflow": null,
            "overflow_x": null,
            "overflow_y": null,
            "padding": null,
            "right": null,
            "top": null,
            "visibility": null,
            "width": null
          }
        },
        "d5bd4cc64d7a467a988d0b1dfddb83d1": {
          "model_module": "@jupyter-widgets/controls",
          "model_name": "DescriptionStyleModel",
          "model_module_version": "1.5.0",
          "state": {
            "_model_module": "@jupyter-widgets/controls",
            "_model_module_version": "1.5.0",
            "_model_name": "DescriptionStyleModel",
            "_view_count": null,
            "_view_module": "@jupyter-widgets/base",
            "_view_module_version": "1.2.0",
            "_view_name": "StyleView",
            "description_width": ""
          }
        },
        "78b2f5b5e0cf43788abeae684b34e97b": {
          "model_module": "@jupyter-widgets/base",
          "model_name": "LayoutModel",
          "model_module_version": "1.2.0",
          "state": {
            "_model_module": "@jupyter-widgets/base",
            "_model_module_version": "1.2.0",
            "_model_name": "LayoutModel",
            "_view_count": null,
            "_view_module": "@jupyter-widgets/base",
            "_view_module_version": "1.2.0",
            "_view_name": "LayoutView",
            "align_content": null,
            "align_items": null,
            "align_self": null,
            "border": null,
            "bottom": null,
            "display": null,
            "flex": null,
            "flex_flow": null,
            "grid_area": null,
            "grid_auto_columns": null,
            "grid_auto_flow": null,
            "grid_auto_rows": null,
            "grid_column": null,
            "grid_gap": null,
            "grid_row": null,
            "grid_template_areas": null,
            "grid_template_columns": null,
            "grid_template_rows": null,
            "height": null,
            "justify_content": null,
            "justify_items": null,
            "left": null,
            "margin": null,
            "max_height": null,
            "max_width": null,
            "min_height": null,
            "min_width": null,
            "object_fit": null,
            "object_position": null,
            "order": null,
            "overflow": null,
            "overflow_x": null,
            "overflow_y": null,
            "padding": null,
            "right": null,
            "top": null,
            "visibility": null,
            "width": null
          }
        },
        "0099d56833dc44ff927f0bc783db039e": {
          "model_module": "@jupyter-widgets/controls",
          "model_name": "ProgressStyleModel",
          "model_module_version": "1.5.0",
          "state": {
            "_model_module": "@jupyter-widgets/controls",
            "_model_module_version": "1.5.0",
            "_model_name": "ProgressStyleModel",
            "_view_count": null,
            "_view_module": "@jupyter-widgets/base",
            "_view_module_version": "1.2.0",
            "_view_name": "StyleView",
            "bar_color": null,
            "description_width": ""
          }
        },
        "74433d83dd624e21813270d74eb191a9": {
          "model_module": "@jupyter-widgets/base",
          "model_name": "LayoutModel",
          "model_module_version": "1.2.0",
          "state": {
            "_model_module": "@jupyter-widgets/base",
            "_model_module_version": "1.2.0",
            "_model_name": "LayoutModel",
            "_view_count": null,
            "_view_module": "@jupyter-widgets/base",
            "_view_module_version": "1.2.0",
            "_view_name": "LayoutView",
            "align_content": null,
            "align_items": null,
            "align_self": null,
            "border": null,
            "bottom": null,
            "display": null,
            "flex": null,
            "flex_flow": null,
            "grid_area": null,
            "grid_auto_columns": null,
            "grid_auto_flow": null,
            "grid_auto_rows": null,
            "grid_column": null,
            "grid_gap": null,
            "grid_row": null,
            "grid_template_areas": null,
            "grid_template_columns": null,
            "grid_template_rows": null,
            "height": null,
            "justify_content": null,
            "justify_items": null,
            "left": null,
            "margin": null,
            "max_height": null,
            "max_width": null,
            "min_height": null,
            "min_width": null,
            "object_fit": null,
            "object_position": null,
            "order": null,
            "overflow": null,
            "overflow_x": null,
            "overflow_y": null,
            "padding": null,
            "right": null,
            "top": null,
            "visibility": null,
            "width": null
          }
        },
        "f45f3859d25a48b0bbd635e49ef3fab7": {
          "model_module": "@jupyter-widgets/controls",
          "model_name": "DescriptionStyleModel",
          "model_module_version": "1.5.0",
          "state": {
            "_model_module": "@jupyter-widgets/controls",
            "_model_module_version": "1.5.0",
            "_model_name": "DescriptionStyleModel",
            "_view_count": null,
            "_view_module": "@jupyter-widgets/base",
            "_view_module_version": "1.2.0",
            "_view_name": "StyleView",
            "description_width": ""
          }
        },
        "409b671b6495473e8942f98bdc1a6c18": {
          "model_module": "@jupyter-widgets/controls",
          "model_name": "HBoxModel",
          "model_module_version": "1.5.0",
          "state": {
            "_dom_classes": [],
            "_model_module": "@jupyter-widgets/controls",
            "_model_module_version": "1.5.0",
            "_model_name": "HBoxModel",
            "_view_count": null,
            "_view_module": "@jupyter-widgets/controls",
            "_view_module_version": "1.5.0",
            "_view_name": "HBoxView",
            "box_style": "",
            "children": [
              "IPY_MODEL_8431bc2a33ee4fd69805eec9acfbff19",
              "IPY_MODEL_d26eab0cc31441d1b872c1acb1183eba",
              "IPY_MODEL_f68a9914aece4294bb28eadf15344aa8"
            ],
            "layout": "IPY_MODEL_6f34941806004c5eb752b8ece7295bb1"
          }
        },
        "8431bc2a33ee4fd69805eec9acfbff19": {
          "model_module": "@jupyter-widgets/controls",
          "model_name": "HTMLModel",
          "model_module_version": "1.5.0",
          "state": {
            "_dom_classes": [],
            "_model_module": "@jupyter-widgets/controls",
            "_model_module_version": "1.5.0",
            "_model_name": "HTMLModel",
            "_view_count": null,
            "_view_module": "@jupyter-widgets/controls",
            "_view_module_version": "1.5.0",
            "_view_name": "HTMLView",
            "description": "",
            "description_tooltip": null,
            "layout": "IPY_MODEL_f18f5d6f128f45aa92c2351fbcb1755a",
            "placeholder": "​",
            "style": "IPY_MODEL_56b3611ce454454d86112d9f9b5121f5",
            "value": "Map: 100%"
          }
        },
        "d26eab0cc31441d1b872c1acb1183eba": {
          "model_module": "@jupyter-widgets/controls",
          "model_name": "FloatProgressModel",
          "model_module_version": "1.5.0",
          "state": {
            "_dom_classes": [],
            "_model_module": "@jupyter-widgets/controls",
            "_model_module_version": "1.5.0",
            "_model_name": "FloatProgressModel",
            "_view_count": null,
            "_view_module": "@jupyter-widgets/controls",
            "_view_module_version": "1.5.0",
            "_view_name": "ProgressView",
            "bar_style": "success",
            "description": "",
            "description_tooltip": null,
            "layout": "IPY_MODEL_6b8bbe0e60934a8b9c90f4a5f35d0050",
            "max": 3200,
            "min": 0,
            "orientation": "horizontal",
            "style": "IPY_MODEL_78ae9ac192514f91b773302f5dd34a0b",
            "value": 3200
          }
        },
        "f68a9914aece4294bb28eadf15344aa8": {
          "model_module": "@jupyter-widgets/controls",
          "model_name": "HTMLModel",
          "model_module_version": "1.5.0",
          "state": {
            "_dom_classes": [],
            "_model_module": "@jupyter-widgets/controls",
            "_model_module_version": "1.5.0",
            "_model_name": "HTMLModel",
            "_view_count": null,
            "_view_module": "@jupyter-widgets/controls",
            "_view_module_version": "1.5.0",
            "_view_name": "HTMLView",
            "description": "",
            "description_tooltip": null,
            "layout": "IPY_MODEL_72fa72b9c4ca4080b8a8b1fc9d479919",
            "placeholder": "​",
            "style": "IPY_MODEL_4a3f1954ad074de5a445fb7d1d87517e",
            "value": " 3200/3200 [00:00&lt;00:00, 9603.03 examples/s]"
          }
        },
        "6f34941806004c5eb752b8ece7295bb1": {
          "model_module": "@jupyter-widgets/base",
          "model_name": "LayoutModel",
          "model_module_version": "1.2.0",
          "state": {
            "_model_module": "@jupyter-widgets/base",
            "_model_module_version": "1.2.0",
            "_model_name": "LayoutModel",
            "_view_count": null,
            "_view_module": "@jupyter-widgets/base",
            "_view_module_version": "1.2.0",
            "_view_name": "LayoutView",
            "align_content": null,
            "align_items": null,
            "align_self": null,
            "border": null,
            "bottom": null,
            "display": null,
            "flex": null,
            "flex_flow": null,
            "grid_area": null,
            "grid_auto_columns": null,
            "grid_auto_flow": null,
            "grid_auto_rows": null,
            "grid_column": null,
            "grid_gap": null,
            "grid_row": null,
            "grid_template_areas": null,
            "grid_template_columns": null,
            "grid_template_rows": null,
            "height": null,
            "justify_content": null,
            "justify_items": null,
            "left": null,
            "margin": null,
            "max_height": null,
            "max_width": null,
            "min_height": null,
            "min_width": null,
            "object_fit": null,
            "object_position": null,
            "order": null,
            "overflow": null,
            "overflow_x": null,
            "overflow_y": null,
            "padding": null,
            "right": null,
            "top": null,
            "visibility": null,
            "width": null
          }
        },
        "f18f5d6f128f45aa92c2351fbcb1755a": {
          "model_module": "@jupyter-widgets/base",
          "model_name": "LayoutModel",
          "model_module_version": "1.2.0",
          "state": {
            "_model_module": "@jupyter-widgets/base",
            "_model_module_version": "1.2.0",
            "_model_name": "LayoutModel",
            "_view_count": null,
            "_view_module": "@jupyter-widgets/base",
            "_view_module_version": "1.2.0",
            "_view_name": "LayoutView",
            "align_content": null,
            "align_items": null,
            "align_self": null,
            "border": null,
            "bottom": null,
            "display": null,
            "flex": null,
            "flex_flow": null,
            "grid_area": null,
            "grid_auto_columns": null,
            "grid_auto_flow": null,
            "grid_auto_rows": null,
            "grid_column": null,
            "grid_gap": null,
            "grid_row": null,
            "grid_template_areas": null,
            "grid_template_columns": null,
            "grid_template_rows": null,
            "height": null,
            "justify_content": null,
            "justify_items": null,
            "left": null,
            "margin": null,
            "max_height": null,
            "max_width": null,
            "min_height": null,
            "min_width": null,
            "object_fit": null,
            "object_position": null,
            "order": null,
            "overflow": null,
            "overflow_x": null,
            "overflow_y": null,
            "padding": null,
            "right": null,
            "top": null,
            "visibility": null,
            "width": null
          }
        },
        "56b3611ce454454d86112d9f9b5121f5": {
          "model_module": "@jupyter-widgets/controls",
          "model_name": "DescriptionStyleModel",
          "model_module_version": "1.5.0",
          "state": {
            "_model_module": "@jupyter-widgets/controls",
            "_model_module_version": "1.5.0",
            "_model_name": "DescriptionStyleModel",
            "_view_count": null,
            "_view_module": "@jupyter-widgets/base",
            "_view_module_version": "1.2.0",
            "_view_name": "StyleView",
            "description_width": ""
          }
        },
        "6b8bbe0e60934a8b9c90f4a5f35d0050": {
          "model_module": "@jupyter-widgets/base",
          "model_name": "LayoutModel",
          "model_module_version": "1.2.0",
          "state": {
            "_model_module": "@jupyter-widgets/base",
            "_model_module_version": "1.2.0",
            "_model_name": "LayoutModel",
            "_view_count": null,
            "_view_module": "@jupyter-widgets/base",
            "_view_module_version": "1.2.0",
            "_view_name": "LayoutView",
            "align_content": null,
            "align_items": null,
            "align_self": null,
            "border": null,
            "bottom": null,
            "display": null,
            "flex": null,
            "flex_flow": null,
            "grid_area": null,
            "grid_auto_columns": null,
            "grid_auto_flow": null,
            "grid_auto_rows": null,
            "grid_column": null,
            "grid_gap": null,
            "grid_row": null,
            "grid_template_areas": null,
            "grid_template_columns": null,
            "grid_template_rows": null,
            "height": null,
            "justify_content": null,
            "justify_items": null,
            "left": null,
            "margin": null,
            "max_height": null,
            "max_width": null,
            "min_height": null,
            "min_width": null,
            "object_fit": null,
            "object_position": null,
            "order": null,
            "overflow": null,
            "overflow_x": null,
            "overflow_y": null,
            "padding": null,
            "right": null,
            "top": null,
            "visibility": null,
            "width": null
          }
        },
        "78ae9ac192514f91b773302f5dd34a0b": {
          "model_module": "@jupyter-widgets/controls",
          "model_name": "ProgressStyleModel",
          "model_module_version": "1.5.0",
          "state": {
            "_model_module": "@jupyter-widgets/controls",
            "_model_module_version": "1.5.0",
            "_model_name": "ProgressStyleModel",
            "_view_count": null,
            "_view_module": "@jupyter-widgets/base",
            "_view_module_version": "1.2.0",
            "_view_name": "StyleView",
            "bar_color": null,
            "description_width": ""
          }
        },
        "72fa72b9c4ca4080b8a8b1fc9d479919": {
          "model_module": "@jupyter-widgets/base",
          "model_name": "LayoutModel",
          "model_module_version": "1.2.0",
          "state": {
            "_model_module": "@jupyter-widgets/base",
            "_model_module_version": "1.2.0",
            "_model_name": "LayoutModel",
            "_view_count": null,
            "_view_module": "@jupyter-widgets/base",
            "_view_module_version": "1.2.0",
            "_view_name": "LayoutView",
            "align_content": null,
            "align_items": null,
            "align_self": null,
            "border": null,
            "bottom": null,
            "display": null,
            "flex": null,
            "flex_flow": null,
            "grid_area": null,
            "grid_auto_columns": null,
            "grid_auto_flow": null,
            "grid_auto_rows": null,
            "grid_column": null,
            "grid_gap": null,
            "grid_row": null,
            "grid_template_areas": null,
            "grid_template_columns": null,
            "grid_template_rows": null,
            "height": null,
            "justify_content": null,
            "justify_items": null,
            "left": null,
            "margin": null,
            "max_height": null,
            "max_width": null,
            "min_height": null,
            "min_width": null,
            "object_fit": null,
            "object_position": null,
            "order": null,
            "overflow": null,
            "overflow_x": null,
            "overflow_y": null,
            "padding": null,
            "right": null,
            "top": null,
            "visibility": null,
            "width": null
          }
        },
        "4a3f1954ad074de5a445fb7d1d87517e": {
          "model_module": "@jupyter-widgets/controls",
          "model_name": "DescriptionStyleModel",
          "model_module_version": "1.5.0",
          "state": {
            "_model_module": "@jupyter-widgets/controls",
            "_model_module_version": "1.5.0",
            "_model_name": "DescriptionStyleModel",
            "_view_count": null,
            "_view_module": "@jupyter-widgets/base",
            "_view_module_version": "1.2.0",
            "_view_name": "StyleView",
            "description_width": ""
          }
        },
        "e272fb805cbc4e1ea4aa4dd84867d740": {
          "model_module": "@jupyter-widgets/controls",
          "model_name": "HBoxModel",
          "model_module_version": "1.5.0",
          "state": {
            "_dom_classes": [],
            "_model_module": "@jupyter-widgets/controls",
            "_model_module_version": "1.5.0",
            "_model_name": "HBoxModel",
            "_view_count": null,
            "_view_module": "@jupyter-widgets/controls",
            "_view_module_version": "1.5.0",
            "_view_name": "HBoxView",
            "box_style": "",
            "children": [
              "IPY_MODEL_7b925dc8a02049e0ac7f295759f7e5a4",
              "IPY_MODEL_a0242ad798a64862b36a0fb8bce84c58",
              "IPY_MODEL_2f7a8d10a7d847d88e2ffcce23306777"
            ],
            "layout": "IPY_MODEL_669d8724b0a84ee0b62de8d25d07159f"
          }
        },
        "7b925dc8a02049e0ac7f295759f7e5a4": {
          "model_module": "@jupyter-widgets/controls",
          "model_name": "HTMLModel",
          "model_module_version": "1.5.0",
          "state": {
            "_dom_classes": [],
            "_model_module": "@jupyter-widgets/controls",
            "_model_module_version": "1.5.0",
            "_model_name": "HTMLModel",
            "_view_count": null,
            "_view_module": "@jupyter-widgets/controls",
            "_view_module_version": "1.5.0",
            "_view_name": "HTMLView",
            "description": "",
            "description_tooltip": null,
            "layout": "IPY_MODEL_02f29bc5b5484dc6b2a6833ead2a3250",
            "placeholder": "​",
            "style": "IPY_MODEL_50c1a2f4f3cf45eb8c7f6c4ee1b6e887",
            "value": "Map: 100%"
          }
        },
        "a0242ad798a64862b36a0fb8bce84c58": {
          "model_module": "@jupyter-widgets/controls",
          "model_name": "FloatProgressModel",
          "model_module_version": "1.5.0",
          "state": {
            "_dom_classes": [],
            "_model_module": "@jupyter-widgets/controls",
            "_model_module_version": "1.5.0",
            "_model_name": "FloatProgressModel",
            "_view_count": null,
            "_view_module": "@jupyter-widgets/controls",
            "_view_module_version": "1.5.0",
            "_view_name": "ProgressView",
            "bar_style": "success",
            "description": "",
            "description_tooltip": null,
            "layout": "IPY_MODEL_a05bbb1d923248c2bfdf02f099667344",
            "max": 12800,
            "min": 0,
            "orientation": "horizontal",
            "style": "IPY_MODEL_8ca744d77d384a0d9a32c2aa2f9ec518",
            "value": 12800
          }
        },
        "2f7a8d10a7d847d88e2ffcce23306777": {
          "model_module": "@jupyter-widgets/controls",
          "model_name": "HTMLModel",
          "model_module_version": "1.5.0",
          "state": {
            "_dom_classes": [],
            "_model_module": "@jupyter-widgets/controls",
            "_model_module_version": "1.5.0",
            "_model_name": "HTMLModel",
            "_view_count": null,
            "_view_module": "@jupyter-widgets/controls",
            "_view_module_version": "1.5.0",
            "_view_name": "HTMLView",
            "description": "",
            "description_tooltip": null,
            "layout": "IPY_MODEL_85182d3ee28042b4afeaaf990183e77c",
            "placeholder": "​",
            "style": "IPY_MODEL_f31f2ee012ce4c6480c3af48db9ec2ad",
            "value": " 12800/12800 [00:01&lt;00:00, 9299.02 examples/s]"
          }
        },
        "669d8724b0a84ee0b62de8d25d07159f": {
          "model_module": "@jupyter-widgets/base",
          "model_name": "LayoutModel",
          "model_module_version": "1.2.0",
          "state": {
            "_model_module": "@jupyter-widgets/base",
            "_model_module_version": "1.2.0",
            "_model_name": "LayoutModel",
            "_view_count": null,
            "_view_module": "@jupyter-widgets/base",
            "_view_module_version": "1.2.0",
            "_view_name": "LayoutView",
            "align_content": null,
            "align_items": null,
            "align_self": null,
            "border": null,
            "bottom": null,
            "display": null,
            "flex": null,
            "flex_flow": null,
            "grid_area": null,
            "grid_auto_columns": null,
            "grid_auto_flow": null,
            "grid_auto_rows": null,
            "grid_column": null,
            "grid_gap": null,
            "grid_row": null,
            "grid_template_areas": null,
            "grid_template_columns": null,
            "grid_template_rows": null,
            "height": null,
            "justify_content": null,
            "justify_items": null,
            "left": null,
            "margin": null,
            "max_height": null,
            "max_width": null,
            "min_height": null,
            "min_width": null,
            "object_fit": null,
            "object_position": null,
            "order": null,
            "overflow": null,
            "overflow_x": null,
            "overflow_y": null,
            "padding": null,
            "right": null,
            "top": null,
            "visibility": null,
            "width": null
          }
        },
        "02f29bc5b5484dc6b2a6833ead2a3250": {
          "model_module": "@jupyter-widgets/base",
          "model_name": "LayoutModel",
          "model_module_version": "1.2.0",
          "state": {
            "_model_module": "@jupyter-widgets/base",
            "_model_module_version": "1.2.0",
            "_model_name": "LayoutModel",
            "_view_count": null,
            "_view_module": "@jupyter-widgets/base",
            "_view_module_version": "1.2.0",
            "_view_name": "LayoutView",
            "align_content": null,
            "align_items": null,
            "align_self": null,
            "border": null,
            "bottom": null,
            "display": null,
            "flex": null,
            "flex_flow": null,
            "grid_area": null,
            "grid_auto_columns": null,
            "grid_auto_flow": null,
            "grid_auto_rows": null,
            "grid_column": null,
            "grid_gap": null,
            "grid_row": null,
            "grid_template_areas": null,
            "grid_template_columns": null,
            "grid_template_rows": null,
            "height": null,
            "justify_content": null,
            "justify_items": null,
            "left": null,
            "margin": null,
            "max_height": null,
            "max_width": null,
            "min_height": null,
            "min_width": null,
            "object_fit": null,
            "object_position": null,
            "order": null,
            "overflow": null,
            "overflow_x": null,
            "overflow_y": null,
            "padding": null,
            "right": null,
            "top": null,
            "visibility": null,
            "width": null
          }
        },
        "50c1a2f4f3cf45eb8c7f6c4ee1b6e887": {
          "model_module": "@jupyter-widgets/controls",
          "model_name": "DescriptionStyleModel",
          "model_module_version": "1.5.0",
          "state": {
            "_model_module": "@jupyter-widgets/controls",
            "_model_module_version": "1.5.0",
            "_model_name": "DescriptionStyleModel",
            "_view_count": null,
            "_view_module": "@jupyter-widgets/base",
            "_view_module_version": "1.2.0",
            "_view_name": "StyleView",
            "description_width": ""
          }
        },
        "a05bbb1d923248c2bfdf02f099667344": {
          "model_module": "@jupyter-widgets/base",
          "model_name": "LayoutModel",
          "model_module_version": "1.2.0",
          "state": {
            "_model_module": "@jupyter-widgets/base",
            "_model_module_version": "1.2.0",
            "_model_name": "LayoutModel",
            "_view_count": null,
            "_view_module": "@jupyter-widgets/base",
            "_view_module_version": "1.2.0",
            "_view_name": "LayoutView",
            "align_content": null,
            "align_items": null,
            "align_self": null,
            "border": null,
            "bottom": null,
            "display": null,
            "flex": null,
            "flex_flow": null,
            "grid_area": null,
            "grid_auto_columns": null,
            "grid_auto_flow": null,
            "grid_auto_rows": null,
            "grid_column": null,
            "grid_gap": null,
            "grid_row": null,
            "grid_template_areas": null,
            "grid_template_columns": null,
            "grid_template_rows": null,
            "height": null,
            "justify_content": null,
            "justify_items": null,
            "left": null,
            "margin": null,
            "max_height": null,
            "max_width": null,
            "min_height": null,
            "min_width": null,
            "object_fit": null,
            "object_position": null,
            "order": null,
            "overflow": null,
            "overflow_x": null,
            "overflow_y": null,
            "padding": null,
            "right": null,
            "top": null,
            "visibility": null,
            "width": null
          }
        },
        "8ca744d77d384a0d9a32c2aa2f9ec518": {
          "model_module": "@jupyter-widgets/controls",
          "model_name": "ProgressStyleModel",
          "model_module_version": "1.5.0",
          "state": {
            "_model_module": "@jupyter-widgets/controls",
            "_model_module_version": "1.5.0",
            "_model_name": "ProgressStyleModel",
            "_view_count": null,
            "_view_module": "@jupyter-widgets/base",
            "_view_module_version": "1.2.0",
            "_view_name": "StyleView",
            "bar_color": null,
            "description_width": ""
          }
        },
        "85182d3ee28042b4afeaaf990183e77c": {
          "model_module": "@jupyter-widgets/base",
          "model_name": "LayoutModel",
          "model_module_version": "1.2.0",
          "state": {
            "_model_module": "@jupyter-widgets/base",
            "_model_module_version": "1.2.0",
            "_model_name": "LayoutModel",
            "_view_count": null,
            "_view_module": "@jupyter-widgets/base",
            "_view_module_version": "1.2.0",
            "_view_name": "LayoutView",
            "align_content": null,
            "align_items": null,
            "align_self": null,
            "border": null,
            "bottom": null,
            "display": null,
            "flex": null,
            "flex_flow": null,
            "grid_area": null,
            "grid_auto_columns": null,
            "grid_auto_flow": null,
            "grid_auto_rows": null,
            "grid_column": null,
            "grid_gap": null,
            "grid_row": null,
            "grid_template_areas": null,
            "grid_template_columns": null,
            "grid_template_rows": null,
            "height": null,
            "justify_content": null,
            "justify_items": null,
            "left": null,
            "margin": null,
            "max_height": null,
            "max_width": null,
            "min_height": null,
            "min_width": null,
            "object_fit": null,
            "object_position": null,
            "order": null,
            "overflow": null,
            "overflow_x": null,
            "overflow_y": null,
            "padding": null,
            "right": null,
            "top": null,
            "visibility": null,
            "width": null
          }
        },
        "f31f2ee012ce4c6480c3af48db9ec2ad": {
          "model_module": "@jupyter-widgets/controls",
          "model_name": "DescriptionStyleModel",
          "model_module_version": "1.5.0",
          "state": {
            "_model_module": "@jupyter-widgets/controls",
            "_model_module_version": "1.5.0",
            "_model_name": "DescriptionStyleModel",
            "_view_count": null,
            "_view_module": "@jupyter-widgets/base",
            "_view_module_version": "1.2.0",
            "_view_name": "StyleView",
            "description_width": ""
          }
        },
        "fbfee87ccf434de19d8a6b1a35a6943c": {
          "model_module": "@jupyter-widgets/controls",
          "model_name": "HBoxModel",
          "model_module_version": "1.5.0",
          "state": {
            "_dom_classes": [],
            "_model_module": "@jupyter-widgets/controls",
            "_model_module_version": "1.5.0",
            "_model_name": "HBoxModel",
            "_view_count": null,
            "_view_module": "@jupyter-widgets/controls",
            "_view_module_version": "1.5.0",
            "_view_name": "HBoxView",
            "box_style": "",
            "children": [
              "IPY_MODEL_961e00cbab2944d08388ccc31a5842ee",
              "IPY_MODEL_6a15d09286c546539fef8ae5b19bd673",
              "IPY_MODEL_a9471df6de584f988dc5f7d70f0c15b6"
            ],
            "layout": "IPY_MODEL_8b85f21f77cc4a8e914014db3326d5c5"
          }
        },
        "961e00cbab2944d08388ccc31a5842ee": {
          "model_module": "@jupyter-widgets/controls",
          "model_name": "HTMLModel",
          "model_module_version": "1.5.0",
          "state": {
            "_dom_classes": [],
            "_model_module": "@jupyter-widgets/controls",
            "_model_module_version": "1.5.0",
            "_model_name": "HTMLModel",
            "_view_count": null,
            "_view_module": "@jupyter-widgets/controls",
            "_view_module_version": "1.5.0",
            "_view_name": "HTMLView",
            "description": "",
            "description_tooltip": null,
            "layout": "IPY_MODEL_31f99286930840558d454facbd1e08a5",
            "placeholder": "​",
            "style": "IPY_MODEL_ba498a0e530a4741b366274fabc8c914",
            "value": "Map: 100%"
          }
        },
        "6a15d09286c546539fef8ae5b19bd673": {
          "model_module": "@jupyter-widgets/controls",
          "model_name": "FloatProgressModel",
          "model_module_version": "1.5.0",
          "state": {
            "_dom_classes": [],
            "_model_module": "@jupyter-widgets/controls",
            "_model_module_version": "1.5.0",
            "_model_name": "FloatProgressModel",
            "_view_count": null,
            "_view_module": "@jupyter-widgets/controls",
            "_view_module_version": "1.5.0",
            "_view_name": "ProgressView",
            "bar_style": "success",
            "description": "",
            "description_tooltip": null,
            "layout": "IPY_MODEL_36c348b2ae1a457a95a60db5bdb9fe77",
            "max": 3200,
            "min": 0,
            "orientation": "horizontal",
            "style": "IPY_MODEL_b7165ea170044cda8537e58cac85c796",
            "value": 3200
          }
        },
        "a9471df6de584f988dc5f7d70f0c15b6": {
          "model_module": "@jupyter-widgets/controls",
          "model_name": "HTMLModel",
          "model_module_version": "1.5.0",
          "state": {
            "_dom_classes": [],
            "_model_module": "@jupyter-widgets/controls",
            "_model_module_version": "1.5.0",
            "_model_name": "HTMLModel",
            "_view_count": null,
            "_view_module": "@jupyter-widgets/controls",
            "_view_module_version": "1.5.0",
            "_view_name": "HTMLView",
            "description": "",
            "description_tooltip": null,
            "layout": "IPY_MODEL_aa31f961cda04b5c9ce62e5126554432",
            "placeholder": "​",
            "style": "IPY_MODEL_1af2426d7e7b4845a64ede7f70643652",
            "value": " 3200/3200 [00:00&lt;00:00, 3648.75 examples/s]"
          }
        },
        "8b85f21f77cc4a8e914014db3326d5c5": {
          "model_module": "@jupyter-widgets/base",
          "model_name": "LayoutModel",
          "model_module_version": "1.2.0",
          "state": {
            "_model_module": "@jupyter-widgets/base",
            "_model_module_version": "1.2.0",
            "_model_name": "LayoutModel",
            "_view_count": null,
            "_view_module": "@jupyter-widgets/base",
            "_view_module_version": "1.2.0",
            "_view_name": "LayoutView",
            "align_content": null,
            "align_items": null,
            "align_self": null,
            "border": null,
            "bottom": null,
            "display": null,
            "flex": null,
            "flex_flow": null,
            "grid_area": null,
            "grid_auto_columns": null,
            "grid_auto_flow": null,
            "grid_auto_rows": null,
            "grid_column": null,
            "grid_gap": null,
            "grid_row": null,
            "grid_template_areas": null,
            "grid_template_columns": null,
            "grid_template_rows": null,
            "height": null,
            "justify_content": null,
            "justify_items": null,
            "left": null,
            "margin": null,
            "max_height": null,
            "max_width": null,
            "min_height": null,
            "min_width": null,
            "object_fit": null,
            "object_position": null,
            "order": null,
            "overflow": null,
            "overflow_x": null,
            "overflow_y": null,
            "padding": null,
            "right": null,
            "top": null,
            "visibility": null,
            "width": null
          }
        },
        "31f99286930840558d454facbd1e08a5": {
          "model_module": "@jupyter-widgets/base",
          "model_name": "LayoutModel",
          "model_module_version": "1.2.0",
          "state": {
            "_model_module": "@jupyter-widgets/base",
            "_model_module_version": "1.2.0",
            "_model_name": "LayoutModel",
            "_view_count": null,
            "_view_module": "@jupyter-widgets/base",
            "_view_module_version": "1.2.0",
            "_view_name": "LayoutView",
            "align_content": null,
            "align_items": null,
            "align_self": null,
            "border": null,
            "bottom": null,
            "display": null,
            "flex": null,
            "flex_flow": null,
            "grid_area": null,
            "grid_auto_columns": null,
            "grid_auto_flow": null,
            "grid_auto_rows": null,
            "grid_column": null,
            "grid_gap": null,
            "grid_row": null,
            "grid_template_areas": null,
            "grid_template_columns": null,
            "grid_template_rows": null,
            "height": null,
            "justify_content": null,
            "justify_items": null,
            "left": null,
            "margin": null,
            "max_height": null,
            "max_width": null,
            "min_height": null,
            "min_width": null,
            "object_fit": null,
            "object_position": null,
            "order": null,
            "overflow": null,
            "overflow_x": null,
            "overflow_y": null,
            "padding": null,
            "right": null,
            "top": null,
            "visibility": null,
            "width": null
          }
        },
        "ba498a0e530a4741b366274fabc8c914": {
          "model_module": "@jupyter-widgets/controls",
          "model_name": "DescriptionStyleModel",
          "model_module_version": "1.5.0",
          "state": {
            "_model_module": "@jupyter-widgets/controls",
            "_model_module_version": "1.5.0",
            "_model_name": "DescriptionStyleModel",
            "_view_count": null,
            "_view_module": "@jupyter-widgets/base",
            "_view_module_version": "1.2.0",
            "_view_name": "StyleView",
            "description_width": ""
          }
        },
        "36c348b2ae1a457a95a60db5bdb9fe77": {
          "model_module": "@jupyter-widgets/base",
          "model_name": "LayoutModel",
          "model_module_version": "1.2.0",
          "state": {
            "_model_module": "@jupyter-widgets/base",
            "_model_module_version": "1.2.0",
            "_model_name": "LayoutModel",
            "_view_count": null,
            "_view_module": "@jupyter-widgets/base",
            "_view_module_version": "1.2.0",
            "_view_name": "LayoutView",
            "align_content": null,
            "align_items": null,
            "align_self": null,
            "border": null,
            "bottom": null,
            "display": null,
            "flex": null,
            "flex_flow": null,
            "grid_area": null,
            "grid_auto_columns": null,
            "grid_auto_flow": null,
            "grid_auto_rows": null,
            "grid_column": null,
            "grid_gap": null,
            "grid_row": null,
            "grid_template_areas": null,
            "grid_template_columns": null,
            "grid_template_rows": null,
            "height": null,
            "justify_content": null,
            "justify_items": null,
            "left": null,
            "margin": null,
            "max_height": null,
            "max_width": null,
            "min_height": null,
            "min_width": null,
            "object_fit": null,
            "object_position": null,
            "order": null,
            "overflow": null,
            "overflow_x": null,
            "overflow_y": null,
            "padding": null,
            "right": null,
            "top": null,
            "visibility": null,
            "width": null
          }
        },
        "b7165ea170044cda8537e58cac85c796": {
          "model_module": "@jupyter-widgets/controls",
          "model_name": "ProgressStyleModel",
          "model_module_version": "1.5.0",
          "state": {
            "_model_module": "@jupyter-widgets/controls",
            "_model_module_version": "1.5.0",
            "_model_name": "ProgressStyleModel",
            "_view_count": null,
            "_view_module": "@jupyter-widgets/base",
            "_view_module_version": "1.2.0",
            "_view_name": "StyleView",
            "bar_color": null,
            "description_width": ""
          }
        },
        "aa31f961cda04b5c9ce62e5126554432": {
          "model_module": "@jupyter-widgets/base",
          "model_name": "LayoutModel",
          "model_module_version": "1.2.0",
          "state": {
            "_model_module": "@jupyter-widgets/base",
            "_model_module_version": "1.2.0",
            "_model_name": "LayoutModel",
            "_view_count": null,
            "_view_module": "@jupyter-widgets/base",
            "_view_module_version": "1.2.0",
            "_view_name": "LayoutView",
            "align_content": null,
            "align_items": null,
            "align_self": null,
            "border": null,
            "bottom": null,
            "display": null,
            "flex": null,
            "flex_flow": null,
            "grid_area": null,
            "grid_auto_columns": null,
            "grid_auto_flow": null,
            "grid_auto_rows": null,
            "grid_column": null,
            "grid_gap": null,
            "grid_row": null,
            "grid_template_areas": null,
            "grid_template_columns": null,
            "grid_template_rows": null,
            "height": null,
            "justify_content": null,
            "justify_items": null,
            "left": null,
            "margin": null,
            "max_height": null,
            "max_width": null,
            "min_height": null,
            "min_width": null,
            "object_fit": null,
            "object_position": null,
            "order": null,
            "overflow": null,
            "overflow_x": null,
            "overflow_y": null,
            "padding": null,
            "right": null,
            "top": null,
            "visibility": null,
            "width": null
          }
        },
        "1af2426d7e7b4845a64ede7f70643652": {
          "model_module": "@jupyter-widgets/controls",
          "model_name": "DescriptionStyleModel",
          "model_module_version": "1.5.0",
          "state": {
            "_model_module": "@jupyter-widgets/controls",
            "_model_module_version": "1.5.0",
            "_model_name": "DescriptionStyleModel",
            "_view_count": null,
            "_view_module": "@jupyter-widgets/base",
            "_view_module_version": "1.2.0",
            "_view_name": "StyleView",
            "description_width": ""
          }
        }
      }
    }
  },
  "cells": [
    {
      "cell_type": "markdown",
      "source": [
        "# Transition Context: From RAG to Fine-Tuning\n",
        "\n",
        "| Aspect             | Retrieval-Augmented Generation (RAG)             | Fine-Tuning (Full Precision)                                |\n",
        "| ------------------ | ------------------------------------------------ | ----------------------------------------------------------- |\n",
        "| **Core Idea**      | Retrieves relevant documents to guide generation | Trains the model itself on labeled data                     |\n",
        "| **Data Ownership** | Can work on private data without retraining      | Needs supervised dataset aligned to task                    |\n",
        "| **Adaptability**   | Plug-and-play; less compute-intensive            | More accurate, but needs GPU + training time                |\n",
        "| **Use Case Fit**   | Great for exploratory QA, low-resource setups    | Better for classification, sentiment, domain-specific tasks |\n",
        "| **Limitation**     | Model remains unchanged; can't learn from errors | Requires updates to model weights                           |\n"
      ],
      "metadata": {
        "id": "RTyMCD-v2h3G"
      }
    },
    {
      "cell_type": "code",
      "source": [
        "# Why Fine-Tuning after RAG?\n",
        "# RAG is great for knowledge injection but doesn't adapt model behavior.\n",
        "# Fine-tuning lets us specialize the model for tasks like emotion classification, medical triage, customer feedback analysis, etc.\n",
        "# This session introduces full-precision training (FP32), which although compute-heavy, gives foundational insights into how models learn from data."
      ],
      "metadata": {
        "id": "Oy-lSQ7F3R4s"
      },
      "execution_count": null,
      "outputs": []
    },
    {
      "cell_type": "markdown",
      "source": [
        "## Session Objectives\n",
        "\n",
        "| Objective                                 | Description                                                                |\n",
        "| ----------------------------------------- | -------------------------------------------------------------------------- |\n",
        "| Understand full-precision fine-tuning     | Learn how to fine-tune a Hugging Face model without quantization           |\n",
        "| Hands-on with a small dataset (`emotion`) | Prepare a dataset, tokenizer, model, trainer, and evaluate performance     |\n",
        "| Compare to future sessions                | Set the stage for comparing with 8-bit and 16-bit fine-tuning (Session 17) |\n",
        "| Learn evaluation metrics                  | Use metrics like accuracy to validate model performance                    |\n"
      ],
      "metadata": {
        "id": "4ALzRy0I2hz7"
      }
    },
    {
      "cell_type": "code",
      "source": [
        "# 1. What is Full Precision Fine-Tuning?\n",
        "# Updates all weights in the model using 32-bit floating point arithmetic (FP32).\n",
        "# This is the most accurate and stable form of fine-tuning but requires more GPU memory.\n",
        "\n",
        "# 2. When to Use FP32 Fine-Tuning?\n",
        "# When model precision and flexibility are more important than training cost.\n",
        "# When performing academic experiments or benchmarking."
      ],
      "metadata": {
        "id": "s3-T3kd13rEM"
      },
      "execution_count": null,
      "outputs": []
    },
    {
      "cell_type": "markdown",
      "source": [
        "---"
      ],
      "metadata": {
        "id": "PIJ9lQW74fhz"
      }
    },
    {
      "cell_type": "markdown",
      "source": [
        "\n",
        "\n",
        "---\n",
        "\n",
        "## How Fine-Tuning Helps: Before and After Examples\n",
        "\n",
        "### Example 1: **Customer Support Ticket Classification**\n",
        "\n",
        "| Input Prompt                                           | Model Type                             | Response                                       |\n",
        "| ------------------------------------------------------ | -------------------------------------- | ---------------------------------------------- |\n",
        "| *“My laptop shuts off automatically after 5 minutes.”* | **Pretrained model (e.g., base BERT)** | May classify as *“Other”* or *“Unknown issue”* |\n",
        "|                                                        | **Fine-tuned on IT support tickets**   | Correctly classifies as *“Power issue”*        |\n",
        "\n",
        "> **Explanation**: A base model lacks knowledge of internal company categories. Fine-tuning with labeled examples teaches the model specific categories like *\"Power Issue\"*, *\"Screen Fault\"*, *\"Battery Problem\"*, etc.\n",
        "\n",
        "---\n",
        "\n",
        "### Example 2: **Sentiment Classification in Finance**\n",
        "\n",
        "| Input Text                                                               | Model Type                                 | Response   |\n",
        "| ------------------------------------------------------------------------ | ------------------------------------------ | ---------- |\n",
        "| *“The company has shown consistent growth and beat earnings estimates.”* | **Generic sentiment model**                | *Neutral*  |\n",
        "|                                                                          | **Fine-tuned on financial sentiment data** | *Positive* |\n",
        "\n",
        "> **Explanation**: Generic models may misinterpret domain-specific language. Fine-tuning aligns the model to **domain-specific sentiment** (in this case, finance).\n",
        "\n",
        "---\n",
        "\n",
        "### Example 3: **Medical Diagnosis from Symptoms**\n",
        "\n",
        "| Input:           | *“Patient has persistent cough, shortness of breath, and chest pain.”* |\n",
        "| ---------------- | ---------------------------------------------------------------------- |\n",
        "| Base LLM         | Might return a vague or general answer like *“Consult a doctor”*       |\n",
        "| Fine-tuned Model | Suggests *“Possible bronchitis or pneumonia; recommend chest X-ray”*   |\n",
        "\n",
        "> **Explanation**: The base LLM avoids specifics. A fine-tuned model (trained on medical records or clinical notes) can make **task-specific, risk-aware predictions**.\n",
        "\n",
        "---\n",
        "\n",
        "### Example 4: **Emotion Detection in Text**\n",
        "\n",
        "| Text                     | *“I can’t stop crying, I just lost my dog.”*  |\n",
        "| ------------------------ | --------------------------------------------- |\n",
        "| Pretrained Model         | Might say *“sad”* or mislabel as *“neutral”*  |\n",
        "| Fine-tuned Emotion Model | Correctly classifies as *“grief”* or *“loss”* |\n",
        "\n",
        "> **Explanation**: Fine-tuning with emotion-labeled datasets improves **empathy and nuance detection** in model predictions.\n",
        "\n",
        "---\n",
        "\n",
        "### Summary: Why Fine-Tuning?\n",
        "\n",
        "| Feature                    | Base Pretrained Model      | Fine-Tuned Model                    |\n",
        "| -------------------------- | -------------------------- | ----------------------------------- |\n",
        "| Custom vocabulary handling | Limited                    | Learns in-domain terms              |\n",
        "| Task-specific performance  | Generic                    | High accuracy on custom tasks       |\n",
        "| Domain adaptation          | No                         | Yes (medical, legal, finance, etc.) |\n",
        "| Flexibility for new labels | Fixed categories           | Learns new or custom labels easily  |\n",
        "| Real-world readiness       | Needs prompt tuning or RAG | Task-ready with minimal inputs      |\n",
        "\n",
        "---\n",
        "\n"
      ],
      "metadata": {
        "id": "_3znq_kw2hwW"
      }
    },
    {
      "cell_type": "markdown",
      "source": [],
      "metadata": {
        "id": "gEfpsZJY2hsy"
      }
    },
    {
      "cell_type": "markdown",
      "source": [],
      "metadata": {
        "id": "LaF15sBE2hpb"
      }
    },
    {
      "cell_type": "code",
      "source": [
        "# 1 Install dependencies\n",
        "# !pip install -q datasets transformers evaluate"
      ],
      "metadata": {
        "id": "Zcs1kcaxyFtq"
      },
      "execution_count": null,
      "outputs": []
    },
    {
      "cell_type": "markdown",
      "source": [
        "| Library        | Purpose                                                                                                                                |\n",
        "| -------------- | -------------------------------------------------------------------------------------------------------------------------------------- |\n",
        "| `datasets`     | From Hugging Face — provides easy access to many public datasets (like IMDb, SST2, etc.) and lets you load and preprocess them easily. |\n",
        "| `transformers` | Core library from Hugging Face — provides pre-trained models like BERT, GPT, etc., and tools for fine-tuning and using them.           |\n",
        "| `evaluate`     | Also from Hugging Face — used to calculate model evaluation metrics (like accuracy, precision, recall, etc.) after training.           |\n",
        "| `-q`           | Tells `pip` to run quietly (suppresses most output during installation).                                                               |\n"
      ],
      "metadata": {
        "id": "FgdLvWAujyDd"
      }
    },
    {
      "cell_type": "code",
      "source": [
        "# Force install compatible latest versions\n",
        "!pip install -q --upgrade transformers sentence-transformers datasets evaluate\n",
        "# Restart runtime after this"
      ],
      "metadata": {
        "colab": {
          "base_uri": "https://localhost:8080/"
        },
        "id": "0RXju16Ay89g",
        "outputId": "8b46527d-81d5-4e0f-c230-b5a85164fe99"
      },
      "execution_count": null,
      "outputs": [
        {
          "output_type": "stream",
          "name": "stdout",
          "text": [
            "\u001b[?25l   \u001b[90m━━━━━━━━━━━━━━━━━━━━━━━━━━━━━━━━━━━━━━━━\u001b[0m \u001b[32m0.0/10.5 MB\u001b[0m \u001b[31m?\u001b[0m eta \u001b[36m-:--:--\u001b[0m\r\u001b[2K   \u001b[91m━━━\u001b[0m\u001b[90m╺\u001b[0m\u001b[90m━━━━━━━━━━━━━━━━━━━━━━━━━━━━━━━━━━━━\u001b[0m \u001b[32m0.8/10.5 MB\u001b[0m \u001b[31m25.2 MB/s\u001b[0m eta \u001b[36m0:00:01\u001b[0m\r\u001b[2K   \u001b[91m━━━━━━━━━━━━━━━━━━━\u001b[0m\u001b[90m╺\u001b[0m\u001b[90m━━━━━━━━━━━━━━━━━━━━\u001b[0m \u001b[32m5.1/10.5 MB\u001b[0m \u001b[31m73.9 MB/s\u001b[0m eta \u001b[36m0:00:01\u001b[0m\r\u001b[2K   \u001b[91m━━━━━━━━━━━━━━━━━━━━━━━━━━━━━━━━━━━━━━━\u001b[0m\u001b[91m╸\u001b[0m \u001b[32m10.5/10.5 MB\u001b[0m \u001b[31m123.4 MB/s\u001b[0m eta \u001b[36m0:00:01\u001b[0m\r\u001b[2K   \u001b[90m━━━━━━━━━━━━━━━━━━━━━━━━━━━━━━━━━━━━━━━━\u001b[0m \u001b[32m10.5/10.5 MB\u001b[0m \u001b[31m88.9 MB/s\u001b[0m eta \u001b[36m0:00:00\u001b[0m\n",
            "\u001b[2K   \u001b[90m━━━━━━━━━━━━━━━━━━━━━━━━━━━━━━━━━━━━━━━━\u001b[0m \u001b[32m345.7/345.7 kB\u001b[0m \u001b[31m28.9 MB/s\u001b[0m eta \u001b[36m0:00:00\u001b[0m\n",
            "\u001b[2K   \u001b[90m━━━━━━━━━━━━━━━━━━━━━━━━━━━━━━━━━━━━━━━━\u001b[0m \u001b[32m3.1/3.1 MB\u001b[0m \u001b[31m79.7 MB/s\u001b[0m eta \u001b[36m0:00:00\u001b[0m\n",
            "\u001b[?25h"
          ]
        }
      ]
    },
    {
      "cell_type": "markdown",
      "source": [
        "| Library                 | Why it's needed for fine-tuning                                                    |\n",
        "| ----------------------- | ---------------------------------------------------------------------------------- |\n",
        "| `transformers`          | Main Hugging Face library — contains pre-trained models and fine-tuning pipelines. |\n",
        "| `sentence-transformers` | Useful for encoding sentences into embeddings (common in sentence-level tasks).    |\n",
        "| `datasets`              | Used to load and preprocess text datasets.                                         |\n",
        "| `evaluate`              | Lets you compute performance metrics like accuracy, F1, BLEU, etc.                 |\n"
      ],
      "metadata": {
        "id": "YR2n-DjhkDyw"
      }
    },
    {
      "cell_type": "code",
      "source": [
        "# 1 Install dependencies\n",
        "# !pip install -q datasets transformers evaluate\n",
        "\n",
        "# 2 Imports\n",
        "from datasets import load_dataset # You use this to easily load a public dataset (like IMDb, Yelp, SST2, etc.) or your own dataset for training. It's essential for fine-tuning tasks.\n",
        "from transformers import (\n",
        "    AutoTokenizer, AutoModelForSequenceClassification,\n",
        "    Trainer, TrainingArguments, DataCollatorWithPadding\n",
        ")\n",
        "# AutoTokenizer:\n",
        "# A factory class that automatically loads the correct tokenizer associated with a given pretrained model.\n",
        "# Why it's used:\n",
        "# Transforms raw text into tokens and IDs that the model can understand.\n",
        "# Automatically loads tokenization rules specific to models like BERT, RoBERTa, DistilBERT, etc.\n",
        "# AutoModelForSequenceClassification:\n",
        "# Automatically loads a pretrained model (like BERT) with an additional classification head on top (usually a linear layer).\n",
        "# Why it's used:\n",
        "# You use this class when your downstream task is classification (e.g., positive/negative sentiment, topic labeling, etc.).\n",
        "# Saves time: no need to define your own architecture or head.\n",
        "# Trainer:\n",
        "# A high-level class that handles training, evaluation, checkpointing, and prediction.\n",
        "# Why it's used:\n",
        "# Simplifies the training loop; you don’t need to write boilerplate PyTorch code.\n",
        "# Works with built-in features like logging, early stopping, distributed training, etc.\n",
        "# Integrates seamlessly with Hugging Face datasets and models.\n",
        "# TrainingArguments:\n",
        "# A configuration class that holds all hyperparameters and settings needed for training.\n",
        "# Why it's used:\n",
        "# Lets you set batch size, learning rate, number of epochs, output directories, evaluation strategy,\n",
        "# logging options, etc.\n",
        "# Passed to the Trainer to control how training happens.\n",
        "# DataCollatorWithPadding:\n",
        "# Automatically pads all inputs in a batch to the length of the longest input in that batch.\n",
        "# Why it's used:\n",
        "# Makes sure the input tensors are the same shape within each batch.\n",
        "# Avoids wasting memory with global max-length padding.\n",
        "# Works well with dynamic-length sequences in classification tasks.\n",
        "\n",
        "import evaluate\n",
        "import numpy as np\n",
        "\n",
        "# 3 Load and preprocess dataset\n",
        "raw = load_dataset(\"emotion\", split=\"train\") # Loads the \"emotion\" dataset from Hugging Face’s datasets hub.\n",
        "# The Emotion dataset is a widely used text classification benchmark that focuses on\n",
        "# identifying the emotional tone of English-language sentences.\n",
        "# It is hosted on the Hugging Face Datasets Hub.\n",
        "# Task Type\t- Text Classification\n",
        "# Objective\t- Predict the emotion expressed in a sentence (like joy, anger, sadness, etc.)\n",
        "# Data Source\t- Crowdsourced tweets from Twitter\n",
        "# Language\t- English\n",
        "# Labels (Categories) -\t6 emotions: sadness, joy, love, anger, fear, surprise\n",
        "# Size\t- Around 20,000+ labeled text samples\n",
        "# Creator -\tSaravia et al. (2018), from the paper \"CARER: Contextualized Affect Representations for Emotion Recognition\"\n",
        "# Example Row from the Dataset:\n",
        "# {\n",
        "#   \"text\": \"I'm so happy today!\",\n",
        "#   \"label\": 1\n",
        "# }\n",
        "# Where label 1 corresponds to joy.\n",
        "# Typical Use Case:\n",
        "# Train models (like BERT) to detect emotions in user messages, customer feedback, tweets, or chatbot conversations.\n",
        "# Widely used in sentiment/emotion classification, social media analysis, and mental health applications.\n",
        "# Why It's Used in Fine-Tuning:\n",
        "# It's a multi-class classification task.\n",
        "# Great for demonstrating how pre-trained transformers can be adapted to real-world NLP problems like emotion detection.\n",
        "\n",
        "raw = raw.shuffle(seed=42).train_test_split(test_size=0.2)\n",
        "# Randomly shuffles the dataset using a fixed seed (42) to ensure reproducibility.\n",
        "\n",
        "tokenizer = AutoTokenizer.from_pretrained(\"bert-base-uncased\") # Loads the BERT base uncased tokenizer from Hugging Face\n",
        "# “Uncased” means it will lowercase all words before tokenizing (e.g., \"Happy\" → \"happy\").\n",
        "# Prepares the tokenizer so we can convert text like \"I feel fantastic!\" into input IDs and attention masks.\n",
        "# BERT expects input in a certain format: [CLS] I feel fantastic ! [SEP]\n",
        "\n",
        "\n",
        "def preprocess(batch): # This function will be applied to each batch to convert the raw text into token IDs that a transformer model can understand\n",
        "    return tokenizer(batch[\"text\"], truncation=True, padding=\"max_length\", max_length=128)\n",
        "\n",
        "train_ds = raw[\"train\"].map(preprocess, batched=True)\n",
        "eval_ds = raw[\"test\"].map(preprocess, batched=True)\n",
        "\n",
        "# 4 Load model\n",
        "model = AutoModelForSequenceClassification.from_pretrained( # loads a pretrained BERT model with a classification layer on top.\n",
        "    \"bert-base-uncased\", num_labels=len(raw[\"train\"].features[\"label\"].names)\n",
        ")\n",
        "# AutoModelForSequenceClassification is a special Hugging Face class that adds a\n",
        "# classification head suitable for multi-class problems (like emotion classification).\n",
        "# The model weights are downloaded from Hugging Face if not already cached.\n",
        "\n",
        "# Prepare metrics\n",
        "metric = evaluate.load(\"accuracy\") # Loads the accuracy metric from Hugging Face’s evaluate library.\n",
        "# his metric will be used to check how many predictions were correct during model evaluation.\n",
        "def compute_metrics(eval_pred):\n",
        "    logits, labels = eval_pred\n",
        "    preds = np.argmax(logits, axis=1)\n",
        "    return metric.compute(predictions=preds, references=labels)\n",
        "# eval_pred is a tuple:\n",
        "# >logits: raw outputs from the model (unnormalized scores)\n",
        "# >labels: ground truth emotion labels from the test dataset\n",
        "# logits shape: [batch_size, num_classes]\n",
        "\n",
        "#  Prepare Trainer\n",
        "training_args = TrainingArguments(\n",
        "    output_dir=\"results\", # Directory where logs and checkpoints would be saved if saving were enabled. Even though saving is disabled here (save_strategy=\"no\"), some logs may still go here.\n",
        "    eval_strategy=\"epoch\", # Tells the trainer to evaluate the model once per epoch on the evaluation set. You’ll get validation accuracy at the end of each epoch.\n",
        "    learning_rate=2e-5, # Sets the learning rate to 0.00002, which is a commonly used value when fine-tuning BERT. A smaller learning rate is used to avoid “destroying” the pretrained weights too quickly.\n",
        "\n",
        "    # Specifies the batch size used per device (e.g., per GPU or CPU core).\n",
        "    # If you're running on one GPU, this is the actual batch size.\n",
        "    # Small batch size is often used when working on limited hardware (e.g., Google Colab).\n",
        "    per_device_train_batch_size=8,\n",
        "    per_device_eval_batch_size=8,\n",
        "\n",
        "    num_train_epochs=2, # Sets the number of full passes through the training dataset to 2. 2 epochs is often sufficient for demonstration, but can be increased for better performance.\n",
        "    save_strategy=\"no\", # Disables saving of model checkpoints during training. This saves disk space and speeds up training, but you’ll lose model weights unless you save them manually later.\n",
        ")\n",
        "\n",
        "# Creates a data collator object.\n",
        "# This ensures that each training/evaluation batch is padded dynamically to the longest sequence\n",
        "#  in that batch.\n",
        "# This is more efficient than padding everything to a global max length like 512 tokens.\n",
        "# It uses the same tokenizer you defined earlier to perform this padding.\n",
        "data_collator = DataCollatorWithPadding(tokenizer)\n",
        "\n",
        "\n",
        "trainer = Trainer(\n",
        "    model=model, # BERT model with classification head, loaded earlier\n",
        "    args=training_args, # All training configuration (epochs, LR, batch size, etc.)\n",
        "    train_dataset=train_ds, # Preprocessed and tokenized training dataset\n",
        "    eval_dataset=eval_ds, # Tokenized test/validation dataset\n",
        "    tokenizer=tokenizer, # Tokenizer used for decoding predictions (optional but helpful)\n",
        "    data_collator=data_collator, # Ensures all inputs in a batch have the same length (efficient batching)\n",
        "    compute_metrics=compute_metrics, # Function that returns evaluation metrics (like accuracy)\n",
        ")\n",
        "\n",
        "#  Train & evaluate\n",
        "# Starts the fine-tuning process.\n",
        "# Uses everything you set up earlier:\n",
        "# Model (BERT)\n",
        "# -Tokenized training data\n",
        "# -Training arguments (learning rate, batch size, epochs, etc.)\n",
        "# -Metric function (accuracy)\n",
        "# The model will be trained for 2 epochs (as per num_train_epochs=2).\n",
        "# After each epoch, evaluation will be run automatically because of: eval_strategy=\"epoch\"\n",
        "\n",
        "metrics = trainer.evaluate()\n",
        "# After training is complete, this line evaluates the model on the validation set (eval_ds) once more.\n",
        "# Returns a dictionary with the final evaluation metrics like:\n",
        "# {'eval_loss': 0.28, 'eval_accuracy': 0.88, ...}\n",
        "\n",
        "print(metrics)\n",
        "# Simply prints the evaluation results to your notebook or console.\n",
        "# Helps you understand how well the fine-tuned model is performing on unseen (validation) data."
      ],
      "metadata": {
        "colab": {
          "base_uri": "https://localhost:8080/",
          "height": 589,
          "referenced_widgets": [
            "f091eeb1ccc3461c8db58d8d74a2e9e4",
            "4eee620f4f14461d8a569904d724ad4f",
            "a587d2ce1a404573a61b45d54a929270",
            "e7838327647840adb75e93e34d9ce222",
            "85555feb6c5644b3bb9930b68a601485",
            "24939fc23a5d400488a8981454fce6e3",
            "d5bd4cc64d7a467a988d0b1dfddb83d1",
            "78b2f5b5e0cf43788abeae684b34e97b",
            "0099d56833dc44ff927f0bc783db039e",
            "74433d83dd624e21813270d74eb191a9",
            "f45f3859d25a48b0bbd635e49ef3fab7",
            "409b671b6495473e8942f98bdc1a6c18",
            "8431bc2a33ee4fd69805eec9acfbff19",
            "d26eab0cc31441d1b872c1acb1183eba",
            "f68a9914aece4294bb28eadf15344aa8",
            "6f34941806004c5eb752b8ece7295bb1",
            "f18f5d6f128f45aa92c2351fbcb1755a",
            "56b3611ce454454d86112d9f9b5121f5",
            "6b8bbe0e60934a8b9c90f4a5f35d0050",
            "78ae9ac192514f91b773302f5dd34a0b",
            "72fa72b9c4ca4080b8a8b1fc9d479919",
            "4a3f1954ad074de5a445fb7d1d87517e"
          ]
        },
        "id": "swQGkswhywc1",
        "outputId": "22622967-9592-4967-daa2-36f8dc434a10"
      },
      "execution_count": null,
      "outputs": [
        {
          "output_type": "display_data",
          "data": {
            "text/plain": [
              "Map:   0%|          | 0/12800 [00:00<?, ? examples/s]"
            ],
            "application/vnd.jupyter.widget-view+json": {
              "version_major": 2,
              "version_minor": 0,
              "model_id": "f091eeb1ccc3461c8db58d8d74a2e9e4"
            }
          },
          "metadata": {}
        },
        {
          "output_type": "display_data",
          "data": {
            "text/plain": [
              "Map:   0%|          | 0/3200 [00:00<?, ? examples/s]"
            ],
            "application/vnd.jupyter.widget-view+json": {
              "version_major": 2,
              "version_minor": 0,
              "model_id": "409b671b6495473e8942f98bdc1a6c18"
            }
          },
          "metadata": {}
        },
        {
          "output_type": "stream",
          "name": "stderr",
          "text": [
            "Some weights of BertForSequenceClassification were not initialized from the model checkpoint at bert-base-uncased and are newly initialized: ['classifier.bias', 'classifier.weight']\n",
            "You should probably TRAIN this model on a down-stream task to be able to use it for predictions and inference.\n",
            "/tmp/ipython-input-3-91106682.py:48: FutureWarning: `tokenizer` is deprecated and will be removed in version 5.0.0 for `Trainer.__init__`. Use `processing_class` instead.\n",
            "  trainer = Trainer(\n",
            "\u001b[34m\u001b[1mwandb\u001b[0m: \u001b[33mWARNING\u001b[0m The `run_name` is currently set to the same value as `TrainingArguments.output_dir`. If this was not intended, please specify a different run name by setting the `TrainingArguments.run_name` parameter.\n"
          ]
        },
        {
          "output_type": "display_data",
          "data": {
            "text/plain": [
              "<IPython.core.display.Javascript object>"
            ],
            "application/javascript": [
              "\n",
              "        window._wandbApiKey = new Promise((resolve, reject) => {\n",
              "            function loadScript(url) {\n",
              "            return new Promise(function(resolve, reject) {\n",
              "                let newScript = document.createElement(\"script\");\n",
              "                newScript.onerror = reject;\n",
              "                newScript.onload = resolve;\n",
              "                document.body.appendChild(newScript);\n",
              "                newScript.src = url;\n",
              "            });\n",
              "            }\n",
              "            loadScript(\"https://cdn.jsdelivr.net/npm/postmate/build/postmate.min.js\").then(() => {\n",
              "            const iframe = document.createElement('iframe')\n",
              "            iframe.style.cssText = \"width:0;height:0;border:none\"\n",
              "            document.body.appendChild(iframe)\n",
              "            const handshake = new Postmate({\n",
              "                container: iframe,\n",
              "                url: 'https://wandb.ai/authorize'\n",
              "            });\n",
              "            const timeout = setTimeout(() => reject(\"Couldn't auto authenticate\"), 5000)\n",
              "            handshake.then(function(child) {\n",
              "                child.on('authorize', data => {\n",
              "                    clearTimeout(timeout)\n",
              "                    resolve(data)\n",
              "                });\n",
              "            });\n",
              "            })\n",
              "        });\n",
              "    "
            ]
          },
          "metadata": {}
        },
        {
          "output_type": "stream",
          "name": "stderr",
          "text": [
            "\u001b[34m\u001b[1mwandb\u001b[0m: Logging into wandb.ai. (Learn how to deploy a W&B server locally: https://wandb.me/wandb-server)\n",
            "\u001b[34m\u001b[1mwandb\u001b[0m: You can find your API key in your browser here: https://wandb.ai/authorize?ref=models\n",
            "wandb: Paste an API key from your profile and hit enter:"
          ]
        },
        {
          "name": "stdout",
          "output_type": "stream",
          "text": [
            " ··········\n"
          ]
        },
        {
          "output_type": "stream",
          "name": "stderr",
          "text": [
            "\u001b[34m\u001b[1mwandb\u001b[0m: \u001b[33mWARNING\u001b[0m If you're specifying your api key in code, ensure this code is not shared publicly.\n",
            "\u001b[34m\u001b[1mwandb\u001b[0m: \u001b[33mWARNING\u001b[0m Consider setting the WANDB_API_KEY environment variable, or running `wandb login` from the command line.\n",
            "\u001b[34m\u001b[1mwandb\u001b[0m: No netrc file found, creating one.\n",
            "\u001b[34m\u001b[1mwandb\u001b[0m: Appending key for api.wandb.ai to your netrc file: /root/.netrc\n",
            "\u001b[34m\u001b[1mwandb\u001b[0m: Currently logged in as: \u001b[33mingledarshan\u001b[0m (\u001b[33mingledarshan-datacouch\u001b[0m) to \u001b[32mhttps://api.wandb.ai\u001b[0m. Use \u001b[1m`wandb login --relogin`\u001b[0m to force relogin\n"
          ]
        },
        {
          "output_type": "display_data",
          "data": {
            "text/plain": [
              "<IPython.core.display.HTML object>"
            ],
            "text/html": [
              "Tracking run with wandb version 0.20.1"
            ]
          },
          "metadata": {}
        },
        {
          "output_type": "display_data",
          "data": {
            "text/plain": [
              "<IPython.core.display.HTML object>"
            ],
            "text/html": [
              "Run data is saved locally in <code>/content/wandb/run-20250624_211827-1kk6r0zm</code>"
            ]
          },
          "metadata": {}
        },
        {
          "output_type": "display_data",
          "data": {
            "text/plain": [
              "<IPython.core.display.HTML object>"
            ],
            "text/html": [
              "Syncing run <strong><a href='https://wandb.ai/ingledarshan-datacouch/huggingface/runs/1kk6r0zm' target=\"_blank\">results</a></strong> to <a href='https://wandb.ai/ingledarshan-datacouch/huggingface' target=\"_blank\">Weights & Biases</a> (<a href='https://wandb.me/developer-guide' target=\"_blank\">docs</a>)<br>"
            ]
          },
          "metadata": {}
        },
        {
          "output_type": "display_data",
          "data": {
            "text/plain": [
              "<IPython.core.display.HTML object>"
            ],
            "text/html": [
              " View project at <a href='https://wandb.ai/ingledarshan-datacouch/huggingface' target=\"_blank\">https://wandb.ai/ingledarshan-datacouch/huggingface</a>"
            ]
          },
          "metadata": {}
        },
        {
          "output_type": "display_data",
          "data": {
            "text/plain": [
              "<IPython.core.display.HTML object>"
            ],
            "text/html": [
              " View run at <a href='https://wandb.ai/ingledarshan-datacouch/huggingface/runs/1kk6r0zm' target=\"_blank\">https://wandb.ai/ingledarshan-datacouch/huggingface/runs/1kk6r0zm</a>"
            ]
          },
          "metadata": {}
        },
        {
          "output_type": "display_data",
          "data": {
            "text/plain": [
              "<IPython.core.display.HTML object>"
            ],
            "text/html": [
              "\n",
              "    <div>\n",
              "      \n",
              "      <progress value='3200' max='3200' style='width:300px; height:20px; vertical-align: middle;'></progress>\n",
              "      [3200/3200 03:04, Epoch 2/2]\n",
              "    </div>\n",
              "    <table border=\"1\" class=\"dataframe\">\n",
              "  <thead>\n",
              " <tr style=\"text-align: left;\">\n",
              "      <th>Epoch</th>\n",
              "      <th>Training Loss</th>\n",
              "      <th>Validation Loss</th>\n",
              "      <th>Accuracy</th>\n",
              "    </tr>\n",
              "  </thead>\n",
              "  <tbody>\n",
              "    <tr>\n",
              "      <td>1</td>\n",
              "      <td>0.252300</td>\n",
              "      <td>0.260528</td>\n",
              "      <td>0.921562</td>\n",
              "    </tr>\n",
              "    <tr>\n",
              "      <td>2</td>\n",
              "      <td>0.140500</td>\n",
              "      <td>0.190841</td>\n",
              "      <td>0.934063</td>\n",
              "    </tr>\n",
              "  </tbody>\n",
              "</table><p>"
            ]
          },
          "metadata": {}
        },
        {
          "output_type": "display_data",
          "data": {
            "text/plain": [
              "<IPython.core.display.HTML object>"
            ],
            "text/html": [
              "\n",
              "    <div>\n",
              "      \n",
              "      <progress value='400' max='400' style='width:300px; height:20px; vertical-align: middle;'></progress>\n",
              "      [400/400 00:06]\n",
              "    </div>\n",
              "    "
            ]
          },
          "metadata": {}
        },
        {
          "output_type": "stream",
          "name": "stdout",
          "text": [
            "{'eval_loss': 0.19084063172340393, 'eval_accuracy': 0.9340625, 'eval_runtime': 6.7051, 'eval_samples_per_second': 477.252, 'eval_steps_per_second': 59.656, 'epoch': 2.0}\n"
          ]
        }
      ]
    },
    {
      "cell_type": "code",
      "source": [
        "#  Install dependencies\n",
        "# !pip install -q datasets transformers evaluate\n",
        "\n",
        "#  Imports\n",
        "from datasets import load_dataset\n",
        "from transformers import (\n",
        "    AutoTokenizer, AutoModelForSequenceClassification,\n",
        "    Trainer, TrainingArguments, DataCollatorWithPadding\n",
        ")\n",
        "import evaluate\n",
        "import numpy as np\n",
        "import torch\n",
        "\n",
        "#  Load and preprocess dataset\n",
        "raw = load_dataset(\"emotion\", split=\"train\")\n",
        "raw = raw.shuffle(seed=42).train_test_split(test_size=0.2)\n",
        "tokenizer = AutoTokenizer.from_pretrained(\"bert-base-uncased\")\n",
        "\n",
        "def preprocess(batch):\n",
        "    return tokenizer(batch[\"text\"], truncation=True, padding=\"max_length\", max_length=128)\n",
        "\n",
        "train_ds = raw[\"train\"].map(preprocess, batched=True)\n",
        "eval_ds = raw[\"test\"].map(preprocess, batched=True)\n",
        "\n",
        "# Load model\n",
        "model = AutoModelForSequenceClassification.from_pretrained(\n",
        "    \"bert-base-uncased\", num_labels=len(raw[\"train\"].features[\"label\"].names)\n",
        ")\n",
        "\n",
        "# Prepare metrics\n",
        "metric = evaluate.load(\"accuracy\")\n",
        "def compute_metrics(eval_pred):\n",
        "    logits, labels = eval_pred\n",
        "    preds = np.argmax(logits, axis=1)\n",
        "    return metric.compute(predictions=preds, references=labels)\n",
        "\n",
        "# Prepare Trainer\n",
        "training_args = TrainingArguments(\n",
        "    output_dir=\"results\",\n",
        "    eval_strategy=\"epoch\",\n",
        "    learning_rate=2e-5,\n",
        "    per_device_train_batch_size=8,\n",
        "    per_device_eval_batch_size=8,\n",
        "    num_train_epochs=2,\n",
        "    save_strategy=\"no\",\n",
        "    logging_steps=10,\n",
        ")\n",
        "\n",
        "data_collator = DataCollatorWithPadding(tokenizer)\n",
        "trainer = Trainer(\n",
        "    model=model,\n",
        "    args=training_args,\n",
        "    train_dataset=train_ds,\n",
        "    eval_dataset=eval_ds,\n",
        "    tokenizer=tokenizer,\n",
        "    data_collator=data_collator,\n",
        "    compute_metrics=compute_metrics,\n",
        ")\n",
        "\n",
        "# Helper function: Predict emotion for given list of texts\n",
        "# Defines a function named predict_emotions.\n",
        "# Inputs:\n",
        "# >texts: list of raw text strings (e.g., [\"I'm so happy\", \"I'm scared\"])\n",
        "# >model: the fine-tuned BERT model\n",
        "# >label_names: list mapping label IDs to string names (e.g., ['sadness', 'joy', 'love', 'anger', 'fear', 'surprise'])\n",
        "def predict_emotions(texts, model, label_names):\n",
        "    results = []\n",
        "    model.eval()\n",
        "    for text in texts:\n",
        "        inputs = tokenizer(text, return_tensors=\"pt\", padding=True, truncation=True).to(model.device)\n",
        "        with torch.no_grad(): # Runs the model in inference mode (no gradient calculation).\n",
        "            logits = model(**inputs).logits # Gets the raw logits (scores for each class/emotion) from the model.\n",
        "        pred_label = label_names[logits.argmax(-1).item()]\n",
        "        # logits.argmax(-1): finds the index of the highest score → predicted label ID\n",
        "        # .item(): extracts the Python int from tensor\n",
        "        # label_names[...]: maps the predicted label ID to the corresponding emotion name\n",
        "        results.append((text, pred_label))\n",
        "    return results\n",
        "\n",
        "label_names = raw[\"train\"].features[\"label\"].names\n",
        "sample_texts = [\n",
        "    \"I'm so frustrated with everything happening right now.\",\n",
        "    \"I just got promoted and I’m feeling amazing!\",\n",
        "    \"Why does everything bad happen to me?\",\n",
        "    \"I'm laughing so hard at this meme!\",\n",
        "    \"I feel very calm and peaceful today.\",\n",
        "    \"I miss her so much, it hurts.\",\n",
        "    \"This is the worst experience of my life.\"\n",
        "]\n",
        "\n",
        "# Evaluate BEFORE fine-tuning\n",
        "print(\"🔍 Performance BEFORE fine-tuning:\")\n",
        "metrics_before = trainer.evaluate()\n",
        "print(metrics_before)\n",
        "\n",
        "print(\"\\n📌 Predictions BEFORE fine-tuning:\")\n",
        "before_preds = predict_emotions(sample_texts, model, label_names)\n",
        "for text, label in before_preds:\n",
        "    print(f\"Text: {text}\\nPredicted Emotion: {label}\\n\")\n",
        "\n",
        "# Train the model\n",
        "trainer.train()\n",
        "\n",
        "# Evaluate AFTER fine-tuning\n",
        "print(\"🔍 Performance AFTER fine-tuning:\")\n",
        "metrics_after = trainer.evaluate()\n",
        "print(metrics_after)\n",
        "\n",
        "print(\"\\n📌 Predictions AFTER fine-tuning:\")\n",
        "after_preds = predict_emotions(sample_texts, model, label_names)\n",
        "for text, label in after_preds:\n",
        "    print(f\"Text: {text}\\nPredicted Emotion: {label}\\n\")\n",
        "\n",
        "# Side-by-side comparison\n",
        "print(\"\\n✅ Accuracy Comparison:\")\n",
        "print(f\"Before fine-tuning: {metrics_before['eval_accuracy']:.4f}\")\n",
        "print(f\"After fine-tuning : {metrics_after['eval_accuracy']:.4f}\")\n"
      ],
      "metadata": {
        "colab": {
          "base_uri": "https://localhost:8080/",
          "height": 1000,
          "referenced_widgets": [
            "e272fb805cbc4e1ea4aa4dd84867d740",
            "7b925dc8a02049e0ac7f295759f7e5a4",
            "a0242ad798a64862b36a0fb8bce84c58",
            "2f7a8d10a7d847d88e2ffcce23306777",
            "669d8724b0a84ee0b62de8d25d07159f",
            "02f29bc5b5484dc6b2a6833ead2a3250",
            "50c1a2f4f3cf45eb8c7f6c4ee1b6e887",
            "a05bbb1d923248c2bfdf02f099667344",
            "8ca744d77d384a0d9a32c2aa2f9ec518",
            "85182d3ee28042b4afeaaf990183e77c",
            "f31f2ee012ce4c6480c3af48db9ec2ad",
            "fbfee87ccf434de19d8a6b1a35a6943c",
            "961e00cbab2944d08388ccc31a5842ee",
            "6a15d09286c546539fef8ae5b19bd673",
            "a9471df6de584f988dc5f7d70f0c15b6",
            "8b85f21f77cc4a8e914014db3326d5c5",
            "31f99286930840558d454facbd1e08a5",
            "ba498a0e530a4741b366274fabc8c914",
            "36c348b2ae1a457a95a60db5bdb9fe77",
            "b7165ea170044cda8537e58cac85c796",
            "aa31f961cda04b5c9ce62e5126554432",
            "1af2426d7e7b4845a64ede7f70643652"
          ]
        },
        "id": "m3hiT9B6yyRS",
        "outputId": "8cd8e4e3-b18b-49c0-cc64-49d78a5c7032"
      },
      "execution_count": null,
      "outputs": [
        {
          "output_type": "display_data",
          "data": {
            "text/plain": [
              "Map:   0%|          | 0/12800 [00:00<?, ? examples/s]"
            ],
            "application/vnd.jupyter.widget-view+json": {
              "version_major": 2,
              "version_minor": 0,
              "model_id": "e272fb805cbc4e1ea4aa4dd84867d740"
            }
          },
          "metadata": {}
        },
        {
          "output_type": "display_data",
          "data": {
            "text/plain": [
              "Map:   0%|          | 0/3200 [00:00<?, ? examples/s]"
            ],
            "application/vnd.jupyter.widget-view+json": {
              "version_major": 2,
              "version_minor": 0,
              "model_id": "fbfee87ccf434de19d8a6b1a35a6943c"
            }
          },
          "metadata": {}
        },
        {
          "output_type": "stream",
          "name": "stderr",
          "text": [
            "Some weights of BertForSequenceClassification were not initialized from the model checkpoint at bert-base-uncased and are newly initialized: ['classifier.bias', 'classifier.weight']\n",
            "You should probably TRAIN this model on a down-stream task to be able to use it for predictions and inference.\n"
          ]
        },
        {
          "output_type": "stream",
          "name": "stdout",
          "text": [
            "🔍 Performance BEFORE fine-tuning:\n"
          ]
        },
        {
          "output_type": "stream",
          "name": "stderr",
          "text": [
            "/tmp/ipython-input-5-3010640857.py:50: FutureWarning: `tokenizer` is deprecated and will be removed in version 5.0.0 for `Trainer.__init__`. Use `processing_class` instead.\n",
            "  trainer = Trainer(\n"
          ]
        },
        {
          "output_type": "display_data",
          "data": {
            "text/plain": [
              "<IPython.core.display.HTML object>"
            ],
            "text/html": [
              "\n",
              "    <div>\n",
              "      \n",
              "      <progress value='800' max='400' style='width:300px; height:20px; vertical-align: middle;'></progress>\n",
              "      [400/400 01:40]\n",
              "    </div>\n",
              "    "
            ]
          },
          "metadata": {}
        },
        {
          "output_type": "stream",
          "name": "stdout",
          "text": [
            "{'eval_loss': 1.7641874551773071, 'eval_model_preparation_time': 0.0041, 'eval_accuracy': 0.2703125, 'eval_runtime': 6.8135, 'eval_samples_per_second': 469.657, 'eval_steps_per_second': 58.707}\n",
            "\n",
            "📌 Predictions BEFORE fine-tuning:\n",
            "Text: I'm so frustrated with everything happening right now.\n",
            "Predicted Emotion: joy\n",
            "\n",
            "Text: I just got promoted and I’m feeling amazing!\n",
            "Predicted Emotion: joy\n",
            "\n",
            "Text: Why does everything bad happen to me?\n",
            "Predicted Emotion: joy\n",
            "\n",
            "Text: I'm laughing so hard at this meme!\n",
            "Predicted Emotion: joy\n",
            "\n",
            "Text: I feel very calm and peaceful today.\n",
            "Predicted Emotion: joy\n",
            "\n",
            "Text: I miss her so much, it hurts.\n",
            "Predicted Emotion: joy\n",
            "\n",
            "Text: This is the worst experience of my life.\n",
            "Predicted Emotion: joy\n",
            "\n"
          ]
        },
        {
          "output_type": "display_data",
          "data": {
            "text/plain": [
              "<IPython.core.display.HTML object>"
            ],
            "text/html": [
              "\n",
              "    <div>\n",
              "      \n",
              "      <progress value='3200' max='3200' style='width:300px; height:20px; vertical-align: middle;'></progress>\n",
              "      [3200/3200 03:05, Epoch 2/2]\n",
              "    </div>\n",
              "    <table border=\"1\" class=\"dataframe\">\n",
              "  <thead>\n",
              " <tr style=\"text-align: left;\">\n",
              "      <th>Epoch</th>\n",
              "      <th>Training Loss</th>\n",
              "      <th>Validation Loss</th>\n",
              "      <th>Model Preparation Time</th>\n",
              "      <th>Accuracy</th>\n",
              "    </tr>\n",
              "  </thead>\n",
              "  <tbody>\n",
              "    <tr>\n",
              "      <td>1</td>\n",
              "      <td>0.245300</td>\n",
              "      <td>0.219166</td>\n",
              "      <td>0.004100</td>\n",
              "      <td>0.931875</td>\n",
              "    </tr>\n",
              "    <tr>\n",
              "      <td>2</td>\n",
              "      <td>0.040700</td>\n",
              "      <td>0.171208</td>\n",
              "      <td>0.004100</td>\n",
              "      <td>0.940000</td>\n",
              "    </tr>\n",
              "  </tbody>\n",
              "</table><p>"
            ]
          },
          "metadata": {}
        },
        {
          "output_type": "stream",
          "name": "stdout",
          "text": [
            "🔍 Performance AFTER fine-tuning:\n"
          ]
        },
        {
          "output_type": "display_data",
          "data": {
            "text/plain": [
              "<IPython.core.display.HTML object>"
            ],
            "text/html": [
              "\n",
              "    <div>\n",
              "      \n",
              "      <progress value='400' max='400' style='width:300px; height:20px; vertical-align: middle;'></progress>\n",
              "      [400/400 00:06]\n",
              "    </div>\n",
              "    "
            ]
          },
          "metadata": {}
        },
        {
          "output_type": "stream",
          "name": "stdout",
          "text": [
            "{'eval_loss': 0.17120762169361115, 'eval_model_preparation_time': 0.0041, 'eval_accuracy': 0.94, 'eval_runtime': 6.7158, 'eval_samples_per_second': 476.491, 'eval_steps_per_second': 59.561, 'epoch': 2.0}\n",
            "\n",
            "📌 Predictions AFTER fine-tuning:\n",
            "Text: I'm so frustrated with everything happening right now.\n",
            "Predicted Emotion: anger\n",
            "\n",
            "Text: I just got promoted and I’m feeling amazing!\n",
            "Predicted Emotion: joy\n",
            "\n",
            "Text: Why does everything bad happen to me?\n",
            "Predicted Emotion: sadness\n",
            "\n",
            "Text: I'm laughing so hard at this meme!\n",
            "Predicted Emotion: joy\n",
            "\n",
            "Text: I feel very calm and peaceful today.\n",
            "Predicted Emotion: joy\n",
            "\n",
            "Text: I miss her so much, it hurts.\n",
            "Predicted Emotion: sadness\n",
            "\n",
            "Text: This is the worst experience of my life.\n",
            "Predicted Emotion: sadness\n",
            "\n",
            "\n",
            "✅ Accuracy Comparison:\n"
          ]
        },
        {
          "output_type": "error",
          "ename": "KeyError",
          "evalue": "'accuracy'",
          "traceback": [
            "\u001b[0;31m---------------------------------------------------------------------------\u001b[0m",
            "\u001b[0;31mKeyError\u001b[0m                                  Traceback (most recent call last)",
            "\u001b[0;32m/tmp/ipython-input-5-3010640857.py\u001b[0m in \u001b[0;36m<cell line: 0>\u001b[0;34m()\u001b[0m\n\u001b[1;32m    106\u001b[0m \u001b[0;31m# 🔄 Side-by-side comparison\u001b[0m\u001b[0;34m\u001b[0m\u001b[0;34m\u001b[0m\u001b[0m\n\u001b[1;32m    107\u001b[0m \u001b[0mprint\u001b[0m\u001b[0;34m(\u001b[0m\u001b[0;34m\"\\n✅ Accuracy Comparison:\"\u001b[0m\u001b[0;34m)\u001b[0m\u001b[0;34m\u001b[0m\u001b[0;34m\u001b[0m\u001b[0m\n\u001b[0;32m--> 108\u001b[0;31m \u001b[0mprint\u001b[0m\u001b[0;34m(\u001b[0m\u001b[0;34mf\"Before fine-tuning: {metrics_before['accuracy']:.4f}\"\u001b[0m\u001b[0;34m)\u001b[0m\u001b[0;34m\u001b[0m\u001b[0;34m\u001b[0m\u001b[0m\n\u001b[0m\u001b[1;32m    109\u001b[0m \u001b[0mprint\u001b[0m\u001b[0;34m(\u001b[0m\u001b[0;34mf\"After fine-tuning : {metrics_after['accuracy']:.4f}\"\u001b[0m\u001b[0;34m)\u001b[0m\u001b[0;34m\u001b[0m\u001b[0;34m\u001b[0m\u001b[0m\n",
            "\u001b[0;31mKeyError\u001b[0m: 'accuracy'"
          ]
        }
      ]
    },
    {
      "cell_type": "code",
      "source": [
        "# Side-by-side comparison\n",
        "print(\"\\nAccuracy Comparison:\")\n",
        "print(f\"Before fine-tuning: {metrics_before['eval_accuracy']:.4f}\")\n",
        "print(f\"After fine-tuning : {metrics_after['eval_accuracy']:.4f}\")"
      ],
      "metadata": {
        "colab": {
          "base_uri": "https://localhost:8080/"
        },
        "id": "3oaiD8VV0uqL",
        "outputId": "8ad011fa-873d-4133-88a3-14258485e4dd"
      },
      "execution_count": null,
      "outputs": [
        {
          "output_type": "stream",
          "name": "stdout",
          "text": [
            "\n",
            "✅ Accuracy Comparison:\n",
            "Before fine-tuning: 0.2703\n",
            "After fine-tuning : 0.9400\n"
          ]
        }
      ]
    },
    {
      "cell_type": "code",
      "source": [],
      "metadata": {
        "id": "cLs4role2Di-"
      },
      "execution_count": null,
      "outputs": []
    },
    {
      "cell_type": "markdown",
      "source": [
        "---"
      ],
      "metadata": {
        "id": "wz3-fCvD2Pl5"
      }
    }
  ]
}