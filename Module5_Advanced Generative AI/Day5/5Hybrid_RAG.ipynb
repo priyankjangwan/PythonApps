{
 "cells": [
  {
   "cell_type": "markdown",
   "id": "38f46c7c",
   "metadata": {},
   "source": [
    "\n",
    "\n",
    "---\n",
    "\n",
    "## Problem Statement for Ex5:\n",
    "\n",
    "Organizations often need to analyze **large volumes of legal contracts** stored as PDFs, which contain nuanced clauses like **termination**, **non-compete**, and **confidentiality terms**. Purely semantic search (vector-based) or keyword search (BM25) alone may miss context or relevance.\n",
    "\n",
    "**Objective:**\n",
    "To build a more powerful **Hybrid RAG system** over multiple legal contracts that combines:\n",
    "\n",
    "* **Semantic search** via FAISS for meaning-based retrieval\n",
    "* **Keyword search** via BM25 (Whoosh) for exact match and legal precision\n",
    "* **Instruction-tuned generation** using FLAN-T5 to answer questions using merged results\n",
    "\n",
    "All achieved **without cloud APIs**, using open-source tools only.\n",
    "\n",
    "---\n",
    "\n",
    "## What's *additionally* happening compared to Ex4?\n",
    "\n",
    "| Feature                   | Ex4: Multi-PDF RAG with FLAN-T5 | Ex5: Hybrid RAG over Legal Contracts                            |\n",
    "| ------------------------- | ------------------------------- | --------------------------------------------------------------- |\n",
    "| **Document Type**         | General HR policy PDFs          | Focused on **legal contracts**                                  |\n",
    "| **Search Type**           | Only semantic (vector-based)    | **Hybrid retrieval** (semantic + BM25 keyword search)           |\n",
    "| **Keyword Search Engine** | Not used                        | **Whoosh** (BM25-based inverted index)                          |\n",
    "| **Retrieval Logic**       | FAISS top-k chunks              | Combines **FAISS + Whoosh**, removes duplicates                 |\n",
    "| **Metadata Support**      | Minimal                         | Stores file-level metadata with chunks                          |\n",
    "| **Summarization**         | Basic summary of top chunks     | Allows summarization of **each PDF** in a legal context         |\n",
    "| **Use Case**              | HR Assistant                    | **Legal Contract QA System** with enhanced clause understanding |\n",
    "\n",
    "---\n",
    "\n",
    "## What this version demonstrates:\n",
    "\n",
    "* A **hybrid retrieval pipeline** merging two fundamentally different techniques:\n",
    "\n",
    "  * Semantic similarity (context awareness)\n",
    "  * Exact term matching (clause compliance)\n",
    "* A more **robust and accurate retrieval system** for documents where precision matters (legal, compliance, procurement).\n",
    "* The **ability to summarize or extract clauses** from complex legal documents using FLAN-T5\n",
    "* A scalable, script-based version that can be converted to a **Streamlit UI** or **API backend**\n",
    "\n",
    "---\n",
    "\n",
    "## Summary of Progression So Far:\n",
    "\n",
    "| Version | Major Capability                                 |\n",
    "| ------- | ------------------------------------------------ |\n",
    "| **Ex1** | Naive RAG (script + static PDF)                  |\n",
    "| **Ex2** | Streamlit UI                                     |\n",
    "| **Ex3** | Dynamic PDF Upload                               |\n",
    "| **Ex4** | Multi-PDF Upload + Summarization                 |\n",
    "| **Ex5** | **Hybrid Retrieval (FAISS + BM25)** for Legal QA |\n",
    "\n",
    "---"
   ]
  },
  {
   "cell_type": "code",
   "execution_count": null,
   "id": "b02e9702",
   "metadata": {},
   "outputs": [],
   "source": [
    "# Install dependencies\n",
    "!pip install sentence-transformers faiss-cpu transformers PyPDF2 whoosh -q\n",
    "\n",
    "# whoosh\n",
    "# What is Whoosh?\n",
    "# Whoosh is a fast, featureful pure-Python search engine library. It allows you to add search capabilities to your applications, enabling you to index and search text data efficiently."
   ]
  },
  {
   "cell_type": "code",
   "execution_count": 3,
   "id": "a2ff99b8",
   "metadata": {},
   "outputs": [],
   "source": [
    "\n",
    "# Imports\n",
    "import os\n",
    "import PyPDF2\n",
    "import faiss\n",
    "import numpy as np\n",
    "\n",
    "# Whoosh imports\n",
    "# Schema defines the structure of the indexed documents.\n",
    "# TEXT is used for full-text search fields, and ID is used for unique identifiers.\n",
    "# Precisely, we will use TEXT for the content of the documents and ID for their unique identifiers.\n",
    "from whoosh.fields import Schema, TEXT, ID\n",
    "\n",
    "# IndexWriter is used to add documents to the index.\n",
    "# create_in is used to create a new index in a specified directory.\n",
    "# Precisely, we will use IndexWriter to add documents to the index and create_in to create a new index in a specified directory.\n",
    "from whoosh.index import create_in\n",
    "\n",
    "# QueryParser is used to parse search queries.\n",
    "# It allows you to define how queries are interpreted and executed against the indexed documents.\n",
    "# Precisely, we will use QueryParser to parse user queries and search the indexed documents.\n",
    "from whoosh.qparser import QueryParser\n",
    "\n",
    "\n",
    "from sentence_transformers import SentenceTransformer\n",
    "from transformers import pipeline\n",
    "import tempfile # Temporary directory for storing files\n"
   ]
  },
  {
   "cell_type": "code",
   "execution_count": 5,
   "id": "698264e8",
   "metadata": {},
   "outputs": [
    {
     "name": "stdout",
     "output_type": "stream",
     "text": [
      "Loaded 466 chunks from contracts.\n"
     ]
    }
   ],
   "source": [
    "# Step 1: Load & chunk PDFs from contracts/\n",
    "def load_contract_chunks(folder_path, chunk_size=300):\n",
    "    chunks = []\n",
    "    filenames = os.listdir(folder_path)\n",
    "    for filename in filenames:\n",
    "        if filename.endswith(\".pdf\"):\n",
    "            path = os.path.join(folder_path, filename)\n",
    "            reader = PyPDF2.PdfReader(path)\n",
    "            text = \"\"\n",
    "            for page in reader.pages:\n",
    "                text += page.extract_text()\n",
    "            text = text.replace(\"\\n\", \" \")\n",
    "            for i in range(0, len(text), chunk_size):\n",
    "                chunk = text[i:i + chunk_size]\n",
    "                chunks.append((chunk, filename))\n",
    "    return chunks\n",
    "\n",
    "chunks_with_meta = load_contract_chunks(\"contracts\", chunk_size=300)\n",
    "chunks = [c[0] for c in chunks_with_meta]\n",
    "print(f\"Loaded {len(chunks)} chunks from contracts.\")\n"
   ]
  },
  {
   "cell_type": "code",
   "execution_count": 6,
   "id": "24bfc8f4",
   "metadata": {},
   "outputs": [
    {
     "name": "stderr",
     "output_type": "stream",
     "text": [
      "/opt/anaconda3/lib/python3.11/site-packages/torch/nn/modules/module.py:1762: FutureWarning: `encoder_attention_mask` is deprecated and will be removed in version 4.55.0 for `BertSdpaSelfAttention.forward`.\n",
      "  return forward_call(*args, **kwargs)\n"
     ]
    },
    {
     "name": "stdout",
     "output_type": "stream",
     "text": [
      "FAISS index ready.\n"
     ]
    }
   ],
   "source": [
    "\n",
    "# Step 2: FAISS vector index (semantic search)\n",
    "embedder = SentenceTransformer(\"all-MiniLM-L6-v2\")\n",
    "embeddings = embedder.encode(chunks, convert_to_tensor=False)\n",
    "dimension = len(embeddings[0])\n",
    "faiss_index = faiss.IndexFlatL2(dimension)\n",
    "faiss_index.add(np.array(embeddings))\n",
    "print(\"FAISS index ready.\")\n"
   ]
  },
  {
   "cell_type": "code",
   "execution_count": 7,
   "id": "f6b2865c",
   "metadata": {},
   "outputs": [
    {
     "name": "stdout",
     "output_type": "stream",
     "text": [
      "Whoosh BM25 index ready.\n"
     ]
    }
   ],
   "source": [
    "\n",
    "# Step 3: BM25 index using Whoosh (keyword search)\n",
    "schema = Schema(content=TEXT(stored=True), path=ID(stored=True))\n",
    "# content=TEXT(stored=True) means that the content of the document will be indexed and stored for retrieval.\n",
    "# path=ID(stored=True) means that the path of the document will be indexed and stored for retrieval.\n",
    "# This allows us to retrieve the original document path when searching.\n",
    "# stored=True means that the field will be stored in the index and can be retrieved later.\n",
    "# This is useful for retrieving the original content or metadata of the indexed documents.\n",
    "# ID is used for unique identifiers, which allows us to retrieve the original document path when searching.\n",
    "# TEXT is used for full-text search fields, which allows us to perform keyword searches on the content of the documents.\n",
    "# Precisely, we will use TEXT for the content of the documents and ID for their unique identifiers.\n",
    "# create_in creates a new index in the specified directory.\n",
    "# It takes the directory path and the schema as arguments.\n",
    "# The index will be created in the specified directory, and the schema defines the structure of the indexed documents.\n",
    "# The index will be used to store the indexed documents and perform keyword searches.\n",
    "\n",
    "\n",
    "index_dir = tempfile.mkdtemp() # Create a temporary directory for the index\n",
    "ix = create_in(index_dir, schema) # Create a new index in the temporary directory\n",
    "# ix is the index object that will be used to add documents and perform searches.\n",
    "# ix.writer() creates a writer object that allows you to add documents to the index.\n",
    "# The writer object is used to add documents to the index and commit changes.\n",
    "writer = ix.writer()\n",
    "for i, (chunk, fname) in enumerate(chunks_with_meta):\n",
    "    writer.add_document(content=chunk, path=fname)\n",
    "writer.commit()\n",
    "print(\"Whoosh BM25 index ready.\")\n"
   ]
  },
  {
   "cell_type": "code",
   "execution_count": 9,
   "id": "d7c63d56",
   "metadata": {},
   "outputs": [
    {
     "name": "stdout",
     "output_type": "stream",
     "text": [
      "First indexed document:   Page 1 Sample Contract    Contract No.___________  PROFESSIONAL SERVICES AGREEMENT      THIS AGREE... (path: 1SampleCo1ntract-Shuttle.pdf)\n"
     ]
    }
   ],
   "source": [
    "# View the first indexed document\n",
    "with ix.searcher() as searcher:\n",
    "    first_doc = searcher.document()\n",
    "    print(f\"First indexed document: {first_doc['content'][:100]}... (path: {first_doc['path']})\")"
   ]
  },
  {
   "cell_type": "code",
   "execution_count": 10,
   "id": "bf653aa7",
   "metadata": {},
   "outputs": [],
   "source": [
    "\n",
    "# Step 4: Hybrid retrieval\n",
    "def hybrid_retrieve(query, top_k=3):\n",
    "    # 1. Vector search (semantic)\n",
    "    q_vec = embedder.encode([query])\n",
    "    _, indices = faiss_index.search(np.array(q_vec), top_k)\n",
    "    semantic_results = [chunks[i] for i in indices[0]]\n",
    "    \n",
    "    # 2. Keyword search (BM25)\n",
    "    with ix.searcher() as searcher:\n",
    "        parser = QueryParser(\"content\", schema=ix.schema)\n",
    "        parsed_query = parser.parse(query)\n",
    "        results = searcher.search(parsed_query, limit=top_k)\n",
    "        keyword_results = [r['content'] for r in results]\n",
    "\n",
    "    # Merge and dedupe\n",
    "    hybrid_results = list(dict.fromkeys(semantic_results + keyword_results))\n",
    "    return hybrid_results[:top_k]\n"
   ]
  },
  {
   "cell_type": "code",
   "execution_count": 11,
   "id": "52c37406",
   "metadata": {},
   "outputs": [
    {
     "name": "stderr",
     "output_type": "stream",
     "text": [
      "Device set to use mps:0\n"
     ]
    }
   ],
   "source": [
    "\n",
    "# Step 5: LLM - FLAN-T5\n",
    "qa = pipeline(\"text2text-generation\", model=\"google/flan-t5-base\", max_length=256)\n"
   ]
  },
  {
   "cell_type": "code",
   "execution_count": 12,
   "id": "61e756bc",
   "metadata": {},
   "outputs": [],
   "source": [
    "\n",
    "# Step 6: Answer query with hybrid context\n",
    "def answer_query(query):\n",
    "    contexts = hybrid_retrieve(query)\n",
    "    full_context = \"\\n\".join(contexts)\n",
    "    prompt = f\"Context:\\n{full_context}\\n\\nQuestion: {query}\\n\\nAnswer:\"\n",
    "    print(f\"Prompt:\\n{prompt}\\n\")\n",
    "    # Generate answer using the LLM\n",
    "    result = qa(prompt)[0][\"generated_text\"]\n",
    "    return result.strip()\n"
   ]
  },
  {
   "cell_type": "code",
   "execution_count": 13,
   "id": "79e72128",
   "metadata": {},
   "outputs": [
    {
     "name": "stdout",
     "output_type": "stream",
     "text": [
      "\n",
      "🧠 Query 1:\n",
      "Prompt:\n",
      "Context:\n",
      " to perform his  obligations when that performance falls due.  9. At law, the right to terminate for breach arises  in three situations:   ( a )  r e p u d i a t i o n  –  w h e r e  a  p a r t y  e v i n c e s  a  c l e a r  a n d absolute refusal to  perform;   ( b )  i m p o s s i b i l i t y  – \n",
      " performance. However, termination does not release the injured party from  his duty to perform obligations which accrued befor e termination. If the  injured party fails to exercise his option to termi nate, or positively affirms the  contract, the contract remains in force and each pa rty is bound\n",
      "ght to terminate is distinct  from a common law right to terminate for breach, wh ich is discussed below).   B TERMINATION                                                    13 Shirlaw v Southern Foundries (1926) Ltd  [1939] 2 KB 206, 227 per MacKinnon LJ.  14 The Moorcock [1889] 14 PB 64. (i) Breac\n",
      "\n",
      "Question: What does the termination clause say?\n",
      "\n",
      "Answer:\n",
      "\n",
      "does not release the injured party from his duty to perform obligations which accrued befor e termination\n"
     ]
    }
   ],
   "source": [
    "# Test queries\n",
    "print(\"\\n🧠 Query 1:\")\n",
    "print(answer_query(\"What does the termination clause say?\"))\n"
   ]
  },
  {
   "cell_type": "code",
   "execution_count": 14,
   "id": "96b23064",
   "metadata": {},
   "outputs": [
    {
     "name": "stdout",
     "output_type": "stream",
     "text": [
      "\n",
      "🧠 Query 2:\n",
      "Prompt:\n",
      "Context:\n",
      "n sells his business along with the goodwill  to another person, agrees  not to carry on same line of business in certain reasonable local limits, such an  agreement is valid.    An agreement of service  through which an employee commits not to compete with his  employer is not in restraint of trad\n",
      "perform his obligations under a contr act. Breach brings an end  to the obligations created by a contract.     F) Discharge by impossibility of performance  –   Impossibility of performance results in the discharge of the contract. An agreement which is  impossible is void, because law does not comp\n",
      "or other forms of compensation; a nd selection for training (including apprenticeship),  employment, upgrading, demotion, or transfer. The CONSULTANT agrees to post in conspicuous places,  available to employees and applicants for employme nt, notice setting forth the provisions of this non- discrim\n",
      "\n",
      "Question: Explain the non-compete obligations.\n",
      "\n",
      "Answer:\n",
      "\n",
      "An agreement of service through which an employee commits not to compete with his employer is not in restraint of trad perform his obligations under a contr act. F) Discharge by impossibility of performance – Impossibility of performance results in the discharge of the contract. An agreement which is impossible is void, because law does not comp or other forms of compensation; a nd selection for training (including apprenticeship), employment, upgrading, demotion, or transfer. The CONSULTANT agrees to post in conspicuous places, available to employees and applicants for employme nt, notice setting forth the provisions of this non-discrim\n"
     ]
    }
   ],
   "source": [
    "print(\"\\n🧠 Query 2:\")\n",
    "print(answer_query(\"Explain the non-compete obligations.\"))"
   ]
  },
  {
   "cell_type": "code",
   "execution_count": 15,
   "id": "edebf0ab",
   "metadata": {},
   "outputs": [
    {
     "name": "stdout",
     "output_type": "stream",
     "text": [
      "\n",
      "🧠 Query 3:\n",
      "Prompt:\n",
      "Context:\n",
      "erms may be implied from th e nature of the relationship  between the parties – for example, contracts for pr ofessional services require  the professional to act with reasonable standards o f competence, a lawyer  must act in his client's best interests and a docto r has a duty of confidentiality  \n",
      "oses a special duty to act with the utmost good faith  i.e., to disclose all material information. Failure to disclose such information will render the  contract voidable at the option of the ot her party   Examples –  a) Contract of insurance of all kinds   b) Company prospectus   c) Contract for t\n",
      "f which the consideration or  object is unlawful – Section 23  - Agreement in restraint of legal  proceedings – Section 28   - Agreement of which the consideration or  object is unlawful in part – Section 24  - Agreements void for uncertainty –  Section 29     - Agreement made without consideration \n",
      "\n",
      "Question: Describe the confidentiality terms.\n",
      "\n",
      "Answer:\n",
      "\n",
      "a docto r has a duty of confidentiality oses a special duty to act with the utmost good faith i.e., to disclose all material information. Failure to disclose such information will render the contract voidable at the option of the ot her party\n"
     ]
    }
   ],
   "source": [
    "print(\"\\n🧠 Query 3:\")\n",
    "print(answer_query(\"Describe the confidentiality terms.\"))\n"
   ]
  },
  {
   "cell_type": "code",
   "execution_count": null,
   "id": "5d8dcf01",
   "metadata": {},
   "outputs": [],
   "source": []
  }
 ],
 "metadata": {
  "kernelspec": {
   "display_name": "base",
   "language": "python",
   "name": "python3"
  },
  "language_info": {
   "codemirror_mode": {
    "name": "ipython",
    "version": 3
   },
   "file_extension": ".py",
   "mimetype": "text/x-python",
   "name": "python",
   "nbconvert_exporter": "python",
   "pygments_lexer": "ipython3",
   "version": "3.11.13"
  }
 },
 "nbformat": 4,
 "nbformat_minor": 5
}
