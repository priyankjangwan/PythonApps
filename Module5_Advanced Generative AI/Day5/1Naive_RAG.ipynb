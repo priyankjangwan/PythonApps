{
 "cells": [
  {
   "cell_type": "code",
   "execution_count": 1,
   "id": "ca7dcb63",
   "metadata": {},
   "outputs": [],
   "source": [
    "# https://www.google.com/url?sa=i&url=https%3A%2F%2Fblog.stackademic.com%2Fmastering-retrieval-augmented-generation-rag-architecture-unleash-the-power-of-large-language-a1d2be5f348c&psig=AOvVaw0DujeOP2NwkAn1ZC_E9waE&ust=1753624406384000&source=images&cd=vfe&opi=89978449&ved=0CBUQjRxqFwoTCNj_uZTW2o4DFQAAAAAdAAAAABAE"
   ]
  },
  {
   "cell_type": "code",
   "execution_count": 2,
   "id": "fc320450",
   "metadata": {},
   "outputs": [],
   "source": [
    "# Problem Statement\n",
    "# An enterprise HR department stores employee policies, benefits, leave rules, and compliance documents in lengthy PDFs. Employees frequently ask repetitive questions like “How many remote days are allowed?” or “What’s the intern stipend?” — and HR struggles to scale this support efficiently.\n",
    "\n",
    "# The goal is to build a Naive Retrieval-Augmented Generation (RAG) assistant that:\n",
    "\n",
    "# Retrieves relevant information from static PDF documents.\n",
    "# Uses a lightweight open-source language model to generate accurate answers.\n",
    "# Works without model fine-tuning or cloud APIs (i.e., fully local and lightweight).\n",
    "\n",
    "\n",
    "# Objectives\n",
    "# By the end of this lab, you will be able to:\n",
    "\n",
    "# Parse and chunk a PDF document intelligently.\n",
    "# Embed the text using Sentence Transformers.\n",
    "# Index and search using FAISS for vector similarity.\n",
    "# Retrieve relevant chunks based on user queries.\n",
    "# Use FLAN-T5, an instruction-tuned model, to generate answers.\n",
    "# Simulate a basic Naive RAG pipeline using open-source tools.\n",
    "\n",
    "\n",
    "# Outcomes\n",
    "# After completing this, you will:\n",
    "\n",
    "# Understand how to build the simplest form of RAG from scratch.\n",
    "# Be able to embed, retrieve, and generate without any external database or APIs.\n",
    "# Build a baseline QA system over any internal document.\n",
    "# Lay the foundation for more advanced RAG types like reranking, hybrid, or agentic RAG.\n"
   ]
  },
  {
   "cell_type": "code",
   "execution_count": 3,
   "id": "c9871649",
   "metadata": {},
   "outputs": [],
   "source": [
    "!pip install transformers sentence-transformers faiss-cpu PyPDF2 -q\n",
    "\n",
    "# transformers - for using FLAN-T5 model since we are using it for generation\n",
    "# sentence-transformers - for embedding the text chunks. T5 means \"Text-to-Text Transfer Transformer\" and is used for generating embeddings.\n",
    "# faiss-cpu - for indexing and searching the embeddings\n",
    "# PyPDF2 - for parsing PDF documents\n",
    "# Note: The -q flag is used to suppress output during installation.\n",
    "# This is useful for keeping the notebook clean and focused on the code and results."
   ]
  },
  {
   "cell_type": "code",
   "execution_count": 4,
   "id": "3f3e7a99",
   "metadata": {},
   "outputs": [],
   "source": [
    "!pip install tf-keras -q"
   ]
  },
  {
   "cell_type": "code",
   "execution_count": 5,
   "id": "2e7eef4b",
   "metadata": {},
   "outputs": [],
   "source": [
    "# Imports\n",
    "import PyPDF2 # used for reading PDF files and extracting text\n",
    "import os # used for file and directory operations\n",
    "import faiss # used for efficient similarity search and clustering of dense vectors\n",
    "import numpy as np\n",
    "\n",
    "# update below code to import the necessary libraries\n",
    "from sentence_transformers import SentenceTransformer # used for generating embeddings from text\n",
    "from transformers import pipeline # used for using pre-trained models for text generation"
   ]
  },
  {
   "cell_type": "code",
   "execution_count": 6,
   "id": "c1c5e99c",
   "metadata": {},
   "outputs": [
    {
     "name": "stdout",
     "output_type": "stream",
     "text": [
      "Loaded 24 pages.\n",
      "Loaded 152 chunks.\n",
      "Chunk 3: is the confidential property of Sirca Paints India Limited (SPIL)    and any use, distributing, copying or disclosure by any person to outsiders without any proper  authorization is strictly prohibited.     Any query or doubt concerning the content of the EHB should be forwarded to the Human  Resour\n"
     ]
    }
   ],
   "source": [
    "# Step 1: Load and split your PDF into chunks\n",
    "def load_pdf_chunks(pdf_path, chunk_size=300): # chunk_size=300 means each chunk will have a maximum of 300 characters i.e. spill the text into chunks of 300 characters\n",
    "    reader = PyPDF2.PdfReader(pdf_path) # create a PDF reader object\n",
    "    print(f\"Loaded {len(reader.pages)} pages.\")\n",
    "    text = \"\" # Initialize an empty string to hold the text\n",
    "    # Iterate through each page in the PDF and extract text\n",
    "    # This will concatenate all the text from the PDF into a single string\n",
    "    # Note: PyPDF2 may not extract text perfectly from all PDFs, especially if they contain complex formatting or images\n",
    "    # For more complex PDFs, consider using libraries like pdfplumber or PyMuPDF\n",
    "    # However, for this simple example, PyPDF2 should suffice\n",
    "    for page in reader.pages:\n",
    "        text += page.extract_text()\n",
    "\n",
    "    # Clean and chunk\n",
    "    text = text.replace(\"\\n\", \" \") # Replace newlines with spaces to avoid breaking words\n",
    "    chunks = [text[i:i + chunk_size] for i in range(0, len(text), chunk_size)]\n",
    "    return chunks\n",
    "\n",
    "chunks = load_pdf_chunks(\"company_policy.pdf\", chunk_size=300)\n",
    "print(f\"Loaded {len(chunks)} chunks.\")\n",
    "\n",
    "# Print the 3rd chunk to verify\n",
    "print(f\"Chunk 3: {chunks[2]}\")\n",
    "\n",
    "# Why is Chunking Important?\n",
    "# Chunking is crucial for several reasons:\n",
    "# 1. **Memory Efficiency**: Large documents can exceed memory limits. Chunking allows processing smaller parts sequentially.\n",
    "# 2. **Focused Retrieval**: Smaller chunks improve retrieval accuracy. Instead of searching through a massive document, the system can quickly find relevant sections.\n",
    "# 3. **Improved Context**: Smaller chunks provide better context for language models, leading to more accurate and relevant responses.\n",
    "# 4. **Scalability**: Chunking allows the system to scale better. As the document grows, the system can handle more data without significant performance degradation.\n",
    "# # 5. **Parallel Processing**: Smaller chunks can be processed in parallel, speeding up the retrieval and generation process.\n",
    "# 6. **Flexibility**: Different chunks can be used for different queries, allowing for more tailored responses based on user needs.\n",
    "# 7. **Reduced Latency**: Smaller chunks can be retrieved and processed faster, improving the overall user experience.\n",
    "## 8. **Better Model Performance**: Language models often perform better with shorter, more focused text inputs, leading to higher quality responses.\n",
    "# 9. **Easier Debugging**: Smaller chunks make it easier to identify and fix issues in the text processing pipeline.\n",
    "# 10. **Enhanced User Experience**: Users can quickly find relevant information without wading through large blocks of text\n",
    "# 11. **Improved Searchability**: Smaller chunks can be indexed more effectively, allowing for faster and more accurate search results.\n",
    "# 12. **Better Handling of Complex Documents**\n",
    "#    : Complex documents with multiple sections, tables, or images can be chunked to maintain context and structure, making it easier to retrieve relevant information."
   ]
  },
  {
   "cell_type": "code",
   "execution_count": 7,
   "id": "19f846db",
   "metadata": {},
   "outputs": [
    {
     "data": {
      "application/vnd.jupyter.widget-view+json": {
       "model_id": "cf08dbd15c264ae2a6de53029154a9bd",
       "version_major": 2,
       "version_minor": 0
      },
      "text/plain": [
       "Batches:   0%|          | 0/5 [00:00<?, ?it/s]"
      ]
     },
     "metadata": {},
     "output_type": "display_data"
    },
    {
     "name": "stderr",
     "output_type": "stream",
     "text": [
      "/opt/anaconda3/lib/python3.11/site-packages/torch/nn/modules/module.py:1762: FutureWarning: `encoder_attention_mask` is deprecated and will be removed in version 4.55.0 for `BertSdpaSelfAttention.forward`.\n",
      "  return forward_call(*args, **kwargs)\n"
     ]
    },
    {
     "name": "stdout",
     "output_type": "stream",
     "text": [
      "Generated embeddings for 152 chunks.\n"
     ]
    }
   ],
   "source": [
    "# Step 2: Embed chunks using SentenceTransformer\n",
    "embedder = SentenceTransformer(\"all-MiniLM-L6-v2\") # create an instance of the SentenceTransformer model\n",
    "# What is SentenceTransformer?\n",
    "# SentenceTransformer is a library that provides pre-trained models for generating sentence embeddings. These embeddings are dense vector representations of sentences that capture their semantic meaning. The \"all-MiniLM-L6-v2\" model is a lightweight transformer model that produces high-quality embeddings suitable for various NLP tasks, including semantic search, clustering, and classification. It is designed to be efficient and fast while maintaining good performance\n",
    "# on a wide range of text data.\n",
    "\n",
    "chunk_embeddings = embedder.encode(chunks, convert_to_tensor=False, show_progress_bar=True)\n",
    "# convert_to_tensor=False means that the embeddings will be returned as NumPy arrays instead of PyTorch tensors. This is useful if you want to work with the embeddings in a NumPy-based environment or if you don't need the additional functionality provided by PyTorch tensors.\n",
    "# show_progress_bar=True means that a progress bar will be displayed during the embedding process, which can be helpful for tracking the progress of the operation, especially when processing large datasets or many chunks.\n",
    "print(f\"Generated embeddings for {len(chunk_embeddings)} chunks.\")"
   ]
  },
  {
   "cell_type": "code",
   "execution_count": 8,
   "id": "48f515ff",
   "metadata": {},
   "outputs": [
    {
     "name": "stdout",
     "output_type": "stream",
     "text": [
      "Embedding dimension: 384\n"
     ]
    }
   ],
   "source": [
    "# Print the embedding for the 3rd chunk to verify\n",
    "# print(f\"Embedding for Chunk 3: {chunk_embeddings[2]}\")\n",
    "# Print the length of the embedding vector to verify\n",
    "print(f\"Embedding dimension: {len(chunk_embeddings[2])}\")"
   ]
  },
  {
   "cell_type": "code",
   "execution_count": 9,
   "id": "a89e8237",
   "metadata": {},
   "outputs": [
    {
     "name": "stdout",
     "output_type": "stream",
     "text": [
      "Embedding dimension for chunk 0: 384\n",
      "Embedding dimension for chunk 1: 384\n",
      "Embedding dimension for chunk 2: 384\n",
      "Embedding dimension for chunk 3: 384\n",
      "Embedding dimension for chunk 4: 384\n",
      "Embedding dimension for chunk 5: 384\n",
      "Embedding dimension for chunk 6: 384\n",
      "Embedding dimension for chunk 7: 384\n",
      "Embedding dimension for chunk 8: 384\n",
      "Embedding dimension for chunk 9: 384\n"
     ]
    }
   ],
   "source": [
    "# Print the length of the first 10 embedding vector to verify\n",
    "for i in range(10):\n",
    "    print(f\"Embedding dimension for chunk {i}: {len(chunk_embeddings[i])}\")\n"
   ]
  },
  {
   "cell_type": "code",
   "execution_count": 10,
   "id": "7d56b3e9",
   "metadata": {},
   "outputs": [
    {
     "name": "stdout",
     "output_type": "stream",
     "text": [
      "Embedding dimension: 384\n",
      "FAISS index built.\n"
     ]
    }
   ],
   "source": [
    "# Step 3: Create FAISS index\n",
    "dimension = len(chunk_embeddings[0]) # Get the dimension of the embeddings (i.e., the length of the vector representation)\n",
    "print(f\"Embedding dimension: {dimension}\")\n",
    "# FAISS (Facebook AI Similarity Search) is a library for efficient similarity search and clustering of dense vectors. It is particularly useful for large-scale similarity search tasks, such as finding similar items in high-dimensional spaces.\n",
    "index = faiss.IndexFlatL2(dimension) # L2 means that the index will use the L2 (Euclidean) distance metric for similarity search. This is a common choice for dense vector representations, as it measures the straight-line distance between two points in the embedding space.\n",
    "# The IndexFlatL2 class is a simple index that stores vectors in a flat structure and allows for exact nearest neighbor search using the L2 distance metric. It is suitable for small to medium-sized datasets where exact search is required.\n",
    "index.add(np.array(chunk_embeddings)) # Add the embeddings to the FAISS index\n",
    "# This step builds the index, allowing for efficient similarity search later on.\n",
    "print(\"FAISS index built.\")"
   ]
  },
  {
   "cell_type": "code",
   "execution_count": 11,
   "id": "04858c69",
   "metadata": {},
   "outputs": [],
   "source": [
    "# Step 4: Retrieval function\n",
    "def retrieve_top_k(query, k=3):\n",
    "    query_embedding = embedder.encode([query]) # this will convert the query into an embedding using the same model used for the chunks\n",
    "    distances, indices = index.search(np.array(query_embedding), k) # search the index for the top k most similar chunks\n",
    "    # distances will contain the distances of the top k chunks from the query embedding\n",
    "    # indices will contain the indices of the top k chunks in the original chunks list\n",
    "    # This means that indices[0] will give us the indices of the top k chunks\n",
    "    # We can then use these indices to retrieve the corresponding chunks from the original chunks list\n",
    "    return [chunks[i] for i in indices[0]]"
   ]
  },
  {
   "cell_type": "code",
   "execution_count": 12,
   "id": "adbc580f",
   "metadata": {},
   "outputs": [
    {
     "name": "stderr",
     "output_type": "stream",
     "text": [
      "Device set to use mps:0\n"
     ]
    }
   ],
   "source": [
    "# Step 5: Use FLAN-T5 for instruction-style generation\n",
    "qa_pipeline = pipeline(\"text2text-generation\", model=\"google/flan-t5-base\", max_length=256)\n",
    "# This pipeline will take a query and return a generated answer based on the retrieved chunks.\n",
    "# max_length=256 means that the generated answer will have a maximum length of 256 tokens. This is useful to control the length of the generated text and prevent excessively long responses."
   ]
  },
  {
   "cell_type": "code",
   "execution_count": 13,
   "id": "4af0df4b",
   "metadata": {},
   "outputs": [],
   "source": [
    "# Step 6: Answer function using Naive RAG\n",
    "def answer_query(query): # query= \"How many work-from-home days are allowed per month?\"\n",
    "    context_chunks = retrieve_top_k(query) # Retrieve the top 3 chunks relevant to the query\n",
    "    context = \"\\n\".join(context_chunks) # Join the retrieved chunks into a single context string\n",
    "    prompt = f\"Context: {context}\\n\\nQuestion: {query}\\n\\nUnderstand the intent of the user and do a perfect mapping between Question and Context.Note: If the questions answer is not found in the chunk with confidence of atleast 80% and there is no relevant context, politely reply with a No\\n\\nAnswer:\"\n",
    "    print(f\"\\nPrompt:\\n {prompt}\")\n",
    "    response = qa_pipeline(prompt)[0]['generated_text']\n",
    "    return response.strip()"
   ]
  },
  {
   "cell_type": "code",
   "execution_count": 14,
   "id": "50aa343a",
   "metadata": {},
   "outputs": [
    {
     "name": "stdout",
     "output_type": "stream",
     "text": [
      "\n",
      "Prompt:\n",
      " Context: considered as Half Day.   Extra Ordinary Leave and Work from Home   On the basis of Medical Ground (i.e. Any Accident, Fracture or any other problem). The employee  can avail the 7 days leave and the same will be considered on Special Leave. To avail the said  leave the employee has to subm it the p\n",
      "h. The leave given to the employee will be strictly based on the Date of  Joining (i.e. Pro -Rata Basis). Employee who joins on the following dates will be eligible for the  leave.     1st to 7th of every month  : 2    8th to 14th of every month  : 1.5     15th to 21st of every month  : 1    22nd to\n",
      "tendance of their respective team members/subordinate.     m) Employee who will take the leave on Saturday and Monday, then the Sunday of that  particular week wi ll also be included.     n) It is clear state that company follows the rule “NO WORK NO PAY” and unauthorized absent  will be treated as \n",
      "\n",
      "Question: How many work-from-home days are allowed per month?\n",
      "\n",
      "Understand the intent of the user and do a perfect mapping between Question and Context.Note: If the questions answer is not found in the chunk with confidence of atleast 80% and there is no relevant context, politely reply with a No\n",
      "\n",
      "Answer:\n",
      "\n",
      "🧠 Assistant Response:\n",
      "1st to 7th of every month : 2 8th to 14th of every month : 1.5 15th to 21st of every month : 1 22nd to tendance of their respective team members/subordinate. The employee can avail the 7 days leave and the same will be considered on Special Leave. To avail the said leave the employee has to subm it the p h. The leave given to the employee will be strictly based on the Date of Joining (i.e. Pro - Rata Basis). Employee who joins on the following dates will be eligible for the leave. 1st to 7th of every month : 2 8th to 14th of every month : 1.5 15th to 21st of every month : 1 22nd to tendance of their respective team members/subordinate. The employee can avail the 7 days leave and the same will be considered on Special Leave. To avail the said leave the employee has to subm it the p h. The leave given to the employee will be strictly based on the Date of Joining (i.e. Pro - Rata Basis). Employee who will take the leave on Saturday and Monday, then the Sunday\n"
     ]
    }
   ],
   "source": [
    "# Test it\n",
    "question = \"How many work-from-home days are allowed per month?\"\n",
    "response = answer_query(question)\n",
    "print(f\"\\n🧠 Assistant Response:\\n{response}\")"
   ]
  },
  {
   "cell_type": "code",
   "execution_count": 17,
   "id": "ba5d29bf",
   "metadata": {},
   "outputs": [
    {
     "name": "stdout",
     "output_type": "stream",
     "text": [
      "\n",
      "Prompt:\n",
      " Context: ration   Marriage Anniversary   Wedding Ceremony   Employee Children Merit Reward   Salary Advance   Maternity Leave   Paternity Leave   Compensatory Leave   Extraordinary Leave & Work from Home   Management Trainee Hiring     SPIL Corporate HR Policies         Flexi Working Schedule for Women   Mea\n",
      "nd to make happiness with the part ners,  management had initiate with the couple movie tickets to the employees. Employee can take the  reimbursement for the movie tickets, the amount of Rs 600/ - will be given against the  reimbursement.     Wedding Ceremony     A wedding is the ceremony where tw \n",
      "artment after proper submission of bill.   Section 13: Disciplinary Pro cedures     The Disciplinary Procedure will be used only when necessary and as LAST RESORT. Where  possible, informal or formal counseling or other good management practice will resolve the  matters prior to disciplinary action \n",
      "\n",
      "Question: Summarize PDF in 10 lines\n",
      "\n",
      "Answer:\n",
      "\n",
      "🧠 Assistant Response:\n",
      "Employee can take the reimbursement for the movie tickets, the amount of Rs 600/ - will be given against the reimbursement. Marriage Anniversary Wedding Ceremony Employee Children Merit Reward Salary Advance Maternity Leave Paternity Leave Compensatory Leave Extraordinary Leave & Work from Home Management Trainee Hiring SPIL Corporate HR Policies Flexi Working Schedule for Women Mea nd to make happiness with the part ners, management had initiate with the couple movie tickets to the employees. Employee can take the reimbursement for the movie tickets, the amount of Rs 600/ - will be given against the reimbursement. Wedding Ceremony A wedding is the ceremony where tw artment after proper submission of bill. Section 13: Disciplinary Pro cedures The Disciplinary Procedure will be used only when necessary and as LAST RESORT. Where possible, informal or formal counseling or other good management practice will resolve the matters prior to disciplinary action.\n"
     ]
    }
   ],
   "source": [
    "# Test it\n",
    "question = \"Summarize PDF in 10 lines\"\n",
    "response = answer_query(question)\n",
    "print(f\"\\n🧠 Assistant Response:\\n{response}\")"
   ]
  },
  {
   "cell_type": "code",
   "execution_count": 18,
   "id": "0e172ca0",
   "metadata": {},
   "outputs": [
    {
     "name": "stdout",
     "output_type": "stream",
     "text": [
      "\n",
      "Prompt:\n",
      " Context: be taken to process the Internship programme. The monetary  benefi t for the interns amounting Rs 7 000/ - will be considered as Stipend.   After completion of the Internship programme, the intern has to submit the detailed project  report and the pr oper review from the respective department will b\n",
      "al from the Managing  Director/Director. Salary advance will be given upto a maximum limit of three months of Gross  Pay and the employee who had completed the successfully period of 1 year in the organisation  may be availed.   The same will be recover on the installment of 3/6/9/12  months. The to\n",
      "he slab of Rs 250000 to 350000 per  annum. The amount will be strictly based upon the Interview’s Performance.   And based upon the performance of the candidate after a year, the Management  Trainee/Graduate Engineer Trainee /Junior Executives will be promoted on the “Executive”  Grade.   Induction:\n",
      "\n",
      "Question: What is the salary offered to the interns?\n",
      "\n",
      "Answer:\n",
      "\n",
      "🧠 Assistant Response:\n",
      "Rs 7 000/ -\n"
     ]
    }
   ],
   "source": [
    "# Test it\n",
    "question = \"What is the salary offered to the interns?\"\n",
    "response = answer_query(question)\n",
    "print(f\"\\n🧠 Assistant Response:\\n{response}\")"
   ]
  },
  {
   "cell_type": "code",
   "execution_count": 19,
   "id": "1d888f5b",
   "metadata": {},
   "outputs": [
    {
     "name": "stdout",
     "output_type": "stream",
     "text": [
      "\n",
      "Prompt:\n",
      " Context: e child w ill  secured the marks above 85%.     Class VIII:  Rs 3500/ - will be given as a CASH REWARD, if the child will  secured the marks above 80%         SPIL Corporate HR Policies       Class X:  Rs 5000/ - will be given as a CASH REWARD, if the child will  secured the marks above 80%     Clas\n",
      "e of India, and to boost and motivate them the Employee Children Merit  Award will be introduced. This reward will be given to employee who secures  the highest  aggregate marks in School/Colleges. The details of the award is given below     Class V:  Rs 2500/ - will be given as a CASH REWARD, if th\n",
      " of the employee to  the HR Department.     d) Employee has to earn the minimum category of “Average” and maximum category of  “Excellent” for the confirmation.     e) Depend upon the performance of the probationers and discretion of the management, the  probationer’s  compensation, grade, designati\n",
      "\n",
      "Question: if my kid gets 90% marks in fifth standard, is he eligible for any benefits?\n",
      "\n",
      "Answer:\n",
      "\n",
      "🧠 Assistant Response:\n",
      "if the child w ill secured the marks above 85%. Class VIII: Rs 3500/ - will be given as a CASH REWARD, if the child will secured the marks above 80% SPIL Corporate HR Policies Class X: Rs 5000/ - will be given as a CASH REWARD, if the child will secured the marks above 80% SPIL Corporate HR Policies Class X: Rs 5000/ - will be given as a CASH REWARD, if th of the employee to the HR Department. d) Employee has to earn the minimum category of “Average” and maximum category of “Excellent” for the confirmation. e) Depend upon the performance of the probationers and discretion of the management, the probationer’s compensation, grade, designati\n"
     ]
    }
   ],
   "source": [
    "# Test it\n",
    "question = \"if my kid gets 90% marks in fifth standard, is he eligible for any benefits?\"\n",
    "response = answer_query(question)\n",
    "print(f\"\\n🧠 Assistant Response:\\n{response}\")"
   ]
  },
  {
   "cell_type": "code",
   "execution_count": 26,
   "id": "b0c11fda",
   "metadata": {},
   "outputs": [
    {
     "name": "stderr",
     "output_type": "stream",
     "text": [
      "/opt/anaconda3/lib/python3.11/site-packages/torch/nn/modules/module.py:1762: FutureWarning: `encoder_attention_mask` is deprecated and will be removed in version 4.55.0 for `BertSdpaSelfAttention.forward`.\n",
      "  return forward_call(*args, **kwargs)\n"
     ]
    },
    {
     "name": "stdout",
     "output_type": "stream",
     "text": [
      "\n",
      "Prompt:\n",
      " Context:   The Company assumes no liabilities for any loss or damage  to personal belonging and  property.     e) The office space, equipment , material and other properties shall be used only for Sirca Paints  India Limited (SPIL). Employee who uses the company property like : Laptop, Mobile Phones,  Camera\n",
      ", Projectors and other material are responsible for the sake keeping of these  equipment .     f) To make the safety and security of the employees of Sirca, only authorize vendors are allowed  to visit to the workplace. All vendors are authorized to enter through the main lift area and  wait at the \n",
      "for the public transport  (Bus/Auto/Metro’s) or any private cab for the long route (OLA/UBER).     e) Lunch Charges will be Rs 100 to Rs 250 based upon the hierarchy level. Expenses of Business  Promotion will be reimbursed as actual. All the bills of Business Promotion will be approved by  the Nati\n",
      "\n",
      "Question: can I buy a shoes in the shop?\n",
      "\n",
      "Note: If the questions answer is not found in the document, politely reply with a No\n",
      "\n",
      "Answer:\n",
      "\n",
      "🧠 Assistant Response:\n",
      "no\n"
     ]
    }
   ],
   "source": [
    "# Test it\n",
    "question = \"can I buy a shoes in the shop?\"\n",
    "response = answer_query(question)\n",
    "print(f\"\\n🧠 Assistant Response:\\n{response}\")"
   ]
  },
  {
   "cell_type": "code",
   "execution_count": 29,
   "id": "5fd7890a",
   "metadata": {},
   "outputs": [
    {
     "name": "stderr",
     "output_type": "stream",
     "text": [
      "/opt/anaconda3/lib/python3.11/site-packages/torch/nn/modules/module.py:1762: FutureWarning: `encoder_attention_mask` is deprecated and will be removed in version 4.55.0 for `BertSdpaSelfAttention.forward`.\n",
      "  return forward_call(*args, **kwargs)\n"
     ]
    },
    {
     "name": "stdout",
     "output_type": "stream",
     "text": [
      "\n",
      "Prompt:\n",
      " Context: A+ City, A City, B City and C City. The description  of the hotel booking will be given in the Travel Policy.     h) Employee with the same gender is travelling for one location and then  the twin sharing room  will be booked.     i) If the hotel is in the outskirts of the location, then the employe\n",
      "rking hours :   9:30 AM to  6:00 PM   10:00 to 6:30 PM   Employee can avail the above services on daily basis and must be ensure that work or the project  assigned will not be hamper and the productivity and profitability will be considered as our main  source.   Meal and Conveyance Charges   Meal C\n",
      "for the public transport  (Bus/Auto/Metro’s) or any private cab for the long route (OLA/UBER).     e) Lunch Charges will be Rs 100 to Rs 250 based upon the hierarchy level. Expenses of Business  Promotion will be reimbursed as actual. All the bills of Business Promotion will be approved by  the Nati\n",
      "\n",
      "Question: please recommend a nearby restaurant?\n",
      "\n",
      "Note: If the questions answer is not found in the chunk with confidence of atleast 80%, politely reply with a No\n",
      "\n",
      "Answer:\n",
      "\n",
      "🧠 Assistant Response:\n",
      "No\n"
     ]
    }
   ],
   "source": [
    "# Test it\n",
    "question = \"please recommend a nearby restaurant?\"\n",
    "response = answer_query(question)\n",
    "print(f\"\\n🧠 Assistant Response:\\n{response}\")"
   ]
  },
  {
   "cell_type": "code",
   "execution_count": 32,
   "id": "ced86c50",
   "metadata": {},
   "outputs": [
    {
     "name": "stderr",
     "output_type": "stream",
     "text": [
      "/opt/anaconda3/lib/python3.11/site-packages/torch/nn/modules/module.py:1762: FutureWarning: `encoder_attention_mask` is deprecated and will be removed in version 4.55.0 for `BertSdpaSelfAttention.forward`.\n",
      "  return forward_call(*args, **kwargs)\n"
     ]
    },
    {
     "name": "stdout",
     "output_type": "stream",
     "text": [
      "\n",
      "Prompt:\n",
      " Context: resigns from the services by giving 10 days of notice.     b) On Confirmation, the employee can resign from the services by giving the notice of 30 days  (i.e. one month).     c) The employee has  to fill the Exit Interview Form and Clearance Form when resigned from  the services. Exit Interview wil\n",
      "d other  details ).     f) After verbal discussion with the employee, Department Heads will accept or reject the  Resignation Letter within 5 working days from the Date of Resignation.     g) The full and final process will take around 30 days to complete. In case, if the employee had  no dues with \n",
      "Letter, the candidate has  to provide the acceptance of the same  and submit the resign ation copy to the HR Department.      The documents given in the Offer Letter will be submitted to the HR Department on the Date  of Joining mention in the letter. HR Representative ensure that the all statutory\n",
      "\n",
      "Question: When is my Manager resigning?\n",
      "\n",
      "Understand the intent of the user and do a perfect mapping between Question and Context.Note: If the questions answer is not found in the chunk with confidence of atleast 80% and there is no relevant context, politely reply with a No\n",
      "\n",
      "Answer:\n",
      "\n",
      "🧠 Assistant Response:\n",
      "a) On Confirmation, the employee can resign from the services by giving the notice of 30 days (i.e. one month). b) On Confirmation, the employee can resign from the services by giving the notice of 30 days (i.e. one month). c) The employee has to fill the Exit Interview Form and Clearance Form when resigned from the services. Exit Interview wil d other details ). f) After verbal discussion with the employee, Department Heads will accept or reject the Resignation Letter within 5 working days from the Date of Resignation. g) The full and final process will take around 30 days to complete.\n"
     ]
    }
   ],
   "source": [
    "# Test it\n",
    "question = \"When is my Manager resigning?\"\n",
    "response = answer_query(question)\n",
    "print(f\"\\n🧠 Assistant Response:\\n{response}\")"
   ]
  },
  {
   "cell_type": "markdown",
   "id": "923a2bb1",
   "metadata": {},
   "source": [
    "# Happy Learning"
   ]
  }
 ],
 "metadata": {
  "kernelspec": {
   "display_name": "base",
   "language": "python",
   "name": "python3"
  },
  "language_info": {
   "codemirror_mode": {
    "name": "ipython",
    "version": 3
   },
   "file_extension": ".py",
   "mimetype": "text/x-python",
   "name": "python",
   "nbconvert_exporter": "python",
   "pygments_lexer": "ipython3",
   "version": "3.11.13"
  }
 },
 "nbformat": 4,
 "nbformat_minor": 5
}
