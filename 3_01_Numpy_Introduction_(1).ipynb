{
  "cells": [
    {
      "cell_type": "markdown",
      "metadata": {
        "id": "view-in-github",
        "colab_type": "text"
      },
      "source": [
        "<a href=\"https://colab.research.google.com/github/priyankjangwan/PythonApps/blob/main/3_01_Numpy_Introduction_(1).ipynb\" target=\"_parent\"><img src=\"https://colab.research.google.com/assets/colab-badge.svg\" alt=\"Open In Colab\"/></a>"
      ]
    },
    {
      "cell_type": "markdown",
      "metadata": {
        "id": "3TRnkHDKlgmc"
      },
      "source": [
        "# __Introduction to NumPy__"
      ]
    },
    {
      "cell_type": "markdown",
      "metadata": {
        "id": "gqWQFBW6lgmf"
      },
      "source": [
        "## __Agenda__\n",
        "\n",
        "In this lesson, we will cover the following concepts with the help of examples:\n",
        "\n",
        "- Fundamentals of NumPy\n",
        "  * Advantages of NumPy\n",
        "  * NumPy: Installation and Import\n",
        "- NumPy: Array Object\n",
        "  * Creating NumPy Arrays"
      ]
    },
    {
      "cell_type": "markdown",
      "metadata": {
        "tags": [],
        "id": "dbYDwj5_lgmg"
      },
      "source": [
        "## __1. Fundamentals of NumPy__\n",
        "\n",
        "NumPy (Numerical Python) is a free and open-source library that is mostly used for mathematical operations in scientific and engineering applications.\n",
        "\n",
        "- It is a Python library used for working with arrays.\n",
        "- It consists of a multidimensional array of objects and a collection of functions for manipulating them.\n",
        "- It conducts mathematical and logical operations on arrays.\n",
        "\n",
        "**Note:** The array object in NumPy is called ndarray."
      ]
    },
    {
      "cell_type": "markdown",
      "metadata": {
        "id": "TErTWOmslgmg"
      },
      "source": [
        "### __1.1  Advantages of NumPy__\n",
        "- It provides an array object that is faster than traditional Python lists.\n",
        "- It provides supporting functions.\n",
        "- Arrays are frequently used in data science.\n",
        "- NumPy arrays are stored in one continuous place in memory, unlike lists."
      ]
    },
    {
      "cell_type": "markdown",
      "metadata": {
        "id": "g2iLLH2tlgmg"
      },
      "source": [
        "### __1.2 NumPy: Installation and Import__\n",
        "- `C:\\Users\\Your Name>pip install numpy` command is used to install NumPy.\n",
        "- NumPy is imported under the name np like `import numpy as np`"
      ]
    },
    {
      "cell_type": "markdown",
      "metadata": {
        "id": "UipwcNRMlgmg"
      },
      "source": [
        "## __2. NumPy: Array Object__\n",
        "A NumPy ndarray object can be created by using the array() function."
      ]
    },
    {
      "cell_type": "code",
      "execution_count": null,
      "metadata": {
        "colab": {
          "base_uri": "https://localhost:8080/"
        },
        "id": "Ld_gW8fXlgmh",
        "outputId": "9b526240-fc77-4a08-ecf8-e7f6bc73e5cf"
      },
      "outputs": [
        {
          "output_type": "stream",
          "name": "stdout",
          "text": [
            "[10 20 30 40 50]\n",
            "<class 'numpy.ndarray'>\n"
          ]
        }
      ],
      "source": [
        "# Example:\n",
        "import numpy as np\n",
        "arr = np.array([10,20,30,40,50])#??\n",
        "print(arr)\n",
        "print(type(arr))"
      ]
    },
    {
      "cell_type": "markdown",
      "metadata": {
        "id": "DRLeQs1Mlgmi"
      },
      "source": [
        "### __2.1 Creating NumPy Arrays__\n",
        "- Create multiple dimensional arrays, such as 0D, 1D, 2D and 3D"
      ]
    },
    {
      "cell_type": "code",
      "execution_count": null,
      "metadata": {
        "colab": {
          "base_uri": "https://localhost:8080/"
        },
        "id": "Z8WUG0Vhlgmi",
        "outputId": "933b42e3-c8d6-460b-8342-7c4c1ff15853"
      },
      "outputs": [
        {
          "output_type": "stream",
          "name": "stdout",
          "text": [
            "0D array is 24\n",
            "1D array is [1 2 3 4]\n",
            "2D array is [[1 1 1]\n",
            " [1 2 1]]\n",
            "3D array is [[[1 1 1]\n",
            "  [2 2 2]]\n",
            "\n",
            " [[3 3 3]\n",
            "  [4 4 4]]]\n",
            "4D array is [[[[1 1 1]\n",
            "   [2 2 2]]\n",
            "\n",
            "  [[3 3 3]\n",
            "   [4 4 4]]]\n",
            "\n",
            "\n",
            " [[[5 5 5]\n",
            "   [6 6 6]]\n",
            "\n",
            "  [[7 7 7]\n",
            "   [8 8 8]]]]\n"
          ]
        }
      ],
      "source": [
        "# Create a 0D Array\n",
        "arr0 = np.array(24)\n",
        "print('0D array is', arr0)\n",
        "# Create a 1D Array\n",
        "arr1 = np.array([1,2,3,4])\n",
        "print('1D array is', arr1)\n",
        "# Create a 2D Array\n",
        "arr2 = np.array([[1,1,1],[1,2,1]])\n",
        "print('2D array is', arr2)\n",
        "# Create a 3D Array\n",
        "arr3 = np.array([[[1,1,1],[2,2,2]],[[3,3,3],[4,4,4]]])\n",
        "print('3D array is', arr3)\n",
        "# Create a 4D Array\n",
        "arr4 = np.array([[[[1,1,1],[2,2,2]],[[3,3,3],[4,4,4]]],[[[5,5,5],[6,6,6]],[[7,7,7],[8,8,8]]]])\n",
        "print('4D array is', arr4)"
      ]
    },
    {
      "cell_type": "markdown",
      "metadata": {
        "id": "wbd6yfX_lgmj"
      },
      "source": [
        "**Observations:**\n",
        "- 1D arrays are unidimensional and have 0D arrays as its elements.\n",
        "- 2D arrays have 1D arrays as their elements.\n",
        "- 3D arrays have 2D arrays as their elements.\n",
        "- 4D arrays have 3D arrays as their elements."
      ]
    },
    {
      "cell_type": "code",
      "source": [],
      "metadata": {
        "id": "LRq2ydRSCtXI"
      },
      "execution_count": null,
      "outputs": []
    }
  ],
  "metadata": {
    "kernelspec": {
      "display_name": "Python 3 [3.10]",
      "language": "python",
      "name": "python3"
    },
    "language_info": {
      "codemirror_mode": {
        "name": "ipython",
        "version": 3
      },
      "file_extension": ".py",
      "mimetype": "text/x-python",
      "name": "python",
      "nbconvert_exporter": "python",
      "pygments_lexer": "ipython3",
      "version": "3.10.2"
    },
    "colab": {
      "provenance": [],
      "include_colab_link": true
    }
  },
  "nbformat": 4,
  "nbformat_minor": 0
}