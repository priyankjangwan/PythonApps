{
  "cells": [
    {
      "cell_type": "markdown",
      "metadata": {
        "id": "3TRnkHDKlgmc"
      },
      "source": [
        "# __Introduction to NumPy__"
      ]
    },
    {
      "cell_type": "markdown",
      "metadata": {
        "id": "gqWQFBW6lgmf"
      },
      "source": [
        "## __Agenda__\n",
        "\n",
        "In this lesson, we will cover the following concepts with the help of examples:\n",
        "\n",
        "- Fundamentals of NumPy\n",
        "  * Advantages of NumPy\n",
        "  * NumPy: Installation and Import\n",
        "- NumPy: Array Object\n",
        "  * Creating NumPy Arrays"
      ]
    },
    {
      "cell_type": "markdown",
      "metadata": {
        "tags": [],
        "id": "dbYDwj5_lgmg"
      },
      "source": [
        "## __1. Fundamentals of NumPy__\n",
        "\n",
        "NumPy (Numerical Python) is a free and open-source library that is mostly used for mathematical operations in scientific and engineering applications.\n",
        "\n",
        "- It is a Python library used for working with arrays.\n",
        "- It consists of a multidimensional array of objects and a collection of functions for manipulating them.\n",
        "- It conducts mathematical and logical operations on arrays.\n",
        "\n",
        "**Note:** The array object in NumPy is called ndarray."
      ]
    },
    {
      "cell_type": "markdown",
      "metadata": {
        "id": "TErTWOmslgmg"
      },
      "source": [
        "### __1.1  Advantages of NumPy__\n",
        "- It provides an array object that is faster than traditional Python lists.\n",
        "- It provides supporting functions.\n",
        "- Arrays are frequently used in data science.\n",
        "- NumPy arrays are stored in one continuous place in memory, unlike lists."
      ]
    },
    {
      "cell_type": "markdown",
      "metadata": {
        "id": "g2iLLH2tlgmg"
      },
      "source": [
        "### __1.2 NumPy: Installation and Import__\n",
        "- `C:\\Users\\Your Name>pip install numpy` command is used to install NumPy.\n",
        "- NumPy is imported under the name np like `import numpy as np`"
      ]
    },
    {
      "cell_type": "code",
      "source": [
        "import timeit\n",
        "import numpy as np\n",
        "import sys"
      ],
      "metadata": {
        "id": "ArsUuIcodcOS"
      },
      "execution_count": 3,
      "outputs": []
    },
    {
      "cell_type": "code",
      "source": [
        "# Creating a list of 100 million elements\n",
        "list_time = timeit.timeit(stmt=\"[i for i in range(100000000)]\", number=10)\n",
        "\n",
        "# Creating a NumPy array of 100 million elements\n",
        "numpy_time = timeit.timeit(stmt=\"np.arange(100000000)\", setup=\"import numpy as np\", number=10)\n",
        "\n",
        "print(f\"List creation time: {list_time:.5f} seconds\")\n",
        "print(f\"NumPy array creation time: {numpy_time:.5f} seconds\")"
      ],
      "metadata": {
        "colab": {
          "base_uri": "https://localhost:8080/"
        },
        "id": "-DCT0ryBYTgK",
        "outputId": "5c3a0837-336c-465c-8315-be77a1d58c91"
      },
      "execution_count": 1,
      "outputs": [
        {
          "output_type": "stream",
          "name": "stdout",
          "text": [
            "List creation time: 66.01131 seconds\n",
            "NumPy array creation time: 4.18547 seconds\n"
          ]
        }
      ]
    },
    {
      "cell_type": "code",
      "source": [
        "# Create a list and a NumPy array of 100 million elements\n",
        "py_list = [i for i in range(100000000)]\n",
        "np_array = np.arange(100000000)\n",
        "\n",
        "# Get memory usage\n",
        "list_memory = sum(sys.getsizeof(i) for i in py_list) + sys.getsizeof(py_list)  # Sum of element sizes + list overhead\n",
        "numpy_memory = np_array.nbytes  # Directly gives memory size in bytes\n",
        "\n",
        "print(f\"Memory usage of Python list: {list_memory / (1024 ** 2):.2f} MB\")\n",
        "print(f\"Memory usage of NumPy array: {numpy_memory / (1024 ** 2):.2f} MB\")"
      ],
      "metadata": {
        "colab": {
          "base_uri": "https://localhost:8080/"
        },
        "id": "Bfe2yRkNYu-O",
        "outputId": "c7262703-24df-4b3d-ef9e-81375cd55eac"
      },
      "execution_count": 2,
      "outputs": [
        {
          "output_type": "stream",
          "name": "stdout",
          "text": [
            "Memory usage of Python list: 3466.73 MB\n",
            "Memory usage of NumPy array: 762.94 MB\n"
          ]
        }
      ]
    },
    {
      "cell_type": "markdown",
      "metadata": {
        "id": "UipwcNRMlgmg"
      },
      "source": [
        "## __2. NumPy: Array Object__\n",
        "A NumPy ndarray object can be created by using the array() function."
      ]
    },
    {
      "cell_type": "code",
      "execution_count": 4,
      "metadata": {
        "colab": {
          "base_uri": "https://localhost:8080/"
        },
        "id": "Ld_gW8fXlgmh",
        "outputId": "0e403db6-5ea6-4aa8-c89a-ce62bef3f8fa"
      },
      "outputs": [
        {
          "output_type": "stream",
          "name": "stdout",
          "text": [
            "[10 20 30 40 50]\n",
            "<class 'numpy.ndarray'>\n"
          ]
        }
      ],
      "source": [
        "# Example:\n",
        "arr = np.array([10,20,30,40,50])#??\n",
        "print(arr)\n",
        "print(type(arr))"
      ]
    },
    {
      "cell_type": "markdown",
      "metadata": {
        "id": "DRLeQs1Mlgmi"
      },
      "source": [
        "### __2.1 Creating NumPy Arrays__\n",
        "- Create multiple dimensional arrays, such as 0D, 1D, 2D and 3D"
      ]
    },
    {
      "cell_type": "code",
      "execution_count": 5,
      "metadata": {
        "colab": {
          "base_uri": "https://localhost:8080/"
        },
        "id": "Z8WUG0Vhlgmi",
        "outputId": "521ecf60-f213-4003-9198-831dbe81d6ce"
      },
      "outputs": [
        {
          "output_type": "stream",
          "name": "stdout",
          "text": [
            "0D array is 24\n",
            "1D array is [1 2 3 4]\n",
            "2D array is [[1 1 1]\n",
            " [1 2 1]]\n",
            "3D array is [[[1 1 1]\n",
            "  [2 2 2]]\n",
            "\n",
            " [[3 3 3]\n",
            "  [4 4 4]]]\n",
            "4D array is [[[[1 1 1]\n",
            "   [2 2 2]]\n",
            "\n",
            "  [[3 3 3]\n",
            "   [4 4 4]]]\n",
            "\n",
            "\n",
            " [[[5 5 5]\n",
            "   [6 6 6]]\n",
            "\n",
            "  [[7 7 7]\n",
            "   [8 8 8]]]]\n"
          ]
        }
      ],
      "source": [
        "# Create a 0D Array\n",
        "arr0 = np.array(24)\n",
        "print('0D array is', arr0)\n",
        "# Create a 1D Array\n",
        "arr1 = np.array([1,2,3,4])\n",
        "print('1D array is', arr1)\n",
        "# Create a 2D Array\n",
        "arr2 = np.array([[1,1,1],[1,2,1]])\n",
        "print('2D array is', arr2)\n",
        "# Create a 3D Array\n",
        "arr3 = np.array([[[1,1,1],[2,2,2]],[[3,3,3],[4,4,4]]])\n",
        "print('3D array is', arr3)\n",
        "# Create a 4D Array\n",
        "arr4 = np.array([[[[1,1,1],[2,2,2]],[[3,3,3],[4,4,4]]],[[[5,5,5],[6,6,6]],[[7,7,7],[8,8,8]]]])\n",
        "print('4D array is', arr4)"
      ]
    },
    {
      "cell_type": "markdown",
      "metadata": {
        "id": "wbd6yfX_lgmj"
      },
      "source": [
        "**Observations:**\n",
        "- 1D arrays are unidimensional and have 0D arrays as its elements.\n",
        "- 2D arrays have 1D arrays as their elements.\n",
        "- 3D arrays have 2D arrays as their elements.\n",
        "- 4D arrays have 3D arrays as their elements."
      ]
    },
    {
      "cell_type": "code",
      "source": [],
      "metadata": {
        "id": "LRq2ydRSCtXI"
      },
      "execution_count": null,
      "outputs": []
    }
  ],
  "metadata": {
    "kernelspec": {
      "display_name": "Python 3 [3.10]",
      "language": "python",
      "name": "python3"
    },
    "language_info": {
      "codemirror_mode": {
        "name": "ipython",
        "version": 3
      },
      "file_extension": ".py",
      "mimetype": "text/x-python",
      "name": "python",
      "nbconvert_exporter": "python",
      "pygments_lexer": "ipython3",
      "version": "3.10.2"
    },
    "colab": {
      "provenance": []
    }
  },
  "nbformat": 4,
  "nbformat_minor": 0
}