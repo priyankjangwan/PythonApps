{
  "cells": [
    {
      "cell_type": "markdown",
      "id": "3e4069c0-fb03-401c-be74-06141d895001",
      "metadata": {
        "id": "3e4069c0-fb03-401c-be74-06141d895001"
      },
      "source": [
        "# __Slicing__"
      ]
    },
    {
      "cell_type": "markdown",
      "id": "9ec43157-9c56-47b0-93f2-795dc2ad8837",
      "metadata": {
        "id": "9ec43157-9c56-47b0-93f2-795dc2ad8837"
      },
      "source": [
        "## __Agenda__\n",
        "In this lesson, we will cover the following concepts with the help of examples:\n",
        "\n",
        "- NumPy Array Slicing\n",
        "  * Slicing 1D NumPy Arrays\n",
        "  * Slicing Using Step Value\n",
        "  * Slicing: 2D Array\n",
        "  * Slicing: 3D Array\n",
        "  * Negative Slicing"
      ]
    },
    {
      "cell_type": "markdown",
      "id": "1f4c4f5b-38c0-4324-b01f-e4d3feafee9e",
      "metadata": {
        "id": "1f4c4f5b-38c0-4324-b01f-e4d3feafee9e"
      },
      "source": [
        "## __1. NumPy Array Slicing__\n",
        "\n",
        "- In Python, slicing refers to moving elements from one index to another.\n",
        "- Instead of using an index, the slice is passed as **[start:end]**.\n",
        "- Another way to pass the slice is to add a step as **[start:end:step]**.\n",
        "- In slicing, if the starting is not passed, it is considered as 0. If the step is not passed as 1 and if the end is not passed, it is considered as the length of the array in that dimension."
      ]
    },
    {
      "cell_type": "markdown",
      "id": "c537aba4-474e-49bb-a10a-bfa69b689bda",
      "metadata": {
        "id": "c537aba4-474e-49bb-a10a-bfa69b689bda"
      },
      "source": [
        "### __1.1 Slicing 1D NumPy Arrays__"
      ]
    },
    {
      "cell_type": "markdown",
      "id": "ff9bd87e-32b9-4ad4-abc1-da3d4d5f5a63",
      "metadata": {
        "id": "ff9bd87e-32b9-4ad4-abc1-da3d4d5f5a63"
      },
      "source": [
        "#### Example 1: Use slicing to retrieve employee ratings for a team of seven employees in the first quarter from an array"
      ]
    },
    {
      "cell_type": "code",
      "execution_count": 1,
      "id": "755261a5-affd-4af4-a855-b403dba8ac32",
      "metadata": {
        "id": "755261a5-affd-4af4-a855-b403dba8ac32",
        "outputId": "3824e438-a3d6-4398-8def-a3b48470f781",
        "colab": {
          "base_uri": "https://localhost:8080/"
        }
      },
      "outputs": [
        {
          "output_type": "stream",
          "name": "stdout",
          "text": [
            "[4 5 8]\n"
          ]
        }
      ],
      "source": [
        "import numpy as np\n",
        "Employee_rating = np.array([1, 4, 3, 5, 6, 8, 9, 10, 12])\n",
        "print(Employee_rating[1:7:2])"
      ]
    },
    {
      "cell_type": "markdown",
      "id": "3c080719-87b0-4d79-a99e-09493780843c",
      "metadata": {
        "id": "3c080719-87b0-4d79-a99e-09493780843c"
      },
      "source": [
        "#### Example 2: Print the list of three subjects towards the end"
      ]
    },
    {
      "cell_type": "code",
      "execution_count": 2,
      "id": "9aeed07b-ca8e-46c3-a68b-540eec9a5fac",
      "metadata": {
        "id": "9aeed07b-ca8e-46c3-a68b-540eec9a5fac",
        "outputId": "7d0d7c7c-12cb-4a7f-df9f-2485d33c9a44",
        "colab": {
          "base_uri": "https://localhost:8080/"
        }
      },
      "outputs": [
        {
          "output_type": "stream",
          "name": "stdout",
          "text": [
            "['OPPs' 'Java' 'Cloud']\n"
          ]
        }
      ],
      "source": [
        "Books = np.array(['Physics','DataScience','Maths','Python','Hadoop', 'OPPs', 'Java', 'Cloud'])\n",
        "print(Books[5:])"
      ]
    },
    {
      "cell_type": "markdown",
      "id": "de8b9f8a-0d02-4f56-9873-0e9b7c68a3d6",
      "metadata": {
        "id": "de8b9f8a-0d02-4f56-9873-0e9b7c68a3d6"
      },
      "source": [
        "### __1.2 Slicing Using Step Value__"
      ]
    },
    {
      "cell_type": "code",
      "execution_count": 3,
      "id": "7537487d-b1c2-4ab7-8758-34eee371734f",
      "metadata": {
        "id": "7537487d-b1c2-4ab7-8758-34eee371734f",
        "outputId": "aa5ed0cb-7af0-40b9-f40d-b4e390f5688b",
        "colab": {
          "base_uri": "https://localhost:8080/"
        }
      },
      "outputs": [
        {
          "output_type": "stream",
          "name": "stdout",
          "text": [
            "[8 5 2]\n"
          ]
        }
      ],
      "source": [
        "X = np.array([8, 7, 6, 5, 4, 3, 2, 1])\n",
        "print(X[0:7:3])"
      ]
    },
    {
      "cell_type": "markdown",
      "id": "494532f6-66af-4014-8bed-c59baa7fe0c8",
      "metadata": {
        "id": "494532f6-66af-4014-8bed-c59baa7fe0c8"
      },
      "source": [
        "### __1.3 Slicing: 2D Array__"
      ]
    },
    {
      "cell_type": "code",
      "execution_count": 4,
      "id": "3106010b-cae1-47a3-a0a6-7cd7496bdfce",
      "metadata": {
        "id": "3106010b-cae1-47a3-a0a6-7cd7496bdfce",
        "outputId": "f3eff4f7-e350-4a3c-d229-91c08b0db8bf",
        "colab": {
          "base_uri": "https://localhost:8080/"
        }
      },
      "outputs": [
        {
          "output_type": "stream",
          "name": "stdout",
          "text": [
            "[[ 11  22  33  44  55]\n",
            " [ 66  77  88  99 110]]\n"
          ]
        }
      ],
      "source": [
        "Z = np.array([[11, 22, 33, 44, 55], [66, 77, 88, 99, 110]])\n",
        "print(Z)"
      ]
    },
    {
      "cell_type": "code",
      "source": [
        "print(Z[1, 2:5])"
      ],
      "metadata": {
        "colab": {
          "base_uri": "https://localhost:8080/"
        },
        "id": "vc94a9lqK7hM",
        "outputId": "64a119ed-3d2c-4ccd-a76a-330a2466d768"
      },
      "id": "vc94a9lqK7hM",
      "execution_count": 5,
      "outputs": [
        {
          "output_type": "stream",
          "name": "stdout",
          "text": [
            "[ 88  99 110]\n"
          ]
        }
      ]
    },
    {
      "cell_type": "markdown",
      "id": "9cdaf70d-8e52-40ce-9eb1-f655b1b77bbf",
      "metadata": {
        "id": "9cdaf70d-8e52-40ce-9eb1-f655b1b77bbf"
      },
      "source": [
        "### __1.4 Slicing: 3D Array__"
      ]
    },
    {
      "cell_type": "code",
      "execution_count": 7,
      "id": "2e1893a0-5ab4-4100-80d9-ded444672dd7",
      "metadata": {
        "id": "2e1893a0-5ab4-4100-80d9-ded444672dd7",
        "outputId": "16c1eb4b-f234-4d82-b4a6-9e10980ff3da",
        "colab": {
          "base_uri": "https://localhost:8080/"
        }
      },
      "outputs": [
        {
          "output_type": "stream",
          "name": "stdout",
          "text": [
            "[[[ 1  2  3]\n",
            "  [ 4  5  6]\n",
            "  [20 21 22]]\n",
            "\n",
            " [[ 7  8  9]\n",
            "  [10 11 12]\n",
            "  [23 24 25]]]\n"
          ]
        }
      ],
      "source": [
        "array_3d = np.array([[[1,2,3],[4,5,6],[20,21,22]],[[7,8,9],[10,11,12],[23,24,25]]])\n",
        "print(array_3d)"
      ]
    },
    {
      "cell_type": "code",
      "source": [
        "print(array_3d[0,1,1])"
      ],
      "metadata": {
        "colab": {
          "base_uri": "https://localhost:8080/"
        },
        "id": "fCOSThh1My9n",
        "outputId": "2fadd78a-7bfd-480e-800d-6d862bce181e"
      },
      "id": "fCOSThh1My9n",
      "execution_count": 8,
      "outputs": [
        {
          "output_type": "stream",
          "name": "stdout",
          "text": [
            "5\n"
          ]
        }
      ]
    },
    {
      "cell_type": "code",
      "source": [
        "print(array_3d[0,1:,1:])"
      ],
      "metadata": {
        "colab": {
          "base_uri": "https://localhost:8080/"
        },
        "id": "31BrH1OcMA-d",
        "outputId": "7b244071-b1f3-478e-d4e1-9830e9a4e8d8"
      },
      "id": "31BrH1OcMA-d",
      "execution_count": 9,
      "outputs": [
        {
          "output_type": "stream",
          "name": "stdout",
          "text": [
            "[[ 5  6]\n",
            " [21 22]]\n"
          ]
        }
      ]
    },
    {
      "cell_type": "code",
      "source": [
        "new_arr_2d = array_3d[0]\n",
        "print(new_arr_2d)"
      ],
      "metadata": {
        "colab": {
          "base_uri": "https://localhost:8080/"
        },
        "id": "kyVVgXV0RJSV",
        "outputId": "b7034f15-8726-4964-8e19-c1e30119d0b8"
      },
      "id": "kyVVgXV0RJSV",
      "execution_count": null,
      "outputs": [
        {
          "output_type": "stream",
          "name": "stdout",
          "text": [
            "[[ 1  2  3]\n",
            " [ 4  5  6]\n",
            " [20 21 22]]\n"
          ]
        }
      ]
    },
    {
      "cell_type": "code",
      "source": [
        "print(new_arr_2d[1:,1:])"
      ],
      "metadata": {
        "colab": {
          "base_uri": "https://localhost:8080/"
        },
        "id": "t7I31cFyRd6s",
        "outputId": "dd1bf426-f19d-45ca-ef8c-83234309a79c"
      },
      "id": "t7I31cFyRd6s",
      "execution_count": null,
      "outputs": [
        {
          "output_type": "stream",
          "name": "stdout",
          "text": [
            "[[ 5  6]\n",
            " [21 22]]\n"
          ]
        }
      ]
    },
    {
      "cell_type": "markdown",
      "id": "5e8eafc4-56a3-45a5-8a1c-f3ff39049ce2",
      "metadata": {
        "id": "5e8eafc4-56a3-45a5-8a1c-f3ff39049ce2"
      },
      "source": [
        "### __1.5 Negative Slicing__\n",
        "- Negative slicing is the same as negative indexing, which is interpreted as counting from the end of an array.\n",
        "\n",
        "![link text](https://labcontent.simplicdn.net/data-content/content-assets/Data_and_AI/ADSP_Images/Lesson_03_NumPy/5_Slicing/Image_1.png)"
      ]
    },
    {
      "cell_type": "code",
      "execution_count": null,
      "id": "da999535-ee59-4cb0-9842-ec55a1ead5d8",
      "metadata": {
        "id": "da999535-ee59-4cb0-9842-ec55a1ead5d8",
        "outputId": "05b00859-5a67-43de-b92f-705b9d147457",
        "colab": {
          "base_uri": "https://localhost:8080/"
        }
      },
      "outputs": [
        {
          "output_type": "stream",
          "name": "stdout",
          "text": [
            "[13 34 58 69 44 56 37 24]\n"
          ]
        }
      ],
      "source": [
        "# Negative slicing for 1D array\n",
        "Neg_slice = np.array([13, 34, 58, 69, 44, 56, 37,24])\n",
        "print(Neg_slice)"
      ]
    },
    {
      "cell_type": "code",
      "source": [
        "print(Neg_slice[:-1])"
      ],
      "metadata": {
        "colab": {
          "base_uri": "https://localhost:8080/"
        },
        "id": "zpBKW7t9OAP7",
        "outputId": "e0ca4045-0866-4665-bcaf-cc2ad2571795"
      },
      "id": "zpBKW7t9OAP7",
      "execution_count": null,
      "outputs": [
        {
          "output_type": "stream",
          "name": "stdout",
          "text": [
            "[13 34 58 69 44 56 37]\n"
          ]
        }
      ]
    },
    {
      "cell_type": "code",
      "source": [
        "print(Neg_slice[0:7])"
      ],
      "metadata": {
        "colab": {
          "base_uri": "https://localhost:8080/"
        },
        "id": "czwaoiG6PLTG",
        "outputId": "8d4f07fb-372d-4c0c-f8db-803f8b8d37e9"
      },
      "id": "czwaoiG6PLTG",
      "execution_count": null,
      "outputs": [
        {
          "output_type": "stream",
          "name": "stdout",
          "text": [
            "[13 34 58 69 44 56 37]\n"
          ]
        }
      ]
    },
    {
      "cell_type": "markdown",
      "id": "3190511b-aec6-4d4e-aa21-6fb9b68cb356",
      "metadata": {
        "id": "3190511b-aec6-4d4e-aa21-6fb9b68cb356"
      },
      "source": [
        "## __Assisted Practice__"
      ]
    },
    {
      "cell_type": "markdown",
      "id": "054caea8-be90-480d-88db-173d48cb6a71",
      "metadata": {
        "id": "054caea8-be90-480d-88db-173d48cb6a71"
      },
      "source": [
        "### __Problem Statement:__\n",
        "\n",
        "- Creating arrays for slicing:\n",
        "  * Create a 1D NumPy array with at least 15 elements\n",
        "  * Create a 2D NumPy array with a minimum of 4 rows and 5 columns\n",
        "  * Create a 3D NumPy array with at least 2 matrices, each containing 3 rows and 4 columns\n",
        "\n",
        "- Slicing 1D arrays:\n",
        "  * Perform and demonstrate different slices on the 1D array, explore it using step values\n",
        "\n",
        "- Slicing 2D arrays:\n",
        "  * Slice rows and columns separately and in combination\n",
        "\n",
        "- Slicing 3D arrays:\n",
        "  * Perform slicing to access different matrices, rows within matrices, and elements within rows\n",
        "\n",
        "- Negative slicing:\n",
        "  * Implement negative slicing on 1D, 2D, and 3D arrays\n",
        "  * Compare the outcomes of negative slicing with positive slicing"
      ]
    },
    {
      "cell_type": "code",
      "execution_count": null,
      "id": "7e2f5b29-9686-4c43-9216-a08dcbcb02a4",
      "metadata": {
        "id": "7e2f5b29-9686-4c43-9216-a08dcbcb02a4"
      },
      "outputs": [],
      "source": []
    }
  ],
  "metadata": {
    "kernelspec": {
      "display_name": "Python 3 [3.10]",
      "language": "python",
      "name": "python3"
    },
    "language_info": {
      "codemirror_mode": {
        "name": "ipython",
        "version": 3
      },
      "file_extension": ".py",
      "mimetype": "text/x-python",
      "name": "python",
      "nbconvert_exporter": "python",
      "pygments_lexer": "ipython3",
      "version": "3.10.2"
    },
    "colab": {
      "provenance": []
    }
  },
  "nbformat": 4,
  "nbformat_minor": 5
}