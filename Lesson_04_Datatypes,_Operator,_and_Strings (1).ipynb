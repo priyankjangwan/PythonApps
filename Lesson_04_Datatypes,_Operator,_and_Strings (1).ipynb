{
  "cells": [
    {
      "cell_type": "markdown",
      "id": "8d84e95e",
      "metadata": {
        "id": "8d84e95e"
      },
      "source": [
        "# Data Types"
      ]
    },
    {
      "cell_type": "code",
      "execution_count": null,
      "id": "25460612",
      "metadata": {
        "id": "25460612",
        "colab": {
          "base_uri": "https://localhost:8080/"
        },
        "outputId": "146be8b1-fe9b-4367-84b9-87aca17f5a69"
      },
      "outputs": [
        {
          "output_type": "stream",
          "name": "stdout",
          "text": [
            "x =  34 \n",
            "y =  67.89 \n",
            "z =  True\n"
          ]
        }
      ],
      "source": [
        "x = 34 ; y = 67.89 ; z = True\n",
        "#print('x = ', x, '\\ty = ', y, '\\tz = ', z)\n",
        "print('x = ', x, '\\ny = ', y, '\\nz = ', z)\n",
        "#print(x,y,z)"
      ]
    },
    {
      "cell_type": "code",
      "execution_count": null,
      "id": "a0ba3932",
      "metadata": {
        "id": "a0ba3932",
        "colab": {
          "base_uri": "https://localhost:8080/"
        },
        "outputId": "57343d23-0cba-4577-915a-36eaf352e2ae"
      },
      "outputs": [
        {
          "output_type": "stream",
          "name": "stdout",
          "text": [
            "Type of \n",
            "x =  <class 'int'> \ty =  <class 'float'> \tz =  <class 'bool'>\n"
          ]
        }
      ],
      "source": [
        "print('Type of \\nx = ', type(x), '\\ty = ', type(y), '\\tz = ', type(z))"
      ]
    },
    {
      "cell_type": "code",
      "execution_count": null,
      "id": "cf515aa8",
      "metadata": {
        "id": "cf515aa8",
        "colab": {
          "base_uri": "https://localhost:8080/"
        },
        "outputId": "fbaba9f0-9b3a-4574-ac59-d0eeded731bc"
      },
      "outputs": [
        {
          "output_type": "stream",
          "name": "stdout",
          "text": [
            "var =  abc\n",
            "type of var  <class 'str'>\n"
          ]
        }
      ],
      "source": [
        "var = 'abc'\n",
        "print('var = ', var)\n",
        "print('type of var ', type(var))"
      ]
    },
    {
      "cell_type": "markdown",
      "id": "c9fcbcd0",
      "metadata": {
        "id": "c9fcbcd0"
      },
      "source": [
        "## Data Type Conversion\n",
        "Data type conversion in Python refers to the process of converting a value from one data type to another."
      ]
    },
    {
      "cell_type": "code",
      "execution_count": null,
      "id": "72cd4a8d",
      "metadata": {
        "id": "72cd4a8d",
        "outputId": "04c5826f-e37c-4f35-edbb-7b3693d99d75",
        "colab": {
          "base_uri": "https://localhost:8080/"
        }
      },
      "outputs": [
        {
          "output_type": "stream",
          "name": "stdout",
          "text": [
            "<class 'float'>\n",
            "<class 'int'>\n"
          ]
        }
      ],
      "source": [
        "x = 45.77\n",
        "print(type(x))\n",
        "y = int(x)\n",
        "#y = x\n",
        "print(type(y))"
      ]
    },
    {
      "cell_type": "code",
      "execution_count": null,
      "id": "2b0ded59",
      "metadata": {
        "id": "2b0ded59",
        "colab": {
          "base_uri": "https://localhost:8080/"
        },
        "outputId": "40371963-fff2-405e-85df-113b8425cab9"
      },
      "outputs": [
        {
          "output_type": "stream",
          "name": "stdout",
          "text": [
            "<class 'str'>\n"
          ]
        }
      ],
      "source": [
        "z = str(x)\n",
        "print(type(z))"
      ]
    },
    {
      "cell_type": "code",
      "execution_count": null,
      "id": "f68b4a25",
      "metadata": {
        "id": "f68b4a25",
        "outputId": "94d0b1b2-5fbc-42a4-8e8e-096cfd10fd4f",
        "colab": {
          "base_uri": "https://localhost:8080/"
        }
      },
      "outputs": [
        {
          "output_type": "stream",
          "name": "stdout",
          "text": [
            "<class 'bool'>\n"
          ]
        }
      ],
      "source": [
        "w = bool(x)\n",
        "print(type(w))"
      ]
    },
    {
      "cell_type": "code",
      "execution_count": null,
      "id": "d351bbfa",
      "metadata": {
        "id": "d351bbfa",
        "colab": {
          "base_uri": "https://localhost:8080/"
        },
        "outputId": "063271ee-3c71-480f-ed7d-31f219195854"
      },
      "outputs": [
        {
          "output_type": "stream",
          "name": "stdout",
          "text": [
            "<class 'str'>\n"
          ]
        }
      ],
      "source": [
        "y = '45.88'\n",
        "print(type(y))"
      ]
    },
    {
      "cell_type": "code",
      "execution_count": null,
      "id": "8a4e5f55",
      "metadata": {
        "id": "8a4e5f55",
        "outputId": "138f3320-aab9-4ab9-e99a-72dbd7e39571",
        "colab": {
          "base_uri": "https://localhost:8080/"
        }
      },
      "outputs": [
        {
          "output_type": "stream",
          "name": "stdout",
          "text": [
            "<class 'float'>\n"
          ]
        }
      ],
      "source": [
        "a = float(y)\n",
        "print(type(a))"
      ]
    },
    {
      "cell_type": "code",
      "execution_count": null,
      "id": "ce8ef692",
      "metadata": {
        "id": "ce8ef692",
        "outputId": "cd3211ef-8989-44ac-ec0a-4d5798520038",
        "colab": {
          "base_uri": "https://localhost:8080/"
        }
      },
      "outputs": [
        {
          "output_type": "stream",
          "name": "stdout",
          "text": [
            "45\n"
          ]
        }
      ],
      "source": [
        "b = int(float(y))\n",
        "print(b)"
      ]
    },
    {
      "cell_type": "markdown",
      "id": "94a83937",
      "metadata": {
        "id": "94a83937"
      },
      "source": [
        "## Checking References\n",
        "Checking references in Python involves determining whether two variables reference the same object in memory using the id() function."
      ]
    },
    {
      "cell_type": "code",
      "execution_count": null,
      "id": "0c722a25",
      "metadata": {
        "id": "0c722a25",
        "outputId": "e4e9b9c9-10ab-4f0e-d4ac-270372afa806",
        "colab": {
          "base_uri": "https://localhost:8080/"
        }
      },
      "outputs": [
        {
          "output_type": "stream",
          "name": "stdout",
          "text": [
            "x =  34 ;  id of x =  10751912\n",
            "y =  34 ;  id of y =  10751912\n"
          ]
        }
      ],
      "source": [
        "x = 34\n",
        "y = x\n",
        "print('x = ', x, ';  id of x = ', id(x))\n",
        "print('y = ', y, ';  id of y = ', id(y))"
      ]
    },
    {
      "cell_type": "code",
      "execution_count": null,
      "id": "5d6ddc8f",
      "metadata": {
        "id": "5d6ddc8f",
        "outputId": "a41bd008-6e0d-4999-b938-6d761cb6e75b",
        "colab": {
          "base_uri": "https://localhost:8080/"
        }
      },
      "outputs": [
        {
          "output_type": "stream",
          "name": "stdout",
          "text": [
            "x =  65 ;  id of x =  10752904\n",
            "y =  34 ;  id of y =  10751912\n"
          ]
        }
      ],
      "source": [
        "x = 65\n",
        "print('x = ', x, ';  id of x = ', id(x))\n",
        "print('y = ', y, ';  id of y = ', id(y))"
      ]
    },
    {
      "cell_type": "code",
      "execution_count": null,
      "id": "0b5c3223",
      "metadata": {
        "id": "0b5c3223",
        "outputId": "93a2c082-8c05-4837-db7a-2e3daa1552b8",
        "colab": {
          "base_uri": "https://localhost:8080/"
        }
      },
      "outputs": [
        {
          "output_type": "stream",
          "name": "stdout",
          "text": [
            "x =  65 ;  id of x =  10752904\n",
            "y =  78 ;  id of y =  10753320\n"
          ]
        }
      ],
      "source": [
        "y = 78\n",
        "print('x = ', x, ';  id of x = ', id(x))\n",
        "print('y = ', y, ';  id of y = ', id(y))"
      ]
    },
    {
      "cell_type": "markdown",
      "id": "32821bd5",
      "metadata": {
        "id": "32821bd5"
      },
      "source": [
        "# Arithmetic Operators"
      ]
    },
    {
      "cell_type": "code",
      "execution_count": null,
      "id": "af3c58f2",
      "metadata": {
        "id": "af3c58f2"
      },
      "outputs": [],
      "source": [
        "x = 50\n",
        "y = 4"
      ]
    },
    {
      "cell_type": "code",
      "execution_count": null,
      "id": "2fa36b7a",
      "metadata": {
        "id": "2fa36b7a",
        "outputId": "70075246-902e-48cb-ce88-0a2e218dc90e",
        "colab": {
          "base_uri": "https://localhost:8080/"
        }
      },
      "outputs": [
        {
          "output_type": "stream",
          "name": "stdout",
          "text": [
            "Sum of x & y                   :  54\n",
            "Difference between x & y       :  46\n",
            "Product of x & y               :  200\n",
            "Division of x by y             :  12.5\n"
          ]
        }
      ],
      "source": [
        "print('Sum of x & y                   : ', x + y)\n",
        "print('Difference between x & y       : ', x - y)\n",
        "print('Product of x & y               : ', x * y)\n",
        "print('Division of x by y             : ', x / y)"
      ]
    },
    {
      "cell_type": "code",
      "execution_count": null,
      "id": "3db80fcd",
      "metadata": {
        "id": "3db80fcd",
        "outputId": "4d93551e-dc21-4e13-8169-0029e3b66a75",
        "colab": {
          "base_uri": "https://localhost:8080/"
        }
      },
      "outputs": [
        {
          "output_type": "stream",
          "name": "stdout",
          "text": [
            "Remainder of x divided by y    :  2\n",
            "Floor Division x divided by y  :  12\n",
            "Exponential value for x raised to power y :  6250000\n"
          ]
        }
      ],
      "source": [
        "print('Remainder of x divided by y    : ', x % y)\n",
        "print('Floor Division x divided by y  : ', x // y)\n",
        "print('Exponential value for x raised to power y : ', x ** y)"
      ]
    },
    {
      "cell_type": "markdown",
      "id": "7f804b0c",
      "metadata": {
        "id": "7f804b0c"
      },
      "source": [
        "# Arithmetic Assignment Operators"
      ]
    },
    {
      "cell_type": "code",
      "execution_count": null,
      "id": "8c15a85f",
      "metadata": {
        "id": "8c15a85f",
        "outputId": "fd81f428-fab1-498d-a1db-d6d0345abf99",
        "colab": {
          "base_uri": "https://localhost:8080/"
        }
      },
      "outputs": [
        {
          "output_type": "stream",
          "name": "stdout",
          "text": [
            "Present value of a =  10\n"
          ]
        }
      ],
      "source": [
        "a = 10\n",
        "print('Present value of a = ', a )"
      ]
    },
    {
      "cell_type": "code",
      "execution_count": null,
      "id": "aa5d4afb",
      "metadata": {
        "id": "aa5d4afb",
        "outputId": "daa1669c-641f-4d63-ff27-089119f54f20",
        "colab": {
          "base_uri": "https://localhost:8080/"
        }
      },
      "outputs": [
        {
          "output_type": "stream",
          "name": "stdout",
          "text": [
            "Updated value of a =  5\n"
          ]
        }
      ],
      "source": [
        "#a += 5\n",
        "a -= 5\n",
        "print('Updated value of a = ', a )"
      ]
    },
    {
      "cell_type": "code",
      "execution_count": null,
      "id": "6c6c6bd5",
      "metadata": {
        "id": "6c6c6bd5",
        "outputId": "a397e00d-6b1b-42ae-d1e2-89845652edc1",
        "colab": {
          "base_uri": "https://localhost:8080/"
        }
      },
      "outputs": [
        {
          "output_type": "stream",
          "name": "stdout",
          "text": [
            "Present value of a =  10\n",
            "Present id of a =  10751144\n"
          ]
        }
      ],
      "source": [
        "a = 10\n",
        "print('Present value of a = ', a )\n",
        "print('Present id of a = ', id(a))"
      ]
    },
    {
      "cell_type": "code",
      "execution_count": null,
      "id": "a9f077f9",
      "metadata": {
        "id": "a9f077f9",
        "outputId": "cbaced9e-cb96-4955-e16d-3baff6878576",
        "colab": {
          "base_uri": "https://localhost:8080/"
        }
      },
      "outputs": [
        {
          "output_type": "stream",
          "name": "stdout",
          "text": [
            "Updated value of a =  25\n",
            "Updated id of a =  10751624\n"
          ]
        }
      ],
      "source": [
        "a += 15\n",
        "print('Updated value of a = ', a )\n",
        "print('Updated id of a = ', id(a))"
      ]
    },
    {
      "cell_type": "markdown",
      "id": "d11c54f4",
      "metadata": {
        "id": "d11c54f4"
      },
      "source": [
        "# Comparison Operator"
      ]
    },
    {
      "cell_type": "code",
      "execution_count": 1,
      "id": "f7854d1a",
      "metadata": {
        "id": "f7854d1a",
        "outputId": "48a4671e-1a41-4c42-d0a0-d02c610c1ab5",
        "colab": {
          "base_uri": "https://localhost:8080/"
        }
      },
      "outputs": [
        {
          "output_type": "stream",
          "name": "stdout",
          "text": [
            "a =  20   b =  20\n",
            "a == b  :  True\n"
          ]
        }
      ],
      "source": [
        "a = 20\n",
        "b = 20\n",
        "print('a = ', a, '  b = ', b)\n",
        "print('a == b  : ', a == b)"
      ]
    },
    {
      "cell_type": "code",
      "execution_count": 2,
      "id": "8973afb9",
      "metadata": {
        "id": "8973afb9",
        "outputId": "2cb1883a-6662-4065-cd94-7860076d6ed3",
        "colab": {
          "base_uri": "https://localhost:8080/"
        }
      },
      "outputs": [
        {
          "output_type": "stream",
          "name": "stdout",
          "text": [
            "a =  20   b =  30\n",
            "a != b  :  True\n"
          ]
        }
      ],
      "source": [
        "a = 20\n",
        "b = 30\n",
        "print('a = ', a, '  b = ', b)\n",
        "print('a != b  : ', a != b)"
      ]
    },
    {
      "cell_type": "code",
      "execution_count": 7,
      "id": "0f8c5c26",
      "metadata": {
        "id": "0f8c5c26",
        "outputId": "71b89bce-facc-4c28-97f8-b95ba721f8ed",
        "colab": {
          "base_uri": "https://localhost:8080/"
        }
      },
      "outputs": [
        {
          "output_type": "stream",
          "name": "stdout",
          "text": [
            "a =  20   b =  20\n",
            "a <= b  :  False\n"
          ]
        }
      ],
      "source": [
        "a = 20\n",
        "b = 20\n",
        "print('a = ', a, '  b = ', b)\n",
        "print('a <= b  : ', a <= b)"
      ]
    },
    {
      "cell_type": "code",
      "execution_count": 5,
      "id": "8278c936",
      "metadata": {
        "id": "8278c936",
        "outputId": "d04cdd08-ba62-43d6-c291-bd48a087bab0",
        "colab": {
          "base_uri": "https://localhost:8080/"
        }
      },
      "outputs": [
        {
          "output_type": "stream",
          "name": "stdout",
          "text": [
            "a =  30   b =  30\n",
            "a >= b  :  False\n"
          ]
        }
      ],
      "source": [
        "a = 30\n",
        "b = 30\n",
        "print('a = ', a, '  b = ', b)\n",
        "print('a >= b  : ', a >= b)"
      ]
    },
    {
      "cell_type": "markdown",
      "id": "39c782f9",
      "metadata": {
        "id": "39c782f9"
      },
      "source": [
        "# Logical Operators"
      ]
    },
    {
      "cell_type": "code",
      "execution_count": 8,
      "id": "00356ab0",
      "metadata": {
        "id": "00356ab0",
        "outputId": "51b079e9-5112-4e1e-c7f4-99728e38d332",
        "colab": {
          "base_uri": "https://localhost:8080/"
        }
      },
      "outputs": [
        {
          "output_type": "stream",
          "name": "stdout",
          "text": [
            "a =  30   b =  30\n",
            "a < b            :  False\n",
            "a == b           :  True\n"
          ]
        }
      ],
      "source": [
        "a = 30\n",
        "b = 30\n",
        "print('a = ', a, '  b = ', b)\n",
        "print('a < b            : ', a < b)\n",
        "print('a == b           : ', a == b)"
      ]
    },
    {
      "cell_type": "code",
      "execution_count": 9,
      "id": "54e251ac",
      "metadata": {
        "id": "54e251ac",
        "outputId": "05770ac3-85f0-47b9-94da-9845d5f744f5",
        "colab": {
          "base_uri": "https://localhost:8080/"
        }
      },
      "outputs": [
        {
          "output_type": "stream",
          "name": "stdout",
          "text": [
            "a < b and a == b :  False\n"
          ]
        }
      ],
      "source": [
        "print('a < b and a == b : ', a < b and a == b)"
      ]
    },
    {
      "cell_type": "code",
      "execution_count": 10,
      "id": "cd75ed3c",
      "metadata": {
        "id": "cd75ed3c",
        "outputId": "e1366c06-2764-4d23-b90c-85a7f8336fe5",
        "colab": {
          "base_uri": "https://localhost:8080/"
        }
      },
      "outputs": [
        {
          "output_type": "stream",
          "name": "stdout",
          "text": [
            "a =  30   b =  30\n",
            "a < b           :  False\n",
            "a == b          :  True\n"
          ]
        }
      ],
      "source": [
        "a = 30\n",
        "b = 30\n",
        "print('a = ', a, '  b = ', b)\n",
        "print('a < b           : ', a < b)\n",
        "print('a == b          : ', a == b)"
      ]
    },
    {
      "cell_type": "code",
      "execution_count": 11,
      "id": "2e4bc040",
      "metadata": {
        "id": "2e4bc040",
        "outputId": "213f71d9-32fd-44a6-a3a9-e7f69b622334",
        "colab": {
          "base_uri": "https://localhost:8080/"
        }
      },
      "outputs": [
        {
          "output_type": "stream",
          "name": "stdout",
          "text": [
            "a < b or a == b :  True\n"
          ]
        }
      ],
      "source": [
        "print('a < b or a == b : ', a < b or a == b)"
      ]
    },
    {
      "cell_type": "code",
      "execution_count": 12,
      "id": "c373a640",
      "metadata": {
        "id": "c373a640",
        "outputId": "94777140-dc5d-4a5a-a7a1-6dc338dc1af7",
        "colab": {
          "base_uri": "https://localhost:8080/"
        }
      },
      "outputs": [
        {
          "output_type": "stream",
          "name": "stdout",
          "text": [
            "a =  40\n",
            "a < 50      :  False\n"
          ]
        }
      ],
      "source": [
        "a = 40\n",
        "print('a = ', a)\n",
        "print('a < 50      : ' , a > 50 )"
      ]
    },
    {
      "cell_type": "code",
      "execution_count": 14,
      "id": "6df6ad87",
      "metadata": {
        "id": "6df6ad87",
        "outputId": "df49fe9e-9dce-42a8-9dc0-2acd29e25e53",
        "colab": {
          "base_uri": "https://localhost:8080/"
        }
      },
      "outputs": [
        {
          "output_type": "stream",
          "name": "stdout",
          "text": [
            "not a < 50  :  True\n"
          ]
        }
      ],
      "source": [
        "print('not a < 50  : ' , not(a > 50))"
      ]
    },
    {
      "cell_type": "markdown",
      "id": "bd699087",
      "metadata": {
        "tags": [],
        "id": "bd699087"
      },
      "source": [
        "# Miscellaneous Operators"
      ]
    },
    {
      "cell_type": "markdown",
      "id": "ba8d6ec4",
      "metadata": {
        "id": "ba8d6ec4"
      },
      "source": [
        "### Identity Operators"
      ]
    },
    {
      "cell_type": "code",
      "execution_count": 15,
      "id": "40e0b821",
      "metadata": {
        "id": "40e0b821",
        "outputId": "5545f9fb-ccd3-49c2-c2a6-5ad978788c3f",
        "colab": {
          "base_uri": "https://localhost:8080/"
        }
      },
      "outputs": [
        {
          "output_type": "stream",
          "name": "stdout",
          "text": [
            "a is b False\n"
          ]
        }
      ],
      "source": [
        "a = ['a', 'b', 'c']\n",
        "b = ['a', 'b', 'c']\n",
        "print('a is b' , a is b)"
      ]
    },
    {
      "cell_type": "code",
      "execution_count": 16,
      "id": "3e19ff48",
      "metadata": {
        "id": "3e19ff48",
        "outputId": "4da16825-a81e-40f0-b592-9281a24a3dc3",
        "colab": {
          "base_uri": "https://localhost:8080/"
        }
      },
      "outputs": [
        {
          "output_type": "stream",
          "name": "stdout",
          "text": [
            "a is b True\n"
          ]
        }
      ],
      "source": [
        "a = ['a', 'b', 'c']\n",
        "b =  a\n",
        "print('a is b' , a is b)"
      ]
    },
    {
      "cell_type": "code",
      "execution_count": 17,
      "id": "415131e2",
      "metadata": {
        "id": "415131e2",
        "outputId": "61f38928-db8a-488b-c704-6e0cb58f4a5a",
        "colab": {
          "base_uri": "https://localhost:8080/"
        }
      },
      "outputs": [
        {
          "output_type": "execute_result",
          "data": {
            "text/plain": [
              "True"
            ]
          },
          "metadata": {},
          "execution_count": 17
        }
      ],
      "source": [
        "id(a) == id(b)"
      ]
    },
    {
      "cell_type": "code",
      "execution_count": 18,
      "id": "3527455e",
      "metadata": {
        "id": "3527455e",
        "outputId": "22887db2-baec-446a-8172-f1d5efd66eff",
        "colab": {
          "base_uri": "https://localhost:8080/"
        }
      },
      "outputs": [
        {
          "output_type": "stream",
          "name": "stdout",
          "text": [
            "a is not b True\n"
          ]
        }
      ],
      "source": [
        "a = ['a', 'b', 'c']\n",
        "b = ['a', 'b', 'c']\n",
        "print('a is not b' , a is not b)"
      ]
    },
    {
      "cell_type": "code",
      "source": [
        "a = [1,2,'a'] #List - Change(Mutable) and it can be heterogeneous\n",
        "b = (1,2,'a') #Tuple - Cannot be changed(immutable) and it can be heterogeneous\n",
        "c = {1,'a',3,3} #Set - Can be changes(mutable) and it can be heterogeneous and it has to have unique values\n",
        "d = {'f':1,'g':2,'h':'a'} #Dictionary - Can be changes(mutable) and it can be heterogeneous but it has to have key value pairs\n",
        "print(a)\n",
        "print(type(a))\n",
        "print(b)\n",
        "print(type(b))\n",
        "print(c)\n",
        "print(type(c))\n",
        "print(d)\n",
        "print(type(d))"
      ],
      "metadata": {
        "colab": {
          "base_uri": "https://localhost:8080/"
        },
        "id": "YFdIimfM1KGF",
        "outputId": "341e12df-a5e2-45c6-86e8-aaef7a265a46"
      },
      "id": "YFdIimfM1KGF",
      "execution_count": 25,
      "outputs": [
        {
          "output_type": "stream",
          "name": "stdout",
          "text": [
            "[1, 2, 'a']\n",
            "<class 'list'>\n",
            "(1, 2, 'a')\n",
            "<class 'tuple'>\n",
            "{1, 3, 'a'}\n",
            "<class 'set'>\n",
            "{'f': 1, 'g': 2, 'h': 'a'}\n",
            "<class 'dict'>\n"
          ]
        }
      ]
    },
    {
      "cell_type": "markdown",
      "id": "e6a92c05",
      "metadata": {
        "id": "e6a92c05"
      },
      "source": [
        "### Membership Operators"
      ]
    },
    {
      "cell_type": "code",
      "execution_count": 26,
      "id": "75ddd5aa",
      "metadata": {
        "id": "75ddd5aa",
        "outputId": "999140f2-eb94-4462-ce30-9f2e6a628b21",
        "colab": {
          "base_uri": "https://localhost:8080/"
        }
      },
      "outputs": [
        {
          "output_type": "stream",
          "name": "stdout",
          "text": [
            "a  in \" Dictionary \"\n",
            "True\n"
          ]
        }
      ],
      "source": [
        "x = 'a'\n",
        "y = 'Dictionary'\n",
        "print(x , ' in \"', y, '\"')\n",
        "print( x in y)"
      ]
    },
    {
      "cell_type": "code",
      "execution_count": 54,
      "id": "2b94ae72",
      "metadata": {
        "id": "2b94ae72",
        "outputId": "eab629a6-0d47-46c4-dd2a-a8354cf08106",
        "colab": {
          "base_uri": "https://localhost:8080/"
        }
      },
      "outputs": [
        {
          "output_type": "stream",
          "name": "stdout",
          "text": [
            "z in \" Dictionary \"\n",
            "True\n"
          ]
        }
      ],
      "source": [
        "x = 'z'\n",
        "y = 'Dictionary'\n",
        "print(x , 'in \"', y, '\"')\n",
        "print( x not in y)"
      ]
    },
    {
      "cell_type": "code",
      "execution_count": 31,
      "id": "4eb92021",
      "metadata": {
        "id": "4eb92021",
        "outputId": "37b594b6-cf08-4145-b2b4-f918ea541c9e",
        "colab": {
          "base_uri": "https://localhost:8080/"
        }
      },
      "outputs": [
        {
          "output_type": "execute_result",
          "data": {
            "text/plain": [
              "False"
            ]
          },
          "metadata": {},
          "execution_count": 31
        }
      ],
      "source": [
        "a = [20, 45, 10]\n",
        "10 in a"
      ]
    },
    {
      "cell_type": "code",
      "execution_count": 33,
      "id": "a45c3b68",
      "metadata": {
        "id": "a45c3b68",
        "outputId": "9211319f-4bb5-48b2-a7db-4de906f96ec2",
        "colab": {
          "base_uri": "https://localhost:8080/"
        }
      },
      "outputs": [
        {
          "output_type": "execute_result",
          "data": {
            "text/plain": [
              "True"
            ]
          },
          "metadata": {},
          "execution_count": 33
        }
      ],
      "source": [
        "a = [20, 45, 5]\n",
        "10 not in a"
      ]
    },
    {
      "cell_type": "markdown",
      "id": "07976d7b",
      "metadata": {
        "id": "07976d7b"
      },
      "source": [
        "# Strings in Python"
      ]
    },
    {
      "cell_type": "code",
      "execution_count": 34,
      "id": "db449368",
      "metadata": {
        "id": "db449368",
        "outputId": "597e58c2-c60a-42d0-a62a-bdfc4ee8d085",
        "colab": {
          "base_uri": "https://localhost:8080/"
        }
      },
      "outputs": [
        {
          "output_type": "stream",
          "name": "stdout",
          "text": [
            "Hi! Welcome to Python Programming!!\n",
            "Hi! Welcome to Python Programming!!\n"
          ]
        }
      ],
      "source": [
        "message_1 = 'Hi! Welcome to Python Programming!!'\n",
        "message_2 = \"Hi! Welcome to Python Programming!!\"\n",
        "print(message_1)\n",
        "print(message_2)"
      ]
    },
    {
      "cell_type": "code",
      "execution_count": 35,
      "id": "fc795798",
      "metadata": {
        "id": "fc795798",
        "outputId": "e0972273-8fd3-40ad-f212-5618a2e0887f",
        "colab": {
          "base_uri": "https://localhost:8080/"
        }
      },
      "outputs": [
        {
          "output_type": "stream",
          "name": "stdout",
          "text": [
            "Hi! Welcome to \"Python Programming\"!!\n",
            "Hi! Welcome to 'Python Programming'!!\n"
          ]
        }
      ],
      "source": [
        "message_1 = 'Hi! Welcome to \"Python Programming\"!!'\n",
        "message_2 = \"Hi! Welcome to 'Python Programming'!!\"\n",
        "print(message_1)\n",
        "print(message_2)"
      ]
    },
    {
      "cell_type": "markdown",
      "id": "e592b6a5",
      "metadata": {
        "id": "e592b6a5"
      },
      "source": [
        "# String Methods"
      ]
    },
    {
      "cell_type": "code",
      "execution_count": 43,
      "id": "ebe9234e",
      "metadata": {
        "id": "ebe9234e",
        "outputId": "f3768403-1652-459b-c1d5-b3270b2e2bd3",
        "colab": {
          "base_uri": "https://localhost:8080/"
        }
      },
      "outputs": [
        {
          "output_type": "stream",
          "name": "stdout",
          "text": [
            "SHE SELLS SEA SHELLS ON THE SEA SHORE\n"
          ]
        }
      ],
      "source": [
        "string = 'She seLLs sEa SHELLS oN tHe SeA sHoRe'\n",
        "upper_case = string.upper()\n",
        "print(upper_case)"
      ]
    },
    {
      "cell_type": "code",
      "execution_count": 44,
      "id": "e75f14df",
      "metadata": {
        "id": "e75f14df",
        "outputId": "d10dc4f4-84d0-4bd4-bc90-733fe3164f4c",
        "colab": {
          "base_uri": "https://localhost:8080/"
        }
      },
      "outputs": [
        {
          "output_type": "stream",
          "name": "stdout",
          "text": [
            "she sells sea shells on the sea shore\n"
          ]
        }
      ],
      "source": [
        "lower_case = string.lower()\n",
        "print(lower_case)"
      ]
    },
    {
      "cell_type": "code",
      "execution_count": 45,
      "id": "0fbdb2f9",
      "metadata": {
        "id": "0fbdb2f9",
        "outputId": "b9b2dd9f-f664-45bf-ecb1-d8c9d708d8cf",
        "colab": {
          "base_uri": "https://localhost:8080/"
        }
      },
      "outputs": [
        {
          "output_type": "stream",
          "name": "stdout",
          "text": [
            "She sells sea shells on the sea shore\n"
          ]
        }
      ],
      "source": [
        "sentence = string.capitalize()\n",
        "print(sentence)"
      ]
    },
    {
      "cell_type": "code",
      "execution_count": 50,
      "id": "e4471326",
      "metadata": {
        "id": "e4471326",
        "outputId": "bbed9546-4fbd-4e5f-9ada-945afbebf369",
        "colab": {
          "base_uri": "https://localhost:8080/"
        }
      },
      "outputs": [
        {
          "output_type": "stream",
          "name": "stdout",
          "text": [
            "She Sells Sea Shells On The Sea Shore\n"
          ]
        }
      ],
      "source": [
        "word_upper = string.title()\n",
        "print(word_upper)"
      ]
    },
    {
      "cell_type": "code",
      "source": [],
      "metadata": {
        "id": "rus5TXdE9cSo"
      },
      "id": "rus5TXdE9cSo",
      "execution_count": null,
      "outputs": []
    }
  ],
  "metadata": {
    "kernelspec": {
      "display_name": "Python 3 [3.10]",
      "language": "python",
      "name": "python3"
    },
    "language_info": {
      "codemirror_mode": {
        "name": "ipython",
        "version": 3
      },
      "file_extension": ".py",
      "mimetype": "text/x-python",
      "name": "python",
      "nbconvert_exporter": "python",
      "pygments_lexer": "ipython3",
      "version": "3.10.2"
    },
    "colab": {
      "provenance": []
    }
  },
  "nbformat": 4,
  "nbformat_minor": 5
}