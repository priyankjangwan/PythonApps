{
 "cells": [
  {
   "cell_type": "markdown",
   "metadata": {
    "id": "_ye549M-Vcfa"
   },
   "source": [
    "# Converting Tensorflow Model to TensorFlow Lite Model\n",
    "- The TensorFlow Lite converter takes a TensorFlow model and generates\n",
    "a TensorFlow Lite model (an optimized **FlatBuffer** format identified by the **tflite** file extension).\n"
   ]
  },
  {
   "cell_type": "markdown",
   "metadata": {
    "id": "vsUwMzpVnfOy"
   },
   "source": [
    "## Steps to be followed:\n",
    "1. Import the required libraries\n",
    "2. Create and save the model\n",
    "3. Convert the Keras model to a TensorFlow lite model\n",
    "4. Convert concrete functions"
   ]
  },
  {
   "cell_type": "markdown",
   "metadata": {
    "id": "9jh_T8IcVwgI"
   },
   "source": [
    "### Step 1: Import the required libraries\n",
    "- Use the popular open-source machine learning framework for building and training neural networks, and import the **tensorflow** library.\n"
   ]
  },
  {
   "cell_type": "code",
   "execution_count": 3,
   "metadata": {
    "executionInfo": {
     "elapsed": 12422,
     "status": "ok",
     "timestamp": 1719044647609,
     "user": {
      "displayName": "Aleena Raj",
      "userId": "16635257578699511263"
     },
     "user_tz": -330
    },
    "id": "t7vHaQU7Vcfi"
   },
   "outputs": [],
   "source": [
    "import tensorflow as tf\n",
    "import numpy as np"
   ]
  },
  {
   "cell_type": "markdown",
   "metadata": {
    "id": "XP6pIUuvV6dN"
   },
   "source": [
    "### Step 2: Create and save the model\n",
    "- Create a sequential model using the Keras API in TensorFlow.\n",
    "- Compile the model with the specified optimizer and loss function.\n",
    "- Fit the model to the training data for a specified number of epochs.\n",
    "- Save the trained model in the specified directory using the TensorFlow **SavedModel** format.\n"
   ]
  },
  {
   "cell_type": "code",
   "execution_count": 4,
   "metadata": {
    "colab": {
     "base_uri": "https://localhost:8080/"
    },
    "executionInfo": {
     "elapsed": 3084,
     "status": "ok",
     "timestamp": 1719044698283,
     "user": {
      "displayName": "Aleena Raj",
      "userId": "16635257578699511263"
     },
     "user_tz": -330
    },
    "id": "a0bVrMs0Vcfj",
    "outputId": "abb5a92a-77c0-402c-9071-440502e71c1c"
   },
   "outputs": [
    {
     "name": "stdout",
     "output_type": "stream",
     "text": [
      "Epoch 1/5\n",
      "\u001b[1m1/1\u001b[0m \u001b[32m━━━━━━━━━━━━━━━━━━━━\u001b[0m\u001b[37m\u001b[0m \u001b[1m1s\u001b[0m 612ms/step - loss: 3.6110\n",
      "Epoch 2/5\n",
      "\u001b[1m1/1\u001b[0m \u001b[32m━━━━━━━━━━━━━━━━━━━━\u001b[0m\u001b[37m\u001b[0m \u001b[1m0s\u001b[0m 16ms/step - loss: 3.4345\n",
      "Epoch 3/5\n",
      "\u001b[1m1/1\u001b[0m \u001b[32m━━━━━━━━━━━━━━━━━━━━\u001b[0m\u001b[37m\u001b[0m \u001b[1m0s\u001b[0m 15ms/step - loss: 3.2596\n",
      "Epoch 4/5\n",
      "\u001b[1m1/1\u001b[0m \u001b[32m━━━━━━━━━━━━━━━━━━━━\u001b[0m\u001b[37m\u001b[0m \u001b[1m0s\u001b[0m 15ms/step - loss: 3.0936\n",
      "Epoch 5/5\n",
      "\u001b[1m1/1\u001b[0m \u001b[32m━━━━━━━━━━━━━━━━━━━━\u001b[0m\u001b[37m\u001b[0m \u001b[1m0s\u001b[0m 15ms/step - loss: 2.9360\n",
      "INFO:tensorflow:Assets written to: saved_model_keras_dir/assets\n"
     ]
    },
    {
     "name": "stderr",
     "output_type": "stream",
     "text": [
      "INFO:tensorflow:Assets written to: saved_model_keras_dir/assets\n"
     ]
    }
   ],
   "source": [
    "# Define the model\n",
    "model = tf.keras.models.Sequential([\n",
    "    tf.keras.layers.Input(shape=(1,)),  # Use Input layer for the input shape\n",
    "    tf.keras.layers.Dense(units=16, activation='relu'),\n",
    "    tf.keras.layers.Dense(units=1)\n",
    "])\n",
    "\n",
    "# Compile the model\n",
    "model.compile(optimizer='sgd', loss='mean_squared_error')\n",
    "\n",
    "# Convert lists to NumPy arrays\n",
    "x = np.array([-1, 0, 1])\n",
    "y = np.array([-3, -1, 1])\n",
    "\n",
    "# Train the model\n",
    "model.fit(x=x, y=y, epochs=5)\n",
    "\n",
    "# Save the model\n",
    "tf.saved_model.save(model, 'saved_model_keras_dir')"
   ]
  },
  {
   "cell_type": "markdown",
   "metadata": {
    "id": "RAOrPWgfol99"
   },
   "source": [
    "__Observation:__\n",
    "\n",
    "The code defines, trains, and saves a sequential Keras model in TensorFlow."
   ]
  },
  {
   "cell_type": "markdown",
   "metadata": {
    "id": "Df_zoSvDWQOC"
   },
   "source": [
    "### Step 3: Convert the Keras model to a Tensorflow Lite model\n",
    "- Save the TensorFlow Lite model to a file.\n",
    "\n"
   ]
  },
  {
   "cell_type": "code",
   "execution_count": 5,
   "metadata": {
    "executionInfo": {
     "elapsed": 1597,
     "status": "ok",
     "timestamp": 1719044737598,
     "user": {
      "displayName": "Aleena Raj",
      "userId": "16635257578699511263"
     },
     "user_tz": -330
    },
    "id": "vFrWAF4fVcfl"
   },
   "outputs": [
    {
     "name": "stdout",
     "output_type": "stream",
     "text": [
      "INFO:tensorflow:Assets written to: /tmp/tmp4_fd39fd/assets\n"
     ]
    },
    {
     "name": "stderr",
     "output_type": "stream",
     "text": [
      "INFO:tensorflow:Assets written to: /tmp/tmp4_fd39fd/assets\n"
     ]
    },
    {
     "name": "stdout",
     "output_type": "stream",
     "text": [
      "Saved artifact at '/tmp/tmp4_fd39fd'. The following endpoints are available:\n",
      "\n",
      "* Endpoint 'serve'\n",
      "  args_0 (POSITIONAL_ONLY): TensorSpec(shape=(None, 1), dtype=tf.float32, name='keras_tensor_4')\n",
      "Output Type:\n",
      "  TensorSpec(shape=(None, 1), dtype=tf.float32, name=None)\n",
      "Captures:\n",
      "  140156862773760: TensorSpec(shape=(), dtype=tf.resource, name=None)\n",
      "  140156862774464: TensorSpec(shape=(), dtype=tf.resource, name=None)\n",
      "  140156863122944: TensorSpec(shape=(), dtype=tf.resource, name=None)\n",
      "  140156863125408: TensorSpec(shape=(), dtype=tf.resource, name=None)\n"
     ]
    },
    {
     "name": "stderr",
     "output_type": "stream",
     "text": [
      "WARNING: All log messages before absl::InitializeLog() is called are written to STDERR\n",
      "W0000 00:00:1730703995.175238     203 tf_tfl_flatbuffer_helpers.cc:392] Ignored output_format.\n",
      "W0000 00:00:1730703995.175264     203 tf_tfl_flatbuffer_helpers.cc:395] Ignored drop_control_dependency.\n",
      "2024-11-04 07:06:35.175580: I tensorflow/cc/saved_model/reader.cc:83] Reading SavedModel from: /tmp/tmp4_fd39fd\n",
      "2024-11-04 07:06:35.175875: I tensorflow/cc/saved_model/reader.cc:52] Reading meta graph with tags { serve }\n",
      "2024-11-04 07:06:35.175884: I tensorflow/cc/saved_model/reader.cc:147] Reading SavedModel debug info (if present) from: /tmp/tmp4_fd39fd\n",
      "2024-11-04 07:06:35.177940: I tensorflow/compiler/mlir/mlir_graph_optimization_pass.cc:388] MLIR V1 optimization pass is not enabled\n",
      "2024-11-04 07:06:35.178379: I tensorflow/cc/saved_model/loader.cc:236] Restoring SavedModel bundle.\n",
      "2024-11-04 07:06:35.196078: I tensorflow/cc/saved_model/loader.cc:220] Running initialization op on SavedModel bundle at path: /tmp/tmp4_fd39fd\n",
      "2024-11-04 07:06:35.200692: I tensorflow/cc/saved_model/loader.cc:462] SavedModel load for tags { serve }; Status: success: OK. Took 25115 microseconds.\n",
      "2024-11-04 07:06:35.368683: I tensorflow/compiler/mlir/tensorflow/utils/dump_mlir_util.cc:268] disabling MLIR crash reproducer, set env var `MLIR_CRASH_REPRODUCER_DIRECTORY` to enable.\n"
     ]
    }
   ],
   "source": [
    "converter = tf.lite.TFLiteConverter.from_keras_model(model)\n",
    "tflite_model = converter.convert()\n",
    "\n",
    "with open('model.tflite', 'wb') as f:\n",
    "  f.write(tflite_model)"
   ]
  },
  {
   "cell_type": "markdown",
   "metadata": {
    "id": "dCDmUrmPocbS"
   },
   "source": [
    "__Observation:__\n",
    "\n",
    "The updated code converts a Keras model into a TensorFlow Lite model and saves it to a file named **model.tflite**.\n",
    "\n",
    "\n",
    "\n",
    "\n"
   ]
  },
  {
   "cell_type": "markdown",
   "metadata": {
    "id": "G_ZIMTH_WeTM"
   },
   "source": [
    "### Step 4: Convert concrete functions\n",
    "- Create a model using low-level `tf.` APIs.\n",
    "- Define the custom TensorFlow module named **Squared** that squares input values.\n",
    "- Create an instance of the Squared module.\n",
    "- Get the concrete function from the module's **__call__** method.\n",
    "- Convert the concrete function to a TensorFlow Lite model.\n",
    "\n"
   ]
  },
  {
   "cell_type": "code",
   "execution_count": 6,
   "metadata": {
    "executionInfo": {
     "elapsed": 439,
     "status": "ok",
     "timestamp": 1719044794379,
     "user": {
      "displayName": "Aleena Raj",
      "userId": "16635257578699511263"
     },
     "user_tz": -330
    },
    "id": "rJGGm3pZVcfl"
   },
   "outputs": [
    {
     "name": "stdout",
     "output_type": "stream",
     "text": [
      "INFO:tensorflow:Assets written to: /tmp/tmpntol75wp/assets\n"
     ]
    },
    {
     "name": "stderr",
     "output_type": "stream",
     "text": [
      "INFO:tensorflow:Assets written to: /tmp/tmpntol75wp/assets\n",
      "W0000 00:00:1730704023.533468     203 tf_tfl_flatbuffer_helpers.cc:392] Ignored output_format.\n",
      "W0000 00:00:1730704023.533489     203 tf_tfl_flatbuffer_helpers.cc:395] Ignored drop_control_dependency.\n",
      "2024-11-04 07:07:03.533658: I tensorflow/cc/saved_model/reader.cc:83] Reading SavedModel from: /tmp/tmpntol75wp\n",
      "2024-11-04 07:07:03.533799: I tensorflow/cc/saved_model/reader.cc:52] Reading meta graph with tags { serve }\n",
      "2024-11-04 07:07:03.533808: I tensorflow/cc/saved_model/reader.cc:147] Reading SavedModel debug info (if present) from: /tmp/tmpntol75wp\n",
      "2024-11-04 07:07:03.534611: I tensorflow/cc/saved_model/loader.cc:236] Restoring SavedModel bundle.\n",
      "2024-11-04 07:07:03.538123: I tensorflow/cc/saved_model/loader.cc:220] Running initialization op on SavedModel bundle at path: /tmp/tmpntol75wp\n",
      "2024-11-04 07:07:03.540394: I tensorflow/cc/saved_model/loader.cc:462] SavedModel load for tags { serve }; Status: success: OK. Took 6738 microseconds.\n",
      "2024-11-04 07:07:03.556940: I tensorflow/compiler/mlir/lite/flatbuffer_export.cc:3531] Estimated count of arithmetic ops: 0  ops, equivalently 0  MACs\n"
     ]
    }
   ],
   "source": [
    "class Squared(tf.Module):\n",
    "  @tf.function(input_signature=[tf.TensorSpec(shape=[None], dtype=tf.float32)])\n",
    "  def __call__(self, x):\n",
    "    return tf.square(x)\n",
    "\n",
    "model = Squared()\n",
    "\n",
    "concrete_func = model.__call__.get_concrete_function()\n",
    "\n",
    "converter = tf.lite.TFLiteConverter.from_concrete_functions([concrete_func],\n",
    "                                                            model)\n",
    "tflite_model = converter.convert()"
   ]
  },
  {
   "cell_type": "code",
   "execution_count": 7,
   "metadata": {
    "colab": {
     "base_uri": "https://localhost:8080/"
    },
    "executionInfo": {
     "elapsed": 543,
     "status": "ok",
     "timestamp": 1719044998136,
     "user": {
      "displayName": "Aleena Raj",
      "userId": "16635257578699511263"
     },
     "user_tz": -330
    },
    "id": "1i74AO14ELXX",
    "outputId": "1c751476-aefe-48f0-e96a-70ed575013af"
   },
   "outputs": [
    {
     "name": "stdout",
     "output_type": "stream",
     "text": [
      "tf.Tensor([4.], shape=(1,), dtype=float32)\n"
     ]
    }
   ],
   "source": [
    "result = model(tf.constant([2.0]))  # Example to square the value 2\n",
    "print(result)  # Should print 4.0"
   ]
  },
  {
   "cell_type": "markdown",
   "metadata": {
    "id": "RL5X4FgcoH8z"
   },
   "source": [
    "**Observation**:\n",
    "\n",
    "The provided code defines a TensorFlow module called **Squared** and converts it into a TensorFlow Lite model using the TensorFlow Lite converter."
   ]
  }
 ],
 "metadata": {
  "colab": {
   "provenance": []
  },
  "kernelspec": {
   "display_name": "Python 3 [3.10]",
   "language": "python",
   "name": "python3"
  },
  "language_info": {
   "codemirror_mode": {
    "name": "ipython",
    "version": 3
   },
   "file_extension": ".py",
   "mimetype": "text/x-python",
   "name": "python",
   "nbconvert_exporter": "python",
   "pygments_lexer": "ipython3",
   "version": "3.10.2"
  }
 },
 "nbformat": 4,
 "nbformat_minor": 4
}
