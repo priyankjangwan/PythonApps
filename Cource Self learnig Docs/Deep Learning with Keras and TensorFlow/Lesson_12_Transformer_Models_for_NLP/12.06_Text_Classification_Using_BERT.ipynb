{
 "cells": [
  {
   "cell_type": "markdown",
   "metadata": {
    "id": "qv3tpNnY-EZC"
   },
   "source": [
    "# Text Classification Using BERT\n"
   ]
  },
  {
   "cell_type": "markdown",
   "metadata": {
    "id": "a62WL4Wnkfr6"
   },
   "source": [
    "## Steps to be followed:\n",
    "1. Import the required libraries for working with Bert and training a Bert-based model\n",
    "2. Read and previewing data from a CSV file using Pandas\n",
    "3. Visualize category distribution with a bar chart\n",
    "4. Customize the dataset class for text classification with BERT tokenization\n",
    "5. Fine-tune BERT for text classification\n",
    "6. Train and validation loop for a BERT-based classifier\n",
    "7. Implement functions for model evaluation\n",
    "8. Split the dataset\n",
    "9. Train the model\n",
    "10. Evaluate the model\n",
    "11. Perform Cross-Validation\n",
    "12. Examine Confusion Matrix and Other Metrics"
   ]
  },
  {
   "cell_type": "markdown",
   "metadata": {
    "id": "N5RR-R1L-3MJ"
   },
   "source": [
    "### Step 1: Import the required libraries for working with Bert and training a Bert-based model\n",
    "- Import pandas for data manipulation.\n",
    "\n",
    "- Import torch for tensor operations and neural networks.\n",
    "- Import NumPy for numerical operations.\n",
    "- Import BertTokenizer and BertModel from the transformers library for BERT-specific functionalities.\n",
    "- Import nn from torch for neural network components.\n",
    "- Import Adam from torch.optim for the Adam optimizer.\n",
    "- Import tqdm for creating progress bars. These imports set up the required dependencies for working with BERT and training a BERT-based model."
   ]
  },
  {
   "cell_type": "code",
   "execution_count": 1,
   "metadata": {
    "id": "mWSVMicMAe0_"
   },
   "outputs": [],
   "source": [
    "import os\n",
    "\n",
    "# Disable oneDNN optimizations to avoid potential minor numerical differences caused by floating-point round-off errors.\n",
    "os.environ['TF_ENABLE_ONEDNN_OPTS'] = '0'"
   ]
  },
  {
   "cell_type": "code",
   "execution_count": 2,
   "metadata": {},
   "outputs": [
    {
     "name": "stdout",
     "output_type": "stream",
     "text": [
      "Defaulting to user installation because normal site-packages is not writeable\n",
      "Looking in indexes: https://download.pytorch.org/whl/cu125\n",
      "Requirement already satisfied: torch in /voc/work/.local/lib/python3.10/site-packages (2.0.1+cu117)\n",
      "Requirement already satisfied: torchvision in /voc/work/.local/lib/python3.10/site-packages (0.15.2+cu117)\n",
      "Requirement already satisfied: torchaudio in /voc/work/.local/lib/python3.10/site-packages (2.0.2+cu117)\n",
      "Requirement already satisfied: filelock in /usr/local/lib/python3.10/site-packages (from torch) (3.13.1)\n",
      "Requirement already satisfied: typing-extensions in /usr/local/lib/python3.10/site-packages (from torch) (4.8.0)\n",
      "Requirement already satisfied: sympy in /voc/work/.local/lib/python3.10/site-packages (from torch) (1.13.1)\n",
      "Requirement already satisfied: networkx in /usr/local/lib/python3.10/site-packages (from torch) (3.2.1)\n",
      "Requirement already satisfied: jinja2 in /usr/local/lib/python3.10/site-packages (from torch) (3.1.2)\n",
      "Requirement already satisfied: triton==2.0.0 in /voc/work/.local/lib/python3.10/site-packages (from torch) (2.0.0)\n",
      "Requirement already satisfied: cmake in /usr/local/lib/python3.10/site-packages (from triton==2.0.0->torch) (3.27.7)\n",
      "Requirement already satisfied: lit in /usr/local/lib/python3.10/site-packages (from triton==2.0.0->torch) (17.0.6)\n",
      "Requirement already satisfied: numpy in /usr/local/lib/python3.10/site-packages (from torchvision) (1.26.2)\n",
      "Requirement already satisfied: requests in /voc/work/.local/lib/python3.10/site-packages (from torchvision) (2.32.3)\n",
      "Requirement already satisfied: pillow!=8.3.*,>=5.3.0 in /voc/work/.local/lib/python3.10/site-packages (from torchvision) (11.0.0)\n",
      "Requirement already satisfied: MarkupSafe>=2.0 in /usr/local/lib/python3.10/site-packages (from jinja2->torch) (2.1.3)\n",
      "Requirement already satisfied: charset-normalizer<4,>=2 in /usr/local/lib/python3.10/site-packages (from requests->torchvision) (3.3.2)\n",
      "Requirement already satisfied: idna<4,>=2.5 in /usr/local/lib/python3.10/site-packages (from requests->torchvision) (3.6)\n",
      "Requirement already satisfied: urllib3<3,>=1.21.1 in /usr/local/lib/python3.10/site-packages (from requests->torchvision) (1.26.18)\n",
      "Requirement already satisfied: certifi>=2017.4.17 in /usr/local/lib/python3.10/site-packages (from requests->torchvision) (2023.11.17)\n",
      "Requirement already satisfied: mpmath<1.4,>=1.1.0 in /usr/local/lib/python3.10/site-packages (from sympy->torch) (1.3.0)\n",
      "\n",
      "\u001b[1m[\u001b[0m\u001b[34;49mnotice\u001b[0m\u001b[1;39;49m]\u001b[0m\u001b[39;49m A new release of pip is available: \u001b[0m\u001b[31;49m23.3.1\u001b[0m\u001b[39;49m -> \u001b[0m\u001b[32;49m24.3.1\u001b[0m\n",
      "\u001b[1m[\u001b[0m\u001b[34;49mnotice\u001b[0m\u001b[1;39;49m]\u001b[0m\u001b[39;49m To update, run: \u001b[0m\u001b[32;49mpip install --upgrade pip\u001b[0m\n"
     ]
    }
   ],
   "source": [
    "!pip install torch torchvision torchaudio --index-url https://download.pytorch.org/whl/cu125\n",
    "!pip install transformers"
   ]
  },
  {
   "cell_type": "code",
   "execution_count": 4,
   "metadata": {
    "colab": {
     "base_uri": "https://localhost:8080/"
    },
    "id": "_0QRdbw8xWuD",
    "outputId": "f3640bd2-8729-4ea4-d412-0c208337dc9f"
   },
   "outputs": [],
   "source": [
    "import torchvision\n",
    "torchvision.disable_beta_transforms_warning()\n",
    "\n",
    "import pandas as pd\n",
    "import torch\n",
    "import numpy as np\n",
    "from transformers import BertTokenizer, BertModel\n",
    "from torch import nn\n",
    "from torch.optim import Adam\n",
    "from tqdm import tqdm"
   ]
  },
  {
   "cell_type": "markdown",
   "metadata": {
    "id": "XvesTIizGd91"
   },
   "source": [
    "### Step 2: Read and preview data from a CSV file using Pandas\n",
    "- Read the CSV file into a DataFrame.\n",
    "- Display the first few rows of the DataFrame.\n",
    "\n"
   ]
  },
  {
   "cell_type": "code",
   "execution_count": 5,
   "metadata": {
    "colab": {
     "base_uri": "https://localhost:8080/",
     "height": 206
    },
    "id": "r-mdatKwxXwh",
    "outputId": "9b143863-5a55-4948-fb45-76cc81e29e40"
   },
   "outputs": [
    {
     "data": {
      "text/html": [
       "<div>\n",
       "<style scoped>\n",
       "    .dataframe tbody tr th:only-of-type {\n",
       "        vertical-align: middle;\n",
       "    }\n",
       "\n",
       "    .dataframe tbody tr th {\n",
       "        vertical-align: top;\n",
       "    }\n",
       "\n",
       "    .dataframe thead th {\n",
       "        text-align: right;\n",
       "    }\n",
       "</style>\n",
       "<table border=\"1\" class=\"dataframe\">\n",
       "  <thead>\n",
       "    <tr style=\"text-align: right;\">\n",
       "      <th></th>\n",
       "      <th>category</th>\n",
       "      <th>text</th>\n",
       "    </tr>\n",
       "  </thead>\n",
       "  <tbody>\n",
       "    <tr>\n",
       "      <th>0</th>\n",
       "      <td>tech</td>\n",
       "      <td>tv future in the hands of viewers with home th...</td>\n",
       "    </tr>\n",
       "    <tr>\n",
       "      <th>1</th>\n",
       "      <td>business</td>\n",
       "      <td>worldcom boss  left books alone  former worldc...</td>\n",
       "    </tr>\n",
       "    <tr>\n",
       "      <th>2</th>\n",
       "      <td>sport</td>\n",
       "      <td>tigers wary of farrell  gamble  leicester say ...</td>\n",
       "    </tr>\n",
       "    <tr>\n",
       "      <th>3</th>\n",
       "      <td>sport</td>\n",
       "      <td>yeading face newcastle in fa cup premiership s...</td>\n",
       "    </tr>\n",
       "    <tr>\n",
       "      <th>4</th>\n",
       "      <td>entertainment</td>\n",
       "      <td>ocean s twelve raids box office ocean s twelve...</td>\n",
       "    </tr>\n",
       "  </tbody>\n",
       "</table>\n",
       "</div>"
      ],
      "text/plain": [
       "        category                                               text\n",
       "0           tech  tv future in the hands of viewers with home th...\n",
       "1       business  worldcom boss  left books alone  former worldc...\n",
       "2          sport  tigers wary of farrell  gamble  leicester say ...\n",
       "3          sport  yeading face newcastle in fa cup premiership s...\n",
       "4  entertainment  ocean s twelve raids box office ocean s twelve..."
      ]
     },
     "execution_count": 5,
     "metadata": {},
     "output_type": "execute_result"
    }
   ],
   "source": [
    "#datapath = f'/content/bbc-text.csv'\n",
    "df = pd.read_csv(\"bbc-text.csv\")\n",
    "df.head()"
   ]
  },
  {
   "cell_type": "markdown",
   "metadata": {
    "id": "YkLcNZ8eGyor"
   },
   "source": [
    "**Observation:**\n",
    "\n",
    "The code reads a CSV file named **bbc-text.csv** from the specified path and displays the first few rows of the dataset."
   ]
  },
  {
   "cell_type": "markdown",
   "metadata": {
    "id": "uUMCU7t4HPts"
   },
   "source": [
    "### Step 3: Visualize category distribution with a bar chart\n",
    "- Group the DataFrame by category column and calculate the size of each group.\n",
    "- Plot a bar chart to visualize the group sizes.\n",
    "\n"
   ]
  },
  {
   "cell_type": "code",
   "execution_count": 6,
   "metadata": {
    "colab": {
     "base_uri": "https://localhost:8080/",
     "height": 552
    },
    "id": "3E89KbWHxfze",
    "outputId": "0a2f5f53-7d85-444a-80e2-b276a4e82e53"
   },
   "outputs": [
    {
     "data": {
      "text/plain": [
       "<Axes: xlabel='category'>"
      ]
     },
     "execution_count": 6,
     "metadata": {},
     "output_type": "execute_result"
    },
    {
     "data": {
      "image/png": "[encoded data removed]",
      "text/plain": [
       "<Figure size 432x288 with 1 Axes>"
      ]
     },
     "metadata": {
      "needs_background": "light"
     },
     "output_type": "display_data"
    }
   ],
   "source": [
    "df.groupby(['category']).size().plot.bar()"
   ]
  },
  {
   "cell_type": "markdown",
   "metadata": {
    "id": "vnvWpcvMmnng"
   },
   "source": [
    "**Observation:**\n",
    "\n",
    "The code snippet performs a groupby operation on the category column of the DataFrame df, calculates the size of each category group, and then creates a bar plot to visualize the distribution of categories."
   ]
  },
  {
   "cell_type": "markdown",
   "metadata": {
    "id": "exvlaoTRIHEd"
   },
   "source": [
    "### Step 4: Customize dataset class for text classification with BERT tokenization\n",
    "- Initialize the tokenizer from the BERT model.\n",
    "- Define a dictionary to map category labels to numerical values.\n",
    "- Define a custom dataset class for text classification.\n",
    "- Map category labels to numerical values.\n",
    "- Tokenize and encode texts using the tokenizer.\n",
    "- Return the labels of the dataset.\n",
    "- Return the length of the dataset.\n",
    "- Fetch a batch of labels given an index.\n",
    "- Fetch a batch of tokenized texts given an index.\n",
    "- Retrieve a batch of tokenized texts and labels.\n"
   ]
  },
  {
   "cell_type": "code",
   "execution_count": 7,
   "metadata": {
    "colab": {
     "base_uri": "https://localhost:8080/",
     "height": 304,
     "referenced_widgets": [
      "1fde6b9441f04ccf971592432abc1597",
      "f129e10ceb854e0fae4a6458cd47d227",
      "c2b31d77a27b43edaa3f1c1836674de0",
      "20f7f8b2290746578315c6356875be82",
      "b4a6a248855e45d38ef0e36fea292c55",
      "93d4a583209b40de81c45c3818047ed0",
      "cf66a10841304467873ff2282afae64c",
      "a6db85f0d0fe46b09f73c2c023f14dd9",
      "b5779faaebe74d9a9afc45a6f199b6b8",
      "fe31c94f50a84789887e2f2d53d5e969",
      "0d1f635e62364b22bc7fc4e440cc2b7f",
      "68f7b588c9204574b1a24e15e5f93fd7",
      "4f4e4c88ea7643ac8b6238d03b04d944",
      "8e52d5d5195d4b74ba749d1d5655daf1",
      "1b414958372f4a2b96931466eda13f5c",
      "f67e5e3095a74270a4217fdd2ff24b6c",
      "160c63812a5949c694daad8ef28e795d",
      "5b98e0a7e9c743129854dc457040484d",
      "72fa518b14c84b7897fc5e3c66a36ce3",
      "695c7829bccd45cfbfdc4d70cbf281e5",
      "e244d3cf36d84ff5a6731fafc402c322",
      "2923c81450ae46aa8d42c67fa2d3ad8a",
      "577c7f66b2854d52a0f97859cbbcda4f",
      "11672a11b6874f42a9f02a3074371071",
      "fff6ee9b6a094f01be68a4602590f717",
      "7c1a76afb17140bdb12e275289687cab",
      "2e40bd5c2cc34bcc9190a626cd92e594",
      "38d523110ead41a09d226c8581b3308b",
      "c81328d7b30f4f6eb83d29a27297225b",
      "16fbd1beff8d40518619731869f76739",
      "9c8afa97434449bea44d419277e241d0",
      "cbc3de03337e4e91846763e47d8b9361",
      "e4317e8e16b74e76a87e7faa10f94ff2",
      "beb76d424b5f4163bd19d1739d2bcf03",
      "e15def6476c04b9a825b73be75007ac7",
      "79e1c1723fcd44548c0c927420672fe7",
      "bb251ccc16904073930ce3297c638803",
      "37cad52637124e4b8784fb6ffb8de04a",
      "0e34ef61ad5d44e0965b4f8bc0db696e",
      "eb29a204991f476e80d6277fc986d785",
      "df28541f5ea94fbc9f4f122058dd1b44",
      "858cb0e50ed7416b88cec19386aad232",
      "12798aa2cfb84d5db839f8fd84445848",
      "93468b7ec7fb41d882c203d736a2e1d5"
     ]
    },
    "id": "WIzTHXpixtXP",
    "outputId": "42f4d8f8-d432-4dfc-c889-fac9a62127d0"
   },
   "outputs": [],
   "source": [
    "tokenizer = BertTokenizer.from_pretrained('bert-base-cased')\n",
    "labels = {val: idx for idx, val in enumerate(sorted(df[\"category\"].unique()))}\n",
    "\n",
    "\n",
    "class Dataset(torch.utils.data.Dataset):\n",
    "\n",
    "    def __init__(self, df):\n",
    "        self.labels = [labels[label] for label in df['category']]\n",
    "        self.texts = [tokenizer(text, padding='max_length', max_length=512, truncation=True, return_tensors=\"pt\")\n",
    "                      for text in df['text']]\n",
    "\n",
    "    def __len__(self):\n",
    "        return len(self.labels)\n",
    "\n",
    "    def __getitem__(self, idx):\n",
    "        label = torch.tensor(self.labels[idx])\n",
    "        text = self.texts[idx]\n",
    "        return text, label"
   ]
  },
  {
   "cell_type": "markdown",
   "metadata": {
    "id": "9M9kXSjLm7Ej"
   },
   "source": [
    "**Observation:**\n",
    "\n",
    "This code initializes a BERT tokenizer and defines a custom dataset class for text classification. The class maps categories to numerical labels, tokenizes and encodes texts, and provides methods to retrieve batches of tokenized texts and labels. This setup is essential for preparing the data for model training."
   ]
  },
  {
   "cell_type": "markdown",
   "metadata": {
    "id": "fnF3R_nBaI2x"
   },
   "source": [
    "### Step 5: Fine-tune BERT for text classification\n",
    "- Define a PyTorch module for text classification using BERT as the base model.\n",
    "- Load the pre-trained BERT model.\n",
    "- Define a dropout layer with the specified dropout rate.\n",
    "- Define a linear layer with an input size of 768 and an output size of 5.\n",
    "- Define a ReLU activation function.\n",
    "- Perform a forward pass through the BERT model.\n",
    "- Apply dropout to the pooled output.\n",
    "- Pass the dropout output through the linear layer.\n",
    "- Apply the ReLU activation function to the linear output\n",
    "\n"
   ]
  },
  {
   "cell_type": "code",
   "execution_count": 8,
   "metadata": {
    "id": "YQRtZHexxf3m"
   },
   "outputs": [],
   "source": [
    "class BertClassifier(nn.Module):\n",
    "\n",
    "    def __init__(self, dropout=0.5):\n",
    "        super(BertClassifier, self).__init__()\n",
    "        self.bert = BertModel.from_pretrained('bert-base-cased')\n",
    "        self.dropout = nn.Dropout(dropout)\n",
    "        self.linear = nn.Linear(768, 5)\n",
    "        self.relu = nn.ReLU()\n",
    "\n",
    "    def forward(self, input_ids, attention_mask):\n",
    "        _, pooled_output = self.bert(input_ids=input_ids, attention_mask=attention_mask, return_dict=False)\n",
    "        dropout_output = self.dropout(pooled_output)\n",
    "        linear_output = self.linear(dropout_output)\n",
    "        final_output = self.relu(linear_output)\n",
    "        return final_output\n"
   ]
  },
  {
   "cell_type": "markdown",
   "metadata": {
    "id": "W7fXMs-EhJLO"
   },
   "source": [
    "**Observation:**\n",
    "\n",
    "This code defines a PyTorch module for text classification using BERT as the base model. It loads a pre-trained BERT model, defines a dropout layer, a linear layer, and a ReLU activation function. The forward method performs a forward pass through the BERT model, applies dropout, passes the output through the linear layer, and applies ReLU activation. This setup fine-tunes BERT for the classification task."
   ]
  },
  {
   "cell_type": "markdown",
   "metadata": {
    "id": "zCr8apZMawgK"
   },
   "source": [
    "### Step 6: Train and validate loop for a BERT-based classifier\n",
    "- Create dataset objects and data loaders for training and validation data.\n",
    "- Check if CUDA is available and set the device accordingly.\n",
    "- Define the loss function and optimizer.\n",
    "- Move the model and loss function to CUDA if available.\n",
    "- The training loop iterates over the batches of training data. It moves the inputs and labels to the device, performs the forward pass through the model, calculates the batch loss and accuracy, performs the backward pass and optimization step, and updates the total loss and accuracy.\n",
    "\n",
    "- Similarly, the validation loop iterates over the batches of validation data. It performs the forward pass, calculates the batch loss and accuracy, and updates the total loss and accuracy.\n",
    "- Print epoch results.\n"
   ]
  },
  {
   "cell_type": "code",
   "execution_count": 9,
   "metadata": {
    "colab": {
     "base_uri": "https://localhost:8080/"
    },
    "id": "Saiqp3ZzatRj",
    "outputId": "66d0d1cf-748e-4d58-bd1e-20259299be6b"
   },
   "outputs": [
    {
     "name": "stdout",
     "output_type": "stream",
     "text": [
      "Device:  cuda\n"
     ]
    }
   ],
   "source": [
    "# Initialize the device:\n",
    "use_cuda = torch.cuda.is_available()\n",
    "device = torch.device(\"cuda\" if use_cuda else \"cpu\")\n",
    "print(\"Device: \", device)"
   ]
  },
  {
   "cell_type": "code",
   "execution_count": 10,
   "metadata": {
    "id": "ZSF2nfiS0Ia3"
   },
   "outputs": [],
   "source": [
    "def train(model, train_data, val_data, learning_rate, epochs, device):\n",
    "    train_dataset = Dataset(train_data)\n",
    "    val_dataset = Dataset(val_data)\n",
    "\n",
    "    train_loader = torch.utils.data.DataLoader(train_dataset, batch_size=16, shuffle=True)\n",
    "    val_loader = torch.utils.data.DataLoader(val_dataset, batch_size=16)\n",
    "    criterion = nn.CrossEntropyLoss()\n",
    "    optimizer = Adam(model.parameters(), lr=learning_rate)\n",
    "\n",
    "    if use_cuda:\n",
    "        model = model.cuda()\n",
    "        criterion = criterion.cuda()\n",
    "\n",
    "    for epoch in range(epochs):\n",
    "        model.train()\n",
    "        total_loss_train = 0\n",
    "        total_acc_train = 0\n",
    "\n",
    "        for train_input, train_label in tqdm(train_loader):\n",
    "            train_label = train_label.to(device)\n",
    "            mask = train_input['attention_mask'].squeeze(1).to(device)\n",
    "            input_id = train_input['input_ids'].squeeze(1).to(device)\n",
    "\n",
    "            optimizer.zero_grad()\n",
    "            output = model(input_id, mask)\n",
    "\n",
    "            loss = criterion(output, train_label)\n",
    "            total_loss_train += loss.item()\n",
    "\n",
    "            acc = (output.argmax(dim=1) == train_label).sum().item()\n",
    "            total_acc_train += acc\n",
    "\n",
    "            loss.backward()\n",
    "            optimizer.step()\n",
    "\n",
    "        model.eval()\n",
    "        total_loss_val = 0\n",
    "        total_acc_val = 0\n",
    "\n",
    "        with torch.no_grad():\n",
    "            for val_input, val_label in val_loader:\n",
    "                val_label = val_label.to(device)\n",
    "                mask = val_input['attention_mask'].squeeze(1).to(device)\n",
    "                input_id = val_input['input_ids'].squeeze(1).to(device)\n",
    "\n",
    "                output = model(input_id, mask)\n",
    "\n",
    "                loss = criterion(output, val_label)\n",
    "                total_loss_val += loss.item()\n",
    "\n",
    "                acc = (output.argmax(dim=1) == val_label).sum().item()\n",
    "                total_acc_val += acc\n",
    "\n",
    "        print(f'Epochs: {epoch + 1} | Train Loss: {total_loss_train / len(train_loader): .3f} | '\n",
    "              f'Train Accuracy: {total_acc_train / len(train_loader.dataset): .3f} | '\n",
    "              f'Val Loss: {total_loss_val / len(val_loader): .3f} | '\n",
    "              f'Val Accuracy: {total_acc_val / len(val_loader.dataset): .3f}')\n"
   ]
  },
  {
   "cell_type": "markdown",
   "metadata": {
    "id": "NrHiKZoshZxp"
   },
   "source": [
    "**Observation:**\n",
    "\n",
    "This code implements the training and validation loops for a BERT-based classifier. It creates dataset objects and data loaders for training and validation data, checks for CUDA availability, and sets the device accordingly. It defines the loss function and optimizer, moves the model and loss function to CUDA if available, and iterates over batches of data to perform training and validation. The training loop calculates batch loss and accuracy, performs the backward pass and optimization step, and updates total loss and accuracy. The validation loop performs similar steps without gradient calculation. Epoch results are printed at the end of each epoch."
   ]
  },
  {
   "cell_type": "markdown",
   "metadata": {
    "id": "u8-VzA5-cCH5"
   },
   "source": [
    "### Step 7: Implement functions for model evaluation\n",
    "- Evaluate the performance of a trained model on the provided test data.\n",
    "- Create a dataset object using the test data.\n",
    "- Create a DataLoader to iterate over the test dataset in batches.\n",
    "- Check if a GPU is available.\n",
    "- Set the device to CUDA if available; otherwise, use CPU.\n",
    "- Move the model to the GPU if available.\n",
    "- Initialize a variable to keep track of the total accuracy of the test data.\n",
    "- Disable gradient calculation for evaluation.\n",
    "- For each batch, the input tensors are moved to the device (GPU, if available), and the model is used to generate predictions. The accuracy is computed by comparing the predicted labels with the true labels, and the count of correct predictions is accumulated in total_acc_test.\n",
    "- Print the test accuracy by dividing total_acc_test by the length of the test data."
   ]
  },
  {
   "cell_type": "code",
   "execution_count": 11,
   "metadata": {
    "id": "HJTAdZ9b0PeK"
   },
   "outputs": [],
   "source": [
    "def evaluate(model, test_data, device):\n",
    "    test_dataset = Dataset(test_data)\n",
    "    test_loader = torch.utils.data.DataLoader(test_dataset, batch_size=16)\n",
    "\n",
    "    use_cuda = torch.cuda.is_available()\n",
    "    device = torch.device(\"cuda\" if use_cuda else \"cpu\")\n",
    "\n",
    "    if use_cuda:\n",
    "        model = model.cuda()\n",
    "\n",
    "    total_acc_test = 0\n",
    "    with torch.no_grad():\n",
    "        model.eval()\n",
    "        for test_input, test_label in test_loader:\n",
    "            test_label = test_label.to(device)\n",
    "            mask = test_input['attention_mask'].squeeze(1).to(device)\n",
    "            input_id = test_input['input_ids'].squeeze(1).to(device)\n",
    "\n",
    "            output = model(input_id, mask)\n",
    "\n",
    "            acc = (output.argmax(dim=1) == test_label).sum().item()\n",
    "            total_acc_test += acc\n",
    "\n",
    "    print(f'Test Accuracy: {total_acc_test / len(test_loader.dataset): .3f}')"
   ]
  },
  {
   "cell_type": "markdown",
   "metadata": {
    "id": "MmwKkue-hoYG"
   },
   "source": [
    "**Observation:**\n",
    "\n",
    "This code evaluates the performance of a trained model on the provided test data. It creates a dataset object using the test data, a DataLoader to iterate over the test dataset in batches, checks if a GPU is available, sets the device to CUDA if available, and moves the model to the GPU if available. It initializes a variable to keep track of the total accuracy of the test data, disables gradient calculation for evaluation, and iterates over batches to generate predictions and compute accuracy. The test accuracy is printed at the end."
   ]
  },
  {
   "cell_type": "markdown",
   "metadata": {
    "id": "NlsvVWhvdXfk"
   },
   "source": [
    "### Step 8: Split the dataset\n",
    "- Split the DataFrame into train, validation, and test sets using random sampling.\n",
    "- Print the lengths of the train, validation, and test sets.\n"
   ]
  },
  {
   "cell_type": "code",
   "execution_count": 12,
   "metadata": {
    "colab": {
     "base_uri": "https://localhost:8080/"
    },
    "id": "IT0yLoL30Rub",
    "outputId": "b953d7ee-0de1-4745-b6ad-921d99ce0195"
   },
   "outputs": [
    {
     "name": "stdout",
     "output_type": "stream",
     "text": [
      "1780 222 223\n"
     ]
    },
    {
     "name": "stderr",
     "output_type": "stream",
     "text": [
      "/usr/local/lib/python3.10/site-packages/numpy/core/fromnumeric.py:59: FutureWarning: 'DataFrame.swapaxes' is deprecated and will be removed in a future version. Please use 'DataFrame.transpose' instead.\n",
      "  return bound(*args, **kwds)\n"
     ]
    }
   ],
   "source": [
    "np.random.seed(112)\n",
    "df_train, df_val, df_test = np.split(df.sample(frac=1, random_state=42),\n",
    "                                     [int(.8*len(df)), int(.9*len(df))])\n",
    "\n",
    "print(len(df_train), len(df_val), len(df_test))\n"
   ]
  },
  {
   "cell_type": "markdown",
   "metadata": {
    "id": "nOIyFb9whzvY"
   },
   "source": [
    "**Observation:**\n",
    "\n",
    "This code splits the DataFrame into train, validation, and test sets using random sampling. It ensures reproducibility by setting a random seed and splits the DataFrame into three subsets based on specified proportions. The lengths of the train, validation, and test sets are printed to verify the splits."
   ]
  },
  {
   "cell_type": "markdown",
   "metadata": {
    "id": "UHfeQDE5dqiY"
   },
   "source": [
    "### Step 9: Train the model\n",
    "- The number of epochs to train the model is 5.\n",
    "- Create an instance of the BertClassifier model.\n",
    "- **1e-6** is the learning rate for the optimizer.\n",
    "- Call the train function to train the model.\n"
   ]
  },
  {
   "cell_type": "code",
   "execution_count": 13,
   "metadata": {
    "colab": {
     "base_uri": "https://localhost:8080/",
     "height": 223,
     "referenced_widgets": [
      "53a4661f37e7424f98ede76facfb1c52",
      "1fcef6258e874ede8d45506cadcfd90a",
      "8b14d8d431fd447a801902e543d162e1",
      "363ec1e7741f4cc0bb0a6c5e8dbe228d",
      "08d6fe5ad02a4f6f8b2fe32e19ff7b28",
      "40c99948935f44bb9838c0d8f4e08b1f",
      "8ab3dc598a34417692ed76354bdf6f85",
      "467e3ccfbb33474480e743fab5549550",
      "17bb07dd33e84c5392f8e6f76e49866f",
      "acae5b98f19f4ae4b6c1218d6f573742",
      "2a7e249d06f24c7d836a6d62e1a3faf8"
     ]
    },
    "id": "n8Fhnk5x0Tbd",
    "outputId": "062e008c-6875-43dd-e374-454710bd2f13"
   },
   "outputs": [
    {
     "name": "stderr",
     "output_type": "stream",
     "text": [
      "100%|██████████| 112/112 [02:36<00:00,  1.40s/it]\n"
     ]
    },
    {
     "name": "stdout",
     "output_type": "stream",
     "text": [
      "Epochs: 1 | Train Loss:  1.629 | Train Accuracy:  0.244 | Val Loss:  1.486 | Val Accuracy:  0.450\n"
     ]
    },
    {
     "name": "stderr",
     "output_type": "stream",
     "text": [
      "100%|██████████| 112/112 [02:30<00:00,  1.34s/it]\n"
     ]
    },
    {
     "name": "stdout",
     "output_type": "stream",
     "text": [
      "Epochs: 2 | Train Loss:  1.489 | Train Accuracy:  0.390 | Val Loss:  1.291 | Val Accuracy:  0.748\n"
     ]
    },
    {
     "name": "stderr",
     "output_type": "stream",
     "text": [
      "100%|██████████| 112/112 [02:30<00:00,  1.34s/it]\n"
     ]
    },
    {
     "name": "stdout",
     "output_type": "stream",
     "text": [
      "Epochs: 3 | Train Loss:  1.265 | Train Accuracy:  0.601 | Val Loss:  1.033 | Val Accuracy:  0.784\n"
     ]
    },
    {
     "name": "stderr",
     "output_type": "stream",
     "text": [
      "100%|██████████| 112/112 [02:30<00:00,  1.34s/it]\n"
     ]
    },
    {
     "name": "stdout",
     "output_type": "stream",
     "text": [
      "Epochs: 4 | Train Loss:  1.028 | Train Accuracy:  0.740 | Val Loss:  0.735 | Val Accuracy:  0.941\n"
     ]
    },
    {
     "name": "stderr",
     "output_type": "stream",
     "text": [
      "100%|██████████| 112/112 [02:30<00:00,  1.34s/it]\n"
     ]
    },
    {
     "name": "stdout",
     "output_type": "stream",
     "text": [
      "Epochs: 5 | Train Loss:  0.750 | Train Accuracy:  0.899 | Val Loss:  0.516 | Val Accuracy:  0.973\n"
     ]
    }
   ],
   "source": [
    "EPOCHS = 5\n",
    "model = BertClassifier()\n",
    "LR = 1e-6\n",
    "\n",
    "train(model, df_train, df_val, LR, EPOCHS, device)"
   ]
  },
  {
   "cell_type": "markdown",
   "metadata": {
    "id": "_a6nWJOMnjua"
   },
   "source": [
    "**Observation:**\n",
    "\n",
    "The code trains a BERT-based classifier model for 5 epochs using a learning rate of 1e-6 on the training and validation datasets."
   ]
  },
  {
   "cell_type": "markdown",
   "metadata": {
    "id": "VSnVmKiteC7b"
   },
   "source": [
    "### Step 10: Evaluate the model"
   ]
  },
  {
   "cell_type": "code",
   "execution_count": 14,
   "metadata": {
    "colab": {
     "base_uri": "https://localhost:8080/"
    },
    "id": "Lou1EKKb0aGi",
    "outputId": "7a4d82a4-05f8-4049-9f26-676b1b2af068"
   },
   "outputs": [
    {
     "name": "stdout",
     "output_type": "stream",
     "text": [
      "Test Accuracy:  0.987\n"
     ]
    }
   ],
   "source": [
    "evaluate(model, df_test, device)"
   ]
  },
  {
   "cell_type": "markdown",
   "metadata": {
    "id": "09aVsyIInuJq"
   },
   "source": [
    "**Observation**:\n",
    "\n",
    "The code evaluates the performance of the trained BERT-based classifier model on the test dataset df_test."
   ]
  },
  {
   "cell_type": "markdown",
   "metadata": {
    "id": "nj-cyEvoUZJg"
   },
   "source": [
    "### Step 11: Perform Cross-Validation"
   ]
  },
  {
   "cell_type": "markdown",
   "metadata": {
    "id": "9ScHXQDqWxHN"
   },
   "source": [
    "- Perform 3-fold cross-validation to ensure the model's - - - performance is consistent across different subsets of the data.\n",
    "- Use KFold from sklearn.model_selection for splitting the dataset.\n",
    "- Define batch size and epochs for the training process.\n",
    "For each fold:\n",
    "- Split the dataset into training and validation sets.\n",
    "- Create DataLoader objects for both sets.\n",
    "- Initialize the BertClassifier model, loss function, and optimizer.\n",
    "- Train the model on the training set.\n",
    "- Evaluate the model on the validation set.\n",
    "- Store the accuracy of each fold.\n",
    "- Print the training loss for each fold.\n",
    "- Print the validation accuracy for each fold.\n",
    "- Calculate and print the mean accuracy across all folds."
   ]
  },
  {
   "cell_type": "code",
   "execution_count": 15,
   "metadata": {
    "colab": {
     "base_uri": "https://localhost:8080/"
    },
    "id": "NvZu3XLrt-zy",
    "outputId": "4a6e2582-048b-40ff-808f-a12c0fde3cee"
   },
   "outputs": [
    {
     "name": "stdout",
     "output_type": "stream",
     "text": [
      "Fold 1\n",
      "Fold 1, Training Loss: 1.6874\n",
      "Fold 1, Validation Accuracy: 0.1400\n",
      "Fold 2\n",
      "Fold 2, Training Loss: 1.6637\n",
      "Fold 2, Validation Accuracy: 0.2600\n",
      "Fold 3\n",
      "Fold 3, Training Loss: 1.6722\n",
      "Fold 3, Validation Accuracy: 0.1600\n",
      "Cross-Validation Accuracies: [0.14, 0.26, 0.16]\n",
      "Mean Accuracy: 0.1867\n"
     ]
    }
   ],
   "source": [
    "from sklearn.model_selection import KFold\n",
    "\n",
    "kf = KFold(n_splits=3, shuffle=True, random_state=42)\n",
    "accuracies = []\n",
    "\n",
    "BATCH_SIZE = 16\n",
    "EPOCHS = 1\n",
    "\n",
    "for fold, (train_index, val_index) in enumerate(kf.split(df)):\n",
    "    print(f\"Fold {fold + 1}\")\n",
    "    df_train, df_val = df.iloc[train_index][:100], df.iloc[val_index][:50]\n",
    "    train_dataset = Dataset(df_train)\n",
    "    val_dataset = Dataset(df_val)\n",
    "\n",
    "    train_loader = torch.utils.data.DataLoader(train_dataset, batch_size=BATCH_SIZE, shuffle=True)\n",
    "    val_loader = torch.utils.data.DataLoader(val_dataset, batch_size=BATCH_SIZE)\n",
    "\n",
    "    model = BertClassifier().to(device)\n",
    "    criterion = nn.CrossEntropyLoss()\n",
    "    optimizer = Adam(model.parameters(), lr=1e-6)\n",
    "\n",
    "    model.train()\n",
    "    total_loss_train = 0\n",
    "    for batch_idx, (train_input, train_label) in enumerate(train_loader):\n",
    "        train_label = train_label.to(device)\n",
    "        mask = train_input['attention_mask'].squeeze(1).to(device)\n",
    "        input_id = train_input['input_ids'].squeeze(1).to(device)\n",
    "\n",
    "        optimizer.zero_grad()\n",
    "        output = model(input_id, mask)\n",
    "        loss = criterion(output, train_label)\n",
    "        total_loss_train += loss.item()\n",
    "        loss.backward()\n",
    "        optimizer.step()\n",
    "\n",
    "    print(f\"Fold {fold + 1}, Training Loss: {total_loss_train / len(train_loader):.4f}\")\n",
    "\n",
    "    model.eval()\n",
    "    val_acc = 0\n",
    "    with torch.no_grad():\n",
    "        for val_input, val_label in val_loader:\n",
    "            val_label = val_label.to(device)\n",
    "            mask = val_input['attention_mask'].squeeze(1).to(device)\n",
    "            input_id = val_input['input_ids'].squeeze(1).to(device)\n",
    "            output = model(input_id, mask)\n",
    "            val_acc += (output.argmax(dim=1) == val_label).sum().item()\n",
    "\n",
    "    accuracies.append(val_acc / len(val_dataset))\n",
    "    print(f\"Fold {fold + 1}, Validation Accuracy: {val_acc / len(val_dataset):.4f}\")\n",
    "\n",
    "print(f\"Cross-Validation Accuracies: {accuracies}\")\n",
    "print(f\"Mean Accuracy: {np.mean(accuracies):.4f}\")"
   ]
  },
  {
   "cell_type": "markdown",
   "metadata": {
    "id": "LPxgC7WCUOdV"
   },
   "source": [
    "**Observation:**\n",
    "\n",
    "This simplified code performs 3-fold cross-validation to ensure the model's high accuracy is consistent across different subsets of the data. The training process is expedited by reducing the number of epochs to 1 and increasing the batch size to 16. Additionally, a smaller subset of data is used for quick validation. The mean accuracy across all folds is printed to provide a robust estimate of model performance. The mean accuracy is low because of the small size of the subset of data passed to it."
   ]
  },
  {
   "cell_type": "markdown",
   "metadata": {
    "id": "_DZyTzykUikO"
   },
   "source": [
    "### Step 12: Examine Confusion Matrix and Other Metrics"
   ]
  },
  {
   "cell_type": "markdown",
   "metadata": {
    "id": "payPRQCKW7Zn"
   },
   "source": [
    "- Define a function to get predictions and true labels from the model.\n",
    "- Use the DataLoader to iterate over the test dataset.\n",
    "- Collect predictions and true labels for each batch.\n",
    "- Calculate and print the classification report, which includes precision, recall, and F1-score for each class.\n",
    "- Compute and display the confusion matrix using a heatmap to visualize the model's performance across different classes."
   ]
  },
  {
   "cell_type": "code",
   "execution_count": 16,
   "metadata": {
    "colab": {
     "base_uri": "https://localhost:8080/",
     "height": 743
    },
    "id": "ptQwUVuzN0xc",
    "outputId": "c5429538-3143-4f4e-ce57-987982e2662c"
   },
   "outputs": [
    {
     "name": "stdout",
     "output_type": "stream",
     "text": [
      "               precision    recall  f1-score   support\n",
      "\n",
      "     business       1.00      0.00      0.00        57\n",
      "entertainment       1.00      0.00      0.00        33\n",
      "     politics       1.00      0.00      0.00        43\n",
      "        sport       1.00      0.00      0.00        50\n",
      "         tech       0.18      1.00      0.30        40\n",
      "\n",
      "     accuracy                           0.18       223\n",
      "    macro avg       0.84      0.20      0.06       223\n",
      " weighted avg       0.85      0.18      0.05       223\n",
      "\n"
     ]
    },
    {
     "data": {
      "image/png": "[encoded data removed]",
      "text/plain": [
       "<Figure size 432x288 with 2 Axes>"
      ]
     },
     "metadata": {
      "needs_background": "light"
     },
     "output_type": "display_data"
    }
   ],
   "source": [
    "from sklearn.metrics import classification_report, confusion_matrix\n",
    "import seaborn as sns\n",
    "import matplotlib.pyplot as plt\n",
    "\n",
    "# Function to get predictions and true labels\n",
    "def get_predictions(model, data_loader):\n",
    "    model.eval()\n",
    "    predictions, true_labels = [], []\n",
    "    with torch.no_grad():\n",
    "        for input_data, labels in data_loader:\n",
    "            input_id = input_data['input_ids'].squeeze(1).to(device)\n",
    "            mask = input_data['attention_mask'].squeeze(1).to(device)\n",
    "            output = model(input_id, mask)\n",
    "            preds = output.argmax(dim=1).cpu().numpy()\n",
    "            labels = labels.cpu().numpy()\n",
    "            predictions.extend(preds)\n",
    "            true_labels.extend(labels)\n",
    "    return predictions, true_labels\n",
    "\n",
    "test_loader = torch.utils.data.DataLoader(Dataset(df_test), batch_size=2)\n",
    "predictions, true_labels = get_predictions(model, test_loader)\n",
    "\n",
    "print(classification_report(true_labels, predictions, target_names=labels.keys(), zero_division=1))\n",
    "\n",
    "cm = confusion_matrix(true_labels, predictions)\n",
    "sns.heatmap(cm, annot=True, fmt='d', cmap='Blues', xticklabels=labels.keys(), yticklabels=labels.keys())\n",
    "plt.ylabel('Actual')\n",
    "plt.xlabel('Predicted')\n",
    "plt.show()\n"
   ]
  },
  {
   "cell_type": "markdown",
   "metadata": {
    "id": "GXnxBKWJUBWK"
   },
   "source": [
    "**Observation:**\n",
    "\n",
    "This code calculates and displays additional evaluation metrics, including the classification report and confusion matrix. These metrics provide a detailed understanding of the model's performance across different classes, ensuring the high accuracy is not due to class imbalance."
   ]
  },
  {
   "cell_type": "code",
   "execution_count": null,
   "metadata": {
    "id": "UYz1K_ssA3Fu"
   },
   "outputs": [],
   "source": []
  },
  {
   "cell_type": "code",
   "execution_count": null,
   "metadata": {},
   "outputs": [],
   "source": []
  }
 ],
 "metadata": {
  "accelerator": "GPU",
  "colab": {
   "gpuType": "T4",
   "provenance": []
  },
  "kernelspec": {
   "display_name": "Python 3 [3.10]",
   "language": "python",
   "name": "python3"
  },
  "language_info": {
   "codemirror_mode": {
    "name": "ipython",
    "version": 3
   },
   "file_extension": ".py",
   "mimetype": "text/x-python",
   "name": "python",
   "nbconvert_exporter": "python",
   "pygments_lexer": "ipython3",
   "version": "3.10.2"
  },
  "widgets": {
   "application/vnd.jupyter.widget-state+json": {
    "08d6fe5ad02a4f6f8b2fe32e19ff7b28": {
     "model_module": "@jupyter-widgets/base",
     "model_module_version": "1.2.0",
     "model_name": "LayoutModel",
     "state": {
      "_model_module": "@jupyter-widgets/base",
      "_model_module_version": "1.2.0",
      "_model_name": "LayoutModel",
      "_view_count": null,
      "_view_module": "@jupyter-widgets/base",
      "_view_module_version": "1.2.0",
      "_view_name": "LayoutView",
      "align_content": null,
      "align_items": null,
      "align_self": null,
      "border": null,
      "bottom": null,
      "display": null,
      "flex": null,
      "flex_flow": null,
      "grid_area": null,
      "grid_auto_columns": null,
      "grid_auto_flow": null,
      "grid_auto_rows": null,
      "grid_column": null,
      "grid_gap": null,
      "grid_row": null,
      "grid_template_areas": null,
      "grid_template_columns": null,
      "grid_template_rows": null,
      "height": null,
      "justify_content": null,
      "justify_items": null,
      "left": null,
      "margin": null,
      "max_height": null,
      "max_width": null,
      "min_height": null,
      "min_width": null,
      "object_fit": null,
      "object_position": null,
      "order": null,
      "overflow": null,
      "overflow_x": null,
      "overflow_y": null,
      "padding": null,
      "right": null,
      "top": null,
      "visibility": null,
      "width": null
     }
    },
    "0d1f635e62364b22bc7fc4e440cc2b7f": {
     "model_module": "@jupyter-widgets/controls",
     "model_module_version": "1.5.0",
     "model_name": "DescriptionStyleModel",
     "state": {
      "_model_module": "@jupyter-widgets/controls",
      "_model_module_version": "1.5.0",
      "_model_name": "DescriptionStyleModel",
      "_view_count": null,
      "_view_module": "@jupyter-widgets/base",
      "_view_module_version": "1.2.0",
      "_view_name": "StyleView",
      "description_width": ""
     }
    },
    "0e34ef61ad5d44e0965b4f8bc0db696e": {
     "model_module": "@jupyter-widgets/base",
     "model_module_version": "1.2.0",
     "model_name": "LayoutModel",
     "state": {
      "_model_module": "@jupyter-widgets/base",
      "_model_module_version": "1.2.0",
      "_model_name": "LayoutModel",
      "_view_count": null,
      "_view_module": "@jupyter-widgets/base",
      "_view_module_version": "1.2.0",
      "_view_name": "LayoutView",
      "align_content": null,
      "align_items": null,
      "align_self": null,
      "border": null,
      "bottom": null,
      "display": null,
      "flex": null,
      "flex_flow": null,
      "grid_area": null,
      "grid_auto_columns": null,
      "grid_auto_flow": null,
      "grid_auto_rows": null,
      "grid_column": null,
      "grid_gap": null,
      "grid_row": null,
      "grid_template_areas": null,
      "grid_template_columns": null,
      "grid_template_rows": null,
      "height": null,
      "justify_content": null,
      "justify_items": null,
      "left": null,
      "margin": null,
      "max_height": null,
      "max_width": null,
      "min_height": null,
      "min_width": null,
      "object_fit": null,
      "object_position": null,
      "order": null,
      "overflow": null,
      "overflow_x": null,
      "overflow_y": null,
      "padding": null,
      "right": null,
      "top": null,
      "visibility": null,
      "width": null
     }
    },
    "11672a11b6874f42a9f02a3074371071": {
     "model_module": "@jupyter-widgets/controls",
     "model_module_version": "1.5.0",
     "model_name": "HTMLModel",
     "state": {
      "_dom_classes": [],
      "_model_module": "@jupyter-widgets/controls",
      "_model_module_version": "1.5.0",
      "_model_name": "HTMLModel",
      "_view_count": null,
      "_view_module": "@jupyter-widgets/controls",
      "_view_module_version": "1.5.0",
      "_view_name": "HTMLView",
      "description": "",
      "description_tooltip": null,
      "layout": "IPY_MODEL_38d523110ead41a09d226c8581b3308b",
      "placeholder": "​",
      "style": "IPY_MODEL_c81328d7b30f4f6eb83d29a27297225b",
      "value": "tokenizer.json: 100%"
     }
    },
    "12798aa2cfb84d5db839f8fd84445848": {
     "model_module": "@jupyter-widgets/base",
     "model_module_version": "1.2.0",
     "model_name": "LayoutModel",
     "state": {
      "_model_module": "@jupyter-widgets/base",
      "_model_module_version": "1.2.0",
      "_model_name": "LayoutModel",
      "_view_count": null,
      "_view_module": "@jupyter-widgets/base",
      "_view_module_version": "1.2.0",
      "_view_name": "LayoutView",
      "align_content": null,
      "align_items": null,
      "align_self": null,
      "border": null,
      "bottom": null,
      "display": null,
      "flex": null,
      "flex_flow": null,
      "grid_area": null,
      "grid_auto_columns": null,
      "grid_auto_flow": null,
      "grid_auto_rows": null,
      "grid_column": null,
      "grid_gap": null,
      "grid_row": null,
      "grid_template_areas": null,
      "grid_template_columns": null,
      "grid_template_rows": null,
      "height": null,
      "justify_content": null,
      "justify_items": null,
      "left": null,
      "margin": null,
      "max_height": null,
      "max_width": null,
      "min_height": null,
      "min_width": null,
      "object_fit": null,
      "object_position": null,
      "order": null,
      "overflow": null,
      "overflow_x": null,
      "overflow_y": null,
      "padding": null,
      "right": null,
      "top": null,
      "visibility": null,
      "width": null
     }
    },
    "160c63812a5949c694daad8ef28e795d": {
     "model_module": "@jupyter-widgets/base",
     "model_module_version": "1.2.0",
     "model_name": "LayoutModel",
     "state": {
      "_model_module": "@jupyter-widgets/base",
      "_model_module_version": "1.2.0",
      "_model_name": "LayoutModel",
      "_view_count": null,
      "_view_module": "@jupyter-widgets/base",
      "_view_module_version": "1.2.0",
      "_view_name": "LayoutView",
      "align_content": null,
      "align_items": null,
      "align_self": null,
      "border": null,
      "bottom": null,
      "display": null,
      "flex": null,
      "flex_flow": null,
      "grid_area": null,
      "grid_auto_columns": null,
      "grid_auto_flow": null,
      "grid_auto_rows": null,
      "grid_column": null,
      "grid_gap": null,
      "grid_row": null,
      "grid_template_areas": null,
      "grid_template_columns": null,
      "grid_template_rows": null,
      "height": null,
      "justify_content": null,
      "justify_items": null,
      "left": null,
      "margin": null,
      "max_height": null,
      "max_width": null,
      "min_height": null,
      "min_width": null,
      "object_fit": null,
      "object_position": null,
      "order": null,
      "overflow": null,
      "overflow_x": null,
      "overflow_y": null,
      "padding": null,
      "right": null,
      "top": null,
      "visibility": null,
      "width": null
     }
    },
    "16fbd1beff8d40518619731869f76739": {
     "model_module": "@jupyter-widgets/base",
     "model_module_version": "1.2.0",
     "model_name": "LayoutModel",
     "state": {
      "_model_module": "@jupyter-widgets/base",
      "_model_module_version": "1.2.0",
      "_model_name": "LayoutModel",
      "_view_count": null,
      "_view_module": "@jupyter-widgets/base",
      "_view_module_version": "1.2.0",
      "_view_name": "LayoutView",
      "align_content": null,
      "align_items": null,
      "align_self": null,
      "border": null,
      "bottom": null,
      "display": null,
      "flex": null,
      "flex_flow": null,
      "grid_area": null,
      "grid_auto_columns": null,
      "grid_auto_flow": null,
      "grid_auto_rows": null,
      "grid_column": null,
      "grid_gap": null,
      "grid_row": null,
      "grid_template_areas": null,
      "grid_template_columns": null,
      "grid_template_rows": null,
      "height": null,
      "justify_content": null,
      "justify_items": null,
      "left": null,
      "margin": null,
      "max_height": null,
      "max_width": null,
      "min_height": null,
      "min_width": null,
      "object_fit": null,
      "object_position": null,
      "order": null,
      "overflow": null,
      "overflow_x": null,
      "overflow_y": null,
      "padding": null,
      "right": null,
      "top": null,
      "visibility": null,
      "width": null
     }
    },
    "17bb07dd33e84c5392f8e6f76e49866f": {
     "model_module": "@jupyter-widgets/controls",
     "model_module_version": "1.5.0",
     "model_name": "ProgressStyleModel",
     "state": {
      "_model_module": "@jupyter-widgets/controls",
      "_model_module_version": "1.5.0",
      "_model_name": "ProgressStyleModel",
      "_view_count": null,
      "_view_module": "@jupyter-widgets/base",
      "_view_module_version": "1.2.0",
      "_view_name": "StyleView",
      "bar_color": null,
      "description_width": ""
     }
    },
    "1b414958372f4a2b96931466eda13f5c": {
     "model_module": "@jupyter-widgets/controls",
     "model_module_version": "1.5.0",
     "model_name": "HTMLModel",
     "state": {
      "_dom_classes": [],
      "_model_module": "@jupyter-widgets/controls",
      "_model_module_version": "1.5.0",
      "_model_name": "HTMLModel",
      "_view_count": null,
      "_view_module": "@jupyter-widgets/controls",
      "_view_module_version": "1.5.0",
      "_view_name": "HTMLView",
      "description": "",
      "description_tooltip": null,
      "layout": "IPY_MODEL_e244d3cf36d84ff5a6731fafc402c322",
      "placeholder": "​",
      "style": "IPY_MODEL_2923c81450ae46aa8d42c67fa2d3ad8a",
      "value": " 213k/213k [00:00&lt;00:00, 1.67MB/s]"
     }
    },
    "1fcef6258e874ede8d45506cadcfd90a": {
     "model_module": "@jupyter-widgets/controls",
     "model_module_version": "1.5.0",
     "model_name": "HTMLModel",
     "state": {
      "_dom_classes": [],
      "_model_module": "@jupyter-widgets/controls",
      "_model_module_version": "1.5.0",
      "_model_name": "HTMLModel",
      "_view_count": null,
      "_view_module": "@jupyter-widgets/controls",
      "_view_module_version": "1.5.0",
      "_view_name": "HTMLView",
      "description": "",
      "description_tooltip": null,
      "layout": "IPY_MODEL_40c99948935f44bb9838c0d8f4e08b1f",
      "placeholder": "​",
      "style": "IPY_MODEL_8ab3dc598a34417692ed76354bdf6f85",
      "value": "model.safetensors: 100%"
     }
    },
    "1fde6b9441f04ccf971592432abc1597": {
     "model_module": "@jupyter-widgets/controls",
     "model_module_version": "1.5.0",
     "model_name": "HBoxModel",
     "state": {
      "_dom_classes": [],
      "_model_module": "@jupyter-widgets/controls",
      "_model_module_version": "1.5.0",
      "_model_name": "HBoxModel",
      "_view_count": null,
      "_view_module": "@jupyter-widgets/controls",
      "_view_module_version": "1.5.0",
      "_view_name": "HBoxView",
      "box_style": "",
      "children": [
       "IPY_MODEL_f129e10ceb854e0fae4a6458cd47d227",
       "IPY_MODEL_c2b31d77a27b43edaa3f1c1836674de0",
       "IPY_MODEL_20f7f8b2290746578315c6356875be82"
      ],
      "layout": "IPY_MODEL_b4a6a248855e45d38ef0e36fea292c55"
     }
    },
    "20f7f8b2290746578315c6356875be82": {
     "model_module": "@jupyter-widgets/controls",
     "model_module_version": "1.5.0",
     "model_name": "HTMLModel",
     "state": {
      "_dom_classes": [],
      "_model_module": "@jupyter-widgets/controls",
      "_model_module_version": "1.5.0",
      "_model_name": "HTMLModel",
      "_view_count": null,
      "_view_module": "@jupyter-widgets/controls",
      "_view_module_version": "1.5.0",
      "_view_name": "HTMLView",
      "description": "",
      "description_tooltip": null,
      "layout": "IPY_MODEL_fe31c94f50a84789887e2f2d53d5e969",
      "placeholder": "​",
      "style": "IPY_MODEL_0d1f635e62364b22bc7fc4e440cc2b7f",
      "value": " 49.0/49.0 [00:00&lt;00:00, 3.54kB/s]"
     }
    },
    "2923c81450ae46aa8d42c67fa2d3ad8a": {
     "model_module": "@jupyter-widgets/controls",
     "model_module_version": "1.5.0",
     "model_name": "DescriptionStyleModel",
     "state": {
      "_model_module": "@jupyter-widgets/controls",
      "_model_module_version": "1.5.0",
      "_model_name": "DescriptionStyleModel",
      "_view_count": null,
      "_view_module": "@jupyter-widgets/base",
      "_view_module_version": "1.2.0",
      "_view_name": "StyleView",
      "description_width": ""
     }
    },
    "2a7e249d06f24c7d836a6d62e1a3faf8": {
     "model_module": "@jupyter-widgets/controls",
     "model_module_version": "1.5.0",
     "model_name": "DescriptionStyleModel",
     "state": {
      "_model_module": "@jupyter-widgets/controls",
      "_model_module_version": "1.5.0",
      "_model_name": "DescriptionStyleModel",
      "_view_count": null,
      "_view_module": "@jupyter-widgets/base",
      "_view_module_version": "1.2.0",
      "_view_name": "StyleView",
      "description_width": ""
     }
    },
    "2e40bd5c2cc34bcc9190a626cd92e594": {
     "model_module": "@jupyter-widgets/base",
     "model_module_version": "1.2.0",
     "model_name": "LayoutModel",
     "state": {
      "_model_module": "@jupyter-widgets/base",
      "_model_module_version": "1.2.0",
      "_model_name": "LayoutModel",
      "_view_count": null,
      "_view_module": "@jupyter-widgets/base",
      "_view_module_version": "1.2.0",
      "_view_name": "LayoutView",
      "align_content": null,
      "align_items": null,
      "align_self": null,
      "border": null,
      "bottom": null,
      "display": null,
      "flex": null,
      "flex_flow": null,
      "grid_area": null,
      "grid_auto_columns": null,
      "grid_auto_flow": null,
      "grid_auto_rows": null,
      "grid_column": null,
      "grid_gap": null,
      "grid_row": null,
      "grid_template_areas": null,
      "grid_template_columns": null,
      "grid_template_rows": null,
      "height": null,
      "justify_content": null,
      "justify_items": null,
      "left": null,
      "margin": null,
      "max_height": null,
      "max_width": null,
      "min_height": null,
      "min_width": null,
      "object_fit": null,
      "object_position": null,
      "order": null,
      "overflow": null,
      "overflow_x": null,
      "overflow_y": null,
      "padding": null,
      "right": null,
      "top": null,
      "visibility": null,
      "width": null
     }
    },
    "363ec1e7741f4cc0bb0a6c5e8dbe228d": {
     "model_module": "@jupyter-widgets/controls",
     "model_module_version": "1.5.0",
     "model_name": "HTMLModel",
     "state": {
      "_dom_classes": [],
      "_model_module": "@jupyter-widgets/controls",
      "_model_module_version": "1.5.0",
      "_model_name": "HTMLModel",
      "_view_count": null,
      "_view_module": "@jupyter-widgets/controls",
      "_view_module_version": "1.5.0",
      "_view_name": "HTMLView",
      "description": "",
      "description_tooltip": null,
      "layout": "IPY_MODEL_acae5b98f19f4ae4b6c1218d6f573742",
      "placeholder": "​",
      "style": "IPY_MODEL_2a7e249d06f24c7d836a6d62e1a3faf8",
      "value": " 436M/436M [00:02&lt;00:00, 242MB/s]"
     }
    },
    "37cad52637124e4b8784fb6ffb8de04a": {
     "model_module": "@jupyter-widgets/base",
     "model_module_version": "1.2.0",
     "model_name": "LayoutModel",
     "state": {
      "_model_module": "@jupyter-widgets/base",
      "_model_module_version": "1.2.0",
      "_model_name": "LayoutModel",
      "_view_count": null,
      "_view_module": "@jupyter-widgets/base",
      "_view_module_version": "1.2.0",
      "_view_name": "LayoutView",
      "align_content": null,
      "align_items": null,
      "align_self": null,
      "border": null,
      "bottom": null,
      "display": null,
      "flex": null,
      "flex_flow": null,
      "grid_area": null,
      "grid_auto_columns": null,
      "grid_auto_flow": null,
      "grid_auto_rows": null,
      "grid_column": null,
      "grid_gap": null,
      "grid_row": null,
      "grid_template_areas": null,
      "grid_template_columns": null,
      "grid_template_rows": null,
      "height": null,
      "justify_content": null,
      "justify_items": null,
      "left": null,
      "margin": null,
      "max_height": null,
      "max_width": null,
      "min_height": null,
      "min_width": null,
      "object_fit": null,
      "object_position": null,
      "order": null,
      "overflow": null,
      "overflow_x": null,
      "overflow_y": null,
      "padding": null,
      "right": null,
      "top": null,
      "visibility": null,
      "width": null
     }
    },
    "38d523110ead41a09d226c8581b3308b": {
     "model_module": "@jupyter-widgets/base",
     "model_module_version": "1.2.0",
     "model_name": "LayoutModel",
     "state": {
      "_model_module": "@jupyter-widgets/base",
      "_model_module_version": "1.2.0",
      "_model_name": "LayoutModel",
      "_view_count": null,
      "_view_module": "@jupyter-widgets/base",
      "_view_module_version": "1.2.0",
      "_view_name": "LayoutView",
      "align_content": null,
      "align_items": null,
      "align_self": null,
      "border": null,
      "bottom": null,
      "display": null,
      "flex": null,
      "flex_flow": null,
      "grid_area": null,
      "grid_auto_columns": null,
      "grid_auto_flow": null,
      "grid_auto_rows": null,
      "grid_column": null,
      "grid_gap": null,
      "grid_row": null,
      "grid_template_areas": null,
      "grid_template_columns": null,
      "grid_template_rows": null,
      "height": null,
      "justify_content": null,
      "justify_items": null,
      "left": null,
      "margin": null,
      "max_height": null,
      "max_width": null,
      "min_height": null,
      "min_width": null,
      "object_fit": null,
      "object_position": null,
      "order": null,
      "overflow": null,
      "overflow_x": null,
      "overflow_y": null,
      "padding": null,
      "right": null,
      "top": null,
      "visibility": null,
      "width": null
     }
    },
    "40c99948935f44bb9838c0d8f4e08b1f": {
     "model_module": "@jupyter-widgets/base",
     "model_module_version": "1.2.0",
     "model_name": "LayoutModel",
     "state": {
      "_model_module": "@jupyter-widgets/base",
      "_model_module_version": "1.2.0",
      "_model_name": "LayoutModel",
      "_view_count": null,
      "_view_module": "@jupyter-widgets/base",
      "_view_module_version": "1.2.0",
      "_view_name": "LayoutView",
      "align_content": null,
      "align_items": null,
      "align_self": null,
      "border": null,
      "bottom": null,
      "display": null,
      "flex": null,
      "flex_flow": null,
      "grid_area": null,
      "grid_auto_columns": null,
      "grid_auto_flow": null,
      "grid_auto_rows": null,
      "grid_column": null,
      "grid_gap": null,
      "grid_row": null,
      "grid_template_areas": null,
      "grid_template_columns": null,
      "grid_template_rows": null,
      "height": null,
      "justify_content": null,
      "justify_items": null,
      "left": null,
      "margin": null,
      "max_height": null,
      "max_width": null,
      "min_height": null,
      "min_width": null,
      "object_fit": null,
      "object_position": null,
      "order": null,
      "overflow": null,
      "overflow_x": null,
      "overflow_y": null,
      "padding": null,
      "right": null,
      "top": null,
      "visibility": null,
      "width": null
     }
    },
    "467e3ccfbb33474480e743fab5549550": {
     "model_module": "@jupyter-widgets/base",
     "model_module_version": "1.2.0",
     "model_name": "LayoutModel",
     "state": {
      "_model_module": "@jupyter-widgets/base",
      "_model_module_version": "1.2.0",
      "_model_name": "LayoutModel",
      "_view_count": null,
      "_view_module": "@jupyter-widgets/base",
      "_view_module_version": "1.2.0",
      "_view_name": "LayoutView",
      "align_content": null,
      "align_items": null,
      "align_self": null,
      "border": null,
      "bottom": null,
      "display": null,
      "flex": null,
      "flex_flow": null,
      "grid_area": null,
      "grid_auto_columns": null,
      "grid_auto_flow": null,
      "grid_auto_rows": null,
      "grid_column": null,
      "grid_gap": null,
      "grid_row": null,
      "grid_template_areas": null,
      "grid_template_columns": null,
      "grid_template_rows": null,
      "height": null,
      "justify_content": null,
      "justify_items": null,
      "left": null,
      "margin": null,
      "max_height": null,
      "max_width": null,
      "min_height": null,
      "min_width": null,
      "object_fit": null,
      "object_position": null,
      "order": null,
      "overflow": null,
      "overflow_x": null,
      "overflow_y": null,
      "padding": null,
      "right": null,
      "top": null,
      "visibility": null,
      "width": null
     }
    },
    "4f4e4c88ea7643ac8b6238d03b04d944": {
     "model_module": "@jupyter-widgets/controls",
     "model_module_version": "1.5.0",
     "model_name": "HTMLModel",
     "state": {
      "_dom_classes": [],
      "_model_module": "@jupyter-widgets/controls",
      "_model_module_version": "1.5.0",
      "_model_name": "HTMLModel",
      "_view_count": null,
      "_view_module": "@jupyter-widgets/controls",
      "_view_module_version": "1.5.0",
      "_view_name": "HTMLView",
      "description": "",
      "description_tooltip": null,
      "layout": "IPY_MODEL_160c63812a5949c694daad8ef28e795d",
      "placeholder": "​",
      "style": "IPY_MODEL_5b98e0a7e9c743129854dc457040484d",
      "value": "vocab.txt: 100%"
     }
    },
    "53a4661f37e7424f98ede76facfb1c52": {
     "model_module": "@jupyter-widgets/controls",
     "model_module_version": "1.5.0",
     "model_name": "HBoxModel",
     "state": {
      "_dom_classes": [],
      "_model_module": "@jupyter-widgets/controls",
      "_model_module_version": "1.5.0",
      "_model_name": "HBoxModel",
      "_view_count": null,
      "_view_module": "@jupyter-widgets/controls",
      "_view_module_version": "1.5.0",
      "_view_name": "HBoxView",
      "box_style": "",
      "children": [
       "IPY_MODEL_1fcef6258e874ede8d45506cadcfd90a",
       "IPY_MODEL_8b14d8d431fd447a801902e543d162e1",
       "IPY_MODEL_363ec1e7741f4cc0bb0a6c5e8dbe228d"
      ],
      "layout": "IPY_MODEL_08d6fe5ad02a4f6f8b2fe32e19ff7b28"
     }
    },
    "577c7f66b2854d52a0f97859cbbcda4f": {
     "model_module": "@jupyter-widgets/controls",
     "model_module_version": "1.5.0",
     "model_name": "HBoxModel",
     "state": {
      "_dom_classes": [],
      "_model_module": "@jupyter-widgets/controls",
      "_model_module_version": "1.5.0",
      "_model_name": "HBoxModel",
      "_view_count": null,
      "_view_module": "@jupyter-widgets/controls",
      "_view_module_version": "1.5.0",
      "_view_name": "HBoxView",
      "box_style": "",
      "children": [
       "IPY_MODEL_11672a11b6874f42a9f02a3074371071",
       "IPY_MODEL_fff6ee9b6a094f01be68a4602590f717",
       "IPY_MODEL_7c1a76afb17140bdb12e275289687cab"
      ],
      "layout": "IPY_MODEL_2e40bd5c2cc34bcc9190a626cd92e594"
     }
    },
    "5b98e0a7e9c743129854dc457040484d": {
     "model_module": "@jupyter-widgets/controls",
     "model_module_version": "1.5.0",
     "model_name": "DescriptionStyleModel",
     "state": {
      "_model_module": "@jupyter-widgets/controls",
      "_model_module_version": "1.5.0",
      "_model_name": "DescriptionStyleModel",
      "_view_count": null,
      "_view_module": "@jupyter-widgets/base",
      "_view_module_version": "1.2.0",
      "_view_name": "StyleView",
      "description_width": ""
     }
    },
    "68f7b588c9204574b1a24e15e5f93fd7": {
     "model_module": "@jupyter-widgets/controls",
     "model_module_version": "1.5.0",
     "model_name": "HBoxModel",
     "state": {
      "_dom_classes": [],
      "_model_module": "@jupyter-widgets/controls",
      "_model_module_version": "1.5.0",
      "_model_name": "HBoxModel",
      "_view_count": null,
      "_view_module": "@jupyter-widgets/controls",
      "_view_module_version": "1.5.0",
      "_view_name": "HBoxView",
      "box_style": "",
      "children": [
       "IPY_MODEL_4f4e4c88ea7643ac8b6238d03b04d944",
       "IPY_MODEL_8e52d5d5195d4b74ba749d1d5655daf1",
       "IPY_MODEL_1b414958372f4a2b96931466eda13f5c"
      ],
      "layout": "IPY_MODEL_f67e5e3095a74270a4217fdd2ff24b6c"
     }
    },
    "695c7829bccd45cfbfdc4d70cbf281e5": {
     "model_module": "@jupyter-widgets/controls",
     "model_module_version": "1.5.0",
     "model_name": "ProgressStyleModel",
     "state": {
      "_model_module": "@jupyter-widgets/controls",
      "_model_module_version": "1.5.0",
      "_model_name": "ProgressStyleModel",
      "_view_count": null,
      "_view_module": "@jupyter-widgets/base",
      "_view_module_version": "1.2.0",
      "_view_name": "StyleView",
      "bar_color": null,
      "description_width": ""
     }
    },
    "72fa518b14c84b7897fc5e3c66a36ce3": {
     "model_module": "@jupyter-widgets/base",
     "model_module_version": "1.2.0",
     "model_name": "LayoutModel",
     "state": {
      "_model_module": "@jupyter-widgets/base",
      "_model_module_version": "1.2.0",
      "_model_name": "LayoutModel",
      "_view_count": null,
      "_view_module": "@jupyter-widgets/base",
      "_view_module_version": "1.2.0",
      "_view_name": "LayoutView",
      "align_content": null,
      "align_items": null,
      "align_self": null,
      "border": null,
      "bottom": null,
      "display": null,
      "flex": null,
      "flex_flow": null,
      "grid_area": null,
      "grid_auto_columns": null,
      "grid_auto_flow": null,
      "grid_auto_rows": null,
      "grid_column": null,
      "grid_gap": null,
      "grid_row": null,
      "grid_template_areas": null,
      "grid_template_columns": null,
      "grid_template_rows": null,
      "height": null,
      "justify_content": null,
      "justify_items": null,
      "left": null,
      "margin": null,
      "max_height": null,
      "max_width": null,
      "min_height": null,
      "min_width": null,
      "object_fit": null,
      "object_position": null,
      "order": null,
      "overflow": null,
      "overflow_x": null,
      "overflow_y": null,
      "padding": null,
      "right": null,
      "top": null,
      "visibility": null,
      "width": null
     }
    },
    "79e1c1723fcd44548c0c927420672fe7": {
     "model_module": "@jupyter-widgets/controls",
     "model_module_version": "1.5.0",
     "model_name": "FloatProgressModel",
     "state": {
      "_dom_classes": [],
      "_model_module": "@jupyter-widgets/controls",
      "_model_module_version": "1.5.0",
      "_model_name": "FloatProgressModel",
      "_view_count": null,
      "_view_module": "@jupyter-widgets/controls",
      "_view_module_version": "1.5.0",
      "_view_name": "ProgressView",
      "bar_style": "success",
      "description": "",
      "description_tooltip": null,
      "layout": "IPY_MODEL_df28541f5ea94fbc9f4f122058dd1b44",
      "max": 570,
      "min": 0,
      "orientation": "horizontal",
      "style": "IPY_MODEL_858cb0e50ed7416b88cec19386aad232",
      "value": 570
     }
    },
    "7c1a76afb17140bdb12e275289687cab": {
     "model_module": "@jupyter-widgets/controls",
     "model_module_version": "1.5.0",
     "model_name": "HTMLModel",
     "state": {
      "_dom_classes": [],
      "_model_module": "@jupyter-widgets/controls",
      "_model_module_version": "1.5.0",
      "_model_name": "HTMLModel",
      "_view_count": null,
      "_view_module": "@jupyter-widgets/controls",
      "_view_module_version": "1.5.0",
      "_view_name": "HTMLView",
      "description": "",
      "description_tooltip": null,
      "layout": "IPY_MODEL_cbc3de03337e4e91846763e47d8b9361",
      "placeholder": "​",
      "style": "IPY_MODEL_e4317e8e16b74e76a87e7faa10f94ff2",
      "value": " 436k/436k [00:00&lt;00:00, 19.8MB/s]"
     }
    },
    "858cb0e50ed7416b88cec19386aad232": {
     "model_module": "@jupyter-widgets/controls",
     "model_module_version": "1.5.0",
     "model_name": "ProgressStyleModel",
     "state": {
      "_model_module": "@jupyter-widgets/controls",
      "_model_module_version": "1.5.0",
      "_model_name": "ProgressStyleModel",
      "_view_count": null,
      "_view_module": "@jupyter-widgets/base",
      "_view_module_version": "1.2.0",
      "_view_name": "StyleView",
      "bar_color": null,
      "description_width": ""
     }
    },
    "8ab3dc598a34417692ed76354bdf6f85": {
     "model_module": "@jupyter-widgets/controls",
     "model_module_version": "1.5.0",
     "model_name": "DescriptionStyleModel",
     "state": {
      "_model_module": "@jupyter-widgets/controls",
      "_model_module_version": "1.5.0",
      "_model_name": "DescriptionStyleModel",
      "_view_count": null,
      "_view_module": "@jupyter-widgets/base",
      "_view_module_version": "1.2.0",
      "_view_name": "StyleView",
      "description_width": ""
     }
    },
    "8b14d8d431fd447a801902e543d162e1": {
     "model_module": "@jupyter-widgets/controls",
     "model_module_version": "1.5.0",
     "model_name": "FloatProgressModel",
     "state": {
      "_dom_classes": [],
      "_model_module": "@jupyter-widgets/controls",
      "_model_module_version": "1.5.0",
      "_model_name": "FloatProgressModel",
      "_view_count": null,
      "_view_module": "@jupyter-widgets/controls",
      "_view_module_version": "1.5.0",
      "_view_name": "ProgressView",
      "bar_style": "success",
      "description": "",
      "description_tooltip": null,
      "layout": "IPY_MODEL_467e3ccfbb33474480e743fab5549550",
      "max": 435755784,
      "min": 0,
      "orientation": "horizontal",
      "style": "IPY_MODEL_17bb07dd33e84c5392f8e6f76e49866f",
      "value": 435755784
     }
    },
    "8e52d5d5195d4b74ba749d1d5655daf1": {
     "model_module": "@jupyter-widgets/controls",
     "model_module_version": "1.5.0",
     "model_name": "FloatProgressModel",
     "state": {
      "_dom_classes": [],
      "_model_module": "@jupyter-widgets/controls",
      "_model_module_version": "1.5.0",
      "_model_name": "FloatProgressModel",
      "_view_count": null,
      "_view_module": "@jupyter-widgets/controls",
      "_view_module_version": "1.5.0",
      "_view_name": "ProgressView",
      "bar_style": "success",
      "description": "",
      "description_tooltip": null,
      "layout": "IPY_MODEL_72fa518b14c84b7897fc5e3c66a36ce3",
      "max": 213450,
      "min": 0,
      "orientation": "horizontal",
      "style": "IPY_MODEL_695c7829bccd45cfbfdc4d70cbf281e5",
      "value": 213450
     }
    },
    "93468b7ec7fb41d882c203d736a2e1d5": {
     "model_module": "@jupyter-widgets/controls",
     "model_module_version": "1.5.0",
     "model_name": "DescriptionStyleModel",
     "state": {
      "_model_module": "@jupyter-widgets/controls",
      "_model_module_version": "1.5.0",
      "_model_name": "DescriptionStyleModel",
      "_view_count": null,
      "_view_module": "@jupyter-widgets/base",
      "_view_module_version": "1.2.0",
      "_view_name": "StyleView",
      "description_width": ""
     }
    },
    "93d4a583209b40de81c45c3818047ed0": {
     "model_module": "@jupyter-widgets/base",
     "model_module_version": "1.2.0",
     "model_name": "LayoutModel",
     "state": {
      "_model_module": "@jupyter-widgets/base",
      "_model_module_version": "1.2.0",
      "_model_name": "LayoutModel",
      "_view_count": null,
      "_view_module": "@jupyter-widgets/base",
      "_view_module_version": "1.2.0",
      "_view_name": "LayoutView",
      "align_content": null,
      "align_items": null,
      "align_self": null,
      "border": null,
      "bottom": null,
      "display": null,
      "flex": null,
      "flex_flow": null,
      "grid_area": null,
      "grid_auto_columns": null,
      "grid_auto_flow": null,
      "grid_auto_rows": null,
      "grid_column": null,
      "grid_gap": null,
      "grid_row": null,
      "grid_template_areas": null,
      "grid_template_columns": null,
      "grid_template_rows": null,
      "height": null,
      "justify_content": null,
      "justify_items": null,
      "left": null,
      "margin": null,
      "max_height": null,
      "max_width": null,
      "min_height": null,
      "min_width": null,
      "object_fit": null,
      "object_position": null,
      "order": null,
      "overflow": null,
      "overflow_x": null,
      "overflow_y": null,
      "padding": null,
      "right": null,
      "top": null,
      "visibility": null,
      "width": null
     }
    },
    "9c8afa97434449bea44d419277e241d0": {
     "model_module": "@jupyter-widgets/controls",
     "model_module_version": "1.5.0",
     "model_name": "ProgressStyleModel",
     "state": {
      "_model_module": "@jupyter-widgets/controls",
      "_model_module_version": "1.5.0",
      "_model_name": "ProgressStyleModel",
      "_view_count": null,
      "_view_module": "@jupyter-widgets/base",
      "_view_module_version": "1.2.0",
      "_view_name": "StyleView",
      "bar_color": null,
      "description_width": ""
     }
    },
    "a6db85f0d0fe46b09f73c2c023f14dd9": {
     "model_module": "@jupyter-widgets/base",
     "model_module_version": "1.2.0",
     "model_name": "LayoutModel",
     "state": {
      "_model_module": "@jupyter-widgets/base",
      "_model_module_version": "1.2.0",
      "_model_name": "LayoutModel",
      "_view_count": null,
      "_view_module": "@jupyter-widgets/base",
      "_view_module_version": "1.2.0",
      "_view_name": "LayoutView",
      "align_content": null,
      "align_items": null,
      "align_self": null,
      "border": null,
      "bottom": null,
      "display": null,
      "flex": null,
      "flex_flow": null,
      "grid_area": null,
      "grid_auto_columns": null,
      "grid_auto_flow": null,
      "grid_auto_rows": null,
      "grid_column": null,
      "grid_gap": null,
      "grid_row": null,
      "grid_template_areas": null,
      "grid_template_columns": null,
      "grid_template_rows": null,
      "height": null,
      "justify_content": null,
      "justify_items": null,
      "left": null,
      "margin": null,
      "max_height": null,
      "max_width": null,
      "min_height": null,
      "min_width": null,
      "object_fit": null,
      "object_position": null,
      "order": null,
      "overflow": null,
      "overflow_x": null,
      "overflow_y": null,
      "padding": null,
      "right": null,
      "top": null,
      "visibility": null,
      "width": null
     }
    },
    "acae5b98f19f4ae4b6c1218d6f573742": {
     "model_module": "@jupyter-widgets/base",
     "model_module_version": "1.2.0",
     "model_name": "LayoutModel",
     "state": {
      "_model_module": "@jupyter-widgets/base",
      "_model_module_version": "1.2.0",
      "_model_name": "LayoutModel",
      "_view_count": null,
      "_view_module": "@jupyter-widgets/base",
      "_view_module_version": "1.2.0",
      "_view_name": "LayoutView",
      "align_content": null,
      "align_items": null,
      "align_self": null,
      "border": null,
      "bottom": null,
      "display": null,
      "flex": null,
      "flex_flow": null,
      "grid_area": null,
      "grid_auto_columns": null,
      "grid_auto_flow": null,
      "grid_auto_rows": null,
      "grid_column": null,
      "grid_gap": null,
      "grid_row": null,
      "grid_template_areas": null,
      "grid_template_columns": null,
      "grid_template_rows": null,
      "height": null,
      "justify_content": null,
      "justify_items": null,
      "left": null,
      "margin": null,
      "max_height": null,
      "max_width": null,
      "min_height": null,
      "min_width": null,
      "object_fit": null,
      "object_position": null,
      "order": null,
      "overflow": null,
      "overflow_x": null,
      "overflow_y": null,
      "padding": null,
      "right": null,
      "top": null,
      "visibility": null,
      "width": null
     }
    },
    "b4a6a248855e45d38ef0e36fea292c55": {
     "model_module": "@jupyter-widgets/base",
     "model_module_version": "1.2.0",
     "model_name": "LayoutModel",
     "state": {
      "_model_module": "@jupyter-widgets/base",
      "_model_module_version": "1.2.0",
      "_model_name": "LayoutModel",
      "_view_count": null,
      "_view_module": "@jupyter-widgets/base",
      "_view_module_version": "1.2.0",
      "_view_name": "LayoutView",
      "align_content": null,
      "align_items": null,
      "align_self": null,
      "border": null,
      "bottom": null,
      "display": null,
      "flex": null,
      "flex_flow": null,
      "grid_area": null,
      "grid_auto_columns": null,
      "grid_auto_flow": null,
      "grid_auto_rows": null,
      "grid_column": null,
      "grid_gap": null,
      "grid_row": null,
      "grid_template_areas": null,
      "grid_template_columns": null,
      "grid_template_rows": null,
      "height": null,
      "justify_content": null,
      "justify_items": null,
      "left": null,
      "margin": null,
      "max_height": null,
      "max_width": null,
      "min_height": null,
      "min_width": null,
      "object_fit": null,
      "object_position": null,
      "order": null,
      "overflow": null,
      "overflow_x": null,
      "overflow_y": null,
      "padding": null,
      "right": null,
      "top": null,
      "visibility": null,
      "width": null
     }
    },
    "b5779faaebe74d9a9afc45a6f199b6b8": {
     "model_module": "@jupyter-widgets/controls",
     "model_module_version": "1.5.0",
     "model_name": "ProgressStyleModel",
     "state": {
      "_model_module": "@jupyter-widgets/controls",
      "_model_module_version": "1.5.0",
      "_model_name": "ProgressStyleModel",
      "_view_count": null,
      "_view_module": "@jupyter-widgets/base",
      "_view_module_version": "1.2.0",
      "_view_name": "StyleView",
      "bar_color": null,
      "description_width": ""
     }
    },
    "bb251ccc16904073930ce3297c638803": {
     "model_module": "@jupyter-widgets/controls",
     "model_module_version": "1.5.0",
     "model_name": "HTMLModel",
     "state": {
      "_dom_classes": [],
      "_model_module": "@jupyter-widgets/controls",
      "_model_module_version": "1.5.0",
      "_model_name": "HTMLModel",
      "_view_count": null,
      "_view_module": "@jupyter-widgets/controls",
      "_view_module_version": "1.5.0",
      "_view_name": "HTMLView",
      "description": "",
      "description_tooltip": null,
      "layout": "IPY_MODEL_12798aa2cfb84d5db839f8fd84445848",
      "placeholder": "​",
      "style": "IPY_MODEL_93468b7ec7fb41d882c203d736a2e1d5",
      "value": " 570/570 [00:00&lt;00:00, 28.9kB/s]"
     }
    },
    "beb76d424b5f4163bd19d1739d2bcf03": {
     "model_module": "@jupyter-widgets/controls",
     "model_module_version": "1.5.0",
     "model_name": "HBoxModel",
     "state": {
      "_dom_classes": [],
      "_model_module": "@jupyter-widgets/controls",
      "_model_module_version": "1.5.0",
      "_model_name": "HBoxModel",
      "_view_count": null,
      "_view_module": "@jupyter-widgets/controls",
      "_view_module_version": "1.5.0",
      "_view_name": "HBoxView",
      "box_style": "",
      "children": [
       "IPY_MODEL_e15def6476c04b9a825b73be75007ac7",
       "IPY_MODEL_79e1c1723fcd44548c0c927420672fe7",
       "IPY_MODEL_bb251ccc16904073930ce3297c638803"
      ],
      "layout": "IPY_MODEL_37cad52637124e4b8784fb6ffb8de04a"
     }
    },
    "c2b31d77a27b43edaa3f1c1836674de0": {
     "model_module": "@jupyter-widgets/controls",
     "model_module_version": "1.5.0",
     "model_name": "FloatProgressModel",
     "state": {
      "_dom_classes": [],
      "_model_module": "@jupyter-widgets/controls",
      "_model_module_version": "1.5.0",
      "_model_name": "FloatProgressModel",
      "_view_count": null,
      "_view_module": "@jupyter-widgets/controls",
      "_view_module_version": "1.5.0",
      "_view_name": "ProgressView",
      "bar_style": "success",
      "description": "",
      "description_tooltip": null,
      "layout": "IPY_MODEL_a6db85f0d0fe46b09f73c2c023f14dd9",
      "max": 49,
      "min": 0,
      "orientation": "horizontal",
      "style": "IPY_MODEL_b5779faaebe74d9a9afc45a6f199b6b8",
      "value": 49
     }
    },
    "c81328d7b30f4f6eb83d29a27297225b": {
     "model_module": "@jupyter-widgets/controls",
     "model_module_version": "1.5.0",
     "model_name": "DescriptionStyleModel",
     "state": {
      "_model_module": "@jupyter-widgets/controls",
      "_model_module_version": "1.5.0",
      "_model_name": "DescriptionStyleModel",
      "_view_count": null,
      "_view_module": "@jupyter-widgets/base",
      "_view_module_version": "1.2.0",
      "_view_name": "StyleView",
      "description_width": ""
     }
    },
    "cbc3de03337e4e91846763e47d8b9361": {
     "model_module": "@jupyter-widgets/base",
     "model_module_version": "1.2.0",
     "model_name": "LayoutModel",
     "state": {
      "_model_module": "@jupyter-widgets/base",
      "_model_module_version": "1.2.0",
      "_model_name": "LayoutModel",
      "_view_count": null,
      "_view_module": "@jupyter-widgets/base",
      "_view_module_version": "1.2.0",
      "_view_name": "LayoutView",
      "align_content": null,
      "align_items": null,
      "align_self": null,
      "border": null,
      "bottom": null,
      "display": null,
      "flex": null,
      "flex_flow": null,
      "grid_area": null,
      "grid_auto_columns": null,
      "grid_auto_flow": null,
      "grid_auto_rows": null,
      "grid_column": null,
      "grid_gap": null,
      "grid_row": null,
      "grid_template_areas": null,
      "grid_template_columns": null,
      "grid_template_rows": null,
      "height": null,
      "justify_content": null,
      "justify_items": null,
      "left": null,
      "margin": null,
      "max_height": null,
      "max_width": null,
      "min_height": null,
      "min_width": null,
      "object_fit": null,
      "object_position": null,
      "order": null,
      "overflow": null,
      "overflow_x": null,
      "overflow_y": null,
      "padding": null,
      "right": null,
      "top": null,
      "visibility": null,
      "width": null
     }
    },
    "cf66a10841304467873ff2282afae64c": {
     "model_module": "@jupyter-widgets/controls",
     "model_module_version": "1.5.0",
     "model_name": "DescriptionStyleModel",
     "state": {
      "_model_module": "@jupyter-widgets/controls",
      "_model_module_version": "1.5.0",
      "_model_name": "DescriptionStyleModel",
      "_view_count": null,
      "_view_module": "@jupyter-widgets/base",
      "_view_module_version": "1.2.0",
      "_view_name": "StyleView",
      "description_width": ""
     }
    },
    "df28541f5ea94fbc9f4f122058dd1b44": {
     "model_module": "@jupyter-widgets/base",
     "model_module_version": "1.2.0",
     "model_name": "LayoutModel",
     "state": {
      "_model_module": "@jupyter-widgets/base",
      "_model_module_version": "1.2.0",
      "_model_name": "LayoutModel",
      "_view_count": null,
      "_view_module": "@jupyter-widgets/base",
      "_view_module_version": "1.2.0",
      "_view_name": "LayoutView",
      "align_content": null,
      "align_items": null,
      "align_self": null,
      "border": null,
      "bottom": null,
      "display": null,
      "flex": null,
      "flex_flow": null,
      "grid_area": null,
      "grid_auto_columns": null,
      "grid_auto_flow": null,
      "grid_auto_rows": null,
      "grid_column": null,
      "grid_gap": null,
      "grid_row": null,
      "grid_template_areas": null,
      "grid_template_columns": null,
      "grid_template_rows": null,
      "height": null,
      "justify_content": null,
      "justify_items": null,
      "left": null,
      "margin": null,
      "max_height": null,
      "max_width": null,
      "min_height": null,
      "min_width": null,
      "object_fit": null,
      "object_position": null,
      "order": null,
      "overflow": null,
      "overflow_x": null,
      "overflow_y": null,
      "padding": null,
      "right": null,
      "top": null,
      "visibility": null,
      "width": null
     }
    },
    "e15def6476c04b9a825b73be75007ac7": {
     "model_module": "@jupyter-widgets/controls",
     "model_module_version": "1.5.0",
     "model_name": "HTMLModel",
     "state": {
      "_dom_classes": [],
      "_model_module": "@jupyter-widgets/controls",
      "_model_module_version": "1.5.0",
      "_model_name": "HTMLModel",
      "_view_count": null,
      "_view_module": "@jupyter-widgets/controls",
      "_view_module_version": "1.5.0",
      "_view_name": "HTMLView",
      "description": "",
      "description_tooltip": null,
      "layout": "IPY_MODEL_0e34ef61ad5d44e0965b4f8bc0db696e",
      "placeholder": "​",
      "style": "IPY_MODEL_eb29a204991f476e80d6277fc986d785",
      "value": "config.json: 100%"
     }
    },
    "e244d3cf36d84ff5a6731fafc402c322": {
     "model_module": "@jupyter-widgets/base",
     "model_module_version": "1.2.0",
     "model_name": "LayoutModel",
     "state": {
      "_model_module": "@jupyter-widgets/base",
      "_model_module_version": "1.2.0",
      "_model_name": "LayoutModel",
      "_view_count": null,
      "_view_module": "@jupyter-widgets/base",
      "_view_module_version": "1.2.0",
      "_view_name": "LayoutView",
      "align_content": null,
      "align_items": null,
      "align_self": null,
      "border": null,
      "bottom": null,
      "display": null,
      "flex": null,
      "flex_flow": null,
      "grid_area": null,
      "grid_auto_columns": null,
      "grid_auto_flow": null,
      "grid_auto_rows": null,
      "grid_column": null,
      "grid_gap": null,
      "grid_row": null,
      "grid_template_areas": null,
      "grid_template_columns": null,
      "grid_template_rows": null,
      "height": null,
      "justify_content": null,
      "justify_items": null,
      "left": null,
      "margin": null,
      "max_height": null,
      "max_width": null,
      "min_height": null,
      "min_width": null,
      "object_fit": null,
      "object_position": null,
      "order": null,
      "overflow": null,
      "overflow_x": null,
      "overflow_y": null,
      "padding": null,
      "right": null,
      "top": null,
      "visibility": null,
      "width": null
     }
    },
    "e4317e8e16b74e76a87e7faa10f94ff2": {
     "model_module": "@jupyter-widgets/controls",
     "model_module_version": "1.5.0",
     "model_name": "DescriptionStyleModel",
     "state": {
      "_model_module": "@jupyter-widgets/controls",
      "_model_module_version": "1.5.0",
      "_model_name": "DescriptionStyleModel",
      "_view_count": null,
      "_view_module": "@jupyter-widgets/base",
      "_view_module_version": "1.2.0",
      "_view_name": "StyleView",
      "description_width": ""
     }
    },
    "eb29a204991f476e80d6277fc986d785": {
     "model_module": "@jupyter-widgets/controls",
     "model_module_version": "1.5.0",
     "model_name": "DescriptionStyleModel",
     "state": {
      "_model_module": "@jupyter-widgets/controls",
      "_model_module_version": "1.5.0",
      "_model_name": "DescriptionStyleModel",
      "_view_count": null,
      "_view_module": "@jupyter-widgets/base",
      "_view_module_version": "1.2.0",
      "_view_name": "StyleView",
      "description_width": ""
     }
    },
    "f129e10ceb854e0fae4a6458cd47d227": {
     "model_module": "@jupyter-widgets/controls",
     "model_module_version": "1.5.0",
     "model_name": "HTMLModel",
     "state": {
      "_dom_classes": [],
      "_model_module": "@jupyter-widgets/controls",
      "_model_module_version": "1.5.0",
      "_model_name": "HTMLModel",
      "_view_count": null,
      "_view_module": "@jupyter-widgets/controls",
      "_view_module_version": "1.5.0",
      "_view_name": "HTMLView",
      "description": "",
      "description_tooltip": null,
      "layout": "IPY_MODEL_93d4a583209b40de81c45c3818047ed0",
      "placeholder": "​",
      "style": "IPY_MODEL_cf66a10841304467873ff2282afae64c",
      "value": "tokenizer_config.json: 100%"
     }
    },
    "f67e5e3095a74270a4217fdd2ff24b6c": {
     "model_module": "@jupyter-widgets/base",
     "model_module_version": "1.2.0",
     "model_name": "LayoutModel",
     "state": {
      "_model_module": "@jupyter-widgets/base",
      "_model_module_version": "1.2.0",
      "_model_name": "LayoutModel",
      "_view_count": null,
      "_view_module": "@jupyter-widgets/base",
      "_view_module_version": "1.2.0",
      "_view_name": "LayoutView",
      "align_content": null,
      "align_items": null,
      "align_self": null,
      "border": null,
      "bottom": null,
      "display": null,
      "flex": null,
      "flex_flow": null,
      "grid_area": null,
      "grid_auto_columns": null,
      "grid_auto_flow": null,
      "grid_auto_rows": null,
      "grid_column": null,
      "grid_gap": null,
      "grid_row": null,
      "grid_template_areas": null,
      "grid_template_columns": null,
      "grid_template_rows": null,
      "height": null,
      "justify_content": null,
      "justify_items": null,
      "left": null,
      "margin": null,
      "max_height": null,
      "max_width": null,
      "min_height": null,
      "min_width": null,
      "object_fit": null,
      "object_position": null,
      "order": null,
      "overflow": null,
      "overflow_x": null,
      "overflow_y": null,
      "padding": null,
      "right": null,
      "top": null,
      "visibility": null,
      "width": null
     }
    },
    "fe31c94f50a84789887e2f2d53d5e969": {
     "model_module": "@jupyter-widgets/base",
     "model_module_version": "1.2.0",
     "model_name": "LayoutModel",
     "state": {
      "_model_module": "@jupyter-widgets/base",
      "_model_module_version": "1.2.0",
      "_model_name": "LayoutModel",
      "_view_count": null,
      "_view_module": "@jupyter-widgets/base",
      "_view_module_version": "1.2.0",
      "_view_name": "LayoutView",
      "align_content": null,
      "align_items": null,
      "align_self": null,
      "border": null,
      "bottom": null,
      "display": null,
      "flex": null,
      "flex_flow": null,
      "grid_area": null,
      "grid_auto_columns": null,
      "grid_auto_flow": null,
      "grid_auto_rows": null,
      "grid_column": null,
      "grid_gap": null,
      "grid_row": null,
      "grid_template_areas": null,
      "grid_template_columns": null,
      "grid_template_rows": null,
      "height": null,
      "justify_content": null,
      "justify_items": null,
      "left": null,
      "margin": null,
      "max_height": null,
      "max_width": null,
      "min_height": null,
      "min_width": null,
      "object_fit": null,
      "object_position": null,
      "order": null,
      "overflow": null,
      "overflow_x": null,
      "overflow_y": null,
      "padding": null,
      "right": null,
      "top": null,
      "visibility": null,
      "width": null
     }
    },
    "fff6ee9b6a094f01be68a4602590f717": {
     "model_module": "@jupyter-widgets/controls",
     "model_module_version": "1.5.0",
     "model_name": "FloatProgressModel",
     "state": {
      "_dom_classes": [],
      "_model_module": "@jupyter-widgets/controls",
      "_model_module_version": "1.5.0",
      "_model_name": "FloatProgressModel",
      "_view_count": null,
      "_view_module": "@jupyter-widgets/controls",
      "_view_module_version": "1.5.0",
      "_view_name": "ProgressView",
      "bar_style": "success",
      "description": "",
      "description_tooltip": null,
      "layout": "IPY_MODEL_16fbd1beff8d40518619731869f76739",
      "max": 435797,
      "min": 0,
      "orientation": "horizontal",
      "style": "IPY_MODEL_9c8afa97434449bea44d419277e241d0",
      "value": 435797
     }
    }
   }
  }
 },
 "nbformat": 4,
 "nbformat_minor": 4
}
