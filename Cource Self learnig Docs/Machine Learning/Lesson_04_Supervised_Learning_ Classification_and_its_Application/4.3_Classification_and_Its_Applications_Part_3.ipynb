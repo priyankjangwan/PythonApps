{
 "cells": [
  {
   "cell_type": "markdown",
   "metadata": {
    "id": "FnEvCmckv_Pg"
   },
   "source": [
    "# __Supervised Learning: Classification__"
   ]
  },
  {
   "cell_type": "markdown",
   "metadata": {
    "id": "ARvfHqjzwAVA"
   },
   "source": [
    "## __Agenda__"
   ]
  },
  {
   "cell_type": "markdown",
   "metadata": {
    "id": "C7_C9Kvh3UeJ"
   },
   "source": [
    "- Handling Imbalanced Data in Classification\n",
    "  - Introduction to Imbalanced Data\n",
    "  - Oversampling Techniques (e.g., SMOTE)\n",
    "  - Undersampling Techniques\n",
    "  - Ensemble Methods for Imbalanced Data"
   ]
  },
  {
   "cell_type": "markdown",
   "metadata": {
    "id": "RLQ8WDDr4poG"
   },
   "source": [
    "## __4.6 Handling Imbalanced Data in Classification__"
   ]
  },
  {
   "cell_type": "markdown",
   "metadata": {
    "id": "DQ8tRFDV43Wt"
   },
   "source": [
    "In machine learning classification tasks, handling imbalanced data is crucial.  The problem with this imbalance is that models tend to favor the majority class, leading to poor performance in identifying minority classes. In such cases, the model prioritizes overall accuracy instead of accurately recognizing minority class instances."
   ]
  },
  {
   "cell_type": "markdown",
   "metadata": {
    "id": "ImGygr815Yje"
   },
   "source": [
    "### __4.6.1 Introduction to Imbalanced Data__"
   ]
  },
  {
   "cell_type": "markdown",
   "metadata": {
    "id": "otyby_3n5hp2"
   },
   "source": [
    "Imbalanced data refers to a situation in a dataset where the classes are not represented equally. This typically happens in classification problems, where one class (the majority class) significantly outnumbers the other class or classes (the minority class or classes)."
   ]
  },
  {
   "cell_type": "markdown",
   "metadata": {
    "id": "RS95F0TfHOhw"
   },
   "source": [
    "#### __Imbalanced Data: Example__"
   ]
  },
  {
   "cell_type": "markdown",
   "metadata": {
    "id": "0VqfZ_0c5ugo"
   },
   "source": [
    "\n",
    "\n",
    "**Balanced Dataset:** A balanced dataset has an equal or nearly equal representation of all classes.\n",
    "\n",
    "Distribution: Healthy (50.4%) and Diseased (49.6%)"
   ]
  },
  {
   "cell_type": "markdown",
   "metadata": {
    "id": "UnxD_iJX8TtD"
   },
   "source": [
    "**Imbalanced Dataset:** An imbalanced dataset has a significant difference in the representation of classes, with one class being much more prevalent than the others.\n",
    "\n",
    "Distribution: Healthy (99%) and Diseased (1%)"
   ]
  },
  {
   "cell_type": "markdown",
   "metadata": {
    "id": "15XX21hkpTUQ"
   },
   "source": [
    "![link text](https://labcontent.simplicdn.net/data-content/content-assets/Data_and_AI/ML/Lesson04_Regression/updates/Imbalanced_data.jpg)"
   ]
  },
  {
   "cell_type": "markdown",
   "metadata": {
    "id": "7MBxF24v8qlU"
   },
   "source": [
    "#### __Applications of Handling Imbalanced Data__\n",
    "\n"
   ]
  },
  {
   "cell_type": "markdown",
   "metadata": {
    "id": "kPifZzIa-rhr"
   },
   "source": [
    "**Medical Diagnosis:**\n",
    "- Detecting rare diseases where early and accurate detection is vital.\n",
    "Imbalanced data can lead to models that fail to identify patients with the disease.\n",
    "\n",
    "**Fraud Detection:**\n",
    "- Identifying fraudulent transactions among a large number of legitimate transactions.\n",
    "The cost of missing fraud can be high, making accurate detection crucial.\n",
    "\n",
    "**Spam Detection:**\n",
    "- Filtering spam emails from a large volume of legitimate emails.\n",
    "A balanced approach ensures spam emails are correctly identified and filtered."
   ]
  },
  {
   "cell_type": "markdown",
   "metadata": {
    "id": "YzOHCVtfR-0E"
   },
   "source": [
    "**Before diving into techniques to handle imbalanced data, it’s important to first understand how to determine if your data is balanced or imbalanced.**"
   ]
  },
  {
   "cell_type": "markdown",
   "metadata": {
    "id": "_zQD1FQKS_Xu"
   },
   "source": [
    "**Import Libraries**"
   ]
  },
  {
   "cell_type": "code",
   "execution_count": 1,
   "metadata": {
    "id": "m6dvoe1OTBr6"
   },
   "outputs": [],
   "source": [
    "import pandas as pd\n",
    "import matplotlib.pyplot as plt"
   ]
  },
  {
   "cell_type": "markdown",
   "metadata": {
    "id": "R42ZphemTOmF"
   },
   "source": [
    "**Load the Dataset**"
   ]
  },
  {
   "cell_type": "markdown",
   "metadata": {
    "id": "T0zdi1EBiCz7"
   },
   "source": [
    "**About the Dataset:**\n",
    "\n",
    "The datasets contains transactions made by credit cards in September 2013 by European cardholders.\n",
    "\n",
    " It contains only numerical input variables which are the result of a PCA transformation. Unfortunately, due to confidentiality issues, original features and more background information about the data is not available.\n",
    "\n",
    " Features `V1, V2, ... V28` are the principal components obtained with PCA, the only features which have not been transformed with PCA are `Time` and `Amount`.\n",
    "\n",
    " Feature `Time` contains the seconds elapsed between each transaction and the first transaction in the dataset.\n",
    "\n",
    " The feature `Amount` is the transaction Amount, this feature can be used for example-dependant cost-senstive learning.\n",
    "\n",
    " Feature `Class` is the response/target variable and it takes value 1 in case of fraud and 0 otherwise.\n",
    "\n",
    " **Note:** PCA is a Dimensionality reduction technique and we will be discussing about it in detail, in the next lesson."
   ]
  },
  {
   "cell_type": "code",
   "execution_count": 2,
   "metadata": {
    "id": "VjvpwD0BS6jo"
   },
   "outputs": [
    {
     "name": "stdout",
     "output_type": "stream",
     "text": [
      "Defaulting to user installation because normal site-packages is not writeable\n",
      "\u001b[33mWARNING: Ignoring invalid distribution -ensorflow (/voc/work/.local/lib/python3.10/site-packages)\u001b[0m\u001b[33m\n",
      "\u001b[0m\u001b[33mWARNING: Ignoring invalid distribution -ensorflow (/voc/work/.local/lib/python3.10/site-packages)\u001b[0m\u001b[33m\n",
      "\u001b[0mRequirement already satisfied: imbalanced-learn in /usr/local/lib/python3.10/site-packages (0.9.1)\n",
      "Collecting imbalanced-learn\n",
      "  Downloading imbalanced_learn-0.12.4-py3-none-any.whl.metadata (8.3 kB)\n",
      "Requirement already satisfied: numpy>=1.17.3 in /usr/local/lib/python3.10/site-packages (from imbalanced-learn) (1.23.5)\n",
      "Requirement already satisfied: scipy>=1.5.0 in /usr/local/lib/python3.10/site-packages (from imbalanced-learn) (1.9.3)\n",
      "Requirement already satisfied: scikit-learn>=1.0.2 in ./.local/lib/python3.10/site-packages (from imbalanced-learn) (1.5.2)\n",
      "Requirement already satisfied: joblib>=1.1.1 in /usr/local/lib/python3.10/site-packages (from imbalanced-learn) (1.2.0)\n",
      "Requirement already satisfied: threadpoolctl>=2.0.0 in /usr/local/lib/python3.10/site-packages (from imbalanced-learn) (3.1.0)\n",
      "Downloading imbalanced_learn-0.12.4-py3-none-any.whl (258 kB)\n",
      "\u001b[2K   \u001b[90m━━━━━━━━━━━━━━━━━━━━━━━━━━━━━━━━━━━━━━━━\u001b[0m \u001b[32m258.3/258.3 kB\u001b[0m \u001b[31m1.2 MB/s\u001b[0m eta \u001b[36m0:00:00\u001b[0m:00:01\u001b[0m\n",
      "\u001b[?25h\u001b[33mWARNING: Ignoring invalid distribution -ensorflow (/voc/work/.local/lib/python3.10/site-packages)\u001b[0m\u001b[33m\n",
      "\u001b[0mInstalling collected packages: imbalanced-learn\n",
      "Successfully installed imbalanced-learn-0.12.4\n",
      "\u001b[33mWARNING: Ignoring invalid distribution -ensorflow (/voc/work/.local/lib/python3.10/site-packages)\u001b[0m\u001b[33m\n",
      "\u001b[0m\u001b[33mWARNING: Ignoring invalid distribution -ensorflow (/voc/work/.local/lib/python3.10/site-packages)\u001b[0m\u001b[33m\n",
      "\u001b[0m\u001b[33mWARNING: Ignoring invalid distribution -ensorflow (/voc/work/.local/lib/python3.10/site-packages)\u001b[0m\u001b[33m\n",
      "\u001b[0m\n",
      "\u001b[1m[\u001b[0m\u001b[34;49mnotice\u001b[0m\u001b[1;39;49m]\u001b[0m\u001b[39;49m A new release of pip is available: \u001b[0m\u001b[31;49m23.3\u001b[0m\u001b[39;49m -> \u001b[0m\u001b[32;49m24.3.1\u001b[0m\n",
      "\u001b[1m[\u001b[0m\u001b[34;49mnotice\u001b[0m\u001b[1;39;49m]\u001b[0m\u001b[39;49m To update, run: \u001b[0m\u001b[32;49mpip install --upgrade pip\u001b[0m\n"
     ]
    }
   ],
   "source": [
    "!pip install -U imbalanced-learn"
   ]
  },
  {
   "cell_type": "code",
   "execution_count": 3,
   "metadata": {
    "colab": {
     "base_uri": "https://localhost:8080/",
     "height": 256
    },
    "executionInfo": {
     "elapsed": 9,
     "status": "ok",
     "timestamp": 1718545396976,
     "user": {
      "displayName": "Aleena Raj",
      "userId": "16635257578699511263"
     },
     "user_tz": -330
    },
    "id": "9k4LZ98DTQqX",
    "outputId": "c9551ca3-4792-4e21-f946-ebf9ed501081"
   },
   "outputs": [
    {
     "data": {
      "text/html": [
       "<div>\n",
       "<style scoped>\n",
       "    .dataframe tbody tr th:only-of-type {\n",
       "        vertical-align: middle;\n",
       "    }\n",
       "\n",
       "    .dataframe tbody tr th {\n",
       "        vertical-align: top;\n",
       "    }\n",
       "\n",
       "    .dataframe thead th {\n",
       "        text-align: right;\n",
       "    }\n",
       "</style>\n",
       "<table border=\"1\" class=\"dataframe\">\n",
       "  <thead>\n",
       "    <tr style=\"text-align: right;\">\n",
       "      <th></th>\n",
       "      <th>Time</th>\n",
       "      <th>V1</th>\n",
       "      <th>V2</th>\n",
       "      <th>V3</th>\n",
       "      <th>V4</th>\n",
       "      <th>V5</th>\n",
       "      <th>V6</th>\n",
       "      <th>V7</th>\n",
       "      <th>V8</th>\n",
       "      <th>V9</th>\n",
       "      <th>...</th>\n",
       "      <th>V21</th>\n",
       "      <th>V22</th>\n",
       "      <th>V23</th>\n",
       "      <th>V24</th>\n",
       "      <th>V25</th>\n",
       "      <th>V26</th>\n",
       "      <th>V27</th>\n",
       "      <th>V28</th>\n",
       "      <th>Amount</th>\n",
       "      <th>Class</th>\n",
       "    </tr>\n",
       "  </thead>\n",
       "  <tbody>\n",
       "    <tr>\n",
       "      <th>0</th>\n",
       "      <td>89630.0</td>\n",
       "      <td>0.030601</td>\n",
       "      <td>0.859108</td>\n",
       "      <td>0.290804</td>\n",
       "      <td>-0.591915</td>\n",
       "      <td>0.441892</td>\n",
       "      <td>-1.033405</td>\n",
       "      <td>1.016281</td>\n",
       "      <td>-0.190080</td>\n",
       "      <td>-0.066897</td>\n",
       "      <td>...</td>\n",
       "      <td>-0.251454</td>\n",
       "      <td>-0.537176</td>\n",
       "      <td>0.081516</td>\n",
       "      <td>-0.016869</td>\n",
       "      <td>-0.498699</td>\n",
       "      <td>0.142886</td>\n",
       "      <td>0.250215</td>\n",
       "      <td>0.097351</td>\n",
       "      <td>5.99</td>\n",
       "      <td>0</td>\n",
       "    </tr>\n",
       "    <tr>\n",
       "      <th>1</th>\n",
       "      <td>33404.0</td>\n",
       "      <td>1.042874</td>\n",
       "      <td>0.348936</td>\n",
       "      <td>-0.207597</td>\n",
       "      <td>2.215841</td>\n",
       "      <td>0.991928</td>\n",
       "      <td>1.349503</td>\n",
       "      <td>0.100767</td>\n",
       "      <td>0.451493</td>\n",
       "      <td>-0.739607</td>\n",
       "      <td>...</td>\n",
       "      <td>0.064860</td>\n",
       "      <td>0.193583</td>\n",
       "      <td>-0.007651</td>\n",
       "      <td>-1.379281</td>\n",
       "      <td>0.389286</td>\n",
       "      <td>0.225199</td>\n",
       "      <td>0.015614</td>\n",
       "      <td>-0.010651</td>\n",
       "      <td>15.16</td>\n",
       "      <td>0</td>\n",
       "    </tr>\n",
       "    <tr>\n",
       "      <th>2</th>\n",
       "      <td>57910.0</td>\n",
       "      <td>-1.549217</td>\n",
       "      <td>0.444995</td>\n",
       "      <td>1.953795</td>\n",
       "      <td>0.767481</td>\n",
       "      <td>1.249854</td>\n",
       "      <td>-0.439201</td>\n",
       "      <td>0.843048</td>\n",
       "      <td>0.145210</td>\n",
       "      <td>-1.561334</td>\n",
       "      <td>...</td>\n",
       "      <td>0.226098</td>\n",
       "      <td>0.136749</td>\n",
       "      <td>-0.178771</td>\n",
       "      <td>-0.013354</td>\n",
       "      <td>0.782533</td>\n",
       "      <td>-0.175391</td>\n",
       "      <td>-0.075909</td>\n",
       "      <td>0.058072</td>\n",
       "      <td>73.02</td>\n",
       "      <td>0</td>\n",
       "    </tr>\n",
       "    <tr>\n",
       "      <th>3</th>\n",
       "      <td>133413.0</td>\n",
       "      <td>-0.322340</td>\n",
       "      <td>0.969558</td>\n",
       "      <td>0.462259</td>\n",
       "      <td>-0.100560</td>\n",
       "      <td>-0.187871</td>\n",
       "      <td>-1.069206</td>\n",
       "      <td>0.454631</td>\n",
       "      <td>0.211302</td>\n",
       "      <td>-0.162835</td>\n",
       "      <td>...</td>\n",
       "      <td>0.164689</td>\n",
       "      <td>0.497732</td>\n",
       "      <td>-0.038204</td>\n",
       "      <td>0.420742</td>\n",
       "      <td>-0.191605</td>\n",
       "      <td>-0.333414</td>\n",
       "      <td>-0.032846</td>\n",
       "      <td>-0.010004</td>\n",
       "      <td>9.94</td>\n",
       "      <td>0</td>\n",
       "    </tr>\n",
       "    <tr>\n",
       "      <th>4</th>\n",
       "      <td>171524.0</td>\n",
       "      <td>1.990957</td>\n",
       "      <td>-1.984952</td>\n",
       "      <td>-1.014321</td>\n",
       "      <td>-1.265569</td>\n",
       "      <td>-1.371786</td>\n",
       "      <td>0.034195</td>\n",
       "      <td>-1.117904</td>\n",
       "      <td>0.061933</td>\n",
       "      <td>-0.828024</td>\n",
       "      <td>...</td>\n",
       "      <td>-0.416109</td>\n",
       "      <td>-0.844353</td>\n",
       "      <td>0.244993</td>\n",
       "      <td>0.716250</td>\n",
       "      <td>-0.264875</td>\n",
       "      <td>-0.387468</td>\n",
       "      <td>-0.015237</td>\n",
       "      <td>-0.036681</td>\n",
       "      <td>137.94</td>\n",
       "      <td>0</td>\n",
       "    </tr>\n",
       "  </tbody>\n",
       "</table>\n",
       "<p>5 rows × 31 columns</p>\n",
       "</div>"
      ],
      "text/plain": [
       "       Time        V1        V2        V3        V4        V5        V6  \\\n",
       "0   89630.0  0.030601  0.859108  0.290804 -0.591915  0.441892 -1.033405   \n",
       "1   33404.0  1.042874  0.348936 -0.207597  2.215841  0.991928  1.349503   \n",
       "2   57910.0 -1.549217  0.444995  1.953795  0.767481  1.249854 -0.439201   \n",
       "3  133413.0 -0.322340  0.969558  0.462259 -0.100560 -0.187871 -1.069206   \n",
       "4  171524.0  1.990957 -1.984952 -1.014321 -1.265569 -1.371786  0.034195   \n",
       "\n",
       "         V7        V8        V9  ...       V21       V22       V23       V24  \\\n",
       "0  1.016281 -0.190080 -0.066897  ... -0.251454 -0.537176  0.081516 -0.016869   \n",
       "1  0.100767  0.451493 -0.739607  ...  0.064860  0.193583 -0.007651 -1.379281   \n",
       "2  0.843048  0.145210 -1.561334  ...  0.226098  0.136749 -0.178771 -0.013354   \n",
       "3  0.454631  0.211302 -0.162835  ...  0.164689  0.497732 -0.038204  0.420742   \n",
       "4 -1.117904  0.061933 -0.828024  ... -0.416109 -0.844353  0.244993  0.716250   \n",
       "\n",
       "        V25       V26       V27       V28  Amount  Class  \n",
       "0 -0.498699  0.142886  0.250215  0.097351    5.99      0  \n",
       "1  0.389286  0.225199  0.015614 -0.010651   15.16      0  \n",
       "2  0.782533 -0.175391 -0.075909  0.058072   73.02      0  \n",
       "3 -0.191605 -0.333414 -0.032846 -0.010004    9.94      0  \n",
       "4 -0.264875 -0.387468 -0.015237 -0.036681  137.94      0  \n",
       "\n",
       "[5 rows x 31 columns]"
      ]
     },
     "execution_count": 3,
     "metadata": {},
     "output_type": "execute_result"
    }
   ],
   "source": [
    "file_path = 'creditcard.csv'  # Update this with the actual path to your file\n",
    "df = pd.read_csv(file_path)\n",
    "df.head()"
   ]
  },
  {
   "cell_type": "markdown",
   "metadata": {
    "id": "1u6CfqiOTfWF"
   },
   "source": [
    "**Check the Distribution of the `Class` Column**"
   ]
  },
  {
   "cell_type": "code",
   "execution_count": 4,
   "metadata": {
    "colab": {
     "base_uri": "https://localhost:8080/"
    },
    "executionInfo": {
     "elapsed": 9,
     "status": "ok",
     "timestamp": 1718533073803,
     "user": {
      "displayName": "Aleena Raj",
      "userId": "16635257578699511263"
     },
     "user_tz": -330
    },
    "id": "KvvSJ8DNjWhQ",
    "outputId": "aae4ca18-2e2e-453d-ff01-dbe8b87afc36"
   },
   "outputs": [
    {
     "data": {
      "text/plain": [
       "2000"
      ]
     },
     "execution_count": 4,
     "metadata": {},
     "output_type": "execute_result"
    }
   ],
   "source": [
    "# Total length of the dataframe:\n",
    "len(df)"
   ]
  },
  {
   "cell_type": "code",
   "execution_count": 5,
   "metadata": {
    "colab": {
     "base_uri": "https://localhost:8080/"
    },
    "executionInfo": {
     "elapsed": 395,
     "status": "ok",
     "timestamp": 1718533051363,
     "user": {
      "displayName": "Aleena Raj",
      "userId": "16635257578699511263"
     },
     "user_tz": -330
    },
    "id": "UmbIgghBTjWf",
    "outputId": "88c88624-ffd2-4356-f948-e68ba3262e43"
   },
   "outputs": [
    {
     "name": "stdout",
     "output_type": "stream",
     "text": [
      "0    1974\n",
      "1      26\n",
      "Name: Class, dtype: int64\n"
     ]
    }
   ],
   "source": [
    "class_distribution = df['Class'].value_counts()\n",
    "print(class_distribution)"
   ]
  },
  {
   "cell_type": "markdown",
   "metadata": {
    "id": "V7bM2z84Tqmh"
   },
   "source": [
    "**Plot the Distribution of the `Class` Column**"
   ]
  },
  {
   "cell_type": "code",
   "execution_count": 6,
   "metadata": {
    "colab": {
     "base_uri": "https://localhost:8080/",
     "height": 487
    },
    "executionInfo": {
     "elapsed": 1400,
     "status": "ok",
     "timestamp": 1718533084286,
     "user": {
      "displayName": "Aleena Raj",
      "userId": "16635257578699511263"
     },
     "user_tz": -330
    },
    "id": "fJv6wlyoT0zI",
    "outputId": "0a415870-3c14-4bac-ccca-8aab5742bbcf"
   },
   "outputs": [
    {
     "data": {
      "image/png": "[encoded data removed]",
      "text/plain": [
       "<Figure size 432x288 with 2 Axes>"
      ]
     },
     "metadata": {
      "needs_background": "light"
     },
     "output_type": "display_data"
    }
   ],
   "source": [
    "plt.subplot(1, 2, 1)\n",
    "class_distribution.plot(kind='bar', color=['blue', 'red'])\n",
    "plt.title('Class Distribution')\n",
    "plt.xlabel('Class')\n",
    "plt.ylabel('Frequency')\n",
    "plt.xticks(ticks=[0, 1], labels=['Non-Fraudulent (0)', 'Fraudulent (1)'], rotation=0)\n",
    "plt.grid(axis='y')\n",
    "\n",
    "# Plot the distribution of the 'Class' column as a pie chart\n",
    "plt.subplot(1, 2, 2)\n",
    "class_distribution.plot(kind='pie', labels=['Non-Fraudulent (0)', 'Fraudulent (1)'], colors=['blue', 'red'], autopct='%1.1f%%', startangle=90)\n",
    "plt.title('Class Distribution')\n",
    "plt.ylabel('')\n",
    "\n",
    "# Show the plots\n",
    "plt.tight_layout()\n",
    "plt.show()"
   ]
  },
  {
   "cell_type": "markdown",
   "metadata": {
    "id": "MhOOTEXeUI8o"
   },
   "source": [
    "**Observation**\n",
    "\n",
    "- The dataset is highly imbalanced, with nearly 2000 non-fraudulent transactions and only around 25 fraudulent ones.\n",
    "- This significant imbalance needs to be addressed to avoid biased models and ensure fair and accurate predictions."
   ]
  },
  {
   "cell_type": "markdown",
   "metadata": {
    "id": "HqU80-SxVQIV"
   },
   "source": [
    "**Using this dataset for classification has the following disadvantages:**\n",
    "\n",
    "- **Bias Towards Non-Fraudulent Transactions:** The model may predict non-fraudulent transactions more often due to their dominance, leading to poor detection of fraudulent transactions.\n",
    "- **Misleading Metrics:** High accuracy can be misleading since it may not reflect the model's performance on the minority class (fraudulent transactions). Techniques like resampling or cost-sensitive learning are needed to address this imbalance."
   ]
  },
  {
   "cell_type": "markdown",
   "metadata": {
    "id": "WDDn0fMhVfFt"
   },
   "source": [
    "Now, let's explore some of the most commonly used techniques to balance imbalanced data and subsequently fit it into a classification model to calculate the model's accuracy."
   ]
  },
  {
   "cell_type": "markdown",
   "metadata": {
    "id": "6ojHXNYU-iiV"
   },
   "source": [
    "#### __Techniques to Handle Imbalanced Data__"
   ]
  },
  {
   "cell_type": "markdown",
   "metadata": {
    "id": "1nc6Q9jrFJ7a"
   },
   "source": [
    "There are numerous techniques available for addressing imbalanced data. In this discussion, we will focus on understanding three key methods:\n",
    "\n"
   ]
  },
  {
   "cell_type": "markdown",
   "metadata": {
    "id": "_u2Tkhmuf5eV"
   },
   "source": [
    "**Oversampling Techniques (e.g., SMOTE):**\n",
    "\n",
    "- Condition for Use: Ideal when the minority class is severely underrepresented.\n",
    "\n",
    "**Undersampling Techniques (Random Undersampling):**\n",
    "\n",
    "- Condition for Use: Useful when the dataset is large enough, and removing instances won't result in significant information loss.\n",
    "\n",
    "**Ensemble Methods for Imbalanced Data (Balanced Random Forest):**\n",
    "\n",
    "- Condition for Use: Effective when leveraging an ensemble approach to maintain robustness and generalizability while addressing class imbalance."
   ]
  },
  {
   "cell_type": "markdown",
   "metadata": {
    "id": "w9TgqRP4gkkC"
   },
   "source": [
    "Let's delve into each of these techniques in detail, including their implementation."
   ]
  },
  {
   "cell_type": "markdown",
   "metadata": {
    "id": "ewGsiSEsFKGC"
   },
   "source": [
    "### __4.6.2 Oversampling Techniques__"
   ]
  },
  {
   "cell_type": "markdown",
   "metadata": {
    "id": "_7LA9V4MFX0S"
   },
   "source": [
    "Oversampling is a technique used to balance the class distribution by increasing the number of minority class samples. This can be done by duplicating existing samples or creating synthetic ones.\n",
    "\n"
   ]
  },
  {
   "cell_type": "markdown",
   "metadata": {
    "id": "-bZjKsmeplXJ"
   },
   "source": [
    "![link text](https://labcontent.simplicdn.net/data-content/content-assets/Data_and_AI/ML/Lesson04_Regression/updates/oversampling.png)"
   ]
  },
  {
   "cell_type": "markdown",
   "metadata": {
    "id": "btGFZvp5FbOj"
   },
   "source": [
    "**SMOTE (Synthetic Minority Over-sampling Technique)** is a more advanced method that generates new synthetic samples for the minority class. It works by:\n",
    "\n",
    "- Selecting a random minority class sample.\n",
    "- Finding its k-nearest neighbors (usually k=5).\n",
    "- Choosing one of these neighbors and creating a synthetic sample along the line segment joining the original sample and the neighbor.\n"
   ]
  },
  {
   "cell_type": "markdown",
   "metadata": {
    "id": "pO-YtO2FFsM3"
   },
   "source": [
    "**Advantages of SMOTE:**\n",
    "\n",
    "- **Prevents overfitting:** Unlike simple duplication, SMOTE generates new samples, which helps in creating a more generalizable model.\n",
    "\n",
    "- **Balances the dataset:** By creating new samples, SMOTE helps balance the class distribution, improving the model's ability to learn from minority class examples."
   ]
  },
  {
   "cell_type": "markdown",
   "metadata": {
    "id": "ikGgxnxaZUYE"
   },
   "source": [
    "**Let's implement SMOTE on the same `creditcard` dataset.**"
   ]
  },
  {
   "cell_type": "markdown",
   "metadata": {
    "id": "C7zFwVfywp_g"
   },
   "source": [
    "**Import Libraries:**\n",
    "- Import the required libraries for data manipulation, model building, and evaluation."
   ]
  },
  {
   "cell_type": "code",
   "execution_count": 7,
   "metadata": {
    "id": "ijnWG2vVZdF9"
   },
   "outputs": [],
   "source": [
    "import pandas as pd\n",
    "from sklearn.model_selection import train_test_split, cross_val_score\n",
    "from sklearn.preprocessing import StandardScaler\n",
    "from sklearn.tree import DecisionTreeClassifier\n",
    "from sklearn.metrics import accuracy_score, classification_report\n",
    "from imblearn.over_sampling import SMOTE\n",
    "import matplotlib.pyplot as plt"
   ]
  },
  {
   "cell_type": "markdown",
   "metadata": {
    "id": "GSu2dALPwwFM"
   },
   "source": [
    "**Load the Dataset:**\n",
    "- Load the dataset into a pandas DataFrame.\n",
    "- Split the data into features `X` and target variable `y`."
   ]
  },
  {
   "cell_type": "code",
   "execution_count": 8,
   "metadata": {
    "id": "MMFmHgogZkA_"
   },
   "outputs": [],
   "source": [
    "# Load the dataset\n",
    "file_path = 'creditcard.csv'\n",
    "data = pd.read_csv(file_path)\n",
    "\n",
    "# Separate features and target variable\n",
    "X = data.drop('Class', axis=1)\n",
    "y = data['Class']"
   ]
  },
  {
   "cell_type": "markdown",
   "metadata": {
    "id": "6x0xHCBVxBDc"
   },
   "source": [
    "**Split the Data and Standardize the Features:**\n",
    "- Split the data into training and testing sets using an 60-40 split.\n",
    "- Standardize the feature variables to have mean 0 and variance 1."
   ]
  },
  {
   "cell_type": "code",
   "execution_count": 9,
   "metadata": {
    "id": "axxyJWfaZvuS"
   },
   "outputs": [],
   "source": [
    "# Split the data into training and testing sets\n",
    "X_train, X_test, y_train, y_test = train_test_split(X, y, test_size=0.4, random_state=42)\n",
    "\n",
    "# Standardize the feature variables\n",
    "scaler = StandardScaler()\n",
    "X_train_sc = scaler.fit_transform(X_train)\n",
    "X_test_sc = scaler.transform(X_test)"
   ]
  },
  {
   "cell_type": "markdown",
   "metadata": {
    "id": "b961imE1xS7E"
   },
   "source": [
    "Plot the Imbalanced Data:\n",
    "- Let's first plot the imbalanced data in a scatter plot to compare it with balanced data."
   ]
  },
  {
   "cell_type": "code",
   "execution_count": 10,
   "metadata": {
    "colab": {
     "base_uri": "https://localhost:8080/",
     "height": 504
    },
    "executionInfo": {
     "elapsed": 3072,
     "status": "ok",
     "timestamp": 1719996786602,
     "user": {
      "displayName": "Aleena Raj",
      "userId": "16635257578699511263"
     },
     "user_tz": -330
    },
    "id": "-y4tBdSntVRb",
    "outputId": "9edc1567-b9ef-4e31-b91a-bf59dfcd08a3"
   },
   "outputs": [
    {
     "data": {
      "text/plain": [
       "<matplotlib.colorbar.Colorbar at 0x7f5cf9f83b20>"
      ]
     },
     "execution_count": 10,
     "metadata": {},
     "output_type": "execute_result"
    },
    {
     "data": {
      "image/png": "[encoded data removed]",
      "text/plain": [
       "<Figure size 720x360 with 2 Axes>"
      ]
     },
     "metadata": {
      "needs_background": "light"
     },
     "output_type": "display_data"
    }
   ],
   "source": [
    "# Scatter plot for the imbalanced data\n",
    "plt.figure(figsize=(10, 5))\n",
    "plt.scatter(X_train_sc[:, 0], X_train_sc[:, 1], c=y_train, alpha=0.5, cmap='viridis', marker='o')\n",
    "plt.title('Imbalanced Data')\n",
    "plt.xlabel('Feature 1')\n",
    "plt.ylabel('Feature 2')\n",
    "plt.colorbar(label='Class')"
   ]
  },
  {
   "cell_type": "markdown",
   "metadata": {
    "id": "wLh54Yp2ySPm"
   },
   "source": [
    "#### __Observation__\n",
    "\n",
    "- The color of each data point indicates the class it belongs to. The color scale on the right shows a gradient from purple (0.0) to yellow (1.0), where each color represents a class label.\n",
    "\n",
    "- There are predominantly purple points, indicating a majority of data points belong to the class close to 0.0. Yellow points, indicating data points with a class close to 1.0, are much fewer in comparison.\n",
    "\n",
    "Given the class imbalance, using models that can handle imbalance well or adjusting the decision threshold might be beneficial."
   ]
  },
  {
   "cell_type": "markdown",
   "metadata": {
    "id": "EmxpClKYxf3A"
   },
   "source": [
    "**Apply Random Undersampling:**\n",
    "- Balance the dataset by applying the SMOTE."
   ]
  },
  {
   "cell_type": "code",
   "execution_count": 11,
   "metadata": {
    "id": "122z2gboahQi"
   },
   "outputs": [],
   "source": [
    "# Apply SMOTE\n",
    "smote = SMOTE(random_state=42)\n",
    "X_train_smote, y_train_smote = smote.fit_resample(X_train_sc, y_train)"
   ]
  },
  {
   "cell_type": "markdown",
   "metadata": {
    "id": "V9T01qcrxsV7"
   },
   "source": [
    "Plot the Balanced Data:\n",
    "- Plot the balanced data in a scatter plot to compare it with imbalanced data."
   ]
  },
  {
   "cell_type": "code",
   "execution_count": 12,
   "metadata": {
    "colab": {
     "base_uri": "https://localhost:8080/",
     "height": 489
    },
    "executionInfo": {
     "elapsed": 2448,
     "status": "ok",
     "timestamp": 1719996797953,
     "user": {
      "displayName": "Aleena Raj",
      "userId": "16635257578699511263"
     },
     "user_tz": -330
    },
    "id": "ts4g1fg1b6Ai",
    "outputId": "edf428bf-ca4b-4ea0-d6d9-94ef7d3de3a6"
   },
   "outputs": [
    {
     "data": {
      "text/plain": [
       "Text(0, 0.5, 'Feature 2')"
      ]
     },
     "execution_count": 12,
     "metadata": {},
     "output_type": "execute_result"
    },
    {
     "data": {
      "image/png": "[encoded data removed]",
      "text/plain": [
       "<Figure size 432x288 with 1 Axes>"
      ]
     },
     "metadata": {
      "needs_background": "light"
     },
     "output_type": "display_data"
    }
   ],
   "source": [
    "plt.scatter(X_train_smote[:, 0], X_train_smote[:, 1], c=y_train_smote, alpha=0.5, cmap=\"viridis\", marker='o')\n",
    "plt.title('Balanced Data after SMOTE')\n",
    "plt.xlabel('Feature 1')\n",
    "plt.ylabel('Feature 2')"
   ]
  },
  {
   "cell_type": "markdown",
   "metadata": {
    "id": "MWbtiXn8x0gj"
   },
   "source": [
    "**Observation:**\n",
    "\n",
    "As we can clearly see, the data is more balanced after applying SMOTE (Synthetic Minority Over-sampling Technique)."
   ]
  },
  {
   "cell_type": "markdown",
   "metadata": {
    "id": "fyLK347xyGaN"
   },
   "source": [
    "**Train and Evaluate the Decision Tree Classifier:**\n",
    "- Initialize and train a Decision Tree classifier on the undersampled training data.\n",
    "- Predict on the training and testing set and calculate the accuracy."
   ]
  },
  {
   "cell_type": "code",
   "execution_count": 13,
   "metadata": {
    "id": "JW4YSvljavIf"
   },
   "outputs": [],
   "source": [
    "# Train the Decision Tree Classifier with pruning\n",
    "dt_classifier = DecisionTreeClassifier(max_depth=3, random_state=42)  # Limiting depth to 3\n",
    "dt_classifier.fit(X_train_smote, y_train_smote)\n",
    "\n",
    "# Predict on training set\n",
    "y_train_pred = dt_classifier.predict(X_train_smote)\n",
    "train_accuracy = accuracy_score(y_train_smote, y_train_pred)\n",
    "\n",
    "# Predict on testing set\n",
    "y_test_pred = dt_classifier.predict(X_test_sc)\n",
    "test_accuracy = accuracy_score(y_test, y_test_pred)"
   ]
  },
  {
   "cell_type": "code",
   "execution_count": 14,
   "metadata": {
    "colab": {
     "base_uri": "https://localhost:8080/"
    },
    "executionInfo": {
     "elapsed": 398,
     "status": "ok",
     "timestamp": 1719996807219,
     "user": {
      "displayName": "Aleena Raj",
      "userId": "16635257578699511263"
     },
     "user_tz": -330
    },
    "id": "1Wti2WJua0sz",
    "outputId": "75c48b7f-5240-4a67-8fbe-a4ed93643740"
   },
   "outputs": [
    {
     "name": "stdout",
     "output_type": "stream",
     "text": [
      "Train Accuracy: 0.9945008460236887\n",
      "Test Accuracy: 0.985\n"
     ]
    }
   ],
   "source": [
    "print(f'Train Accuracy: {train_accuracy}')\n",
    "print(f'Test Accuracy: {test_accuracy}')"
   ]
  },
  {
   "cell_type": "markdown",
   "metadata": {
    "id": "pKUZpqRAqzUH"
   },
   "source": [
    "**Observation:**\n",
    "\n",
    "The Decision Tree classifier, when trained on the SMOTE-balanced dataset, achieved high accuracy on both the training (99.4%) and testing (98%) sets, indicating strong model performance. However, the slight drop in test accuracy compared to train accuracy suggests some overfitting. The model generalizes well but may still benefit from further tuning or validation techniques."
   ]
  },
  {
   "cell_type": "code",
   "execution_count": 15,
   "metadata": {
    "colab": {
     "base_uri": "https://localhost:8080/",
     "height": 501
    },
    "executionInfo": {
     "elapsed": 503,
     "status": "ok",
     "timestamp": 1719996813298,
     "user": {
      "displayName": "Aleena Raj",
      "userId": "16635257578699511263"
     },
     "user_tz": -330
    },
    "id": "32J8erxubsrC",
    "outputId": "394316a3-9127-49e4-9ebe-2ba1bf4ead7b"
   },
   "outputs": [
    {
     "name": "stdout",
     "output_type": "stream",
     "text": [
      "Confusion Matrix:\n",
      "[[780  12]\n",
      " [  0   8]]\n"
     ]
    },
    {
     "data": {
      "image/png": "[encoded data removed]",
      "text/plain": [
       "<Figure size 432x288 with 2 Axes>"
      ]
     },
     "metadata": {
      "needs_background": "light"
     },
     "output_type": "display_data"
    }
   ],
   "source": [
    "# Print confusion matrix\n",
    "from sklearn.metrics import classification_report, confusion_matrix, roc_curve, auc\n",
    "from sklearn.metrics import ConfusionMatrixDisplay\n",
    "\n",
    "conf_matrix = confusion_matrix(y_test, y_test_pred)\n",
    "print(\"Confusion Matrix:\")\n",
    "print(conf_matrix)\n",
    "\n",
    "\n",
    "# Heatmap visualization for confusion matrix\n",
    "cm_display = ConfusionMatrixDisplay(confusion_matrix = conf_matrix, display_labels = [\"nonfraudulent\", \"fraudulent\"])\n",
    "\n",
    "# display matrix\n",
    "cm_display.plot()\n",
    "plt.show()\n"
   ]
  },
  {
   "cell_type": "code",
   "execution_count": 16,
   "metadata": {
    "colab": {
     "base_uri": "https://localhost:8080/"
    },
    "executionInfo": {
     "elapsed": 4,
     "status": "ok",
     "timestamp": 1719996820065,
     "user": {
      "displayName": "Aleena Raj",
      "userId": "16635257578699511263"
     },
     "user_tz": -330
    },
    "id": "zj6R9q9jyxP1",
    "outputId": "8ad561eb-40c2-4926-cf7f-95a384f75938"
   },
   "outputs": [
    {
     "name": "stdout",
     "output_type": "stream",
     "text": [
      "              precision    recall  f1-score   support\n",
      "\n",
      "           0       1.00      0.98      0.99       792\n",
      "           1       0.40      1.00      0.57         8\n",
      "\n",
      "    accuracy                           0.98       800\n",
      "   macro avg       0.70      0.99      0.78       800\n",
      "weighted avg       0.99      0.98      0.99       800\n",
      "\n"
     ]
    }
   ],
   "source": [
    "print(classification_report(y_test, y_test_pred))"
   ]
  },
  {
   "cell_type": "code",
   "execution_count": 18,
   "metadata": {
    "colab": {
     "base_uri": "https://localhost:8080/",
     "height": 564
    },
    "executionInfo": {
     "elapsed": 2237,
     "status": "ok",
     "timestamp": 1719997028817,
     "user": {
      "displayName": "Aleena Raj",
      "userId": "16635257578699511263"
     },
     "user_tz": -330
    },
    "id": "ejt5Ox67bs62",
    "outputId": "e01e4868-33e3-44d7-8934-93264717a50b"
   },
   "outputs": [
    {
     "data": {
      "image/png": "[encoded data removed]",
      "text/plain": [
       "<Figure size 576x432 with 1 Axes>"
      ]
     },
     "metadata": {
      "needs_background": "light"
     },
     "output_type": "display_data"
    }
   ],
   "source": [
    "from sklearn.metrics import roc_auc_score, roc_curve\n",
    "\n",
    "# Calculate AUC score\n",
    "roc_auc = roc_auc_score(y_test, dt_classifier.predict_proba(X_test_sc)[:, 1])\n",
    "\n",
    "# ROC Curve\n",
    "fpr, tpr, thresholds = roc_curve(y_test, dt_classifier.predict_proba(X_test_sc)[:, 1])\n",
    "plt.figure(figsize=(8, 6))\n",
    "plt.plot(fpr, tpr, color='blue', label=f'ROC Curve (AUC = {roc_auc:.2f})')\n",
    "plt.plot([0, 1], [0, 1], color='gray', linestyle='--')\n",
    "plt.xlabel('False Positive Rate')\n",
    "plt.ylabel('True Positive Rate')\n",
    "plt.title('Receiver Operating Characteristic (ROC) Curve')\n",
    "plt.legend()\n",
    "plt.show()\n"
   ]
  },
  {
   "cell_type": "markdown",
   "metadata": {
    "id": "eX0aBjGeq9fy"
   },
   "source": [
    "Let's explore some more techniques to balance this data."
   ]
  },
  {
   "cell_type": "markdown",
   "metadata": {
    "id": "gyYHksvpHyMu"
   },
   "source": [
    "### __4.6.3 Undersampling Techniques__"
   ]
  },
  {
   "cell_type": "markdown",
   "metadata": {
    "id": "eaTed9DJH-z9"
   },
   "source": [
    "Undersampling is the opposite of oversampling. It involves reducing the number of samples in the majority class to balance the dataset. This can be done by randomly removing samples or using more sophisticated techniques.\n",
    "\n"
   ]
  },
  {
   "cell_type": "markdown",
   "metadata": {
    "id": "aZi7vkj-px6x"
   },
   "source": [
    "![link text](https://labcontent.simplicdn.net/data-content/content-assets/Data_and_AI/ML/Lesson04_Regression/updates/undersampling.png)"
   ]
  },
  {
   "cell_type": "markdown",
   "metadata": {
    "id": "lkpTqmEnIDLa"
   },
   "source": [
    "**Random Undersampling**\n",
    "\n",
    "It is the simplest form of undersampling, where majority class samples are randomly removed to achieve balance.\n",
    "\n"
   ]
  },
  {
   "cell_type": "markdown",
   "metadata": {
    "id": "Dg9wJrZJI5GB"
   },
   "source": [
    "**How Random Undersampling Works**\n",
    "\n",
    "1. **Identify Majority and Minority Classes:** First, identify which class is overrepresented (majority class) and which is underrepresented (minority class) in the dataset.\n",
    "\n",
    "2. **Randomly Remove Samples:** Randomly select and remove samples from the majority class until the number of samples in each class is balanced. For example, if you have 1,000 samples in the majority class and 100 in the minority class, you might randomly remove 900 samples from the majority class.\n",
    "\n",
    "3. **Resulting Dataset:** The resulting dataset will have a more balanced distribution of classes, with a reduced number of samples from the majority class."
   ]
  },
  {
   "cell_type": "markdown",
   "metadata": {
    "id": "6Srqqo2YIhNe"
   },
   "source": [
    "**Advantages of Random Undersampling:**\n",
    "\n",
    "- **Simple and easy to implement:** This technique is straightforward and can be applied quickly.\n",
    "- **Reduces training time:** By reducing the number of samples, it can speed up the training process.\n",
    "\n",
    "**Disadvantages of Random Undersampling:**\n",
    "\n",
    "- **Loss of information:** Removing samples from the majority class can lead to loss of important information.\n",
    "- **Overfitting:** The model might overfit to the remaining data, especially if the dataset is small."
   ]
  },
  {
   "cell_type": "markdown",
   "metadata": {
    "id": "Pxh2rmfmrqRp"
   },
   "source": [
    "Let's implement Random Undersampling"
   ]
  },
  {
   "cell_type": "markdown",
   "metadata": {
    "id": "G3YEEFVKrvos"
   },
   "source": [
    "We will use the same dataset and train-test split for applying these data balancing techniques and fitting the classification model to evaluate its accuracy."
   ]
  },
  {
   "cell_type": "markdown",
   "metadata": {
    "id": "3VCumy_0yhuw"
   },
   "source": [
    "**Import Libraries:**\n",
    "- Import `RandomUnderSampler` from `imblearn.under_sampling`"
   ]
  },
  {
   "cell_type": "code",
   "execution_count": 19,
   "metadata": {
    "id": "C8H-mueYr9zx"
   },
   "outputs": [],
   "source": [
    "from imblearn.under_sampling import RandomUnderSampler"
   ]
  },
  {
   "cell_type": "markdown",
   "metadata": {
    "id": "l-jTOcoDywZH"
   },
   "source": [
    "**Apply Random Undersampling:**\n",
    "- Balance the dataset by randomly undersampling the majority class.\n",
    "\n",
    "**Note:** Here, we are directly starting from applying the algorithm since we are using the same dataset and train-test split from above."
   ]
  },
  {
   "cell_type": "code",
   "execution_count": 20,
   "metadata": {
    "id": "i57xM3wGsGuE"
   },
   "outputs": [],
   "source": [
    "# Apply Random Undersampling\n",
    "undersampler = RandomUnderSampler(random_state=42)\n",
    "X_train_undersampled, y_train_undersampled = undersampler.fit_resample(X_train_sc, y_train)"
   ]
  },
  {
   "cell_type": "markdown",
   "metadata": {
    "id": "yVIB2DwPzKxI"
   },
   "source": [
    "Plot the Balanced Data:\n",
    "- Plot the balanced data in a scatter plot to compare it with imbalanced data plotted in previous technique."
   ]
  },
  {
   "cell_type": "code",
   "execution_count": 21,
   "metadata": {
    "colab": {
     "base_uri": "https://localhost:8080/",
     "height": 489
    },
    "executionInfo": {
     "elapsed": 1832,
     "status": "ok",
     "timestamp": 1719997077348,
     "user": {
      "displayName": "Aleena Raj",
      "userId": "16635257578699511263"
     },
     "user_tz": -330
    },
    "id": "D4iOY53quPL5",
    "outputId": "c28cbbc7-b781-430e-dd1c-1b60f900267b"
   },
   "outputs": [
    {
     "data": {
      "text/plain": [
       "Text(0, 0.5, 'Feature 2')"
      ]
     },
     "execution_count": 21,
     "metadata": {},
     "output_type": "execute_result"
    },
    {
     "data": {
      "image/png": "[encoded data removed]",
      "text/plain": [
       "<Figure size 432x288 with 1 Axes>"
      ]
     },
     "metadata": {
      "needs_background": "light"
     },
     "output_type": "display_data"
    }
   ],
   "source": [
    "plt.scatter(X_train_undersampled[:, 0], X_train_undersampled[:, 1], c=y_train_undersampled, cmap=\"viridis\", alpha=0.5, marker='o')\n",
    "plt.title('Balanced Data after Random Undersampling')\n",
    "plt.xlabel('Feature 1')\n",
    "plt.ylabel('Feature 2')"
   ]
  },
  {
   "cell_type": "markdown",
   "metadata": {
    "id": "uyKN5VkFzVDl"
   },
   "source": [
    "**Observation:**\n",
    "\n",
    "As we can see, the data is more balanced after applying Random Undersampling, but the data points are less."
   ]
  },
  {
   "cell_type": "markdown",
   "metadata": {
    "id": "0MxQyu82zoo7"
   },
   "source": [
    "**Train and Evaluate the Decision Tree Classifier:**\n",
    "- Initialize and train a Decision Tree classifier on the undersampled training data.\n",
    "- Predict on the training and testing set and calculate the accuracy."
   ]
  },
  {
   "cell_type": "code",
   "execution_count": 22,
   "metadata": {
    "id": "XA--f85lshBL"
   },
   "outputs": [],
   "source": [
    "# Train the Decision Tree Classifier\n",
    "dt_classifier = DecisionTreeClassifier(random_state=42)\n",
    "dt_classifier.fit(X_train_undersampled, y_train_undersampled)\n",
    "\n",
    "# Predict on training set\n",
    "y_train_pred = dt_classifier.predict(X_train_undersampled)\n",
    "train_accuracy = accuracy_score(y_train_undersampled, y_train_pred)\n",
    "\n",
    "# Predict on testing set\n",
    "y_test_pred = dt_classifier.predict(X_test_sc)\n",
    "test_accuracy = accuracy_score(y_test, y_test_pred)\n"
   ]
  },
  {
   "cell_type": "code",
   "execution_count": 23,
   "metadata": {
    "colab": {
     "base_uri": "https://localhost:8080/"
    },
    "executionInfo": {
     "elapsed": 387,
     "status": "ok",
     "timestamp": 1719997107826,
     "user": {
      "displayName": "Aleena Raj",
      "userId": "16635257578699511263"
     },
     "user_tz": -330
    },
    "id": "rj9SB59JtPie",
    "outputId": "b9c9df5c-8a71-4d46-9d62-15359c95afae"
   },
   "outputs": [
    {
     "name": "stdout",
     "output_type": "stream",
     "text": [
      "Train Accuracy: 1.0\n",
      "Test Accuracy: 0.8075\n"
     ]
    }
   ],
   "source": [
    "print(f'Train Accuracy: {train_accuracy}')\n",
    "print(f'Test Accuracy: {test_accuracy}')\n"
   ]
  },
  {
   "cell_type": "markdown",
   "metadata": {
    "id": "r7FyQLz0ESsU"
   },
   "source": [
    "#### __Observation__\n",
    "\n",
    "- A training accuracy of 1.0 indicates that the model has perfectly learned or memorized the training dataset. It can correctly predict the outcome for every example it was trained on.\n",
    "- This could be a sign of overfitting, where the model is too closely fitted to the training data. It learns not only the underlying patterns but also the noise and fluctuations specific to the training set."
   ]
  },
  {
   "cell_type": "markdown",
   "metadata": {
    "id": "yTMy0mr9EfUu"
   },
   "source": [
    "Use techniques like **k-fold cross-validation** to assess model performance more reliably. This helps ensure that the model's performance is robust across different subsets of the training data."
   ]
  },
  {
   "cell_type": "markdown",
   "metadata": {
    "id": "P6N9gcrBCEky"
   },
   "source": [
    "The `imblearn.pipeline.Pipeline` is specifically designed to handle imbalanced datasets by integrating resampling methods directly into the pipeline steps"
   ]
  },
  {
   "cell_type": "code",
   "execution_count": 24,
   "metadata": {
    "colab": {
     "base_uri": "https://localhost:8080/"
    },
    "executionInfo": {
     "elapsed": 425,
     "status": "ok",
     "timestamp": 1719997127851,
     "user": {
      "displayName": "Aleena Raj",
      "userId": "16635257578699511263"
     },
     "user_tz": -330
    },
    "id": "7HeJ4WFuBxRG",
    "outputId": "40eedf74-5d25-48ee-8829-bf8084a8a0bb"
   },
   "outputs": [
    {
     "name": "stdout",
     "output_type": "stream",
     "text": [
      "Cross-validation Accuracy: 0.876\n",
      "              precision    recall  f1-score   support\n",
      "\n",
      "           0       1.00      0.81      0.89       792\n",
      "           1       0.05      1.00      0.09         8\n",
      "\n",
      "    accuracy                           0.81       800\n",
      "   macro avg       0.52      0.90      0.49       800\n",
      "weighted avg       0.99      0.81      0.88       800\n",
      "\n"
     ]
    }
   ],
   "source": [
    "from imblearn.pipeline import Pipeline\n",
    "from sklearn.model_selection import StratifiedKFold\n",
    "\n",
    "# Create a pipeline for proper cross-validation\n",
    "pipeline = Pipeline([\n",
    "    ('scaler', StandardScaler()),  # Scales each feature to zero mean and unit variance\n",
    "    ('sampler', RandomUnderSampler(random_state=42)),  # Balances the dataset by undersampling\n",
    "    ('classifier', DecisionTreeClassifier(random_state=42))  # Applies a Decision Tree Classifier\n",
    "])\n",
    "# Perform cross-validation using the entire dataset\n",
    "cv = StratifiedKFold(n_splits=5, shuffle=True, random_state=42)\n",
    "cv_scores = cross_val_score(pipeline, X, y, cv=cv, scoring='accuracy')\n",
    "print(f'Cross-validation Accuracy: {cv_scores.mean()}')\n",
    "\n",
    "# Evaluate the model using precision, recall, and F1 score\n",
    "print(classification_report(y_test, y_test_pred))"
   ]
  },
  {
   "cell_type": "markdown",
   "metadata": {
    "id": "UqDJbSuOG-DF"
   },
   "source": [
    " **Note:**\n",
    "\n",
    " In situations where the dataset is highly imbalanced, the ROC curve can give an overly optimistic assessment of the model’s performance.\n",
    "\n",
    "This optimism bias arises because the ROC curve’s false positive rate (FPR) can become very small when the number of actual negatives is large. As a result, even a large number of false positives would only lead to a small FPR, leading to a potentially high AUC that doesn’t reflect the practical reality of using the model.\n",
    "\n",
    "Then comes **Precision-Recall Curve and AUCPR** which is especially useful when the positive class is rarer and more relevant."
   ]
  },
  {
   "cell_type": "markdown",
   "metadata": {
    "id": "1L6nrrTnI2NA"
   },
   "source": [
    "#### __Plotting a Precision Recall curve:__"
   ]
  },
  {
   "cell_type": "code",
   "execution_count": 25,
   "metadata": {
    "colab": {
     "base_uri": "https://localhost:8080/",
     "height": 497
    },
    "executionInfo": {
     "elapsed": 1273,
     "status": "ok",
     "timestamp": 1718543647662,
     "user": {
      "displayName": "Aleena Raj",
      "userId": "16635257578699511263"
     },
     "user_tz": -330
    },
    "id": "HF5mKg2OI7Qk",
    "outputId": "92de786c-6de0-4b86-9b13-83a24ad1c016"
   },
   "outputs": [
    {
     "data": {
      "image/png": "[encoded data removed]",
      "text/plain": [
       "<Figure size 432x288 with 1 Axes>"
      ]
     },
     "metadata": {
      "needs_background": "light"
     },
     "output_type": "display_data"
    },
    {
     "name": "stdout",
     "output_type": "stream",
     "text": [
      "Area under the Precision-Recall Curve(AUCPR): 0.04938271604938271\n"
     ]
    }
   ],
   "source": [
    "from sklearn.metrics import precision_recall_curve, average_precision_score\n",
    "from sklearn.metrics import PrecisionRecallDisplay\n",
    "\n",
    "# Predict probabilities for the positive class\n",
    "y_scores = dt_classifier.predict_proba(X_test_sc)[:, 1]\n",
    "\n",
    "# Compute precision-recall pairs for different probability thresholds\n",
    "precision, recall, thresholds = precision_recall_curve(y_test, y_scores)\n",
    "\n",
    "# Use PrecisionRecallDisplay to plot the curve\n",
    "disp = PrecisionRecallDisplay(precision=precision, recall=recall)\n",
    "disp.plot()\n",
    "plt.title('Precision-Recall Curve')\n",
    "plt.show()\n",
    "\n",
    "# Compute the average precision score (AUCPR)\n",
    "aucpr = average_precision_score(y_test, y_scores)\n",
    "print(f'Area under the Precision-Recall Curve(AUCPR): {aucpr}')"
   ]
  },
  {
   "cell_type": "markdown",
   "metadata": {
    "id": "_RjkVw6LJpXS"
   },
   "source": [
    "#### __Observation__\n",
    "\n",
    "- The curve starts with a high precision value of 1.0 when recall is near zero. This indicates that at the very low threshold settings, where the model predicts only the most confidently positive samples as positive, it does so correctly.\n",
    "\n",
    "- As recall increases slightly, the precision drops sharply to a low value (close to 0.2) and remains nearly constant across the rest of the recall range. This is a characteristic of a model that, after a certain point, begins to classify more and more negative samples as positive, thus drastically reducing precision.\n",
    "\n",
    "The nearly flat and low precision across most of the recall range suggests that the model struggles to discriminate between positive and negative classes effectively as it attempts to increase recall"
   ]
  },
  {
   "cell_type": "markdown",
   "metadata": {
    "id": "3wzBLwBzJcgK"
   },
   "source": [
    "### __4.6.4 Ensemble Methods for Imbalanced Data__"
   ]
  },
  {
   "cell_type": "markdown",
   "metadata": {
    "id": "y9QOA55pJjv_"
   },
   "source": [
    "Ensemble methods combine multiple models to improve performance. For imbalanced data, one effective approach is to use an ensemble method that specifically addresses class imbalance."
   ]
  },
  {
   "cell_type": "markdown",
   "metadata": {
    "id": "792xtth2Jue0"
   },
   "source": [
    "**Balanced Random Forest (BRF)**\n",
    "\n",
    "It is an ensemble learning method designed to handle class imbalance in classification tasks. It modifies the standard Random Forest algorithm to address the imbalance issue by combining random undersampling of the majority class with the power of ensemble learning.\n",
    "\n"
   ]
  },
  {
   "cell_type": "markdown",
   "metadata": {
    "id": "48sdoqUtJ4VV"
   },
   "source": [
    "**How Balanced Random Forest Works**\n",
    "\n",
    "1. **Sampling:** In each iteration, instead of using the entire majority class, BRF randomly samples (with replacement) a subset of the majority class that is equal in size to the minority class. This creates a balanced subset of the data for training each tree.\n",
    "\n",
    "2. **Tree Construction:** A decision tree is trained on this balanced subset. Each tree in the forest is built using a different balanced subset of the data.\n",
    "\n",
    "3. **Ensemble Learning:** The final model is an ensemble of these trees. Predictions are made by averaging the predictions of all trees (in the case of regression) or by majority vote (in the case of classification).\n",
    "\n"
   ]
  },
  {
   "cell_type": "markdown",
   "metadata": {
    "id": "5jNw0WJFKC4M"
   },
   "source": [
    "**Benefits of Balanced Random Forest**\n",
    "- **Improved Performance on Minority Class:** By balancing the dataset for each tree, BRF improves the model’s ability to correctly classify instances of the minority class.\n",
    "- **Reduced Bias:** It helps in reducing the bias towards the majority class, a common issue in imbalanced datasets.\n",
    "- **Robustness:** The ensemble approach enhances the robustness of the model by combining multiple trees, each trained on a different balanced subset of the data."
   ]
  },
  {
   "cell_type": "markdown",
   "metadata": {
    "id": "cIRHZ6Rzu2RH"
   },
   "source": [
    "Let's implement Balanced Random Forest"
   ]
  },
  {
   "cell_type": "markdown",
   "metadata": {
    "id": "TVSoPBwVu2RT"
   },
   "source": [
    "We will use the same dataset and train-test split for applying these data balancing techniques and fitting the classification model to evaluate its accuracy."
   ]
  },
  {
   "cell_type": "markdown",
   "metadata": {
    "id": "A7bGx0HAOTTL"
   },
   "source": [
    "**Import Libraries:**\n",
    "- Import `BalancedRandomForestClassifier` from `imblearn.under_sampling`"
   ]
  },
  {
   "cell_type": "markdown",
   "metadata": {
    "id": "j293vr3YOLSh"
   },
   "source": [
    "The `BalancedRandomForestClassifier` is a specialized version of the traditional Random Forest classifier designed to handle imbalanced datasets. In imbalanced datasets, the number of instances in each class is not equally distributed, which can lead to biased models that favor the majority class."
   ]
  },
  {
   "cell_type": "code",
   "execution_count": 26,
   "metadata": {
    "id": "VwK0tBYN3qcb"
   },
   "outputs": [],
   "source": [
    "from imblearn.ensemble import BalancedRandomForestClassifier"
   ]
  },
  {
   "cell_type": "markdown",
   "metadata": {
    "id": "H-qNYprXOf97"
   },
   "source": [
    "**Apply Balanced Random Forest:**\n",
    "- Balance the dataset by Balanced Random Forest.\n",
    "\n",
    "**Note:** Here, we are directly starting from applying the algorithm since we are using the same dataset and train-test split."
   ]
  },
  {
   "cell_type": "code",
   "execution_count": 31,
   "metadata": {
    "colab": {
     "base_uri": "https://localhost:8080/",
     "height": 204
    },
    "executionInfo": {
     "elapsed": 437,
     "status": "ok",
     "timestamp": 1718545443733,
     "user": {
      "displayName": "Aleena Raj",
      "userId": "16635257578699511263"
     },
     "user_tz": -330
    },
    "id": "pZPEn8sLvBDU",
    "outputId": "42db405e-5bd4-4a6d-bdb5-2246689462e2"
   },
   "outputs": [
    {
     "data": {
      "text/html": [
       "<style>#sk-container-id-2 {\n",
       "  /* Definition of color scheme common for light and dark mode */\n",
       "  --sklearn-color-text: black;\n",
       "  --sklearn-color-line: gray;\n",
       "  /* Definition of color scheme for unfitted estimators */\n",
       "  --sklearn-color-unfitted-level-0: #fff5e6;\n",
       "  --sklearn-color-unfitted-level-1: #f6e4d2;\n",
       "  --sklearn-color-unfitted-level-2: #ffe0b3;\n",
       "  --sklearn-color-unfitted-level-3: chocolate;\n",
       "  /* Definition of color scheme for fitted estimators */\n",
       "  --sklearn-color-fitted-level-0: #f0f8ff;\n",
       "  --sklearn-color-fitted-level-1: #d4ebff;\n",
       "  --sklearn-color-fitted-level-2: #b3dbfd;\n",
       "  --sklearn-color-fitted-level-3: cornflowerblue;\n",
       "\n",
       "  /* Specific color for light theme */\n",
       "  --sklearn-color-text-on-default-background: var(--sg-text-color, var(--theme-code-foreground, var(--jp-content-font-color1, black)));\n",
       "  --sklearn-color-background: var(--sg-background-color, var(--theme-background, var(--jp-layout-color0, white)));\n",
       "  --sklearn-color-border-box: var(--sg-text-color, var(--theme-code-foreground, var(--jp-content-font-color1, black)));\n",
       "  --sklearn-color-icon: #696969;\n",
       "\n",
       "  @media (prefers-color-scheme: dark) {\n",
       "    /* Redefinition of color scheme for dark theme */\n",
       "    --sklearn-color-text-on-default-background: var(--sg-text-color, var(--theme-code-foreground, var(--jp-content-font-color1, white)));\n",
       "    --sklearn-color-background: var(--sg-background-color, var(--theme-background, var(--jp-layout-color0, #111)));\n",
       "    --sklearn-color-border-box: var(--sg-text-color, var(--theme-code-foreground, var(--jp-content-font-color1, white)));\n",
       "    --sklearn-color-icon: #878787;\n",
       "  }\n",
       "}\n",
       "\n",
       "#sk-container-id-2 {\n",
       "  color: var(--sklearn-color-text);\n",
       "}\n",
       "\n",
       "#sk-container-id-2 pre {\n",
       "  padding: 0;\n",
       "}\n",
       "\n",
       "#sk-container-id-2 input.sk-hidden--visually {\n",
       "  border: 0;\n",
       "  clip: rect(1px 1px 1px 1px);\n",
       "  clip: rect(1px, 1px, 1px, 1px);\n",
       "  height: 1px;\n",
       "  margin: -1px;\n",
       "  overflow: hidden;\n",
       "  padding: 0;\n",
       "  position: absolute;\n",
       "  width: 1px;\n",
       "}\n",
       "\n",
       "#sk-container-id-2 div.sk-dashed-wrapped {\n",
       "  border: 1px dashed var(--sklearn-color-line);\n",
       "  margin: 0 0.4em 0.5em 0.4em;\n",
       "  box-sizing: border-box;\n",
       "  padding-bottom: 0.4em;\n",
       "  background-color: var(--sklearn-color-background);\n",
       "}\n",
       "\n",
       "#sk-container-id-2 div.sk-container {\n",
       "  /* jupyter's `normalize.less` sets `[hidden] { display: none; }`\n",
       "     but bootstrap.min.css set `[hidden] { display: none !important; }`\n",
       "     so we also need the `!important` here to be able to override the\n",
       "     default hidden behavior on the sphinx rendered scikit-learn.org.\n",
       "     See: https://github.com/scikit-learn/scikit-learn/issues/21755 */\n",
       "  display: inline-block !important;\n",
       "  position: relative;\n",
       "}\n",
       "\n",
       "#sk-container-id-2 div.sk-text-repr-fallback {\n",
       "  display: none;\n",
       "}\n",
       "\n",
       "div.sk-parallel-item,\n",
       "div.sk-serial,\n",
       "div.sk-item {\n",
       "  /* draw centered vertical line to link estimators */\n",
       "  background-image: linear-gradient(var(--sklearn-color-text-on-default-background), var(--sklearn-color-text-on-default-background));\n",
       "  background-size: 2px 100%;\n",
       "  background-repeat: no-repeat;\n",
       "  background-position: center center;\n",
       "}\n",
       "\n",
       "/* Parallel-specific style estimator block */\n",
       "\n",
       "#sk-container-id-2 div.sk-parallel-item::after {\n",
       "  content: \"\";\n",
       "  width: 100%;\n",
       "  border-bottom: 2px solid var(--sklearn-color-text-on-default-background);\n",
       "  flex-grow: 1;\n",
       "}\n",
       "\n",
       "#sk-container-id-2 div.sk-parallel {\n",
       "  display: flex;\n",
       "  align-items: stretch;\n",
       "  justify-content: center;\n",
       "  background-color: var(--sklearn-color-background);\n",
       "  position: relative;\n",
       "}\n",
       "\n",
       "#sk-container-id-2 div.sk-parallel-item {\n",
       "  display: flex;\n",
       "  flex-direction: column;\n",
       "}\n",
       "\n",
       "#sk-container-id-2 div.sk-parallel-item:first-child::after {\n",
       "  align-self: flex-end;\n",
       "  width: 50%;\n",
       "}\n",
       "\n",
       "#sk-container-id-2 div.sk-parallel-item:last-child::after {\n",
       "  align-self: flex-start;\n",
       "  width: 50%;\n",
       "}\n",
       "\n",
       "#sk-container-id-2 div.sk-parallel-item:only-child::after {\n",
       "  width: 0;\n",
       "}\n",
       "\n",
       "/* Serial-specific style estimator block */\n",
       "\n",
       "#sk-container-id-2 div.sk-serial {\n",
       "  display: flex;\n",
       "  flex-direction: column;\n",
       "  align-items: center;\n",
       "  background-color: var(--sklearn-color-background);\n",
       "  padding-right: 1em;\n",
       "  padding-left: 1em;\n",
       "}\n",
       "\n",
       "\n",
       "/* Toggleable style: style used for estimator/Pipeline/ColumnTransformer box that is\n",
       "clickable and can be expanded/collapsed.\n",
       "- Pipeline and ColumnTransformer use this feature and define the default style\n",
       "- Estimators will overwrite some part of the style using the `sk-estimator` class\n",
       "*/\n",
       "\n",
       "/* Pipeline and ColumnTransformer style (default) */\n",
       "\n",
       "#sk-container-id-2 div.sk-toggleable {\n",
       "  /* Default theme specific background. It is overwritten whether we have a\n",
       "  specific estimator or a Pipeline/ColumnTransformer */\n",
       "  background-color: var(--sklearn-color-background);\n",
       "}\n",
       "\n",
       "/* Toggleable label */\n",
       "#sk-container-id-2 label.sk-toggleable__label {\n",
       "  cursor: pointer;\n",
       "  display: block;\n",
       "  width: 100%;\n",
       "  margin-bottom: 0;\n",
       "  padding: 0.5em;\n",
       "  box-sizing: border-box;\n",
       "  text-align: center;\n",
       "}\n",
       "\n",
       "#sk-container-id-2 label.sk-toggleable__label-arrow:before {\n",
       "  /* Arrow on the left of the label */\n",
       "  content: \"▸\";\n",
       "  float: left;\n",
       "  margin-right: 0.25em;\n",
       "  color: var(--sklearn-color-icon);\n",
       "}\n",
       "\n",
       "#sk-container-id-2 label.sk-toggleable__label-arrow:hover:before {\n",
       "  color: var(--sklearn-color-text);\n",
       "}\n",
       "\n",
       "/* Toggleable content - dropdown */\n",
       "\n",
       "#sk-container-id-2 div.sk-toggleable__content {\n",
       "  max-height: 0;\n",
       "  max-width: 0;\n",
       "  overflow: hidden;\n",
       "  text-align: left;\n",
       "  /* unfitted */\n",
       "  background-color: var(--sklearn-color-unfitted-level-0);\n",
       "}\n",
       "\n",
       "#sk-container-id-2 div.sk-toggleable__content.fitted {\n",
       "  /* fitted */\n",
       "  background-color: var(--sklearn-color-fitted-level-0);\n",
       "}\n",
       "\n",
       "#sk-container-id-2 div.sk-toggleable__content pre {\n",
       "  margin: 0.2em;\n",
       "  border-radius: 0.25em;\n",
       "  color: var(--sklearn-color-text);\n",
       "  /* unfitted */\n",
       "  background-color: var(--sklearn-color-unfitted-level-0);\n",
       "}\n",
       "\n",
       "#sk-container-id-2 div.sk-toggleable__content.fitted pre {\n",
       "  /* unfitted */\n",
       "  background-color: var(--sklearn-color-fitted-level-0);\n",
       "}\n",
       "\n",
       "#sk-container-id-2 input.sk-toggleable__control:checked~div.sk-toggleable__content {\n",
       "  /* Expand drop-down */\n",
       "  max-height: 200px;\n",
       "  max-width: 100%;\n",
       "  overflow: auto;\n",
       "}\n",
       "\n",
       "#sk-container-id-2 input.sk-toggleable__control:checked~label.sk-toggleable__label-arrow:before {\n",
       "  content: \"▾\";\n",
       "}\n",
       "\n",
       "/* Pipeline/ColumnTransformer-specific style */\n",
       "\n",
       "#sk-container-id-2 div.sk-label input.sk-toggleable__control:checked~label.sk-toggleable__label {\n",
       "  color: var(--sklearn-color-text);\n",
       "  background-color: var(--sklearn-color-unfitted-level-2);\n",
       "}\n",
       "\n",
       "#sk-container-id-2 div.sk-label.fitted input.sk-toggleable__control:checked~label.sk-toggleable__label {\n",
       "  background-color: var(--sklearn-color-fitted-level-2);\n",
       "}\n",
       "\n",
       "/* Estimator-specific style */\n",
       "\n",
       "/* Colorize estimator box */\n",
       "#sk-container-id-2 div.sk-estimator input.sk-toggleable__control:checked~label.sk-toggleable__label {\n",
       "  /* unfitted */\n",
       "  background-color: var(--sklearn-color-unfitted-level-2);\n",
       "}\n",
       "\n",
       "#sk-container-id-2 div.sk-estimator.fitted input.sk-toggleable__control:checked~label.sk-toggleable__label {\n",
       "  /* fitted */\n",
       "  background-color: var(--sklearn-color-fitted-level-2);\n",
       "}\n",
       "\n",
       "#sk-container-id-2 div.sk-label label.sk-toggleable__label,\n",
       "#sk-container-id-2 div.sk-label label {\n",
       "  /* The background is the default theme color */\n",
       "  color: var(--sklearn-color-text-on-default-background);\n",
       "}\n",
       "\n",
       "/* On hover, darken the color of the background */\n",
       "#sk-container-id-2 div.sk-label:hover label.sk-toggleable__label {\n",
       "  color: var(--sklearn-color-text);\n",
       "  background-color: var(--sklearn-color-unfitted-level-2);\n",
       "}\n",
       "\n",
       "/* Label box, darken color on hover, fitted */\n",
       "#sk-container-id-2 div.sk-label.fitted:hover label.sk-toggleable__label.fitted {\n",
       "  color: var(--sklearn-color-text);\n",
       "  background-color: var(--sklearn-color-fitted-level-2);\n",
       "}\n",
       "\n",
       "/* Estimator label */\n",
       "\n",
       "#sk-container-id-2 div.sk-label label {\n",
       "  font-family: monospace;\n",
       "  font-weight: bold;\n",
       "  display: inline-block;\n",
       "  line-height: 1.2em;\n",
       "}\n",
       "\n",
       "#sk-container-id-2 div.sk-label-container {\n",
       "  text-align: center;\n",
       "}\n",
       "\n",
       "/* Estimator-specific */\n",
       "#sk-container-id-2 div.sk-estimator {\n",
       "  font-family: monospace;\n",
       "  border: 1px dotted var(--sklearn-color-border-box);\n",
       "  border-radius: 0.25em;\n",
       "  box-sizing: border-box;\n",
       "  margin-bottom: 0.5em;\n",
       "  /* unfitted */\n",
       "  background-color: var(--sklearn-color-unfitted-level-0);\n",
       "}\n",
       "\n",
       "#sk-container-id-2 div.sk-estimator.fitted {\n",
       "  /* fitted */\n",
       "  background-color: var(--sklearn-color-fitted-level-0);\n",
       "}\n",
       "\n",
       "/* on hover */\n",
       "#sk-container-id-2 div.sk-estimator:hover {\n",
       "  /* unfitted */\n",
       "  background-color: var(--sklearn-color-unfitted-level-2);\n",
       "}\n",
       "\n",
       "#sk-container-id-2 div.sk-estimator.fitted:hover {\n",
       "  /* fitted */\n",
       "  background-color: var(--sklearn-color-fitted-level-2);\n",
       "}\n",
       "\n",
       "/* Specification for estimator info (e.g. \"i\" and \"?\") */\n",
       "\n",
       "/* Common style for \"i\" and \"?\" */\n",
       "\n",
       ".sk-estimator-doc-link,\n",
       "a:link.sk-estimator-doc-link,\n",
       "a:visited.sk-estimator-doc-link {\n",
       "  float: right;\n",
       "  font-size: smaller;\n",
       "  line-height: 1em;\n",
       "  font-family: monospace;\n",
       "  background-color: var(--sklearn-color-background);\n",
       "  border-radius: 1em;\n",
       "  height: 1em;\n",
       "  width: 1em;\n",
       "  text-decoration: none !important;\n",
       "  margin-left: 1ex;\n",
       "  /* unfitted */\n",
       "  border: var(--sklearn-color-unfitted-level-1) 1pt solid;\n",
       "  color: var(--sklearn-color-unfitted-level-1);\n",
       "}\n",
       "\n",
       ".sk-estimator-doc-link.fitted,\n",
       "a:link.sk-estimator-doc-link.fitted,\n",
       "a:visited.sk-estimator-doc-link.fitted {\n",
       "  /* fitted */\n",
       "  border: var(--sklearn-color-fitted-level-1) 1pt solid;\n",
       "  color: var(--sklearn-color-fitted-level-1);\n",
       "}\n",
       "\n",
       "/* On hover */\n",
       "div.sk-estimator:hover .sk-estimator-doc-link:hover,\n",
       ".sk-estimator-doc-link:hover,\n",
       "div.sk-label-container:hover .sk-estimator-doc-link:hover,\n",
       ".sk-estimator-doc-link:hover {\n",
       "  /* unfitted */\n",
       "  background-color: var(--sklearn-color-unfitted-level-3);\n",
       "  color: var(--sklearn-color-background);\n",
       "  text-decoration: none;\n",
       "}\n",
       "\n",
       "div.sk-estimator.fitted:hover .sk-estimator-doc-link.fitted:hover,\n",
       ".sk-estimator-doc-link.fitted:hover,\n",
       "div.sk-label-container:hover .sk-estimator-doc-link.fitted:hover,\n",
       ".sk-estimator-doc-link.fitted:hover {\n",
       "  /* fitted */\n",
       "  background-color: var(--sklearn-color-fitted-level-3);\n",
       "  color: var(--sklearn-color-background);\n",
       "  text-decoration: none;\n",
       "}\n",
       "\n",
       "/* Span, style for the box shown on hovering the info icon */\n",
       ".sk-estimator-doc-link span {\n",
       "  display: none;\n",
       "  z-index: 9999;\n",
       "  position: relative;\n",
       "  font-weight: normal;\n",
       "  right: .2ex;\n",
       "  padding: .5ex;\n",
       "  margin: .5ex;\n",
       "  width: min-content;\n",
       "  min-width: 20ex;\n",
       "  max-width: 50ex;\n",
       "  color: var(--sklearn-color-text);\n",
       "  box-shadow: 2pt 2pt 4pt #999;\n",
       "  /* unfitted */\n",
       "  background: var(--sklearn-color-unfitted-level-0);\n",
       "  border: .5pt solid var(--sklearn-color-unfitted-level-3);\n",
       "}\n",
       "\n",
       ".sk-estimator-doc-link.fitted span {\n",
       "  /* fitted */\n",
       "  background: var(--sklearn-color-fitted-level-0);\n",
       "  border: var(--sklearn-color-fitted-level-3);\n",
       "}\n",
       "\n",
       ".sk-estimator-doc-link:hover span {\n",
       "  display: block;\n",
       "}\n",
       "\n",
       "/* \"?\"-specific style due to the `<a>` HTML tag */\n",
       "\n",
       "#sk-container-id-2 a.estimator_doc_link {\n",
       "  float: right;\n",
       "  font-size: 1rem;\n",
       "  line-height: 1em;\n",
       "  font-family: monospace;\n",
       "  background-color: var(--sklearn-color-background);\n",
       "  border-radius: 1rem;\n",
       "  height: 1rem;\n",
       "  width: 1rem;\n",
       "  text-decoration: none;\n",
       "  /* unfitted */\n",
       "  color: var(--sklearn-color-unfitted-level-1);\n",
       "  border: var(--sklearn-color-unfitted-level-1) 1pt solid;\n",
       "}\n",
       "\n",
       "#sk-container-id-2 a.estimator_doc_link.fitted {\n",
       "  /* fitted */\n",
       "  border: var(--sklearn-color-fitted-level-1) 1pt solid;\n",
       "  color: var(--sklearn-color-fitted-level-1);\n",
       "}\n",
       "\n",
       "/* On hover */\n",
       "#sk-container-id-2 a.estimator_doc_link:hover {\n",
       "  /* unfitted */\n",
       "  background-color: var(--sklearn-color-unfitted-level-3);\n",
       "  color: var(--sklearn-color-background);\n",
       "  text-decoration: none;\n",
       "}\n",
       "\n",
       "#sk-container-id-2 a.estimator_doc_link.fitted:hover {\n",
       "  /* fitted */\n",
       "  background-color: var(--sklearn-color-fitted-level-3);\n",
       "}\n",
       "</style><div id=\"sk-container-id-2\" class=\"sk-top-container\"><div class=\"sk-text-repr-fallback\"><pre>BalancedRandomForestClassifier(bootstrap=True, random_state=42,\n",
       "                               replacement=False, sampling_strategy=&#x27;auto&#x27;)</pre><b>In a Jupyter environment, please rerun this cell to show the HTML representation or trust the notebook. <br />On GitHub, the HTML representation is unable to render, please try loading this page with nbviewer.org.</b></div><div class=\"sk-container\" hidden><div class=\"sk-item\"><div class=\"sk-estimator fitted sk-toggleable\"><input class=\"sk-toggleable__control sk-hidden--visually\" id=\"sk-estimator-id-2\" type=\"checkbox\" checked><label for=\"sk-estimator-id-2\" class=\"sk-toggleable__label fitted sk-toggleable__label-arrow fitted\">&nbsp;BalancedRandomForestClassifier<span class=\"sk-estimator-doc-link fitted\">i<span>Fitted</span></span></label><div class=\"sk-toggleable__content fitted\"><pre>BalancedRandomForestClassifier(bootstrap=True, random_state=42,\n",
       "                               replacement=False, sampling_strategy=&#x27;auto&#x27;)</pre></div> </div></div></div></div>"
      ],
      "text/plain": [
       "BalancedRandomForestClassifier(bootstrap=True, random_state=42,\n",
       "                               replacement=False, sampling_strategy='auto')"
      ]
     },
     "execution_count": 31,
     "metadata": {},
     "output_type": "execute_result"
    }
   ],
   "source": [
    "from imblearn.ensemble import BalancedRandomForestClassifier\n",
    "\n",
    "# Train the Balanced Random Forest Classifier with explicit parameters\n",
    "brf_classifier = BalancedRandomForestClassifier(random_state=42, sampling_strategy='auto', replacement=False, bootstrap=True)\n",
    "brf_classifier.fit(X_train_sc, y_train)"
   ]
  },
  {
   "cell_type": "markdown",
   "metadata": {
    "id": "WAX_LPa9PClZ"
   },
   "source": [
    "**Predict and Evaluate the Model**\n",
    "\n",
    "- Predict on the training and testing set and calculate the accuracy."
   ]
  },
  {
   "cell_type": "code",
   "execution_count": 32,
   "metadata": {
    "id": "WznUwuUWvFdz"
   },
   "outputs": [],
   "source": [
    "# Predict on training set\n",
    "y_train_pred = brf_classifier.predict(X_train_sc)\n",
    "train_accuracy = accuracy_score(y_train, y_train_pred)\n",
    "\n",
    "# Predict on testing set\n",
    "y_test_pred = brf_classifier.predict(X_test_sc)\n",
    "test_accuracy = accuracy_score(y_test, y_test_pred)"
   ]
  },
  {
   "cell_type": "markdown",
   "metadata": {
    "id": "shTNm4WrPaGn"
   },
   "source": [
    "**Evaluate the Model Using Precision, Recall, and F1 Score**\n",
    "- `cross_val_score` performs cross-validation, which is a technique to assess the generalizability of the model."
   ]
  },
  {
   "cell_type": "code",
   "execution_count": 33,
   "metadata": {
    "colab": {
     "base_uri": "https://localhost:8080/"
    },
    "executionInfo": {
     "elapsed": 411,
     "status": "ok",
     "timestamp": 1718544954870,
     "user": {
      "displayName": "Aleena Raj",
      "userId": "16635257578699511263"
     },
     "user_tz": -330
    },
    "id": "JpUXPw6MwIWk",
    "outputId": "ec7688e1-50a8-4f6d-97e8-74ca4afb59c9"
   },
   "outputs": [
    {
     "name": "stdout",
     "output_type": "stream",
     "text": [
      "Train Accuracy: 0.9883333333333333\n",
      "Test Accuracy: 0.98125\n"
     ]
    }
   ],
   "source": [
    "print(f'Train Accuracy: {train_accuracy}')\n",
    "print(f'Test Accuracy: {test_accuracy}')\n"
   ]
  },
  {
   "cell_type": "code",
   "execution_count": 35,
   "metadata": {
    "colab": {
     "base_uri": "https://localhost:8080/"
    },
    "executionInfo": {
     "elapsed": 3226,
     "status": "ok",
     "timestamp": 1718545153179,
     "user": {
      "displayName": "Aleena Raj",
      "userId": "16635257578699511263"
     },
     "user_tz": -330
    },
    "id": "Go6Ewc_6Q0U5",
    "outputId": "8141abb1-8551-41ee-900c-80acf9d626ad"
   },
   "outputs": [
    {
     "name": "stdout",
     "output_type": "stream",
     "text": [
      "Cross-validation Accuracy: 0.9865\n",
      "              precision    recall  f1-score   support\n",
      "\n",
      "           0       1.00      0.98      0.99       792\n",
      "           1       0.35      1.00      0.52         8\n",
      "\n",
      "    accuracy                           0.98       800\n",
      "   macro avg       0.67      0.99      0.75       800\n",
      "weighted avg       0.99      0.98      0.99       800\n",
      "\n"
     ]
    }
   ],
   "source": [
    "# Define the pipeline with explicit parameters to avoid FutureWarnings\n",
    "pipeline = Pipeline([\n",
    "    ('scaler', StandardScaler()),\n",
    "    ('classifier', BalancedRandomForestClassifier(random_state=42, sampling_strategy='auto', replacement=False, bootstrap=True))\n",
    "])\n",
    "\n",
    "# Perform cross-validation using the entire dataset\n",
    "cv = StratifiedKFold(n_splits=5, shuffle=True, random_state=42)\n",
    "cv_scores = cross_val_score(pipeline, X, y, cv=cv, scoring='accuracy')\n",
    "print(f'Cross-validation Accuracy: {cv_scores.mean()}')\n",
    "\n",
    "# Fit the pipeline and evaluate the model using precision, recall, and F1 score\n",
    "pipeline.fit(X_train, y_train)\n",
    "y_test_pred = pipeline.predict(X_test)\n",
    "print(classification_report(y_test, y_test_pred))"
   ]
  },
  {
   "cell_type": "markdown",
   "metadata": {
    "id": "pBl8u9E5Qvh7"
   },
   "source": [
    "**Conclusion:**\n",
    "\n",
    "In this lesson, we explored various strategies for handling imbalanced data in classification tasks. We introduced the concept of imbalanced data and demonstrated oversampling techniques like SMOTE and undersampling techniques such as Random Undersampling. Additionally, we covered ensemble methods like the Balanced Random Forest, which effectively balance class distribution during training. These techniques collectively enhance model performance and ensure more accurate predictions for minority classes."
   ]
  }
 ],
 "metadata": {
  "colab": {
   "provenance": []
  },
  "kernelspec": {
   "display_name": "Python 3 [3.10]",
   "language": "python",
   "name": "python3"
  },
  "language_info": {
   "codemirror_mode": {
    "name": "ipython",
    "version": 3
   },
   "file_extension": ".py",
   "mimetype": "text/x-python",
   "name": "python",
   "nbconvert_exporter": "python",
   "pygments_lexer": "ipython3",
   "version": "3.10.2"
  }
 },
 "nbformat": 4,
 "nbformat_minor": 4
}
