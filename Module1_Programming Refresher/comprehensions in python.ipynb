{
 "cells": [
  {
   "cell_type": "raw",
   "id": "0d232e64",
   "metadata": {},
   "source": [
    "Comprehensions in Python are used to generate new sequences based on existing sequences. In Python, we have comprehensions for lists, dictionaries, sets and generators. The type of the existing (original) sequence and new sequence need not be the same. For instance, you can create a new dictionary from an existing list using comprehensions.\n",
    "\n",
    "It basically a way of writing a concise code block to generate a sequence which can be a list, dictionary, set or a generator by using another sequence. It may involve multiple steps of conversion between different types of sequences."
   ]
  },
  {
   "cell_type": "raw",
   "id": "e856f8af",
   "metadata": {},
   "source": [
    "#python supports 4 type of Comprehensions\n",
    "1. list Comprehensions\n",
    "2. dict Comprehensions\n",
    "3. set Comprehensions\n",
    "4. generator Comprehensions"
   ]
  },
  {
   "cell_type": "code",
   "execution_count": 2,
   "id": "f19f93b6",
   "metadata": {},
   "outputs": [
    {
     "name": "stdout",
     "output_type": "stream",
     "text": [
      "[4, 7, 9, 4, 5, 12]\n"
     ]
    }
   ],
   "source": [
    "#list comprehension\n",
    "l1 = [2,5,7,2,3,10]\n",
    "new_list = [i+2 for i in l1]\n",
    "print(new_list)"
   ]
  },
  {
   "cell_type": "code",
   "execution_count": 6,
   "id": "44b16748",
   "metadata": {},
   "outputs": [
    {
     "name": "stdout",
     "output_type": "stream",
     "text": [
      "{0: 3, 1: 4, 2: 5, 3: 6, 4: 7}\n"
     ]
    }
   ],
   "source": [
    "# dict comprehension\n",
    "l2 = [x for x in range(5)]\n",
    "new_dict = {i:i+3 for i in l2}\n",
    "print(new_dict)"
   ]
  },
  {
   "cell_type": "code",
   "execution_count": 9,
   "id": "a203cb37",
   "metadata": {},
   "outputs": [
    {
     "data": {
      "text/plain": [
       "{0: 0, 1: 1, 2: 4, 3: 9, 4: 16}"
      ]
     },
     "execution_count": 9,
     "metadata": {},
     "output_type": "execute_result"
    }
   ],
   "source": [
    "square_dict = {num:num*num for num in range(5)}\n",
    "square_dict"
   ]
  },
  {
   "cell_type": "code",
   "execution_count": 11,
   "id": "07f74a43",
   "metadata": {},
   "outputs": [
    {
     "name": "stdout",
     "output_type": "stream",
     "text": [
      "[0, 1, 2, 3, 4]\n",
      "['jan', 'feb', 'mar', 'apr', 'may']\n",
      "{0: 'jan', 1: 'feb', 2: 'mar', 3: 'apr', 4: 'may'}\n"
     ]
    }
   ],
   "source": [
    "lst1 = [x for x in range(5)]\n",
    "lst2 = ['jan','feb','mar','apr','may']\n",
    "print(lst1)\n",
    "print(lst2)\n",
    "new_dict1 = {key:value for (key,value) in zip(lst1,lst2)}\n",
    "print(new_dict1)"
   ]
  },
  {
   "cell_type": "code",
   "execution_count": 14,
   "id": "2650be64",
   "metadata": {},
   "outputs": [
    {
     "data": {
      "text/plain": [
       "{}"
      ]
     },
     "execution_count": 14,
     "metadata": {},
     "output_type": "execute_result"
    }
   ],
   "source": [
    "lst2\n",
    "sample = {i: len(i) for i in lst2 if len(i)>5}\n",
    "sample"
   ]
  },
  {
   "cell_type": "code",
   "execution_count": 16,
   "id": "13827ca9",
   "metadata": {},
   "outputs": [
    {
     "name": "stdout",
     "output_type": "stream",
     "text": [
      "{0, 1, 2, 3, 4, 5, 6, 7}\n",
      "{5, 6, 7, 8, 9, 10, 11, 12}\n"
     ]
    }
   ],
   "source": [
    "#set comprehension\n",
    "given_set = {x for x in range(8)}\n",
    "print(given_set)\n",
    "new_set = {var+5 for var in given_set}\n",
    "print(new_set)"
   ]
  },
  {
   "cell_type": "code",
   "execution_count": 20,
   "id": "88744220",
   "metadata": {},
   "outputs": [
    {
     "name": "stdout",
     "output_type": "stream",
     "text": [
      "[2, 4, 6, 8]\n",
      "5 7 9 11 "
     ]
    }
   ],
   "source": [
    "given_list = [x for x in range(2,10,2)]\n",
    "print(given_list)\n",
    "new_value = (var+3 for var in given_list)\n",
    "for i in new_value:\n",
    "    print(i,end=\" \")"
   ]
  },
  {
   "cell_type": "code",
   "execution_count": null,
   "id": "2d4a37d3",
   "metadata": {},
   "outputs": [],
   "source": []
  }
 ],
 "metadata": {
  "kernelspec": {
   "display_name": "Python 3 (ipykernel)",
   "language": "python",
   "name": "python3"
  },
  "language_info": {
   "codemirror_mode": {
    "name": "ipython",
    "version": 3
   },
   "file_extension": ".py",
   "mimetype": "text/x-python",
   "name": "python",
   "nbconvert_exporter": "python",
   "pygments_lexer": "ipython3",
   "version": "3.9.12"
  }
 },
 "nbformat": 4,
 "nbformat_minor": 5
}
