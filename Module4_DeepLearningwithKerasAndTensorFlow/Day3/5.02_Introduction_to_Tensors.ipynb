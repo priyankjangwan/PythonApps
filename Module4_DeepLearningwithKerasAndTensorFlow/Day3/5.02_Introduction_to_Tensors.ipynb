{
 "cells": [
  {
   "cell_type": "markdown",
   "metadata": {
    "id": "B7PI2SQx_jt6"
   },
   "source": [
    "# __Introduction to Tensors__\n",
    "\n",
    "Tensors are fundamental data structures in deep learning and are similar to multi-dimensional arrays. They are a generalization of vectors and matrices to higher dimensions and provide a way to represent and manipulate numerical data efficiently.\n",
    "\n",
    "Tensors can be seen as containers for numerical data that can be organized into a specific shape or size.\n",
    "\n",
    "Let's understand how it works."
   ]
  },
  {
   "cell_type": "markdown",
   "metadata": {
    "id": "GBtOK10kGJ5w"
   },
   "source": [
    "\n",
    "## Steps to be followed:\n",
    "1. Import the required libraries\n",
    "2. Create the rank zero Tensor\n",
    "3. Create the rank one Tensor\n",
    "4. Create the rank two Tensor\n",
    "5. Create the rank three Tensor\n",
    "6. Convert a Tensor to a NumPy array\n",
    "7. Perform basic mathematics with Tensors\n",
    "8. Initialize the Tensor\n",
    "9. Broadcast the x and y variables"
   ]
  },
  {
   "cell_type": "markdown",
   "metadata": {
    "id": "isZckyAI9bz7"
   },
   "source": [
    "### Step 1: Import the required libraries\n",
    "\n",
    "- Import two libraries, TensorFlow and NumPy.\n",
    "- TensorFlow is a popular open-source machine learning framework that provides a set of tools and functionalities for building and training machine learning models.\n",
    "- NumPy is a Python library for numerical computations that provide support for handling multi-dimensional arrays and mathematical operations on them."
   ]
  },
  {
   "cell_type": "code",
   "execution_count": 1,
   "metadata": {},
   "outputs": [
    {
     "name": "stdout",
     "output_type": "stream",
     "text": [
      "Defaulting to user installation because normal site-packages is not writeable\n",
      "Requirement already satisfied: tensorflow==2.17.0 in ./.local/lib/python3.10/site-packages (2.17.0)\n",
      "Requirement already satisfied: scikeras==0.13.0 in ./.local/lib/python3.10/site-packages (0.13.0)\n",
      "Requirement already satisfied: keras==3.2.0 in ./.local/lib/python3.10/site-packages (3.2.0)\n",
      "Requirement already satisfied: absl-py>=1.0.0 in /usr/local/lib/python3.10/site-packages (from tensorflow==2.17.0) (1.4.0)\n",
      "Requirement already satisfied: astunparse>=1.6.0 in /usr/local/lib/python3.10/site-packages (from tensorflow==2.17.0) (1.6.3)\n",
      "Requirement already satisfied: flatbuffers>=24.3.25 in ./.local/lib/python3.10/site-packages (from tensorflow==2.17.0) (24.3.25)\n",
      "Requirement already satisfied: gast!=0.5.0,!=0.5.1,!=0.5.2,>=0.2.1 in /usr/local/lib/python3.10/site-packages (from tensorflow==2.17.0) (0.4.0)\n",
      "Requirement already satisfied: google-pasta>=0.1.1 in /usr/local/lib/python3.10/site-packages (from tensorflow==2.17.0) (0.2.0)\n",
      "Requirement already satisfied: h5py>=3.10.0 in ./.local/lib/python3.10/site-packages (from tensorflow==2.17.0) (3.12.1)\n",
      "Requirement already satisfied: libclang>=13.0.0 in /usr/local/lib/python3.10/site-packages (from tensorflow==2.17.0) (14.0.1)\n",
      "Requirement already satisfied: ml-dtypes<0.5.0,>=0.3.1 in ./.local/lib/python3.10/site-packages (from tensorflow==2.17.0) (0.4.1)\n",
      "Requirement already satisfied: opt-einsum>=2.3.2 in /usr/local/lib/python3.10/site-packages (from tensorflow==2.17.0) (3.3.0)\n",
      "Requirement already satisfied: packaging in /usr/local/lib/python3.10/site-packages (from tensorflow==2.17.0) (22.0)\n",
      "Requirement already satisfied: protobuf!=4.21.0,!=4.21.1,!=4.21.2,!=4.21.3,!=4.21.4,!=4.21.5,<5.0.0dev,>=3.20.3 in /usr/local/lib/python3.10/site-packages (from tensorflow==2.17.0) (3.20.3)\n",
      "Requirement already satisfied: requests<3,>=2.21.0 in /usr/local/lib/python3.10/site-packages (from tensorflow==2.17.0) (2.28.1)\n",
      "Requirement already satisfied: setuptools in /usr/local/lib/python3.10/site-packages (from tensorflow==2.17.0) (58.1.0)\n",
      "Requirement already satisfied: six>=1.12.0 in /usr/local/lib/python3.10/site-packages (from tensorflow==2.17.0) (1.16.0)\n",
      "Requirement already satisfied: termcolor>=1.1.0 in /usr/local/lib/python3.10/site-packages (from tensorflow==2.17.0) (1.1.0)\n",
      "Requirement already satisfied: typing-extensions>=3.6.6 in ./.local/lib/python3.10/site-packages (from tensorflow==2.17.0) (4.12.2)\n",
      "Requirement already satisfied: wrapt>=1.11.0 in /usr/local/lib/python3.10/site-packages (from tensorflow==2.17.0) (1.14.1)\n",
      "Requirement already satisfied: grpcio<2.0,>=1.24.3 in /usr/local/lib/python3.10/site-packages (from tensorflow==2.17.0) (1.56.2)\n",
      "Requirement already satisfied: tensorboard<2.18,>=2.17 in ./.local/lib/python3.10/site-packages (from tensorflow==2.17.0) (2.17.1)\n",
      "Requirement already satisfied: tensorflow-io-gcs-filesystem>=0.23.1 in /usr/local/lib/python3.10/site-packages (from tensorflow==2.17.0) (0.26.0)\n",
      "Requirement already satisfied: numpy<2.0.0,>=1.23.5 in /usr/local/lib/python3.10/site-packages (from tensorflow==2.17.0) (1.23.5)\n",
      "Requirement already satisfied: scikit-learn>=1.4.2 in ./.local/lib/python3.10/site-packages (from scikeras==0.13.0) (1.5.2)\n",
      "Requirement already satisfied: rich in /usr/local/lib/python3.10/site-packages (from keras==3.2.0) (13.5.3)\n",
      "Requirement already satisfied: namex in /usr/local/lib/python3.10/site-packages (from keras==3.2.0) (0.0.7)\n",
      "Requirement already satisfied: optree in ./.local/lib/python3.10/site-packages (from keras==3.2.0) (0.13.0)\n",
      "Requirement already satisfied: wheel<1.0,>=0.23.0 in /usr/local/lib/python3.10/site-packages (from astunparse>=1.6.0->tensorflow==2.17.0) (0.37.1)\n",
      "Requirement already satisfied: charset-normalizer<3,>=2 in /usr/local/lib/python3.10/site-packages (from requests<3,>=2.21.0->tensorflow==2.17.0) (2.1.0)\n",
      "Requirement already satisfied: idna<4,>=2.5 in /usr/local/lib/python3.10/site-packages (from requests<3,>=2.21.0->tensorflow==2.17.0) (3.3)\n",
      "Requirement already satisfied: urllib3<1.27,>=1.21.1 in /usr/local/lib/python3.10/site-packages (from requests<3,>=2.21.0->tensorflow==2.17.0) (1.26.9)\n",
      "Requirement already satisfied: certifi>=2017.4.17 in /usr/local/lib/python3.10/site-packages (from requests<3,>=2.21.0->tensorflow==2.17.0) (2022.6.15)\n",
      "Requirement already satisfied: scipy>=1.6.0 in /usr/local/lib/python3.10/site-packages (from scikit-learn>=1.4.2->scikeras==0.13.0) (1.9.3)\n",
      "Requirement already satisfied: joblib>=1.2.0 in /usr/local/lib/python3.10/site-packages (from scikit-learn>=1.4.2->scikeras==0.13.0) (1.2.0)\n",
      "Requirement already satisfied: threadpoolctl>=3.1.0 in /usr/local/lib/python3.10/site-packages (from scikit-learn>=1.4.2->scikeras==0.13.0) (3.1.0)\n",
      "Requirement already satisfied: markdown>=2.6.8 in /usr/local/lib/python3.10/site-packages (from tensorboard<2.18,>=2.17->tensorflow==2.17.0) (3.3.7)\n",
      "Requirement already satisfied: tensorboard-data-server<0.8.0,>=0.7.0 in /usr/local/lib/python3.10/site-packages (from tensorboard<2.18,>=2.17->tensorflow==2.17.0) (0.7.1)\n",
      "Requirement already satisfied: werkzeug>=1.0.1 in /usr/local/lib/python3.10/site-packages (from tensorboard<2.18,>=2.17->tensorflow==2.17.0) (2.1.2)\n",
      "Requirement already satisfied: markdown-it-py>=2.2.0 in /usr/local/lib/python3.10/site-packages (from rich->keras==3.2.0) (3.0.0)\n",
      "Requirement already satisfied: pygments<3.0.0,>=2.13.0 in /usr/local/lib/python3.10/site-packages (from rich->keras==3.2.0) (2.16.1)\n",
      "Requirement already satisfied: mdurl~=0.1 in /usr/local/lib/python3.10/site-packages (from markdown-it-py>=2.2.0->rich->keras==3.2.0) (0.1.1)\n",
      "\n",
      "\u001b[1m[\u001b[0m\u001b[34;49mnotice\u001b[0m\u001b[1;39;49m]\u001b[0m\u001b[39;49m A new release of pip is available: \u001b[0m\u001b[31;49m23.3\u001b[0m\u001b[39;49m -> \u001b[0m\u001b[32;49m24.3.1\u001b[0m\n",
      "\u001b[1m[\u001b[0m\u001b[34;49mnotice\u001b[0m\u001b[1;39;49m]\u001b[0m\u001b[39;49m To update, run: \u001b[0m\u001b[32;49mpip install --upgrade pip\u001b[0m\n"
     ]
    }
   ],
   "source": [
    "!pip install tensorflow==2.17.0 scikeras==0.13.0 keras==3.2.0"
   ]
  },
  {
   "cell_type": "code",
   "execution_count": 3,
   "metadata": {},
   "outputs": [],
   "source": [
    "# Disable oneDNN optimizations to avoid potential minor numerical differences caused by floating-point round-off errors.\n",
    "import os\n",
    "os.environ['TF_ENABLE_ONEDNN_OPTS'] = '0'"
   ]
  },
  {
   "cell_type": "code",
   "execution_count": 4,
   "metadata": {
    "executionInfo": {
     "elapsed": 11282,
     "status": "ok",
     "timestamp": 1719078974360,
     "user": {
      "displayName": "Aleena Raj",
      "userId": "16635257578699511263"
     },
     "user_tz": -330
    },
    "id": "ach49P7l_juE"
   },
   "outputs": [],
   "source": [
    "# Import TensorFlow and NumPy libraries\n",
    "import tensorflow as tf\n",
    "import numpy as np"
   ]
  },
  {
   "cell_type": "markdown",
   "metadata": {
    "id": "CYnY3-Y19k1J"
   },
   "source": [
    "### Step 2: Create the rank zero Tensor\n",
    "- The rank is also known as order, degree, or ndims.\n",
    "- The **tf.constant(4)** creates a constant Tensor with a single value of **4**.\n",
    "- The **tf.constant()** function is used to create Tensors with fixed values that cannot be changed.\n",
    "- The **rank_0_tensor** variable holds the created Tensor.\n",
    "- The **print(rank_0_tensor)** prints the value of the Tensor, which,  in this case, is __4__."
   ]
  },
  {
   "cell_type": "code",
   "execution_count": 2,
   "metadata": {
    "colab": {
     "base_uri": "https://localhost:8080/"
    },
    "executionInfo": {
     "elapsed": 446,
     "status": "ok",
     "timestamp": 1719079007756,
     "user": {
      "displayName": "Aleena Raj",
      "userId": "16635257578699511263"
     },
     "user_tz": -330
    },
    "id": "HyyOZlU1_juG",
    "outputId": "c14e35de-cc1b-4e26-89cc-151b1f57fcd9"
   },
   "outputs": [
    {
     "name": "stdout",
     "output_type": "stream",
     "text": [
      "tf.Tensor(4, shape=(), dtype=int32)\n"
     ]
    }
   ],
   "source": [
    "# Create a rank 0 tensor (scalar) with a constant value of 4\n",
    "rank_0_tensor = tf.constant(4)\n",
    "# Print the rank 0 tensor\n",
    "print(rank_0_tensor)"
   ]
  },
  {
   "cell_type": "markdown",
   "metadata": {
    "id": "j1JI6EXlAZXy"
   },
   "source": [
    "**Observation:**\n",
    "\n",
    "- As seen above, the output represents a TensorFlow Tensor object with a value of 4, an empty shape, and an **int32** data type."
   ]
  },
  {
   "cell_type": "markdown",
   "metadata": {
    "id": "2afvyRhV-Oo6"
   },
   "source": [
    "### Step 3: Create the rank one Tensor\n",
    "- Define a rank one Tensor in TensorFlow with the values **[2.0, 4.0, 5.0]** and print the Tensor object."
   ]
  },
  {
   "cell_type": "code",
   "execution_count": 3,
   "metadata": {
    "colab": {
     "base_uri": "https://localhost:8080/"
    },
    "executionInfo": {
     "elapsed": 648,
     "status": "ok",
     "timestamp": 1719079064770,
     "user": {
      "displayName": "Aleena Raj",
      "userId": "16635257578699511263"
     },
     "user_tz": -330
    },
    "id": "wa5FzllE_juI",
    "outputId": "38cd6fc7-b90b-460d-d35d-48cd62641049"
   },
   "outputs": [
    {
     "name": "stdout",
     "output_type": "stream",
     "text": [
      "tf.Tensor([2. 4. 5.], shape=(3,), dtype=float32)\n"
     ]
    }
   ],
   "source": [
    "# Create a rank 1 tensor (vector) with values [2.0, 4.0, 5.0]\n",
    "rank_1_tensor = tf.constant([2.0, 4.0, 5.0])\n",
    "# Print the rank 1 tensor\n",
    "print(rank_1_tensor)"
   ]
  },
  {
   "cell_type": "markdown",
   "metadata": {
    "id": "rSQrZqmR-l9q"
   },
   "source": [
    "**Observations:**\n",
    "\n",
    "- As seen above, the output represents a one-dimensional Tensor with three elements: **2.0**, **4.0**, and **5.0**.\n",
    "- The shape of the Tensor is **(3, ),** indicating that it has a size of 3 along the first dimension.\n",
    "- The dtype of the Tensor is **float32**, indicating that the elements are of type float."
   ]
  },
  {
   "cell_type": "markdown",
   "metadata": {
    "id": "g25g1XP_An3y"
   },
   "source": [
    "### Step 4: Create the rank two Tensor\n",
    "- Create a rank two Tensor, which is a two-dimensional array, using the **tf.constant** function.\n",
    "- The Tensor has a shape of (3, 2), meaning it has three rows and two columns, and the elements of the Tensor are specified as [1, 2], [3, 4], and [5, 6]."
   ]
  },
  {
   "cell_type": "code",
   "execution_count": 4,
   "metadata": {
    "colab": {
     "base_uri": "https://localhost:8080/"
    },
    "executionInfo": {
     "elapsed": 411,
     "status": "ok",
     "timestamp": 1719079089296,
     "user": {
      "displayName": "Aleena Raj",
      "userId": "16635257578699511263"
     },
     "user_tz": -330
    },
    "id": "RhM6gM6G_juJ",
    "outputId": "78908e70-7148-416a-e67e-ed28ce132646"
   },
   "outputs": [
    {
     "name": "stdout",
     "output_type": "stream",
     "text": [
      "tf.Tensor(\n",
      "[[1. 2.]\n",
      " [3. 4.]\n",
      " [5. 6.]], shape=(3, 2), dtype=float16)\n"
     ]
    }
   ],
   "source": [
    "# Create a rank 2 tensor (matrix) with shape (3, 2) and specified values\n",
    "rank_2_tensor = tf.constant([[1, 2],\n",
    "                             [3, 4],\n",
    "                             [5, 6]], dtype=tf.float16)\n",
    "# Print the rank 2 tensor\n",
    "print(rank_2_tensor)"
   ]
  },
  {
   "cell_type": "markdown",
   "metadata": {
    "id": "a8JbUi77CaED"
   },
   "source": [
    "**Observations:**\n",
    "\n",
    "- The output represents a rank two Tensor with a shape of (3, 2) and a dtype of float16. The Tensor contains the following elements arranged in a 3x2 matrix, as seen above.\n",
    "- Each element of the Tensor is a floating-point number with a precision of 16 bits."
   ]
  },
  {
   "cell_type": "markdown",
   "metadata": {
    "id": "OnXyU9HtClH8"
   },
   "source": [
    "### Step 5: Create the rank three Tensor\n",
    "\n",
    "- Define a rank three Tensor with a shape of (3, 2, 5), indicating three layers, each containing two rows and five columns.\n",
    "- The Tensor represents a 3D array of integers, where each element corresponds to a specific position within the layers, rows, and columns.\n",
    "- The values increase sequentially from __0__ to __29__, arranged in a structured pattern within the Tensor.\n",
    "\n"
   ]
  },
  {
   "cell_type": "code",
   "execution_count": 5,
   "metadata": {
    "colab": {
     "base_uri": "https://localhost:8080/"
    },
    "executionInfo": {
     "elapsed": 453,
     "status": "ok",
     "timestamp": 1719079113635,
     "user": {
      "displayName": "Aleena Raj",
      "userId": "16635257578699511263"
     },
     "user_tz": -330
    },
    "id": "170HM4-o_juK",
    "outputId": "5f588455-6157-4a03-e12e-01c3d3f9361a"
   },
   "outputs": [
    {
     "name": "stdout",
     "output_type": "stream",
     "text": [
      "tf.Tensor(\n",
      "[[[ 0  1  2  3  4]\n",
      "  [ 5  6  7  8  9]]\n",
      "\n",
      " [[10 11 12 13 14]\n",
      "  [15 16 17 18 19]]\n",
      "\n",
      " [[20 21 22 23 24]\n",
      "  [25 26 27 28 29]]], shape=(3, 2, 5), dtype=int32)\n"
     ]
    }
   ],
   "source": [
    "# Create a rank 3 tensor with shape (3, 2, 5) and sequential values from 0 to 29\n",
    "rank_3_tensor = tf.constant([\n",
    "  [[0, 1, 2, 3, 4],\n",
    "   [5, 6, 7, 8, 9]],\n",
    "  [[10, 11, 12, 13, 14],\n",
    "   [15, 16, 17, 18, 19]],\n",
    "  [[20, 21, 22, 23, 24],\n",
    "   [25, 26, 27, 28, 29]],])\n",
    "# Print the rank 3 tensor\n",
    "print(rank_3_tensor)"
   ]
  },
  {
   "cell_type": "markdown",
   "metadata": {
    "id": "ieyDUIv2C10S"
   },
   "source": [
    "**Observations:**\n",
    "- The output represents a rank three Tensor with a shape of (3, 2, 5) and a data type of int32.\n",
    "- It contains three layers, each consisting of two rows and five columns, with integer values ranging from 0 to 29 arranged in a structured pattern within the Tensor."
   ]
  },
  {
   "cell_type": "markdown",
   "metadata": {
    "id": "POSaM8a6DMlW"
   },
   "source": [
    "### Step 6: Convert a Tensor to a NumPy array\n",
    "\n",
    "- Convert the rank two array present here to a NumPy array.\n",
    "- The Tensors often contain float datatype."
   ]
  },
  {
   "cell_type": "code",
   "execution_count": 6,
   "metadata": {
    "colab": {
     "base_uri": "https://localhost:8080/"
    },
    "executionInfo": {
     "elapsed": 427,
     "status": "ok",
     "timestamp": 1719079136644,
     "user": {
      "displayName": "Aleena Raj",
      "userId": "16635257578699511263"
     },
     "user_tz": -330
    },
    "id": "xIPTAmNK_juM",
    "outputId": "0f572c47-19e8-4fa5-b6c5-b1255b5cca72"
   },
   "outputs": [
    {
     "data": {
      "text/plain": [
       "array([[1., 2.],\n",
       "       [3., 4.],\n",
       "       [5., 6.]], dtype=float16)"
      ]
     },
     "execution_count": 6,
     "metadata": {},
     "output_type": "execute_result"
    }
   ],
   "source": [
    "# Convert the rank 2 tensor to a NumPy array\n",
    "rank_2_tensor.numpy()"
   ]
  },
  {
   "cell_type": "markdown",
   "metadata": {
    "id": "CEYmU37bHsyW"
   },
   "source": [
    "**Observations:**\n",
    "- The output represents a two-dimensional array (matrix) with a shape of (3, 2) and a data type of float16.\n",
    "- It contains floating-point values ranging from 1.0 to 6.0, organized in three rows and two columns."
   ]
  },
  {
   "cell_type": "markdown",
   "metadata": {
    "id": "XTbYDaW1_juP"
   },
   "source": [
    "### Step 7: Perform basic mathematics on Tensors\n",
    "- Declare two variables **a** and **b**.\n",
    "- The **tf.add(a, b)** operation performs element-wise addition between Tensors a and b.\n",
    "- The **tf.multiply(a, b)** operation performs element-wise multiplication between Tensors a and b.\n",
    "- The **tf.matmul(a, b)** operation performs matrix multiplication between Tensors a and b.\n"
   ]
  },
  {
   "cell_type": "code",
   "execution_count": 7,
   "metadata": {
    "colab": {
     "base_uri": "https://localhost:8080/"
    },
    "executionInfo": {
     "elapsed": 439,
     "status": "ok",
     "timestamp": 1719079170450,
     "user": {
      "displayName": "Aleena Raj",
      "userId": "16635257578699511263"
     },
     "user_tz": -330
    },
    "id": "ny7yq2tC_juP",
    "outputId": "980218a1-4b89-4aa0-e8c1-33368b770309"
   },
   "outputs": [
    {
     "name": "stdout",
     "output_type": "stream",
     "text": [
      "tf.Tensor(\n",
      "[[2 3]\n",
      " [4 5]], shape=(2, 2), dtype=int32) \n",
      "\n",
      "tf.Tensor(\n",
      "[[1 2]\n",
      " [3 4]], shape=(2, 2), dtype=int32) \n",
      "\n",
      "tf.Tensor(\n",
      "[[3 3]\n",
      " [7 7]], shape=(2, 2), dtype=int32) \n",
      "\n"
     ]
    }
   ],
   "source": [
    "# Declare two 2x2 tensors a and b\n",
    "a = tf.constant([[1, 2],\n",
    "                 [3, 4]])\n",
    "b = tf.constant([[1, 1],\n",
    "                 [1, 1]])\n",
    "\n",
    "# Perform element-wise addition\n",
    "print(tf.add(a, b), \"\\n\")\n",
    "# Perform element-wise multiplication\n",
    "print(tf.multiply(a, b), \"\\n\")\n",
    "# Perform matrix multiplication\n",
    "print(tf.matmul(a, b), \"\\n\")"
   ]
  },
  {
   "cell_type": "markdown",
   "metadata": {
    "id": "jhqr79suIiKq"
   },
   "source": [
    "**Observations:**\n",
    "- Tensors perform element-wise addition and multiplication.\n",
    "- The given output consists of three TensorFlow Tensors, each representing a 2x2 matrix with integer values."
   ]
  },
  {
   "cell_type": "markdown",
   "metadata": {
    "id": "cm8YPfeSJG8e"
   },
   "source": [
    "  ### Step 8: Initialize the Tensor\n",
    "\n",
    "  - The **tf.reduce_max(c)** calculates the maximum value in Tensor c.\n",
    "  - The **tf.math.argmax(c)** returns the index of the maximum value in Tensor c.\n",
    "  - The **tf.nn.softmax(c)** applies the softmax activation function to Tensor c, which computes the probability distribution over the elements of c.\n"
   ]
  },
  {
   "cell_type": "code",
   "execution_count": 9,
   "metadata": {
    "colab": {
     "base_uri": "https://localhost:8080/"
    },
    "executionInfo": {
     "elapsed": 672,
     "status": "ok",
     "timestamp": 1719079232432,
     "user": {
      "displayName": "Aleena Raj",
      "userId": "16635257578699511263"
     },
     "user_tz": -330
    },
    "id": "Tw2QlcIo_juR",
    "outputId": "1d6c8663-9e1e-42e3-d4cd-eb953ab1b3d7"
   },
   "outputs": [
    {
     "name": "stdout",
     "output_type": "stream",
     "text": [
      "tf.Tensor(10.0, shape=(), dtype=float32)\n",
      "tf.Tensor([1 0], shape=(2,), dtype=int64)\n",
      "tf.Tensor(\n",
      "[[2.6894143e-01 7.3105860e-01]\n",
      " [9.9987662e-01 1.2339458e-04]], shape=(2, 2), dtype=float32)\n"
     ]
    }
   ],
   "source": [
    "# Initialize a tensor c with specified values\n",
    "c = tf.constant([[4.0, 5.0], [10.0, 1.0]])\n",
    "# Calculate the maximum value in tensor c\n",
    "print(tf.reduce_max(c))\n",
    "# Find the index of the maximum value in tensor c\n",
    "print(tf.math.argmax(c))\n",
    "# Apply the softmax function to tensor c\n",
    "print(tf.nn.softmax(c))"
   ]
  },
  {
   "cell_type": "markdown",
   "metadata": {
    "id": "Y4cvG_bjKElL"
   },
   "source": [
    "**Observation:**\n",
    "- It calculates the maximum value in Tensor c, finds the indices of the maximum values, and applies the softmax function to obtain a probability distribution Tensor."
   ]
  },
  {
   "cell_type": "markdown",
   "metadata": {
    "id": "HGITiYMuKhSK"
   },
   "source": [
    "### Step 9: Broadcast the X and Y variables\n",
    "- Broadcast the two variables **x** and **y**.\n",
    "- Smaller Tensors are stretched automatically to fit larger Tensors.\n",
    "- All of these are the same computation.\n",
    "- Perform element-wise multiplication between Tensors x and a scalar value of 2, between Tensors x and scalar y, and between Tensors x and Tensors z."
   ]
  },
  {
   "cell_type": "code",
   "execution_count": 10,
   "metadata": {
    "colab": {
     "base_uri": "https://localhost:8080/"
    },
    "executionInfo": {
     "elapsed": 632,
     "status": "ok",
     "timestamp": 1719079599226,
     "user": {
      "displayName": "Aleena Raj",
      "userId": "16635257578699511263"
     },
     "user_tz": -330
    },
    "id": "vb-uT7Nt_juS",
    "outputId": "25de7fca-46e7-46bd-8898-589b2643ec5d"
   },
   "outputs": [
    {
     "name": "stdout",
     "output_type": "stream",
     "text": [
      "tf.Tensor([2 4 6], shape=(3,), dtype=int32)\n",
      "tf.Tensor([2 4 6], shape=(3,), dtype=int32)\n",
      "tf.Tensor([2 4 6], shape=(3,), dtype=int32)\n"
     ]
    }
   ],
   "source": [
    "# Declare a 1x3 tensor x\n",
    "x = tf.constant([1, 2, 3])\n",
    "\n",
    "# Declare scalar and 1x3 tensor for broadcasting\n",
    "y = tf.constant(2)\n",
    "z = tf.constant([2, 2, 2])\n",
    "\n",
    "# Perform element-wise multiplication with scalar\n",
    "print(tf.multiply(x, 2))\n",
    "# Perform element-wise multiplication with another scalar\n",
    "print(x * y)\n",
    "# Perform element-wise multiplication with another tensor\n",
    "print(x * z)"
   ]
  },
  {
   "cell_type": "markdown",
   "metadata": {
    "id": "rcdFpRN1LQKL"
   },
   "source": [
    "**Observations:**\n",
    "\n",
    "- We can see that even though the shape of y is not the same as that of x, we can still multiply these two variables.\n",
    "- So, this is an example of broadcasting, where smaller Tensors are stretched automatically to fit larger Tensors."
   ]
  },
  {
   "cell_type": "markdown",
   "metadata": {
    "id": "uW239xULLngI"
   },
   "source": [
    "#### Reshaping Tensors"
   ]
  },
  {
   "cell_type": "code",
   "execution_count": 11,
   "metadata": {
    "colab": {
     "base_uri": "https://localhost:8080/"
    },
    "executionInfo": {
     "elapsed": 493,
     "status": "ok",
     "timestamp": 1719079685310,
     "user": {
      "displayName": "Aleena Raj",
      "userId": "16635257578699511263"
     },
     "user_tz": -330
    },
    "id": "FStcPcKn_juT",
    "outputId": "8693022b-70fa-45c8-8ec0-ea22cb9fe65c"
   },
   "outputs": [
    {
     "name": "stdout",
     "output_type": "stream",
     "text": [
      "(3, 1)\n"
     ]
    }
   ],
   "source": [
    "# Create a tensor x with shape (3, 1)\n",
    "x = tf.constant([[1], [2], [3]])\n",
    "# Print the shape of the tensor x\n",
    "print(x.shape)"
   ]
  },
  {
   "cell_type": "markdown",
   "metadata": {
    "id": "sf3hx84WMC5w"
   },
   "source": [
    "**Observation:**\n",
    "- The `shape` function returns a tensor-shaped object that shows the size along each axis."
   ]
  },
  {
   "cell_type": "code",
   "execution_count": 12,
   "metadata": {
    "executionInfo": {
     "elapsed": 4,
     "status": "ok",
     "timestamp": 1719079688025,
     "user": {
      "displayName": "Aleena Raj",
      "userId": "16635257578699511263"
     },
     "user_tz": -330
    },
    "id": "Gm40OfVM_juU"
   },
   "outputs": [],
   "source": [
    "reshaped = tf.reshape(x , [1,3])"
   ]
  },
  {
   "cell_type": "code",
   "execution_count": 13,
   "metadata": {
    "colab": {
     "base_uri": "https://localhost:8080/"
    },
    "executionInfo": {
     "elapsed": 431,
     "status": "ok",
     "timestamp": 1719079692210,
     "user": {
      "displayName": "Aleena Raj",
      "userId": "16635257578699511263"
     },
     "user_tz": -330
    },
    "id": "d6SJVa9A_juV",
    "outputId": "f3a99e81-09ab-429f-b602-306007c438a3"
   },
   "outputs": [
    {
     "name": "stdout",
     "output_type": "stream",
     "text": [
      "(3, 1)\n",
      "(1, 3)\n"
     ]
    }
   ],
   "source": [
    "# Print the shapes of the original and reshaped tensors\n",
    "print(x.shape)\n",
    "print(reshaped.shape)"
   ]
  },
  {
   "cell_type": "markdown",
   "metadata": {
    "id": "ObLFSB66MqbC"
   },
   "source": [
    "**Observation:**\n",
    "- The Tensor has been reshaped to the desired dimensions, providing the intended configuration."
   ]
  },
  {
   "cell_type": "markdown",
   "metadata": {
    "id": "Q9oKHndBM7HV"
   },
   "source": [
    "#### Different Types of Tensors\n",
    "- **Ragged Tensor**: Tensor with the variable number of\n",
    "elements along some axes is called Ragged Tensor."
   ]
  },
  {
   "cell_type": "code",
   "execution_count": 14,
   "metadata": {
    "colab": {
     "base_uri": "https://localhost:8080/"
    },
    "executionInfo": {
     "elapsed": 426,
     "status": "ok",
     "timestamp": 1719079694793,
     "user": {
      "displayName": "Aleena Raj",
      "userId": "16635257578699511263"
     },
     "user_tz": -330
    },
    "id": "dctGbtQB_juW",
    "outputId": "6bad58f7-b881-4159-af7a-a0364abf9f7a"
   },
   "outputs": [
    {
     "name": "stdout",
     "output_type": "stream",
     "text": [
      "<tf.RaggedTensor [[0, 1, 2, 3], [4, 5], [6, 7, 8], [9]]>\n"
     ]
    }
   ],
   "source": [
    "# Create a ragged tensor with a variable number of elements along some axes\n",
    "ragged_list = [\n",
    "    [0,1,2,3],\n",
    "    [4,5],\n",
    "    [6,7,8],\n",
    "    [9]]\n",
    "\n",
    "ragged_tensor = tf.ragged.constant(ragged_list)\n",
    "print(ragged_tensor)"
   ]
  },
  {
   "cell_type": "markdown",
   "metadata": {
    "id": "exVngalDNdw7"
   },
   "source": [
    "- **Scalar String Tensor**: It is a datatype, which means that data can be represented as strings (variable-length byte arrays) in Tensors."
   ]
  },
  {
   "cell_type": "code",
   "execution_count": 15,
   "metadata": {
    "colab": {
     "base_uri": "https://localhost:8080/"
    },
    "executionInfo": {
     "elapsed": 5,
     "status": "ok",
     "timestamp": 1719079697549,
     "user": {
      "displayName": "Aleena Raj",
      "userId": "16635257578699511263"
     },
     "user_tz": -330
    },
    "id": "vSgI8dbk_juW",
    "outputId": "2bd6a810-8ae8-4947-cae9-6b83bb4f5c81"
   },
   "outputs": [
    {
     "name": "stdout",
     "output_type": "stream",
     "text": [
      "tf.Tensor(b'gray wolf', shape=(), dtype=string)\n"
     ]
    }
   ],
   "source": [
    "# Create a scalar string tensor\n",
    "scalar_string_tensor = tf.constant(\"gray wolf\")\n",
    "# Print the scalar string tensor\n",
    "print(scalar_string_tensor)"
   ]
  },
  {
   "cell_type": "markdown",
   "metadata": {
    "id": "iyrBuV0uOSRn"
   },
   "source": [
    "**Observation**\n",
    "- We can represent\n",
    "the strings as Tensors.\n"
   ]
  }
 ],
 "metadata": {
  "colab": {
   "provenance": []
  },
  "kernelspec": {
   "display_name": "Python 3 [3.10]",
   "language": "python",
   "name": "python3"
  },
  "language_info": {
   "codemirror_mode": {
    "name": "ipython",
    "version": 3
   },
   "file_extension": ".py",
   "mimetype": "text/x-python",
   "name": "python",
   "nbconvert_exporter": "python",
   "pygments_lexer": "ipython3",
   "version": "3.10.2"
  }
 },
 "nbformat": 4,
 "nbformat_minor": 4
}
