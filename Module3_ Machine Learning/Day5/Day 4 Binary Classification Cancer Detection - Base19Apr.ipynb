{
 "cells": [
  {
   "cell_type": "code",
   "execution_count": null,
   "id": "2f720eac-74b0-4bf9-ba72-e4f3eb5b5417",
   "metadata": {},
   "outputs": [],
   "source": [
    "import pandas as pd\n",
    "import numpy as np"
   ]
  },
  {
   "cell_type": "code",
   "execution_count": null,
   "id": "f69aef9f-9c85-4ce6-b4a9-1608816617bb",
   "metadata": {},
   "outputs": [],
   "source": [
    "df = pd.read_csv(\"Breast_cancer_dataset.csv\")"
   ]
  },
  {
   "cell_type": "code",
   "execution_count": null,
   "id": "648edd39-dcf7-4054-a511-891cb8799dc6",
   "metadata": {},
   "outputs": [],
   "source": [
    "df.head()"
   ]
  },
  {
   "cell_type": "code",
   "execution_count": null,
   "id": "50b49f36-d309-4af7-9451-2ecb95083d98",
   "metadata": {},
   "outputs": [],
   "source": [
    "df.columns"
   ]
  },
  {
   "cell_type": "code",
   "execution_count": null,
   "id": "7bb136d1-3851-454e-aa2b-cf88128dcdac",
   "metadata": {},
   "outputs": [],
   "source": [
    "df.drop(['id','Unnamed: 32'], axis=1, inplace=True)"
   ]
  },
  {
   "cell_type": "code",
   "execution_count": null,
   "id": "fe56d148-298f-4369-b03c-cc3cc885673e",
   "metadata": {},
   "outputs": [],
   "source": [
    "df.head()"
   ]
  },
  {
   "cell_type": "code",
   "execution_count": null,
   "id": "1fda4e6c-5f39-4925-bf0d-6e976085316e",
   "metadata": {},
   "outputs": [],
   "source": [
    "df.isna().sum()"
   ]
  },
  {
   "cell_type": "code",
   "execution_count": null,
   "id": "054aa0db-e85e-4671-94bc-b1f7b8b761c7",
   "metadata": {},
   "outputs": [],
   "source": [
    "df.diagnosis.value_counts()"
   ]
  },
  {
   "cell_type": "code",
   "execution_count": null,
   "id": "60438323-ba6b-482a-932a-eb1cbd647d4b",
   "metadata": {},
   "outputs": [],
   "source": [
    "X = df.drop(['diagnosis'], axis=1)\n",
    "y = df['diagnosis'].map({'M': 1, 'B':0})"
   ]
  },
  {
   "cell_type": "code",
   "execution_count": null,
   "id": "f65369a1-1675-4dde-86df-8e843488c038",
   "metadata": {},
   "outputs": [],
   "source": [
    "y[0:5]"
   ]
  },
  {
   "cell_type": "code",
   "execution_count": null,
   "id": "fbef2a3c-9ccc-4338-9ef3-5a65c337cd03",
   "metadata": {},
   "outputs": [],
   "source": [
    "# Code here: Prepare your Training and Test set, set stratify="
   ]
  },
  {
   "cell_type": "code",
   "execution_count": null,
   "id": "d2b911ac-d427-4e0f-b24c-ba6b74e533a4",
   "metadata": {},
   "outputs": [],
   "source": [
    "print(X_train.shape, X_test.shape, y_train.shape, y_test.shape)"
   ]
  },
  {
   "cell_type": "code",
   "execution_count": null,
   "id": "c22f45d1-7008-4e91-9659-3290db6e471f",
   "metadata": {},
   "outputs": [],
   "source": [
    "# Check for stratification\n",
    "np.sum(y_train)/y_train.shape[0],np.sum(y_test)/y_test.shape[0],np.sum(y)/y.shape[0], "
   ]
  },
  {
   "cell_type": "code",
   "execution_count": null,
   "id": "3a2209ea-1f4b-44bd-a95f-01134fe40cc7",
   "metadata": {},
   "outputs": [],
   "source": [
    "# Code here: Scaling using StandardScaler"
   ]
  },
  {
   "cell_type": "code",
   "execution_count": null,
   "id": "8935a227-5203-4275-962b-77128154093f",
   "metadata": {},
   "outputs": [],
   "source": [
    "# Code here: Import the Logistic Regression Class"
   ]
  },
  {
   "cell_type": "code",
   "execution_count": null,
   "id": "8c2268b4-5239-4cff-b0fc-d12c6cc290d5",
   "metadata": {},
   "outputs": [],
   "source": [
    "# Code here: Create a the model and fit on the training set (logreg_model)"
   ]
  },
  {
   "cell_type": "code",
   "execution_count": null,
   "id": "84af739b-2f90-4421-a28a-7825bd6eb7e8",
   "metadata": {},
   "outputs": [],
   "source": [
    "# Code here: make predictions on the training set and test set , y_logreg_tr_pred, y_logreg_ts_pred"
   ]
  },
  {
   "cell_type": "code",
   "execution_count": null,
   "id": "fd9e8990-0ee1-49ae-b664-47018f1e5721",
   "metadata": {},
   "outputs": [],
   "source": [
    "logreg_ts_df = pd.DataFrame({'Actual': y_test, 'Predicted' : y_logreg_ts_pred})"
   ]
  },
  {
   "cell_type": "code",
   "execution_count": null,
   "id": "f76abb38-a9ad-42b8-8bf6-58daddea862c",
   "metadata": {},
   "outputs": [],
   "source": [
    "logreg_ts_df.head()"
   ]
  },
  {
   "cell_type": "code",
   "execution_count": null,
   "id": "fd0373a8-3243-490c-a527-ce44df925991",
   "metadata": {},
   "outputs": [],
   "source": [
    "# True Negative (TN)\n",
    "tn = logreg_ts_df[(logreg_ts_df.Actual==0) & (logreg_ts_df.Predicted==0)].shape[0]\n",
    "print(tn)"
   ]
  },
  {
   "cell_type": "code",
   "execution_count": null,
   "id": "9419d78f-d658-4ceb-b16e-02e9fa00934a",
   "metadata": {},
   "outputs": [],
   "source": [
    "# True Positive (TP)\n",
    "tp = logreg_ts_df[(logreg_ts_df.Actual==1) & (logreg_ts_df.Predicted==1)].shape[0]\n",
    "print(tp)"
   ]
  },
  {
   "cell_type": "code",
   "execution_count": null,
   "id": "d2761403-b888-45dd-99d6-097ef18a9d5f",
   "metadata": {},
   "outputs": [],
   "source": [
    "# False Negative (FP)\n",
    "fn = logreg_ts_df[(logreg_ts_df.Actual==1) & (logreg_ts_df.Predicted==0)].shape[0]\n",
    "print(fn)"
   ]
  },
  {
   "cell_type": "code",
   "execution_count": null,
   "id": "e64b082b-f380-48c1-988e-c4bbe35c0116",
   "metadata": {},
   "outputs": [],
   "source": [
    "# False Positive (FP)\n",
    "fp = logreg_ts_df[(logreg_ts_df.Actual==0) & (logreg_ts_df.Predicted==1)].shape[0]\n",
    "print(fp)"
   ]
  },
  {
   "cell_type": "code",
   "execution_count": null,
   "id": "cb5f14c8-9066-4d48-a47e-5def5340dd5a",
   "metadata": {},
   "outputs": [],
   "source": [
    "# Code here: Calculate Accuracy"
   ]
  },
  {
   "cell_type": "code",
   "execution_count": null,
   "id": "5b02e0e2-48c9-4d56-9483-cc8b05d16014",
   "metadata": {},
   "outputs": [],
   "source": [
    "# Code here: Calculate Precision"
   ]
  },
  {
   "cell_type": "code",
   "execution_count": null,
   "id": "86a7fb5b-f53a-46ca-bb3b-5292998bc708",
   "metadata": {},
   "outputs": [],
   "source": [
    "# Code here: Calculate Recall"
   ]
  },
  {
   "cell_type": "code",
   "execution_count": null,
   "id": "324a4dfb-f35a-4968-8c0f-ccc956cc40a6",
   "metadata": {},
   "outputs": [],
   "source": [
    "# Code here: Calculate F1 Score"
   ]
  },
  {
   "cell_type": "code",
   "execution_count": null,
   "id": "d3aa0f70-5867-423d-ac12-540843e123b5",
   "metadata": {},
   "outputs": [],
   "source": [
    "print(np.array([[tn, fp],[fn, tp]]))"
   ]
  },
  {
   "cell_type": "code",
   "execution_count": null,
   "id": "66864c20-123e-477d-b2d5-cfa785caf0f9",
   "metadata": {},
   "outputs": [],
   "source": [
    "print(f\"Accuracy {np.round(accuracy*100,2)}%, Precision {np.round(precision*100,2)}%, \\\n",
    "Recall {np.round(recall*100,2)}%, F1 Score {np.round(f1_scr*100,2)}%\")"
   ]
  },
  {
   "cell_type": "code",
   "execution_count": null,
   "id": "4d07322a-96ef-4d4a-9fb0-7b01859d5876",
   "metadata": {},
   "outputs": [],
   "source": [
    "from sklearn.metrics import confusion_matrix, accuracy_score, precision_score, recall_score, f1_score"
   ]
  },
  {
   "cell_type": "code",
   "execution_count": null,
   "id": "fae61bd6-ee29-4366-98a3-9adbdc8e8792",
   "metadata": {},
   "outputs": [],
   "source": [
    "# Code here: Compute Confusion Matrix using sklearn confusion matrix (conf_matrix)"
   ]
  },
  {
   "cell_type": "code",
   "execution_count": null,
   "id": "57e2d925-2aaa-4be9-b5e4-c6b62de103fc",
   "metadata": {},
   "outputs": [],
   "source": [
    "print(conf_matrix)"
   ]
  },
  {
   "cell_type": "code",
   "execution_count": null,
   "id": "c1ec0acc-8fe0-4796-bec2-f095f2ef853d",
   "metadata": {},
   "outputs": [],
   "source": [
    "# Code here: Compute Accuracy, Precision, Recall and F1 Score using sklearn. Name them as sk_acc, sk_prec, sk_rec, sk_f1"
   ]
  },
  {
   "cell_type": "code",
   "execution_count": null,
   "id": "8317fab9-9394-43f3-9ff4-ff183594b78e",
   "metadata": {},
   "outputs": [],
   "source": [
    "print(f\"Accuracy {np.round(sk_acc*100,2)}%, Precision {np.round(sk_prec*100,2)}%, Recall {np.round(sk_rec*100,2)}%, F1 Score {np.round(sk_f1*100,2)}%\")"
   ]
  },
  {
   "cell_type": "code",
   "execution_count": null,
   "id": "6d6ee4a9-e428-46ee-8880-008c7226b001",
   "metadata": {},
   "outputs": [],
   "source": [
    "# Code here: Predict Probabilities y_lr_ts_prob"
   ]
  },
  {
   "cell_type": "code",
   "execution_count": null,
   "id": "24024fd2-9a76-4524-9597-200aa81e468d",
   "metadata": {},
   "outputs": [],
   "source": [
    "from sklearn.metrics import classification_report, roc_curve, auc, roc_auc_score\n",
    "from sklearn.metrics import ConfusionMatrixDisplay\n",
    "import matplotlib.pyplot as plt\n",
    "\n",
    "# Heatmap visualization for confusion matrix\n",
    "cm_display = ConfusionMatrixDisplay(confusion_matrix = conf_matrix, display_labels = [\"benign\", \"malignant\"])\n",
    "\n",
    "# display matrix\n",
    "cm_display.plot()\n",
    "plt.show()"
   ]
  },
  {
   "cell_type": "code",
   "execution_count": null,
   "id": "79f75e91-4174-4ef9-a3ee-7441c8bcd895",
   "metadata": {},
   "outputs": [],
   "source": [
    "# Compute the false positive rate (fpr), true positive rate (tpr), and thresholds for different thresholds\n",
    "fpr, tpr, thresholds = roc_curve(y_test, y_lr_ts_prob[:, 1])\n",
    "\n",
    "# Compute the Area Under the Curve (AUC) for the ROC curve\n",
    "roc_auc = auc(fpr, tpr)\n",
    "\n",
    "# Compute Youden's J statistic for each threshold\n",
    "youden_j = tpr - fpr\n",
    "optimal_threshold_index = np.argmax(youden_j)\n",
    "optimal_threshold = thresholds[optimal_threshold_index]\n",
    "\n",
    "print(f\"Optimal Threshold: {optimal_threshold:.4f}\")\n",
    "\n",
    "# Plot the ROC curve with the optimal threshold marked\n",
    "plt.figure(figsize=(8, 6))\n",
    "plt.plot(fpr, tpr, color='blue', lw=2, label=f'ROC curve (area = {roc_auc:.2f})')\n",
    "plt.scatter(fpr[optimal_threshold_index], tpr[optimal_threshold_index], color='red', marker='o', label=f'Optimal Threshold = {optimal_threshold:.4f}')\n",
    "plt.plot([0, 1], [0, 1], color='grey', lw=2, linestyle='--')\n",
    "plt.xlim([0.0, 1.0])\n",
    "plt.ylim([0.0, 1.05])\n",
    "plt.xlabel('False Positive Rate')\n",
    "plt.ylabel('True Positive Rate')\n",
    "plt.title('Receiver Operating Characteristic (ROC) Curve')\n",
    "plt.legend(loc='lower right')\n",
    "plt.show()"
   ]
  },
  {
   "cell_type": "code",
   "execution_count": null,
   "id": "28b462bd-583a-4c00-805f-c42cb75d82fd",
   "metadata": {},
   "outputs": [],
   "source": [
    "roc_auc_score(y_score=y_lr_ts_prob[:,1], y_true=y_test)"
   ]
  },
  {
   "cell_type": "code",
   "execution_count": null,
   "id": "b7a3c128-497f-46f9-9172-93206275db3b",
   "metadata": {},
   "outputs": [],
   "source": []
  }
 ],
 "metadata": {
  "kernelspec": {
   "display_name": "Python 3 [3.10]",
   "language": "python",
   "name": "python3"
  },
  "language_info": {
   "codemirror_mode": {
    "name": "ipython",
    "version": 3
   },
   "file_extension": ".py",
   "mimetype": "text/x-python",
   "name": "python",
   "nbconvert_exporter": "python",
   "pygments_lexer": "ipython3",
   "version": "3.10.2"
  }
 },
 "nbformat": 4,
 "nbformat_minor": 5
}
