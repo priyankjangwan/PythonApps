{
 "cells": [
  {
   "cell_type": "markdown",
   "id": "c7529216-3213-4f7c-8587-d48f63ff3d48",
   "metadata": {
    "id": "c7529216-3213-4f7c-8587-d48f63ff3d48"
   },
   "source": [
    "# **Association Rules Mining Base File**\n",
    "\n",
    "\n",
    "## **Association Rule Mining - Apriori**"
   ]
  },
  {
   "cell_type": "code",
   "execution_count": null,
   "id": "a76843da-b773-4cec-8c24-968f6c36c8f6",
   "metadata": {
    "id": "a76843da-b773-4cec-8c24-968f6c36c8f6"
   },
   "outputs": [],
   "source": [
    "import pandas as pd\n",
    "import numpy as np"
   ]
  },
  {
   "cell_type": "code",
   "execution_count": null,
   "id": "9f73517c-5203-4c71-b05b-85ec02bcf624",
   "metadata": {
    "id": "9f73517c-5203-4c71-b05b-85ec02bcf624"
   },
   "outputs": [],
   "source": [
    "!pip install mlxtend --q"
   ]
  },
  {
   "cell_type": "code",
   "execution_count": null,
   "id": "6d38797b-9e6e-4ae8-a4fe-9f52a7db8a71",
   "metadata": {
    "id": "6d38797b-9e6e-4ae8-a4fe-9f52a7db8a71"
   },
   "outputs": [],
   "source": [
    "data = pd.read_csv('Market_Basket_Optimisation.csv', header=None)"
   ]
  },
  {
   "cell_type": "code",
   "execution_count": null,
   "id": "a069ce9a-d52b-49a5-8411-e5024b4e910c",
   "metadata": {
    "id": "a069ce9a-d52b-49a5-8411-e5024b4e910c"
   },
   "outputs": [],
   "source": [
    "data.head()"
   ]
  },
  {
   "cell_type": "code",
   "execution_count": null,
   "id": "94ecfe09-d66d-4c80-8308-0dca251b5693",
   "metadata": {
    "id": "94ecfe09-d66d-4c80-8308-0dca251b5693"
   },
   "outputs": [],
   "source": [
    "transactions = []\n",
    "for i in range(data.shape[0]):\n",
    "    transactions.append([str(data.values[i, j]) for j in range(data.shape[1]) if str(data.values[i, j]) != 'nan'])"
   ]
  },
  {
   "cell_type": "code",
   "execution_count": null,
   "id": "f9381f37-037a-4428-a37c-07d3fa091122",
   "metadata": {
    "id": "f9381f37-037a-4428-a37c-07d3fa091122"
   },
   "outputs": [],
   "source": [
    "transactions[2]"
   ]
  },
  {
   "cell_type": "code",
   "execution_count": null,
   "id": "eba203cc-d256-4b94-8a78-405deddc1c89",
   "metadata": {},
   "outputs": [],
   "source": [
    "transactions[0:5]"
   ]
  },
  {
   "cell_type": "code",
   "execution_count": null,
   "id": "c3dd855c-b952-495e-8fbf-d94641c372fc",
   "metadata": {
    "id": "c3dd855c-b952-495e-8fbf-d94641c372fc"
   },
   "outputs": [],
   "source": [
    "from mlxtend.preprocessing import TransactionEncoder"
   ]
  },
  {
   "cell_type": "code",
   "execution_count": null,
   "id": "ddc34a97-d979-495c-aa97-fcfc0871d809",
   "metadata": {
    "id": "ddc34a97-d979-495c-aa97-fcfc0871d809"
   },
   "outputs": [],
   "source": [
    "# Create Transaction Encoder, fit and transform, create new_df\n"
   ]
  },
  {
   "cell_type": "code",
   "execution_count": null,
   "id": "6XiZO8hycgOg",
   "metadata": {
    "id": "6XiZO8hycgOg"
   },
   "outputs": [],
   "source": [
    "new_df.head()"
   ]
  },
  {
   "cell_type": "code",
   "execution_count": null,
   "id": "87e28693-23f4-4290-bea2-bd3ab61d260f",
   "metadata": {
    "id": "87e28693-23f4-4290-bea2-bd3ab61d260f"
   },
   "outputs": [],
   "source": [
    "from mlxtend.frequent_patterns import apriori, association_rules"
   ]
  },
  {
   "cell_type": "code",
   "execution_count": null,
   "id": "c6b8c210-1c6a-48fe-bb72-c15689050607",
   "metadata": {},
   "outputs": [],
   "source": [
    "# Apply the Apriori algorithm with a minimum support of 0.01 (1%)\n"
   ]
  },
  {
   "cell_type": "code",
   "execution_count": null,
   "id": "675bd5c4-ba67-4598-853b-d84493876b1b",
   "metadata": {
    "id": "675bd5c4-ba67-4598-853b-d84493876b1b"
   },
   "outputs": [],
   "source": [
    "frequent_itemsets.sort_values(by='support', ascending=False).head(15)"
   ]
  },
  {
   "cell_type": "code",
   "execution_count": null,
   "id": "add69b3b-a76e-4c0c-a289-40264df3dd5c",
   "metadata": {
    "id": "add69b3b-a76e-4c0c-a289-40264df3dd5c"
   },
   "outputs": [],
   "source": [
    "rules = association_rules(frequent_itemsets, metric=\"confidence\", min_threshold=0.25)\n",
    "\n",
    "#rules.sort_values(by='zhangs_metric', ascending=False).head()"
   ]
  },
  {
   "cell_type": "code",
   "execution_count": null,
   "id": "cm7fhELedxUr",
   "metadata": {
    "id": "cm7fhELedxUr"
   },
   "outputs": [],
   "source": [
    "rules.sort_values(by='confidence', ascending=False).head()"
   ]
  },
  {
   "cell_type": "markdown",
   "id": "89174cbb-e425-4305-8565-b6c2bde59266",
   "metadata": {
    "id": "89174cbb-e425-4305-8565-b6c2bde59266"
   },
   "source": [
    "## **Association Rule Mining Eclat**"
   ]
  },
  {
   "cell_type": "code",
   "execution_count": null,
   "id": "b7a94ec2-f44e-459e-9bc2-2e98811400be",
   "metadata": {
    "id": "b7a94ec2-f44e-459e-9bc2-2e98811400be"
   },
   "outputs": [],
   "source": [
    "!pip install pyECLAT==1.0.2 --q"
   ]
  },
  {
   "cell_type": "code",
   "execution_count": null,
   "id": "51cd43cc-db5d-4838-beac-04f37aceefd2",
   "metadata": {
    "id": "51cd43cc-db5d-4838-beac-04f37aceefd2"
   },
   "outputs": [],
   "source": [
    "from pyECLAT import ECLAT"
   ]
  },
  {
   "cell_type": "code",
   "execution_count": null,
   "id": "07591f7b-80f3-40c9-a300-566e1fc30b34",
   "metadata": {
    "id": "07591f7b-80f3-40c9-a300-566e1fc30b34"
   },
   "outputs": [],
   "source": [
    "ec_df = pd.DataFrame(transactions)"
   ]
  },
  {
   "cell_type": "code",
   "execution_count": null,
   "id": "06b2ff89-957c-4698-9f8f-b3c291eb29ad",
   "metadata": {
    "id": "06b2ff89-957c-4698-9f8f-b3c291eb29ad"
   },
   "outputs": [],
   "source": [
    "# Create Eclat instance\n"
   ]
  },
  {
   "cell_type": "code",
   "execution_count": null,
   "id": "4fffaa25-c59a-41bb-889d-d4d717bff68b",
   "metadata": {
    "id": "4fffaa25-c59a-41bb-889d-d4d717bff68b"
   },
   "outputs": [],
   "source": [
    "# Fit the Eclat Instance created"
   ]
  },
  {
   "cell_type": "code",
   "execution_count": null,
   "id": "369c91a0-0b17-4e76-a4dd-c584c463b2dd",
   "metadata": {
    "id": "369c91a0-0b17-4e76-a4dd-c584c463b2dd"
   },
   "outputs": [],
   "source": [
    "total_transactions = len(transactions)\n",
    "\n",
    "frequent_itemsets_df = pd.DataFrame({\n",
    "    'Itemset': list(frequent_itemsets.keys()),\n",
    "    'Support': [len(support_dict[item]) / total_transactions for item in frequent_itemsets.keys()]\n",
    "})\n",
    "\n",
    "# Sort the DataFrame by 'Support' in descending order\n",
    "frequent_itemsets_df_sorted = frequent_itemsets_df.sort_values(by='Support', ascending=False)\n",
    "\n",
    "frequent_itemsets_df_sorted.head(100)"
   ]
  },
  {
   "cell_type": "code",
   "execution_count": null,
   "id": "1d1c61f6-7590-419e-b26c-7273af2d5558",
   "metadata": {
    "id": "1d1c61f6-7590-419e-b26c-7273af2d5558"
   },
   "outputs": [],
   "source": [
    "frequent_itemsets_df['products1'] = frequent_itemsets_df['Itemset'].apply(lambda x: x.split('&')[0])\n",
    "frequent_itemsets_df['products2'] = frequent_itemsets_df['Itemset'].apply(lambda x: x.split('&')[1] if len(x.split('&'))>1 else '')"
   ]
  },
  {
   "cell_type": "code",
   "execution_count": null,
   "id": "8db22f57-7534-4de3-b53f-59c2206725a7",
   "metadata": {
    "id": "8db22f57-7534-4de3-b53f-59c2206725a7"
   },
   "outputs": [],
   "source": []
  },
  {
   "cell_type": "code",
   "execution_count": null,
   "id": "663eac69-8dcf-40d8-8544-14bd8035d506",
   "metadata": {
    "id": "663eac69-8dcf-40d8-8544-14bd8035d506"
   },
   "outputs": [],
   "source": [
    "frequent_itemsets_df[frequent_itemsets_df['products2'] != ''] .sort_values(by='Support', ascending=False).head(10)"
   ]
  },
  {
   "cell_type": "code",
   "execution_count": null,
   "id": "iabsMtJRge-K",
   "metadata": {
    "id": "iabsMtJRge-K"
   },
   "outputs": [],
   "source": [
    "frequent_itemsets_df.shape"
   ]
  },
  {
   "cell_type": "code",
   "execution_count": null,
   "id": "DpuSJw_3gtLI",
   "metadata": {
    "id": "DpuSJw_3gtLI"
   },
   "outputs": [],
   "source": []
  }
 ],
 "metadata": {
  "colab": {
   "provenance": []
  },
  "kernelspec": {
   "display_name": "Python 3 [3.10]",
   "language": "python",
   "name": "python3"
  },
  "language_info": {
   "codemirror_mode": {
    "name": "ipython",
    "version": 3
   },
   "file_extension": ".py",
   "mimetype": "text/x-python",
   "name": "python",
   "nbconvert_exporter": "python",
   "pygments_lexer": "ipython3",
   "version": "3.10.2"
  }
 },
 "nbformat": 4,
 "nbformat_minor": 5
}
