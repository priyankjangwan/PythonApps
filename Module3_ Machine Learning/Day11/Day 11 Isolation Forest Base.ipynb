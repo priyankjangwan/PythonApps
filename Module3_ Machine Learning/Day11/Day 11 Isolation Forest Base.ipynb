{
 "cells": [
  {
   "cell_type": "code",
   "execution_count": null,
   "id": "4e3b70e8-0eac-4233-a4b7-013f84dea8a2",
   "metadata": {},
   "outputs": [],
   "source": [
    "import pandas as pd\n",
    "from sklearn.ensemble import IsolationForest\n",
    "from sklearn.model_selection import train_test_split\n",
    "import matplotlib.pyplot as plt"
   ]
  },
  {
   "cell_type": "code",
   "execution_count": null,
   "id": "9bb85005-7c7c-47bf-bfd3-ba14f345c6d2",
   "metadata": {},
   "outputs": [],
   "source": [
    "file_path = 'credit_card_fraud.csv'  # Update the path to your file\n",
    "df = pd.read_csv(file_path)"
   ]
  },
  {
   "cell_type": "code",
   "execution_count": null,
   "id": "97157ccc-ab99-4ca5-a02f-f2d70ea7e04e",
   "metadata": {},
   "outputs": [],
   "source": [
    "df.head()"
   ]
  },
  {
   "cell_type": "code",
   "execution_count": null,
   "id": "9c7b74cb-e2aa-482c-82b8-0589f60433c2",
   "metadata": {},
   "outputs": [],
   "source": []
  },
  {
   "cell_type": "code",
   "execution_count": null,
   "id": "c3e20e7b-d9d4-4208-b161-e142846053a7",
   "metadata": {},
   "outputs": [],
   "source": [
    "# Features for training\n",
    "features = ['V1', 'V2', 'V3', 'V4', 'V5', 'Amount']\n",
    "\n",
    "# Split the data into training and testing sets\n",
    "X_train, X_test, y_train, y_test = train_test_split(df[features], df['Class'], test_size=0.2, random_state=42)"
   ]
  },
  {
   "cell_type": "code",
   "execution_count": null,
   "id": "d2af3134-8609-4750-94e2-4f45265f4529",
   "metadata": {},
   "outputs": [],
   "source": [
    "from sklearn.preprocessing import StandardScaler\n",
    "scaler = StandardScaler()\n",
    "X_train_sc = scaler.fit_transform(X_train)\n",
    "X_test_sc = scaler.transform(X_test)"
   ]
  },
  {
   "cell_type": "code",
   "execution_count": null,
   "id": "097a76d5-e7a6-4ee6-8f77-7b1f3e9a1ca3",
   "metadata": {},
   "outputs": [],
   "source": [
    "# Fit the Isolation Forest model\n"
   ]
  },
  {
   "cell_type": "code",
   "execution_count": null,
   "id": "2ecf249f-9939-43be-992d-067e91811e55",
   "metadata": {},
   "outputs": [],
   "source": [
    "# Predict anomalies (-1 for anomalies, 1 for normal points) on the training set\n",
    "train_anomaly_predictions = iso_forest.predict(X_train_sc)\n",
    "\n",
    "# Predict anomalies on the test set\n",
    "test_anomaly_predictions = iso_forest.predict(X_test_sc)"
   ]
  },
  {
   "cell_type": "code",
   "execution_count": null,
   "id": "da446da8-65d3-4bb4-9a11-2998baebfe4c",
   "metadata": {},
   "outputs": [],
   "source": [
    "test_anomaly_predictions"
   ]
  },
  {
   "cell_type": "code",
   "execution_count": null,
   "id": "0022339f-e857-4f99-aeb5-99e14c3698ee",
   "metadata": {},
   "outputs": [],
   "source": [
    "X_test['Anomaly'] = test_anomaly_predictions"
   ]
  },
  {
   "cell_type": "code",
   "execution_count": null,
   "id": "a78988c7-616b-4260-8143-fedac59971ef",
   "metadata": {},
   "outputs": [],
   "source": [
    "# Evaluate the results on the test set\n",
    "print(X_test['Anomaly'].value_counts())"
   ]
  },
  {
   "cell_type": "code",
   "execution_count": null,
   "id": "236039bf-54f1-4443-982f-99eabcb9a099",
   "metadata": {},
   "outputs": [],
   "source": [
    "plt.figure(figsize=(6, 4))\n",
    "plt.scatter(X_test['Amount'], X_test['Anomaly'], cmap='coolwarm')\n",
    "plt.xlabel('Amount')\n",
    "plt.ylabel('Anomaly')\n",
    "plt.title('Isolation Forest Anomaly Detection (Credit Card Fraud) on Test Data')\n",
    "plt.show()"
   ]
  },
  {
   "cell_type": "code",
   "execution_count": null,
   "id": "3904d27a-0140-41c8-8167-fb5e0fa347c1",
   "metadata": {},
   "outputs": [],
   "source": []
  }
 ],
 "metadata": {
  "kernelspec": {
   "display_name": "Python 3 [3.10]",
   "language": "python",
   "name": "python3"
  },
  "language_info": {
   "codemirror_mode": {
    "name": "ipython",
    "version": 3
   },
   "file_extension": ".py",
   "mimetype": "text/x-python",
   "name": "python",
   "nbconvert_exporter": "python",
   "pygments_lexer": "ipython3",
   "version": "3.10.2"
  }
 },
 "nbformat": 4,
 "nbformat_minor": 5
}
