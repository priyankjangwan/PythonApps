{
 "cells": [
  {
   "cell_type": "code",
   "execution_count": null,
   "id": "bd263581-0ee4-4ba8-8ebd-3ff98bf0c87c",
   "metadata": {},
   "outputs": [],
   "source": [
    "import pandas as pd\n",
    "import numpy as np"
   ]
  },
  {
   "cell_type": "code",
   "execution_count": null,
   "id": "c3df0966-ae61-41f5-82b7-a2f814fb2bb6",
   "metadata": {},
   "outputs": [],
   "source": [
    "df = pd.read_csv(\"Telco-Customer-Churn.csv\")"
   ]
  },
  {
   "cell_type": "code",
   "execution_count": null,
   "id": "ac5b683d-fb93-4f8e-9693-2be76e2eb5d2",
   "metadata": {},
   "outputs": [],
   "source": [
    "R_STATE = 12345 # Set Random State\n",
    "np.random.seed(R_STATE)"
   ]
  },
  {
   "cell_type": "code",
   "execution_count": null,
   "id": "bfd932d3-ba5f-426b-9969-e04d62a282b0",
   "metadata": {},
   "outputs": [],
   "source": [
    "df.head()"
   ]
  },
  {
   "cell_type": "code",
   "execution_count": null,
   "id": "f5ed6e20-ae8a-40af-8270-58f2da126ca8",
   "metadata": {},
   "outputs": [],
   "source": [
    "df.drop(['customerID'], axis=1, inplace=True)"
   ]
  },
  {
   "cell_type": "code",
   "execution_count": null,
   "id": "b77a7a0d-a52d-4e4a-9f3a-204dacdb6864",
   "metadata": {},
   "outputs": [],
   "source": [
    "df.info()"
   ]
  },
  {
   "cell_type": "code",
   "execution_count": null,
   "id": "84461fe9-7bd6-41e1-8bea-44fc7c993a6a",
   "metadata": {},
   "outputs": [],
   "source": [
    "df[df['TotalCharges'] == ' ']"
   ]
  },
  {
   "cell_type": "code",
   "execution_count": null,
   "id": "56b6654b-cb41-46af-82d9-2611d2801470",
   "metadata": {},
   "outputs": [],
   "source": [
    "df.columns"
   ]
  },
  {
   "cell_type": "code",
   "execution_count": null,
   "id": "4e295c70-f725-4deb-948b-e22915a944ec",
   "metadata": {},
   "outputs": [],
   "source": [
    "df['TotalCharges'] = df.apply(lambda x: float(x['TotalCharges']) if x['TotalCharges'] != ' ' else x['MonthlyCharges'], axis=1)"
   ]
  },
  {
   "cell_type": "code",
   "execution_count": null,
   "id": "fc83ae21-f687-47aa-a4af-5fdaffaae7ea",
   "metadata": {},
   "outputs": [],
   "source": [
    "df.head()"
   ]
  },
  {
   "cell_type": "code",
   "execution_count": null,
   "id": "0a25191c-698d-405f-8bbd-fc4c3f0a768e",
   "metadata": {},
   "outputs": [],
   "source": [
    "dummy_columns = ['Partner','Contract','PaymentMethod','InternetService', 'gender','Dependents', 'PhoneService','MultipleLines', 'OnlineSecurity','OnlineBackup', 'DeviceProtection','TechSupport','StreamingTV','StreamingMovies', 'PaperlessBilling']\n",
    "\n",
    "# Code here: One Hot Encoding of the categorical variables"
   ]
  },
  {
   "cell_type": "code",
   "execution_count": null,
   "id": "bf6829e2-a9a2-4b6a-8491-a0a0724d7bfd",
   "metadata": {},
   "outputs": [],
   "source": [
    "df.head()"
   ]
  },
  {
   "cell_type": "code",
   "execution_count": null,
   "id": "fff7e51f-6816-46af-8650-b603c4be175d",
   "metadata": {},
   "outputs": [],
   "source": [
    "# Code here : Prepare X and y"
   ]
  },
  {
   "cell_type": "code",
   "execution_count": null,
   "id": "4f5fc842-5af5-448a-a9c1-2743262508ef",
   "metadata": {},
   "outputs": [],
   "source": [
    "# Code here: train test split 80:20, stratified sampling"
   ]
  },
  {
   "cell_type": "code",
   "execution_count": null,
   "id": "795aabeb-8ec4-41e2-bf7e-2e43cfb6a072",
   "metadata": {},
   "outputs": [],
   "source": [
    "# Code here: scaling"
   ]
  },
  {
   "cell_type": "code",
   "execution_count": null,
   "id": "a4f7158b-7a2d-4fb7-b3a4-6345dd7b4d74",
   "metadata": {},
   "outputs": [],
   "source": [
    "from sklearn.model_selection import KFold, cross_val_score\n",
    "from sklearn.linear_model import LogisticRegressionCV\n",
    "from sklearn.tree import DecisionTreeClassifier\n",
    "from sklearn.neighbors import KNeighborsClassifier\n",
    "from sklearn.svm import SVC\n",
    "from sklearn.metrics import accuracy_score, precision_score, recall_score, confusion_matrix"
   ]
  },
  {
   "cell_type": "code",
   "execution_count": 1,
   "id": "1d04a3eb-b1f1-48bd-954c-b57550db998a",
   "metadata": {},
   "outputs": [],
   "source": [
    "def get_metrics(y_true, y_pred, train=True):\n",
    "    if train:\n",
    "        l_message = \"=========================== Training Set Metrics ==========================\"\n",
    "    else:\n",
    "        l_message = \"=========================== Test Set Metrics ==========================\"\n",
    "    print(l_message)\n",
    "    print(\"Confusion Matrix\")\n",
    "    print(confusion_matrix(y_true=y_true, y_pred = y_pred))\n",
    "    print()\n",
    "    print(f\"Accuracy Score {np.round(accuracy_score(y_true=y_true, y_pred = y_pred)*100,2)}%\")\n",
    "    print(f\"Precision Score {np.round(precision_score(y_true=y_true, y_pred = y_pred)*100,2)}%\")\n",
    "    print(f\"Recall Score {np.round(recall_score(y_true=y_true, y_pred = y_pred)*100,2)}%\")\n",
    "    print()"
   ]
  },
  {
   "cell_type": "code",
   "execution_count": null,
   "id": "e21720d2-2d48-41a0-9946-ef771c275804",
   "metadata": {},
   "outputs": [],
   "source": [
    "# Code here: Create a list of tuples for individual models that need to be considered - LogisticRegression, DecisionTree and SVM"
   ]
  },
  {
   "cell_type": "code",
   "execution_count": null,
   "id": "eb7d744d-2eae-4851-b883-ef9185c92f32",
   "metadata": {},
   "outputs": [],
   "source": [
    "# Code here: Import VotingClassifier from Ensemle and instantiate a model (vc_model). Specify voting as hard"
   ]
  },
  {
   "cell_type": "code",
   "execution_count": null,
   "id": "872cec17-605a-4fbf-b4e9-1c67ef408d2a",
   "metadata": {},
   "outputs": [],
   "source": [
    "# Code here: Fit the ensemble on the scaled training set and evaluate on the scaled test set"
   ]
  },
  {
   "cell_type": "code",
   "execution_count": null,
   "id": "01808228-c35f-4157-b634-d7944835352e",
   "metadata": {},
   "outputs": [],
   "source": [
    "y_tr_pred = vc_model.predict(X_train_sc)\n",
    "y_ts_pred = vc_model.predict(X_test_sc)"
   ]
  },
  {
   "cell_type": "code",
   "execution_count": null,
   "id": "84a9d366-0fe5-4bf9-ad08-df32f73da39d",
   "metadata": {},
   "outputs": [],
   "source": [
    "get_metrics(y_true=y_train, y_pred = vc_model.predict(X_train_sc))"
   ]
  },
  {
   "cell_type": "code",
   "execution_count": null,
   "id": "36b011a1-bb03-4cde-a652-87cd15777d72",
   "metadata": {},
   "outputs": [],
   "source": [
    "get_metrics(y_true=y_test, y_pred = vc_model.predict(X_test_sc), train=False)"
   ]
  },
  {
   "cell_type": "code",
   "execution_count": null,
   "id": "86601356-1d63-4965-9bd3-19b6fb30807e",
   "metadata": {},
   "outputs": [],
   "source": [
    "# Code here: Use the same tuple of models to instantiate VotingClassifier. This time, set voting as soft"
   ]
  },
  {
   "cell_type": "code",
   "execution_count": null,
   "id": "14ee67bb-d043-4d39-a2a2-bf9dd0547320",
   "metadata": {},
   "outputs": [],
   "source": [
    "# Code here: Fit the model"
   ]
  },
  {
   "cell_type": "code",
   "execution_count": null,
   "id": "c96c584f-1445-4398-8504-40fc334b2506",
   "metadata": {},
   "outputs": [],
   "source": [
    "y_tr_pred = soft_vc_model.predict(X_train_sc)\n",
    "y_ts_pred = soft_vc_model.predict(X_test_sc)"
   ]
  },
  {
   "cell_type": "code",
   "execution_count": null,
   "id": "a8a5d5b3-e4c7-4d42-88cd-ba2d32f524c1",
   "metadata": {},
   "outputs": [],
   "source": [
    "get_metrics(y_true = y_train, y_pred = y_tr_pred)"
   ]
  },
  {
   "cell_type": "code",
   "execution_count": null,
   "id": "d5ce05de-c1b6-4a5d-a234-95d731e75b53",
   "metadata": {},
   "outputs": [],
   "source": [
    "get_metrics(y_true = y_test, y_pred = y_ts_pred, train=False)"
   ]
  },
  {
   "cell_type": "markdown",
   "id": "99993ddf-b1a9-46e1-b661-1ac16af2d498",
   "metadata": {},
   "source": [
    "# **Bagging Classifier**"
   ]
  },
  {
   "cell_type": "code",
   "execution_count": null,
   "id": "20e0a82a-d0fb-4b27-a7ea-3dc42702ccf8",
   "metadata": {},
   "outputs": [],
   "source": [
    "# Code here: Import BaggingClassifier"
   ]
  },
  {
   "cell_type": "code",
   "execution_count": null,
   "id": "92341c6d-ce01-48ae-ae07-4fcf51de1506",
   "metadata": {},
   "outputs": [],
   "source": [
    "# Code here: Create a model - bag_model. estimator is Decision Tree with max_depth=4, n_estimators = 100, oob_score=True"
   ]
  },
  {
   "cell_type": "code",
   "execution_count": null,
   "id": "7a648ae1-9e46-4011-a2b1-39eab7289a03",
   "metadata": {},
   "outputs": [],
   "source": [
    "# Code here: Fit the model"
   ]
  },
  {
   "cell_type": "code",
   "execution_count": null,
   "id": "6fd759c9-5873-4ac2-9c6b-20e228bb0cf9",
   "metadata": {},
   "outputs": [],
   "source": [
    "y_tr_pred = bag_model.predict(X_train_sc)\n",
    "y_ts_pred = bag_model.predict(X_test_sc)"
   ]
  },
  {
   "cell_type": "code",
   "execution_count": null,
   "id": "04054ef2-d327-47d0-838c-60cc341f69cf",
   "metadata": {},
   "outputs": [],
   "source": [
    "get_metrics(y_true = y_train, y_pred = y_tr_pred)"
   ]
  },
  {
   "cell_type": "code",
   "execution_count": null,
   "id": "a68fd35d-db0f-4d45-8334-0c88241c1ea6",
   "metadata": {},
   "outputs": [],
   "source": [
    "get_metrics(y_true = y_test, y_pred = y_ts_pred, train=False)"
   ]
  },
  {
   "cell_type": "code",
   "execution_count": null,
   "id": "b4b20dab-db7d-4266-86f5-1b32e8f03634",
   "metadata": {},
   "outputs": [],
   "source": [
    "print(f\"OOB Score {bag_model.oob_score_}\")"
   ]
  },
  {
   "cell_type": "markdown",
   "id": "7515cca3-1090-4ba5-9c5d-2d650542b974",
   "metadata": {},
   "source": [
    "# **Gradient Boosting Classifier**"
   ]
  },
  {
   "cell_type": "code",
   "execution_count": null,
   "id": "369fcb36-07ed-4dcb-9ef1-f6ebd3d5e514",
   "metadata": {},
   "outputs": [],
   "source": [
    "# Code here: Import Gradient Boosting Classifier"
   ]
  },
  {
   "cell_type": "code",
   "execution_count": null,
   "id": "df2cd57a-e879-44d5-8803-d3482c4faad4",
   "metadata": {},
   "outputs": [],
   "source": [
    "# Code here: Instantiate a model."
   ]
  },
  {
   "cell_type": "code",
   "execution_count": null,
   "id": "96b410f8-fb35-45ae-98a3-b067f6d70904",
   "metadata": {},
   "outputs": [],
   "source": [
    "# Code here: Fit the model"
   ]
  },
  {
   "cell_type": "code",
   "execution_count": null,
   "id": "711cf158-b142-4221-9586-e25fba323a12",
   "metadata": {},
   "outputs": [],
   "source": [
    "y_tr_pred = gb_model.predict(X_train_sc)\n",
    "y_ts_pred = gb_model.predict(X_test_sc)"
   ]
  },
  {
   "cell_type": "code",
   "execution_count": null,
   "id": "22c7977b-d1e9-49ca-8e9e-bdc06217a479",
   "metadata": {},
   "outputs": [],
   "source": [
    "get_metrics(y_true = y_train, y_pred = y_tr_pred)"
   ]
  },
  {
   "cell_type": "code",
   "execution_count": null,
   "id": "d0d51a34-785f-47e4-bd64-92547ae7d9f8",
   "metadata": {},
   "outputs": [],
   "source": [
    "get_metrics(y_true = y_test, y_pred = y_ts_pred, train=False)"
   ]
  },
  {
   "cell_type": "markdown",
   "id": "11472824-fecd-4215-b3d6-798ba680fffd",
   "metadata": {},
   "source": [
    "# **Adaptive Boosting**"
   ]
  },
  {
   "cell_type": "code",
   "execution_count": null,
   "id": "a3494ac9-a2ea-46c6-a1fb-8f8ea076b329",
   "metadata": {},
   "outputs": [],
   "source": [
    "# Code here: Import AdaBoostClassifier"
   ]
  },
  {
   "cell_type": "code",
   "execution_count": null,
   "id": "f0eb3078-aa9e-4dc8-b252-fb37dc06a5c3",
   "metadata": {},
   "outputs": [],
   "source": [
    "# Code here: Instantiate the model. Use algorithm='SAMME'"
   ]
  },
  {
   "cell_type": "code",
   "execution_count": null,
   "id": "1ea5218b-f696-4fc1-b03b-c8b54e652bb5",
   "metadata": {},
   "outputs": [],
   "source": [
    "# Code here: Fit the model"
   ]
  },
  {
   "cell_type": "code",
   "execution_count": null,
   "id": "c4028cd9-dd33-460f-acf9-ae8a4c45df93",
   "metadata": {},
   "outputs": [],
   "source": [
    "y_tr_pred = ab_model.predict(X_train_sc)\n",
    "y_ts_pred = ab_model.predict(X_test_sc)"
   ]
  },
  {
   "cell_type": "code",
   "execution_count": null,
   "id": "cac3d95f-2f25-4225-964d-894898bb19b4",
   "metadata": {},
   "outputs": [],
   "source": [
    "get_metrics(y_true = y_train, y_pred = y_tr_pred)"
   ]
  },
  {
   "cell_type": "code",
   "execution_count": null,
   "id": "9d873018-ee66-46cb-a3f8-2278d616f9f7",
   "metadata": {},
   "outputs": [],
   "source": [
    "get_metrics(y_true = y_test, y_pred = y_ts_pred, train=False)\n"
   ]
  },
  {
   "cell_type": "markdown",
   "id": "1644dd8e-f227-4ef2-a13e-c918a155850b",
   "metadata": {},
   "source": [
    "# **CatBoost**"
   ]
  },
  {
   "cell_type": "code",
   "execution_count": null,
   "id": "86757875-21f3-431e-a6b8-4be2c0640765",
   "metadata": {},
   "outputs": [],
   "source": [
    "!pip install catboost --q"
   ]
  },
  {
   "cell_type": "code",
   "execution_count": null,
   "id": "0f89e464-343e-4845-befd-e84808b72b9e",
   "metadata": {},
   "outputs": [],
   "source": [
    "# Code here: Import CatBoostClassifier"
   ]
  },
  {
   "cell_type": "code",
   "execution_count": null,
   "id": "7bf57433-87d6-4d98-8dc2-134fd9278490",
   "metadata": {},
   "outputs": [],
   "source": [
    "# Code here: Instantiate the model"
   ]
  },
  {
   "cell_type": "code",
   "execution_count": null,
   "id": "6a7a8b64-1c93-4734-9481-92b2460f4fde",
   "metadata": {},
   "outputs": [],
   "source": [
    "# Code here: Fit your model"
   ]
  },
  {
   "cell_type": "code",
   "execution_count": null,
   "id": "bbe7ee2d-8522-4018-8631-3b3fcda712b0",
   "metadata": {},
   "outputs": [],
   "source": [
    "y_tr_pred = cb_model.predict(X_train_sc)\n",
    "y_ts_pred = cb_model.predict(X_test_sc)"
   ]
  },
  {
   "cell_type": "code",
   "execution_count": null,
   "id": "4262602a-5bd6-45c1-b991-1a785fcd5cb9",
   "metadata": {},
   "outputs": [],
   "source": [
    "get_metrics(y_true = y_train, y_pred = y_tr_pred)"
   ]
  },
  {
   "cell_type": "code",
   "execution_count": null,
   "id": "0ba8c38e-1e8f-49b1-b308-0e3c723a984d",
   "metadata": {},
   "outputs": [],
   "source": [
    "get_metrics(y_true = y_test, y_pred = y_ts_pred, train=False)"
   ]
  },
  {
   "cell_type": "markdown",
   "id": "0f06846e-dbfc-40a3-b11e-6091840ab235",
   "metadata": {},
   "source": [
    "# **XGBoost**"
   ]
  },
  {
   "cell_type": "code",
   "execution_count": null,
   "id": "66800149-f0cf-433f-b5ff-3344148770fc",
   "metadata": {},
   "outputs": [],
   "source": [
    "!pip install xgboost --q"
   ]
  },
  {
   "cell_type": "code",
   "execution_count": null,
   "id": "24fa6c0c-4a52-4ff1-9dc8-1a446e1b9b12",
   "metadata": {},
   "outputs": [],
   "source": [
    "# Code here: Import XGBoostClassifier"
   ]
  },
  {
   "cell_type": "code",
   "execution_count": null,
   "id": "ea08c6e9-9f5a-4236-8843-c9da109e6517",
   "metadata": {},
   "outputs": [],
   "source": [
    "# Code here: Create your model"
   ]
  },
  {
   "cell_type": "code",
   "execution_count": null,
   "id": "3bd246c7-b212-4403-bfe0-7fbb72051e55",
   "metadata": {},
   "outputs": [],
   "source": [
    "# Code here: Fit your model"
   ]
  },
  {
   "cell_type": "code",
   "execution_count": null,
   "id": "468fad25-ca82-49b7-80ce-c3488c049e86",
   "metadata": {},
   "outputs": [],
   "source": [
    "y_tr_pred = xg_model.predict(X_train_sc)\n",
    "y_ts_pred = xg_model.predict(X_test_sc)"
   ]
  },
  {
   "cell_type": "code",
   "execution_count": null,
   "id": "6b76c569-efd5-49f8-b0aa-89a695086a1e",
   "metadata": {},
   "outputs": [],
   "source": [
    "get_metrics(y_true = y_train, y_pred = y_tr_pred)"
   ]
  },
  {
   "cell_type": "code",
   "execution_count": null,
   "id": "77e453f9-592a-42d8-a55a-9fea15635ad0",
   "metadata": {},
   "outputs": [],
   "source": [
    "get_metrics(y_true = y_test, y_pred = y_ts_pred, train=False)"
   ]
  },
  {
   "cell_type": "markdown",
   "id": "e13c851a-5e29-4c1e-9727-27ff0cddc51a",
   "metadata": {},
   "source": [
    "# **StackingClassifier**"
   ]
  },
  {
   "cell_type": "code",
   "execution_count": null,
   "id": "db1234a0-b3ff-4ff0-8763-91804401ae77",
   "metadata": {},
   "outputs": [],
   "source": [
    "# Code here: Import Stacking Classifier"
   ]
  },
  {
   "cell_type": "code",
   "execution_count": null,
   "id": "48446654-16f4-4443-9b9c-437b2124e87a",
   "metadata": {},
   "outputs": [],
   "source": [
    "# Code here: List of Models"
   ]
  },
  {
   "cell_type": "code",
   "execution_count": null,
   "id": "6cd24a5d-d0ee-43a6-902c-7b6ffceb2935",
   "metadata": {},
   "outputs": [],
   "source": [
    "# Code here: Instantiate StackingModel. Use list of models as estimators and final model as XGBoost"
   ]
  },
  {
   "cell_type": "code",
   "execution_count": null,
   "id": "e3dfebc8-09a1-43c4-8244-811cf1adb107",
   "metadata": {},
   "outputs": [],
   "source": [
    "st_model.fit(X_train_sc, y_train)"
   ]
  },
  {
   "cell_type": "code",
   "execution_count": null,
   "id": "fda1bdd9-bd99-4280-a32c-add218f15158",
   "metadata": {},
   "outputs": [],
   "source": [
    "y_tr_pred = st_model.predict(X_train_sc)\n",
    "y_ts_pred = st_model.predict(X_test_sc)\n"
   ]
  },
  {
   "cell_type": "code",
   "execution_count": null,
   "id": "5987b810-34b7-42ce-b930-46b9b6f18ada",
   "metadata": {},
   "outputs": [],
   "source": [
    "get_metrics(y_true = y_train, y_pred = y_tr_pred)\n",
    "get_metrics(y_true = y_test, y_pred = y_ts_pred, train=False)"
   ]
  },
  {
   "cell_type": "code",
   "execution_count": null,
   "id": "cf4729da-ac46-4d86-b4a2-c37e3a30d918",
   "metadata": {},
   "outputs": [],
   "source": []
  }
 ],
 "metadata": {
  "kernelspec": {
   "display_name": "Python 3 [3.10]",
   "language": "python",
   "name": "python3"
  },
  "language_info": {
   "codemirror_mode": {
    "name": "ipython",
    "version": 3
   },
   "file_extension": ".py",
   "mimetype": "text/x-python",
   "name": "python",
   "nbconvert_exporter": "python",
   "pygments_lexer": "ipython3",
   "version": "3.10.2"
  }
 },
 "nbformat": 4,
 "nbformat_minor": 5
}
