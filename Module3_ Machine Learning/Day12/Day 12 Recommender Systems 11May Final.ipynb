{
 "cells": [
  {
   "cell_type": "code",
   "execution_count": 1,
   "id": "a9817ec9-63e0-4726-b9a5-0f938d9c2624",
   "metadata": {},
   "outputs": [],
   "source": [
    "import pandas as pd\n",
    "import numpy as np\n",
    "import matplotlib.pyplot as plt\n",
    "import seaborn as sns"
   ]
  },
  {
   "cell_type": "code",
   "execution_count": 2,
   "id": "b2e7d91d-7ace-4e57-8f44-dd983b541efe",
   "metadata": {},
   "outputs": [
    {
     "data": {
      "text/plain": [
       "'1.23.5'"
      ]
     },
     "execution_count": 2,
     "metadata": {},
     "output_type": "execute_result"
    }
   ],
   "source": [
    "np.__version__"
   ]
  },
  {
   "cell_type": "code",
   "execution_count": 3,
   "id": "800cf280-073f-463f-96a3-0166c3708996",
   "metadata": {},
   "outputs": [],
   "source": [
    "#!pip install numpy==1.26.4"
   ]
  },
  {
   "cell_type": "code",
   "execution_count": 4,
   "id": "a079ec06-dde3-4bc3-ab14-bd8a4c646070",
   "metadata": {},
   "outputs": [],
   "source": [
    "mov_df = pd.read_csv('movies.csv')\n",
    "rat_df = pd.read_csv('ratings.csv')"
   ]
  },
  {
   "cell_type": "code",
   "execution_count": 5,
   "id": "3c84431f-136f-4703-83db-ec9e415843d9",
   "metadata": {},
   "outputs": [
    {
     "data": {
      "text/html": [
       "<div>\n",
       "<style scoped>\n",
       "    .dataframe tbody tr th:only-of-type {\n",
       "        vertical-align: middle;\n",
       "    }\n",
       "\n",
       "    .dataframe tbody tr th {\n",
       "        vertical-align: top;\n",
       "    }\n",
       "\n",
       "    .dataframe thead th {\n",
       "        text-align: right;\n",
       "    }\n",
       "</style>\n",
       "<table border=\"1\" class=\"dataframe\">\n",
       "  <thead>\n",
       "    <tr style=\"text-align: right;\">\n",
       "      <th></th>\n",
       "      <th>movieId</th>\n",
       "      <th>title</th>\n",
       "      <th>genres</th>\n",
       "    </tr>\n",
       "  </thead>\n",
       "  <tbody>\n",
       "    <tr>\n",
       "      <th>0</th>\n",
       "      <td>1</td>\n",
       "      <td>Toy Story (1995)</td>\n",
       "      <td>Adventure|Animation|Children|Comedy|Fantasy</td>\n",
       "    </tr>\n",
       "    <tr>\n",
       "      <th>1</th>\n",
       "      <td>2</td>\n",
       "      <td>Jumanji (1995)</td>\n",
       "      <td>Adventure|Children|Fantasy</td>\n",
       "    </tr>\n",
       "    <tr>\n",
       "      <th>2</th>\n",
       "      <td>3</td>\n",
       "      <td>Grumpier Old Men (1995)</td>\n",
       "      <td>Comedy|Romance</td>\n",
       "    </tr>\n",
       "    <tr>\n",
       "      <th>3</th>\n",
       "      <td>4</td>\n",
       "      <td>Waiting to Exhale (1995)</td>\n",
       "      <td>Comedy|Drama|Romance</td>\n",
       "    </tr>\n",
       "    <tr>\n",
       "      <th>4</th>\n",
       "      <td>5</td>\n",
       "      <td>Father of the Bride Part II (1995)</td>\n",
       "      <td>Comedy</td>\n",
       "    </tr>\n",
       "  </tbody>\n",
       "</table>\n",
       "</div>"
      ],
      "text/plain": [
       "   movieId                               title  \\\n",
       "0        1                    Toy Story (1995)   \n",
       "1        2                      Jumanji (1995)   \n",
       "2        3             Grumpier Old Men (1995)   \n",
       "3        4            Waiting to Exhale (1995)   \n",
       "4        5  Father of the Bride Part II (1995)   \n",
       "\n",
       "                                        genres  \n",
       "0  Adventure|Animation|Children|Comedy|Fantasy  \n",
       "1                   Adventure|Children|Fantasy  \n",
       "2                               Comedy|Romance  \n",
       "3                         Comedy|Drama|Romance  \n",
       "4                                       Comedy  "
      ]
     },
     "execution_count": 5,
     "metadata": {},
     "output_type": "execute_result"
    }
   ],
   "source": [
    "mov_df.head()"
   ]
  },
  {
   "cell_type": "code",
   "execution_count": 6,
   "id": "894de38b-877b-4cc1-904e-6caaf654197c",
   "metadata": {},
   "outputs": [
    {
     "data": {
      "text/html": [
       "<div>\n",
       "<style scoped>\n",
       "    .dataframe tbody tr th:only-of-type {\n",
       "        vertical-align: middle;\n",
       "    }\n",
       "\n",
       "    .dataframe tbody tr th {\n",
       "        vertical-align: top;\n",
       "    }\n",
       "\n",
       "    .dataframe thead th {\n",
       "        text-align: right;\n",
       "    }\n",
       "</style>\n",
       "<table border=\"1\" class=\"dataframe\">\n",
       "  <thead>\n",
       "    <tr style=\"text-align: right;\">\n",
       "      <th></th>\n",
       "      <th>userId</th>\n",
       "      <th>movieId</th>\n",
       "      <th>rating</th>\n",
       "      <th>timestamp</th>\n",
       "    </tr>\n",
       "  </thead>\n",
       "  <tbody>\n",
       "    <tr>\n",
       "      <th>0</th>\n",
       "      <td>1</td>\n",
       "      <td>1</td>\n",
       "      <td>4.0</td>\n",
       "      <td>964982703</td>\n",
       "    </tr>\n",
       "    <tr>\n",
       "      <th>1</th>\n",
       "      <td>1</td>\n",
       "      <td>3</td>\n",
       "      <td>4.0</td>\n",
       "      <td>964981247</td>\n",
       "    </tr>\n",
       "    <tr>\n",
       "      <th>2</th>\n",
       "      <td>1</td>\n",
       "      <td>6</td>\n",
       "      <td>4.0</td>\n",
       "      <td>964982224</td>\n",
       "    </tr>\n",
       "    <tr>\n",
       "      <th>3</th>\n",
       "      <td>1</td>\n",
       "      <td>47</td>\n",
       "      <td>5.0</td>\n",
       "      <td>964983815</td>\n",
       "    </tr>\n",
       "    <tr>\n",
       "      <th>4</th>\n",
       "      <td>1</td>\n",
       "      <td>50</td>\n",
       "      <td>5.0</td>\n",
       "      <td>964982931</td>\n",
       "    </tr>\n",
       "  </tbody>\n",
       "</table>\n",
       "</div>"
      ],
      "text/plain": [
       "   userId  movieId  rating  timestamp\n",
       "0       1        1     4.0  964982703\n",
       "1       1        3     4.0  964981247\n",
       "2       1        6     4.0  964982224\n",
       "3       1       47     5.0  964983815\n",
       "4       1       50     5.0  964982931"
      ]
     },
     "execution_count": 6,
     "metadata": {},
     "output_type": "execute_result"
    }
   ],
   "source": [
    "rat_df.head()"
   ]
  },
  {
   "cell_type": "code",
   "execution_count": 7,
   "id": "e9a3a305-454d-4f09-86f4-f7831c2608a0",
   "metadata": {},
   "outputs": [
    {
     "data": {
      "text/plain": [
       "610"
      ]
     },
     "execution_count": 7,
     "metadata": {},
     "output_type": "execute_result"
    }
   ],
   "source": [
    "len(np.unique(rat_df.userId))"
   ]
  },
  {
   "cell_type": "code",
   "execution_count": 8,
   "id": "1d57f266-c2d6-424e-ac4a-3aa3170729f4",
   "metadata": {},
   "outputs": [],
   "source": [
    "rat_df.drop(['timestamp'], axis=1, inplace=True)"
   ]
  },
  {
   "cell_type": "code",
   "execution_count": 9,
   "id": "e7e364eb-b64f-4575-8b69-40271b54aca5",
   "metadata": {},
   "outputs": [
    {
     "data": {
      "text/plain": [
       "userId     0\n",
       "movieId    0\n",
       "rating     0\n",
       "dtype: int64"
      ]
     },
     "execution_count": 9,
     "metadata": {},
     "output_type": "execute_result"
    }
   ],
   "source": [
    "rat_df.isna().sum()"
   ]
  },
  {
   "cell_type": "code",
   "execution_count": 10,
   "id": "97bbdc40-757d-4761-9090-bb66a3f5979c",
   "metadata": {},
   "outputs": [
    {
     "data": {
      "text/plain": [
       "movieId    0\n",
       "title      0\n",
       "genres     0\n",
       "dtype: int64"
      ]
     },
     "execution_count": 10,
     "metadata": {},
     "output_type": "execute_result"
    }
   ],
   "source": [
    "mov_df.isna().sum()"
   ]
  },
  {
   "cell_type": "code",
   "execution_count": 11,
   "id": "e172f286-4303-4c34-838f-f7bbedb5e01d",
   "metadata": {},
   "outputs": [
    {
     "data": {
      "text/html": [
       "<div>\n",
       "<style scoped>\n",
       "    .dataframe tbody tr th:only-of-type {\n",
       "        vertical-align: middle;\n",
       "    }\n",
       "\n",
       "    .dataframe tbody tr th {\n",
       "        vertical-align: top;\n",
       "    }\n",
       "\n",
       "    .dataframe thead th {\n",
       "        text-align: right;\n",
       "    }\n",
       "</style>\n",
       "<table border=\"1\" class=\"dataframe\">\n",
       "  <thead>\n",
       "    <tr style=\"text-align: right;\">\n",
       "      <th></th>\n",
       "      <th>count</th>\n",
       "      <th>mean</th>\n",
       "      <th>std</th>\n",
       "      <th>min</th>\n",
       "      <th>25%</th>\n",
       "      <th>50%</th>\n",
       "      <th>75%</th>\n",
       "      <th>max</th>\n",
       "    </tr>\n",
       "  </thead>\n",
       "  <tbody>\n",
       "    <tr>\n",
       "      <th>userId</th>\n",
       "      <td>100836.0</td>\n",
       "      <td>326.127564</td>\n",
       "      <td>182.618491</td>\n",
       "      <td>1.0</td>\n",
       "      <td>177.0</td>\n",
       "      <td>325.0</td>\n",
       "      <td>477.0</td>\n",
       "      <td>610.0</td>\n",
       "    </tr>\n",
       "    <tr>\n",
       "      <th>movieId</th>\n",
       "      <td>100836.0</td>\n",
       "      <td>19435.295718</td>\n",
       "      <td>35530.987199</td>\n",
       "      <td>1.0</td>\n",
       "      <td>1199.0</td>\n",
       "      <td>2991.0</td>\n",
       "      <td>8122.0</td>\n",
       "      <td>193609.0</td>\n",
       "    </tr>\n",
       "    <tr>\n",
       "      <th>rating</th>\n",
       "      <td>100836.0</td>\n",
       "      <td>3.501557</td>\n",
       "      <td>1.042529</td>\n",
       "      <td>0.5</td>\n",
       "      <td>3.0</td>\n",
       "      <td>3.5</td>\n",
       "      <td>4.0</td>\n",
       "      <td>5.0</td>\n",
       "    </tr>\n",
       "  </tbody>\n",
       "</table>\n",
       "</div>"
      ],
      "text/plain": [
       "            count          mean           std  min     25%     50%     75%  \\\n",
       "userId   100836.0    326.127564    182.618491  1.0   177.0   325.0   477.0   \n",
       "movieId  100836.0  19435.295718  35530.987199  1.0  1199.0  2991.0  8122.0   \n",
       "rating   100836.0      3.501557      1.042529  0.5     3.0     3.5     4.0   \n",
       "\n",
       "              max  \n",
       "userId      610.0  \n",
       "movieId  193609.0  \n",
       "rating        5.0  "
      ]
     },
     "execution_count": 11,
     "metadata": {},
     "output_type": "execute_result"
    }
   ],
   "source": [
    "rat_df.describe().T"
   ]
  },
  {
   "cell_type": "code",
   "execution_count": 12,
   "id": "c7994138-f9e7-4a7d-b7e2-ade33fe9c55e",
   "metadata": {},
   "outputs": [
    {
     "data": {
      "image/png": "[encoded data removed]",
      "text/plain": [
       "<Figure size 432x216 with 1 Axes>"
      ]
     },
     "metadata": {
      "needs_background": "light"
     },
     "output_type": "display_data"
    }
   ],
   "source": [
    "plt.figure(figsize = (6,3))\n",
    "rat_df['rating'].hist()\n",
    "plt.title('Ratings')\n",
    "plt.xlabel('Value')\n",
    "plt.ylabel('Frequency')\n",
    "plt.show()"
   ]
  },
  {
   "cell_type": "markdown",
   "id": "e703284a-0171-4a97-b059-6cc90c86ca4f",
   "metadata": {
    "tags": []
   },
   "source": [
    "## **Content Based Filtering**"
   ]
  },
  {
   "cell_type": "code",
   "execution_count": 13,
   "id": "8972dcdf-5089-4973-80b4-6cbfdf36cfbd",
   "metadata": {},
   "outputs": [],
   "source": [
    "df_content = mov_df.copy()"
   ]
  },
  {
   "cell_type": "code",
   "execution_count": 14,
   "id": "938cdef8-e4e2-41e3-9c76-8161d53bae3c",
   "metadata": {},
   "outputs": [],
   "source": [
    "df_content['list_genres'] = df_content['genres'].apply(lambda x: x.split(\"|\"))"
   ]
  },
  {
   "cell_type": "code",
   "execution_count": 15,
   "id": "133158c7-8a90-4fa6-8505-b25bdf06ba56",
   "metadata": {},
   "outputs": [
    {
     "data": {
      "text/html": [
       "<div>\n",
       "<style scoped>\n",
       "    .dataframe tbody tr th:only-of-type {\n",
       "        vertical-align: middle;\n",
       "    }\n",
       "\n",
       "    .dataframe tbody tr th {\n",
       "        vertical-align: top;\n",
       "    }\n",
       "\n",
       "    .dataframe thead th {\n",
       "        text-align: right;\n",
       "    }\n",
       "</style>\n",
       "<table border=\"1\" class=\"dataframe\">\n",
       "  <thead>\n",
       "    <tr style=\"text-align: right;\">\n",
       "      <th></th>\n",
       "      <th>movieId</th>\n",
       "      <th>title</th>\n",
       "      <th>genres</th>\n",
       "      <th>list_genres</th>\n",
       "    </tr>\n",
       "  </thead>\n",
       "  <tbody>\n",
       "    <tr>\n",
       "      <th>0</th>\n",
       "      <td>1</td>\n",
       "      <td>Toy Story (1995)</td>\n",
       "      <td>Adventure|Animation|Children|Comedy|Fantasy</td>\n",
       "      <td>[Adventure, Animation, Children, Comedy, Fantasy]</td>\n",
       "    </tr>\n",
       "    <tr>\n",
       "      <th>1</th>\n",
       "      <td>2</td>\n",
       "      <td>Jumanji (1995)</td>\n",
       "      <td>Adventure|Children|Fantasy</td>\n",
       "      <td>[Adventure, Children, Fantasy]</td>\n",
       "    </tr>\n",
       "    <tr>\n",
       "      <th>2</th>\n",
       "      <td>3</td>\n",
       "      <td>Grumpier Old Men (1995)</td>\n",
       "      <td>Comedy|Romance</td>\n",
       "      <td>[Comedy, Romance]</td>\n",
       "    </tr>\n",
       "    <tr>\n",
       "      <th>3</th>\n",
       "      <td>4</td>\n",
       "      <td>Waiting to Exhale (1995)</td>\n",
       "      <td>Comedy|Drama|Romance</td>\n",
       "      <td>[Comedy, Drama, Romance]</td>\n",
       "    </tr>\n",
       "    <tr>\n",
       "      <th>4</th>\n",
       "      <td>5</td>\n",
       "      <td>Father of the Bride Part II (1995)</td>\n",
       "      <td>Comedy</td>\n",
       "      <td>[Comedy]</td>\n",
       "    </tr>\n",
       "  </tbody>\n",
       "</table>\n",
       "</div>"
      ],
      "text/plain": [
       "   movieId                               title  \\\n",
       "0        1                    Toy Story (1995)   \n",
       "1        2                      Jumanji (1995)   \n",
       "2        3             Grumpier Old Men (1995)   \n",
       "3        4            Waiting to Exhale (1995)   \n",
       "4        5  Father of the Bride Part II (1995)   \n",
       "\n",
       "                                        genres  \\\n",
       "0  Adventure|Animation|Children|Comedy|Fantasy   \n",
       "1                   Adventure|Children|Fantasy   \n",
       "2                               Comedy|Romance   \n",
       "3                         Comedy|Drama|Romance   \n",
       "4                                       Comedy   \n",
       "\n",
       "                                         list_genres  \n",
       "0  [Adventure, Animation, Children, Comedy, Fantasy]  \n",
       "1                     [Adventure, Children, Fantasy]  \n",
       "2                                  [Comedy, Romance]  \n",
       "3                           [Comedy, Drama, Romance]  \n",
       "4                                           [Comedy]  "
      ]
     },
     "execution_count": 15,
     "metadata": {},
     "output_type": "execute_result"
    }
   ],
   "source": [
    "df_content.head()"
   ]
  },
  {
   "cell_type": "code",
   "execution_count": 16,
   "id": "2bafa49c-825a-4e86-a28a-757c7b1f6382",
   "metadata": {},
   "outputs": [],
   "source": [
    "listval  = []\n",
    "for i in range(df_content.shape[0]):\n",
    "    list_movies = df_content.iloc[i,3]\n",
    "    for j in range(len(list_movies)):\n",
    "        if list_movies[j] not in listval:\n",
    "            listval.append(list_movies[j])"
   ]
  },
  {
   "cell_type": "code",
   "execution_count": 17,
   "id": "0e5bcfc6-6beb-4761-8608-fd171b89b9ae",
   "metadata": {},
   "outputs": [
    {
     "data": {
      "text/plain": [
       "['Adventure',\n",
       " 'Animation',\n",
       " 'Children',\n",
       " 'Comedy',\n",
       " 'Fantasy',\n",
       " 'Romance',\n",
       " 'Drama',\n",
       " 'Action',\n",
       " 'Crime',\n",
       " 'Thriller',\n",
       " 'Horror',\n",
       " 'Mystery',\n",
       " 'Sci-Fi',\n",
       " 'War',\n",
       " 'Musical',\n",
       " 'Documentary',\n",
       " 'IMAX',\n",
       " 'Western',\n",
       " 'Film-Noir',\n",
       " '(no genres listed)']"
      ]
     },
     "execution_count": 17,
     "metadata": {},
     "output_type": "execute_result"
    }
   ],
   "source": [
    "listval"
   ]
  },
  {
   "cell_type": "code",
   "execution_count": 18,
   "id": "8173c565-9da6-456a-aabf-06b6d124d535",
   "metadata": {},
   "outputs": [],
   "source": [
    "def process_list(x):\n",
    "    local_list = []\n",
    "    for movie in x:\n",
    "        if movie == 'Sci-Fi':\n",
    "            local_list.append('SciFi')\n",
    "        elif movie == 'Film-Noir':\n",
    "            local_list.append('FilmNoir')\n",
    "        elif movie == '(no genres listed)':\n",
    "            local_list.append('NoGenres')\n",
    "        else:\n",
    "            local_list.append(movie)\n",
    "    return ' '.join(local_list)"
   ]
  },
  {
   "cell_type": "code",
   "execution_count": 19,
   "id": "e544b37e-508f-4ca1-a50a-787089cf16c5",
   "metadata": {},
   "outputs": [],
   "source": [
    "df_content['list_genres_f'] = df_content['list_genres'].apply(lambda x: process_list(x))"
   ]
  },
  {
   "cell_type": "code",
   "execution_count": 20,
   "id": "adb14b0f-75d8-4ecb-9663-216820443682",
   "metadata": {},
   "outputs": [
    {
     "data": {
      "text/html": [
       "<div>\n",
       "<style scoped>\n",
       "    .dataframe tbody tr th:only-of-type {\n",
       "        vertical-align: middle;\n",
       "    }\n",
       "\n",
       "    .dataframe tbody tr th {\n",
       "        vertical-align: top;\n",
       "    }\n",
       "\n",
       "    .dataframe thead th {\n",
       "        text-align: right;\n",
       "    }\n",
       "</style>\n",
       "<table border=\"1\" class=\"dataframe\">\n",
       "  <thead>\n",
       "    <tr style=\"text-align: right;\">\n",
       "      <th></th>\n",
       "      <th>movieId</th>\n",
       "      <th>title</th>\n",
       "      <th>genres</th>\n",
       "      <th>list_genres</th>\n",
       "      <th>list_genres_f</th>\n",
       "    </tr>\n",
       "  </thead>\n",
       "  <tbody>\n",
       "    <tr>\n",
       "      <th>0</th>\n",
       "      <td>1</td>\n",
       "      <td>Toy Story (1995)</td>\n",
       "      <td>Adventure|Animation|Children|Comedy|Fantasy</td>\n",
       "      <td>[Adventure, Animation, Children, Comedy, Fantasy]</td>\n",
       "      <td>Adventure Animation Children Comedy Fantasy</td>\n",
       "    </tr>\n",
       "    <tr>\n",
       "      <th>1</th>\n",
       "      <td>2</td>\n",
       "      <td>Jumanji (1995)</td>\n",
       "      <td>Adventure|Children|Fantasy</td>\n",
       "      <td>[Adventure, Children, Fantasy]</td>\n",
       "      <td>Adventure Children Fantasy</td>\n",
       "    </tr>\n",
       "    <tr>\n",
       "      <th>2</th>\n",
       "      <td>3</td>\n",
       "      <td>Grumpier Old Men (1995)</td>\n",
       "      <td>Comedy|Romance</td>\n",
       "      <td>[Comedy, Romance]</td>\n",
       "      <td>Comedy Romance</td>\n",
       "    </tr>\n",
       "    <tr>\n",
       "      <th>3</th>\n",
       "      <td>4</td>\n",
       "      <td>Waiting to Exhale (1995)</td>\n",
       "      <td>Comedy|Drama|Romance</td>\n",
       "      <td>[Comedy, Drama, Romance]</td>\n",
       "      <td>Comedy Drama Romance</td>\n",
       "    </tr>\n",
       "    <tr>\n",
       "      <th>4</th>\n",
       "      <td>5</td>\n",
       "      <td>Father of the Bride Part II (1995)</td>\n",
       "      <td>Comedy</td>\n",
       "      <td>[Comedy]</td>\n",
       "      <td>Comedy</td>\n",
       "    </tr>\n",
       "  </tbody>\n",
       "</table>\n",
       "</div>"
      ],
      "text/plain": [
       "   movieId                               title  \\\n",
       "0        1                    Toy Story (1995)   \n",
       "1        2                      Jumanji (1995)   \n",
       "2        3             Grumpier Old Men (1995)   \n",
       "3        4            Waiting to Exhale (1995)   \n",
       "4        5  Father of the Bride Part II (1995)   \n",
       "\n",
       "                                        genres  \\\n",
       "0  Adventure|Animation|Children|Comedy|Fantasy   \n",
       "1                   Adventure|Children|Fantasy   \n",
       "2                               Comedy|Romance   \n",
       "3                         Comedy|Drama|Romance   \n",
       "4                                       Comedy   \n",
       "\n",
       "                                         list_genres  \\\n",
       "0  [Adventure, Animation, Children, Comedy, Fantasy]   \n",
       "1                     [Adventure, Children, Fantasy]   \n",
       "2                                  [Comedy, Romance]   \n",
       "3                           [Comedy, Drama, Romance]   \n",
       "4                                           [Comedy]   \n",
       "\n",
       "                                 list_genres_f  \n",
       "0  Adventure Animation Children Comedy Fantasy  \n",
       "1                   Adventure Children Fantasy  \n",
       "2                               Comedy Romance  \n",
       "3                         Comedy Drama Romance  \n",
       "4                                       Comedy  "
      ]
     },
     "execution_count": 20,
     "metadata": {},
     "output_type": "execute_result"
    }
   ],
   "source": [
    "df_content.head()"
   ]
  },
  {
   "cell_type": "code",
   "execution_count": 21,
   "id": "00f859d2-be84-4387-96aa-8af351855928",
   "metadata": {},
   "outputs": [],
   "source": [
    "listval  = []\n",
    "for i in range(df_content.shape[0]):\n",
    "    list_movies = df_content.iloc[i,4].split(\" \")\n",
    "    for j in range(len(list_movies)):\n",
    "        if list_movies[j] not in listval:\n",
    "            listval.append(list_movies[j])"
   ]
  },
  {
   "cell_type": "code",
   "execution_count": 22,
   "id": "99cf34c8-2cea-45fa-9ce4-d40234259fe7",
   "metadata": {},
   "outputs": [
    {
     "data": {
      "text/plain": [
       "['Adventure',\n",
       " 'Animation',\n",
       " 'Children',\n",
       " 'Comedy',\n",
       " 'Fantasy',\n",
       " 'Romance',\n",
       " 'Drama',\n",
       " 'Action',\n",
       " 'Crime',\n",
       " 'Thriller',\n",
       " 'Horror',\n",
       " 'Mystery',\n",
       " 'SciFi',\n",
       " 'War',\n",
       " 'Musical',\n",
       " 'Documentary',\n",
       " 'IMAX',\n",
       " 'Western',\n",
       " 'FilmNoir',\n",
       " 'NoGenres']"
      ]
     },
     "execution_count": 22,
     "metadata": {},
     "output_type": "execute_result"
    }
   ],
   "source": [
    "listval"
   ]
  },
  {
   "cell_type": "code",
   "execution_count": 23,
   "id": "6f29afa6-6ac2-43a2-84ce-ba5038d2fb6c",
   "metadata": {},
   "outputs": [],
   "source": [
    "from sklearn.feature_extraction.text import CountVectorizer"
   ]
  },
  {
   "cell_type": "code",
   "execution_count": 24,
   "id": "931148e5-27db-44da-a1d8-e79c6639e5c2",
   "metadata": {},
   "outputs": [],
   "source": [
    "vectorizer = CountVectorizer(lowercase=False)\n",
    "text_data = df_content['list_genres_f'].values\n",
    "X = vectorizer.fit_transform(text_data)\n",
    "df_content[vectorizer.get_feature_names_out()] = X.toarray()"
   ]
  },
  {
   "cell_type": "code",
   "execution_count": 25,
   "id": "8f9985e1-c2f3-4c0b-83ec-d95c5d4b7b71",
   "metadata": {},
   "outputs": [
    {
     "data": {
      "text/html": [
       "<div>\n",
       "<style scoped>\n",
       "    .dataframe tbody tr th:only-of-type {\n",
       "        vertical-align: middle;\n",
       "    }\n",
       "\n",
       "    .dataframe tbody tr th {\n",
       "        vertical-align: top;\n",
       "    }\n",
       "\n",
       "    .dataframe thead th {\n",
       "        text-align: right;\n",
       "    }\n",
       "</style>\n",
       "<table border=\"1\" class=\"dataframe\">\n",
       "  <thead>\n",
       "    <tr style=\"text-align: right;\">\n",
       "      <th></th>\n",
       "      <th>movieId</th>\n",
       "      <th>title</th>\n",
       "      <th>genres</th>\n",
       "      <th>list_genres</th>\n",
       "      <th>list_genres_f</th>\n",
       "      <th>Action</th>\n",
       "      <th>Adventure</th>\n",
       "      <th>Animation</th>\n",
       "      <th>Children</th>\n",
       "      <th>Comedy</th>\n",
       "      <th>...</th>\n",
       "      <th>Horror</th>\n",
       "      <th>IMAX</th>\n",
       "      <th>Musical</th>\n",
       "      <th>Mystery</th>\n",
       "      <th>NoGenres</th>\n",
       "      <th>Romance</th>\n",
       "      <th>SciFi</th>\n",
       "      <th>Thriller</th>\n",
       "      <th>War</th>\n",
       "      <th>Western</th>\n",
       "    </tr>\n",
       "  </thead>\n",
       "  <tbody>\n",
       "    <tr>\n",
       "      <th>0</th>\n",
       "      <td>1</td>\n",
       "      <td>Toy Story (1995)</td>\n",
       "      <td>Adventure|Animation|Children|Comedy|Fantasy</td>\n",
       "      <td>[Adventure, Animation, Children, Comedy, Fantasy]</td>\n",
       "      <td>Adventure Animation Children Comedy Fantasy</td>\n",
       "      <td>0</td>\n",
       "      <td>1</td>\n",
       "      <td>1</td>\n",
       "      <td>1</td>\n",
       "      <td>1</td>\n",
       "      <td>...</td>\n",
       "      <td>0</td>\n",
       "      <td>0</td>\n",
       "      <td>0</td>\n",
       "      <td>0</td>\n",
       "      <td>0</td>\n",
       "      <td>0</td>\n",
       "      <td>0</td>\n",
       "      <td>0</td>\n",
       "      <td>0</td>\n",
       "      <td>0</td>\n",
       "    </tr>\n",
       "    <tr>\n",
       "      <th>1</th>\n",
       "      <td>2</td>\n",
       "      <td>Jumanji (1995)</td>\n",
       "      <td>Adventure|Children|Fantasy</td>\n",
       "      <td>[Adventure, Children, Fantasy]</td>\n",
       "      <td>Adventure Children Fantasy</td>\n",
       "      <td>0</td>\n",
       "      <td>1</td>\n",
       "      <td>0</td>\n",
       "      <td>1</td>\n",
       "      <td>0</td>\n",
       "      <td>...</td>\n",
       "      <td>0</td>\n",
       "      <td>0</td>\n",
       "      <td>0</td>\n",
       "      <td>0</td>\n",
       "      <td>0</td>\n",
       "      <td>0</td>\n",
       "      <td>0</td>\n",
       "      <td>0</td>\n",
       "      <td>0</td>\n",
       "      <td>0</td>\n",
       "    </tr>\n",
       "    <tr>\n",
       "      <th>2</th>\n",
       "      <td>3</td>\n",
       "      <td>Grumpier Old Men (1995)</td>\n",
       "      <td>Comedy|Romance</td>\n",
       "      <td>[Comedy, Romance]</td>\n",
       "      <td>Comedy Romance</td>\n",
       "      <td>0</td>\n",
       "      <td>0</td>\n",
       "      <td>0</td>\n",
       "      <td>0</td>\n",
       "      <td>1</td>\n",
       "      <td>...</td>\n",
       "      <td>0</td>\n",
       "      <td>0</td>\n",
       "      <td>0</td>\n",
       "      <td>0</td>\n",
       "      <td>0</td>\n",
       "      <td>1</td>\n",
       "      <td>0</td>\n",
       "      <td>0</td>\n",
       "      <td>0</td>\n",
       "      <td>0</td>\n",
       "    </tr>\n",
       "    <tr>\n",
       "      <th>3</th>\n",
       "      <td>4</td>\n",
       "      <td>Waiting to Exhale (1995)</td>\n",
       "      <td>Comedy|Drama|Romance</td>\n",
       "      <td>[Comedy, Drama, Romance]</td>\n",
       "      <td>Comedy Drama Romance</td>\n",
       "      <td>0</td>\n",
       "      <td>0</td>\n",
       "      <td>0</td>\n",
       "      <td>0</td>\n",
       "      <td>1</td>\n",
       "      <td>...</td>\n",
       "      <td>0</td>\n",
       "      <td>0</td>\n",
       "      <td>0</td>\n",
       "      <td>0</td>\n",
       "      <td>0</td>\n",
       "      <td>1</td>\n",
       "      <td>0</td>\n",
       "      <td>0</td>\n",
       "      <td>0</td>\n",
       "      <td>0</td>\n",
       "    </tr>\n",
       "    <tr>\n",
       "      <th>4</th>\n",
       "      <td>5</td>\n",
       "      <td>Father of the Bride Part II (1995)</td>\n",
       "      <td>Comedy</td>\n",
       "      <td>[Comedy]</td>\n",
       "      <td>Comedy</td>\n",
       "      <td>0</td>\n",
       "      <td>0</td>\n",
       "      <td>0</td>\n",
       "      <td>0</td>\n",
       "      <td>1</td>\n",
       "      <td>...</td>\n",
       "      <td>0</td>\n",
       "      <td>0</td>\n",
       "      <td>0</td>\n",
       "      <td>0</td>\n",
       "      <td>0</td>\n",
       "      <td>0</td>\n",
       "      <td>0</td>\n",
       "      <td>0</td>\n",
       "      <td>0</td>\n",
       "      <td>0</td>\n",
       "    </tr>\n",
       "  </tbody>\n",
       "</table>\n",
       "<p>5 rows × 25 columns</p>\n",
       "</div>"
      ],
      "text/plain": [
       "   movieId                               title  \\\n",
       "0        1                    Toy Story (1995)   \n",
       "1        2                      Jumanji (1995)   \n",
       "2        3             Grumpier Old Men (1995)   \n",
       "3        4            Waiting to Exhale (1995)   \n",
       "4        5  Father of the Bride Part II (1995)   \n",
       "\n",
       "                                        genres  \\\n",
       "0  Adventure|Animation|Children|Comedy|Fantasy   \n",
       "1                   Adventure|Children|Fantasy   \n",
       "2                               Comedy|Romance   \n",
       "3                         Comedy|Drama|Romance   \n",
       "4                                       Comedy   \n",
       "\n",
       "                                         list_genres  \\\n",
       "0  [Adventure, Animation, Children, Comedy, Fantasy]   \n",
       "1                     [Adventure, Children, Fantasy]   \n",
       "2                                  [Comedy, Romance]   \n",
       "3                           [Comedy, Drama, Romance]   \n",
       "4                                           [Comedy]   \n",
       "\n",
       "                                 list_genres_f  Action  Adventure  Animation  \\\n",
       "0  Adventure Animation Children Comedy Fantasy       0          1          1   \n",
       "1                   Adventure Children Fantasy       0          1          0   \n",
       "2                               Comedy Romance       0          0          0   \n",
       "3                         Comedy Drama Romance       0          0          0   \n",
       "4                                       Comedy       0          0          0   \n",
       "\n",
       "   Children  Comedy  ...  Horror  IMAX  Musical  Mystery  NoGenres  Romance  \\\n",
       "0         1       1  ...       0     0        0        0         0        0   \n",
       "1         1       0  ...       0     0        0        0         0        0   \n",
       "2         0       1  ...       0     0        0        0         0        1   \n",
       "3         0       1  ...       0     0        0        0         0        1   \n",
       "4         0       1  ...       0     0        0        0         0        0   \n",
       "\n",
       "   SciFi  Thriller  War  Western  \n",
       "0      0         0    0        0  \n",
       "1      0         0    0        0  \n",
       "2      0         0    0        0  \n",
       "3      0         0    0        0  \n",
       "4      0         0    0        0  \n",
       "\n",
       "[5 rows x 25 columns]"
      ]
     },
     "execution_count": 25,
     "metadata": {},
     "output_type": "execute_result"
    }
   ],
   "source": [
    "df_content.head()"
   ]
  },
  {
   "cell_type": "code",
   "execution_count": 26,
   "id": "e18c5505-1ade-4c8e-84a2-029e2991ddd3",
   "metadata": {},
   "outputs": [],
   "source": [
    "df_content.drop(['genres','list_genres','list_genres_f'], axis=1, inplace=True)"
   ]
  },
  {
   "cell_type": "code",
   "execution_count": 27,
   "id": "be592f46-14d6-4f31-9ff2-3b28070ff707",
   "metadata": {},
   "outputs": [
    {
     "data": {
      "text/plain": [
       "Index(['movieId', 'title', 'Action', 'Adventure', 'Animation', 'Children',\n",
       "       'Comedy', 'Crime', 'Documentary', 'Drama', 'Fantasy', 'FilmNoir',\n",
       "       'Horror', 'IMAX', 'Musical', 'Mystery', 'NoGenres', 'Romance', 'SciFi',\n",
       "       'Thriller', 'War', 'Western'],\n",
       "      dtype='object')"
      ]
     },
     "execution_count": 27,
     "metadata": {},
     "output_type": "execute_result"
    }
   ],
   "source": [
    "df_content.columns"
   ]
  },
  {
   "cell_type": "code",
   "execution_count": 28,
   "id": "8a908ee4-c70e-4a47-9ebc-1bec54c2ab3a",
   "metadata": {},
   "outputs": [],
   "source": [
    "from scipy.spatial.distance import cosine"
   ]
  },
  {
   "cell_type": "code",
   "execution_count": 29,
   "id": "7a10a51d-58e8-45c5-91ad-662079ff79a3",
   "metadata": {},
   "outputs": [],
   "source": [
    "X = df_content.drop(['movieId','title'],axis=1).values"
   ]
  },
  {
   "cell_type": "code",
   "execution_count": 30,
   "id": "5a5522c3-5c94-4001-b3a7-c8d139ac9940",
   "metadata": {},
   "outputs": [
    {
     "data": {
      "text/plain": [
       "(9742, 20)"
      ]
     },
     "execution_count": 30,
     "metadata": {},
     "output_type": "execute_result"
    }
   ],
   "source": [
    "X.shape"
   ]
  },
  {
   "cell_type": "code",
   "execution_count": 31,
   "id": "624fadb7-de94-45ae-bc45-1b5d5f1c27df",
   "metadata": {},
   "outputs": [
    {
     "data": {
      "text/plain": [
       "(array([0, 1, 1, 1, 1, 0, 0, 0, 1, 0, 0, 0, 0, 0, 0, 0, 0, 0, 0, 0]),\n",
       " array([0, 1, 0, 1, 0, 0, 0, 0, 1, 0, 0, 0, 0, 0, 0, 0, 0, 0, 0, 0]),\n",
       " array([0, 0, 0, 0, 1, 0, 0, 0, 0, 0, 0, 0, 0, 0, 0, 1, 0, 0, 0, 0]))"
      ]
     },
     "execution_count": 31,
     "metadata": {},
     "output_type": "execute_result"
    }
   ],
   "source": [
    "X[0], X[1], X[2]"
   ]
  },
  {
   "cell_type": "code",
   "execution_count": 32,
   "id": "1e8fe92e-44b5-46e7-be45-943e6b4e04aa",
   "metadata": {},
   "outputs": [
    {
     "data": {
      "text/plain": [
       "0.316227766016838"
      ]
     },
     "execution_count": 32,
     "metadata": {},
     "output_type": "execute_result"
    }
   ],
   "source": [
    "1-cosine(X[0], X[2]) # Cosine Similarity = 1 - cosine distance"
   ]
  },
  {
   "cell_type": "code",
   "execution_count": 35,
   "id": "a117ba74-7f2a-45c7-b89d-2f72d6b39f66",
   "metadata": {},
   "outputs": [],
   "source": [
    "from sklearn.metrics.pairwise import cosine_similarity"
   ]
  },
  {
   "cell_type": "code",
   "execution_count": 36,
   "id": "91cfad70-da93-4e81-a05e-459863e3d6bc",
   "metadata": {},
   "outputs": [],
   "source": [
    "sim_matrix = cosine_similarity(X)"
   ]
  },
  {
   "cell_type": "code",
   "execution_count": 37,
   "id": "880b6f9b-1bdf-4c23-ab65-efa0f5025120",
   "metadata": {},
   "outputs": [
    {
     "data": {
      "text/plain": [
       "(9742, 9742)"
      ]
     },
     "execution_count": 37,
     "metadata": {},
     "output_type": "execute_result"
    }
   ],
   "source": [
    "sim_matrix.shape"
   ]
  },
  {
   "cell_type": "code",
   "execution_count": 38,
   "id": "6b869424-f0c2-4cef-888f-4ac670544a5f",
   "metadata": {},
   "outputs": [],
   "source": [
    "#sim_matrix"
   ]
  },
  {
   "cell_type": "code",
   "execution_count": 39,
   "id": "067b186f-6329-4583-b572-fa2f9ae3ff8c",
   "metadata": {},
   "outputs": [],
   "source": [
    "def get_user_recommendations(userid=1, s_matrix= sim_matrix,  ratings = rat_df, movies = mov_df, min_rating = 4, n=5):\n",
    "    ldf = rat_df[rat_df['userId']==userid]\n",
    "\n",
    "    list_movies_liked = []\n",
    "    for i in range(ldf.shape[0]):\n",
    "        if ldf.iloc[i,2]> min_rating:\n",
    "            list_movies_liked.append(ldf.iloc[i,1])\n",
    "\n",
    "    list_movies_seen = []\n",
    "    \n",
    "    for k in range(ldf.shape[0]):\n",
    "        list_movies_seen.append(ldf.iloc[k,1])\n",
    "\n",
    "    recommendations = {}\n",
    "    \n",
    "    for j in range(mov_df.shape[0]):\n",
    "        movie = mov_df.iloc[j,0]\n",
    "        m1_index = mov_df[mov_df.movieId == movie].index[0]\n",
    "        if movie in list_movies_liked or movie in list_movies_seen:\n",
    "            continue\n",
    "        else:\n",
    "            for mov in list_movies_liked:\n",
    "                m2_index = mov_df[mov_df.movieId == mov].index[0]\n",
    "                old_score = recommendations.get((mov,movie))\n",
    "                sim_score = s_matrix[m1_index,m2_index]\n",
    "                if  old_score != None:\n",
    "                    recommendations[(mov, movie)] = (sim_score + old_score)/2\n",
    "                else:\n",
    "                    recommendations[(mov, movie)] = sim_score\n",
    "    \n",
    "    sorted_list = list(dict(sorted(recommendations.items(), key=lambda item: item[1],reverse=True)))\n",
    "    final_rec = []\n",
    "    for k in sorted_list:\n",
    "        if k[1] not in final_rec and len(final_rec) <n:\n",
    "            final_rec.append(k[1])\n",
    "    \n",
    "    list_of_movies = []\n",
    "    for rmovie in final_rec:\n",
    "        list_of_movies.append(mov_df[mov_df.movieId == rmovie]['title'].values[0])\n",
    "\n",
    "    return list_of_movies\n",
    "    "
   ]
  },
  {
   "cell_type": "code",
   "execution_count": null,
   "id": "cec4048f-7b23-4b51-9003-f9668f56755e",
   "metadata": {},
   "outputs": [],
   "source": [
    "get_user_recommendations(userid=1, min_rating = 4.5)"
   ]
  },
  {
   "cell_type": "code",
   "execution_count": null,
   "id": "d4bcbc80-5a5d-4107-a747-8058561f8183",
   "metadata": {},
   "outputs": [],
   "source": [
    "movies_dict = {}\n",
    "for i in range(0, mov_df.shape[0]):\n",
    "    movies_dict[mov_df.iloc[i,0]] = mov_df.iloc[i,1]\n",
    "    \n",
    "def movies_liked_by_user(userid, data=rat_df, n=5, min_rating = 3):\n",
    "    ratings_df = rat_df.copy()[rat_df['userId']==userid]\n",
    "    ratings_df.where(data['rating']>=min_rating, inplace=True)\n",
    "    ratings_df.sort_values(by = 'rating', ascending=False, inplace=True)\n",
    "    movies_list = []\n",
    "    for i in range(ratings_df.shape[0]):\n",
    "        mov_rating = ratings_df.iloc[i,2]\n",
    "        movie_id = ratings_df.iloc[i,1]\n",
    "        movies_list.append(movies_dict.get(movie_id))\n",
    "    return movies_list[0:n]"
   ]
  },
  {
   "cell_type": "code",
   "execution_count": null,
   "id": "6abc80e2-5e64-4ba2-9b92-599ae64d2104",
   "metadata": {},
   "outputs": [],
   "source": [
    "movies_liked_by_user(userid = 1, min_rating = 4.5)"
   ]
  },
  {
   "cell_type": "markdown",
   "id": "9063d1e8-8129-4446-b900-1c156fbf8628",
   "metadata": {
    "tags": []
   },
   "source": [
    "## **User-Item collaborative filtering**"
   ]
  },
  {
   "cell_type": "code",
   "execution_count": null,
   "id": "03ca961b-6efd-490f-9a05-9cfeae1c9b88",
   "metadata": {},
   "outputs": [],
   "source": [
    "!pip install scikit-surprise --quiet"
   ]
  },
  {
   "cell_type": "code",
   "execution_count": 40,
   "id": "03e7fdda-b533-4b9d-9841-0c0aa73aa7e0",
   "metadata": {},
   "outputs": [],
   "source": [
    "from surprise import KNNBasic, accuracy\n",
    "from surprise import Reader, Dataset"
   ]
  },
  {
   "cell_type": "code",
   "execution_count": 41,
   "id": "c2f244ac-43b8-437c-b3cc-125334babca4",
   "metadata": {},
   "outputs": [],
   "source": [
    "mov_reader = Reader(line_format='user item rating', rating_scale=(0.5,5))"
   ]
  },
  {
   "cell_type": "code",
   "execution_count": 42,
   "id": "3c8a38e6-d0e7-427c-9e45-c1f1082cc46a",
   "metadata": {},
   "outputs": [],
   "source": [
    "data = Dataset.load_from_df(rat_df[['userId','movieId','rating']], reader=mov_reader)"
   ]
  },
  {
   "cell_type": "code",
   "execution_count": 43,
   "id": "f37d13d9-49be-4cd5-bdac-eabe6c263a2c",
   "metadata": {},
   "outputs": [
    {
     "data": {
      "text/plain": [
       "surprise.dataset.DatasetAutoFolds"
      ]
     },
     "execution_count": 43,
     "metadata": {},
     "output_type": "execute_result"
    }
   ],
   "source": [
    "type(data)"
   ]
  },
  {
   "cell_type": "code",
   "execution_count": 44,
   "id": "754390fe-39cc-4845-817d-387bc9b0d2a1",
   "metadata": {},
   "outputs": [
    {
     "data": {
      "text/html": [
       "<div>\n",
       "<style scoped>\n",
       "    .dataframe tbody tr th:only-of-type {\n",
       "        vertical-align: middle;\n",
       "    }\n",
       "\n",
       "    .dataframe tbody tr th {\n",
       "        vertical-align: top;\n",
       "    }\n",
       "\n",
       "    .dataframe thead th {\n",
       "        text-align: right;\n",
       "    }\n",
       "</style>\n",
       "<table border=\"1\" class=\"dataframe\">\n",
       "  <thead>\n",
       "    <tr style=\"text-align: right;\">\n",
       "      <th></th>\n",
       "      <th>userId</th>\n",
       "      <th>movieId</th>\n",
       "      <th>rating</th>\n",
       "    </tr>\n",
       "  </thead>\n",
       "  <tbody>\n",
       "    <tr>\n",
       "      <th>0</th>\n",
       "      <td>1</td>\n",
       "      <td>1</td>\n",
       "      <td>4.0</td>\n",
       "    </tr>\n",
       "    <tr>\n",
       "      <th>1</th>\n",
       "      <td>1</td>\n",
       "      <td>3</td>\n",
       "      <td>4.0</td>\n",
       "    </tr>\n",
       "    <tr>\n",
       "      <th>2</th>\n",
       "      <td>1</td>\n",
       "      <td>6</td>\n",
       "      <td>4.0</td>\n",
       "    </tr>\n",
       "    <tr>\n",
       "      <th>3</th>\n",
       "      <td>1</td>\n",
       "      <td>47</td>\n",
       "      <td>5.0</td>\n",
       "    </tr>\n",
       "    <tr>\n",
       "      <th>4</th>\n",
       "      <td>1</td>\n",
       "      <td>50</td>\n",
       "      <td>5.0</td>\n",
       "    </tr>\n",
       "  </tbody>\n",
       "</table>\n",
       "</div>"
      ],
      "text/plain": [
       "   userId  movieId  rating\n",
       "0       1        1     4.0\n",
       "1       1        3     4.0\n",
       "2       1        6     4.0\n",
       "3       1       47     5.0\n",
       "4       1       50     5.0"
      ]
     },
     "execution_count": 44,
     "metadata": {},
     "output_type": "execute_result"
    }
   ],
   "source": [
    "data.df.head()"
   ]
  },
  {
   "cell_type": "code",
   "execution_count": 45,
   "id": "8e402acf-1d46-4ceb-b5c4-78898e5407f2",
   "metadata": {},
   "outputs": [],
   "source": [
    "from surprise.model_selection import train_test_split"
   ]
  },
  {
   "cell_type": "code",
   "execution_count": 46,
   "id": "eeca0485-518b-4779-a39d-fc009d998596",
   "metadata": {},
   "outputs": [],
   "source": [
    "train_data, test_data = train_test_split(data=data,\n",
    "                                         random_state=12345,\n",
    "                                         train_size=0.8)"
   ]
  },
  {
   "cell_type": "code",
   "execution_count": 47,
   "id": "bbefac8f-2642-4049-b6c6-7830db99cfce",
   "metadata": {},
   "outputs": [],
   "source": [
    "knn_model = KNNBasic(k=15, min_k=5, sim_options = {'name': 'cosine', 'user_based': True}, verbose=True)"
   ]
  },
  {
   "cell_type": "code",
   "execution_count": 48,
   "id": "3ee4450f-5a6e-4553-b558-ea13eee1d077",
   "metadata": {},
   "outputs": [
    {
     "name": "stdout",
     "output_type": "stream",
     "text": [
      "Computing the cosine similarity matrix...\n",
      "Done computing similarity matrix.\n"
     ]
    },
    {
     "data": {
      "text/plain": [
       "<surprise.prediction_algorithms.knns.KNNBasic at 0x7f56dee3fd00>"
      ]
     },
     "execution_count": 48,
     "metadata": {},
     "output_type": "execute_result"
    }
   ],
   "source": [
    "knn_model.fit(train_data)"
   ]
  },
  {
   "cell_type": "code",
   "execution_count": 49,
   "id": "11ca7703-5271-4cd5-b566-793cf680fb82",
   "metadata": {},
   "outputs": [],
   "source": [
    "predictions = knn_model.test(test_data)"
   ]
  },
  {
   "cell_type": "code",
   "execution_count": 50,
   "id": "cd6a5956-c4c7-4599-8eb0-e444766d8030",
   "metadata": {},
   "outputs": [
    {
     "data": {
      "text/plain": [
       "Prediction(uid=414, iid=4649, r_ui=2.0, est=3.8937510909858637, details={'actual_k': 5, 'was_impossible': False})"
      ]
     },
     "execution_count": 50,
     "metadata": {},
     "output_type": "execute_result"
    }
   ],
   "source": [
    "predictions[0]"
   ]
  },
  {
   "cell_type": "code",
   "execution_count": 51,
   "id": "8ac5acd4-4f2e-42d8-8d4f-a9a461c6e108",
   "metadata": {},
   "outputs": [],
   "source": [
    "#test_data"
   ]
  },
  {
   "cell_type": "code",
   "execution_count": 52,
   "id": "0da0d392-aa1c-497e-95a0-7f9f95b03d3a",
   "metadata": {},
   "outputs": [],
   "source": [
    "test_df = pd.DataFrame(test_data, columns = ['UserId','MovieId','Rating'])"
   ]
  },
  {
   "cell_type": "code",
   "execution_count": 53,
   "id": "4bcc9490-a9b0-47de-bc3a-699d92c4c612",
   "metadata": {},
   "outputs": [
    {
     "data": {
      "text/html": [
       "<div>\n",
       "<style scoped>\n",
       "    .dataframe tbody tr th:only-of-type {\n",
       "        vertical-align: middle;\n",
       "    }\n",
       "\n",
       "    .dataframe tbody tr th {\n",
       "        vertical-align: top;\n",
       "    }\n",
       "\n",
       "    .dataframe thead th {\n",
       "        text-align: right;\n",
       "    }\n",
       "</style>\n",
       "<table border=\"1\" class=\"dataframe\">\n",
       "  <thead>\n",
       "    <tr style=\"text-align: right;\">\n",
       "      <th></th>\n",
       "      <th>UserId</th>\n",
       "      <th>MovieId</th>\n",
       "      <th>Rating</th>\n",
       "    </tr>\n",
       "  </thead>\n",
       "  <tbody>\n",
       "    <tr>\n",
       "      <th>0</th>\n",
       "      <td>414</td>\n",
       "      <td>4649</td>\n",
       "      <td>2.0</td>\n",
       "    </tr>\n",
       "    <tr>\n",
       "      <th>1</th>\n",
       "      <td>477</td>\n",
       "      <td>908</td>\n",
       "      <td>4.0</td>\n",
       "    </tr>\n",
       "    <tr>\n",
       "      <th>2</th>\n",
       "      <td>432</td>\n",
       "      <td>1653</td>\n",
       "      <td>4.0</td>\n",
       "    </tr>\n",
       "    <tr>\n",
       "      <th>3</th>\n",
       "      <td>599</td>\n",
       "      <td>4344</td>\n",
       "      <td>2.5</td>\n",
       "    </tr>\n",
       "    <tr>\n",
       "      <th>4</th>\n",
       "      <td>280</td>\n",
       "      <td>91077</td>\n",
       "      <td>4.5</td>\n",
       "    </tr>\n",
       "  </tbody>\n",
       "</table>\n",
       "</div>"
      ],
      "text/plain": [
       "   UserId  MovieId  Rating\n",
       "0     414     4649     2.0\n",
       "1     477      908     4.0\n",
       "2     432     1653     4.0\n",
       "3     599     4344     2.5\n",
       "4     280    91077     4.5"
      ]
     },
     "execution_count": 53,
     "metadata": {},
     "output_type": "execute_result"
    }
   ],
   "source": [
    "test_df.head()"
   ]
  },
  {
   "cell_type": "code",
   "execution_count": 54,
   "id": "666d399a-1158-430a-b45b-faf48e04e1ed",
   "metadata": {},
   "outputs": [],
   "source": [
    "ratings = []\n",
    "for i in range(len(predictions)):\n",
    "    ratings.append(np.round(predictions[i].est,1))\n",
    "\n",
    "test_df['predicted_rating'] = ratings"
   ]
  },
  {
   "cell_type": "code",
   "execution_count": 55,
   "id": "172e2e7d-74f8-4f0b-929c-510b472795c6",
   "metadata": {},
   "outputs": [
    {
     "data": {
      "text/html": [
       "<div>\n",
       "<style scoped>\n",
       "    .dataframe tbody tr th:only-of-type {\n",
       "        vertical-align: middle;\n",
       "    }\n",
       "\n",
       "    .dataframe tbody tr th {\n",
       "        vertical-align: top;\n",
       "    }\n",
       "\n",
       "    .dataframe thead th {\n",
       "        text-align: right;\n",
       "    }\n",
       "</style>\n",
       "<table border=\"1\" class=\"dataframe\">\n",
       "  <thead>\n",
       "    <tr style=\"text-align: right;\">\n",
       "      <th></th>\n",
       "      <th>UserId</th>\n",
       "      <th>MovieId</th>\n",
       "      <th>Rating</th>\n",
       "      <th>predicted_rating</th>\n",
       "    </tr>\n",
       "  </thead>\n",
       "  <tbody>\n",
       "    <tr>\n",
       "      <th>0</th>\n",
       "      <td>414</td>\n",
       "      <td>4649</td>\n",
       "      <td>2.0</td>\n",
       "      <td>3.9</td>\n",
       "    </tr>\n",
       "    <tr>\n",
       "      <th>1</th>\n",
       "      <td>477</td>\n",
       "      <td>908</td>\n",
       "      <td>4.0</td>\n",
       "      <td>4.4</td>\n",
       "    </tr>\n",
       "    <tr>\n",
       "      <th>2</th>\n",
       "      <td>432</td>\n",
       "      <td>1653</td>\n",
       "      <td>4.0</td>\n",
       "      <td>4.0</td>\n",
       "    </tr>\n",
       "    <tr>\n",
       "      <th>3</th>\n",
       "      <td>599</td>\n",
       "      <td>4344</td>\n",
       "      <td>2.5</td>\n",
       "      <td>3.1</td>\n",
       "    </tr>\n",
       "    <tr>\n",
       "      <th>4</th>\n",
       "      <td>280</td>\n",
       "      <td>91077</td>\n",
       "      <td>4.5</td>\n",
       "      <td>3.8</td>\n",
       "    </tr>\n",
       "  </tbody>\n",
       "</table>\n",
       "</div>"
      ],
      "text/plain": [
       "   UserId  MovieId  Rating  predicted_rating\n",
       "0     414     4649     2.0               3.9\n",
       "1     477      908     4.0               4.4\n",
       "2     432     1653     4.0               4.0\n",
       "3     599     4344     2.5               3.1\n",
       "4     280    91077     4.5               3.8"
      ]
     },
     "execution_count": 55,
     "metadata": {},
     "output_type": "execute_result"
    }
   ],
   "source": [
    "test_df.head()"
   ]
  },
  {
   "cell_type": "code",
   "execution_count": 56,
   "id": "f22f84ad-81bd-40dc-bf7b-ae7128470a47",
   "metadata": {},
   "outputs": [],
   "source": [
    "from sklearn.metrics import mean_squared_error"
   ]
  },
  {
   "cell_type": "code",
   "execution_count": 57,
   "id": "9608b91b-a445-444c-b452-19b960b136fd",
   "metadata": {},
   "outputs": [],
   "source": [
    "rmse = np.sqrt(mean_squared_error(y_true=test_df['Rating'], y_pred = test_df['predicted_rating']))"
   ]
  },
  {
   "cell_type": "code",
   "execution_count": 58,
   "id": "25c8187e-18dd-4c17-a68a-f5243411df32",
   "metadata": {},
   "outputs": [
    {
     "name": "stdout",
     "output_type": "stream",
     "text": [
      "Root Mean Squared Error 0.98\n"
     ]
    }
   ],
   "source": [
    "print(f\"Root Mean Squared Error {rmse:,.2f}\")"
   ]
  },
  {
   "cell_type": "code",
   "execution_count": 59,
   "id": "b56f36b8-b2fd-4c74-a4d7-a9dd05d03b0f",
   "metadata": {},
   "outputs": [],
   "source": [
    "movies_dict = {}\n",
    "for i in range(0, mov_df.shape[0]):\n",
    "    movies_dict[mov_df.iloc[i,0]] = mov_df.iloc[i,1]"
   ]
  },
  {
   "cell_type": "code",
   "execution_count": 60,
   "id": "66a185f7-a265-453e-85b4-2c8d9f4ac76a",
   "metadata": {},
   "outputs": [],
   "source": [
    "def movies_liked_by_user(userid, data=rat_df, n=5, min_rating = 3):\n",
    "    ratings_df = rat_df.copy()[rat_df['userId']==userid]\n",
    "    ratings_df.where(data['rating']>=min_rating, inplace=True)\n",
    "    ratings_df.sort_values(by = 'rating', ascending=False, inplace=True)\n",
    "    movies_list = []\n",
    "    for i in range(ratings_df.shape[0]):\n",
    "        mov_rating = ratings_df.iloc[i,2]\n",
    "        movie_id = ratings_df.iloc[i,1]\n",
    "        movies_list.append(movies_dict.get(movie_id))\n",
    "    return movies_list[0:n]"
   ]
  },
  {
   "cell_type": "code",
   "execution_count": 61,
   "id": "f4b7c703-a45b-4b4e-9ee6-ff8e1a93902a",
   "metadata": {},
   "outputs": [],
   "source": [
    "def get_top_N(userid, model=knn_model, data=rat_df, n=5):\n",
    "  user_predictions = {}\n",
    "  for i in range(mov_df.shape[0]):\n",
    "    movId = mov_df.iloc[i,0]\n",
    "    user_movies = data[data.userId == userid]['movieId'].values\n",
    "    if  movId not in user_movies:\n",
    "        user_predictions[movies_dict.get(movId)] = np.round(model.predict(uid=userid, iid=movId)[3],1)\n",
    "    if n==-1:\n",
    "        retval = list(dict(sorted(user_predictions.items(), key=lambda item: item[1],reverse=True)))\n",
    "    else:\n",
    "        retval = list(dict(sorted(user_predictions.items(), key=lambda item: item[1],reverse=True)))[0:n]\n",
    "\n",
    "  return retval"
   ]
  },
  {
   "cell_type": "code",
   "execution_count": 62,
   "id": "d375ff9a-fe25-477f-97d2-83b794b98246",
   "metadata": {},
   "outputs": [],
   "source": [
    "def HitRate(predictions, threshold = 3.5):\n",
    "    hits = 0\n",
    "    total_users = len(set(pred.uid for pred in predictions)) # Count unique users\n",
    "    user_hits = {} # Dictionary to track if a user has a hit\n",
    "\n",
    "    for pred in predictions:\n",
    "        # A simple definition of a hit: if the predicted rating is >= the actual rating\n",
    "        if (pred.est >= pred.r_ui) and (pred.est > threshold):\n",
    "            user_hits[pred.uid] = True # Mark this user as having a hit\n",
    "\n",
    "    hits = sum(user_hits.values()) # Count the number of users with at least one hit\n",
    "    return hits / total_users if total_users > 0 else 0"
   ]
  },
  {
   "cell_type": "code",
   "execution_count": 63,
   "id": "1ff836bf-2e28-46aa-b5ce-6ecea9b68545",
   "metadata": {},
   "outputs": [
    {
     "data": {
      "text/plain": [
       "['All Quiet on the Western Front (1930)',\n",
       " 'NeverEnding Story, The (1984)',\n",
       " 'Rescuers, The (1977)',\n",
       " 'Rocketeer, The (1991)',\n",
       " 'Indiana Jones and the Temple of Doom (1984)']"
      ]
     },
     "execution_count": 63,
     "metadata": {},
     "output_type": "execute_result"
    }
   ],
   "source": [
    "movies_liked_by_user(userid=1)"
   ]
  },
  {
   "cell_type": "code",
   "execution_count": 64,
   "id": "3de422cf-387c-46fc-b302-4ec5ba5db8b5",
   "metadata": {},
   "outputs": [
    {
     "data": {
      "text/plain": [
       "['Trial, The (Procès, Le) (1962)',\n",
       " 'Last Picture Show, The (1971)',\n",
       " 'Life Is Beautiful (La Vita è bella) (1997)',\n",
       " 'Three Billboards Outside Ebbing, Missouri (2017)',\n",
       " 'Shawshank Redemption, The (1994)']"
      ]
     },
     "execution_count": 64,
     "metadata": {},
     "output_type": "execute_result"
    }
   ],
   "source": [
    "get_top_N(userid = 1)"
   ]
  },
  {
   "cell_type": "code",
   "execution_count": 65,
   "id": "b6956a77-9ffc-44d6-93a4-7ffc9cc02690",
   "metadata": {},
   "outputs": [
    {
     "data": {
      "text/plain": [
       "0.90311986863711"
      ]
     },
     "execution_count": 65,
     "metadata": {},
     "output_type": "execute_result"
    }
   ],
   "source": [
    "HitRate(predictions)"
   ]
  },
  {
   "cell_type": "markdown",
   "id": "f5537a70-ceea-435b-abe3-e88cf852066c",
   "metadata": {
    "tags": []
   },
   "source": [
    "## **Item-Based collaborative filtering**"
   ]
  },
  {
   "cell_type": "code",
   "execution_count": 66,
   "id": "96da87ee-15c1-45ec-a5c6-6691cb6548b6",
   "metadata": {},
   "outputs": [],
   "source": [
    "item_model = KNNBasic(k=15, min_k=5, sim_options = {'name': 'cosine', 'user_based': False}, verbose=True)"
   ]
  },
  {
   "cell_type": "code",
   "execution_count": 67,
   "id": "1d499b6c-13a8-4c10-9d4b-c734d9860a5f",
   "metadata": {},
   "outputs": [
    {
     "name": "stdout",
     "output_type": "stream",
     "text": [
      "Computing the cosine similarity matrix...\n",
      "Done computing similarity matrix.\n"
     ]
    },
    {
     "data": {
      "text/plain": [
       "<surprise.prediction_algorithms.knns.KNNBasic at 0x7f56e21ddd20>"
      ]
     },
     "execution_count": 67,
     "metadata": {},
     "output_type": "execute_result"
    }
   ],
   "source": [
    "item_model.fit(train_data)"
   ]
  },
  {
   "cell_type": "code",
   "execution_count": 68,
   "id": "92eafe24-4dfa-45eb-9b1f-800561d46247",
   "metadata": {},
   "outputs": [],
   "source": [
    "predictions = item_model.test(test_data)"
   ]
  },
  {
   "cell_type": "code",
   "execution_count": 69,
   "id": "97f6f4ee-1879-4519-8fe0-57ca6477a9e7",
   "metadata": {},
   "outputs": [],
   "source": [
    "test_df_item = pd.DataFrame(test_data, columns = ['UserId','MovieId','Rating'])"
   ]
  },
  {
   "cell_type": "code",
   "execution_count": 70,
   "id": "6acc0f55-f0d2-4cdf-944c-d26a700db8d8",
   "metadata": {},
   "outputs": [
    {
     "data": {
      "text/html": [
       "<div>\n",
       "<style scoped>\n",
       "    .dataframe tbody tr th:only-of-type {\n",
       "        vertical-align: middle;\n",
       "    }\n",
       "\n",
       "    .dataframe tbody tr th {\n",
       "        vertical-align: top;\n",
       "    }\n",
       "\n",
       "    .dataframe thead th {\n",
       "        text-align: right;\n",
       "    }\n",
       "</style>\n",
       "<table border=\"1\" class=\"dataframe\">\n",
       "  <thead>\n",
       "    <tr style=\"text-align: right;\">\n",
       "      <th></th>\n",
       "      <th>UserId</th>\n",
       "      <th>MovieId</th>\n",
       "      <th>Rating</th>\n",
       "    </tr>\n",
       "  </thead>\n",
       "  <tbody>\n",
       "    <tr>\n",
       "      <th>0</th>\n",
       "      <td>414</td>\n",
       "      <td>4649</td>\n",
       "      <td>2.0</td>\n",
       "    </tr>\n",
       "    <tr>\n",
       "      <th>1</th>\n",
       "      <td>477</td>\n",
       "      <td>908</td>\n",
       "      <td>4.0</td>\n",
       "    </tr>\n",
       "    <tr>\n",
       "      <th>2</th>\n",
       "      <td>432</td>\n",
       "      <td>1653</td>\n",
       "      <td>4.0</td>\n",
       "    </tr>\n",
       "    <tr>\n",
       "      <th>3</th>\n",
       "      <td>599</td>\n",
       "      <td>4344</td>\n",
       "      <td>2.5</td>\n",
       "    </tr>\n",
       "    <tr>\n",
       "      <th>4</th>\n",
       "      <td>280</td>\n",
       "      <td>91077</td>\n",
       "      <td>4.5</td>\n",
       "    </tr>\n",
       "  </tbody>\n",
       "</table>\n",
       "</div>"
      ],
      "text/plain": [
       "   UserId  MovieId  Rating\n",
       "0     414     4649     2.0\n",
       "1     477      908     4.0\n",
       "2     432     1653     4.0\n",
       "3     599     4344     2.5\n",
       "4     280    91077     4.5"
      ]
     },
     "execution_count": 70,
     "metadata": {},
     "output_type": "execute_result"
    }
   ],
   "source": [
    "test_df_item.head()"
   ]
  },
  {
   "cell_type": "code",
   "execution_count": 71,
   "id": "1c5f7896-8348-4762-a0a8-0d81ee0d88c7",
   "metadata": {},
   "outputs": [],
   "source": [
    "ratings = []\n",
    "for i in range(len(predictions)):\n",
    "    ratings.append(np.round(predictions[i].est,1))\n",
    "\n",
    "test_df_item['predicted_rating'] = ratings"
   ]
  },
  {
   "cell_type": "code",
   "execution_count": 72,
   "id": "f4f561ab-224b-43a6-8854-ee82ab24a257",
   "metadata": {},
   "outputs": [],
   "source": [
    "rmse = np.sqrt(mean_squared_error(y_true=test_df_item['Rating'], y_pred = test_df_item['predicted_rating']))"
   ]
  },
  {
   "cell_type": "code",
   "execution_count": 73,
   "id": "cfcc94d9-624c-4b52-a9ee-63124d2cc137",
   "metadata": {},
   "outputs": [
    {
     "name": "stdout",
     "output_type": "stream",
     "text": [
      "Root Mean Squared Error 1.01\n"
     ]
    }
   ],
   "source": [
    "print(f\"Root Mean Squared Error {rmse:,.2f}\")"
   ]
  },
  {
   "cell_type": "code",
   "execution_count": 74,
   "id": "95a098c3-48a5-4457-a3c6-10367782fb2c",
   "metadata": {},
   "outputs": [
    {
     "data": {
      "text/plain": [
       "['All Quiet on the Western Front (1930)',\n",
       " 'NeverEnding Story, The (1984)',\n",
       " 'Rescuers, The (1977)',\n",
       " 'Rocketeer, The (1991)',\n",
       " 'Indiana Jones and the Temple of Doom (1984)']"
      ]
     },
     "execution_count": 74,
     "metadata": {},
     "output_type": "execute_result"
    }
   ],
   "source": [
    "movies_liked_by_user(userid=1)"
   ]
  },
  {
   "cell_type": "code",
   "execution_count": 75,
   "id": "b9bbc1c7-d6ca-46fa-9f45-a0ebb5111bb3",
   "metadata": {},
   "outputs": [
    {
     "data": {
      "text/plain": [
       "['101 Reykjavik (101 Reykjavík) (2000)',\n",
       " 'Nicotina (2003)',\n",
       " '9/11 (2002)',\n",
       " 'Boy A (2007)',\n",
       " 'Bangkok Dangerous (2008)']"
      ]
     },
     "execution_count": 75,
     "metadata": {},
     "output_type": "execute_result"
    }
   ],
   "source": [
    "get_top_N(userid=1, model=item_model)"
   ]
  },
  {
   "cell_type": "code",
   "execution_count": 76,
   "id": "d649b726-be2a-4022-8532-64fd6961addb",
   "metadata": {},
   "outputs": [
    {
     "data": {
      "text/plain": [
       "0.812807881773399"
      ]
     },
     "execution_count": 76,
     "metadata": {},
     "output_type": "execute_result"
    }
   ],
   "source": [
    "HitRate(predictions)"
   ]
  },
  {
   "cell_type": "markdown",
   "id": "cd7b7174-fc1c-410e-899d-ea817dbeea79",
   "metadata": {
    "tags": []
   },
   "source": [
    "## **Singular Value Decomposition**"
   ]
  },
  {
   "cell_type": "code",
   "execution_count": 77,
   "id": "05f82ee1-8bcd-4a5a-87a4-356889982383",
   "metadata": {},
   "outputs": [],
   "source": [
    "from surprise import SVD"
   ]
  },
  {
   "cell_type": "code",
   "execution_count": 78,
   "id": "f100e6f6-dd86-43aa-8ccc-5d778022f36f",
   "metadata": {},
   "outputs": [],
   "source": [
    "svd_model = SVD(random_state=12345)"
   ]
  },
  {
   "cell_type": "code",
   "execution_count": 79,
   "id": "6b0f23d5-9bcc-486e-9b3e-3e7af3a60599",
   "metadata": {},
   "outputs": [
    {
     "data": {
      "text/plain": [
       "<surprise.prediction_algorithms.matrix_factorization.SVD at 0x7f56e21dd660>"
      ]
     },
     "execution_count": 79,
     "metadata": {},
     "output_type": "execute_result"
    }
   ],
   "source": [
    "svd_model.fit(train_data)"
   ]
  },
  {
   "cell_type": "code",
   "execution_count": 80,
   "id": "6d7caa5a-4327-4bb4-8b8f-964c1c0bfd99",
   "metadata": {},
   "outputs": [],
   "source": [
    "predictions = svd_model.test(test_data)"
   ]
  },
  {
   "cell_type": "code",
   "execution_count": 81,
   "id": "668202c8-45b0-4f80-804a-df4ac0a823ee",
   "metadata": {},
   "outputs": [],
   "source": [
    "test_df_svd = pd.DataFrame(test_data, columns = ['UserId','MovieId','Rating'])"
   ]
  },
  {
   "cell_type": "code",
   "execution_count": 82,
   "id": "523027cb-009e-4e5d-9164-eb7346c46a14",
   "metadata": {},
   "outputs": [],
   "source": [
    "ratings = []\n",
    "for i in range(len(predictions)):\n",
    "    ratings.append(np.round(predictions[i].est,1))\n",
    "\n",
    "test_df_svd['predicted_rating'] = ratings"
   ]
  },
  {
   "cell_type": "code",
   "execution_count": 83,
   "id": "232d79fa-bc1d-447a-81a7-16af26f2e4af",
   "metadata": {},
   "outputs": [],
   "source": [
    "rmse = np.sqrt(mean_squared_error(y_true=test_df_svd['Rating'], y_pred = test_df_svd['predicted_rating']))"
   ]
  },
  {
   "cell_type": "code",
   "execution_count": 84,
   "id": "7f6f9d06-e3b1-4631-bc9f-68caff9f5cfd",
   "metadata": {},
   "outputs": [
    {
     "name": "stdout",
     "output_type": "stream",
     "text": [
      "Root Mean Squared Error 0.88\n"
     ]
    }
   ],
   "source": [
    "print(f\"Root Mean Squared Error {rmse:,.2f}\")"
   ]
  },
  {
   "cell_type": "code",
   "execution_count": 85,
   "id": "ab1bb9c1-76fc-49f3-8bf9-1267ffeccb14",
   "metadata": {},
   "outputs": [
    {
     "data": {
      "text/plain": [
       "['All Quiet on the Western Front (1930)',\n",
       " 'NeverEnding Story, The (1984)',\n",
       " 'Rescuers, The (1977)',\n",
       " 'Rocketeer, The (1991)',\n",
       " 'Indiana Jones and the Temple of Doom (1984)']"
      ]
     },
     "execution_count": 85,
     "metadata": {},
     "output_type": "execute_result"
    }
   ],
   "source": [
    "movies_liked_by_user(userid=1)"
   ]
  },
  {
   "cell_type": "code",
   "execution_count": 86,
   "id": "9e68ebd1-8555-4374-a43d-226cbc898769",
   "metadata": {},
   "outputs": [
    {
     "data": {
      "text/plain": [
       "['Taxi Driver (1976)',\n",
       " 'Shawshank Redemption, The (1994)',\n",
       " 'Dr. Strangelove or: How I Learned to Stop Worrying and Love the Bomb (1964)',\n",
       " 'Godfather, The (1972)',\n",
       " 'Casablanca (1942)']"
      ]
     },
     "execution_count": 86,
     "metadata": {},
     "output_type": "execute_result"
    }
   ],
   "source": [
    "get_top_N(userid=1, model=svd_model)"
   ]
  },
  {
   "cell_type": "code",
   "execution_count": 87,
   "id": "9a97bc69-4e79-4890-9d23-03dcb40a7bb0",
   "metadata": {},
   "outputs": [
    {
     "data": {
      "text/plain": [
       "0.8686371100164204"
      ]
     },
     "execution_count": 87,
     "metadata": {},
     "output_type": "execute_result"
    }
   ],
   "source": [
    "HitRate(predictions)"
   ]
  },
  {
   "cell_type": "code",
   "execution_count": null,
   "id": "5e6fef3c-ff00-47fb-bb1c-1c42c3cfd789",
   "metadata": {},
   "outputs": [],
   "source": []
  }
 ],
 "metadata": {
  "kernelspec": {
   "display_name": "Python 3 [3.10]",
   "language": "python",
   "name": "python3"
  },
  "language_info": {
   "codemirror_mode": {
    "name": "ipython",
    "version": 3
   },
   "file_extension": ".py",
   "mimetype": "text/x-python",
   "name": "python",
   "nbconvert_exporter": "python",
   "pygments_lexer": "ipython3",
   "version": "3.10.2"
  },
  "toc-autonumbering": false,
  "toc-showmarkdowntxt": false
 },
 "nbformat": 4,
 "nbformat_minor": 5
}
