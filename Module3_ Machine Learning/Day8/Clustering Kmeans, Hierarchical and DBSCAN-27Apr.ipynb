{
 "cells": [
  {
   "cell_type": "code",
   "execution_count": 1,
   "id": "4d1c5091-3043-4854-ae83-2bbbb0099d88",
   "metadata": {},
   "outputs": [],
   "source": [
    "import pandas as pd\n",
    "import numpy as np\n",
    "import matplotlib.pyplot as plt"
   ]
  },
  {
   "cell_type": "code",
   "execution_count": 2,
   "id": "1aebe6e0-3a0c-4393-86aa-ef5ea1f5a95f",
   "metadata": {},
   "outputs": [],
   "source": [
    "import warnings\n",
    "warnings.filterwarnings('ignore')"
   ]
  },
  {
   "cell_type": "code",
   "execution_count": 3,
   "id": "01108745-a8f8-4f4c-883a-ebe86ef40273",
   "metadata": {},
   "outputs": [],
   "source": [
    "df = pd.read_csv('Mall_customers.csv')"
   ]
  },
  {
   "cell_type": "code",
   "execution_count": 4,
   "id": "351583b1-d5e7-46e8-889c-34d742f112f2",
   "metadata": {},
   "outputs": [
    {
     "data": {
      "text/html": [
       "<div>\n",
       "<style scoped>\n",
       "    .dataframe tbody tr th:only-of-type {\n",
       "        vertical-align: middle;\n",
       "    }\n",
       "\n",
       "    .dataframe tbody tr th {\n",
       "        vertical-align: top;\n",
       "    }\n",
       "\n",
       "    .dataframe thead th {\n",
       "        text-align: right;\n",
       "    }\n",
       "</style>\n",
       "<table border=\"1\" class=\"dataframe\">\n",
       "  <thead>\n",
       "    <tr style=\"text-align: right;\">\n",
       "      <th></th>\n",
       "      <th>CustomerID</th>\n",
       "      <th>Gender</th>\n",
       "      <th>Age</th>\n",
       "      <th>Annual Income (k$)</th>\n",
       "      <th>Spending Score (1-100)</th>\n",
       "    </tr>\n",
       "  </thead>\n",
       "  <tbody>\n",
       "    <tr>\n",
       "      <th>0</th>\n",
       "      <td>1</td>\n",
       "      <td>Male</td>\n",
       "      <td>19</td>\n",
       "      <td>15</td>\n",
       "      <td>39</td>\n",
       "    </tr>\n",
       "    <tr>\n",
       "      <th>1</th>\n",
       "      <td>2</td>\n",
       "      <td>Male</td>\n",
       "      <td>21</td>\n",
       "      <td>15</td>\n",
       "      <td>81</td>\n",
       "    </tr>\n",
       "    <tr>\n",
       "      <th>2</th>\n",
       "      <td>3</td>\n",
       "      <td>Female</td>\n",
       "      <td>20</td>\n",
       "      <td>16</td>\n",
       "      <td>6</td>\n",
       "    </tr>\n",
       "    <tr>\n",
       "      <th>3</th>\n",
       "      <td>4</td>\n",
       "      <td>Female</td>\n",
       "      <td>23</td>\n",
       "      <td>16</td>\n",
       "      <td>77</td>\n",
       "    </tr>\n",
       "    <tr>\n",
       "      <th>4</th>\n",
       "      <td>5</td>\n",
       "      <td>Female</td>\n",
       "      <td>31</td>\n",
       "      <td>17</td>\n",
       "      <td>40</td>\n",
       "    </tr>\n",
       "  </tbody>\n",
       "</table>\n",
       "</div>"
      ],
      "text/plain": [
       "   CustomerID  Gender  Age  Annual Income (k$)  Spending Score (1-100)\n",
       "0           1    Male   19                  15                      39\n",
       "1           2    Male   21                  15                      81\n",
       "2           3  Female   20                  16                       6\n",
       "3           4  Female   23                  16                      77\n",
       "4           5  Female   31                  17                      40"
      ]
     },
     "execution_count": 4,
     "metadata": {},
     "output_type": "execute_result"
    }
   ],
   "source": [
    "df.head()"
   ]
  },
  {
   "cell_type": "code",
   "execution_count": 5,
   "id": "9547e6d7-9ce7-40ad-b403-af6668ba5fce",
   "metadata": {},
   "outputs": [],
   "source": [
    "df_model = df.copy()"
   ]
  },
  {
   "cell_type": "code",
   "execution_count": 6,
   "id": "b790624a-ee22-4b88-9415-beb211574313",
   "metadata": {},
   "outputs": [],
   "source": [
    "df_model.drop(['CustomerID'], axis=1, inplace=True)"
   ]
  },
  {
   "cell_type": "code",
   "execution_count": 7,
   "id": "075cb4a6-4864-479a-9398-a6fea36083ff",
   "metadata": {},
   "outputs": [],
   "source": [
    "df_model.columns = ['Gender','Age', 'AnnualIncome', 'SpendingScore']"
   ]
  },
  {
   "cell_type": "code",
   "execution_count": null,
   "id": "93d7e5b8-300a-4b37-bcc5-4c21b2fca4a4",
   "metadata": {},
   "outputs": [],
   "source": [
    "#df_model['AnnualIncome'] = df_model['AnnualIncome'].apply(lambda x: x*1000)"
   ]
  },
  {
   "cell_type": "code",
   "execution_count": 12,
   "id": "5c0f5f6c-d24d-49f0-b339-a9c0a8b7c609",
   "metadata": {},
   "outputs": [
    {
     "data": {
      "text/plain": [
       "0    112\n",
       "1     88\n",
       "Name: Gender, dtype: int64"
      ]
     },
     "execution_count": 12,
     "metadata": {},
     "output_type": "execute_result"
    }
   ],
   "source": [
    "df_model.Gender.value_counts()"
   ]
  },
  {
   "cell_type": "code",
   "execution_count": 9,
   "id": "6061e5a7-a8cc-4650-847e-b3d633edc1f8",
   "metadata": {},
   "outputs": [],
   "source": [
    "df_model['Gender'] = df_model['Gender'].map({'Female': 0, 'Male':1})"
   ]
  },
  {
   "cell_type": "code",
   "execution_count": 10,
   "id": "e2da1f55-9540-497a-b51a-e27821e4d7f7",
   "metadata": {},
   "outputs": [
    {
     "data": {
      "text/html": [
       "<div>\n",
       "<style scoped>\n",
       "    .dataframe tbody tr th:only-of-type {\n",
       "        vertical-align: middle;\n",
       "    }\n",
       "\n",
       "    .dataframe tbody tr th {\n",
       "        vertical-align: top;\n",
       "    }\n",
       "\n",
       "    .dataframe thead th {\n",
       "        text-align: right;\n",
       "    }\n",
       "</style>\n",
       "<table border=\"1\" class=\"dataframe\">\n",
       "  <thead>\n",
       "    <tr style=\"text-align: right;\">\n",
       "      <th></th>\n",
       "      <th>Gender</th>\n",
       "      <th>Age</th>\n",
       "      <th>AnnualIncome</th>\n",
       "      <th>SpendingScore</th>\n",
       "    </tr>\n",
       "  </thead>\n",
       "  <tbody>\n",
       "    <tr>\n",
       "      <th>0</th>\n",
       "      <td>1</td>\n",
       "      <td>19</td>\n",
       "      <td>15</td>\n",
       "      <td>39</td>\n",
       "    </tr>\n",
       "    <tr>\n",
       "      <th>1</th>\n",
       "      <td>1</td>\n",
       "      <td>21</td>\n",
       "      <td>15</td>\n",
       "      <td>81</td>\n",
       "    </tr>\n",
       "    <tr>\n",
       "      <th>2</th>\n",
       "      <td>0</td>\n",
       "      <td>20</td>\n",
       "      <td>16</td>\n",
       "      <td>6</td>\n",
       "    </tr>\n",
       "    <tr>\n",
       "      <th>3</th>\n",
       "      <td>0</td>\n",
       "      <td>23</td>\n",
       "      <td>16</td>\n",
       "      <td>77</td>\n",
       "    </tr>\n",
       "    <tr>\n",
       "      <th>4</th>\n",
       "      <td>0</td>\n",
       "      <td>31</td>\n",
       "      <td>17</td>\n",
       "      <td>40</td>\n",
       "    </tr>\n",
       "  </tbody>\n",
       "</table>\n",
       "</div>"
      ],
      "text/plain": [
       "   Gender  Age  AnnualIncome  SpendingScore\n",
       "0       1   19            15             39\n",
       "1       1   21            15             81\n",
       "2       0   20            16              6\n",
       "3       0   23            16             77\n",
       "4       0   31            17             40"
      ]
     },
     "execution_count": 10,
     "metadata": {},
     "output_type": "execute_result"
    }
   ],
   "source": [
    "df_model.head()"
   ]
  },
  {
   "cell_type": "code",
   "execution_count": 11,
   "id": "44f02ed9-95fd-46d0-9f1f-75bd9709127b",
   "metadata": {},
   "outputs": [
    {
     "data": {
      "text/plain": [
       "(200, 4)"
      ]
     },
     "execution_count": 11,
     "metadata": {},
     "output_type": "execute_result"
    }
   ],
   "source": [
    "df_model.shape"
   ]
  },
  {
   "cell_type": "code",
   "execution_count": 13,
   "id": "3d56b521-c9ce-4c31-9bff-46749e967e53",
   "metadata": {},
   "outputs": [],
   "source": [
    "from sklearn.preprocessing import StandardScaler\n",
    "scaler = StandardScaler()\n",
    "X = scaler.fit_transform(df_model[['AnnualIncome','SpendingScore']])"
   ]
  },
  {
   "cell_type": "markdown",
   "id": "5cde74f7-c05e-43cf-ba86-dbd262bb33dc",
   "metadata": {},
   "source": [
    "# <strong> KMeans </strong>"
   ]
  },
  {
   "cell_type": "code",
   "execution_count": 14,
   "id": "d046c291-263b-4b9a-aec0-816b87e2076e",
   "metadata": {},
   "outputs": [],
   "source": [
    "from sklearn.cluster import KMeans"
   ]
  },
  {
   "cell_type": "code",
   "execution_count": 25,
   "id": "369fec2f-34dd-4867-ad92-774a5cfd43aa",
   "metadata": {},
   "outputs": [
    {
     "data": {
      "image/png": "[encoded data removed]",
      "text/plain": [
       "<Figure size 432x288 with 1 Axes>"
      ]
     },
     "metadata": {
      "needs_background": "light"
     },
     "output_type": "display_data"
    }
   ],
   "source": [
    "wcss = []\n",
    "for i in range(1, 11):\n",
    "    model = KMeans(n_clusters = i, n_init=10, init = 'k-means++', random_state = 12345)\n",
    "    model.fit(X)\n",
    "    wcss.append(model.inertia_)\n",
    "plt.plot(range(1, 11), wcss)\n",
    "plt.title('The Elbow Method')\n",
    "plt.xlabel('Number of clusters')\n",
    "plt.ylabel('WCSS')\n",
    "plt.show()"
   ]
  },
  {
   "cell_type": "code",
   "execution_count": 24,
   "id": "e9c30915-5c06-4553-badb-7d600cf232ec",
   "metadata": {},
   "outputs": [
    {
     "data": {
      "text/plain": [
       "[0.59072647662225, 0.5694091731296496, 0.5535950559381518, 0.5272580080481841]"
      ]
     },
     "execution_count": 24,
     "metadata": {},
     "output_type": "execute_result"
    }
   ],
   "source": [
    "wcss[95:]"
   ]
  },
  {
   "cell_type": "code",
   "execution_count": 26,
   "id": "e5165d20-a60a-4271-932b-cb4d5142e446",
   "metadata": {},
   "outputs": [],
   "source": [
    "from sklearn.metrics import silhouette_score"
   ]
  },
  {
   "cell_type": "code",
   "execution_count": null,
   "id": "e458c8b8-107b-4d41-b014-a45abd27a0e0",
   "metadata": {},
   "outputs": [],
   "source": [
    "silhouette_scores = []\n",
    "for i in range(2, 11):\n",
    "    model = KMeans(n_clusters=i, n_init=10,  init='k-means++', random_state=12345)\n",
    "    model.fit(X)\n",
    "    score = silhouette_score(X, model.labels_)\n",
    "    silhouette_scores.append(score)\n",
    "\n",
    "plt.plot(range(2, 11), silhouette_scores)\n",
    "plt.title('Silhouette Score Method')\n",
    "plt.xlabel('Number of clusters')\n",
    "plt.ylabel('Silhouette Score')\n",
    "plt.show()"
   ]
  },
  {
   "cell_type": "code",
   "execution_count": null,
   "id": "4b046a8b-94ac-467a-a62b-85c5da0bd838",
   "metadata": {},
   "outputs": [],
   "source": [
    "km_model = KMeans(n_clusters=5, random_state=12345)\n",
    "km_model.fit(X)"
   ]
  },
  {
   "cell_type": "code",
   "execution_count": null,
   "id": "5bff53b3-2dec-417d-a9d2-424e64d79034",
   "metadata": {},
   "outputs": [],
   "source": [
    "df_model['ClusterNumber'] = km_model.predict(X)"
   ]
  },
  {
   "cell_type": "code",
   "execution_count": null,
   "id": "cc1ebc39-5316-4553-b3e7-7a54bee5da91",
   "metadata": {},
   "outputs": [],
   "source": [
    "colors = ['red', 'blue', 'green', 'cyan','magenta']\n",
    "for i in np.arange(0,5,1):\n",
    "    plt.scatter(df_model[df_model.ClusterNumber == i]['SpendingScore'], df_model[df_model.ClusterNumber == i]['AnnualIncome'], c=colors[i], label=f'cluster{i}')\n",
    "plt.ylabel('Annual Income ($)')\n",
    "plt.xlabel('Spending Score (1-100)')\n",
    "plt.show()"
   ]
  },
  {
   "cell_type": "markdown",
   "id": "99ccdfa1-5a12-4b58-8225-4a3de2692901",
   "metadata": {},
   "source": [
    "# <strong> Dendrogram and Agglomerative Clustering </strong>"
   ]
  },
  {
   "cell_type": "markdown",
   "id": "0be72ca4-0d66-45c5-be04-261f685e663b",
   "metadata": {},
   "source": [
    "## **DBSCAN**"
   ]
  },
  {
   "cell_type": "code",
   "execution_count": null,
   "id": "4664a38b-59ed-403b-9369-9f7d2629aa32",
   "metadata": {},
   "outputs": [],
   "source": []
  },
  {
   "cell_type": "code",
   "execution_count": null,
   "id": "93946b8e-6c93-4bc2-b509-b5558db00ad3",
   "metadata": {},
   "outputs": [],
   "source": []
  }
 ],
 "metadata": {
  "kernelspec": {
   "display_name": "Python 3 [3.10]",
   "language": "python",
   "name": "python3"
  },
  "language_info": {
   "codemirror_mode": {
    "name": "ipython",
    "version": 3
   },
   "file_extension": ".py",
   "mimetype": "text/x-python",
   "name": "python",
   "nbconvert_exporter": "python",
   "pygments_lexer": "ipython3",
   "version": "3.10.2"
  }
 },
 "nbformat": 4,
 "nbformat_minor": 5
}
