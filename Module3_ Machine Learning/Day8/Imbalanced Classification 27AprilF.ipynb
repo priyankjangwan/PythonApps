{
 "cells": [
  {
   "cell_type": "code",
   "execution_count": 1,
   "id": "d4b54a04-3b0c-43ad-bffb-907968009c5d",
   "metadata": {},
   "outputs": [],
   "source": [
    "import pandas as pd\n",
    "import numpy as np"
   ]
  },
  {
   "cell_type": "code",
   "execution_count": 2,
   "id": "95cc26a9-c739-4937-bebb-5c414ae67ac0",
   "metadata": {},
   "outputs": [],
   "source": [
    "df = pd.read_csv('creditcard.csv')"
   ]
  },
  {
   "cell_type": "code",
   "execution_count": 3,
   "id": "e8752215-a34f-441e-ae92-9771cb633ac0",
   "metadata": {},
   "outputs": [
    {
     "data": {
      "text/html": [
       "<div>\n",
       "<style scoped>\n",
       "    .dataframe tbody tr th:only-of-type {\n",
       "        vertical-align: middle;\n",
       "    }\n",
       "\n",
       "    .dataframe tbody tr th {\n",
       "        vertical-align: top;\n",
       "    }\n",
       "\n",
       "    .dataframe thead th {\n",
       "        text-align: right;\n",
       "    }\n",
       "</style>\n",
       "<table border=\"1\" class=\"dataframe\">\n",
       "  <thead>\n",
       "    <tr style=\"text-align: right;\">\n",
       "      <th></th>\n",
       "      <th>Time</th>\n",
       "      <th>V1</th>\n",
       "      <th>V2</th>\n",
       "      <th>V3</th>\n",
       "      <th>V4</th>\n",
       "      <th>V5</th>\n",
       "      <th>V6</th>\n",
       "      <th>V7</th>\n",
       "      <th>V8</th>\n",
       "      <th>V9</th>\n",
       "      <th>...</th>\n",
       "      <th>V21</th>\n",
       "      <th>V22</th>\n",
       "      <th>V23</th>\n",
       "      <th>V24</th>\n",
       "      <th>V25</th>\n",
       "      <th>V26</th>\n",
       "      <th>V27</th>\n",
       "      <th>V28</th>\n",
       "      <th>Amount</th>\n",
       "      <th>Class</th>\n",
       "    </tr>\n",
       "  </thead>\n",
       "  <tbody>\n",
       "    <tr>\n",
       "      <th>0</th>\n",
       "      <td>89630.0</td>\n",
       "      <td>0.030601</td>\n",
       "      <td>0.859108</td>\n",
       "      <td>0.290804</td>\n",
       "      <td>-0.591915</td>\n",
       "      <td>0.441892</td>\n",
       "      <td>-1.033405</td>\n",
       "      <td>1.016281</td>\n",
       "      <td>-0.190080</td>\n",
       "      <td>-0.066897</td>\n",
       "      <td>...</td>\n",
       "      <td>-0.251454</td>\n",
       "      <td>-0.537176</td>\n",
       "      <td>0.081516</td>\n",
       "      <td>-0.016869</td>\n",
       "      <td>-0.498699</td>\n",
       "      <td>0.142886</td>\n",
       "      <td>0.250215</td>\n",
       "      <td>0.097351</td>\n",
       "      <td>5.99</td>\n",
       "      <td>0</td>\n",
       "    </tr>\n",
       "    <tr>\n",
       "      <th>1</th>\n",
       "      <td>33404.0</td>\n",
       "      <td>1.042874</td>\n",
       "      <td>0.348936</td>\n",
       "      <td>-0.207597</td>\n",
       "      <td>2.215841</td>\n",
       "      <td>0.991928</td>\n",
       "      <td>1.349503</td>\n",
       "      <td>0.100767</td>\n",
       "      <td>0.451493</td>\n",
       "      <td>-0.739607</td>\n",
       "      <td>...</td>\n",
       "      <td>0.064860</td>\n",
       "      <td>0.193583</td>\n",
       "      <td>-0.007651</td>\n",
       "      <td>-1.379281</td>\n",
       "      <td>0.389286</td>\n",
       "      <td>0.225199</td>\n",
       "      <td>0.015614</td>\n",
       "      <td>-0.010651</td>\n",
       "      <td>15.16</td>\n",
       "      <td>0</td>\n",
       "    </tr>\n",
       "    <tr>\n",
       "      <th>2</th>\n",
       "      <td>57910.0</td>\n",
       "      <td>-1.549217</td>\n",
       "      <td>0.444995</td>\n",
       "      <td>1.953795</td>\n",
       "      <td>0.767481</td>\n",
       "      <td>1.249854</td>\n",
       "      <td>-0.439201</td>\n",
       "      <td>0.843048</td>\n",
       "      <td>0.145210</td>\n",
       "      <td>-1.561334</td>\n",
       "      <td>...</td>\n",
       "      <td>0.226098</td>\n",
       "      <td>0.136749</td>\n",
       "      <td>-0.178771</td>\n",
       "      <td>-0.013354</td>\n",
       "      <td>0.782533</td>\n",
       "      <td>-0.175391</td>\n",
       "      <td>-0.075909</td>\n",
       "      <td>0.058072</td>\n",
       "      <td>73.02</td>\n",
       "      <td>0</td>\n",
       "    </tr>\n",
       "    <tr>\n",
       "      <th>3</th>\n",
       "      <td>133413.0</td>\n",
       "      <td>-0.322340</td>\n",
       "      <td>0.969558</td>\n",
       "      <td>0.462259</td>\n",
       "      <td>-0.100560</td>\n",
       "      <td>-0.187871</td>\n",
       "      <td>-1.069206</td>\n",
       "      <td>0.454631</td>\n",
       "      <td>0.211302</td>\n",
       "      <td>-0.162835</td>\n",
       "      <td>...</td>\n",
       "      <td>0.164689</td>\n",
       "      <td>0.497732</td>\n",
       "      <td>-0.038204</td>\n",
       "      <td>0.420742</td>\n",
       "      <td>-0.191605</td>\n",
       "      <td>-0.333414</td>\n",
       "      <td>-0.032846</td>\n",
       "      <td>-0.010004</td>\n",
       "      <td>9.94</td>\n",
       "      <td>0</td>\n",
       "    </tr>\n",
       "    <tr>\n",
       "      <th>4</th>\n",
       "      <td>171524.0</td>\n",
       "      <td>1.990957</td>\n",
       "      <td>-1.984952</td>\n",
       "      <td>-1.014321</td>\n",
       "      <td>-1.265569</td>\n",
       "      <td>-1.371786</td>\n",
       "      <td>0.034195</td>\n",
       "      <td>-1.117904</td>\n",
       "      <td>0.061933</td>\n",
       "      <td>-0.828024</td>\n",
       "      <td>...</td>\n",
       "      <td>-0.416109</td>\n",
       "      <td>-0.844353</td>\n",
       "      <td>0.244993</td>\n",
       "      <td>0.716250</td>\n",
       "      <td>-0.264875</td>\n",
       "      <td>-0.387468</td>\n",
       "      <td>-0.015237</td>\n",
       "      <td>-0.036681</td>\n",
       "      <td>137.94</td>\n",
       "      <td>0</td>\n",
       "    </tr>\n",
       "  </tbody>\n",
       "</table>\n",
       "<p>5 rows × 31 columns</p>\n",
       "</div>"
      ],
      "text/plain": [
       "       Time        V1        V2        V3        V4        V5        V6  \\\n",
       "0   89630.0  0.030601  0.859108  0.290804 -0.591915  0.441892 -1.033405   \n",
       "1   33404.0  1.042874  0.348936 -0.207597  2.215841  0.991928  1.349503   \n",
       "2   57910.0 -1.549217  0.444995  1.953795  0.767481  1.249854 -0.439201   \n",
       "3  133413.0 -0.322340  0.969558  0.462259 -0.100560 -0.187871 -1.069206   \n",
       "4  171524.0  1.990957 -1.984952 -1.014321 -1.265569 -1.371786  0.034195   \n",
       "\n",
       "         V7        V8        V9  ...       V21       V22       V23       V24  \\\n",
       "0  1.016281 -0.190080 -0.066897  ... -0.251454 -0.537176  0.081516 -0.016869   \n",
       "1  0.100767  0.451493 -0.739607  ...  0.064860  0.193583 -0.007651 -1.379281   \n",
       "2  0.843048  0.145210 -1.561334  ...  0.226098  0.136749 -0.178771 -0.013354   \n",
       "3  0.454631  0.211302 -0.162835  ...  0.164689  0.497732 -0.038204  0.420742   \n",
       "4 -1.117904  0.061933 -0.828024  ... -0.416109 -0.844353  0.244993  0.716250   \n",
       "\n",
       "        V25       V26       V27       V28  Amount  Class  \n",
       "0 -0.498699  0.142886  0.250215  0.097351    5.99      0  \n",
       "1  0.389286  0.225199  0.015614 -0.010651   15.16      0  \n",
       "2  0.782533 -0.175391 -0.075909  0.058072   73.02      0  \n",
       "3 -0.191605 -0.333414 -0.032846 -0.010004    9.94      0  \n",
       "4 -0.264875 -0.387468 -0.015237 -0.036681  137.94      0  \n",
       "\n",
       "[5 rows x 31 columns]"
      ]
     },
     "execution_count": 3,
     "metadata": {},
     "output_type": "execute_result"
    }
   ],
   "source": [
    "df.head()"
   ]
  },
  {
   "cell_type": "code",
   "execution_count": 4,
   "id": "6e12c277-4da7-45b8-9619-540c0686c6af",
   "metadata": {},
   "outputs": [
    {
     "data": {
      "text/plain": [
       "Time      0\n",
       "V1        0\n",
       "V2        0\n",
       "V3        0\n",
       "V4        0\n",
       "V5        0\n",
       "V6        0\n",
       "V7        0\n",
       "V8        0\n",
       "V9        0\n",
       "V10       0\n",
       "V11       0\n",
       "V12       0\n",
       "V13       0\n",
       "V14       0\n",
       "V15       0\n",
       "V16       0\n",
       "V17       0\n",
       "V18       0\n",
       "V19       0\n",
       "V20       0\n",
       "V21       0\n",
       "V22       0\n",
       "V23       0\n",
       "V24       0\n",
       "V25       0\n",
       "V26       0\n",
       "V27       0\n",
       "V28       0\n",
       "Amount    0\n",
       "Class     0\n",
       "dtype: int64"
      ]
     },
     "execution_count": 4,
     "metadata": {},
     "output_type": "execute_result"
    }
   ],
   "source": [
    "df.isna().sum()"
   ]
  },
  {
   "cell_type": "code",
   "execution_count": 7,
   "id": "3ecd2499-b910-4058-a6b7-55006cacf715",
   "metadata": {},
   "outputs": [
    {
     "data": {
      "text/plain": [
       "0    98.7\n",
       "1     1.3\n",
       "Name: Class, dtype: float64"
      ]
     },
     "execution_count": 7,
     "metadata": {},
     "output_type": "execute_result"
    }
   ],
   "source": [
    "df.Class.value_counts()*100/df.shape[0]"
   ]
  },
  {
   "cell_type": "code",
   "execution_count": 8,
   "id": "729f5cbe-66e6-4ba9-82ff-e13dc971f79f",
   "metadata": {},
   "outputs": [],
   "source": [
    "X = df.drop(['Class'], axis=1)\n",
    "y = df['Class']"
   ]
  },
  {
   "cell_type": "code",
   "execution_count": 9,
   "id": "e7e126a1-fbb8-48a2-b507-3fa8d82e0fef",
   "metadata": {},
   "outputs": [],
   "source": [
    "from sklearn.model_selection import train_test_split\n",
    "X_train, X_test, y_train, y_test = train_test_split(X,\n",
    "                                                    y,\n",
    "                                                    stratify=y,\n",
    "                                                    train_size = 0.8,\n",
    "                                                    random_state=12345)"
   ]
  },
  {
   "cell_type": "code",
   "execution_count": 10,
   "id": "7136bacf-d47e-4614-9ec7-36b5329b74cd",
   "metadata": {},
   "outputs": [],
   "source": [
    "from sklearn.preprocessing import StandardScaler\n",
    "scaler = StandardScaler()\n",
    "X_train_sc = scaler.fit_transform(X_train)\n",
    "X_test_sc = scaler.transform(X_test)"
   ]
  },
  {
   "cell_type": "code",
   "execution_count": 11,
   "id": "b44b292c-3784-4dc9-a813-42e331ad55a2",
   "metadata": {},
   "outputs": [
    {
     "data": {
      "text/plain": [
       "(0.013125, 0.0125, 0.013)"
      ]
     },
     "execution_count": 11,
     "metadata": {},
     "output_type": "execute_result"
    }
   ],
   "source": [
    "np.sum(y_train)/y_train.shape[0], np.sum(y_test)/y_test.shape[0], np.sum(y)/y.shape[0]"
   ]
  },
  {
   "cell_type": "code",
   "execution_count": 12,
   "id": "62817b6e-6d76-4bae-8f61-c783f425b94f",
   "metadata": {},
   "outputs": [],
   "source": [
    "from sklearn.metrics import accuracy_score, precision_score, recall_score, f1_score, roc_curve, auc, ConfusionMatrixDisplay, confusion_matrix\n",
    "import matplotlib.pyplot as plt\n",
    "def get_metrics(y_true, y_pred, y_prob, train=True, show_roc = True):\n",
    "    sk_acc = accuracy_score(y_pred=y_pred, y_true = y_true)\n",
    "    sk_prec = precision_score(y_pred=y_pred, y_true = y_true)\n",
    "    sk_rec = recall_score(y_pred=y_pred, y_true = y_true)\n",
    "    sk_f1 = f1_score(y_pred=y_pred, y_true = y_true)\n",
    "\n",
    "    fpr, tpr, thresholds = roc_curve(y_true, y_prob[:, 1])\n",
    "\n",
    "    # Compute the Area Under the Curve (AUC) for the ROC curve\n",
    "    roc_auc = auc(fpr, tpr)\n",
    "\n",
    "    # Compute Youden's J statistic for each threshold\n",
    "    youden_j = tpr - fpr\n",
    "    optimal_threshold_index = np.argmax(youden_j)\n",
    "    optimal_threshold = thresholds[optimal_threshold_index]\n",
    "\n",
    "    print(\"------------------------------------------------------------------\")\n",
    "    if train:\n",
    "        print(\"Training Set Metrics\")\n",
    "    else:\n",
    "        print(\"Test Set Metrics\")\n",
    "    conf_matrix= confusion_matrix(y_true= y_true, y_pred = y_pred)\n",
    "    \n",
    "    cm_display = ConfusionMatrixDisplay(confusion_matrix = conf_matrix, display_labels = [\"Not Fraud\", \"Fraud\"])\n",
    "    plt.figure(figsize= (8,6))\n",
    "    cm_display.plot()\n",
    "    plt.show()\n",
    "\n",
    "    print(f\"Accuracy {np.round(sk_acc*100,2)}%, Precision {np.round(sk_prec*100,2)}%, Recall {np.round(sk_rec*100,2)}%, F1 Score {np.round(sk_f1*100,2)}%\")\n",
    "\n",
    "    if train and show_roc:\n",
    "        print(f\"Area Under Curve {roc_auc}, optimal threshold {optimal_threshold}\")\n",
    "\n",
    "        plt.figure(figsize=(4, 3))\n",
    "        plt.plot(fpr, tpr, color='blue', lw=2, label=f'ROC curve (area = {roc_auc:.2f})')\n",
    "        plt.scatter(fpr[optimal_threshold_index], tpr[optimal_threshold_index], color='red', marker='o', label=f'Optimal Threshold = {optimal_threshold:.4f}')\n",
    "        plt.plot([0, 1], [0, 1], color='grey', lw=2, linestyle='--')\n",
    "        plt.xlim([0.0, 1.0])\n",
    "        plt.ylim([0.0, 1.05])\n",
    "        plt.xlabel('False Positive Rate')\n",
    "        plt.ylabel('True Positive Rate')\n",
    "        plt.title('Receiver Operating Characteristic (ROC) Curve Training')\n",
    "        plt.legend(loc='lower right')\n",
    "        plt.show()"
   ]
  },
  {
   "cell_type": "code",
   "execution_count": 13,
   "id": "fb19d2f3-ecb1-4d50-ac17-e0f8050b0181",
   "metadata": {},
   "outputs": [
    {
     "name": "stdout",
     "output_type": "stream",
     "text": [
      "Defaulting to user installation because normal site-packages is not writeable\n",
      "Requirement already satisfied: imbalanced-learn in /usr/local/lib/python3.10/site-packages (0.9.1)\n",
      "Requirement already satisfied: numpy>=1.17.3 in /usr/local/lib/python3.10/site-packages (from imbalanced-learn) (1.23.5)\n",
      "Requirement already satisfied: scipy>=1.3.2 in /usr/local/lib/python3.10/site-packages (from imbalanced-learn) (1.9.3)\n",
      "Requirement already satisfied: scikit-learn>=1.1.0 in /usr/local/lib/python3.10/site-packages (from imbalanced-learn) (1.3.1)\n",
      "Requirement already satisfied: joblib>=1.0.0 in /usr/local/lib/python3.10/site-packages (from imbalanced-learn) (1.2.0)\n",
      "Requirement already satisfied: threadpoolctl>=2.0.0 in /usr/local/lib/python3.10/site-packages (from imbalanced-learn) (3.1.0)\n"
     ]
    }
   ],
   "source": [
    "!pip install imbalanced-learn"
   ]
  },
  {
   "cell_type": "code",
   "execution_count": 37,
   "id": "a89081d1-518d-43ea-86c3-18c249beddc7",
   "metadata": {},
   "outputs": [],
   "source": [
    "from imblearn.over_sampling import SMOTE"
   ]
  },
  {
   "cell_type": "code",
   "execution_count": 38,
   "id": "7f7a2b4b-cb92-40c3-8b16-8b9408df1454",
   "metadata": {},
   "outputs": [],
   "source": [
    "os_smote = SMOTE(random_state=12345)\n",
    "#os_smote = SMOTE(random_state=12345, sampling_strategy=0.6)"
   ]
  },
  {
   "cell_type": "code",
   "execution_count": 39,
   "id": "bdd134e4-7ae6-4a3a-a450-b07650ac87b9",
   "metadata": {},
   "outputs": [],
   "source": [
    "X_train_sc1, y_train_sc1 = os_smote.fit_resample(X_train_sc, y_train)"
   ]
  },
  {
   "cell_type": "code",
   "execution_count": 42,
   "id": "f109b78a-4d4d-4181-826f-35fa826c2ca2",
   "metadata": {},
   "outputs": [
    {
     "data": {
      "text/plain": [
       "21"
      ]
     },
     "execution_count": 42,
     "metadata": {},
     "output_type": "execute_result"
    }
   ],
   "source": [
    "y_train.sum()"
   ]
  },
  {
   "cell_type": "code",
   "execution_count": 44,
   "id": "27572b27-e950-4abd-9ef9-4be55662d092",
   "metadata": {},
   "outputs": [
    {
     "data": {
      "text/plain": [
       "1600"
      ]
     },
     "execution_count": 44,
     "metadata": {},
     "output_type": "execute_result"
    }
   ],
   "source": [
    "len(y_train)"
   ]
  },
  {
   "cell_type": "code",
   "execution_count": 48,
   "id": "be3f214b-6b07-41ef-934d-e9610d02229f",
   "metadata": {},
   "outputs": [
    {
     "data": {
      "text/plain": [
       "3"
      ]
     },
     "execution_count": 48,
     "metadata": {},
     "output_type": "execute_result"
    }
   ],
   "source": [
    "np.sum([1,0,1,1])"
   ]
  },
  {
   "cell_type": "code",
   "execution_count": 51,
   "id": "98db987f-51e2-4c9e-b043-a785543ca4f0",
   "metadata": {},
   "outputs": [
    {
     "name": "stdout",
     "output_type": "stream",
     "text": [
      " Before SMOTE with Auto Sampling : Class 0 : 1579 and class 1 : 21\n"
     ]
    }
   ],
   "source": [
    "print(f\" Before SMOTE with Auto Sampling : Class 0 : {len(y_train) - y_train.sum()} and class 1 : {y_train.sum()}\")"
   ]
  },
  {
   "cell_type": "code",
   "execution_count": 52,
   "id": "1504383a-9238-44ac-b7e3-db0f24866a84",
   "metadata": {},
   "outputs": [
    {
     "name": "stdout",
     "output_type": "stream",
     "text": [
      " After SMOTE with Auto Sampling : Class 0 : 1579 and class 1 : 1579\n"
     ]
    }
   ],
   "source": [
    "print(f\" After SMOTE with Auto Sampling : Class 0 : {len(y_train_sc1) - y_train_sc1.sum()} and class 1 : {y_train_sc1.sum()}\")"
   ]
  },
  {
   "cell_type": "code",
   "execution_count": 58,
   "id": "59c4e0b9-e250-41c5-af6f-28eb8e927f22",
   "metadata": {},
   "outputs": [],
   "source": [
    "os_smote = SMOTE(random_state=12345, sampling_strategy=0.2)"
   ]
  },
  {
   "cell_type": "code",
   "execution_count": 59,
   "id": "5a56a818-bb9d-441e-8485-aa3741481759",
   "metadata": {},
   "outputs": [],
   "source": [
    "X_train_sc1, y_train_sc1 = os_smote.fit_resample(X_train_sc, y_train)"
   ]
  },
  {
   "cell_type": "code",
   "execution_count": 63,
   "id": "c246c6d2-4a18-42ea-9b99-bf2245f0a87d",
   "metadata": {},
   "outputs": [
    {
     "name": "stdout",
     "output_type": "stream",
     "text": [
      " Before SMOTE with 0.2 Sampling : Class 0 : 1579 and class 1 : 21\n"
     ]
    }
   ],
   "source": [
    "print(f\" Before SMOTE with 0.2 Sampling : Class 0 : {len(y_train) - y_train.sum()} and class 1 : {y_train.sum()}\")"
   ]
  },
  {
   "cell_type": "code",
   "execution_count": 64,
   "id": "5da52d42-1dab-43a3-8941-52409a1df515",
   "metadata": {},
   "outputs": [
    {
     "name": "stdout",
     "output_type": "stream",
     "text": [
      " After SMOTE with 0.2 Sampling : Class 0 : 1579 and class 1 : 315\n"
     ]
    }
   ],
   "source": [
    "print(f\" After SMOTE with 0.2 Sampling : Class 0 : {len(y_train_sc1) - y_train_sc1.sum()} and class 1 : {y_train_sc1.sum()}\")"
   ]
  },
  {
   "cell_type": "code",
   "execution_count": 62,
   "id": "fd05a73b-71c3-4b17-a8c9-75a96552198d",
   "metadata": {},
   "outputs": [
    {
     "data": {
      "text/plain": [
       "0.1994933502216593"
      ]
     },
     "execution_count": 62,
     "metadata": {},
     "output_type": "execute_result"
    }
   ],
   "source": [
    "315/1579 # 0.2 as sampling strategy"
   ]
  },
  {
   "cell_type": "code",
   "execution_count": 65,
   "id": "dd2fe5bc-34e8-4b24-a89b-1ec55a5ef62f",
   "metadata": {},
   "outputs": [
    {
     "data": {
      "text/plain": [
       "947.4"
      ]
     },
     "execution_count": 65,
     "metadata": {},
     "output_type": "execute_result"
    }
   ],
   "source": [
    "0.6*1579 # 0.6 as sampling strategy"
   ]
  },
  {
   "cell_type": "code",
   "execution_count": 66,
   "id": "3ea772aa-2e4a-4755-b220-0f3741af8dac",
   "metadata": {},
   "outputs": [],
   "source": [
    "from sklearn.tree import DecisionTreeClassifier"
   ]
  },
  {
   "cell_type": "code",
   "execution_count": 73,
   "id": "dcd05e44-594b-47ae-b90e-68003c6e9d05",
   "metadata": {},
   "outputs": [],
   "source": [
    "dt_model = DecisionTreeClassifier(random_state = 12345)"
   ]
  },
  {
   "cell_type": "code",
   "execution_count": 74,
   "id": "116ec90f-90ec-40ee-8915-f4c8243907af",
   "metadata": {},
   "outputs": [
    {
     "data": {
      "text/html": [
       "<style>#sk-container-id-1 {color: black;}#sk-container-id-1 pre{padding: 0;}#sk-container-id-1 div.sk-toggleable {background-color: white;}#sk-container-id-1 label.sk-toggleable__label {cursor: pointer;display: block;width: 100%;margin-bottom: 0;padding: 0.3em;box-sizing: border-box;text-align: center;}#sk-container-id-1 label.sk-toggleable__label-arrow:before {content: \"▸\";float: left;margin-right: 0.25em;color: #696969;}#sk-container-id-1 label.sk-toggleable__label-arrow:hover:before {color: black;}#sk-container-id-1 div.sk-estimator:hover label.sk-toggleable__label-arrow:before {color: black;}#sk-container-id-1 div.sk-toggleable__content {max-height: 0;max-width: 0;overflow: hidden;text-align: left;background-color: #f0f8ff;}#sk-container-id-1 div.sk-toggleable__content pre {margin: 0.2em;color: black;border-radius: 0.25em;background-color: #f0f8ff;}#sk-container-id-1 input.sk-toggleable__control:checked~div.sk-toggleable__content {max-height: 200px;max-width: 100%;overflow: auto;}#sk-container-id-1 input.sk-toggleable__control:checked~label.sk-toggleable__label-arrow:before {content: \"▾\";}#sk-container-id-1 div.sk-estimator input.sk-toggleable__control:checked~label.sk-toggleable__label {background-color: #d4ebff;}#sk-container-id-1 div.sk-label input.sk-toggleable__control:checked~label.sk-toggleable__label {background-color: #d4ebff;}#sk-container-id-1 input.sk-hidden--visually {border: 0;clip: rect(1px 1px 1px 1px);clip: rect(1px, 1px, 1px, 1px);height: 1px;margin: -1px;overflow: hidden;padding: 0;position: absolute;width: 1px;}#sk-container-id-1 div.sk-estimator {font-family: monospace;background-color: #f0f8ff;border: 1px dotted black;border-radius: 0.25em;box-sizing: border-box;margin-bottom: 0.5em;}#sk-container-id-1 div.sk-estimator:hover {background-color: #d4ebff;}#sk-container-id-1 div.sk-parallel-item::after {content: \"\";width: 100%;border-bottom: 1px solid gray;flex-grow: 1;}#sk-container-id-1 div.sk-label:hover label.sk-toggleable__label {background-color: #d4ebff;}#sk-container-id-1 div.sk-serial::before {content: \"\";position: absolute;border-left: 1px solid gray;box-sizing: border-box;top: 0;bottom: 0;left: 50%;z-index: 0;}#sk-container-id-1 div.sk-serial {display: flex;flex-direction: column;align-items: center;background-color: white;padding-right: 0.2em;padding-left: 0.2em;position: relative;}#sk-container-id-1 div.sk-item {position: relative;z-index: 1;}#sk-container-id-1 div.sk-parallel {display: flex;align-items: stretch;justify-content: center;background-color: white;position: relative;}#sk-container-id-1 div.sk-item::before, #sk-container-id-1 div.sk-parallel-item::before {content: \"\";position: absolute;border-left: 1px solid gray;box-sizing: border-box;top: 0;bottom: 0;left: 50%;z-index: -1;}#sk-container-id-1 div.sk-parallel-item {display: flex;flex-direction: column;z-index: 1;position: relative;background-color: white;}#sk-container-id-1 div.sk-parallel-item:first-child::after {align-self: flex-end;width: 50%;}#sk-container-id-1 div.sk-parallel-item:last-child::after {align-self: flex-start;width: 50%;}#sk-container-id-1 div.sk-parallel-item:only-child::after {width: 0;}#sk-container-id-1 div.sk-dashed-wrapped {border: 1px dashed gray;margin: 0 0.4em 0.5em 0.4em;box-sizing: border-box;padding-bottom: 0.4em;background-color: white;}#sk-container-id-1 div.sk-label label {font-family: monospace;font-weight: bold;display: inline-block;line-height: 1.2em;}#sk-container-id-1 div.sk-label-container {text-align: center;}#sk-container-id-1 div.sk-container {/* jupyter's `normalize.less` sets `[hidden] { display: none; }` but bootstrap.min.css set `[hidden] { display: none !important; }` so we also need the `!important` here to be able to override the default hidden behavior on the sphinx rendered scikit-learn.org. See: https://github.com/scikit-learn/scikit-learn/issues/21755 */display: inline-block !important;position: relative;}#sk-container-id-1 div.sk-text-repr-fallback {display: none;}</style><div id=\"sk-container-id-1\" class=\"sk-top-container\"><div class=\"sk-text-repr-fallback\"><pre>DecisionTreeClassifier(random_state=12345)</pre><b>In a Jupyter environment, please rerun this cell to show the HTML representation or trust the notebook. <br />On GitHub, the HTML representation is unable to render, please try loading this page with nbviewer.org.</b></div><div class=\"sk-container\" hidden><div class=\"sk-item\"><div class=\"sk-estimator sk-toggleable\"><input class=\"sk-toggleable__control sk-hidden--visually\" id=\"sk-estimator-id-1\" type=\"checkbox\" checked><label for=\"sk-estimator-id-1\" class=\"sk-toggleable__label sk-toggleable__label-arrow\">DecisionTreeClassifier</label><div class=\"sk-toggleable__content\"><pre>DecisionTreeClassifier(random_state=12345)</pre></div></div></div></div></div>"
      ],
      "text/plain": [
       "DecisionTreeClassifier(random_state=12345)"
      ]
     },
     "execution_count": 74,
     "metadata": {},
     "output_type": "execute_result"
    }
   ],
   "source": [
    "dt_model.fit(X_train_sc1, y_train_sc1)"
   ]
  },
  {
   "cell_type": "code",
   "execution_count": 71,
   "id": "3692d258-99e6-4e84-bdc7-73393d8a9872",
   "metadata": {},
   "outputs": [],
   "source": [
    "y_tr_pred = dt_model.predict(X_train_sc1)\n",
    "y_tr_prob = dt_model.predict_proba(X_train_sc1)\n",
    "y_ts_pred = dt_model.predict(X_test_sc)\n",
    "y_ts_prob = dt_model.predict_proba(X_test_sc)"
   ]
  },
  {
   "cell_type": "code",
   "execution_count": 72,
   "id": "202421d1-fb7e-4cf1-b270-52600362eab2",
   "metadata": {},
   "outputs": [
    {
     "name": "stdout",
     "output_type": "stream",
     "text": [
      "------------------------------------------------------------------\n",
      "Test Set Metrics\n"
     ]
    },
    {
     "data": {
      "text/plain": [
       "<Figure size 576x432 with 0 Axes>"
      ]
     },
     "metadata": {},
     "output_type": "display_data"
    },
    {
     "data": {
      "image/png": "[encoded data removed]",
      "text/plain": [
       "<Figure size 432x288 with 2 Axes>"
      ]
     },
     "metadata": {
      "needs_background": "light"
     },
     "output_type": "display_data"
    },
    {
     "name": "stdout",
     "output_type": "stream",
     "text": [
      "Accuracy 99.25%, Precision 66.67%, Recall 80.0%, F1 Score 72.73%\n"
     ]
    }
   ],
   "source": [
    "get_metrics(y_true=y_test, y_pred = y_ts_pred, y_prob = y_ts_prob, train=False)"
   ]
  },
  {
   "cell_type": "markdown",
   "id": "f0533066-c9b6-4cba-ac07-9cb2996a64df",
   "metadata": {},
   "source": [
    "# <strong> Random Undersampling </strong>"
   ]
  },
  {
   "cell_type": "code",
   "execution_count": 75,
   "id": "3ac228b8-68cb-474d-8a6c-98344a77aeab",
   "metadata": {},
   "outputs": [],
   "source": [
    "from imblearn.under_sampling import RandomUnderSampler"
   ]
  },
  {
   "cell_type": "code",
   "execution_count": 76,
   "id": "086c9b63-ddd1-417b-9b97-2a5dee72bde5",
   "metadata": {},
   "outputs": [],
   "source": [
    "random_us = RandomUnderSampler(random_state = 12345)"
   ]
  },
  {
   "cell_type": "code",
   "execution_count": 77,
   "id": "ed096c9d-12b3-4250-9061-4e3cf99b98ef",
   "metadata": {},
   "outputs": [],
   "source": [
    "X_train_sc2, y_train_sc2 = random_us.fit_resample(X_train_sc, y_train)"
   ]
  },
  {
   "cell_type": "code",
   "execution_count": 78,
   "id": "61de462c-7cbb-4ba3-88c0-7d334fb9702f",
   "metadata": {},
   "outputs": [
    {
     "name": "stdout",
     "output_type": "stream",
     "text": [
      " After Random Undersampling  : Class 0 : 21 and class 1 : 21\n"
     ]
    }
   ],
   "source": [
    "print(f\" After Random Undersampling  : Class 0 : {len(y_train_sc2) - y_train_sc2.sum()} and class 1 : {y_train_sc2.sum()}\")"
   ]
  },
  {
   "cell_type": "code",
   "execution_count": 79,
   "id": "fdb8f214-ef18-4627-9802-96ffcbeb8001",
   "metadata": {},
   "outputs": [],
   "source": [
    "dt_model_us = DecisionTreeClassifier(random_state = 12345)"
   ]
  },
  {
   "cell_type": "code",
   "execution_count": 80,
   "id": "e47731ac-5023-4049-bc3e-95f2ea357706",
   "metadata": {},
   "outputs": [
    {
     "data": {
      "text/html": [
       "<style>#sk-container-id-2 {color: black;}#sk-container-id-2 pre{padding: 0;}#sk-container-id-2 div.sk-toggleable {background-color: white;}#sk-container-id-2 label.sk-toggleable__label {cursor: pointer;display: block;width: 100%;margin-bottom: 0;padding: 0.3em;box-sizing: border-box;text-align: center;}#sk-container-id-2 label.sk-toggleable__label-arrow:before {content: \"▸\";float: left;margin-right: 0.25em;color: #696969;}#sk-container-id-2 label.sk-toggleable__label-arrow:hover:before {color: black;}#sk-container-id-2 div.sk-estimator:hover label.sk-toggleable__label-arrow:before {color: black;}#sk-container-id-2 div.sk-toggleable__content {max-height: 0;max-width: 0;overflow: hidden;text-align: left;background-color: #f0f8ff;}#sk-container-id-2 div.sk-toggleable__content pre {margin: 0.2em;color: black;border-radius: 0.25em;background-color: #f0f8ff;}#sk-container-id-2 input.sk-toggleable__control:checked~div.sk-toggleable__content {max-height: 200px;max-width: 100%;overflow: auto;}#sk-container-id-2 input.sk-toggleable__control:checked~label.sk-toggleable__label-arrow:before {content: \"▾\";}#sk-container-id-2 div.sk-estimator input.sk-toggleable__control:checked~label.sk-toggleable__label {background-color: #d4ebff;}#sk-container-id-2 div.sk-label input.sk-toggleable__control:checked~label.sk-toggleable__label {background-color: #d4ebff;}#sk-container-id-2 input.sk-hidden--visually {border: 0;clip: rect(1px 1px 1px 1px);clip: rect(1px, 1px, 1px, 1px);height: 1px;margin: -1px;overflow: hidden;padding: 0;position: absolute;width: 1px;}#sk-container-id-2 div.sk-estimator {font-family: monospace;background-color: #f0f8ff;border: 1px dotted black;border-radius: 0.25em;box-sizing: border-box;margin-bottom: 0.5em;}#sk-container-id-2 div.sk-estimator:hover {background-color: #d4ebff;}#sk-container-id-2 div.sk-parallel-item::after {content: \"\";width: 100%;border-bottom: 1px solid gray;flex-grow: 1;}#sk-container-id-2 div.sk-label:hover label.sk-toggleable__label {background-color: #d4ebff;}#sk-container-id-2 div.sk-serial::before {content: \"\";position: absolute;border-left: 1px solid gray;box-sizing: border-box;top: 0;bottom: 0;left: 50%;z-index: 0;}#sk-container-id-2 div.sk-serial {display: flex;flex-direction: column;align-items: center;background-color: white;padding-right: 0.2em;padding-left: 0.2em;position: relative;}#sk-container-id-2 div.sk-item {position: relative;z-index: 1;}#sk-container-id-2 div.sk-parallel {display: flex;align-items: stretch;justify-content: center;background-color: white;position: relative;}#sk-container-id-2 div.sk-item::before, #sk-container-id-2 div.sk-parallel-item::before {content: \"\";position: absolute;border-left: 1px solid gray;box-sizing: border-box;top: 0;bottom: 0;left: 50%;z-index: -1;}#sk-container-id-2 div.sk-parallel-item {display: flex;flex-direction: column;z-index: 1;position: relative;background-color: white;}#sk-container-id-2 div.sk-parallel-item:first-child::after {align-self: flex-end;width: 50%;}#sk-container-id-2 div.sk-parallel-item:last-child::after {align-self: flex-start;width: 50%;}#sk-container-id-2 div.sk-parallel-item:only-child::after {width: 0;}#sk-container-id-2 div.sk-dashed-wrapped {border: 1px dashed gray;margin: 0 0.4em 0.5em 0.4em;box-sizing: border-box;padding-bottom: 0.4em;background-color: white;}#sk-container-id-2 div.sk-label label {font-family: monospace;font-weight: bold;display: inline-block;line-height: 1.2em;}#sk-container-id-2 div.sk-label-container {text-align: center;}#sk-container-id-2 div.sk-container {/* jupyter's `normalize.less` sets `[hidden] { display: none; }` but bootstrap.min.css set `[hidden] { display: none !important; }` so we also need the `!important` here to be able to override the default hidden behavior on the sphinx rendered scikit-learn.org. See: https://github.com/scikit-learn/scikit-learn/issues/21755 */display: inline-block !important;position: relative;}#sk-container-id-2 div.sk-text-repr-fallback {display: none;}</style><div id=\"sk-container-id-2\" class=\"sk-top-container\"><div class=\"sk-text-repr-fallback\"><pre>DecisionTreeClassifier(random_state=12345)</pre><b>In a Jupyter environment, please rerun this cell to show the HTML representation or trust the notebook. <br />On GitHub, the HTML representation is unable to render, please try loading this page with nbviewer.org.</b></div><div class=\"sk-container\" hidden><div class=\"sk-item\"><div class=\"sk-estimator sk-toggleable\"><input class=\"sk-toggleable__control sk-hidden--visually\" id=\"sk-estimator-id-2\" type=\"checkbox\" checked><label for=\"sk-estimator-id-2\" class=\"sk-toggleable__label sk-toggleable__label-arrow\">DecisionTreeClassifier</label><div class=\"sk-toggleable__content\"><pre>DecisionTreeClassifier(random_state=12345)</pre></div></div></div></div></div>"
      ],
      "text/plain": [
       "DecisionTreeClassifier(random_state=12345)"
      ]
     },
     "execution_count": 80,
     "metadata": {},
     "output_type": "execute_result"
    }
   ],
   "source": [
    "dt_model_us.fit(X_train_sc2, y_train_sc2)"
   ]
  },
  {
   "cell_type": "code",
   "execution_count": 81,
   "id": "0b7a4e3e-e8fc-4671-b7f0-714b9c4eff53",
   "metadata": {},
   "outputs": [],
   "source": [
    "y_tr_pred = dt_model_us.predict(X_train_sc2)\n",
    "y_tr_prob = dt_model_us.predict_proba(X_train_sc2)\n",
    "y_ts_pred = dt_model_us.predict(X_test_sc)\n",
    "y_ts_prob = dt_model_us.predict_proba(X_test_sc)"
   ]
  },
  {
   "cell_type": "code",
   "execution_count": 82,
   "id": "4b944f90-0c0c-4b4e-a9f3-0a8feedb4eaa",
   "metadata": {},
   "outputs": [
    {
     "name": "stdout",
     "output_type": "stream",
     "text": [
      "------------------------------------------------------------------\n",
      "Test Set Metrics\n"
     ]
    },
    {
     "data": {
      "text/plain": [
       "<Figure size 576x432 with 0 Axes>"
      ]
     },
     "metadata": {},
     "output_type": "display_data"
    },
    {
     "data": {
      "image/png": "[encoded data removed]",
      "text/plain": [
       "<Figure size 432x288 with 2 Axes>"
      ]
     },
     "metadata": {
      "needs_background": "light"
     },
     "output_type": "display_data"
    },
    {
     "name": "stdout",
     "output_type": "stream",
     "text": [
      "Accuracy 97.75%, Precision 33.33%, Recall 80.0%, F1 Score 47.06%\n"
     ]
    }
   ],
   "source": [
    "get_metrics(y_true=y_test, y_pred = y_ts_pred, y_prob = y_ts_prob, train=False)"
   ]
  },
  {
   "cell_type": "code",
   "execution_count": null,
   "id": "a34998b4-51cd-441f-970e-899bf8a23f9a",
   "metadata": {},
   "outputs": [],
   "source": []
  }
 ],
 "metadata": {
  "kernelspec": {
   "display_name": "Python 3 [3.10]",
   "language": "python",
   "name": "python3"
  },
  "language_info": {
   "codemirror_mode": {
    "name": "ipython",
    "version": 3
   },
   "file_extension": ".py",
   "mimetype": "text/x-python",
   "name": "python",
   "nbconvert_exporter": "python",
   "pygments_lexer": "ipython3",
   "version": "3.10.2"
  }
 },
 "nbformat": 4,
 "nbformat_minor": 5
}
