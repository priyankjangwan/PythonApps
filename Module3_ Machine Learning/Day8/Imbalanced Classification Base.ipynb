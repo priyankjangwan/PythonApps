{
 "cells": [
  {
   "cell_type": "code",
   "execution_count": 1,
   "id": "d4b54a04-3b0c-43ad-bffb-907968009c5d",
   "metadata": {},
   "outputs": [],
   "source": [
    "import pandas as pd\n",
    "import numpy as np"
   ]
  },
  {
   "cell_type": "code",
   "execution_count": 2,
   "id": "95cc26a9-c739-4937-bebb-5c414ae67ac0",
   "metadata": {},
   "outputs": [],
   "source": [
    "df = pd.read_csv('creditcard.csv')"
   ]
  },
  {
   "cell_type": "code",
   "execution_count": 3,
   "id": "e8752215-a34f-441e-ae92-9771cb633ac0",
   "metadata": {},
   "outputs": [
    {
     "data": {
      "text/html": [
       "<div>\n",
       "<style scoped>\n",
       "    .dataframe tbody tr th:only-of-type {\n",
       "        vertical-align: middle;\n",
       "    }\n",
       "\n",
       "    .dataframe tbody tr th {\n",
       "        vertical-align: top;\n",
       "    }\n",
       "\n",
       "    .dataframe thead th {\n",
       "        text-align: right;\n",
       "    }\n",
       "</style>\n",
       "<table border=\"1\" class=\"dataframe\">\n",
       "  <thead>\n",
       "    <tr style=\"text-align: right;\">\n",
       "      <th></th>\n",
       "      <th>Time</th>\n",
       "      <th>V1</th>\n",
       "      <th>V2</th>\n",
       "      <th>V3</th>\n",
       "      <th>V4</th>\n",
       "      <th>V5</th>\n",
       "      <th>V6</th>\n",
       "      <th>V7</th>\n",
       "      <th>V8</th>\n",
       "      <th>V9</th>\n",
       "      <th>...</th>\n",
       "      <th>V21</th>\n",
       "      <th>V22</th>\n",
       "      <th>V23</th>\n",
       "      <th>V24</th>\n",
       "      <th>V25</th>\n",
       "      <th>V26</th>\n",
       "      <th>V27</th>\n",
       "      <th>V28</th>\n",
       "      <th>Amount</th>\n",
       "      <th>Class</th>\n",
       "    </tr>\n",
       "  </thead>\n",
       "  <tbody>\n",
       "    <tr>\n",
       "      <th>0</th>\n",
       "      <td>89630.0</td>\n",
       "      <td>0.030601</td>\n",
       "      <td>0.859108</td>\n",
       "      <td>0.290804</td>\n",
       "      <td>-0.591915</td>\n",
       "      <td>0.441892</td>\n",
       "      <td>-1.033405</td>\n",
       "      <td>1.016281</td>\n",
       "      <td>-0.190080</td>\n",
       "      <td>-0.066897</td>\n",
       "      <td>...</td>\n",
       "      <td>-0.251454</td>\n",
       "      <td>-0.537176</td>\n",
       "      <td>0.081516</td>\n",
       "      <td>-0.016869</td>\n",
       "      <td>-0.498699</td>\n",
       "      <td>0.142886</td>\n",
       "      <td>0.250215</td>\n",
       "      <td>0.097351</td>\n",
       "      <td>5.99</td>\n",
       "      <td>0</td>\n",
       "    </tr>\n",
       "    <tr>\n",
       "      <th>1</th>\n",
       "      <td>33404.0</td>\n",
       "      <td>1.042874</td>\n",
       "      <td>0.348936</td>\n",
       "      <td>-0.207597</td>\n",
       "      <td>2.215841</td>\n",
       "      <td>0.991928</td>\n",
       "      <td>1.349503</td>\n",
       "      <td>0.100767</td>\n",
       "      <td>0.451493</td>\n",
       "      <td>-0.739607</td>\n",
       "      <td>...</td>\n",
       "      <td>0.064860</td>\n",
       "      <td>0.193583</td>\n",
       "      <td>-0.007651</td>\n",
       "      <td>-1.379281</td>\n",
       "      <td>0.389286</td>\n",
       "      <td>0.225199</td>\n",
       "      <td>0.015614</td>\n",
       "      <td>-0.010651</td>\n",
       "      <td>15.16</td>\n",
       "      <td>0</td>\n",
       "    </tr>\n",
       "    <tr>\n",
       "      <th>2</th>\n",
       "      <td>57910.0</td>\n",
       "      <td>-1.549217</td>\n",
       "      <td>0.444995</td>\n",
       "      <td>1.953795</td>\n",
       "      <td>0.767481</td>\n",
       "      <td>1.249854</td>\n",
       "      <td>-0.439201</td>\n",
       "      <td>0.843048</td>\n",
       "      <td>0.145210</td>\n",
       "      <td>-1.561334</td>\n",
       "      <td>...</td>\n",
       "      <td>0.226098</td>\n",
       "      <td>0.136749</td>\n",
       "      <td>-0.178771</td>\n",
       "      <td>-0.013354</td>\n",
       "      <td>0.782533</td>\n",
       "      <td>-0.175391</td>\n",
       "      <td>-0.075909</td>\n",
       "      <td>0.058072</td>\n",
       "      <td>73.02</td>\n",
       "      <td>0</td>\n",
       "    </tr>\n",
       "    <tr>\n",
       "      <th>3</th>\n",
       "      <td>133413.0</td>\n",
       "      <td>-0.322340</td>\n",
       "      <td>0.969558</td>\n",
       "      <td>0.462259</td>\n",
       "      <td>-0.100560</td>\n",
       "      <td>-0.187871</td>\n",
       "      <td>-1.069206</td>\n",
       "      <td>0.454631</td>\n",
       "      <td>0.211302</td>\n",
       "      <td>-0.162835</td>\n",
       "      <td>...</td>\n",
       "      <td>0.164689</td>\n",
       "      <td>0.497732</td>\n",
       "      <td>-0.038204</td>\n",
       "      <td>0.420742</td>\n",
       "      <td>-0.191605</td>\n",
       "      <td>-0.333414</td>\n",
       "      <td>-0.032846</td>\n",
       "      <td>-0.010004</td>\n",
       "      <td>9.94</td>\n",
       "      <td>0</td>\n",
       "    </tr>\n",
       "    <tr>\n",
       "      <th>4</th>\n",
       "      <td>171524.0</td>\n",
       "      <td>1.990957</td>\n",
       "      <td>-1.984952</td>\n",
       "      <td>-1.014321</td>\n",
       "      <td>-1.265569</td>\n",
       "      <td>-1.371786</td>\n",
       "      <td>0.034195</td>\n",
       "      <td>-1.117904</td>\n",
       "      <td>0.061933</td>\n",
       "      <td>-0.828024</td>\n",
       "      <td>...</td>\n",
       "      <td>-0.416109</td>\n",
       "      <td>-0.844353</td>\n",
       "      <td>0.244993</td>\n",
       "      <td>0.716250</td>\n",
       "      <td>-0.264875</td>\n",
       "      <td>-0.387468</td>\n",
       "      <td>-0.015237</td>\n",
       "      <td>-0.036681</td>\n",
       "      <td>137.94</td>\n",
       "      <td>0</td>\n",
       "    </tr>\n",
       "  </tbody>\n",
       "</table>\n",
       "<p>5 rows × 31 columns</p>\n",
       "</div>"
      ],
      "text/plain": [
       "       Time        V1        V2        V3        V4        V5        V6  \\\n",
       "0   89630.0  0.030601  0.859108  0.290804 -0.591915  0.441892 -1.033405   \n",
       "1   33404.0  1.042874  0.348936 -0.207597  2.215841  0.991928  1.349503   \n",
       "2   57910.0 -1.549217  0.444995  1.953795  0.767481  1.249854 -0.439201   \n",
       "3  133413.0 -0.322340  0.969558  0.462259 -0.100560 -0.187871 -1.069206   \n",
       "4  171524.0  1.990957 -1.984952 -1.014321 -1.265569 -1.371786  0.034195   \n",
       "\n",
       "         V7        V8        V9  ...       V21       V22       V23       V24  \\\n",
       "0  1.016281 -0.190080 -0.066897  ... -0.251454 -0.537176  0.081516 -0.016869   \n",
       "1  0.100767  0.451493 -0.739607  ...  0.064860  0.193583 -0.007651 -1.379281   \n",
       "2  0.843048  0.145210 -1.561334  ...  0.226098  0.136749 -0.178771 -0.013354   \n",
       "3  0.454631  0.211302 -0.162835  ...  0.164689  0.497732 -0.038204  0.420742   \n",
       "4 -1.117904  0.061933 -0.828024  ... -0.416109 -0.844353  0.244993  0.716250   \n",
       "\n",
       "        V25       V26       V27       V28  Amount  Class  \n",
       "0 -0.498699  0.142886  0.250215  0.097351    5.99      0  \n",
       "1  0.389286  0.225199  0.015614 -0.010651   15.16      0  \n",
       "2  0.782533 -0.175391 -0.075909  0.058072   73.02      0  \n",
       "3 -0.191605 -0.333414 -0.032846 -0.010004    9.94      0  \n",
       "4 -0.264875 -0.387468 -0.015237 -0.036681  137.94      0  \n",
       "\n",
       "[5 rows x 31 columns]"
      ]
     },
     "execution_count": 3,
     "metadata": {},
     "output_type": "execute_result"
    }
   ],
   "source": [
    "df.head()"
   ]
  },
  {
   "cell_type": "code",
   "execution_count": 5,
   "id": "6e12c277-4da7-45b8-9619-540c0686c6af",
   "metadata": {},
   "outputs": [],
   "source": [
    "#df.isna().sum()"
   ]
  },
  {
   "cell_type": "code",
   "execution_count": 8,
   "id": "3ecd2499-b910-4058-a6b7-55006cacf715",
   "metadata": {},
   "outputs": [
    {
     "data": {
      "text/plain": [
       "Class\n",
       "0    1974\n",
       "1      26\n",
       "Name: count, dtype: int64"
      ]
     },
     "execution_count": 8,
     "metadata": {},
     "output_type": "execute_result"
    }
   ],
   "source": [
    "df.Class.value_counts()"
   ]
  },
  {
   "cell_type": "code",
   "execution_count": 14,
   "id": "729f5cbe-66e6-4ba9-82ff-e13dc971f79f",
   "metadata": {},
   "outputs": [],
   "source": [
    "X = df.drop(['Class'], axis=1)\n",
    "y = df['Class']"
   ]
  },
  {
   "cell_type": "code",
   "execution_count": 15,
   "id": "e7e126a1-fbb8-48a2-b507-3fa8d82e0fef",
   "metadata": {},
   "outputs": [],
   "source": [
    "# Code here: Train Test Split"
   ]
  },
  {
   "cell_type": "code",
   "execution_count": 16,
   "id": "7136bacf-d47e-4614-9ec7-36b5329b74cd",
   "metadata": {},
   "outputs": [],
   "source": [
    "# Code here: Scaling"
   ]
  },
  {
   "cell_type": "code",
   "execution_count": 17,
   "id": "b44b292c-3784-4dc9-a813-42e331ad55a2",
   "metadata": {},
   "outputs": [
    {
     "data": {
      "text/plain": [
       "(0.013125, 0.0125, 0.013)"
      ]
     },
     "execution_count": 17,
     "metadata": {},
     "output_type": "execute_result"
    }
   ],
   "source": [
    "np.sum(y_train)/y_train.shape[0], np.sum(y_test)/y_test.shape[0], np.sum(y)/y.shape[0]"
   ]
  },
  {
   "cell_type": "code",
   "execution_count": null,
   "id": "62817b6e-6d76-4bae-8f61-c783f425b94f",
   "metadata": {},
   "outputs": [],
   "source": [
    "from sklearn.metrics import accuracy_score, precision_score, recall_score, f1_score, roc_curve, auc, ConfusionMatrixDisplay, confusion_matrix\n",
    "import matplotlib.pyplot as plt\n",
    "def get_metrics(y_true, y_pred, y_prob, train=True, show_roc = True):\n",
    "    sk_acc = accuracy_score(y_pred=y_pred, y_true = y_true)\n",
    "    sk_prec = precision_score(y_pred=y_pred, y_true = y_true)\n",
    "    sk_rec = recall_score(y_pred=y_pred, y_true = y_true)\n",
    "    sk_f1 = f1_score(y_pred=y_pred, y_true = y_true)\n",
    "\n",
    "    fpr, tpr, thresholds = roc_curve(y_true, y_prob[:, 1])\n",
    "\n",
    "    # Compute the Area Under the Curve (AUC) for the ROC curve\n",
    "    roc_auc = auc(fpr, tpr)\n",
    "\n",
    "    # Compute Youden's J statistic for each threshold\n",
    "    youden_j = tpr - fpr\n",
    "    optimal_threshold_index = np.argmax(youden_j)\n",
    "    optimal_threshold = thresholds[optimal_threshold_index]\n",
    "\n",
    "    print(\"------------------------------------------------------------------\")\n",
    "    if train:\n",
    "        print(\"Training Set Metrics\")\n",
    "    else:\n",
    "        print(\"Test Set Metrics\")\n",
    "    conf_matrix= confusion_matrix(y_true= y_true, y_pred = y_pred)\n",
    "    \n",
    "    cm_display = ConfusionMatrixDisplay(confusion_matrix = conf_matrix, display_labels = [\"Not Fraud\", \"Fraud\"])\n",
    "    plt.figure(figsize= (8,6))\n",
    "    cm_display.plot()\n",
    "    plt.show()\n",
    "\n",
    "    print(f\"Accuracy {np.round(sk_acc*100,2)}%, Precision {np.round(sk_prec*100,2)}%, Recall {np.round(sk_rec*100,2)}%, F1 Score {np.round(sk_f1*100,2)}%\")\n",
    "\n",
    "    if train and show_roc:\n",
    "        print(f\"Area Under Curve {roc_auc}, optimal threshold {optimal_threshold}\")\n",
    "\n",
    "        plt.figure(figsize=(4, 3))\n",
    "        plt.plot(fpr, tpr, color='blue', lw=2, label=f'ROC curve (area = {roc_auc:.2f})')\n",
    "        plt.scatter(fpr[optimal_threshold_index], tpr[optimal_threshold_index], color='red', marker='o', label=f'Optimal Threshold = {optimal_threshold:.4f}')\n",
    "        plt.plot([0, 1], [0, 1], color='grey', lw=2, linestyle='--')\n",
    "        plt.xlim([0.0, 1.0])\n",
    "        plt.ylim([0.0, 1.05])\n",
    "        plt.xlabel('False Positive Rate')\n",
    "        plt.ylabel('True Positive Rate')\n",
    "        plt.title('Receiver Operating Characteristic (ROC) Curve Training')\n",
    "        plt.legend(loc='lower right')\n",
    "        plt.show()"
   ]
  },
  {
   "cell_type": "code",
   "execution_count": 19,
   "id": "fb19d2f3-ecb1-4d50-ac17-e0f8050b0181",
   "metadata": {},
   "outputs": [
    {
     "name": "stdout",
     "output_type": "stream",
     "text": [
      "Collecting imbalanced-learn\n",
      "  Downloading imbalanced_learn-0.12.3-py3-none-any.whl.metadata (8.3 kB)\n",
      "Requirement already satisfied: numpy>=1.17.3 in c:\\users\\amitg\\miniconda3\\envs\\ml\\lib\\site-packages (from imbalanced-learn) (1.26.4)\n",
      "Requirement already satisfied: scipy>=1.5.0 in c:\\users\\amitg\\miniconda3\\envs\\ml\\lib\\site-packages (from imbalanced-learn) (1.13.0)\n",
      "Requirement already satisfied: scikit-learn>=1.0.2 in c:\\users\\amitg\\miniconda3\\envs\\ml\\lib\\site-packages (from imbalanced-learn) (1.4.2)\n",
      "Requirement already satisfied: joblib>=1.1.1 in c:\\users\\amitg\\miniconda3\\envs\\ml\\lib\\site-packages (from imbalanced-learn) (1.4.0)\n",
      "Requirement already satisfied: threadpoolctl>=2.0.0 in c:\\users\\amitg\\miniconda3\\envs\\ml\\lib\\site-packages (from imbalanced-learn) (3.4.0)\n",
      "Downloading imbalanced_learn-0.12.3-py3-none-any.whl (258 kB)\n",
      "   ---------------------------------------- 0.0/258.3 kB ? eta -:--:--\n",
      "   ---------------------------------------- 0.0/258.3 kB ? eta -:--:--\n",
      "   - -------------------------------------- 10.2/258.3 kB ? eta -:--:--\n",
      "   - -------------------------------------- 10.2/258.3 kB ? eta -:--:--\n",
      "   --------- ----------------------------- 61.4/258.3 kB 409.6 kB/s eta 0:00:01\n",
      "   ---------------------------------------  256.0/258.3 kB 1.6 MB/s eta 0:00:01\n",
      "   ---------------------------------------- 258.3/258.3 kB 1.3 MB/s eta 0:00:00\n",
      "Installing collected packages: imbalanced-learn\n",
      "Successfully installed imbalanced-learn-0.12.3\n"
     ]
    }
   ],
   "source": [
    "!pip install imbalanced-learn"
   ]
  },
  {
   "cell_type": "code",
   "execution_count": 20,
   "id": "a89081d1-518d-43ea-86c3-18c249beddc7",
   "metadata": {},
   "outputs": [],
   "source": [
    "# Code here: Import SMOTE"
   ]
  },
  {
   "cell_type": "code",
   "execution_count": 28,
   "id": "7f7a2b4b-cb92-40c3-8b16-8b9408df1454",
   "metadata": {},
   "outputs": [],
   "source": [
    "# Code here: Create SMOTE"
   ]
  },
  {
   "cell_type": "code",
   "execution_count": 29,
   "id": "bdd134e4-7ae6-4a3a-a450-b07650ac87b9",
   "metadata": {},
   "outputs": [],
   "source": [
    "# Code here: Use fit_resample to fit , get new X_train_sc1, y_train_sc1"
   ]
  },
  {
   "cell_type": "code",
   "execution_count": 30,
   "id": "10beeb41-afa3-499e-8412-52ee855d13b4",
   "metadata": {},
   "outputs": [
    {
     "data": {
      "text/plain": [
       "((2526, 30), (1600, 30))"
      ]
     },
     "execution_count": 30,
     "metadata": {},
     "output_type": "execute_result"
    }
   ],
   "source": [
    "X_train_sc1.shape, X_train_sc.shape"
   ]
  },
  {
   "cell_type": "code",
   "execution_count": 31,
   "id": "829a5e9c-2972-47d0-ac91-8caa93d8b846",
   "metadata": {},
   "outputs": [
    {
     "data": {
      "text/plain": [
       "0.3749010292953286"
      ]
     },
     "execution_count": 31,
     "metadata": {},
     "output_type": "execute_result"
    }
   ],
   "source": [
    "y_train_sc1.sum()/2526"
   ]
  },
  {
   "cell_type": "code",
   "execution_count": 33,
   "id": "3ea772aa-2e4a-4755-b220-0f3741af8dac",
   "metadata": {},
   "outputs": [],
   "source": [
    "# Code here: Import DecisionTreeClassifier"
   ]
  },
  {
   "cell_type": "code",
   "execution_count": 34,
   "id": "dcd05e44-594b-47ae-b90e-68003c6e9d05",
   "metadata": {},
   "outputs": [],
   "source": [
    "# Code here: Create and fit your model on the new X_train_sc1,y_train_sc1"
   ]
  },
  {
   "cell_type": "code",
   "execution_count": 40,
   "id": "3692d258-99e6-4e84-bdc7-73393d8a9872",
   "metadata": {},
   "outputs": [],
   "source": [
    "y_tr_pred = dt_model.predict(X_train_sc1)\n",
    "y_tr_prob = dt_model.predict_proba(X_train_sc1)\n",
    "y_ts_pred = dt_model.predict(X_test_sc)\n",
    "y_ts_prob = dt_model.predict_proba(X_test_sc)"
   ]
  },
  {
   "cell_type": "code",
   "execution_count": 41,
   "id": "202421d1-fb7e-4cf1-b270-52600362eab2",
   "metadata": {},
   "outputs": [
    {
     "name": "stdout",
     "output_type": "stream",
     "text": [
      "------------------------------------------------------------------\n",
      "Test Set Metrics\n"
     ]
    },
    {
     "data": {
      "text/plain": [
       "<Figure size 800x600 with 0 Axes>"
      ]
     },
     "metadata": {},
     "output_type": "display_data"
    },
    {
     "data": {
      "image/png": "[encoded data removed]",
      "text/plain": [
       "<Figure size 640x480 with 2 Axes>"
      ]
     },
     "metadata": {},
     "output_type": "display_data"
    },
    {
     "name": "stdout",
     "output_type": "stream",
     "text": [
      "Accuracy 99.25%, Precision 66.67%, Recall 80.0%, F1 Score 72.73%\n"
     ]
    }
   ],
   "source": [
    "get_metrics(y_true=y_test, y_pred = y_ts_pred, y_prob = y_ts_prob, train=False)"
   ]
  },
  {
   "cell_type": "code",
   "execution_count": null,
   "id": "a7a47a93-9cfe-4b2f-a3d6-50ce4e3ef8e6",
   "metadata": {},
   "outputs": [],
   "source": []
  }
 ],
 "metadata": {
  "kernelspec": {
   "display_name": "Python 3 [3.10]",
   "language": "python",
   "name": "python3"
  },
  "language_info": {
   "codemirror_mode": {
    "name": "ipython",
    "version": 3
   },
   "file_extension": ".py",
   "mimetype": "text/x-python",
   "name": "python",
   "nbconvert_exporter": "python",
   "pygments_lexer": "ipython3",
   "version": "3.10.2"
  }
 },
 "nbformat": 4,
 "nbformat_minor": 5
}
