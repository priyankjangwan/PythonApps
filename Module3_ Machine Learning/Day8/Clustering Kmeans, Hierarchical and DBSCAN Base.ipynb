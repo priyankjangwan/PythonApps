{
 "cells": [
  {
   "cell_type": "code",
   "execution_count": null,
   "id": "4d1c5091-3043-4854-ae83-2bbbb0099d88",
   "metadata": {},
   "outputs": [],
   "source": [
    "import pandas as pd\n",
    "import numpy as np\n",
    "import matplotlib.pyplot as plt"
   ]
  },
  {
   "cell_type": "code",
   "execution_count": null,
   "id": "01108745-a8f8-4f4c-883a-ebe86ef40273",
   "metadata": {},
   "outputs": [],
   "source": [
    "df = pd.read_csv('Mall_customers.csv')"
   ]
  },
  {
   "cell_type": "code",
   "execution_count": null,
   "id": "351583b1-d5e7-46e8-889c-34d742f112f2",
   "metadata": {},
   "outputs": [],
   "source": [
    "df.head()"
   ]
  },
  {
   "cell_type": "code",
   "execution_count": null,
   "id": "9547e6d7-9ce7-40ad-b403-af6668ba5fce",
   "metadata": {},
   "outputs": [],
   "source": [
    "df_model = df.copy()"
   ]
  },
  {
   "cell_type": "code",
   "execution_count": null,
   "id": "b790624a-ee22-4b88-9415-beb211574313",
   "metadata": {},
   "outputs": [],
   "source": [
    "df_model.drop(['CustomerID'], axis=1, inplace=True)"
   ]
  },
  {
   "cell_type": "code",
   "execution_count": null,
   "id": "075cb4a6-4864-479a-9398-a6fea36083ff",
   "metadata": {},
   "outputs": [],
   "source": [
    "df_model.columns = ['Gender','Age', 'AnnualIncome', 'SpendingScore']"
   ]
  },
  {
   "cell_type": "code",
   "execution_count": null,
   "id": "5c0f5f6c-d24d-49f0-b339-a9c0a8b7c609",
   "metadata": {},
   "outputs": [],
   "source": [
    "df_model.Gender.value_counts()"
   ]
  },
  {
   "cell_type": "code",
   "execution_count": null,
   "id": "6061e5a7-a8cc-4650-847e-b3d633edc1f8",
   "metadata": {},
   "outputs": [],
   "source": [
    "df_model['Gender'] = df_model['Gender'].map({'Female': 0, 'Male':1})"
   ]
  },
  {
   "cell_type": "code",
   "execution_count": null,
   "id": "e2da1f55-9540-497a-b51a-e27821e4d7f7",
   "metadata": {},
   "outputs": [],
   "source": [
    "df_model.head()"
   ]
  },
  {
   "cell_type": "code",
   "execution_count": null,
   "id": "44f02ed9-95fd-46d0-9f1f-75bd9709127b",
   "metadata": {},
   "outputs": [],
   "source": [
    "df_model.shape"
   ]
  },
  {
   "cell_type": "code",
   "execution_count": null,
   "id": "3d56b521-c9ce-4c31-9bff-46749e967e53",
   "metadata": {},
   "outputs": [],
   "source": [
    "# Scale data - only include AnnualIncome, SpendingScore, this is done for visualization"
   ]
  },
  {
   "cell_type": "markdown",
   "id": "770c0e8c-e985-4472-898a-ad9eeb6561ef",
   "metadata": {},
   "source": [
    "# <strong> KMeans </strong>"
   ]
  },
  {
   "cell_type": "code",
   "execution_count": null,
   "id": "d046c291-263b-4b9a-aec0-816b87e2076e",
   "metadata": {},
   "outputs": [],
   "source": [
    "# Import KMeans"
   ]
  },
  {
   "cell_type": "code",
   "execution_count": null,
   "id": "369fec2f-34dd-4867-ad92-774a5cfd43aa",
   "metadata": {},
   "outputs": [],
   "source": [
    "# Implement Elbow Method to identify the best value for k"
   ]
  },
  {
   "cell_type": "code",
   "execution_count": null,
   "id": "e458c8b8-107b-4d41-b014-a45abd27a0e0",
   "metadata": {},
   "outputs": [],
   "source": [
    "# Implement Silhoutte Score"
   ]
  },
  {
   "cell_type": "code",
   "execution_count": null,
   "id": "4b046a8b-94ac-467a-a62b-85c5da0bd838",
   "metadata": {},
   "outputs": [],
   "source": [
    "# Once ideal k value is identified, build a model km_model"
   ]
  },
  {
   "cell_type": "code",
   "execution_count": null,
   "id": "5bff53b3-2dec-417d-a9d2-424e64d79034",
   "metadata": {},
   "outputs": [],
   "source": [
    "df_model['ClusterNumber'] = km_model.predict(X)"
   ]
  },
  {
   "cell_type": "code",
   "execution_count": null,
   "id": "cc1ebc39-5316-4553-b3e7-7a54bee5da91",
   "metadata": {},
   "outputs": [],
   "source": [
    "colors = ['red', 'blue', 'green', 'cyan','magenta']\n",
    "for i in np.arange(0,5,1):\n",
    "    plt.scatter(df_model[df_model.ClusterNumber == i]['SpendingScore'], df_model[df_model.ClusterNumber == i]['AnnualIncome'], c=colors[i], label=f'cluster{i}')\n",
    "plt.ylabel('Annual Income ($)')\n",
    "plt.xlabel('Spending Score (1-100)')\n",
    "plt.show()"
   ]
  },
  {
   "cell_type": "markdown",
   "id": "99ccdfa1-5a12-4b58-8225-4a3de2692901",
   "metadata": {},
   "source": [
    "# <strong> Dendrogram and Agglomerative Clustering </strong>"
   ]
  },
  {
   "cell_type": "code",
   "execution_count": null,
   "id": "ccc05f08-56de-4f15-ac6d-8cf38d8e452a",
   "metadata": {},
   "outputs": [],
   "source": [
    "# Create a dendrogram using ward's method"
   ]
  },
  {
   "cell_type": "code",
   "execution_count": null,
   "id": "b87a553e-d182-4fe6-9478-0c3c6d22e51c",
   "metadata": {},
   "outputs": [],
   "source": [
    "# Implement a model for agglomerative clustering"
   ]
  },
  {
   "cell_type": "code",
   "execution_count": null,
   "id": "04f596e6-4b83-4225-9e64-e2499b25f283",
   "metadata": {},
   "outputs": [],
   "source": [
    "model.labels_"
   ]
  },
  {
   "cell_type": "code",
   "execution_count": null,
   "id": "1dfae5c0-f361-4ca0-9cb9-f6cb6a6850eb",
   "metadata": {},
   "outputs": [],
   "source": [
    "df_model['AggClusterName'] = model.labels_"
   ]
  },
  {
   "cell_type": "code",
   "execution_count": null,
   "id": "534bd511-83d9-4a55-91c8-9b8afe85e632",
   "metadata": {},
   "outputs": [],
   "source": [
    "df_model.head()"
   ]
  },
  {
   "cell_type": "code",
   "execution_count": null,
   "id": "df7180f8-fbe4-4e42-af56-c4bee0656c0d",
   "metadata": {},
   "outputs": [],
   "source": [
    "colors = ['red', 'blue', 'green', 'cyan','magenta']\n",
    "for i in np.arange(0,5,1):\n",
    "    plt.scatter(df_model[df_model['AggClusterName'] == i]['SpendingScore'], df_model[df_model['AggClusterName'] == i]['AnnualIncome'], c=colors[i], label=f'cluster{i}')\n",
    "plt.ylabel('Annual Income ($)')\n",
    "plt.xlabel('Spending Score (1-100)')\n",
    "plt.show()"
   ]
  },
  {
   "cell_type": "markdown",
   "id": "0be72ca4-0d66-45c5-be04-261f685e663b",
   "metadata": {},
   "source": [
    "## **DBSCAN**"
   ]
  },
  {
   "cell_type": "code",
   "execution_count": null,
   "id": "6c58f222-358f-40c9-ad95-c24efd424b85",
   "metadata": {},
   "outputs": [],
   "source": [
    "# Import DBSCAN"
   ]
  },
  {
   "cell_type": "code",
   "execution_count": null,
   "id": "494aa4cf-818e-4121-81a8-dbe991cd5343",
   "metadata": {},
   "outputs": [],
   "source": [
    "# Implement DBSCAN with eps = 5 and min_samples = 5"
   ]
  },
  {
   "cell_type": "code",
   "execution_count": null,
   "id": "8a81cafa-fe5e-4820-9db3-22ddfff801e0",
   "metadata": {},
   "outputs": [],
   "source": [
    "df_model['dbCluster'] = db_model.fit_predict(X)"
   ]
  },
  {
   "cell_type": "code",
   "execution_count": null,
   "id": "6f35b710-8f48-48f6-bf7c-46a0f86e0d84",
   "metadata": {},
   "outputs": [],
   "source": [
    "db_model.labels_"
   ]
  },
  {
   "cell_type": "code",
   "execution_count": null,
   "id": "a7dd8f69-43f3-4bee-9edf-81f07c925449",
   "metadata": {},
   "outputs": [],
   "source": [
    "colors = ['red', 'blue', 'green', 'cyan','magenta']\n",
    "for i in np.arange(0,5,1):\n",
    "    plt.scatter(df_model[df_model['dbCluster'] == i]['SpendingScore'], df_model[df_model['dbCluster'] == i]['AnnualIncome'], c=colors[i], label=f'cluster{i}')\n",
    "plt.ylabel('Annual Income ($)')\n",
    "plt.xlabel('Spending Score (1-100)')\n",
    "plt.show()"
   ]
  },
  {
   "cell_type": "code",
   "execution_count": null,
   "id": "4664a38b-59ed-403b-9369-9f7d2629aa32",
   "metadata": {},
   "outputs": [],
   "source": []
  },
  {
   "cell_type": "code",
   "execution_count": null,
   "id": "93946b8e-6c93-4bc2-b509-b5558db00ad3",
   "metadata": {},
   "outputs": [],
   "source": []
  }
 ],
 "metadata": {
  "kernelspec": {
   "display_name": "Python 3 (ipykernel)",
   "language": "python",
   "name": "python3"
  },
  "language_info": {
   "codemirror_mode": {
    "name": "ipython",
    "version": 3
   },
   "file_extension": ".py",
   "mimetype": "text/x-python",
   "name": "python",
   "nbconvert_exporter": "python",
   "pygments_lexer": "ipython3",
   "version": "3.10.12"
  }
 },
 "nbformat": 4,
 "nbformat_minor": 5
}
