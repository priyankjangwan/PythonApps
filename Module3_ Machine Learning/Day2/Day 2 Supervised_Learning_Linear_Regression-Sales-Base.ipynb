{
 "cells": [
  {
   "cell_type": "code",
   "execution_count": 5,
   "metadata": {
    "id": "noaaj2VTi357"
   },
   "outputs": [],
   "source": [
    "import pandas as pd\n",
    "import numpy as np"
   ]
  },
  {
   "cell_type": "code",
   "execution_count": 6,
   "metadata": {
    "id": "3VpARVPrk_xD"
   },
   "outputs": [],
   "source": [
    "df= pd.read_csv(\"Advertising.csv\")"
   ]
  },
  {
   "cell_type": "code",
   "execution_count": 7,
   "metadata": {
    "colab": {
     "base_uri": "https://localhost:8080/",
     "height": 206
    },
    "id": "vTaUQK4FlCCG",
    "outputId": "7bb046ce-6d42-4106-e5b1-77d1f1119f95"
   },
   "outputs": [
    {
     "data": {
      "text/html": [
       "<div>\n",
       "<style scoped>\n",
       "    .dataframe tbody tr th:only-of-type {\n",
       "        vertical-align: middle;\n",
       "    }\n",
       "\n",
       "    .dataframe tbody tr th {\n",
       "        vertical-align: top;\n",
       "    }\n",
       "\n",
       "    .dataframe thead th {\n",
       "        text-align: right;\n",
       "    }\n",
       "</style>\n",
       "<table border=\"1\" class=\"dataframe\">\n",
       "  <thead>\n",
       "    <tr style=\"text-align: right;\">\n",
       "      <th></th>\n",
       "      <th>TV</th>\n",
       "      <th>radio</th>\n",
       "      <th>newspaper</th>\n",
       "      <th>sales</th>\n",
       "    </tr>\n",
       "  </thead>\n",
       "  <tbody>\n",
       "    <tr>\n",
       "      <th>0</th>\n",
       "      <td>230.1</td>\n",
       "      <td>37.8</td>\n",
       "      <td>69.2</td>\n",
       "      <td>22.1</td>\n",
       "    </tr>\n",
       "    <tr>\n",
       "      <th>1</th>\n",
       "      <td>44.5</td>\n",
       "      <td>39.3</td>\n",
       "      <td>45.1</td>\n",
       "      <td>10.4</td>\n",
       "    </tr>\n",
       "    <tr>\n",
       "      <th>2</th>\n",
       "      <td>17.2</td>\n",
       "      <td>45.9</td>\n",
       "      <td>69.3</td>\n",
       "      <td>9.3</td>\n",
       "    </tr>\n",
       "    <tr>\n",
       "      <th>3</th>\n",
       "      <td>151.5</td>\n",
       "      <td>41.3</td>\n",
       "      <td>58.5</td>\n",
       "      <td>18.5</td>\n",
       "    </tr>\n",
       "    <tr>\n",
       "      <th>4</th>\n",
       "      <td>180.8</td>\n",
       "      <td>10.8</td>\n",
       "      <td>58.4</td>\n",
       "      <td>12.9</td>\n",
       "    </tr>\n",
       "  </tbody>\n",
       "</table>\n",
       "</div>"
      ],
      "text/plain": [
       "      TV  radio  newspaper  sales\n",
       "0  230.1   37.8       69.2   22.1\n",
       "1   44.5   39.3       45.1   10.4\n",
       "2   17.2   45.9       69.3    9.3\n",
       "3  151.5   41.3       58.5   18.5\n",
       "4  180.8   10.8       58.4   12.9"
      ]
     },
     "execution_count": 7,
     "metadata": {},
     "output_type": "execute_result"
    }
   ],
   "source": [
    "df.head() # investment on TV, radio and news and sales show .. monthly compony sales"
   ]
  },
  {
   "cell_type": "code",
   "execution_count": 8,
   "metadata": {
    "colab": {
     "base_uri": "https://localhost:8080/",
     "height": 0
    },
    "id": "bhLgRQVtIoRQ",
    "outputId": "0b84f5d9-261c-4aa4-87a9-28adefeebe20"
   },
   "outputs": [
    {
     "data": {
      "text/plain": [
       "TV           0\n",
       "radio        0\n",
       "newspaper    0\n",
       "sales        0\n",
       "dtype: int64"
      ]
     },
     "execution_count": 8,
     "metadata": {},
     "output_type": "execute_result"
    }
   ],
   "source": [
    "df.isna().sum()"
   ]
  },
  {
   "cell_type": "code",
   "execution_count": 9,
   "metadata": {
    "colab": {
     "base_uri": "https://localhost:8080/",
     "height": 0
    },
    "id": "CXgQ4Ixf6Bep",
    "outputId": "04fe507a-d60b-439a-893c-227dff9fa194"
   },
   "outputs": [
    {
     "data": {
      "text/plain": [
       "(200, 4)"
      ]
     },
     "execution_count": 9,
     "metadata": {},
     "output_type": "execute_result"
    }
   ],
   "source": [
    "df.shape  ## records info"
   ]
  },
  {
   "cell_type": "code",
   "execution_count": 10,
   "metadata": {
    "id": "zZZ_y6bNlCt5"
   },
   "outputs": [],
   "source": [
    "import matplotlib.pyplot as plt\n",
    "import seaborn as sns"
   ]
  },
  {
   "cell_type": "code",
   "execution_count": 11,
   "metadata": {
    "colab": {
     "base_uri": "https://localhost:8080/",
     "height": 404
    },
    "id": "rbmxJVD0lJlP",
    "outputId": "899fb270-d753-4d51-edd3-2699c25c438b"
   },
   "outputs": [
    {
     "data": {
      "image/png": "[encoded data removed]",
      "text/plain": [
       "<Figure size 576x288 with 1 Axes>"
      ]
     },
     "metadata": {
      "needs_background": "light"
     },
     "output_type": "display_data"
    }
   ],
   "source": [
    "plt.figure(figsize = (8,4))\n",
    "sns.scatterplot(data=df, x='TV',y='sales')\n",
    "plt.title('Sales vs TV Spend')\n",
    "plt.show()"
   ]
  },
  {
   "cell_type": "markdown",
   "metadata": {
    "id": "jVPRCueH7RyE"
   },
   "source": [
    "**We see that there is a good strong linear relationship between Sales and TV Spend**"
   ]
  },
  {
   "cell_type": "code",
   "execution_count": 12,
   "metadata": {
    "colab": {
     "base_uri": "https://localhost:8080/",
     "height": 404
    },
    "id": "2tVGvHDQlSVg",
    "outputId": "67d82516-dad7-485f-8ac1-6d16add055c3"
   },
   "outputs": [
    {
     "data": {
      "image/png": "[encoded data removed]",
      "text/plain": [
       "<Figure size 576x288 with 1 Axes>"
      ]
     },
     "metadata": {
      "needs_background": "light"
     },
     "output_type": "display_data"
    }
   ],
   "source": [
    "#Code Here: Plot the relationship between Sales and Radio Spend\n",
    "plt.figure(figsize = (8,4))\n",
    "sns.scatterplot(data=df, x='radio',y='sales')\n",
    "plt.title('Sales vs Radio Spend')\n",
    "plt.show()"
   ]
  },
  {
   "cell_type": "code",
   "execution_count": 13,
   "metadata": {
    "colab": {
     "base_uri": "https://localhost:8080/",
     "height": 404
    },
    "id": "FYZ8GaZmlbsA",
    "outputId": "1fd0be03-ec85-4464-822f-ee23d6a805c1"
   },
   "outputs": [
    {
     "data": {
      "image/png": "[encoded data removed]",
      "text/plain": [
       "<Figure size 576x288 with 1 Axes>"
      ]
     },
     "metadata": {
      "needs_background": "light"
     },
     "output_type": "display_data"
    }
   ],
   "source": [
    "#Code Here: Plot the relationship between Sales and Newspaper Spend\n",
    "plt.figure(figsize = (8,4))\n",
    "sns.scatterplot(data=df, x='newspaper',y='sales')\n",
    "plt.title('Sales vs newspaper Spend')\n",
    "plt.show()"
   ]
  },
  {
   "cell_type": "code",
   "execution_count": 14,
   "metadata": {
    "id": "jnCKciuSlhpB"
   },
   "outputs": [],
   "source": [
    "# So now let us try to build a linear model. We will import the statsmodels library\n",
    "# We are using the Statsmodels library for Ordinary Least Squares Regression\n",
    "import statsmodels.formula.api as smf"
   ]
  },
  {
   "cell_type": "code",
   "execution_count": 15,
   "metadata": {
    "id": "46qwCGHc8IW0"
   },
   "outputs": [],
   "source": [
    "# Code Here\n",
    "# Statsmodels provides the capability to define the model as a formula - Sales ~ TV\n",
    "# Create a model that maps the relationship between sales and tv spend\n",
    "# find out best fit line which is as close as to each points.. (+ , -) \n",
    "sm_sales_tv_model = smf.ols(formula='sales ~ TV', data=df).fit()"
   ]
  },
  {
   "cell_type": "code",
   "execution_count": 16,
   "metadata": {
    "colab": {
     "base_uri": "https://localhost:8080/",
     "height": 0
    },
    "id": "FtVMy22u8ODC",
    "outputId": "bae647a2-5d0e-4994-a5c5-78e401f1d2be"
   },
   "outputs": [
    {
     "name": "stdout",
     "output_type": "stream",
     "text": [
      "                            OLS Regression Results                            \n",
      "==============================================================================\n",
      "Dep. Variable:                  sales   R-squared:                       0.612\n",
      "Model:                            OLS   Adj. R-squared:                  0.610\n",
      "Method:                 Least Squares   F-statistic:                     312.1\n",
      "Date:                Sun, 06 Apr 2025   Prob (F-statistic):           1.47e-42\n",
      "Time:                        16:10:07   Log-Likelihood:                -519.05\n",
      "No. Observations:                 200   AIC:                             1042.\n",
      "Df Residuals:                     198   BIC:                             1049.\n",
      "Df Model:                           1                                         \n",
      "Covariance Type:            nonrobust                                         \n",
      "==============================================================================\n",
      "                 coef    std err          t      P>|t|      [0.025      0.975]\n",
      "------------------------------------------------------------------------------\n",
      "Intercept      7.0326      0.458     15.360      0.000       6.130       7.935\n",
      "TV             0.0475      0.003     17.668      0.000       0.042       0.053\n",
      "==============================================================================\n",
      "Omnibus:                        0.531   Durbin-Watson:                   1.935\n",
      "Prob(Omnibus):                  0.767   Jarque-Bera (JB):                0.669\n",
      "Skew:                          -0.089   Prob(JB):                        0.716\n",
      "Kurtosis:                       2.779   Cond. No.                         338.\n",
      "==============================================================================\n",
      "\n",
      "Notes:\n",
      "[1] Standard Errors assume that the covariance matrix of the errors is correctly specified.\n"
     ]
    }
   ],
   "source": [
    "# Code here\n",
    "# Observe the summary of the model\n",
    "print(sm_sales_tv_model.summary())"
   ]
  },
  {
   "cell_type": "code",
   "execution_count": 17,
   "metadata": {
    "id": "lPwA-DYP9B2N"
   },
   "outputs": [],
   "source": [
    "# Code Here\n",
    "# Build a model that includes TV and Radio...We will observe if it gives a better \n",
    "# prediction\n",
    "# Adj. R-squared: always look for .. as its improving\n",
    "sm_sales_tv_radio_model = smf.ols(formula='sales ~ TV + radio', data=df).fit()"
   ]
  },
  {
   "cell_type": "code",
   "execution_count": 18,
   "metadata": {
    "colab": {
     "base_uri": "https://localhost:8080/",
     "height": 0
    },
    "id": "H8fRsQqQ9Y8v",
    "outputId": "1582deed-59d7-43a1-e65e-c43de14c4dd8"
   },
   "outputs": [
    {
     "name": "stdout",
     "output_type": "stream",
     "text": [
      "                            OLS Regression Results                            \n",
      "==============================================================================\n",
      "Dep. Variable:                  sales   R-squared:                       0.897\n",
      "Model:                            OLS   Adj. R-squared:                  0.896\n",
      "Method:                 Least Squares   F-statistic:                     859.6\n",
      "Date:                Sun, 06 Apr 2025   Prob (F-statistic):           4.83e-98\n",
      "Time:                        16:10:10   Log-Likelihood:                -386.20\n",
      "No. Observations:                 200   AIC:                             778.4\n",
      "Df Residuals:                     197   BIC:                             788.3\n",
      "Df Model:                           2                                         \n",
      "Covariance Type:            nonrobust                                         \n",
      "==============================================================================\n",
      "                 coef    std err          t      P>|t|      [0.025      0.975]\n",
      "------------------------------------------------------------------------------\n",
      "Intercept      2.9211      0.294      9.919      0.000       2.340       3.502\n",
      "TV             0.0458      0.001     32.909      0.000       0.043       0.048\n",
      "radio          0.1880      0.008     23.382      0.000       0.172       0.204\n",
      "==============================================================================\n",
      "Omnibus:                       60.022   Durbin-Watson:                   2.081\n",
      "Prob(Omnibus):                  0.000   Jarque-Bera (JB):              148.679\n",
      "Skew:                          -1.323   Prob(JB):                     5.19e-33\n",
      "Kurtosis:                       6.292   Cond. No.                         425.\n",
      "==============================================================================\n",
      "\n",
      "Notes:\n",
      "[1] Standard Errors assume that the covariance matrix of the errors is correctly specified.\n"
     ]
    }
   ],
   "source": [
    "# Code here\n",
    "# Print the summary of the model that models Sales ~ TV+ Radio\n",
    "print(sm_sales_tv_radio_model.summary())"
   ]
  },
  {
   "cell_type": "code",
   "execution_count": 19,
   "metadata": {
    "id": "_jXeoygz9ehm"
   },
   "outputs": [],
   "source": [
    "# Code here\n",
    "# Build a model that includes TV, Radio and Newspaper... We will observe if it improves \n",
    "# predictions\n",
    "sm_sales_tv_radio__newspapermodel = smf.ols(formula='sales ~ TV + radio + newspaper', data=df).fit()"
   ]
  },
  {
   "cell_type": "code",
   "execution_count": 20,
   "metadata": {
    "colab": {
     "base_uri": "https://localhost:8080/",
     "height": 0
    },
    "id": "d2TvI9wc9lh8",
    "outputId": "d5405f00-1fc9-4341-dafa-2983d12dac29"
   },
   "outputs": [
    {
     "name": "stdout",
     "output_type": "stream",
     "text": [
      "                            OLS Regression Results                            \n",
      "==============================================================================\n",
      "Dep. Variable:                  sales   R-squared:                       0.897\n",
      "Model:                            OLS   Adj. R-squared:                  0.896\n",
      "Method:                 Least Squares   F-statistic:                     570.3\n",
      "Date:                Sun, 06 Apr 2025   Prob (F-statistic):           1.58e-96\n",
      "Time:                        16:10:12   Log-Likelihood:                -386.18\n",
      "No. Observations:                 200   AIC:                             780.4\n",
      "Df Residuals:                     196   BIC:                             793.6\n",
      "Df Model:                           3                                         \n",
      "Covariance Type:            nonrobust                                         \n",
      "==============================================================================\n",
      "                 coef    std err          t      P>|t|      [0.025      0.975]\n",
      "------------------------------------------------------------------------------\n",
      "Intercept      2.9389      0.312      9.422      0.000       2.324       3.554\n",
      "TV             0.0458      0.001     32.809      0.000       0.043       0.049\n",
      "radio          0.1885      0.009     21.893      0.000       0.172       0.206\n",
      "newspaper     -0.0010      0.006     -0.177      0.860      -0.013       0.011\n",
      "==============================================================================\n",
      "Omnibus:                       60.414   Durbin-Watson:                   2.084\n",
      "Prob(Omnibus):                  0.000   Jarque-Bera (JB):              151.241\n",
      "Skew:                          -1.327   Prob(JB):                     1.44e-33\n",
      "Kurtosis:                       6.332   Cond. No.                         454.\n",
      "==============================================================================\n",
      "\n",
      "Notes:\n",
      "[1] Standard Errors assume that the covariance matrix of the errors is correctly specified.\n"
     ]
    }
   ],
   "source": [
    "# Code Here\n",
    "# Print Model Summary and see the output\n",
    "# Adj. R-squared: here its not improving .. so there is no impact of newspaper spending.. \n",
    "print(sm_sales_tv_radio__newspapermodel.summary())"
   ]
  },
  {
   "cell_type": "code",
   "execution_count": 47,
   "metadata": {
    "id": "12ME4Pow90iu"
   },
   "outputs": [
    {
     "name": "stdout",
     "output_type": "stream",
     "text": [
      "0    20.555465\n",
      "1    12.345362\n",
      "2    12.337018\n",
      "3    17.617116\n",
      "4    13.223908\n",
      "dtype: float64\n"
     ]
    },
    {
     "data": {
      "image/png": "[encoded data removed]",
      "text/plain": [
       "<Figure size 576x288 with 1 Axes>"
      ]
     },
     "metadata": {
      "needs_background": "light"
     },
     "output_type": "display_data"
    }
   ],
   "source": [
    "# Code here\n",
    "# Make predictions and name the variable as y_predict\n",
    "y_predict = sm_sales_tv_radio_model.predict(df)\n",
    "print(y_predict[0:5])\n",
    "\n",
    "## Best fit line in Red. \n",
    "y_pred = sm_sales_tv_model.predict(df)\n",
    "plt.figure(figsize = (8,4))\n",
    "sns.scatterplot(data=df, x='TV',y='sales')\n",
    "plt.plot(df['TV'], y_tv_pred, color='red')\n",
    "plt.title('Sales vs TV Spend')\n",
    "plt.show()"
   ]
  },
  {
   "cell_type": "code",
   "execution_count": 62,
   "metadata": {
    "id": "j6Pbvi4r-3gV"
   },
   "outputs": [
    {
     "name": "stdout",
     "output_type": "stream",
     "text": [
      "1.3.1\n"
     ]
    }
   ],
   "source": [
    "from sklearn.metrics import mean_squared_error , mean_absolute_error \n",
    "print(sklearn.__version__)"
   ]
  },
  {
   "cell_type": "code",
   "execution_count": 58,
   "metadata": {
    "colab": {
     "base_uri": "https://localhost:8080/",
     "height": 0
    },
    "id": "CeXo_8zx_DaM",
    "outputId": "d1204cd7-43fa-49b1-b5a2-f05804bc75b8"
   },
   "outputs": [
    {
     "name": "stdout",
     "output_type": "stream",
     "text": [
      "Mean Squared Error 10.512652915656753\n",
      "Mean absolute Error  2.549806038927486\n"
     ]
    }
   ],
   "source": [
    "# Code Here\n",
    "# Calculate Root Mean Squared Error\n",
    "print(f\"Mean Squared Error {mean_squared_error(y_pred = y_pred, y_true = df['sales'])}\")\n",
    "print(f\"Mean absolute Error  {mean_absolute_error(y_pred = y_pred, y_true = df['sales'])}\")"
   ]
  },
  {
   "cell_type": "markdown",
   "metadata": {},
   "source": [
    "# <strong> Machine Learning Process </strong>"
   ]
  },
  {
   "cell_type": "code",
   "execution_count": null,
   "metadata": {
    "id": "a1BU-F6J_I3W"
   },
   "outputs": [],
   "source": [
    "# Code here\n",
    "# Import Train Test Split function"
   ]
  },
  {
   "cell_type": "code",
   "execution_count": null,
   "metadata": {
    "id": "daF5S-yg_1r8"
   },
   "outputs": [],
   "source": [
    "# Code here\n",
    "# Create the Training Set and Test Set\n",
    "# X_train, X_test, y_train and y_test"
   ]
  },
  {
   "cell_type": "code",
   "execution_count": null,
   "metadata": {
    "colab": {
     "base_uri": "https://localhost:8080/",
     "height": 0
    },
    "id": "-_1hgGPuALYM",
    "outputId": "b215ca7b-f3cd-42c7-a795-d3d8f3995d84"
   },
   "outputs": [],
   "source": [
    "print(X_train.shape, X_test.shape, y_train.shape, y_test.shape)"
   ]
  },
  {
   "cell_type": "code",
   "execution_count": null,
   "metadata": {
    "id": "mzhpSi0NAPeI"
   },
   "outputs": [],
   "source": [
    "# Code here\n",
    "# Import StandardScaler"
   ]
  },
  {
   "cell_type": "code",
   "execution_count": null,
   "metadata": {
    "id": "lZ-zq4FsAa_7"
   },
   "outputs": [],
   "source": [
    "# Code here: Instantiate the StandardScaler"
   ]
  },
  {
   "cell_type": "code",
   "execution_count": null,
   "metadata": {
    "id": "hJsj-bWhAcvz"
   },
   "outputs": [],
   "source": [
    "# Code here: Scale X_train and X_test. Variables to be used are - X_train_sc, X_test_sc"
   ]
  },
  {
   "cell_type": "code",
   "execution_count": null,
   "metadata": {
    "id": "jp0zFNI4AjFJ"
   },
   "outputs": [],
   "source": [
    "# Code Here\n",
    "# Import the LinearRegression Class"
   ]
  },
  {
   "cell_type": "code",
   "execution_count": null,
   "metadata": {
    "colab": {
     "base_uri": "https://localhost:8080/",
     "height": 0
    },
    "id": "7Rei7nV-Amk_",
    "outputId": "10c3cafd-3ce8-494a-937d-5c4c2ae7926b"
   },
   "outputs": [],
   "source": [
    "# Code here\n",
    "# Create the Linear Regression Model (sk_model) and fit the model on the training set"
   ]
  },
  {
   "cell_type": "code",
   "execution_count": null,
   "metadata": {
    "id": "nvcslc9vArUu"
   },
   "outputs": [],
   "source": [
    "y_tr_pred = sk_model.predict(X_train_sc)"
   ]
  },
  {
   "cell_type": "code",
   "execution_count": null,
   "metadata": {
    "id": "1QhU4vRkAvhZ"
   },
   "outputs": [],
   "source": [
    "y_ts_pred = sk_model.predict(X_test_sc)"
   ]
  },
  {
   "cell_type": "code",
   "execution_count": null,
   "metadata": {
    "id": "HHHjtE5jAzG-"
   },
   "outputs": [],
   "source": [
    "from sklearn.metrics import root_mean_squared_error"
   ]
  },
  {
   "cell_type": "code",
   "execution_count": null,
   "metadata": {
    "colab": {
     "base_uri": "https://localhost:8080/",
     "height": 0
    },
    "id": "Kyb-F9j1A1W2",
    "outputId": "23adc583-3d26-45d3-d090-8b469336c336"
   },
   "outputs": [],
   "source": [
    "rmse_tr = root_mean_squared_error(y_true=y_train,y_pred = y_tr_pred)\n",
    "print(f\"Error on Training Dataset {rmse_tr}\")"
   ]
  },
  {
   "cell_type": "code",
   "execution_count": null,
   "metadata": {
    "colab": {
     "base_uri": "https://localhost:8080/",
     "height": 0
    },
    "id": "QwNpRBkdBAC7",
    "outputId": "7b82ee7e-a2aa-4613-d96c-0ff7f01e8c86"
   },
   "outputs": [],
   "source": [
    "rmse_ts = root_mean_squared_error(y_true=y_test,y_pred = y_ts_pred)\n",
    "print(f\"Error on Test Dataset {rmse_ts}\")"
   ]
  },
  {
   "cell_type": "code",
   "execution_count": null,
   "metadata": {},
   "outputs": [],
   "source": [
    "# Check for overfitting or underfitting\n",
    "def check_overfitting(rmse_tr, rmse_ts, r2_tr, r2_ts):\n",
    "    # Check for overfitting or underfitting\n",
    "    text = \"\"\n",
    "    if rmse_tr < rmse_ts or r2_tr > r2_ts:\n",
    "        if abs(r2_tr - r2_ts) > 0.1:\n",
    "            text= \"Model may be overfitting to the training data.\"\n",
    "        else:\n",
    "            text= \"Model performs reasonably well but check for slight overfitting.\"\n",
    "    elif rmse_tr > rmse_ts and r2_tr < r2_ts:\n",
    "        text = \"Model may be underfitting, consider increasing model complexity.\"\n",
    "    else:\n",
    "        text = \"Model has a balanced fit on both training and testing datasets.\"\n",
    "    return text"
   ]
  },
  {
   "cell_type": "code",
   "execution_count": null,
   "metadata": {},
   "outputs": [],
   "source": [
    "# Code here: Check for overfitting"
   ]
  },
  {
   "cell_type": "markdown",
   "metadata": {},
   "source": [
    "# <strong> Polynomial Regression </strong>"
   ]
  },
  {
   "cell_type": "code",
   "execution_count": null,
   "metadata": {},
   "outputs": [],
   "source": [
    "# Generate Data for Modelling\n",
    "np.random.seed(12345)\n",
    "X_poly = np.random.randint(0,100,5000).reshape(-1,1)\n",
    "const = np.random.randint(0,100)\n",
    "y_poly = np.power(X_poly,2)+ const\n",
    "print(f\"Constant is {const}\")"
   ]
  },
  {
   "cell_type": "code",
   "execution_count": null,
   "metadata": {},
   "outputs": [],
   "source": [
    "# Code here: Import PolynomialFeatures Class and instantiate"
   ]
  },
  {
   "cell_type": "code",
   "execution_count": null,
   "metadata": {},
   "outputs": [],
   "source": [
    "# Code here: Transform the X_poly using Polynomial Features with degree 2"
   ]
  },
  {
   "cell_type": "code",
   "execution_count": null,
   "metadata": {},
   "outputs": [],
   "source": [
    "# Code here: Create a dataframe giving the column names as x0, x1, x2, add the column y_poly"
   ]
  },
  {
   "cell_type": "code",
   "execution_count": null,
   "metadata": {},
   "outputs": [],
   "source": [
    "# Code here: Create a model using smf.ols giving the formula as y_poly ~ x1 + x2 and print summary"
   ]
  }
 ],
 "metadata": {
  "colab": {
   "collapsed_sections": [],
   "name": "3 Supervised Learning Linear Regression.ipynb",
   "provenance": []
  },
  "kernelspec": {
   "display_name": "Python 3 [3.10]",
   "language": "python",
   "name": "python3"
  },
  "language_info": {
   "codemirror_mode": {
    "name": "ipython",
    "version": 3
   },
   "file_extension": ".py",
   "mimetype": "text/x-python",
   "name": "python",
   "nbconvert_exporter": "python",
   "pygments_lexer": "ipython3",
   "version": "3.10.2"
  }
 },
 "nbformat": 4,
 "nbformat_minor": 4
}
