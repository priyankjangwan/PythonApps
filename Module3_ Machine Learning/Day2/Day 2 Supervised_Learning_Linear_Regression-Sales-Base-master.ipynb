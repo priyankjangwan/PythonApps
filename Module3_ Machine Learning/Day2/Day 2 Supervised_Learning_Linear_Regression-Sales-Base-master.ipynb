{
 "cells": [
  {
   "cell_type": "code",
   "execution_count": null,
   "metadata": {
    "id": "noaaj2VTi357"
   },
   "outputs": [],
   "source": [
    "import pandas as pd\n",
    "import numpy as np"
   ]
  },
  {
   "cell_type": "code",
   "execution_count": null,
   "metadata": {
    "id": "3VpARVPrk_xD"
   },
   "outputs": [],
   "source": [
    "df= pd.read_csv(\"Advertising.csv\")"
   ]
  },
  {
   "cell_type": "code",
   "execution_count": null,
   "metadata": {
    "colab": {
     "base_uri": "https://localhost:8080/",
     "height": 206
    },
    "id": "vTaUQK4FlCCG",
    "outputId": "7bb046ce-6d42-4106-e5b1-77d1f1119f95"
   },
   "outputs": [],
   "source": [
    "df.head()"
   ]
  },
  {
   "cell_type": "code",
   "execution_count": null,
   "metadata": {
    "colab": {
     "base_uri": "https://localhost:8080/",
     "height": 0
    },
    "id": "bhLgRQVtIoRQ",
    "outputId": "0b84f5d9-261c-4aa4-87a9-28adefeebe20"
   },
   "outputs": [],
   "source": [
    "df.isna().sum()"
   ]
  },
  {
   "cell_type": "code",
   "execution_count": null,
   "metadata": {
    "colab": {
     "base_uri": "https://localhost:8080/",
     "height": 0
    },
    "id": "CXgQ4Ixf6Bep",
    "outputId": "04fe507a-d60b-439a-893c-227dff9fa194"
   },
   "outputs": [],
   "source": [
    "df.shape"
   ]
  },
  {
   "cell_type": "code",
   "execution_count": null,
   "metadata": {
    "id": "zZZ_y6bNlCt5"
   },
   "outputs": [],
   "source": [
    "import matplotlib.pyplot as plt\n",
    "import seaborn as sns"
   ]
  },
  {
   "cell_type": "code",
   "execution_count": null,
   "metadata": {
    "colab": {
     "base_uri": "https://localhost:8080/",
     "height": 404
    },
    "id": "rbmxJVD0lJlP",
    "outputId": "899fb270-d753-4d51-edd3-2699c25c438b"
   },
   "outputs": [],
   "source": [
    "plt.figure(figsize = (8,6))\n",
    "sns.scatterplot(data=df, x='TV',y='sales')\n",
    "plt.title('Sales vs TV Spend')\n",
    "plt.show()"
   ]
  },
  {
   "cell_type": "markdown",
   "metadata": {
    "id": "jVPRCueH7RyE"
   },
   "source": [
    "**We see that there is a good strong linear relationship between Sales and TV Spend**"
   ]
  },
  {
   "cell_type": "code",
   "execution_count": null,
   "metadata": {
    "colab": {
     "base_uri": "https://localhost:8080/",
     "height": 404
    },
    "id": "2tVGvHDQlSVg",
    "outputId": "67d82516-dad7-485f-8ac1-6d16add055c3"
   },
   "outputs": [],
   "source": [
    "#Code Here: Plot the relationship between Sales and Radio Spend"
   ]
  },
  {
   "cell_type": "code",
   "execution_count": null,
   "metadata": {
    "colab": {
     "base_uri": "https://localhost:8080/",
     "height": 404
    },
    "id": "FYZ8GaZmlbsA",
    "outputId": "1fd0be03-ec85-4464-822f-ee23d6a805c1"
   },
   "outputs": [],
   "source": [
    "#Code Here: Plot the relationship between Sales and Newspaper Spend"
   ]
  },
  {
   "cell_type": "code",
   "execution_count": null,
   "metadata": {
    "id": "jnCKciuSlhpB"
   },
   "outputs": [],
   "source": [
    "# So now let us try to build a linear model. We will import the statsmodels library\n",
    "# We are using the Statsmodels library for Ordinary Least Squares Regression\n",
    "import statsmodels.formula.api as smf"
   ]
  },
  {
   "cell_type": "code",
   "execution_count": null,
   "metadata": {
    "id": "46qwCGHc8IW0"
   },
   "outputs": [],
   "source": [
    "# Code Here\n",
    "# Statsmodels provides the capability to define the model as a formula - Sales ~ TV\n",
    "# Create a model that maps the relationship between sales and tv spend"
   ]
  },
  {
   "cell_type": "code",
   "execution_count": null,
   "metadata": {
    "colab": {
     "base_uri": "https://localhost:8080/",
     "height": 0
    },
    "id": "FtVMy22u8ODC",
    "outputId": "bae647a2-5d0e-4994-a5c5-78e401f1d2be"
   },
   "outputs": [],
   "source": [
    "# Code here\n",
    "# Observe the summary of the model"
   ]
  },
  {
   "cell_type": "code",
   "execution_count": null,
   "metadata": {
    "id": "lPwA-DYP9B2N"
   },
   "outputs": [],
   "source": [
    "# Code Here\n",
    "# Build a model that includes TV and Radio...We will observe if it gives a better \n",
    "# prediction\n"
   ]
  },
  {
   "cell_type": "code",
   "execution_count": null,
   "metadata": {
    "colab": {
     "base_uri": "https://localhost:8080/",
     "height": 0
    },
    "id": "H8fRsQqQ9Y8v",
    "outputId": "1582deed-59d7-43a1-e65e-c43de14c4dd8"
   },
   "outputs": [],
   "source": [
    "# Code here\n",
    "# Print the summary of the model that models Sales ~ TV+ Radio"
   ]
  },
  {
   "cell_type": "code",
   "execution_count": null,
   "metadata": {
    "id": "_jXeoygz9ehm"
   },
   "outputs": [],
   "source": [
    "# Code here\n",
    "# Build a model that includes TV, Radio and Newspaper... We will observe if it improves \n",
    "# predictions"
   ]
  },
  {
   "cell_type": "code",
   "execution_count": null,
   "metadata": {
    "colab": {
     "base_uri": "https://localhost:8080/",
     "height": 0
    },
    "id": "d2TvI9wc9lh8",
    "outputId": "d5405f00-1fc9-4341-dafa-2983d12dac29"
   },
   "outputs": [],
   "source": [
    "# Code Here\n",
    "# Print Model Summary and see the output"
   ]
  },
  {
   "cell_type": "code",
   "execution_count": null,
   "metadata": {
    "id": "12ME4Pow90iu"
   },
   "outputs": [],
   "source": [
    "# Code here\n",
    "# Make predictions and name the variable as y_predict"
   ]
  },
  {
   "cell_type": "code",
   "execution_count": null,
   "metadata": {
    "id": "j6Pbvi4r-3gV"
   },
   "outputs": [],
   "source": [
    "from sklearn.metrics import root_mean_squared_error"
   ]
  },
  {
   "cell_type": "code",
   "execution_count": null,
   "metadata": {
    "colab": {
     "base_uri": "https://localhost:8080/",
     "height": 0
    },
    "id": "CeXo_8zx_DaM",
    "outputId": "d1204cd7-43fa-49b1-b5a2-f05804bc75b8"
   },
   "outputs": [],
   "source": [
    "# Code Here\n",
    "# Calculate Root Mean Squared Error"
   ]
  },
  {
   "cell_type": "markdown",
   "metadata": {},
   "source": [
    "# <strong> Machine Learning Process </strong>"
   ]
  },
  {
   "cell_type": "code",
   "execution_count": null,
   "metadata": {
    "id": "a1BU-F6J_I3W"
   },
   "outputs": [],
   "source": [
    "# Code here\n",
    "# Import Train Test Split function"
   ]
  },
  {
   "cell_type": "code",
   "execution_count": null,
   "metadata": {
    "id": "daF5S-yg_1r8"
   },
   "outputs": [],
   "source": [
    "# Code here\n",
    "# Create the Training Set and Test Set\n",
    "# X_train, X_test, y_train and y_test"
   ]
  },
  {
   "cell_type": "code",
   "execution_count": null,
   "metadata": {
    "colab": {
     "base_uri": "https://localhost:8080/",
     "height": 0
    },
    "id": "-_1hgGPuALYM",
    "outputId": "b215ca7b-f3cd-42c7-a795-d3d8f3995d84"
   },
   "outputs": [],
   "source": [
    "print(X_train.shape, X_test.shape, y_train.shape, y_test.shape)"
   ]
  },
  {
   "cell_type": "code",
   "execution_count": null,
   "metadata": {
    "id": "mzhpSi0NAPeI"
   },
   "outputs": [],
   "source": [
    "# Code here\n",
    "# Import StandardScaler"
   ]
  },
  {
   "cell_type": "code",
   "execution_count": null,
   "metadata": {
    "id": "lZ-zq4FsAa_7"
   },
   "outputs": [],
   "source": [
    "# Code here: Instantiate the StandardScaler"
   ]
  },
  {
   "cell_type": "code",
   "execution_count": null,
   "metadata": {
    "id": "hJsj-bWhAcvz"
   },
   "outputs": [],
   "source": [
    "# Code here: Scale X_train and X_test. Variables to be used are - X_train_sc, X_test_sc"
   ]
  },
  {
   "cell_type": "code",
   "execution_count": null,
   "metadata": {
    "id": "jp0zFNI4AjFJ"
   },
   "outputs": [],
   "source": [
    "# Code Here\n",
    "# Import the LinearRegression Class"
   ]
  },
  {
   "cell_type": "code",
   "execution_count": null,
   "metadata": {
    "colab": {
     "base_uri": "https://localhost:8080/",
     "height": 0
    },
    "id": "7Rei7nV-Amk_",
    "outputId": "10c3cafd-3ce8-494a-937d-5c4c2ae7926b"
   },
   "outputs": [],
   "source": [
    "# Code here\n",
    "# Create the Linear Regression Model (sk_model) and fit the model on the training set"
   ]
  },
  {
   "cell_type": "code",
   "execution_count": null,
   "metadata": {
    "id": "nvcslc9vArUu"
   },
   "outputs": [],
   "source": [
    "y_tr_pred = sk_model.predict(X_train_sc)"
   ]
  },
  {
   "cell_type": "code",
   "execution_count": null,
   "metadata": {
    "id": "1QhU4vRkAvhZ"
   },
   "outputs": [],
   "source": [
    "y_ts_pred = sk_model.predict(X_test_sc)"
   ]
  },
  {
   "cell_type": "code",
   "execution_count": null,
   "metadata": {
    "id": "HHHjtE5jAzG-"
   },
   "outputs": [],
   "source": [
    "from sklearn.metrics import root_mean_squared_error"
   ]
  },
  {
   "cell_type": "code",
   "execution_count": null,
   "metadata": {
    "colab": {
     "base_uri": "https://localhost:8080/",
     "height": 0
    },
    "id": "Kyb-F9j1A1W2",
    "outputId": "23adc583-3d26-45d3-d090-8b469336c336"
   },
   "outputs": [],
   "source": [
    "rmse_tr = root_mean_squared_error(y_true=y_train,y_pred = y_tr_pred)\n",
    "print(f\"Error on Training Dataset {rmse_tr}\")"
   ]
  },
  {
   "cell_type": "code",
   "execution_count": null,
   "metadata": {
    "colab": {
     "base_uri": "https://localhost:8080/",
     "height": 0
    },
    "id": "QwNpRBkdBAC7",
    "outputId": "7b82ee7e-a2aa-4613-d96c-0ff7f01e8c86"
   },
   "outputs": [],
   "source": [
    "rmse_ts = root_mean_squared_error(y_true=y_test,y_pred = y_ts_pred)\n",
    "print(f\"Error on Test Dataset {rmse_ts}\")"
   ]
  },
  {
   "cell_type": "code",
   "execution_count": null,
   "metadata": {},
   "outputs": [],
   "source": [
    "# Check for overfitting or underfitting\n",
    "def check_overfitting(rmse_tr, rmse_ts, r2_tr, r2_ts):\n",
    "    # Check for overfitting or underfitting\n",
    "    text = \"\"\n",
    "    if rmse_tr < rmse_ts or r2_tr > r2_ts:\n",
    "        if abs(r2_tr - r2_ts) > 0.1:\n",
    "            text= \"Model may be overfitting to the training data.\"\n",
    "        else:\n",
    "            text= \"Model performs reasonably well but check for slight overfitting.\"\n",
    "    elif rmse_tr > rmse_ts and r2_tr < r2_ts:\n",
    "        text = \"Model may be underfitting, consider increasing model complexity.\"\n",
    "    else:\n",
    "        text = \"Model has a balanced fit on both training and testing datasets.\"\n",
    "    return text"
   ]
  },
  {
   "cell_type": "code",
   "execution_count": null,
   "metadata": {},
   "outputs": [],
   "source": [
    "# Code here: Check for overfitting"
   ]
  },
  {
   "cell_type": "markdown",
   "metadata": {},
   "source": [
    "# <strong> Polynomial Regression </strong>"
   ]
  },
  {
   "cell_type": "code",
   "execution_count": null,
   "metadata": {},
   "outputs": [],
   "source": [
    "# Generate Data for Modelling\n",
    "np.random.seed(12345)\n",
    "X_poly = np.random.randint(0,100,5000).reshape(-1,1)\n",
    "const = np.random.randint(0,100)\n",
    "y_poly = np.power(X_poly,2)+ const\n",
    "print(f\"Constant is {const}\")"
   ]
  },
  {
   "cell_type": "code",
   "execution_count": null,
   "metadata": {},
   "outputs": [],
   "source": [
    "# Code here: Import PolynomialFeatures Class and instantiate"
   ]
  },
  {
   "cell_type": "code",
   "execution_count": null,
   "metadata": {},
   "outputs": [],
   "source": [
    "# Code here: Transform the X_poly using Polynomial Features with degree 2"
   ]
  },
  {
   "cell_type": "code",
   "execution_count": null,
   "metadata": {},
   "outputs": [],
   "source": [
    "# Code here: Create a dataframe giving the column names as x0, x1, x2, add the column y_poly"
   ]
  },
  {
   "cell_type": "code",
   "execution_count": null,
   "metadata": {},
   "outputs": [],
   "source": [
    "# Code here: Create a model using smf.ols giving the formula as y_poly ~ x1 + x2 and print summary"
   ]
  }
 ],
 "metadata": {
  "colab": {
   "collapsed_sections": [],
   "name": "3 Supervised Learning Linear Regression.ipynb",
   "provenance": []
  },
  "kernelspec": {
   "display_name": "Python 3 (ipykernel)",
   "language": "python",
   "name": "python3"
  },
  "language_info": {
   "codemirror_mode": {
    "name": "ipython",
    "version": 3
   },
   "file_extension": ".py",
   "mimetype": "text/x-python",
   "name": "python",
   "nbconvert_exporter": "python",
   "pygments_lexer": "ipython3",
   "version": "3.11.9"
  }
 },
 "nbformat": 4,
 "nbformat_minor": 4
}
