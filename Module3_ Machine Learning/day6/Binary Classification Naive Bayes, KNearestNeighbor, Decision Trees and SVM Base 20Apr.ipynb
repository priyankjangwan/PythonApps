{
 "cells": [
  {
   "cell_type": "markdown",
   "id": "b0e32a60-5da3-4f00-971f-1cd7c7995079",
   "metadata": {},
   "source": [
    "## Data Preparation"
   ]
  },
  {
   "cell_type": "code",
   "execution_count": null,
   "id": "7e9e57e7-6113-4893-b413-0165600a1157",
   "metadata": {},
   "outputs": [],
   "source": [
    "import pandas as pd\n",
    "import numpy as np"
   ]
  },
  {
   "cell_type": "code",
   "execution_count": null,
   "id": "f4e13db4-1abf-49df-9d66-511beae24d9c",
   "metadata": {},
   "outputs": [],
   "source": [
    "df = pd.read_csv('Breast_cancer_dataset.csv')"
   ]
  },
  {
   "cell_type": "code",
   "execution_count": null,
   "id": "69495739-2293-4b21-9bab-0b72b13606bc",
   "metadata": {},
   "outputs": [],
   "source": [
    "df.head()"
   ]
  },
  {
   "cell_type": "code",
   "execution_count": null,
   "id": "904a42a0-cb9a-4a82-8dda-ac7630a1fe01",
   "metadata": {},
   "outputs": [],
   "source": [
    "df.columns"
   ]
  },
  {
   "cell_type": "code",
   "execution_count": null,
   "id": "e1082a6e-5d1f-4645-a059-9aff47c449c8",
   "metadata": {},
   "outputs": [],
   "source": [
    "df.drop(['id', 'Unnamed: 32'], axis=1, inplace=True)\n",
    "features = df.columns[1:]"
   ]
  },
  {
   "cell_type": "code",
   "execution_count": null,
   "id": "862c95bf-95cc-4a07-8709-2cd1a35ee95b",
   "metadata": {},
   "outputs": [],
   "source": [
    "features"
   ]
  },
  {
   "cell_type": "code",
   "execution_count": null,
   "id": "f2cda369-4e29-4b46-a6c4-e458f7d9ef7d",
   "metadata": {},
   "outputs": [],
   "source": [
    "X = df.drop(['diagnosis'], axis=1)\n",
    "y = df['diagnosis'].map({'M': 1, 'B': 0})"
   ]
  },
  {
   "cell_type": "code",
   "execution_count": null,
   "id": "9aedc24b-2431-4941-bec0-4aedf0d7c340",
   "metadata": {},
   "outputs": [],
   "source": [
    "y[0:5]"
   ]
  },
  {
   "cell_type": "code",
   "execution_count": null,
   "id": "862a6a00-62de-438f-a562-0d3153c178f9",
   "metadata": {},
   "outputs": [],
   "source": [
    "# Code here: Create X_train, X_test, y_train, y_test , use stratified sampling, random_state = 12345"
   ]
  },
  {
   "cell_type": "code",
   "execution_count": null,
   "id": "e28d218c-6e3f-49a3-bba9-44e041d064c3",
   "metadata": {},
   "outputs": [],
   "source": [
    "X_train.shape, X_test.shape, y_train.shape, y_test.shape"
   ]
  },
  {
   "cell_type": "code",
   "execution_count": null,
   "id": "2786914c-1e32-4a11-8cab-130781cf8c1b",
   "metadata": {},
   "outputs": [],
   "source": [
    "# Code here: Scale your dataset"
   ]
  },
  {
   "cell_type": "code",
   "execution_count": null,
   "id": "b27c64ff-bc89-4f31-8a1b-0765193028dc",
   "metadata": {},
   "outputs": [],
   "source": [
    "from sklearn.metrics import accuracy_score, precision_score, recall_score, f1_score, roc_curve, auc, ConfusionMatrixDisplay, confusion_matrix\n",
    "import matplotlib.pyplot as plt\n",
    "def get_metrics(y_true, y_pred, y_prob, train=True, show_roc = True):\n",
    "    sk_acc = accuracy_score(y_pred=y_pred, y_true = y_true)\n",
    "    sk_prec = precision_score(y_pred=y_pred, y_true = y_true)\n",
    "    sk_rec = recall_score(y_pred=y_pred, y_true = y_true)\n",
    "    sk_f1 = f1_score(y_pred=y_pred, y_true = y_true)\n",
    "\n",
    "    fpr, tpr, thresholds = roc_curve(y_true, y_prob[:, 1])\n",
    "\n",
    "    # Compute the Area Under the Curve (AUC) for the ROC curve\n",
    "    roc_auc = auc(fpr, tpr)\n",
    "\n",
    "    # Compute Youden's J statistic for each threshold\n",
    "    youden_j = tpr - fpr\n",
    "    optimal_threshold_index = np.argmax(youden_j)\n",
    "    optimal_threshold = thresholds[optimal_threshold_index]\n",
    "\n",
    "    print(\"------------------------------------------------------------------\")\n",
    "    if train:\n",
    "        print(\"Training Set Metrics\")\n",
    "    else:\n",
    "        print(\"Test Set Metrics\")\n",
    "    conf_matrix= confusion_matrix(y_true= y_true, y_pred = y_pred)\n",
    "    \n",
    "    cm_display = ConfusionMatrixDisplay(confusion_matrix = conf_matrix, display_labels = [\"benign\", \"malignant\"])\n",
    "    plt.figure(figsize= (8,6))\n",
    "    cm_display.plot()\n",
    "    plt.show()\n",
    "\n",
    "    print(f\"Accuracy {np.round(sk_acc*100,2)}%, Precision {np.round(sk_prec*100,2)}%, Recall {np.round(sk_rec*100,2)}%, F1 Score {np.round(sk_f1*100,2)}%\")\n",
    "\n",
    "    if train and show_roc:\n",
    "        print(f\"Area Under Curve {roc_auc}, optimal threshold {optimal_threshold}\")\n",
    "\n",
    "        plt.figure(figsize=(4, 3))\n",
    "        plt.plot(fpr, tpr, color='blue', lw=2, label=f'ROC curve (area = {roc_auc:.2f})')\n",
    "        plt.scatter(fpr[optimal_threshold_index], tpr[optimal_threshold_index], color='red', marker='o', label=f'Optimal Threshold = {optimal_threshold:.4f}')\n",
    "        plt.plot([0, 1], [0, 1], color='grey', lw=2, linestyle='--')\n",
    "        plt.xlim([0.0, 1.0])\n",
    "        plt.ylim([0.0, 1.05])\n",
    "        plt.xlabel('False Positive Rate')\n",
    "        plt.ylabel('True Positive Rate')\n",
    "        plt.title('Receiver Operating Characteristic (ROC) Curve Training')\n",
    "        plt.legend(loc='lower right')\n",
    "        plt.show()"
   ]
  },
  {
   "cell_type": "markdown",
   "id": "009e35b2-fee4-484b-9acf-70d6b97c22c4",
   "metadata": {},
   "source": [
    "# **Naive Bayes**"
   ]
  },
  {
   "cell_type": "code",
   "execution_count": null,
   "id": "3046c30c-75c8-42fc-ad69-a86652e240c2",
   "metadata": {},
   "outputs": [],
   "source": [
    "# Code here: Import the GaussianNB class from naive_bayes"
   ]
  },
  {
   "cell_type": "code",
   "execution_count": null,
   "id": "19510b91-75e0-4db8-8c61-11c0dddc4ba0",
   "metadata": {},
   "outputs": [],
   "source": [
    "# Code here: Instantiate your model"
   ]
  },
  {
   "cell_type": "code",
   "execution_count": null,
   "id": "2fada5ab-50e2-4244-a8e7-422c6073c745",
   "metadata": {},
   "outputs": [],
   "source": [
    "# Code here: Fit your model"
   ]
  },
  {
   "cell_type": "code",
   "execution_count": null,
   "id": "9282792f-e349-41ac-8a04-3f1e7931f980",
   "metadata": {},
   "outputs": [],
   "source": [
    "# Code here: Make Predictions on Training and Test Set\n",
    "# y_tr_pred, y_tr_prob, y_ts_pred, y_ts_prob"
   ]
  },
  {
   "cell_type": "code",
   "execution_count": null,
   "id": "f25bfff8-7460-4b0b-aac9-41c777905d66",
   "metadata": {},
   "outputs": [],
   "source": [
    "get_metrics(y_pred=y_tr_pred, y_true=y_train, y_prob=y_tr_prob)"
   ]
  },
  {
   "cell_type": "code",
   "execution_count": null,
   "id": "c46b254c-b74c-454c-891c-175c9cdbf9d2",
   "metadata": {},
   "outputs": [],
   "source": [
    "get_metrics(y_pred=y_ts_pred, y_true=y_test, y_prob=y_ts_prob, train=False)"
   ]
  },
  {
   "cell_type": "markdown",
   "id": "9b7de9b5-0f1f-4de4-a4b7-d5c161eee6ea",
   "metadata": {},
   "source": [
    "# **K Nearest Neighbor**"
   ]
  },
  {
   "cell_type": "code",
   "execution_count": null,
   "id": "3686a4f5-5b56-4c12-b809-2ea700e34341",
   "metadata": {},
   "outputs": [],
   "source": [
    "# Import KNeighborsClassifier class from sklearn"
   ]
  },
  {
   "cell_type": "code",
   "execution_count": null,
   "id": "6946fdaa-9974-4d8e-b127-747729fbdaaf",
   "metadata": {},
   "outputs": [],
   "source": [
    "# Instantiate your model as knn_model, set n_neighbors to 3"
   ]
  },
  {
   "cell_type": "code",
   "execution_count": null,
   "id": "adead0d0-0434-44eb-82f3-d0ff9c8c6364",
   "metadata": {},
   "outputs": [],
   "source": [
    "# Fit your model on Training Set"
   ]
  },
  {
   "cell_type": "code",
   "execution_count": null,
   "id": "b144bfae-5cbc-4860-88fb-e9c173c4293e",
   "metadata": {},
   "outputs": [],
   "source": [
    "# Code here: Make Predictions on Training and Test Set\n",
    "# y_tr_pred, y_tr_prob, y_ts_pred, y_ts_prob"
   ]
  },
  {
   "cell_type": "code",
   "execution_count": null,
   "id": "09670093-9ff1-4319-afea-a01fe39913e6",
   "metadata": {},
   "outputs": [],
   "source": [
    "get_metrics(y_true = y_train, y_pred = y_tr_pred, y_prob=y_tr_prob)"
   ]
  },
  {
   "cell_type": "code",
   "execution_count": null,
   "id": "392699d0-b0e7-482d-9250-6b1a77479f1f",
   "metadata": {},
   "outputs": [],
   "source": [
    "get_metrics(y_true = y_test, y_pred = y_ts_pred, y_prob=y_ts_prob, train=False)"
   ]
  },
  {
   "cell_type": "code",
   "execution_count": null,
   "id": "e5c62833-7cf5-4cb6-813b-de3b052a64c8",
   "metadata": {},
   "outputs": [],
   "source": [
    "# Code here: Set up a dictionary grd_knn and set values for n_neighbors parameter"
   ]
  },
  {
   "cell_type": "code",
   "execution_count": null,
   "id": "21c0f57f-2dec-4aec-92d3-5f9c698a4235",
   "metadata": {},
   "outputs": [],
   "source": [
    "grid_knn"
   ]
  },
  {
   "cell_type": "code",
   "execution_count": null,
   "id": "ec62a24e-79d3-4aca-893c-6e5352865ae6",
   "metadata": {},
   "outputs": [],
   "source": [
    "# Code here: Import GridSearchCV and RepeatedKFold"
   ]
  },
  {
   "cell_type": "code",
   "execution_count": null,
   "id": "ccc76a67-fc87-443a-86ac-75ea4323280b",
   "metadata": {},
   "outputs": [],
   "source": [
    "# Code here: Create Cross Validation cv"
   ]
  },
  {
   "cell_type": "code",
   "execution_count": null,
   "id": "6a939880-a531-4a3c-911d-d5274171881e",
   "metadata": {},
   "outputs": [],
   "source": [
    "# Code here: Instantiate a new KNN Model gs_knn_model"
   ]
  },
  {
   "cell_type": "code",
   "execution_count": null,
   "id": "005c1eb6-5ecd-43f8-8c0d-e3cd65aea9ab",
   "metadata": {},
   "outputs": [],
   "source": [
    "# Code here: Instantiate Grid Search"
   ]
  },
  {
   "cell_type": "code",
   "execution_count": null,
   "id": "e8089e6e-4037-4b26-bf79-d1d0d182e913",
   "metadata": {},
   "outputs": [],
   "source": [
    "gs_knn_results = # Code here: Gridsearch.fit"
   ]
  },
  {
   "cell_type": "code",
   "execution_count": null,
   "id": "5d3c777c-33ea-4afb-b365-51ad628a98c0",
   "metadata": {},
   "outputs": [],
   "source": [
    "gs_knn_results.best_params_"
   ]
  },
  {
   "cell_type": "markdown",
   "id": "11ff9626-f997-47b5-9ebc-8fd7382cda1e",
   "metadata": {},
   "source": [
    "# **Decision Trees**"
   ]
  },
  {
   "cell_type": "code",
   "execution_count": null,
   "id": "8650b082-75fb-46eb-9487-26609a3e3ac5",
   "metadata": {},
   "outputs": [],
   "source": [
    "# Code here: Import DecisionTreeClassifier from sklearn.tree, instantiate a model by specifying random_state = 12345 and fit the model"
   ]
  },
  {
   "cell_type": "code",
   "execution_count": null,
   "id": "345ede44-5472-4872-b970-313bf3f57604",
   "metadata": {},
   "outputs": [],
   "source": [
    "# Code here: Make predictions on training and test set as done above"
   ]
  },
  {
   "cell_type": "code",
   "execution_count": null,
   "id": "28e39e42-e8f7-4cf2-bbe9-9fd4dccd13de",
   "metadata": {},
   "outputs": [],
   "source": [
    "get_metrics(y_true=y_train, y_pred = y_tr_pred, y_prob = y_tr_prob)"
   ]
  },
  {
   "cell_type": "code",
   "execution_count": null,
   "id": "297f459d-d202-46df-9c45-895ea9cefe2b",
   "metadata": {},
   "outputs": [],
   "source": [
    "get_metrics(y_true=y_test, y_pred = y_ts_pred, y_prob = y_ts_prob, train=False)"
   ]
  },
  {
   "cell_type": "code",
   "execution_count": null,
   "id": "93d9dfa9-028e-47dd-8c88-c8a866ad0b95",
   "metadata": {},
   "outputs": [],
   "source": [
    "# Plot the decision tree\n",
    "from sklearn.tree import plot_tree\n",
    "import matplotlib.pyplot as plt\n",
    "\n",
    "fig, axes = plt.subplots(nrows = 1,ncols = 1,figsize = (4,3), dpi=300)\n",
    "plot_tree(dt_model,filled=True,rounded=True, ax=axes, feature_names=features, class_names=['benign','malevolent'])\n",
    "#plt.show()\n",
    "plt.savefig('treecancer.png', format='png')\n",
    "plt.show()"
   ]
  },
  {
   "cell_type": "code",
   "execution_count": null,
   "id": "82b53acb-031b-4e31-a5eb-61c63151e58c",
   "metadata": {},
   "outputs": [],
   "source": [
    "grid_dtree = {}\n",
    "grid_dtree['max_depth'] = np.arange(2,10, 1)"
   ]
  },
  {
   "cell_type": "code",
   "execution_count": null,
   "id": "260e9011-caf6-444a-a1e0-4b490a4ff2e7",
   "metadata": {},
   "outputs": [],
   "source": [
    "# Now we do grid search\n",
    "gs_tree_model = DecisionTreeClassifier(random_state=12345)"
   ]
  },
  {
   "cell_type": "code",
   "execution_count": null,
   "id": "da5d6db4-c448-4329-8270-bc4c811d35c8",
   "metadata": {},
   "outputs": [],
   "source": [
    "gs_tree_search = GridSearchCV(gs_tree_model, grid_dtree, scoring = 'accuracy',cv = cv, n_jobs= -1)"
   ]
  },
  {
   "cell_type": "code",
   "execution_count": null,
   "id": "75e0750c-1cdc-4977-8ab7-9dd3e8ca2133",
   "metadata": {},
   "outputs": [],
   "source": [
    "gs_tree_result = gs_tree_search.fit(X_train_sc, y_train)"
   ]
  },
  {
   "cell_type": "code",
   "execution_count": null,
   "id": "e4bc2bfb-541c-46d7-96e5-3a472a4f479f",
   "metadata": {},
   "outputs": [],
   "source": [
    "gs_tree_result.best_params_"
   ]
  },
  {
   "cell_type": "markdown",
   "id": "b2a9855a-679f-4af3-8984-c2e8296b416f",
   "metadata": {},
   "source": [
    "# **Support Vector Machines**"
   ]
  },
  {
   "cell_type": "code",
   "execution_count": null,
   "id": "267413d8-42a6-4934-8bf4-145f8d33cc77",
   "metadata": {},
   "outputs": [],
   "source": [
    "# Code here: From Support Vector Machine class (SVM) import SVC"
   ]
  },
  {
   "cell_type": "code",
   "execution_count": null,
   "id": "c3c3c991-f4a8-4e23-9438-f6f86791ada0",
   "metadata": {},
   "outputs": [],
   "source": [
    "# Code here: Instantiate a model, set probability paramter to true"
   ]
  },
  {
   "cell_type": "code",
   "execution_count": null,
   "id": "eb5418fc-ce0e-4e33-843d-0b359364dd67",
   "metadata": {},
   "outputs": [],
   "source": [
    "# Code here: Fit your model"
   ]
  },
  {
   "cell_type": "code",
   "execution_count": null,
   "id": "f2c21903-2f9e-4947-b01c-77d3dd148b58",
   "metadata": {},
   "outputs": [],
   "source": [
    "y_tr_pred = svm_model.predict(X_train_sc)\n",
    "y_tr_prob = svm_model.predict_proba(X_train_sc)\n",
    "\n",
    "y_ts_pred = svm_model.predict(X_test_sc)\n",
    "y_ts_prob = svm_model.predict_proba(X_test_sc)"
   ]
  },
  {
   "cell_type": "code",
   "execution_count": null,
   "id": "923e2db9-df9b-4c76-9eec-a04d3a570227",
   "metadata": {},
   "outputs": [],
   "source": [
    "get_metrics(y_true = y_train, y_pred = y_tr_pred, y_prob = y_tr_prob)"
   ]
  },
  {
   "cell_type": "code",
   "execution_count": null,
   "id": "c4192890-828f-439f-a000-b94ffae3423f",
   "metadata": {},
   "outputs": [],
   "source": [
    "get_metrics(y_true = y_test, y_pred = y_ts_pred, y_prob = y_ts_prob, train=False)"
   ]
  },
  {
   "cell_type": "code",
   "execution_count": null,
   "id": "94911ad6-d7c8-40e7-a142-360135cbc3ae",
   "metadata": {},
   "outputs": [],
   "source": [
    "# Code here: Homework - Do grid search for parameter C in SVM"
   ]
  }
 ],
 "metadata": {
  "kernelspec": {
   "display_name": "Python 3 (ipykernel)",
   "language": "python",
   "name": "python3"
  },
  "language_info": {
   "codemirror_mode": {
    "name": "ipython",
    "version": 3
   },
   "file_extension": ".py",
   "mimetype": "text/x-python",
   "name": "python",
   "nbconvert_exporter": "python",
   "pygments_lexer": "ipython3",
   "version": "3.11.9"
  }
 },
 "nbformat": 4,
 "nbformat_minor": 5
}
