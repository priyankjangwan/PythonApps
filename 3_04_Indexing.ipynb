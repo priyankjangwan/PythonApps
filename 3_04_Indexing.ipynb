{
  "cells": [
    {
      "cell_type": "markdown",
      "metadata": {
        "id": "view-in-github",
        "colab_type": "text"
      },
      "source": [
        "<a href=\"https://colab.research.google.com/github/priyankjangwan/PythonApps/blob/main/3_04_Indexing.ipynb\" target=\"_parent\"><img src=\"https://colab.research.google.com/assets/colab-badge.svg\" alt=\"Open In Colab\"/></a>"
      ]
    },
    {
      "cell_type": "markdown",
      "id": "8be173f3-d376-4cd2-aafd-8a03442bf197",
      "metadata": {
        "id": "8be173f3-d376-4cd2-aafd-8a03442bf197"
      },
      "source": [
        "# __Indexing__"
      ]
    },
    {
      "cell_type": "markdown",
      "id": "945c7b02-41f7-4175-aa45-4da0224d383f",
      "metadata": {
        "id": "945c7b02-41f7-4175-aa45-4da0224d383f"
      },
      "source": [
        "## __Agenda__\n",
        "In this lesson, we will cover the following concepts with the help of examples:\n",
        "\n",
        "- NumPy Array Indexing\n",
        "  * Access Elements in the 1D NumPy Array\n",
        "  * Access Elements in the 2D NumPy Array\n",
        "  * Access Elements in 3D NumPy Array\n",
        "  * Negative Indexing"
      ]
    },
    {
      "cell_type": "markdown",
      "id": "fefd7806-d1ee-4b07-abbc-67fd92291038",
      "metadata": {
        "id": "fefd7806-d1ee-4b07-abbc-67fd92291038"
      },
      "source": [
        "## __1. NumPy Array Indexing__ ##\n",
        "NumPy indexing allows you to access an array element using an index value, which begins from 0.\n",
        "\n",
        "![link text](https://labcontent.simplicdn.net/data-content/content-assets/Data_and_AI/ADSP_Images/Lesson_03_NumPy/4_Indexing/Image_1.png)"
      ]
    },
    {
      "cell_type": "code",
      "execution_count": null,
      "id": "62ac7aec-7869-4cfe-a20f-4e412051d178",
      "metadata": {
        "id": "62ac7aec-7869-4cfe-a20f-4e412051d178"
      },
      "outputs": [],
      "source": [
        "# Let's create 1D, 2D and 3D NumPy arrays:\n",
        "import numpy as np\n",
        "array_1d = np.array([1,2,3,4,5,6])\n",
        "array_2d = np.array([[1,2,3],[4,5,6]])\n",
        "array_3d = np.array([[[1,2,3],[4,5,6]],[[7,8,9],[10,11,12]]])"
      ]
    },
    {
      "cell_type": "markdown",
      "id": "6e8bd253-eda8-4f7d-80eb-d4f7b8b1700d",
      "metadata": {
        "id": "6e8bd253-eda8-4f7d-80eb-d4f7b8b1700d"
      },
      "source": [
        "### __1.1 Access Elements in the 1D NumPy Array__ ###"
      ]
    },
    {
      "cell_type": "code",
      "execution_count": null,
      "id": "970a318e-7e2f-42e1-9a41-1cf30e032212",
      "metadata": {
        "id": "970a318e-7e2f-42e1-9a41-1cf30e032212",
        "outputId": "7f9dce43-2c0e-496f-cc72-1b999b0d662d",
        "colab": {
          "base_uri": "https://localhost:8080/"
        }
      },
      "outputs": [
        {
          "output_type": "stream",
          "name": "stdout",
          "text": [
            "4\n"
          ]
        }
      ],
      "source": [
        "# Print the value of index 3\n",
        "print(array_1d[3])"
      ]
    },
    {
      "cell_type": "code",
      "execution_count": null,
      "id": "6c58b0e6-00f9-4873-9a54-9161ee262d03",
      "metadata": {
        "id": "6c58b0e6-00f9-4873-9a54-9161ee262d03",
        "outputId": "bd9b865f-a6e3-47c4-c603-862dd12784f6",
        "colab": {
          "base_uri": "https://localhost:8080/"
        }
      },
      "outputs": [
        {
          "output_type": "stream",
          "name": "stdout",
          "text": [
            "3\n"
          ]
        }
      ],
      "source": [
        "# Print the addition of indexes 0 and 1\n",
        "print(array_1d[1] + array_1d[0])"
      ]
    },
    {
      "cell_type": "markdown",
      "id": "d97f78b9-6e30-4410-96e2-cd2ff306cfb2",
      "metadata": {
        "id": "d97f78b9-6e30-4410-96e2-cd2ff306cfb2"
      },
      "source": [
        "### __1.2 Access Elements in the 2D NumPy Array__\n",
        "Consider a 2D array as a table, with dimensions as rows and indexes as columns.\n",
        "\n",
        "![link text](https://labcontent.simplicdn.net/data-content/content-assets/Data_and_AI/ADSP_Images/Lesson_03_NumPy/4_Indexing/Image_2.png)"
      ]
    },
    {
      "cell_type": "code",
      "execution_count": null,
      "id": "0c2c6e40-39df-4aeb-8f8c-31b4d0c477d9",
      "metadata": {
        "id": "0c2c6e40-39df-4aeb-8f8c-31b4d0c477d9",
        "outputId": "24fb195b-747f-4109-8678-49295438e8c2",
        "colab": {
          "base_uri": "https://localhost:8080/"
        }
      },
      "outputs": [
        {
          "output_type": "stream",
          "name": "stdout",
          "text": [
            "3rd element on 1st row:  3\n"
          ]
        }
      ],
      "source": [
        "# Print third element of the first row of a 2D array\n",
        "print('3rd element on 1st row: ', array_2d[0, 2])"
      ]
    },
    {
      "cell_type": "code",
      "execution_count": null,
      "id": "944b59fc-7094-461c-9062-0780e42f4bed",
      "metadata": {
        "id": "944b59fc-7094-461c-9062-0780e42f4bed",
        "outputId": "e65c4089-360c-4c80-91fe-b7dd2ed8a42d",
        "colab": {
          "base_uri": "https://localhost:8080/"
        }
      },
      "outputs": [
        {
          "output_type": "stream",
          "name": "stdout",
          "text": [
            "2nd element on 2nd row:  5\n"
          ]
        }
      ],
      "source": [
        "# Print second element of the second row of a 2D array\n",
        "print('2nd element on 2nd row: ', array_2d[1, 1])"
      ]
    },
    {
      "cell_type": "markdown",
      "id": "998878bd-d720-4378-ae52-0918e9d4b397",
      "metadata": {
        "id": "998878bd-d720-4378-ae52-0918e9d4b397"
      },
      "source": [
        "### __1.3 Access Elements in 3D NumPy Array__ ###\n",
        "- [x,y,z] corresponds to xth element, yth row, and zth column."
      ]
    },
    {
      "cell_type": "code",
      "source": [
        "print(array_3d)"
      ],
      "metadata": {
        "colab": {
          "base_uri": "https://localhost:8080/"
        },
        "id": "VDrxu54BCOmh",
        "outputId": "b8ef14e9-86b8-41b1-da87-59adae939c54"
      },
      "id": "VDrxu54BCOmh",
      "execution_count": null,
      "outputs": [
        {
          "output_type": "stream",
          "name": "stdout",
          "text": [
            "[[[ 1  2  3]\n",
            "  [ 4  5  6]]\n",
            "\n",
            " [[ 7  8  9]\n",
            "  [10 11 12]]]\n"
          ]
        }
      ]
    },
    {
      "cell_type": "code",
      "source": [
        "array_3d.shape"
      ],
      "metadata": {
        "colab": {
          "base_uri": "https://localhost:8080/"
        },
        "id": "6-Ex5IFxCjyq",
        "outputId": "e4d9c826-37e9-4b83-e5b2-3bc4a24fb6b4"
      },
      "id": "6-Ex5IFxCjyq",
      "execution_count": null,
      "outputs": [
        {
          "output_type": "execute_result",
          "data": {
            "text/plain": [
              "(2, 2, 3)"
            ]
          },
          "metadata": {},
          "execution_count": 7
        }
      ]
    },
    {
      "cell_type": "code",
      "source": [
        "print(array_3d[1,1])"
      ],
      "metadata": {
        "colab": {
          "base_uri": "https://localhost:8080/"
        },
        "id": "TgtYvdpLEwPi",
        "outputId": "eb867934-4953-4fb2-e8f1-f17e7569819b"
      },
      "id": "TgtYvdpLEwPi",
      "execution_count": null,
      "outputs": [
        {
          "output_type": "stream",
          "name": "stdout",
          "text": [
            "[10 11 12]\n"
          ]
        }
      ]
    },
    {
      "cell_type": "code",
      "execution_count": null,
      "id": "52de369c-75d3-46b4-8f01-1c83d07ff6cd",
      "metadata": {
        "id": "52de369c-75d3-46b4-8f01-1c83d07ff6cd",
        "outputId": "a22da4de-a02f-460f-d25a-1277862c061c",
        "colab": {
          "base_uri": "https://localhost:8080/"
        }
      },
      "outputs": [
        {
          "output_type": "stream",
          "name": "stdout",
          "text": [
            "10\n"
          ]
        }
      ],
      "source": [
        "# Print the first element of the second array\n",
        "print(array_3d[1, 1, 0])"
      ]
    },
    {
      "cell_type": "markdown",
      "id": "720ef2b2-d7e3-4a45-850c-90d0be17d357",
      "metadata": {
        "id": "720ef2b2-d7e3-4a45-850c-90d0be17d357"
      },
      "source": [
        "### __1.4 Negative Indexing__\n",
        "\n",
        "- Negative indices are counted from the end of an array.\n",
        "- In a negative indexing system, the last element will be the first element with an index of -1, the second last element with an index of -2, and so on."
      ]
    },
    {
      "cell_type": "code",
      "source": [
        "print(array_1d)"
      ],
      "metadata": {
        "colab": {
          "base_uri": "https://localhost:8080/"
        },
        "id": "xYBj1zCnFOll",
        "outputId": "bbfba8f6-649f-4e20-839d-72c1d0529d23"
      },
      "id": "xYBj1zCnFOll",
      "execution_count": null,
      "outputs": [
        {
          "output_type": "stream",
          "name": "stdout",
          "text": [
            "[1 2 3 4 5 6]\n"
          ]
        }
      ]
    },
    {
      "cell_type": "code",
      "source": [
        "print(array_1d[5])"
      ],
      "metadata": {
        "colab": {
          "base_uri": "https://localhost:8080/"
        },
        "id": "FAgRysU6NoMo",
        "outputId": "1e93cf23-4bd8-4453-e88f-50e06a1231af"
      },
      "id": "FAgRysU6NoMo",
      "execution_count": null,
      "outputs": [
        {
          "output_type": "stream",
          "name": "stdout",
          "text": [
            "6\n"
          ]
        }
      ]
    },
    {
      "cell_type": "code",
      "source": [
        "print(array_1d[-1])"
      ],
      "metadata": {
        "colab": {
          "base_uri": "https://localhost:8080/"
        },
        "id": "Vod2mKkLNqbB",
        "outputId": "c7411c62-48fe-4219-db20-ba82f366bebd"
      },
      "id": "Vod2mKkLNqbB",
      "execution_count": null,
      "outputs": [
        {
          "output_type": "stream",
          "name": "stdout",
          "text": [
            "6\n"
          ]
        }
      ]
    },
    {
      "cell_type": "code",
      "execution_count": null,
      "id": "4a0cb40d-c09a-485c-bb02-12cd74859973",
      "metadata": {
        "id": "4a0cb40d-c09a-485c-bb02-12cd74859973",
        "outputId": "4d22ffcd-d87b-4875-d6c7-48aaed2067ff",
        "colab": {
          "base_uri": "https://localhost:8080/"
        }
      },
      "outputs": [
        {
          "output_type": "stream",
          "name": "stdout",
          "text": [
            "1\n"
          ]
        }
      ],
      "source": [
        " # Print the fourth element of the 1D array using negative indexing\n",
        "print(array_1d[-6])"
      ]
    },
    {
      "cell_type": "code",
      "source": [
        "print(array_1d[0])"
      ],
      "metadata": {
        "colab": {
          "base_uri": "https://localhost:8080/"
        },
        "id": "LZdIJ8C3N4im",
        "outputId": "59dc9da5-e0ae-4f7e-88d9-5f50e5785647"
      },
      "id": "LZdIJ8C3N4im",
      "execution_count": null,
      "outputs": [
        {
          "output_type": "stream",
          "name": "stdout",
          "text": [
            "1\n"
          ]
        }
      ]
    },
    {
      "cell_type": "code",
      "source": [
        "print(array_2d)"
      ],
      "metadata": {
        "colab": {
          "base_uri": "https://localhost:8080/"
        },
        "id": "ax0Th50DGKmM",
        "outputId": "00bf90c1-08c4-4b6d-c8cb-af9d81fc2d60"
      },
      "id": "ax0Th50DGKmM",
      "execution_count": null,
      "outputs": [
        {
          "output_type": "stream",
          "name": "stdout",
          "text": [
            "[[1 2 3]\n",
            " [4 5 6]]\n"
          ]
        }
      ]
    },
    {
      "cell_type": "code",
      "execution_count": null,
      "id": "145c1d5f-8875-4335-9ce1-98f22bb50a30",
      "metadata": {
        "id": "145c1d5f-8875-4335-9ce1-98f22bb50a30",
        "outputId": "06e68fd3-9429-44e9-c3c6-a3b46e52c9fa",
        "colab": {
          "base_uri": "https://localhost:8080/"
        }
      },
      "outputs": [
        {
          "output_type": "stream",
          "name": "stdout",
          "text": [
            "6\n"
          ]
        }
      ],
      "source": [
        "# Print the last element of the 2D array using negative indexing\n",
        "print(array_2d[1,-1])"
      ]
    },
    {
      "cell_type": "code",
      "source": [
        "print(array_2d[-1,-1])"
      ],
      "metadata": {
        "colab": {
          "base_uri": "https://localhost:8080/"
        },
        "id": "wgqGOpTKOVD3",
        "outputId": "7047894b-4bf3-449d-ad13-5f75a40fa915"
      },
      "id": "wgqGOpTKOVD3",
      "execution_count": null,
      "outputs": [
        {
          "output_type": "stream",
          "name": "stdout",
          "text": [
            "6\n"
          ]
        }
      ]
    },
    {
      "cell_type": "code",
      "source": [
        "print(array_3d) #Assignment - Explained in the next class"
      ],
      "metadata": {
        "colab": {
          "base_uri": "https://localhost:8080/"
        },
        "id": "rf8V8dNvGc0C",
        "outputId": "ac74fe03-b9d1-4538-99c6-217bece9d2ea"
      },
      "id": "rf8V8dNvGc0C",
      "execution_count": null,
      "outputs": [
        {
          "output_type": "stream",
          "name": "stdout",
          "text": [
            "[[[ 1  2  3]\n",
            "  [ 4  5  6]]\n",
            "\n",
            " [[ 7  8  9]\n",
            "  [10 11 12]]]\n"
          ]
        }
      ]
    },
    {
      "cell_type": "code",
      "execution_count": null,
      "id": "7f80dcaa-28a6-4c49-97fb-c7b10e21e69f",
      "metadata": {
        "id": "7f80dcaa-28a6-4c49-97fb-c7b10e21e69f",
        "outputId": "ac62e862-eafa-4c95-875d-55ce9345e218",
        "colab": {
          "base_uri": "https://localhost:8080/"
        }
      },
      "outputs": [
        {
          "output_type": "stream",
          "name": "stdout",
          "text": [
            "4\n"
          ]
        }
      ],
      "source": [
        "# Print the last element of the 3D array using negative indexing\n",
        "print(array_3d[0,1,-3])"
      ]
    },
    {
      "cell_type": "markdown",
      "id": "0862a3aa-8b30-4e99-bf04-c1555516da51",
      "metadata": {
        "id": "0862a3aa-8b30-4e99-bf04-c1555516da51"
      },
      "source": [
        "## __Assisted Practice__"
      ]
    },
    {
      "cell_type": "markdown",
      "id": "3240eb9f-7c9c-4df4-8955-d91a002899d6",
      "metadata": {
        "id": "3240eb9f-7c9c-4df4-8955-d91a002899d6"
      },
      "source": [
        "### __Problem Statement:__\n",
        "\n",
        "1. Create a 1D NumPy array with at least 10 elements\n",
        "2. Create a 2D NumPy array with a minimum of 3 rows and 4 columns\n",
        "3. Create a 3D NumPy array with at least 2 matrices, each containing 2 rows and 3 columns\n",
        "4. Accessing Elements in Arrays\n",
        "5. Access and print various elements from 1D, 2D, and, 3D using positive indexing\n",
        "6. Perform and print some basic arithmetic operations (like addition, subtraction) using elements accessed from 1D, 2D, and, 3D arrays\n",
        "7. Access and print elements using negative indices in all three arrays"
      ]
    },
    {
      "cell_type": "code",
      "execution_count": null,
      "id": "d040ce10-ef60-4c2a-af7b-6e3fca329a5e",
      "metadata": {
        "id": "d040ce10-ef60-4c2a-af7b-6e3fca329a5e"
      },
      "outputs": [],
      "source": []
    }
  ],
  "metadata": {
    "kernelspec": {
      "display_name": "Python 3 [3.10]",
      "language": "python",
      "name": "python3"
    },
    "language_info": {
      "codemirror_mode": {
        "name": "ipython",
        "version": 3
      },
      "file_extension": ".py",
      "mimetype": "text/x-python",
      "name": "python",
      "nbconvert_exporter": "python",
      "pygments_lexer": "ipython3",
      "version": "3.10.2"
    },
    "colab": {
      "provenance": [],
      "toc_visible": true,
      "include_colab_link": true
    }
  },
  "nbformat": 4,
  "nbformat_minor": 5
}