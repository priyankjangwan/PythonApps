{
 "cells": [
  {
   "cell_type": "code",
   "execution_count": 60,
   "id": "15397a61-5531-43e6-9669-1b33e98d2cba",
   "metadata": {},
   "outputs": [],
   "source": [
    "import numpy as np\n",
    "import pandas as pd\n",
    "import matplotlib.pyplot as plt\n",
    "from scipy.stats import bernoulli,binom,poisson,norm,uniform\n"
   ]
  },
  {
   "cell_type": "code",
   "execution_count": 43,
   "id": "32c8814f-3f37-4a13-bcf0-0ba5575f95de",
   "metadata": {},
   "outputs": [
    {
     "data": {
      "text/plain": [
       "0.7"
      ]
     },
     "execution_count": 43,
     "metadata": {},
     "output_type": "execute_result"
    }
   ],
   "source": [
    "p = 0.7\n",
    "x = [0,1]\n",
    "\n",
    "pmf = bernoulli.pmf(x,p)\n",
    "pmf #Will Print Event to not and going to happen\n",
    "#Success\n",
    "pmf[1]"
   ]
  },
  {
   "cell_type": "code",
   "execution_count": 57,
   "id": "86613e0e-4aa3-4fcf-bf97-5a00f21d9064",
   "metadata": {},
   "outputs": [
    {
     "data": {
      "text/plain": [
       "<BarContainer object of 11 artists>"
      ]
     },
     "execution_count": 57,
     "metadata": {},
     "output_type": "execute_result"
    },
    {
     "data": {
      "image/png": "[encoded data removed]",
      "text/plain": [
       "<Figure size 432x288 with 1 Axes>"
      ]
     },
     "metadata": {
      "needs_background": "light"
     },
     "output_type": "display_data"
    }
   ],
   "source": [
    "#Flip a Coin 5 times and chances of comming head 3 times\n",
    "num_of_trials = 5\n",
    "prob = 0.5 # 50% = 0.5 for flipping at once\n",
    "k = 3 #event\n",
    "q = np.arange(0,11)\n",
    "pmf = binom.pmf(k,num_of_trials,prob)\n",
    "plt.bar(q,pmf)"
   ]
  },
  {
   "cell_type": "code",
   "execution_count": 46,
   "id": "d19394f4-ef8b-496b-aee2-a0e0fc64f5c3",
   "metadata": {},
   "outputs": [
    {
     "data": {
      "text/plain": [
       "0.10081881344492458"
      ]
     },
     "execution_count": 46,
     "metadata": {},
     "output_type": "execute_result"
    }
   ],
   "source": [
    "##Poisson Distribution \n",
    "##Observation :- we receive 3 mails in an hour, what is probability of getting 5 email in 1 hour\n",
    "## hour is even space   \n",
    "mean_avg = 3 # lamda\n",
    "n = 5\n",
    "pmf = poisson.pmf(n,mean_avg)\n",
    "pmf"
   ]
  },
  {
   "cell_type": "code",
   "execution_count": 39,
   "id": "9cab029f-b8f0-4aef-a0a9-a66207e109a5",
   "metadata": {},
   "outputs": [
    {
     "data": {
      "text/plain": [
       "0.034718069630684245"
      ]
     },
     "execution_count": 39,
     "metadata": {},
     "output_type": "execute_result"
    }
   ],
   "source": [
    "expecting_call = 10\n",
    "getting_20_call_probability = 15\n",
    "pmf = poisson.pmf(getting_20_call_probability,expecting_call)\n",
    "pmf"
   ]
  },
  {
   "cell_type": "code",
   "execution_count": 53,
   "id": "a76c61dd-f12c-4fa2-838c-d0821f8fe41d",
   "metadata": {},
   "outputs": [
    {
     "data": {
      "text/plain": [
       "0.15865525393145707"
      ]
     },
     "execution_count": 53,
     "metadata": {},
     "output_type": "execute_result"
    }
   ],
   "source": [
    "#Next\n",
    "mean =170\n",
    "std=10 #standard deviation\n",
    "x=180\n",
    "\n",
    "pdf = norm.pdf(x,mean,std)\n",
    "pdf\n",
    "prb_of_180 = 1 - norm.cdf(x,mean,std) \n",
    "prb_of_180"
   ]
  },
  {
   "cell_type": "code",
   "execution_count": 58,
   "id": "0b755dc2-4f39-4e21-844e-9bddfbb0f4b1",
   "metadata": {},
   "outputs": [
    {
     "data": {
      "text/plain": [
       "[<matplotlib.lines.Line2D at 0x7f47866336d0>]"
      ]
     },
     "execution_count": 58,
     "metadata": {},
     "output_type": "execute_result"
    },
    {
     "data": {
      "image/png": "[encoded data removed]",
      "text/plain": [
       "<Figure size 432x288 with 1 Axes>"
      ]
     },
     "metadata": {
      "needs_background": "light"
     },
     "output_type": "display_data"
    }
   ],
   "source": [
    "x = np.linspace(130,210,100)\n",
    "\n",
    "pdf = norm.pdf(x,mean,std)\n",
    "plt.plot(x,pdf)"
   ]
  },
  {
   "cell_type": "code",
   "execution_count": 62,
   "id": "aa92aafa-3757-4b20-9a25-902255485c8b",
   "metadata": {},
   "outputs": [
    {
     "data": {
      "text/plain": [
       "0.5"
      ]
     },
     "execution_count": 62,
     "metadata": {},
     "output_type": "execute_result"
    }
   ],
   "source": [
    "min = 10\n",
    "max = 20\n",
    "prob_of_less_15 = uniform.cdf(15,loc=min,scale=max-min) #selecting less than 15\n",
    "prob_of_less_15"
   ]
  },
  {
   "cell_type": "code",
   "execution_count": null,
   "id": "5722e6c2-80bc-413d-822f-122db2407872",
   "metadata": {},
   "outputs": [],
   "source": []
  }
 ],
 "metadata": {
  "kernelspec": {
   "display_name": "Python 3 [3.10]",
   "language": "python",
   "name": "python3"
  },
  "language_info": {
   "codemirror_mode": {
    "name": "ipython",
    "version": 3
   },
   "file_extension": ".py",
   "mimetype": "text/x-python",
   "name": "python",
   "nbconvert_exporter": "python",
   "pygments_lexer": "ipython3",
   "version": "3.10.2"
  }
 },
 "nbformat": 4,
 "nbformat_minor": 5
}
