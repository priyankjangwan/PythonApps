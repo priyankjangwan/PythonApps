{
 "cells": [
  {
   "cell_type": "code",
   "execution_count": 1,
   "id": "51b7447c",
   "metadata": {},
   "outputs": [],
   "source": [
    "import numpy as np\n",
    "import pandas as pd"
   ]
  },
  {
   "cell_type": "code",
   "execution_count": 2,
   "id": "d63416d5",
   "metadata": {},
   "outputs": [],
   "source": [
    "sample_list = [10,20,30,40]\n",
    "labels = ['a','b','c','d']"
   ]
  },
  {
   "cell_type": "code",
   "execution_count": 3,
   "id": "06aff86b",
   "metadata": {},
   "outputs": [],
   "source": [
    "sample_array = np.array(sample_list)"
   ]
  },
  {
   "cell_type": "code",
   "execution_count": 4,
   "id": "e8ae5da7",
   "metadata": {},
   "outputs": [
    {
     "data": {
      "text/plain": [
       "array([10, 20, 30, 40])"
      ]
     },
     "execution_count": 4,
     "metadata": {},
     "output_type": "execute_result"
    }
   ],
   "source": [
    "sample_array"
   ]
  },
  {
   "cell_type": "code",
   "execution_count": 5,
   "id": "75c96a34",
   "metadata": {},
   "outputs": [
    {
     "data": {
      "text/plain": [
       "30"
      ]
     },
     "execution_count": 5,
     "metadata": {},
     "output_type": "execute_result"
    }
   ],
   "source": [
    "sample_array[2]"
   ]
  },
  {
   "cell_type": "code",
   "execution_count": 29,
   "id": "7b0a9c73",
   "metadata": {},
   "outputs": [],
   "source": [
    "var1 = pd.Series(data=sample_array,index=labels)"
   ]
  },
  {
   "cell_type": "code",
   "execution_count": 30,
   "id": "33116dd3",
   "metadata": {},
   "outputs": [
    {
     "data": {
      "text/plain": [
       "pandas.core.series.Series"
      ]
     },
     "execution_count": 30,
     "metadata": {},
     "output_type": "execute_result"
    }
   ],
   "source": [
    "type(var1)"
   ]
  },
  {
   "cell_type": "code",
   "execution_count": 31,
   "id": "32470467",
   "metadata": {},
   "outputs": [
    {
     "data": {
      "text/plain": [
       "a    10\n",
       "b    20\n",
       "c    30\n",
       "d    40\n",
       "dtype: int32"
      ]
     },
     "execution_count": 31,
     "metadata": {},
     "output_type": "execute_result"
    }
   ],
   "source": [
    "var1"
   ]
  },
  {
   "cell_type": "code",
   "execution_count": 32,
   "id": "150231ba",
   "metadata": {},
   "outputs": [
    {
     "data": {
      "text/plain": [
       "30"
      ]
     },
     "execution_count": 32,
     "metadata": {},
     "output_type": "execute_result"
    }
   ],
   "source": [
    "var1['c']"
   ]
  },
  {
   "cell_type": "code",
   "execution_count": 13,
   "id": "6cce56e7",
   "metadata": {},
   "outputs": [],
   "source": [
    "number_of_students = [1,2,3,4]\n",
    "sports = ['Cricket','Football','Basketball','Tennis']\n",
    "result = np.array(number_of_students)"
   ]
  },
  {
   "cell_type": "code",
   "execution_count": 14,
   "id": "2833a483",
   "metadata": {},
   "outputs": [
    {
     "data": {
      "text/plain": [
       "array([1, 2, 3, 4])"
      ]
     },
     "execution_count": 14,
     "metadata": {},
     "output_type": "execute_result"
    }
   ],
   "source": [
    "result"
   ]
  },
  {
   "cell_type": "code",
   "execution_count": 16,
   "id": "f0364fdb",
   "metadata": {},
   "outputs": [],
   "source": [
    "sports1 = pd.Series(data=number_of_students,index=sports)"
   ]
  },
  {
   "cell_type": "code",
   "execution_count": 17,
   "id": "4add924e",
   "metadata": {},
   "outputs": [
    {
     "data": {
      "text/plain": [
       "3"
      ]
     },
     "execution_count": 17,
     "metadata": {},
     "output_type": "execute_result"
    }
   ],
   "source": [
    "sports1['Basketball']"
   ]
  },
  {
   "cell_type": "code",
   "execution_count": 18,
   "id": "3d5d7a21",
   "metadata": {},
   "outputs": [],
   "source": [
    "class2 = {'Cricket': 3, 'Football': 4, 'Tennis': 2}"
   ]
  },
  {
   "cell_type": "code",
   "execution_count": 19,
   "id": "a90d2f5c",
   "metadata": {},
   "outputs": [],
   "source": [
    "sports2 = pd.Series(class2)"
   ]
  },
  {
   "cell_type": "code",
   "execution_count": 20,
   "id": "803d3615",
   "metadata": {},
   "outputs": [
    {
     "data": {
      "text/plain": [
       "Cricket     3\n",
       "Football    4\n",
       "Tennis      2\n",
       "dtype: int64"
      ]
     },
     "execution_count": 20,
     "metadata": {},
     "output_type": "execute_result"
    }
   ],
   "source": [
    "sports2"
   ]
  },
  {
   "cell_type": "code",
   "execution_count": 21,
   "id": "d32dce47",
   "metadata": {},
   "outputs": [
    {
     "data": {
      "text/plain": [
       "Basketball    NaN\n",
       "Cricket       4.0\n",
       "Football      6.0\n",
       "Tennis        6.0\n",
       "dtype: float64"
      ]
     },
     "execution_count": 21,
     "metadata": {},
     "output_type": "execute_result"
    }
   ],
   "source": [
    "sports1 + sports2"
   ]
  },
  {
   "cell_type": "code",
   "execution_count": 22,
   "id": "14c1e353",
   "metadata": {},
   "outputs": [
    {
     "data": {
      "text/plain": [
       "Cricket       1\n",
       "Football      2\n",
       "Basketball    3\n",
       "Tennis        4\n",
       "dtype: int64"
      ]
     },
     "execution_count": 22,
     "metadata": {},
     "output_type": "execute_result"
    }
   ],
   "source": [
    "sports1"
   ]
  },
  {
   "cell_type": "code",
   "execution_count": 23,
   "id": "09cf347f",
   "metadata": {},
   "outputs": [
    {
     "data": {
      "text/plain": [
       "Cricket     3\n",
       "Football    4\n",
       "Tennis      2\n",
       "dtype: int64"
      ]
     },
     "execution_count": 23,
     "metadata": {},
     "output_type": "execute_result"
    }
   ],
   "source": [
    "sports2"
   ]
  },
  {
   "cell_type": "code",
   "execution_count": 24,
   "id": "605ed24b",
   "metadata": {},
   "outputs": [
    {
     "data": {
      "text/plain": [
       "Basketball    NaN\n",
       "Cricket       4.0\n",
       "Football      6.0\n",
       "Tennis        6.0\n",
       "dtype: float64"
      ]
     },
     "execution_count": 24,
     "metadata": {},
     "output_type": "execute_result"
    }
   ],
   "source": [
    "sports1 + sports2"
   ]
  },
  {
   "cell_type": "code",
   "execution_count": 42,
   "id": "72a664a0",
   "metadata": {},
   "outputs": [],
   "source": [
    "np.random.seed(2)"
   ]
  },
  {
   "cell_type": "code",
   "execution_count": 43,
   "id": "c81d0fc2",
   "metadata": {},
   "outputs": [
    {
     "data": {
      "text/plain": [
       "array([[0.4359949 , 0.02592623, 0.54966248, 0.43532239, 0.4203678 ],\n",
       "       [0.33033482, 0.20464863, 0.61927097, 0.29965467, 0.26682728],\n",
       "       [0.62113383, 0.52914209, 0.13457995, 0.51357812, 0.18443987],\n",
       "       [0.78533515, 0.85397529, 0.49423684, 0.84656149, 0.07964548],\n",
       "       [0.50524609, 0.0652865 , 0.42812233, 0.09653092, 0.12715997],\n",
       "       [0.59674531, 0.226012  , 0.10694568, 0.22030621, 0.34982629],\n",
       "       [0.46778748, 0.20174323, 0.64040673, 0.48306984, 0.50523672],\n",
       "       [0.38689265, 0.79363745, 0.58000418, 0.1622986 , 0.70075235],\n",
       "       [0.96455108, 0.50000836, 0.88952006, 0.34161365, 0.56714413],\n",
       "       [0.42754596, 0.43674726, 0.77655918, 0.53560417, 0.95374223]])"
      ]
     },
     "execution_count": 43,
     "metadata": {},
     "output_type": "execute_result"
    }
   ],
   "source": [
    "np.random.rand(10,5)"
   ]
  },
  {
   "cell_type": "code",
   "execution_count": 44,
   "id": "5545a927",
   "metadata": {},
   "outputs": [],
   "source": [
    "students_marks = pd.DataFrame(data= np.random.rand(10,5), index= 'A B C D E F G H I J'.split(), columns='Score1 Score2 Score3 Score4 Score5'.split())"
   ]
  },
  {
   "cell_type": "code",
   "execution_count": 45,
   "id": "4cbe7aa7",
   "metadata": {},
   "outputs": [
    {
     "data": {
      "text/html": [
       "<div>\n",
       "<style scoped>\n",
       "    .dataframe tbody tr th:only-of-type {\n",
       "        vertical-align: middle;\n",
       "    }\n",
       "\n",
       "    .dataframe tbody tr th {\n",
       "        vertical-align: top;\n",
       "    }\n",
       "\n",
       "    .dataframe thead th {\n",
       "        text-align: right;\n",
       "    }\n",
       "</style>\n",
       "<table border=\"1\" class=\"dataframe\">\n",
       "  <thead>\n",
       "    <tr style=\"text-align: right;\">\n",
       "      <th></th>\n",
       "      <th>Score1</th>\n",
       "      <th>Score2</th>\n",
       "      <th>Score3</th>\n",
       "      <th>Score4</th>\n",
       "      <th>Score5</th>\n",
       "    </tr>\n",
       "  </thead>\n",
       "  <tbody>\n",
       "    <tr>\n",
       "      <th>A</th>\n",
       "      <td>0.544208</td>\n",
       "      <td>0.082095</td>\n",
       "      <td>0.366342</td>\n",
       "      <td>0.850851</td>\n",
       "      <td>0.406275</td>\n",
       "    </tr>\n",
       "    <tr>\n",
       "      <th>B</th>\n",
       "      <td>0.027202</td>\n",
       "      <td>0.247177</td>\n",
       "      <td>0.067144</td>\n",
       "      <td>0.993852</td>\n",
       "      <td>0.970580</td>\n",
       "    </tr>\n",
       "    <tr>\n",
       "      <th>C</th>\n",
       "      <td>0.800258</td>\n",
       "      <td>0.601817</td>\n",
       "      <td>0.764960</td>\n",
       "      <td>0.169225</td>\n",
       "      <td>0.293023</td>\n",
       "    </tr>\n",
       "    <tr>\n",
       "      <th>D</th>\n",
       "      <td>0.524067</td>\n",
       "      <td>0.356624</td>\n",
       "      <td>0.045679</td>\n",
       "      <td>0.983153</td>\n",
       "      <td>0.441355</td>\n",
       "    </tr>\n",
       "    <tr>\n",
       "      <th>E</th>\n",
       "      <td>0.504000</td>\n",
       "      <td>0.323541</td>\n",
       "      <td>0.259745</td>\n",
       "      <td>0.386890</td>\n",
       "      <td>0.832017</td>\n",
       "    </tr>\n",
       "    <tr>\n",
       "      <th>F</th>\n",
       "      <td>0.736747</td>\n",
       "      <td>0.379211</td>\n",
       "      <td>0.013017</td>\n",
       "      <td>0.797405</td>\n",
       "      <td>0.269389</td>\n",
       "    </tr>\n",
       "    <tr>\n",
       "      <th>G</th>\n",
       "      <td>0.582685</td>\n",
       "      <td>0.025551</td>\n",
       "      <td>0.662202</td>\n",
       "      <td>0.387523</td>\n",
       "      <td>0.497074</td>\n",
       "    </tr>\n",
       "    <tr>\n",
       "      <th>H</th>\n",
       "      <td>0.414906</td>\n",
       "      <td>0.350872</td>\n",
       "      <td>0.550978</td>\n",
       "      <td>0.972911</td>\n",
       "      <td>0.112776</td>\n",
       "    </tr>\n",
       "    <tr>\n",
       "      <th>I</th>\n",
       "      <td>0.313259</td>\n",
       "      <td>0.041798</td>\n",
       "      <td>0.738400</td>\n",
       "      <td>0.657512</td>\n",
       "      <td>0.214636</td>\n",
       "    </tr>\n",
       "    <tr>\n",
       "      <th>J</th>\n",
       "      <td>0.416753</td>\n",
       "      <td>0.643842</td>\n",
       "      <td>0.661481</td>\n",
       "      <td>0.170477</td>\n",
       "      <td>0.881652</td>\n",
       "    </tr>\n",
       "  </tbody>\n",
       "</table>\n",
       "</div>"
      ],
      "text/plain": [
       "     Score1    Score2    Score3    Score4    Score5\n",
       "A  0.544208  0.082095  0.366342  0.850851  0.406275\n",
       "B  0.027202  0.247177  0.067144  0.993852  0.970580\n",
       "C  0.800258  0.601817  0.764960  0.169225  0.293023\n",
       "D  0.524067  0.356624  0.045679  0.983153  0.441355\n",
       "E  0.504000  0.323541  0.259745  0.386890  0.832017\n",
       "F  0.736747  0.379211  0.013017  0.797405  0.269389\n",
       "G  0.582685  0.025551  0.662202  0.387523  0.497074\n",
       "H  0.414906  0.350872  0.550978  0.972911  0.112776\n",
       "I  0.313259  0.041798  0.738400  0.657512  0.214636\n",
       "J  0.416753  0.643842  0.661481  0.170477  0.881652"
      ]
     },
     "execution_count": 45,
     "metadata": {},
     "output_type": "execute_result"
    }
   ],
   "source": [
    "students_marks"
   ]
  },
  {
   "cell_type": "code",
   "execution_count": 47,
   "id": "8ef4424d",
   "metadata": {},
   "outputs": [
    {
     "data": {
      "text/plain": [
       "A    0.366342\n",
       "B    0.067144\n",
       "C    0.764960\n",
       "D    0.045679\n",
       "E    0.259745\n",
       "F    0.013017\n",
       "G    0.662202\n",
       "H    0.550978\n",
       "I    0.738400\n",
       "J    0.661481\n",
       "Name: Score3, dtype: float64"
      ]
     },
     "execution_count": 47,
     "metadata": {},
     "output_type": "execute_result"
    }
   ],
   "source": [
    "students_marks['Score3']"
   ]
  },
  {
   "cell_type": "code",
   "execution_count": 48,
   "id": "294bc3bd",
   "metadata": {},
   "outputs": [
    {
     "data": {
      "text/plain": [
       "pandas.core.series.Series"
      ]
     },
     "execution_count": 48,
     "metadata": {},
     "output_type": "execute_result"
    }
   ],
   "source": [
    "type(students_marks['Score3'])"
   ]
  },
  {
   "cell_type": "code",
   "execution_count": 49,
   "id": "cd3275bd",
   "metadata": {},
   "outputs": [
    {
     "data": {
      "text/html": [
       "<div>\n",
       "<style scoped>\n",
       "    .dataframe tbody tr th:only-of-type {\n",
       "        vertical-align: middle;\n",
       "    }\n",
       "\n",
       "    .dataframe tbody tr th {\n",
       "        vertical-align: top;\n",
       "    }\n",
       "\n",
       "    .dataframe thead th {\n",
       "        text-align: right;\n",
       "    }\n",
       "</style>\n",
       "<table border=\"1\" class=\"dataframe\">\n",
       "  <thead>\n",
       "    <tr style=\"text-align: right;\">\n",
       "      <th></th>\n",
       "      <th>Score3</th>\n",
       "      <th>Score5</th>\n",
       "    </tr>\n",
       "  </thead>\n",
       "  <tbody>\n",
       "    <tr>\n",
       "      <th>A</th>\n",
       "      <td>0.366342</td>\n",
       "      <td>0.406275</td>\n",
       "    </tr>\n",
       "    <tr>\n",
       "      <th>B</th>\n",
       "      <td>0.067144</td>\n",
       "      <td>0.970580</td>\n",
       "    </tr>\n",
       "    <tr>\n",
       "      <th>C</th>\n",
       "      <td>0.764960</td>\n",
       "      <td>0.293023</td>\n",
       "    </tr>\n",
       "    <tr>\n",
       "      <th>D</th>\n",
       "      <td>0.045679</td>\n",
       "      <td>0.441355</td>\n",
       "    </tr>\n",
       "    <tr>\n",
       "      <th>E</th>\n",
       "      <td>0.259745</td>\n",
       "      <td>0.832017</td>\n",
       "    </tr>\n",
       "    <tr>\n",
       "      <th>F</th>\n",
       "      <td>0.013017</td>\n",
       "      <td>0.269389</td>\n",
       "    </tr>\n",
       "    <tr>\n",
       "      <th>G</th>\n",
       "      <td>0.662202</td>\n",
       "      <td>0.497074</td>\n",
       "    </tr>\n",
       "    <tr>\n",
       "      <th>H</th>\n",
       "      <td>0.550978</td>\n",
       "      <td>0.112776</td>\n",
       "    </tr>\n",
       "    <tr>\n",
       "      <th>I</th>\n",
       "      <td>0.738400</td>\n",
       "      <td>0.214636</td>\n",
       "    </tr>\n",
       "    <tr>\n",
       "      <th>J</th>\n",
       "      <td>0.661481</td>\n",
       "      <td>0.881652</td>\n",
       "    </tr>\n",
       "  </tbody>\n",
       "</table>\n",
       "</div>"
      ],
      "text/plain": [
       "     Score3    Score5\n",
       "A  0.366342  0.406275\n",
       "B  0.067144  0.970580\n",
       "C  0.764960  0.293023\n",
       "D  0.045679  0.441355\n",
       "E  0.259745  0.832017\n",
       "F  0.013017  0.269389\n",
       "G  0.662202  0.497074\n",
       "H  0.550978  0.112776\n",
       "I  0.738400  0.214636\n",
       "J  0.661481  0.881652"
      ]
     },
     "execution_count": 49,
     "metadata": {},
     "output_type": "execute_result"
    }
   ],
   "source": [
    "students_marks[['Score3','Score5']]"
   ]
  },
  {
   "cell_type": "code",
   "execution_count": 50,
   "id": "c742f0de",
   "metadata": {},
   "outputs": [
    {
     "data": {
      "text/plain": [
       "pandas.core.frame.DataFrame"
      ]
     },
     "execution_count": 50,
     "metadata": {},
     "output_type": "execute_result"
    }
   ],
   "source": [
    "type(students_marks[['Score3','Score5','Score2']])"
   ]
  },
  {
   "cell_type": "code",
   "execution_count": 51,
   "id": "37aac196",
   "metadata": {},
   "outputs": [
    {
     "data": {
      "text/html": [
       "<div>\n",
       "<style scoped>\n",
       "    .dataframe tbody tr th:only-of-type {\n",
       "        vertical-align: middle;\n",
       "    }\n",
       "\n",
       "    .dataframe tbody tr th {\n",
       "        vertical-align: top;\n",
       "    }\n",
       "\n",
       "    .dataframe thead th {\n",
       "        text-align: right;\n",
       "    }\n",
       "</style>\n",
       "<table border=\"1\" class=\"dataframe\">\n",
       "  <thead>\n",
       "    <tr style=\"text-align: right;\">\n",
       "      <th></th>\n",
       "      <th>Score3</th>\n",
       "      <th>Score5</th>\n",
       "      <th>Score2</th>\n",
       "    </tr>\n",
       "  </thead>\n",
       "  <tbody>\n",
       "    <tr>\n",
       "      <th>A</th>\n",
       "      <td>0.366342</td>\n",
       "      <td>0.406275</td>\n",
       "      <td>0.082095</td>\n",
       "    </tr>\n",
       "    <tr>\n",
       "      <th>B</th>\n",
       "      <td>0.067144</td>\n",
       "      <td>0.970580</td>\n",
       "      <td>0.247177</td>\n",
       "    </tr>\n",
       "    <tr>\n",
       "      <th>C</th>\n",
       "      <td>0.764960</td>\n",
       "      <td>0.293023</td>\n",
       "      <td>0.601817</td>\n",
       "    </tr>\n",
       "    <tr>\n",
       "      <th>D</th>\n",
       "      <td>0.045679</td>\n",
       "      <td>0.441355</td>\n",
       "      <td>0.356624</td>\n",
       "    </tr>\n",
       "    <tr>\n",
       "      <th>E</th>\n",
       "      <td>0.259745</td>\n",
       "      <td>0.832017</td>\n",
       "      <td>0.323541</td>\n",
       "    </tr>\n",
       "    <tr>\n",
       "      <th>F</th>\n",
       "      <td>0.013017</td>\n",
       "      <td>0.269389</td>\n",
       "      <td>0.379211</td>\n",
       "    </tr>\n",
       "    <tr>\n",
       "      <th>G</th>\n",
       "      <td>0.662202</td>\n",
       "      <td>0.497074</td>\n",
       "      <td>0.025551</td>\n",
       "    </tr>\n",
       "    <tr>\n",
       "      <th>H</th>\n",
       "      <td>0.550978</td>\n",
       "      <td>0.112776</td>\n",
       "      <td>0.350872</td>\n",
       "    </tr>\n",
       "    <tr>\n",
       "      <th>I</th>\n",
       "      <td>0.738400</td>\n",
       "      <td>0.214636</td>\n",
       "      <td>0.041798</td>\n",
       "    </tr>\n",
       "    <tr>\n",
       "      <th>J</th>\n",
       "      <td>0.661481</td>\n",
       "      <td>0.881652</td>\n",
       "      <td>0.643842</td>\n",
       "    </tr>\n",
       "  </tbody>\n",
       "</table>\n",
       "</div>"
      ],
      "text/plain": [
       "     Score3    Score5    Score2\n",
       "A  0.366342  0.406275  0.082095\n",
       "B  0.067144  0.970580  0.247177\n",
       "C  0.764960  0.293023  0.601817\n",
       "D  0.045679  0.441355  0.356624\n",
       "E  0.259745  0.832017  0.323541\n",
       "F  0.013017  0.269389  0.379211\n",
       "G  0.662202  0.497074  0.025551\n",
       "H  0.550978  0.112776  0.350872\n",
       "I  0.738400  0.214636  0.041798\n",
       "J  0.661481  0.881652  0.643842"
      ]
     },
     "execution_count": 51,
     "metadata": {},
     "output_type": "execute_result"
    }
   ],
   "source": [
    "students_marks[['Score3','Score5','Score2']]"
   ]
  },
  {
   "cell_type": "code",
   "execution_count": 52,
   "id": "b5e1f098",
   "metadata": {},
   "outputs": [],
   "source": [
    "students_marks['Score6'] = students_marks['Score2'] + students_marks['Score4']"
   ]
  },
  {
   "cell_type": "code",
   "execution_count": 53,
   "id": "402171d2",
   "metadata": {},
   "outputs": [
    {
     "data": {
      "text/html": [
       "<div>\n",
       "<style scoped>\n",
       "    .dataframe tbody tr th:only-of-type {\n",
       "        vertical-align: middle;\n",
       "    }\n",
       "\n",
       "    .dataframe tbody tr th {\n",
       "        vertical-align: top;\n",
       "    }\n",
       "\n",
       "    .dataframe thead th {\n",
       "        text-align: right;\n",
       "    }\n",
       "</style>\n",
       "<table border=\"1\" class=\"dataframe\">\n",
       "  <thead>\n",
       "    <tr style=\"text-align: right;\">\n",
       "      <th></th>\n",
       "      <th>Score1</th>\n",
       "      <th>Score2</th>\n",
       "      <th>Score3</th>\n",
       "      <th>Score4</th>\n",
       "      <th>Score5</th>\n",
       "      <th>Score6</th>\n",
       "    </tr>\n",
       "  </thead>\n",
       "  <tbody>\n",
       "    <tr>\n",
       "      <th>A</th>\n",
       "      <td>0.544208</td>\n",
       "      <td>0.082095</td>\n",
       "      <td>0.366342</td>\n",
       "      <td>0.850851</td>\n",
       "      <td>0.406275</td>\n",
       "      <td>0.932945</td>\n",
       "    </tr>\n",
       "    <tr>\n",
       "      <th>B</th>\n",
       "      <td>0.027202</td>\n",
       "      <td>0.247177</td>\n",
       "      <td>0.067144</td>\n",
       "      <td>0.993852</td>\n",
       "      <td>0.970580</td>\n",
       "      <td>1.241029</td>\n",
       "    </tr>\n",
       "    <tr>\n",
       "      <th>C</th>\n",
       "      <td>0.800258</td>\n",
       "      <td>0.601817</td>\n",
       "      <td>0.764960</td>\n",
       "      <td>0.169225</td>\n",
       "      <td>0.293023</td>\n",
       "      <td>0.771043</td>\n",
       "    </tr>\n",
       "    <tr>\n",
       "      <th>D</th>\n",
       "      <td>0.524067</td>\n",
       "      <td>0.356624</td>\n",
       "      <td>0.045679</td>\n",
       "      <td>0.983153</td>\n",
       "      <td>0.441355</td>\n",
       "      <td>1.339778</td>\n",
       "    </tr>\n",
       "    <tr>\n",
       "      <th>E</th>\n",
       "      <td>0.504000</td>\n",
       "      <td>0.323541</td>\n",
       "      <td>0.259745</td>\n",
       "      <td>0.386890</td>\n",
       "      <td>0.832017</td>\n",
       "      <td>0.710431</td>\n",
       "    </tr>\n",
       "    <tr>\n",
       "      <th>F</th>\n",
       "      <td>0.736747</td>\n",
       "      <td>0.379211</td>\n",
       "      <td>0.013017</td>\n",
       "      <td>0.797405</td>\n",
       "      <td>0.269389</td>\n",
       "      <td>1.176616</td>\n",
       "    </tr>\n",
       "    <tr>\n",
       "      <th>G</th>\n",
       "      <td>0.582685</td>\n",
       "      <td>0.025551</td>\n",
       "      <td>0.662202</td>\n",
       "      <td>0.387523</td>\n",
       "      <td>0.497074</td>\n",
       "      <td>0.413074</td>\n",
       "    </tr>\n",
       "    <tr>\n",
       "      <th>H</th>\n",
       "      <td>0.414906</td>\n",
       "      <td>0.350872</td>\n",
       "      <td>0.550978</td>\n",
       "      <td>0.972911</td>\n",
       "      <td>0.112776</td>\n",
       "      <td>1.323783</td>\n",
       "    </tr>\n",
       "    <tr>\n",
       "      <th>I</th>\n",
       "      <td>0.313259</td>\n",
       "      <td>0.041798</td>\n",
       "      <td>0.738400</td>\n",
       "      <td>0.657512</td>\n",
       "      <td>0.214636</td>\n",
       "      <td>0.699310</td>\n",
       "    </tr>\n",
       "    <tr>\n",
       "      <th>J</th>\n",
       "      <td>0.416753</td>\n",
       "      <td>0.643842</td>\n",
       "      <td>0.661481</td>\n",
       "      <td>0.170477</td>\n",
       "      <td>0.881652</td>\n",
       "      <td>0.814319</td>\n",
       "    </tr>\n",
       "  </tbody>\n",
       "</table>\n",
       "</div>"
      ],
      "text/plain": [
       "     Score1    Score2    Score3    Score4    Score5    Score6\n",
       "A  0.544208  0.082095  0.366342  0.850851  0.406275  0.932945\n",
       "B  0.027202  0.247177  0.067144  0.993852  0.970580  1.241029\n",
       "C  0.800258  0.601817  0.764960  0.169225  0.293023  0.771043\n",
       "D  0.524067  0.356624  0.045679  0.983153  0.441355  1.339778\n",
       "E  0.504000  0.323541  0.259745  0.386890  0.832017  0.710431\n",
       "F  0.736747  0.379211  0.013017  0.797405  0.269389  1.176616\n",
       "G  0.582685  0.025551  0.662202  0.387523  0.497074  0.413074\n",
       "H  0.414906  0.350872  0.550978  0.972911  0.112776  1.323783\n",
       "I  0.313259  0.041798  0.738400  0.657512  0.214636  0.699310\n",
       "J  0.416753  0.643842  0.661481  0.170477  0.881652  0.814319"
      ]
     },
     "execution_count": 53,
     "metadata": {},
     "output_type": "execute_result"
    }
   ],
   "source": [
    "students_marks"
   ]
  },
  {
   "cell_type": "code",
   "execution_count": 56,
   "id": "ad57dfb3",
   "metadata": {},
   "outputs": [],
   "source": [
    "students_marks.drop('Score6',axis=1,inplace=True)"
   ]
  },
  {
   "cell_type": "code",
   "execution_count": 58,
   "id": "f6c2c6d0",
   "metadata": {},
   "outputs": [
    {
     "data": {
      "text/html": [
       "<div>\n",
       "<style scoped>\n",
       "    .dataframe tbody tr th:only-of-type {\n",
       "        vertical-align: middle;\n",
       "    }\n",
       "\n",
       "    .dataframe tbody tr th {\n",
       "        vertical-align: top;\n",
       "    }\n",
       "\n",
       "    .dataframe thead th {\n",
       "        text-align: right;\n",
       "    }\n",
       "</style>\n",
       "<table border=\"1\" class=\"dataframe\">\n",
       "  <thead>\n",
       "    <tr style=\"text-align: right;\">\n",
       "      <th></th>\n",
       "      <th>Score1</th>\n",
       "      <th>Score2</th>\n",
       "      <th>Score3</th>\n",
       "      <th>Score4</th>\n",
       "      <th>Score5</th>\n",
       "    </tr>\n",
       "  </thead>\n",
       "  <tbody>\n",
       "    <tr>\n",
       "      <th>A</th>\n",
       "      <td>0.544208</td>\n",
       "      <td>0.082095</td>\n",
       "      <td>0.366342</td>\n",
       "      <td>0.850851</td>\n",
       "      <td>0.406275</td>\n",
       "    </tr>\n",
       "    <tr>\n",
       "      <th>B</th>\n",
       "      <td>0.027202</td>\n",
       "      <td>0.247177</td>\n",
       "      <td>0.067144</td>\n",
       "      <td>0.993852</td>\n",
       "      <td>0.970580</td>\n",
       "    </tr>\n",
       "    <tr>\n",
       "      <th>C</th>\n",
       "      <td>0.800258</td>\n",
       "      <td>0.601817</td>\n",
       "      <td>0.764960</td>\n",
       "      <td>0.169225</td>\n",
       "      <td>0.293023</td>\n",
       "    </tr>\n",
       "    <tr>\n",
       "      <th>D</th>\n",
       "      <td>0.524067</td>\n",
       "      <td>0.356624</td>\n",
       "      <td>0.045679</td>\n",
       "      <td>0.983153</td>\n",
       "      <td>0.441355</td>\n",
       "    </tr>\n",
       "    <tr>\n",
       "      <th>E</th>\n",
       "      <td>0.504000</td>\n",
       "      <td>0.323541</td>\n",
       "      <td>0.259745</td>\n",
       "      <td>0.386890</td>\n",
       "      <td>0.832017</td>\n",
       "    </tr>\n",
       "    <tr>\n",
       "      <th>F</th>\n",
       "      <td>0.736747</td>\n",
       "      <td>0.379211</td>\n",
       "      <td>0.013017</td>\n",
       "      <td>0.797405</td>\n",
       "      <td>0.269389</td>\n",
       "    </tr>\n",
       "    <tr>\n",
       "      <th>G</th>\n",
       "      <td>0.582685</td>\n",
       "      <td>0.025551</td>\n",
       "      <td>0.662202</td>\n",
       "      <td>0.387523</td>\n",
       "      <td>0.497074</td>\n",
       "    </tr>\n",
       "    <tr>\n",
       "      <th>H</th>\n",
       "      <td>0.414906</td>\n",
       "      <td>0.350872</td>\n",
       "      <td>0.550978</td>\n",
       "      <td>0.972911</td>\n",
       "      <td>0.112776</td>\n",
       "    </tr>\n",
       "    <tr>\n",
       "      <th>I</th>\n",
       "      <td>0.313259</td>\n",
       "      <td>0.041798</td>\n",
       "      <td>0.738400</td>\n",
       "      <td>0.657512</td>\n",
       "      <td>0.214636</td>\n",
       "    </tr>\n",
       "    <tr>\n",
       "      <th>J</th>\n",
       "      <td>0.416753</td>\n",
       "      <td>0.643842</td>\n",
       "      <td>0.661481</td>\n",
       "      <td>0.170477</td>\n",
       "      <td>0.881652</td>\n",
       "    </tr>\n",
       "  </tbody>\n",
       "</table>\n",
       "</div>"
      ],
      "text/plain": [
       "     Score1    Score2    Score3    Score4    Score5\n",
       "A  0.544208  0.082095  0.366342  0.850851  0.406275\n",
       "B  0.027202  0.247177  0.067144  0.993852  0.970580\n",
       "C  0.800258  0.601817  0.764960  0.169225  0.293023\n",
       "D  0.524067  0.356624  0.045679  0.983153  0.441355\n",
       "E  0.504000  0.323541  0.259745  0.386890  0.832017\n",
       "F  0.736747  0.379211  0.013017  0.797405  0.269389\n",
       "G  0.582685  0.025551  0.662202  0.387523  0.497074\n",
       "H  0.414906  0.350872  0.550978  0.972911  0.112776\n",
       "I  0.313259  0.041798  0.738400  0.657512  0.214636\n",
       "J  0.416753  0.643842  0.661481  0.170477  0.881652"
      ]
     },
     "execution_count": 58,
     "metadata": {},
     "output_type": "execute_result"
    }
   ],
   "source": [
    "students_marks"
   ]
  },
  {
   "cell_type": "code",
   "execution_count": 61,
   "id": "c946549f",
   "metadata": {},
   "outputs": [],
   "source": [
    "new_student_list = students_marks.drop('I',axis=0)"
   ]
  },
  {
   "cell_type": "code",
   "execution_count": 62,
   "id": "abdb9d75",
   "metadata": {},
   "outputs": [
    {
     "data": {
      "text/html": [
       "<div>\n",
       "<style scoped>\n",
       "    .dataframe tbody tr th:only-of-type {\n",
       "        vertical-align: middle;\n",
       "    }\n",
       "\n",
       "    .dataframe tbody tr th {\n",
       "        vertical-align: top;\n",
       "    }\n",
       "\n",
       "    .dataframe thead th {\n",
       "        text-align: right;\n",
       "    }\n",
       "</style>\n",
       "<table border=\"1\" class=\"dataframe\">\n",
       "  <thead>\n",
       "    <tr style=\"text-align: right;\">\n",
       "      <th></th>\n",
       "      <th>Score1</th>\n",
       "      <th>Score2</th>\n",
       "      <th>Score3</th>\n",
       "      <th>Score4</th>\n",
       "      <th>Score5</th>\n",
       "    </tr>\n",
       "  </thead>\n",
       "  <tbody>\n",
       "    <tr>\n",
       "      <th>A</th>\n",
       "      <td>0.544208</td>\n",
       "      <td>0.082095</td>\n",
       "      <td>0.366342</td>\n",
       "      <td>0.850851</td>\n",
       "      <td>0.406275</td>\n",
       "    </tr>\n",
       "    <tr>\n",
       "      <th>B</th>\n",
       "      <td>0.027202</td>\n",
       "      <td>0.247177</td>\n",
       "      <td>0.067144</td>\n",
       "      <td>0.993852</td>\n",
       "      <td>0.970580</td>\n",
       "    </tr>\n",
       "    <tr>\n",
       "      <th>C</th>\n",
       "      <td>0.800258</td>\n",
       "      <td>0.601817</td>\n",
       "      <td>0.764960</td>\n",
       "      <td>0.169225</td>\n",
       "      <td>0.293023</td>\n",
       "    </tr>\n",
       "    <tr>\n",
       "      <th>D</th>\n",
       "      <td>0.524067</td>\n",
       "      <td>0.356624</td>\n",
       "      <td>0.045679</td>\n",
       "      <td>0.983153</td>\n",
       "      <td>0.441355</td>\n",
       "    </tr>\n",
       "    <tr>\n",
       "      <th>E</th>\n",
       "      <td>0.504000</td>\n",
       "      <td>0.323541</td>\n",
       "      <td>0.259745</td>\n",
       "      <td>0.386890</td>\n",
       "      <td>0.832017</td>\n",
       "    </tr>\n",
       "    <tr>\n",
       "      <th>F</th>\n",
       "      <td>0.736747</td>\n",
       "      <td>0.379211</td>\n",
       "      <td>0.013017</td>\n",
       "      <td>0.797405</td>\n",
       "      <td>0.269389</td>\n",
       "    </tr>\n",
       "    <tr>\n",
       "      <th>G</th>\n",
       "      <td>0.582685</td>\n",
       "      <td>0.025551</td>\n",
       "      <td>0.662202</td>\n",
       "      <td>0.387523</td>\n",
       "      <td>0.497074</td>\n",
       "    </tr>\n",
       "    <tr>\n",
       "      <th>H</th>\n",
       "      <td>0.414906</td>\n",
       "      <td>0.350872</td>\n",
       "      <td>0.550978</td>\n",
       "      <td>0.972911</td>\n",
       "      <td>0.112776</td>\n",
       "    </tr>\n",
       "    <tr>\n",
       "      <th>J</th>\n",
       "      <td>0.416753</td>\n",
       "      <td>0.643842</td>\n",
       "      <td>0.661481</td>\n",
       "      <td>0.170477</td>\n",
       "      <td>0.881652</td>\n",
       "    </tr>\n",
       "  </tbody>\n",
       "</table>\n",
       "</div>"
      ],
      "text/plain": [
       "     Score1    Score2    Score3    Score4    Score5\n",
       "A  0.544208  0.082095  0.366342  0.850851  0.406275\n",
       "B  0.027202  0.247177  0.067144  0.993852  0.970580\n",
       "C  0.800258  0.601817  0.764960  0.169225  0.293023\n",
       "D  0.524067  0.356624  0.045679  0.983153  0.441355\n",
       "E  0.504000  0.323541  0.259745  0.386890  0.832017\n",
       "F  0.736747  0.379211  0.013017  0.797405  0.269389\n",
       "G  0.582685  0.025551  0.662202  0.387523  0.497074\n",
       "H  0.414906  0.350872  0.550978  0.972911  0.112776\n",
       "J  0.416753  0.643842  0.661481  0.170477  0.881652"
      ]
     },
     "execution_count": 62,
     "metadata": {},
     "output_type": "execute_result"
    }
   ],
   "source": [
    "new_student_list"
   ]
  },
  {
   "cell_type": "code",
   "execution_count": 63,
   "id": "4cb1da6d",
   "metadata": {},
   "outputs": [
    {
     "data": {
      "text/html": [
       "<div>\n",
       "<style scoped>\n",
       "    .dataframe tbody tr th:only-of-type {\n",
       "        vertical-align: middle;\n",
       "    }\n",
       "\n",
       "    .dataframe tbody tr th {\n",
       "        vertical-align: top;\n",
       "    }\n",
       "\n",
       "    .dataframe thead th {\n",
       "        text-align: right;\n",
       "    }\n",
       "</style>\n",
       "<table border=\"1\" class=\"dataframe\">\n",
       "  <thead>\n",
       "    <tr style=\"text-align: right;\">\n",
       "      <th></th>\n",
       "      <th>Score1</th>\n",
       "      <th>Score2</th>\n",
       "      <th>Score3</th>\n",
       "      <th>Score4</th>\n",
       "      <th>Score5</th>\n",
       "    </tr>\n",
       "  </thead>\n",
       "  <tbody>\n",
       "    <tr>\n",
       "      <th>A</th>\n",
       "      <td>0.544208</td>\n",
       "      <td>0.082095</td>\n",
       "      <td>0.366342</td>\n",
       "      <td>0.850851</td>\n",
       "      <td>0.406275</td>\n",
       "    </tr>\n",
       "    <tr>\n",
       "      <th>B</th>\n",
       "      <td>0.027202</td>\n",
       "      <td>0.247177</td>\n",
       "      <td>0.067144</td>\n",
       "      <td>0.993852</td>\n",
       "      <td>0.970580</td>\n",
       "    </tr>\n",
       "    <tr>\n",
       "      <th>C</th>\n",
       "      <td>0.800258</td>\n",
       "      <td>0.601817</td>\n",
       "      <td>0.764960</td>\n",
       "      <td>0.169225</td>\n",
       "      <td>0.293023</td>\n",
       "    </tr>\n",
       "    <tr>\n",
       "      <th>D</th>\n",
       "      <td>0.524067</td>\n",
       "      <td>0.356624</td>\n",
       "      <td>0.045679</td>\n",
       "      <td>0.983153</td>\n",
       "      <td>0.441355</td>\n",
       "    </tr>\n",
       "    <tr>\n",
       "      <th>E</th>\n",
       "      <td>0.504000</td>\n",
       "      <td>0.323541</td>\n",
       "      <td>0.259745</td>\n",
       "      <td>0.386890</td>\n",
       "      <td>0.832017</td>\n",
       "    </tr>\n",
       "    <tr>\n",
       "      <th>F</th>\n",
       "      <td>0.736747</td>\n",
       "      <td>0.379211</td>\n",
       "      <td>0.013017</td>\n",
       "      <td>0.797405</td>\n",
       "      <td>0.269389</td>\n",
       "    </tr>\n",
       "    <tr>\n",
       "      <th>G</th>\n",
       "      <td>0.582685</td>\n",
       "      <td>0.025551</td>\n",
       "      <td>0.662202</td>\n",
       "      <td>0.387523</td>\n",
       "      <td>0.497074</td>\n",
       "    </tr>\n",
       "    <tr>\n",
       "      <th>H</th>\n",
       "      <td>0.414906</td>\n",
       "      <td>0.350872</td>\n",
       "      <td>0.550978</td>\n",
       "      <td>0.972911</td>\n",
       "      <td>0.112776</td>\n",
       "    </tr>\n",
       "    <tr>\n",
       "      <th>I</th>\n",
       "      <td>0.313259</td>\n",
       "      <td>0.041798</td>\n",
       "      <td>0.738400</td>\n",
       "      <td>0.657512</td>\n",
       "      <td>0.214636</td>\n",
       "    </tr>\n",
       "    <tr>\n",
       "      <th>J</th>\n",
       "      <td>0.416753</td>\n",
       "      <td>0.643842</td>\n",
       "      <td>0.661481</td>\n",
       "      <td>0.170477</td>\n",
       "      <td>0.881652</td>\n",
       "    </tr>\n",
       "  </tbody>\n",
       "</table>\n",
       "</div>"
      ],
      "text/plain": [
       "     Score1    Score2    Score3    Score4    Score5\n",
       "A  0.544208  0.082095  0.366342  0.850851  0.406275\n",
       "B  0.027202  0.247177  0.067144  0.993852  0.970580\n",
       "C  0.800258  0.601817  0.764960  0.169225  0.293023\n",
       "D  0.524067  0.356624  0.045679  0.983153  0.441355\n",
       "E  0.504000  0.323541  0.259745  0.386890  0.832017\n",
       "F  0.736747  0.379211  0.013017  0.797405  0.269389\n",
       "G  0.582685  0.025551  0.662202  0.387523  0.497074\n",
       "H  0.414906  0.350872  0.550978  0.972911  0.112776\n",
       "I  0.313259  0.041798  0.738400  0.657512  0.214636\n",
       "J  0.416753  0.643842  0.661481  0.170477  0.881652"
      ]
     },
     "execution_count": 63,
     "metadata": {},
     "output_type": "execute_result"
    }
   ],
   "source": [
    "students_marks"
   ]
  },
  {
   "cell_type": "code",
   "execution_count": 65,
   "id": "9298c7a2",
   "metadata": {},
   "outputs": [
    {
     "data": {
      "text/plain": [
       "0.7649598604516815"
      ]
     },
     "execution_count": 65,
     "metadata": {},
     "output_type": "execute_result"
    }
   ],
   "source": [
    "students_marks.loc['C','Score3']"
   ]
  },
  {
   "cell_type": "code",
   "execution_count": 66,
   "id": "bbeffc0f",
   "metadata": {},
   "outputs": [
    {
     "data": {
      "text/plain": [
       "0.4413549193548467"
      ]
     },
     "execution_count": 66,
     "metadata": {},
     "output_type": "execute_result"
    }
   ],
   "source": [
    "students_marks.loc['D','Score5']"
   ]
  },
  {
   "cell_type": "code",
   "execution_count": 67,
   "id": "5d8318ce",
   "metadata": {},
   "outputs": [
    {
     "data": {
      "text/plain": [
       "Score1    0.800258\n",
       "Score2    0.601817\n",
       "Score3    0.764960\n",
       "Score4    0.169225\n",
       "Score5    0.293023\n",
       "Name: C, dtype: float64"
      ]
     },
     "execution_count": 67,
     "metadata": {},
     "output_type": "execute_result"
    }
   ],
   "source": [
    "students_marks.loc['C']"
   ]
  },
  {
   "cell_type": "code",
   "execution_count": null,
   "id": "0c771c84",
   "metadata": {},
   "outputs": [],
   "source": []
  }
 ],
 "metadata": {
  "kernelspec": {
   "display_name": "Python 3 (ipykernel)",
   "language": "python",
   "name": "python3"
  },
  "language_info": {
   "codemirror_mode": {
    "name": "ipython",
    "version": 3
   },
   "file_extension": ".py",
   "mimetype": "text/x-python",
   "name": "python",
   "nbconvert_exporter": "python",
   "pygments_lexer": "ipython3",
   "version": "3.11.5"
  }
 },
 "nbformat": 4,
 "nbformat_minor": 5
}
