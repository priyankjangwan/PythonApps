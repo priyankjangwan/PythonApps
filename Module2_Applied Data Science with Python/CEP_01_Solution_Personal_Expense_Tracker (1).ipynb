{
 "cells": [
  {
   "cell_type": "markdown",
   "metadata": {
    "id": "OnHdVWwUjVze"
   },
   "source": [
    "# __Course-End Project Solution__\n",
    "\n",
    "## __Personal Expense Tracker__"
   ]
  },
  {
   "cell_type": "markdown",
   "metadata": {
    "id": "a6yl5B9hj3Up"
   },
   "source": [
    "### __Problem Statement:__\n",
    "In today’s fast-paced world, individuals need to track and manage their expenses effectively. You are tasked with building a Personal Expense Tracker that allows users to log daily expenses, categorize them, and track spending against a set monthly budget. The tracker should also have the ability to save and load expenses from a file for future reference."
   ]
  },
  {
   "cell_type": "markdown",
   "metadata": {
    "id": "Aly4H5lHkRXb"
   },
   "source": [
    "### __Steps to Perform:__\n",
    "\n",
    "__1. Add an Expenses:__\n",
    "- Design a function that allows users to add new expenses by entering the date, category (For example, Food, Travel), amount, and a brief description. These values are then stored in a list of dictionaries, where each dictionary represents one expense."
   ]
  },
  {
   "cell_type": "code",
   "execution_count": 2,
   "metadata": {
    "id": "8SMWJ_sB1krk"
   },
   "outputs": [],
   "source": [
    "import csv\n",
    "\n",
    "# Function to add an expense\n",
    "def add_expense(expenses):\n",
    "    \"\"\"Function to add a new expense record.\"\"\"\n",
    "    date = input(\"Enter the date (YYYY-MM-DD): \")\n",
    "    category = input(\"Enter the category (e.g., Food, Travel): \")\n",
    "    amount = float(input(\"Enter the amount: \"))\n",
    "    description = input(\"Enter a brief description: \")\n",
    "    expenses.append({\n",
    "        \"date\": date,\n",
    "        \"category\": category,\n",
    "        \"amount\": amount,\n",
    "        \"description\": description\n",
    "    })\n",
    "    print(\"Expense added successfully.\")"
   ]
  },
  {
   "cell_type": "markdown",
   "metadata": {
    "id": "TtSSuMJf_t6H"
   },
   "source": [
    "__2. View Expenses__\n",
    "- Implement a function that displays all recorded expenses. The function ensures that all required fields (date, category, amount, description) are present before displaying the expense. If no expenses are recorded, it informs the user."
   ]
  },
  {
   "cell_type": "code",
   "execution_count": 3,
   "metadata": {
    "id": "lKT7MNM4lyyQ"
   },
   "outputs": [],
   "source": [
    "# Function to view all expenses\n",
    "def view_expenses(expenses):\n",
    "    \"\"\"Function to display all expenses.\"\"\"\n",
    "    if not expenses:\n",
    "        print(\"No expenses recorded.\")\n",
    "    else:\n",
    "        for expense in expenses:\n",
    "            # Check if the keys exist before accessing them\n",
    "            if all(key in expense for key in ['date', 'category', 'amount', 'description']):\n",
    "                print(f\"Date: {expense['date']}, Category: {expense['category']}, Amount: {expense['amount']}, Description: {expense['description']}\")\n",
    "            else:\n",
    "                print(f\"Invalid expense record: {expense}\")\n"
   ]
  },
  {
   "cell_type": "markdown",
   "metadata": {
    "id": "byMKaqd8_-rc"
   },
   "source": [
    "__3. Set and Track Budget__\n",
    "- Allow the user to set a monthly budget, and then calculate total expenses to compare against the budget. The __track_budget__ function alerts the user if the total expenses exceed the budget, and informs the remaining budget if still within the limit.\n",
    "\n"
   ]
  },
  {
   "cell_type": "code",
   "execution_count": 4,
   "metadata": {
    "id": "cpTE9Dda2gkq"
   },
   "outputs": [],
   "source": [
    "# Function to set and track a monthly budget\n",
    "def set_budget():\n",
    "    \"\"\"Function to set a monthly budget.\"\"\"\n",
    "    budget = float(input(\"Enter your monthly budget: \"))\n",
    "    return budget"
   ]
  },
  {
   "cell_type": "code",
   "execution_count": 5,
   "metadata": {
    "id": "rqUlAZVArlmC"
   },
   "outputs": [],
   "source": [
    "# Function to track expenses by category and check against the budget\n",
    "def track_budget(expenses, budget):\n",
    "    \"\"\"Function to track expenses and alert if budget is exceeded.\"\"\"\n",
    "    total_expenses = sum(expense['amount'] for expense in expenses)\n",
    "    print(f\"Total expenses: {total_expenses}\")\n",
    "    if total_expenses > budget:\n",
    "        print(\"Warning: You have exceeded your budget!\")\n",
    "    else:\n",
    "        print(f\"You are within your budget. You have {budget - total_expenses} remaining.\")"
   ]
  },
  {
   "cell_type": "markdown",
   "metadata": {
    "id": "hN8lmUpBAY7F"
   },
   "source": [
    "__4. Save and Load Expenses__\n",
    "- __Save:__ Save all the recorded expenses into a CSV file using the __save_expenses__ function. The file includes the date, category, amount, and description of each expense.\n",
    "- __Load:__ Load expenses from the CSV file when the program starts using the __load_expenses__ function. If no file is found, the user is informed that no prior data exists."
   ]
  },
  {
   "cell_type": "code",
   "execution_count": 6,
   "metadata": {
    "id": "W9l94Uk6rs6-"
   },
   "outputs": [],
   "source": [
    "# Function to save expenses to a file\n",
    "def save_expenses(expenses, filename='expenses.csv'):\n",
    "    \"\"\"Function to save expenses to a file.\"\"\"\n",
    "    with open(filename, 'w', newline='') as file:\n",
    "        writer = csv.writer(file)\n",
    "        writer.writerow([\"Date\", \"Category\", \"Amount\", \"Description\"]) # dict_name.keys()\n",
    "        for expense in expenses:\n",
    "            writer.writerow([expense['date'], expense['category'], expense['amount'], expense['description']])\n",
    "    print(\"Expenses saved successfully.\")\n"
   ]
  },
  {
   "cell_type": "code",
   "execution_count": 7,
   "metadata": {
    "id": "3xqs15RXrxOw"
   },
   "outputs": [],
   "source": [
    "# Function to load expenses from a file\n",
    "def load_expenses(filename='expenses.csv'):\n",
    "    \"\"\"Function to load expenses from a file.\"\"\"\n",
    "    expenses = []\n",
    "    try:\n",
    "        with open(filename, 'r') as file:\n",
    "            reader = csv.DictReader(file)\n",
    "            for row in reader:\n",
    "                # Check if all required keys exist before accessing them\n",
    "                if all(key in row for key in ['Date', 'Category', 'Amount', 'Description']):\n",
    "                    # Convert amount to float\n",
    "                    row['amount'] = float(row['amount'])\n",
    "                    # Rename keys to match the format used in other functions\n",
    "                    expense = {\n",
    "                        'date': row['Date'],\n",
    "                        'category': row['Category'],\n",
    "                        'amount': row['amount'],\n",
    "                        'description': row['Description']\n",
    "                    }\n",
    "                    expenses.append(expense)\n",
    "                else:\n",
    "                    print(f\"Skipping invalid expense record: {row}\")\n",
    "    except FileNotFoundError:\n",
    "        print(\"No existing expenses found. Starting fresh.\")\n",
    "    return expenses"
   ]
  },
  {
   "cell_type": "markdown",
   "metadata": {
    "id": "D-_G7ja_LFOl"
   },
   "source": [
    "__5. Create an Interactive Menu__\n",
    "- The interactive menu allows users to navigate through the options of adding an expense, viewing expenses, tracking their budget, saving expenses, or exiting the program. When exiting, it ensures that any newly added expenses are saved to the file."
   ]
  },
  {
   "cell_type": "code",
   "execution_count": null,
   "metadata": {
    "colab": {
     "base_uri": "https://localhost:8080/"
    },
    "id": "yJG2floFr3B3",
    "outputId": "945fa08b-45ce-47f0-80c4-b41fd831f8d7"
   },
   "outputs": [
    {
     "name": "stdout",
     "output_type": "stream",
     "text": [
      "No existing expenses found. Starting fresh.\n"
     ]
    }
   ],
   "source": [
    "# Main interactive menu\n",
    "def main():\n",
    "    expenses = load_expenses()\n",
    "    budget = set_budget()\n",
    "    while True:\n",
    "        print(\"\\nPersonal Expense Tracker\")\n",
    "        print(\"1. Add Expense\")\n",
    "        print(\"2. View Expenses\")\n",
    "        print(\"3. Track Budget\")\n",
    "        print(\"4. Save Expenses\")\n",
    "        print(\"5. Exit\")\n",
    "        choice = input(\"Enter your choice: \")\n",
    "\n",
    "        if choice == '1':\n",
    "            add_expense(expenses)\n",
    "        elif choice == '2':\n",
    "            view_expenses(expenses)\n",
    "        elif choice == '3':\n",
    "            track_budget(expenses, budget)\n",
    "        elif choice == '4':\n",
    "            save_expenses(expenses)\n",
    "        elif choice == '5':\n",
    "            save_expenses(expenses)\n",
    "            print(\"Exiting...\")\n",
    "            break\n",
    "        else:\n",
    "            print(\"Invalid choice, please select a valid option.\")\n",
    "\n",
    "# Run the main function\n",
    "if __name__ == \"__main__\":\n",
    "    main()\n"
   ]
  },
  {
   "cell_type": "code",
   "execution_count": null,
   "metadata": {},
   "outputs": [],
   "source": []
  }
 ],
 "metadata": {
  "colab": {
   "provenance": []
  },
  "kernelspec": {
   "display_name": "Python 3 (ipykernel)",
   "language": "python",
   "name": "python3"
  },
  "language_info": {
   "codemirror_mode": {
    "name": "ipython",
    "version": 3
   },
   "file_extension": ".py",
   "mimetype": "text/x-python",
   "name": "python",
   "nbconvert_exporter": "python",
   "pygments_lexer": "ipython3",
   "version": "3.11.5"
  }
 },
 "nbformat": 4,
 "nbformat_minor": 1
}
