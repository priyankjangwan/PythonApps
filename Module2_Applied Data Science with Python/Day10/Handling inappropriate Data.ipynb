{
 "cells": [
  {
   "cell_type": "code",
   "execution_count": 36,
   "metadata": {},
   "outputs": [],
   "source": [
    "import numpy as np\n",
    "import pandas as pd\n",
    "import seaborn as sns\n",
    "import matplotlib.pyplot as plt"
   ]
  },
  {
   "cell_type": "code",
   "execution_count": 37,
   "metadata": {},
   "outputs": [
    {
     "name": "stdout",
     "output_type": "stream",
     "text": [
      "data-frame shape:  (5043, 28)\n"
     ]
    }
   ],
   "source": [
    "movies_df = pd.read_csv(\"movie_metadata.csv\")\n",
    "print (\"data-frame shape: \", movies_df.shape)"
   ]
  },
  {
   "cell_type": "code",
   "execution_count": 38,
   "metadata": {},
   "outputs": [
    {
     "name": "stdout",
     "output_type": "stream",
     "text": [
      "column names:  ['color' 'director_name' 'num_critic_for_reviews' 'duration'\n",
      " 'director_facebook_likes' 'actor_3_facebook_likes' 'actor_2_name'\n",
      " 'actor_1_facebook_likes' 'gross' 'genres' 'actor_1_name' 'movie_title'\n",
      " 'num_voted_users' 'cast_total_facebook_likes' 'actor_3_name'\n",
      " 'facenumber_in_poster' 'plot_keywords' 'movie_imdb_link'\n",
      " 'num_user_for_reviews' 'language' 'country' 'content_rating' 'budget'\n",
      " 'title_year' 'actor_2_facebook_likes' 'imdb_score' 'aspect_ratio'\n",
      " 'movie_facebook_likes']\n"
     ]
    }
   ],
   "source": [
    "print (\"column names: \", movies_df.columns.values)"
   ]
  },
  {
   "cell_type": "code",
   "execution_count": 39,
   "metadata": {},
   "outputs": [
    {
     "name": "stdout",
     "output_type": "stream",
     "text": [
      "color                         19\n",
      "director_name                104\n",
      "num_critic_for_reviews        50\n",
      "duration                      15\n",
      "director_facebook_likes      104\n",
      "actor_3_facebook_likes        23\n",
      "actor_2_name                  13\n",
      "actor_1_facebook_likes         7\n",
      "gross                        884\n",
      "genres                         0\n",
      "actor_1_name                   7\n",
      "movie_title                    0\n",
      "num_voted_users                0\n",
      "cast_total_facebook_likes      0\n",
      "actor_3_name                  23\n",
      "facenumber_in_poster          13\n",
      "plot_keywords                153\n",
      "movie_imdb_link                0\n",
      "num_user_for_reviews          21\n",
      "language                      12\n",
      "country                        5\n",
      "content_rating               303\n",
      "budget                       492\n",
      "title_year                   108\n",
      "actor_2_facebook_likes        13\n",
      "imdb_score                     0\n",
      "aspect_ratio                 329\n",
      "movie_facebook_likes           0\n",
      "dtype: int64\n"
     ]
    }
   ],
   "source": [
    "print(movies_df.isnull().sum())"
   ]
  },
  {
   "cell_type": "code",
   "execution_count": 40,
   "metadata": {},
   "outputs": [
    {
     "name": "stdout",
     "output_type": "stream",
     "text": [
      "total null values:  2698\n"
     ]
    }
   ],
   "source": [
    "print (\"total null values: \", movies_df.isna().sum().sum())"
   ]
  },
  {
   "cell_type": "code",
   "execution_count": 41,
   "metadata": {},
   "outputs": [],
   "source": [
    "clean_movies_df = movies_df.dropna(how='any')"
   ]
  },
  {
   "cell_type": "code",
   "execution_count": 42,
   "metadata": {},
   "outputs": [
    {
     "name": "stdout",
     "output_type": "stream",
     "text": [
      "new dataframe shape:  (3756, 28)\n",
      "old dataframe shape: (5043, 28)\n"
     ]
    }
   ],
   "source": [
    "print (\"new dataframe shape: \", clean_movies_df.shape)\n",
    "print (\"old dataframe shape:\", movies_df.shape)"
   ]
  },
  {
   "cell_type": "code",
   "execution_count": 43,
   "metadata": {},
   "outputs": [],
   "source": [
    "movies_df.fillna(value=0, inplace = True)"
   ]
  },
  {
   "cell_type": "code",
   "execution_count": 44,
   "metadata": {},
   "outputs": [],
   "source": [
    "movies_df[['gross', 'budget']] = movies_df[['gross', 'budget']].fillna(value=0)"
   ]
  },
  {
   "cell_type": "code",
   "execution_count": 45,
   "metadata": {},
   "outputs": [],
   "source": [
    "movies_df['language'].fillna(\"no info\", inplace=True)"
   ]
  },
  {
   "cell_type": "code",
   "execution_count": 46,
   "metadata": {},
   "outputs": [],
   "source": [
    "movies_df['budget'].fillna(movies_df['budget'].mean(), inplace=True)"
   ]
  },
  {
   "cell_type": "code",
   "execution_count": 47,
   "metadata": {},
   "outputs": [],
   "source": [
    "duplicate_rows_df = movies_df[movies_df.duplicated()]"
   ]
  },
  {
   "cell_type": "code",
   "execution_count": 48,
   "metadata": {},
   "outputs": [
    {
     "name": "stdout",
     "output_type": "stream",
     "text": [
      "number of duplicate rows:  (45, 28)\n"
     ]
    }
   ],
   "source": [
    "print (\"number of duplicate rows: \", duplicate_rows_df.shape)"
   ]
  },
  {
   "cell_type": "code",
   "execution_count": 49,
   "metadata": {},
   "outputs": [],
   "source": [
    "duplicated_rows_df_imdb_link= movies_df[movies_df.duplicated(['movie_imdb_link'])]"
   ]
  },
  {
   "cell_type": "code",
   "execution_count": 50,
   "metadata": {},
   "outputs": [
    {
     "name": "stdout",
     "output_type": "stream",
     "text": [
      "0       False\n",
      "1       False\n",
      "2       False\n",
      "3       False\n",
      "4       False\n",
      "        ...  \n",
      "5038    False\n",
      "5039    False\n",
      "5040    False\n",
      "5041    False\n",
      "5042    False\n",
      "Length: 5043, dtype: bool\n"
     ]
    }
   ],
   "source": [
    "print(movies_df.duplicated(['movie_imdb_link']))"
   ]
  },
  {
   "cell_type": "code",
   "execution_count": 51,
   "metadata": {},
   "outputs": [
    {
     "name": "stdout",
     "output_type": "stream",
     "text": [
      "(124, 28)\n"
     ]
    }
   ],
   "source": [
    "print (duplicated_rows_df_imdb_link.shape)"
   ]
  },
  {
   "cell_type": "code",
   "execution_count": 52,
   "metadata": {},
   "outputs": [],
   "source": [
    "op_labels = ['poor', 'moderate', 'good']\n",
    "category = [0.,4.,7.,10.]\n",
    "movies_df['imdb_labels'] = pd.cut(movies_df['imdb_score'], labels=op_labels, bins=category)"
   ]
  },
  {
   "cell_type": "code",
   "execution_count": 53,
   "metadata": {},
   "outputs": [
    {
     "name": "stdout",
     "output_type": "stream",
     "text": [
      "                                        movie_title  imdb_score imdb_labels\n",
      "100                       The Fast and the Furious          6.7    moderate\n",
      "101            The Curious Case of Benjamin Button          7.8        good\n",
      "102                             X-Men: First Class          7.8        good\n",
      "103          The Hunger Games: Mockingjay - Part 2          6.6    moderate\n",
      "104                      The Sorcerer's Apprentice          6.1    moderate\n",
      "..                                              ...         ...         ...\n",
      "195       Harry Potter and the Prisoner of Azkaban          7.8        good\n",
      "196                                      Australia          6.6    moderate\n",
      "197                                    After Earth          4.9    moderate\n",
      "198                                       Dinosaur          6.5    moderate\n",
      "199  Harry Potter and the Deathly Hallows: Part II          7.5        good\n",
      "\n",
      "[100 rows x 3 columns]\n"
     ]
    }
   ],
   "source": [
    "print (movies_df[['movie_title', 'imdb_score', 'imdb_labels']][100:200])"
   ]
  },
  {
   "cell_type": "code",
   "execution_count": 54,
   "metadata": {},
   "outputs": [
    {
     "data": {
      "image/png": "[encoded data removed]",
      "text/plain": [
       "<Figure size 432x288 with 1 Axes>"
      ]
     },
     "metadata": {
      "needs_background": "light"
     },
     "output_type": "display_data"
    }
   ],
   "source": [
    "sns.boxplot(x=movies_df['facenumber_in_poster'], color='red')\n",
    "plt.xlabel('No. of Actors Featured in Poster', fontsize=14)\n",
    "plt.show()"
   ]
  },
  {
   "cell_type": "code",
   "execution_count": 55,
   "metadata": {},
   "outputs": [
    {
     "name": "stdout",
     "output_type": "stream",
     "text": [
      "movie_title             500 Days of Summer \n",
      "facenumber_in_poster                     43\n",
      "Name: 3468, dtype: object\n"
     ]
    }
   ],
   "source": [
    "print (movies_df[['movie_title', 'facenumber_in_poster']].iloc[movies_df['facenumber_in_poster'].idxmax()])"
   ]
  },
  {
   "cell_type": "code",
   "execution_count": 56,
   "metadata": {},
   "outputs": [
    {
     "name": "stdout",
     "output_type": "stream",
     "text": [
      "count    5043.000000\n",
      "mean        1.367638\n",
      "std         2.012180\n",
      "min         0.000000\n",
      "25%         0.000000\n",
      "50%         1.000000\n",
      "75%         2.000000\n",
      "max        43.000000\n",
      "Name: facenumber_in_poster, dtype: float64\n"
     ]
    }
   ],
   "source": [
    "print (movies_df['facenumber_in_poster'].describe())"
   ]
  },
  {
   "cell_type": "code",
   "execution_count": 57,
   "metadata": {},
   "outputs": [],
   "source": [
    "def outlier_treatment(datacolumn):\n",
    "    sorted(datacolumn)\n",
    "    Q1,Q3 = np.percentile(datacolumn , [25,75])\n",
    "    IQR = Q3 - Q1\n",
    "    lower_range = Q1 - (1.5 * IQR)\n",
    "    upper_range = Q3 + (1.5 * IQR)\n",
    "    return lower_range,upper_range"
   ]
  },
  {
   "cell_type": "code",
   "execution_count": 58,
   "metadata": {},
   "outputs": [],
   "source": [
    "l,u = outlier_treatment(movies_df.facenumber_in_poster)"
   ]
  },
  {
   "cell_type": "code",
   "execution_count": 59,
   "metadata": {},
   "outputs": [
    {
     "data": {
      "text/plain": [
       "-3.0"
      ]
     },
     "execution_count": 59,
     "metadata": {},
     "output_type": "execute_result"
    }
   ],
   "source": [
    "l"
   ]
  },
  {
   "cell_type": "code",
   "execution_count": 60,
   "metadata": {},
   "outputs": [
    {
     "data": {
      "text/plain": [
       "5.0"
      ]
     },
     "execution_count": 60,
     "metadata": {},
     "output_type": "execute_result"
    }
   ],
   "source": [
    "u"
   ]
  },
  {
   "cell_type": "code",
   "execution_count": 61,
   "metadata": {},
   "outputs": [
    {
     "data": {
      "text/html": [
       "<div>\n",
       "<style scoped>\n",
       "    .dataframe tbody tr th:only-of-type {\n",
       "        vertical-align: middle;\n",
       "    }\n",
       "\n",
       "    .dataframe tbody tr th {\n",
       "        vertical-align: top;\n",
       "    }\n",
       "\n",
       "    .dataframe thead th {\n",
       "        text-align: right;\n",
       "    }\n",
       "</style>\n",
       "<table border=\"1\" class=\"dataframe\">\n",
       "  <thead>\n",
       "    <tr style=\"text-align: right;\">\n",
       "      <th></th>\n",
       "      <th>color</th>\n",
       "      <th>director_name</th>\n",
       "      <th>num_critic_for_reviews</th>\n",
       "      <th>duration</th>\n",
       "      <th>director_facebook_likes</th>\n",
       "      <th>actor_3_facebook_likes</th>\n",
       "      <th>actor_2_name</th>\n",
       "      <th>actor_1_facebook_likes</th>\n",
       "      <th>gross</th>\n",
       "      <th>genres</th>\n",
       "      <th>...</th>\n",
       "      <th>language</th>\n",
       "      <th>country</th>\n",
       "      <th>content_rating</th>\n",
       "      <th>budget</th>\n",
       "      <th>title_year</th>\n",
       "      <th>actor_2_facebook_likes</th>\n",
       "      <th>imdb_score</th>\n",
       "      <th>aspect_ratio</th>\n",
       "      <th>movie_facebook_likes</th>\n",
       "      <th>imdb_labels</th>\n",
       "    </tr>\n",
       "  </thead>\n",
       "  <tbody>\n",
       "    <tr>\n",
       "      <th>23</th>\n",
       "      <td>Color</td>\n",
       "      <td>Peter Jackson</td>\n",
       "      <td>509.0</td>\n",
       "      <td>186.0</td>\n",
       "      <td>0.0</td>\n",
       "      <td>773.0</td>\n",
       "      <td>Adam Brown</td>\n",
       "      <td>5000.0</td>\n",
       "      <td>258355354.0</td>\n",
       "      <td>Adventure|Fantasy</td>\n",
       "      <td>...</td>\n",
       "      <td>English</td>\n",
       "      <td>USA</td>\n",
       "      <td>PG-13</td>\n",
       "      <td>225000000.0</td>\n",
       "      <td>2013.0</td>\n",
       "      <td>972.0</td>\n",
       "      <td>7.9</td>\n",
       "      <td>2.35</td>\n",
       "      <td>83000</td>\n",
       "      <td>good</td>\n",
       "    </tr>\n",
       "    <tr>\n",
       "      <th>47</th>\n",
       "      <td>Color</td>\n",
       "      <td>Bryan Singer</td>\n",
       "      <td>539.0</td>\n",
       "      <td>149.0</td>\n",
       "      <td>0.0</td>\n",
       "      <td>20000.0</td>\n",
       "      <td>Peter Dinklage</td>\n",
       "      <td>34000.0</td>\n",
       "      <td>233914986.0</td>\n",
       "      <td>Action|Adventure|Fantasy|Sci-Fi|Thriller</td>\n",
       "      <td>...</td>\n",
       "      <td>English</td>\n",
       "      <td>USA</td>\n",
       "      <td>PG-13</td>\n",
       "      <td>200000000.0</td>\n",
       "      <td>2014.0</td>\n",
       "      <td>22000.0</td>\n",
       "      <td>8.0</td>\n",
       "      <td>2.35</td>\n",
       "      <td>82000</td>\n",
       "      <td>good</td>\n",
       "    </tr>\n",
       "    <tr>\n",
       "      <th>65</th>\n",
       "      <td>Color</td>\n",
       "      <td>Bryan Singer</td>\n",
       "      <td>396.0</td>\n",
       "      <td>144.0</td>\n",
       "      <td>0.0</td>\n",
       "      <td>1000.0</td>\n",
       "      <td>Michael Fassbender</td>\n",
       "      <td>34000.0</td>\n",
       "      <td>154985087.0</td>\n",
       "      <td>Action|Adventure|Sci-Fi</td>\n",
       "      <td>...</td>\n",
       "      <td>English</td>\n",
       "      <td>USA</td>\n",
       "      <td>PG-13</td>\n",
       "      <td>178000000.0</td>\n",
       "      <td>2016.0</td>\n",
       "      <td>13000.0</td>\n",
       "      <td>7.3</td>\n",
       "      <td>2.35</td>\n",
       "      <td>54000</td>\n",
       "      <td>good</td>\n",
       "    </tr>\n",
       "    <tr>\n",
       "      <th>73</th>\n",
       "      <td>Color</td>\n",
       "      <td>David Ayer</td>\n",
       "      <td>418.0</td>\n",
       "      <td>123.0</td>\n",
       "      <td>452.0</td>\n",
       "      <td>329.0</td>\n",
       "      <td>Robin Atkin Downes</td>\n",
       "      <td>10000.0</td>\n",
       "      <td>161087183.0</td>\n",
       "      <td>Action|Adventure|Comedy|Sci-Fi</td>\n",
       "      <td>...</td>\n",
       "      <td>English</td>\n",
       "      <td>USA</td>\n",
       "      <td>PG-13</td>\n",
       "      <td>175000000.0</td>\n",
       "      <td>2016.0</td>\n",
       "      <td>336.0</td>\n",
       "      <td>6.9</td>\n",
       "      <td>2.35</td>\n",
       "      <td>80000</td>\n",
       "      <td>moderate</td>\n",
       "    </tr>\n",
       "    <tr>\n",
       "      <th>134</th>\n",
       "      <td>Color</td>\n",
       "      <td>Tim Burton</td>\n",
       "      <td>526.0</td>\n",
       "      <td>113.0</td>\n",
       "      <td>13000.0</td>\n",
       "      <td>16000.0</td>\n",
       "      <td>Chloë Grace Moretz</td>\n",
       "      <td>40000.0</td>\n",
       "      <td>79711678.0</td>\n",
       "      <td>Comedy|Fantasy|Horror</td>\n",
       "      <td>...</td>\n",
       "      <td>English</td>\n",
       "      <td>USA</td>\n",
       "      <td>PG-13</td>\n",
       "      <td>100000000.0</td>\n",
       "      <td>2012.0</td>\n",
       "      <td>17000.0</td>\n",
       "      <td>6.2</td>\n",
       "      <td>1.85</td>\n",
       "      <td>82000</td>\n",
       "      <td>moderate</td>\n",
       "    </tr>\n",
       "    <tr>\n",
       "      <th>...</th>\n",
       "      <td>...</td>\n",
       "      <td>...</td>\n",
       "      <td>...</td>\n",
       "      <td>...</td>\n",
       "      <td>...</td>\n",
       "      <td>...</td>\n",
       "      <td>...</td>\n",
       "      <td>...</td>\n",
       "      <td>...</td>\n",
       "      <td>...</td>\n",
       "      <td>...</td>\n",
       "      <td>...</td>\n",
       "      <td>...</td>\n",
       "      <td>...</td>\n",
       "      <td>...</td>\n",
       "      <td>...</td>\n",
       "      <td>...</td>\n",
       "      <td>...</td>\n",
       "      <td>...</td>\n",
       "      <td>...</td>\n",
       "      <td>...</td>\n",
       "    </tr>\n",
       "    <tr>\n",
       "      <th>4829</th>\n",
       "      <td>Color</td>\n",
       "      <td>Cédric Klapisch</td>\n",
       "      <td>29.0</td>\n",
       "      <td>91.0</td>\n",
       "      <td>82.0</td>\n",
       "      <td>8.0</td>\n",
       "      <td>Zinedine Soualem</td>\n",
       "      <td>75.0</td>\n",
       "      <td>1652472.0</td>\n",
       "      <td>Comedy|Romance</td>\n",
       "      <td>...</td>\n",
       "      <td>French</td>\n",
       "      <td>France</td>\n",
       "      <td>R</td>\n",
       "      <td>300000.0</td>\n",
       "      <td>1996.0</td>\n",
       "      <td>9.0</td>\n",
       "      <td>6.9</td>\n",
       "      <td>1.66</td>\n",
       "      <td>166</td>\n",
       "      <td>moderate</td>\n",
       "    </tr>\n",
       "    <tr>\n",
       "      <th>4847</th>\n",
       "      <td>Color</td>\n",
       "      <td>Jerome Elston Scott</td>\n",
       "      <td>8.0</td>\n",
       "      <td>98.0</td>\n",
       "      <td>3.0</td>\n",
       "      <td>248.0</td>\n",
       "      <td>Joanna Cassidy</td>\n",
       "      <td>500.0</td>\n",
       "      <td>0.0</td>\n",
       "      <td>Comedy|Drama|Romance</td>\n",
       "      <td>...</td>\n",
       "      <td>English</td>\n",
       "      <td>USA</td>\n",
       "      <td>R</td>\n",
       "      <td>300000.0</td>\n",
       "      <td>2010.0</td>\n",
       "      <td>317.0</td>\n",
       "      <td>7.2</td>\n",
       "      <td>0.00</td>\n",
       "      <td>7</td>\n",
       "      <td>good</td>\n",
       "    </tr>\n",
       "    <tr>\n",
       "      <th>4883</th>\n",
       "      <td>Color</td>\n",
       "      <td>Joel Paul Reisig</td>\n",
       "      <td>1.0</td>\n",
       "      <td>108.0</td>\n",
       "      <td>431.0</td>\n",
       "      <td>3.0</td>\n",
       "      <td>Dana Blackstone</td>\n",
       "      <td>288.0</td>\n",
       "      <td>0.0</td>\n",
       "      <td>Family</td>\n",
       "      <td>...</td>\n",
       "      <td>English</td>\n",
       "      <td>USA</td>\n",
       "      <td>PG</td>\n",
       "      <td>250000.0</td>\n",
       "      <td>2014.0</td>\n",
       "      <td>96.0</td>\n",
       "      <td>6.6</td>\n",
       "      <td>0.00</td>\n",
       "      <td>71</td>\n",
       "      <td>moderate</td>\n",
       "    </tr>\n",
       "    <tr>\n",
       "      <th>4900</th>\n",
       "      <td>Color</td>\n",
       "      <td>David G. Evans</td>\n",
       "      <td>25.0</td>\n",
       "      <td>101.0</td>\n",
       "      <td>0.0</td>\n",
       "      <td>16.0</td>\n",
       "      <td>Chris Thomas</td>\n",
       "      <td>77000.0</td>\n",
       "      <td>2428241.0</td>\n",
       "      <td>Drama</td>\n",
       "      <td>...</td>\n",
       "      <td>English</td>\n",
       "      <td>USA</td>\n",
       "      <td>PG-13</td>\n",
       "      <td>200000.0</td>\n",
       "      <td>2010.0</td>\n",
       "      <td>21.0</td>\n",
       "      <td>6.4</td>\n",
       "      <td>0.00</td>\n",
       "      <td>0</td>\n",
       "      <td>moderate</td>\n",
       "    </tr>\n",
       "    <tr>\n",
       "      <th>4994</th>\n",
       "      <td>Color</td>\n",
       "      <td>Patrick Meaney</td>\n",
       "      <td>7.0</td>\n",
       "      <td>81.0</td>\n",
       "      <td>3.0</td>\n",
       "      <td>18.0</td>\n",
       "      <td>Greg Aronowitz</td>\n",
       "      <td>26.0</td>\n",
       "      <td>0.0</td>\n",
       "      <td>Biography|Documentary</td>\n",
       "      <td>...</td>\n",
       "      <td>English</td>\n",
       "      <td>USA</td>\n",
       "      <td>0</td>\n",
       "      <td>50000.0</td>\n",
       "      <td>2014.0</td>\n",
       "      <td>20.0</td>\n",
       "      <td>7.4</td>\n",
       "      <td>0.00</td>\n",
       "      <td>83</td>\n",
       "      <td>good</td>\n",
       "    </tr>\n",
       "  </tbody>\n",
       "</table>\n",
       "<p>210 rows × 29 columns</p>\n",
       "</div>"
      ],
      "text/plain": [
       "      color        director_name  num_critic_for_reviews  duration  \\\n",
       "23    Color        Peter Jackson                   509.0     186.0   \n",
       "47    Color         Bryan Singer                   539.0     149.0   \n",
       "65    Color         Bryan Singer                   396.0     144.0   \n",
       "73    Color           David Ayer                   418.0     123.0   \n",
       "134   Color           Tim Burton                   526.0     113.0   \n",
       "...     ...                  ...                     ...       ...   \n",
       "4829  Color      Cédric Klapisch                    29.0      91.0   \n",
       "4847  Color  Jerome Elston Scott                     8.0      98.0   \n",
       "4883  Color     Joel Paul Reisig                     1.0     108.0   \n",
       "4900  Color       David G. Evans                    25.0     101.0   \n",
       "4994  Color       Patrick Meaney                     7.0      81.0   \n",
       "\n",
       "      director_facebook_likes  actor_3_facebook_likes        actor_2_name  \\\n",
       "23                        0.0                   773.0          Adam Brown   \n",
       "47                        0.0                 20000.0      Peter Dinklage   \n",
       "65                        0.0                  1000.0  Michael Fassbender   \n",
       "73                      452.0                   329.0  Robin Atkin Downes   \n",
       "134                   13000.0                 16000.0  Chloë Grace Moretz   \n",
       "...                       ...                     ...                 ...   \n",
       "4829                     82.0                     8.0    Zinedine Soualem   \n",
       "4847                      3.0                   248.0      Joanna Cassidy   \n",
       "4883                    431.0                     3.0     Dana Blackstone   \n",
       "4900                      0.0                    16.0        Chris Thomas   \n",
       "4994                      3.0                    18.0      Greg Aronowitz   \n",
       "\n",
       "      actor_1_facebook_likes        gross  \\\n",
       "23                    5000.0  258355354.0   \n",
       "47                   34000.0  233914986.0   \n",
       "65                   34000.0  154985087.0   \n",
       "73                   10000.0  161087183.0   \n",
       "134                  40000.0   79711678.0   \n",
       "...                      ...          ...   \n",
       "4829                    75.0    1652472.0   \n",
       "4847                   500.0          0.0   \n",
       "4883                   288.0          0.0   \n",
       "4900                 77000.0    2428241.0   \n",
       "4994                    26.0          0.0   \n",
       "\n",
       "                                        genres  ... language country  \\\n",
       "23                           Adventure|Fantasy  ...  English     USA   \n",
       "47    Action|Adventure|Fantasy|Sci-Fi|Thriller  ...  English     USA   \n",
       "65                     Action|Adventure|Sci-Fi  ...  English     USA   \n",
       "73              Action|Adventure|Comedy|Sci-Fi  ...  English     USA   \n",
       "134                      Comedy|Fantasy|Horror  ...  English     USA   \n",
       "...                                        ...  ...      ...     ...   \n",
       "4829                            Comedy|Romance  ...   French  France   \n",
       "4847                      Comedy|Drama|Romance  ...  English     USA   \n",
       "4883                                    Family  ...  English     USA   \n",
       "4900                                     Drama  ...  English     USA   \n",
       "4994                     Biography|Documentary  ...  English     USA   \n",
       "\n",
       "      content_rating       budget title_year  actor_2_facebook_likes  \\\n",
       "23             PG-13  225000000.0     2013.0                   972.0   \n",
       "47             PG-13  200000000.0     2014.0                 22000.0   \n",
       "65             PG-13  178000000.0     2016.0                 13000.0   \n",
       "73             PG-13  175000000.0     2016.0                   336.0   \n",
       "134            PG-13  100000000.0     2012.0                 17000.0   \n",
       "...              ...          ...        ...                     ...   \n",
       "4829               R     300000.0     1996.0                     9.0   \n",
       "4847               R     300000.0     2010.0                   317.0   \n",
       "4883              PG     250000.0     2014.0                    96.0   \n",
       "4900           PG-13     200000.0     2010.0                    21.0   \n",
       "4994               0      50000.0     2014.0                    20.0   \n",
       "\n",
       "     imdb_score aspect_ratio  movie_facebook_likes imdb_labels  \n",
       "23          7.9         2.35                 83000        good  \n",
       "47          8.0         2.35                 82000        good  \n",
       "65          7.3         2.35                 54000        good  \n",
       "73          6.9         2.35                 80000    moderate  \n",
       "134         6.2         1.85                 82000    moderate  \n",
       "...         ...          ...                   ...         ...  \n",
       "4829        6.9         1.66                   166    moderate  \n",
       "4847        7.2         0.00                     7        good  \n",
       "4883        6.6         0.00                    71    moderate  \n",
       "4900        6.4         0.00                     0    moderate  \n",
       "4994        7.4         0.00                    83        good  \n",
       "\n",
       "[210 rows x 29 columns]"
      ]
     },
     "execution_count": 61,
     "metadata": {},
     "output_type": "execute_result"
    }
   ],
   "source": [
    "movies_df[ (movies_df.facenumber_in_poster > u) | (movies_df.facenumber_in_poster < l) ]"
   ]
  },
  {
   "cell_type": "code",
   "execution_count": 81,
   "metadata": {},
   "outputs": [],
   "source": [
    "movies_df.drop(movies_df[ (movies_df.facenumber_in_poster > u) | (movies_df.facenumber_in_poster < l) ].index , inplace=True)"
   ]
  },
  {
   "cell_type": "code",
   "execution_count": 82,
   "metadata": {},
   "outputs": [
    {
     "data": {
      "text/plain": [
       "<matplotlib.axes._subplots.AxesSubplot at 0x1760abdfa88>"
      ]
     },
     "execution_count": 82,
     "metadata": {},
     "output_type": "execute_result"
    },
    {
     "data": {
      "image/png": "[encoded data removed]",
      "text/plain": [
       "<Figure size 432x288 with 1 Axes>"
      ]
     },
     "metadata": {
      "needs_background": "light"
     },
     "output_type": "display_data"
    }
   ],
   "source": [
    "sns.boxplot(movies_df.facenumber_in_poster)"
   ]
  },
  {
   "cell_type": "code",
   "execution_count": 86,
   "metadata": {},
   "outputs": [
    {
     "data": {
      "text/plain": [
       "color                          object\n",
       "director_name                  object\n",
       "num_critic_for_reviews        float64\n",
       "duration                      float64\n",
       "director_facebook_likes       float64\n",
       "actor_3_facebook_likes        float64\n",
       "actor_2_name                   object\n",
       "actor_1_facebook_likes        float64\n",
       "gross                         float64\n",
       "genres                         object\n",
       "actor_1_name                   object\n",
       "movie_title                    object\n",
       "num_voted_users                 int64\n",
       "cast_total_facebook_likes       int64\n",
       "actor_3_name                   object\n",
       "facenumber_in_poster          float64\n",
       "plot_keywords                  object\n",
       "movie_imdb_link                object\n",
       "num_user_for_reviews          float64\n",
       "language                       object\n",
       "country                        object\n",
       "content_rating                 object\n",
       "budget                        float64\n",
       "title_year                    float64\n",
       "actor_2_facebook_likes        float64\n",
       "imdb_score                    float64\n",
       "aspect_ratio                  float64\n",
       "movie_facebook_likes            int64\n",
       "imdb_labels                  category\n",
       "dtype: object"
      ]
     },
     "execution_count": 86,
     "metadata": {},
     "output_type": "execute_result"
    }
   ],
   "source": [
    "movies_df.dtypes"
   ]
  },
  {
   "cell_type": "code",
   "execution_count": null,
   "metadata": {},
   "outputs": [],
   "source": []
  }
 ],
 "metadata": {
  "kernelspec": {
   "display_name": "Python 3 (ipykernel)",
   "language": "python",
   "name": "python3"
  },
  "language_info": {
   "codemirror_mode": {
    "name": "ipython",
    "version": 3
   },
   "file_extension": ".py",
   "mimetype": "text/x-python",
   "name": "python",
   "nbconvert_exporter": "python",
   "pygments_lexer": "ipython3",
   "version": "3.11.5"
  }
 },
 "nbformat": 4,
 "nbformat_minor": 4
}
