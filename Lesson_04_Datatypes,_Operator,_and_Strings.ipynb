{
  "cells": [
    {
      "cell_type": "markdown",
      "metadata": {
        "id": "view-in-github",
        "colab_type": "text"
      },
      "source": [
        "<a href=\"https://colab.research.google.com/github/priyankjangwan/PythonApps/blob/main/Lesson_04_Datatypes%2C_Operator%2C_and_Strings.ipynb\" target=\"_parent\"><img src=\"https://colab.research.google.com/assets/colab-badge.svg\" alt=\"Open In Colab\"/></a>"
      ]
    },
    {
      "cell_type": "markdown",
      "id": "8d84e95e",
      "metadata": {
        "id": "8d84e95e"
      },
      "source": [
        "# Data Types Python"
      ]
    },
    {
      "cell_type": "code",
      "source": [
        "print(\"Start Data Science\")"
      ],
      "metadata": {
        "id": "zU_as1_OV2h1"
      },
      "id": "zU_as1_OV2h1",
      "execution_count": null,
      "outputs": []
    },
    {
      "cell_type": "code",
      "execution_count": null,
      "id": "25460612",
      "metadata": {
        "id": "25460612",
        "colab": {
          "base_uri": "https://localhost:8080/"
        },
        "outputId": "fd73bf78-cab7-46d5-b1b4-481ce3196f16"
      },
      "outputs": [
        {
          "output_type": "stream",
          "name": "stdout",
          "text": [
            "x =  34 \ty =  67.89 \tz =  True\n"
          ]
        }
      ],
      "source": [
        "# @title Default title text\n",
        "x = 34 ; y = 67.89 ; z = True\n",
        "print('x = ', x, '\\ty = ', y, '\\tz = ', z)"
      ]
    },
    {
      "cell_type": "code",
      "execution_count": null,
      "id": "a0ba3932",
      "metadata": {
        "id": "a0ba3932",
        "colab": {
          "base_uri": "https://localhost:8080/"
        },
        "outputId": "ab54ee73-a92c-48d6-e893-8cac9ad058ce"
      },
      "outputs": [
        {
          "output_type": "stream",
          "name": "stdout",
          "text": [
            "Type of \n",
            "x =  <class 'int'> \ty =  <class 'float'> \tz =  <class 'bool'>\n"
          ]
        }
      ],
      "source": [
        "print('Type of \\nx = ', type(x), '\\ty = ', type(y), '\\tz = ', type(z))"
      ]
    },
    {
      "cell_type": "code",
      "execution_count": null,
      "id": "cf515aa8",
      "metadata": {
        "id": "cf515aa8",
        "colab": {
          "base_uri": "https://localhost:8080/"
        },
        "outputId": "d1097d5b-a79b-43ca-eee9-974a7e2a0b32"
      },
      "outputs": [
        {
          "output_type": "stream",
          "name": "stdout",
          "text": [
            "var =  abc\n",
            "type of var  <class 'str'>\n"
          ]
        }
      ],
      "source": [
        "var = 'abc'\n",
        "print('var = ', var)\n",
        "print('type of var ', type(var))"
      ]
    },
    {
      "cell_type": "markdown",
      "id": "c9fcbcd0",
      "metadata": {
        "id": "c9fcbcd0"
      },
      "source": [
        "## Data Type Conversion\n",
        "Data type conversion in Python refers to the process of converting a value from one data type to another."
      ]
    },
    {
      "cell_type": "code",
      "execution_count": null,
      "id": "72cd4a8d",
      "metadata": {
        "id": "72cd4a8d",
        "outputId": "fac0a928-282b-4a4f-c1de-cd20bfbc37f6",
        "colab": {
          "base_uri": "https://localhost:8080/"
        }
      },
      "outputs": [
        {
          "output_type": "execute_result",
          "data": {
            "text/plain": [
              "45"
            ]
          },
          "metadata": {},
          "execution_count": 4
        }
      ],
      "source": [
        "x = 45.77\n",
        "int(x)"
      ]
    },
    {
      "cell_type": "code",
      "execution_count": null,
      "id": "2b0ded59",
      "metadata": {
        "id": "2b0ded59",
        "colab": {
          "base_uri": "https://localhost:8080/",
          "height": 35
        },
        "outputId": "ee909223-4d81-45f2-96b9-4c760620aec8"
      },
      "outputs": [
        {
          "output_type": "execute_result",
          "data": {
            "text/plain": [
              "'45.77'"
            ],
            "application/vnd.google.colaboratory.intrinsic+json": {
              "type": "string"
            }
          },
          "metadata": {},
          "execution_count": 5
        }
      ],
      "source": [
        "str(x)"
      ]
    },
    {
      "cell_type": "code",
      "execution_count": null,
      "id": "f68b4a25",
      "metadata": {
        "id": "f68b4a25",
        "outputId": "934340d0-94c1-4d02-c75f-722265137f1f",
        "colab": {
          "base_uri": "https://localhost:8080/"
        }
      },
      "outputs": [
        {
          "output_type": "execute_result",
          "data": {
            "text/plain": [
              "True"
            ]
          },
          "metadata": {},
          "execution_count": 6
        }
      ],
      "source": [
        "bool(x)"
      ]
    },
    {
      "cell_type": "code",
      "execution_count": null,
      "id": "d351bbfa",
      "metadata": {
        "id": "d351bbfa"
      },
      "outputs": [],
      "source": [
        "y = '45.88'"
      ]
    },
    {
      "cell_type": "code",
      "execution_count": null,
      "id": "8a4e5f55",
      "metadata": {
        "id": "8a4e5f55",
        "outputId": "93d409c3-bdf4-4e21-eb08-fee8b5795fb3",
        "colab": {
          "base_uri": "https://localhost:8080/"
        }
      },
      "outputs": [
        {
          "output_type": "execute_result",
          "data": {
            "text/plain": [
              "45.88"
            ]
          },
          "metadata": {},
          "execution_count": 8
        }
      ],
      "source": [
        "float(y)"
      ]
    },
    {
      "cell_type": "code",
      "execution_count": null,
      "id": "ce8ef692",
      "metadata": {
        "id": "ce8ef692",
        "outputId": "130c4e99-614d-4e54-dd08-7c904a60e43e",
        "colab": {
          "base_uri": "https://localhost:8080/"
        }
      },
      "outputs": [
        {
          "output_type": "execute_result",
          "data": {
            "text/plain": [
              "45"
            ]
          },
          "metadata": {},
          "execution_count": 9
        }
      ],
      "source": [
        "int(float(y))"
      ]
    },
    {
      "cell_type": "markdown",
      "id": "94a83937",
      "metadata": {
        "id": "94a83937"
      },
      "source": [
        "## Checking References\n",
        "Checking references in Python involves determining whether two variables reference the same object in memory using the id() function."
      ]
    },
    {
      "cell_type": "code",
      "execution_count": null,
      "id": "0c722a25",
      "metadata": {
        "id": "0c722a25",
        "outputId": "6323056b-76cd-49c9-9f6f-e86d321612a0",
        "colab": {
          "base_uri": "https://localhost:8080/"
        }
      },
      "outputs": [
        {
          "output_type": "stream",
          "name": "stdout",
          "text": [
            "x =  34 ;  id of x =  10751912\n",
            "y =  34 ;  id of y =  10751912\n"
          ]
        }
      ],
      "source": [
        "x = 34\n",
        "y = x\n",
        "print('x = ', x, ';  id of x = ', id(x))\n",
        "print('y = ', y, ';  id of y = ', id(y))"
      ]
    },
    {
      "cell_type": "code",
      "execution_count": null,
      "id": "5d6ddc8f",
      "metadata": {
        "id": "5d6ddc8f",
        "outputId": "e7fabeaa-dedc-4a3a-d362-a4e41f0cc5f7",
        "colab": {
          "base_uri": "https://localhost:8080/"
        }
      },
      "outputs": [
        {
          "output_type": "stream",
          "name": "stdout",
          "text": [
            "x =  65 ;  id of x =  10752904\n",
            "y =  34 ;  id of y =  10751912\n"
          ]
        }
      ],
      "source": [
        "x = 65\n",
        "print('x = ', x, ';  id of x = ', id(x))\n",
        "print('y = ', y, ';  id of y = ', id(y))"
      ]
    },
    {
      "cell_type": "code",
      "execution_count": null,
      "id": "0b5c3223",
      "metadata": {
        "id": "0b5c3223",
        "outputId": "44386a1e-50b6-419e-eff7-14bf6037ab43",
        "colab": {
          "base_uri": "https://localhost:8080/"
        }
      },
      "outputs": [
        {
          "output_type": "stream",
          "name": "stdout",
          "text": [
            "x =  65 ;  id of x =  10752904\n",
            "y =  78 ;  id of y =  10753320\n"
          ]
        }
      ],
      "source": [
        "y = 78\n",
        "print('x = ', x, ';  id of x = ', id(x))\n",
        "print('y = ', y, ';  id of y = ', id(y))"
      ]
    },
    {
      "cell_type": "markdown",
      "id": "32821bd5",
      "metadata": {
        "id": "32821bd5"
      },
      "source": [
        "# Arithmetic Operators"
      ]
    },
    {
      "cell_type": "code",
      "execution_count": null,
      "id": "af3c58f2",
      "metadata": {
        "id": "af3c58f2"
      },
      "outputs": [],
      "source": [
        "x = 50\n",
        "y = 4"
      ]
    },
    {
      "cell_type": "code",
      "execution_count": null,
      "id": "2fa36b7a",
      "metadata": {
        "id": "2fa36b7a",
        "outputId": "318fa822-adb9-4597-a5e3-2638c5725b85",
        "colab": {
          "base_uri": "https://localhost:8080/"
        }
      },
      "outputs": [
        {
          "output_type": "stream",
          "name": "stdout",
          "text": [
            "Sum of x & y                   :  54\n",
            "Difference between x & y       :  46\n",
            "Product of x & y               :  200\n",
            "Division of x by y             :  12.5\n"
          ]
        }
      ],
      "source": [
        "print('Sum of x & y                   : ', x + y)\n",
        "print('Difference between x & y       : ', x - y)\n",
        "print('Product of x & y               : ', x * y)\n",
        "print('Division of x by y             : ', x / y)"
      ]
    },
    {
      "cell_type": "code",
      "execution_count": null,
      "id": "3db80fcd",
      "metadata": {
        "id": "3db80fcd",
        "outputId": "348203a6-000b-485b-da3a-2b15c9071237",
        "colab": {
          "base_uri": "https://localhost:8080/"
        }
      },
      "outputs": [
        {
          "output_type": "stream",
          "name": "stdout",
          "text": [
            "Remainder of x divided by y    :  2\n",
            "Floor Division x divided by y  :  12\n",
            "Exponential value for x raised to power y :  6250000\n"
          ]
        }
      ],
      "source": [
        "print('Remainder of x divided by y    : ', x % y)\n",
        "print('Floor Division x divided by y  : ', x // y)\n",
        "print('Exponential value for x raised to power y : ', x ** y)"
      ]
    },
    {
      "cell_type": "markdown",
      "id": "7f804b0c",
      "metadata": {
        "id": "7f804b0c"
      },
      "source": [
        "# Arithmetic Assignment Operators"
      ]
    },
    {
      "cell_type": "code",
      "execution_count": null,
      "id": "8c15a85f",
      "metadata": {
        "id": "8c15a85f",
        "outputId": "ebf2e287-3a99-44cd-b9a1-2aced9513e2d",
        "colab": {
          "base_uri": "https://localhost:8080/"
        }
      },
      "outputs": [
        {
          "output_type": "stream",
          "name": "stdout",
          "text": [
            "Present value of a =  10\n"
          ]
        }
      ],
      "source": [
        "a = 10\n",
        "print('Present value of a = ', a )"
      ]
    },
    {
      "cell_type": "code",
      "execution_count": null,
      "id": "aa5d4afb",
      "metadata": {
        "id": "aa5d4afb",
        "outputId": "7fd0a934-3c5a-4cdd-e1da-4fb5a4484cf3",
        "colab": {
          "base_uri": "https://localhost:8080/"
        }
      },
      "outputs": [
        {
          "output_type": "stream",
          "name": "stdout",
          "text": [
            "Updated value of a =  15\n"
          ]
        }
      ],
      "source": [
        "a += 5\n",
        "print('Updated value of a = ', a )"
      ]
    },
    {
      "cell_type": "code",
      "execution_count": null,
      "id": "6c6c6bd5",
      "metadata": {
        "id": "6c6c6bd5",
        "outputId": "d1503353-05c5-4764-9c83-95bd5e124d1c",
        "colab": {
          "base_uri": "https://localhost:8080/"
        }
      },
      "outputs": [
        {
          "output_type": "stream",
          "name": "stdout",
          "text": [
            "Present value of a =  10\n",
            "Present id of a =  10751144\n"
          ]
        }
      ],
      "source": [
        "a = 10\n",
        "print('Present value of a = ', a )\n",
        "print('Present id of a = ', id(a))"
      ]
    },
    {
      "cell_type": "code",
      "execution_count": null,
      "id": "a9f077f9",
      "metadata": {
        "id": "a9f077f9",
        "outputId": "050c4276-2505-4541-9d67-a465acebc58a",
        "colab": {
          "base_uri": "https://localhost:8080/"
        }
      },
      "outputs": [
        {
          "output_type": "stream",
          "name": "stdout",
          "text": [
            "Updated value of a =  25\n",
            "Updated id of a =  10751624\n"
          ]
        }
      ],
      "source": [
        "a += 15\n",
        "print('Updated value of a = ', a )\n",
        "print('Updated id of a = ', id(a))"
      ]
    },
    {
      "cell_type": "markdown",
      "id": "d11c54f4",
      "metadata": {
        "id": "d11c54f4"
      },
      "source": [
        "# Comparison Operator"
      ]
    },
    {
      "cell_type": "code",
      "execution_count": null,
      "id": "f7854d1a",
      "metadata": {
        "id": "f7854d1a",
        "outputId": "200ec339-21fa-44bc-bd9e-954a077e2315",
        "colab": {
          "base_uri": "https://localhost:8080/"
        }
      },
      "outputs": [
        {
          "output_type": "stream",
          "name": "stdout",
          "text": [
            "a =  20   b =  20\n",
            "a == b  :  True\n"
          ]
        }
      ],
      "source": [
        "a = 20\n",
        "b = 20\n",
        "print('a = ', a, '  b = ', b)\n",
        "print('a == b  : ', a == b)"
      ]
    },
    {
      "cell_type": "code",
      "execution_count": null,
      "id": "8973afb9",
      "metadata": {
        "id": "8973afb9",
        "outputId": "a044f8ae-4494-4717-ebf7-41f6ac2f50c2",
        "colab": {
          "base_uri": "https://localhost:8080/"
        }
      },
      "outputs": [
        {
          "output_type": "stream",
          "name": "stdout",
          "text": [
            "a =  20   b =  30\n",
            "a != b  :  True\n"
          ]
        }
      ],
      "source": [
        "a = 20\n",
        "b = 30\n",
        "print('a = ', a, '  b = ', b)\n",
        "print('a != b  : ', a != b)"
      ]
    },
    {
      "cell_type": "code",
      "execution_count": null,
      "id": "0f8c5c26",
      "metadata": {
        "id": "0f8c5c26",
        "outputId": "f6ef4c1b-f3a5-4629-e22f-16c699968f65",
        "colab": {
          "base_uri": "https://localhost:8080/"
        }
      },
      "outputs": [
        {
          "output_type": "stream",
          "name": "stdout",
          "text": [
            "a =  40   b =  30\n",
            "a <= b  :  False\n"
          ]
        }
      ],
      "source": [
        "a = 40\n",
        "b = 30\n",
        "print('a = ', a, '  b = ', b)\n",
        "print('a <= b  : ', a <= b)"
      ]
    },
    {
      "cell_type": "code",
      "execution_count": null,
      "id": "8278c936",
      "metadata": {
        "id": "8278c936",
        "outputId": "f68a5322-d32d-4fa5-a069-dc8572c5f60c",
        "colab": {
          "base_uri": "https://localhost:8080/"
        }
      },
      "outputs": [
        {
          "output_type": "stream",
          "name": "stdout",
          "text": [
            "a =  30   b =  30\n",
            "a >= b  :  True\n"
          ]
        }
      ],
      "source": [
        "a = 30\n",
        "b = 30\n",
        "print('a = ', a, '  b = ', b)\n",
        "print('a >= b  : ', a >= b)"
      ]
    },
    {
      "cell_type": "markdown",
      "id": "39c782f9",
      "metadata": {
        "id": "39c782f9"
      },
      "source": [
        "# Logical Operators"
      ]
    },
    {
      "cell_type": "code",
      "execution_count": null,
      "id": "00356ab0",
      "metadata": {
        "id": "00356ab0",
        "outputId": "bef51ffd-074d-48ee-ff43-046fd219b367",
        "colab": {
          "base_uri": "https://localhost:8080/"
        }
      },
      "outputs": [
        {
          "output_type": "stream",
          "name": "stdout",
          "text": [
            "a =  30   b =  30\n",
            "a < b            :  False\n",
            "a == b           :  True\n"
          ]
        }
      ],
      "source": [
        "a = 30\n",
        "b = 30\n",
        "print('a = ', a, '  b = ', b)\n",
        "print('a < b            : ', a < b)\n",
        "print('a == b           : ', a == b)"
      ]
    },
    {
      "cell_type": "code",
      "execution_count": null,
      "id": "54e251ac",
      "metadata": {
        "id": "54e251ac",
        "outputId": "b839f153-724b-4bef-d837-501fefcae9d6",
        "colab": {
          "base_uri": "https://localhost:8080/"
        }
      },
      "outputs": [
        {
          "output_type": "stream",
          "name": "stdout",
          "text": [
            "a < b and a == b :  False\n"
          ]
        }
      ],
      "source": [
        "print('a < b and a == b : ', a < b and a == b)"
      ]
    },
    {
      "cell_type": "code",
      "execution_count": null,
      "id": "cd75ed3c",
      "metadata": {
        "id": "cd75ed3c",
        "outputId": "75487c7a-4b9c-4510-df4f-3fb57ee4c270",
        "colab": {
          "base_uri": "https://localhost:8080/"
        }
      },
      "outputs": [
        {
          "output_type": "stream",
          "name": "stdout",
          "text": [
            "a =  30   b =  30\n",
            "a < b           :  False\n",
            "a == b          :  True\n"
          ]
        }
      ],
      "source": [
        "a = 30\n",
        "b = 30\n",
        "print('a = ', a, '  b = ', b)\n",
        "print('a < b           : ', a < b)\n",
        "print('a == b          : ', a == b)"
      ]
    },
    {
      "cell_type": "code",
      "execution_count": null,
      "id": "2e4bc040",
      "metadata": {
        "id": "2e4bc040",
        "outputId": "92b2270e-41fc-4eea-d438-e1c34d1e4c6e",
        "colab": {
          "base_uri": "https://localhost:8080/"
        }
      },
      "outputs": [
        {
          "output_type": "stream",
          "name": "stdout",
          "text": [
            "a < b or a == b :  True\n"
          ]
        }
      ],
      "source": [
        "print('a < b or a == b : ', a < b or a == b)"
      ]
    },
    {
      "cell_type": "code",
      "execution_count": null,
      "id": "c373a640",
      "metadata": {
        "id": "c373a640",
        "outputId": "f08f0df2-acbe-4398-e686-7b03be28b5cf",
        "colab": {
          "base_uri": "https://localhost:8080/"
        }
      },
      "outputs": [
        {
          "output_type": "stream",
          "name": "stdout",
          "text": [
            "a =  40\n",
            "a < 50      :  True\n"
          ]
        }
      ],
      "source": [
        "a = 40\n",
        "print('a = ', a)\n",
        "print('a < 50      : ' , a < 50 )"
      ]
    },
    {
      "cell_type": "code",
      "execution_count": null,
      "id": "6df6ad87",
      "metadata": {
        "id": "6df6ad87",
        "outputId": "0c56d600-3565-4949-ac75-ec05b7d19c73",
        "colab": {
          "base_uri": "https://localhost:8080/"
        }
      },
      "outputs": [
        {
          "output_type": "stream",
          "name": "stdout",
          "text": [
            "not a < 50  :  False\n"
          ]
        }
      ],
      "source": [
        "print('not a < 50  : ' , not(a < 50))"
      ]
    },
    {
      "cell_type": "markdown",
      "id": "bd699087",
      "metadata": {
        "tags": [],
        "id": "bd699087"
      },
      "source": [
        "# Miscellaneous Operators"
      ]
    },
    {
      "cell_type": "markdown",
      "id": "ba8d6ec4",
      "metadata": {
        "id": "ba8d6ec4"
      },
      "source": [
        "### Identity Operators"
      ]
    },
    {
      "cell_type": "code",
      "execution_count": null,
      "id": "40e0b821",
      "metadata": {
        "id": "40e0b821",
        "outputId": "b77807ae-b0f6-48dd-b02c-2c24412254d1",
        "colab": {
          "base_uri": "https://localhost:8080/"
        }
      },
      "outputs": [
        {
          "output_type": "stream",
          "name": "stdout",
          "text": [
            "a is b False\n"
          ]
        }
      ],
      "source": [
        "a = ['a', 'b', 'c']\n",
        "b = ['a', 'b', 'c']\n",
        "print('a is b' , a is b)"
      ]
    },
    {
      "cell_type": "code",
      "execution_count": null,
      "id": "3e19ff48",
      "metadata": {
        "id": "3e19ff48",
        "outputId": "6fda0e9a-fd59-4bfa-c20a-dadf163971b5",
        "colab": {
          "base_uri": "https://localhost:8080/"
        }
      },
      "outputs": [
        {
          "output_type": "stream",
          "name": "stdout",
          "text": [
            "a is b True\n"
          ]
        }
      ],
      "source": [
        "a = ['a', 'b', 'c']\n",
        "b =  a\n",
        "print('a is b' , a is b)"
      ]
    },
    {
      "cell_type": "code",
      "execution_count": null,
      "id": "415131e2",
      "metadata": {
        "id": "415131e2",
        "outputId": "da3ab354-bbac-4f31-ba3f-4a6d0f65e9e8",
        "colab": {
          "base_uri": "https://localhost:8080/"
        }
      },
      "outputs": [
        {
          "output_type": "execute_result",
          "data": {
            "text/plain": [
              "True"
            ]
          },
          "metadata": {},
          "execution_count": 32
        }
      ],
      "source": [
        "id(a) == id(b)"
      ]
    },
    {
      "cell_type": "code",
      "execution_count": null,
      "id": "3527455e",
      "metadata": {
        "id": "3527455e",
        "outputId": "2f5d293b-c811-4f43-fa8b-f4ca971e8beb",
        "colab": {
          "base_uri": "https://localhost:8080/"
        }
      },
      "outputs": [
        {
          "output_type": "stream",
          "name": "stdout",
          "text": [
            "a is not b True\n"
          ]
        }
      ],
      "source": [
        "a = ['a', 'b', 'c']\n",
        "b = ['a', 'b', 'c']\n",
        "print('a is not b' , a is not b)"
      ]
    },
    {
      "cell_type": "markdown",
      "id": "e6a92c05",
      "metadata": {
        "id": "e6a92c05"
      },
      "source": [
        "### Membership Operators"
      ]
    },
    {
      "cell_type": "code",
      "execution_count": null,
      "id": "75ddd5aa",
      "metadata": {
        "id": "75ddd5aa",
        "outputId": "4507b2c6-d8a6-47f6-cdd7-7a53557878f2",
        "colab": {
          "base_uri": "https://localhost:8080/"
        }
      },
      "outputs": [
        {
          "output_type": "stream",
          "name": "stdout",
          "text": [
            "a  in \" Dictionary \"\n",
            "True\n"
          ]
        }
      ],
      "source": [
        "x = 'a'\n",
        "y = 'Dictionary'\n",
        "print(x , ' in \"', y, '\"')\n",
        "print( x in y)"
      ]
    },
    {
      "cell_type": "code",
      "execution_count": null,
      "id": "2b94ae72",
      "metadata": {
        "id": "2b94ae72",
        "outputId": "b3657cb3-f30a-4ba0-e1f1-bba4a9b60a0b",
        "colab": {
          "base_uri": "https://localhost:8080/"
        }
      },
      "outputs": [
        {
          "output_type": "stream",
          "name": "stdout",
          "text": [
            "a  in \" Dictionary \"\n",
            "False\n"
          ]
        }
      ],
      "source": [
        "x = 'a'\n",
        "y = 'Dictionary'\n",
        "print(x , ' in \"', y, '\"')\n",
        "print( x not in y)"
      ]
    },
    {
      "cell_type": "code",
      "execution_count": null,
      "id": "4eb92021",
      "metadata": {
        "id": "4eb92021",
        "outputId": "b1e4bc8f-7123-4acc-ef6b-88e6e73fff74",
        "colab": {
          "base_uri": "https://localhost:8080/"
        }
      },
      "outputs": [
        {
          "output_type": "execute_result",
          "data": {
            "text/plain": [
              "True"
            ]
          },
          "metadata": {},
          "execution_count": 36
        }
      ],
      "source": [
        "a = [20, 45, 10]\n",
        "10 in a"
      ]
    },
    {
      "cell_type": "code",
      "execution_count": null,
      "id": "a45c3b68",
      "metadata": {
        "id": "a45c3b68",
        "outputId": "6ec69139-fbb3-4e2f-e67d-ba163c70eb8d",
        "colab": {
          "base_uri": "https://localhost:8080/"
        }
      },
      "outputs": [
        {
          "output_type": "execute_result",
          "data": {
            "text/plain": [
              "False"
            ]
          },
          "metadata": {},
          "execution_count": 37
        }
      ],
      "source": [
        "a = [20, 45, 10]\n",
        "10 not in a"
      ]
    },
    {
      "cell_type": "markdown",
      "id": "07976d7b",
      "metadata": {
        "id": "07976d7b"
      },
      "source": [
        "# Strings in Python"
      ]
    },
    {
      "cell_type": "code",
      "execution_count": null,
      "id": "db449368",
      "metadata": {
        "id": "db449368",
        "outputId": "6aeae3ba-1d64-4d79-dd2f-733149eea0d3",
        "colab": {
          "base_uri": "https://localhost:8080/"
        }
      },
      "outputs": [
        {
          "output_type": "stream",
          "name": "stdout",
          "text": [
            "Hi! Welcome to Python Programming!!\n",
            "Hi! Welcome to Python Programming!!\n"
          ]
        }
      ],
      "source": [
        "message_1 = 'Hi! Welcome to Python Programming!!'\n",
        "message_2 = \"Hi! Welcome to Python Programming!!\"\n",
        "print(message_1)\n",
        "print(message_2)"
      ]
    },
    {
      "cell_type": "code",
      "execution_count": null,
      "id": "fc795798",
      "metadata": {
        "id": "fc795798",
        "outputId": "4bad4a7c-2b38-46e6-e9b8-401093a81a34",
        "colab": {
          "base_uri": "https://localhost:8080/"
        }
      },
      "outputs": [
        {
          "output_type": "stream",
          "name": "stdout",
          "text": [
            "Hi! Welcome to \"Python Programming\"!!\n",
            "Hi! Welcome to 'Python Programming'!!\n"
          ]
        }
      ],
      "source": [
        "message_1 = 'Hi! Welcome to \"Python Programming\"!!'\n",
        "message_2 = \"Hi! Welcome to 'Python Programming'!!\"\n",
        "print(message_1)\n",
        "print(message_2)"
      ]
    },
    {
      "cell_type": "markdown",
      "id": "e592b6a5",
      "metadata": {
        "id": "e592b6a5"
      },
      "source": [
        "# String Methods"
      ]
    },
    {
      "cell_type": "code",
      "execution_count": null,
      "id": "ebe9234e",
      "metadata": {
        "id": "ebe9234e",
        "outputId": "c5346520-30b6-4854-f034-428a1ee772b3",
        "colab": {
          "base_uri": "https://localhost:8080/"
        }
      },
      "outputs": [
        {
          "output_type": "stream",
          "name": "stdout",
          "text": [
            "SHE SELLS SEA SHELLS ON THE SEA SHORE.\n"
          ]
        }
      ],
      "source": [
        "string = 'She seLLs sEa SHELLS oN tHe SeA sHoRe.'\n",
        "upper_case = string.upper()\n",
        "print(upper_case)"
      ]
    },
    {
      "cell_type": "code",
      "execution_count": null,
      "id": "e75f14df",
      "metadata": {
        "id": "e75f14df",
        "outputId": "ab082285-3dde-4346-d093-13c6d589bd9b",
        "colab": {
          "base_uri": "https://localhost:8080/"
        }
      },
      "outputs": [
        {
          "output_type": "stream",
          "name": "stdout",
          "text": [
            "she sells sea shells on the sea shore.\n"
          ]
        }
      ],
      "source": [
        "lower_case = string.lower()\n",
        "print(lower_case)"
      ]
    },
    {
      "cell_type": "code",
      "execution_count": null,
      "id": "0fbdb2f9",
      "metadata": {
        "id": "0fbdb2f9",
        "outputId": "644d7fa7-fc82-48c1-c6dc-a279efe9dc3d",
        "colab": {
          "base_uri": "https://localhost:8080/"
        }
      },
      "outputs": [
        {
          "output_type": "stream",
          "name": "stdout",
          "text": [
            "She sells sea shells on the sea shore.\n"
          ]
        }
      ],
      "source": [
        "sentence = string.capitalize()\n",
        "print(sentence)"
      ]
    },
    {
      "cell_type": "code",
      "execution_count": null,
      "id": "e4471326",
      "metadata": {
        "id": "e4471326",
        "outputId": "59fa12ca-d233-4412-85ed-f50f72fa5c55",
        "colab": {
          "base_uri": "https://localhost:8080/",
          "height": 35
        }
      },
      "outputs": [
        {
          "output_type": "execute_result",
          "data": {
            "text/plain": [
              "'She Sells Sea Shells On The Sea Shore.'"
            ],
            "application/vnd.google.colaboratory.intrinsic+json": {
              "type": "string"
            }
          },
          "metadata": {},
          "execution_count": 43
        }
      ],
      "source": [
        "word_upper = string.title()\n",
        "word_upper"
      ]
    }
  ],
  "metadata": {
    "kernelspec": {
      "display_name": "Python 3 [3.10]",
      "language": "python",
      "name": "python3"
    },
    "language_info": {
      "codemirror_mode": {
        "name": "ipython",
        "version": 3
      },
      "file_extension": ".py",
      "mimetype": "text/x-python",
      "name": "python",
      "nbconvert_exporter": "python",
      "pygments_lexer": "ipython3",
      "version": "3.10.2"
    },
    "colab": {
      "provenance": [],
      "toc_visible": true,
      "include_colab_link": true
    }
  },
  "nbformat": 4,
  "nbformat_minor": 5
}