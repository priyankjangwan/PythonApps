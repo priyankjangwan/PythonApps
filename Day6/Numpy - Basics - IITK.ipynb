{
 "cells": [
  {
   "cell_type": "code",
   "execution_count": 1,
   "id": "e73b42b7",
   "metadata": {},
   "outputs": [],
   "source": [
    "list1 = [1,2,3,4,5]\n",
    "list2 = [6,7,8,9,10]"
   ]
  },
  {
   "cell_type": "code",
   "execution_count": 2,
   "id": "a24ced04",
   "metadata": {},
   "outputs": [
    {
     "data": {
      "text/plain": [
       "list"
      ]
     },
     "execution_count": 2,
     "metadata": {},
     "output_type": "execute_result"
    }
   ],
   "source": [
    "type(list1)"
   ]
  },
  {
   "cell_type": "code",
   "execution_count": 3,
   "id": "809c772f",
   "metadata": {},
   "outputs": [
    {
     "data": {
      "text/plain": [
       "[1, 2, 3, 4, 5, 6, 7, 8, 9, 10]"
      ]
     },
     "execution_count": 3,
     "metadata": {},
     "output_type": "execute_result"
    }
   ],
   "source": [
    "list1 + list2"
   ]
  },
  {
   "cell_type": "code",
   "execution_count": 4,
   "id": "a3ee796e",
   "metadata": {},
   "outputs": [],
   "source": [
    "import numpy as np"
   ]
  },
  {
   "cell_type": "code",
   "execution_count": 5,
   "id": "de249886",
   "metadata": {},
   "outputs": [],
   "source": [
    "trans_list1 = np.array(list1)"
   ]
  },
  {
   "cell_type": "code",
   "execution_count": 6,
   "id": "c68cf59e",
   "metadata": {},
   "outputs": [
    {
     "data": {
      "text/plain": [
       "numpy.ndarray"
      ]
     },
     "execution_count": 6,
     "metadata": {},
     "output_type": "execute_result"
    }
   ],
   "source": [
    "type(trans_list1)"
   ]
  },
  {
   "cell_type": "code",
   "execution_count": 7,
   "id": "520a0767",
   "metadata": {},
   "outputs": [],
   "source": [
    "trans_list2 = np.array(list2)"
   ]
  },
  {
   "cell_type": "code",
   "execution_count": 8,
   "id": "07f5f01c",
   "metadata": {},
   "outputs": [
    {
     "data": {
      "text/plain": [
       "numpy.ndarray"
      ]
     },
     "execution_count": 8,
     "metadata": {},
     "output_type": "execute_result"
    }
   ],
   "source": [
    "type(trans_list2)"
   ]
  },
  {
   "cell_type": "code",
   "execution_count": 9,
   "id": "bb3cd5e5",
   "metadata": {},
   "outputs": [
    {
     "data": {
      "text/plain": [
       "array([ 7,  9, 11, 13, 15])"
      ]
     },
     "execution_count": 9,
     "metadata": {},
     "output_type": "execute_result"
    }
   ],
   "source": [
    "trans_list1 + trans_list2"
   ]
  },
  {
   "cell_type": "code",
   "execution_count": 10,
   "id": "903c5ec8",
   "metadata": {},
   "outputs": [
    {
     "data": {
      "text/plain": [
       "array([ 6,  7,  8,  9, 10])"
      ]
     },
     "execution_count": 10,
     "metadata": {},
     "output_type": "execute_result"
    }
   ],
   "source": [
    "trans_list2"
   ]
  },
  {
   "cell_type": "code",
   "execution_count": 11,
   "id": "7f415706",
   "metadata": {},
   "outputs": [
    {
     "data": {
      "text/plain": [
       "8"
      ]
     },
     "execution_count": 11,
     "metadata": {},
     "output_type": "execute_result"
    }
   ],
   "source": [
    "trans_list2[2]"
   ]
  },
  {
   "cell_type": "code",
   "execution_count": 12,
   "id": "747612d3",
   "metadata": {},
   "outputs": [
    {
     "data": {
      "text/plain": [
       "8"
      ]
     },
     "execution_count": 12,
     "metadata": {},
     "output_type": "execute_result"
    }
   ],
   "source": [
    "trans_list2[-3]"
   ]
  },
  {
   "cell_type": "code",
   "execution_count": 13,
   "id": "ece4c33f",
   "metadata": {},
   "outputs": [],
   "source": [
    "var1 = [[10,20,30],[40,50,60],[70,80,90]]"
   ]
  },
  {
   "cell_type": "code",
   "execution_count": 14,
   "id": "8c93ca98",
   "metadata": {},
   "outputs": [
    {
     "data": {
      "text/plain": [
       "list"
      ]
     },
     "execution_count": 14,
     "metadata": {},
     "output_type": "execute_result"
    }
   ],
   "source": [
    "type(var1)"
   ]
  },
  {
   "cell_type": "code",
   "execution_count": 15,
   "id": "1a7457e0",
   "metadata": {},
   "outputs": [],
   "source": [
    "new_var1 = np.array(var1)"
   ]
  },
  {
   "cell_type": "code",
   "execution_count": 16,
   "id": "6dcfc73e",
   "metadata": {},
   "outputs": [
    {
     "data": {
      "text/plain": [
       "array([[10, 20, 30],\n",
       "       [40, 50, 60],\n",
       "       [70, 80, 90]])"
      ]
     },
     "execution_count": 16,
     "metadata": {},
     "output_type": "execute_result"
    }
   ],
   "source": [
    "new_var1"
   ]
  },
  {
   "cell_type": "code",
   "execution_count": 17,
   "id": "9074ced4",
   "metadata": {},
   "outputs": [
    {
     "data": {
      "text/plain": [
       "80"
      ]
     },
     "execution_count": 17,
     "metadata": {},
     "output_type": "execute_result"
    }
   ],
   "source": [
    "new_var1[2,1]"
   ]
  },
  {
   "cell_type": "code",
   "execution_count": 18,
   "id": "b433041e",
   "metadata": {},
   "outputs": [
    {
     "data": {
      "text/plain": [
       "80"
      ]
     },
     "execution_count": 18,
     "metadata": {},
     "output_type": "execute_result"
    }
   ],
   "source": [
    "new_var1[2][1]"
   ]
  },
  {
   "cell_type": "code",
   "execution_count": 19,
   "id": "468cd118",
   "metadata": {},
   "outputs": [
    {
     "data": {
      "text/plain": [
       "array([40, 50, 60])"
      ]
     },
     "execution_count": 19,
     "metadata": {},
     "output_type": "execute_result"
    }
   ],
   "source": [
    "new_var1[1]"
   ]
  },
  {
   "cell_type": "code",
   "execution_count": 20,
   "id": "9701949a",
   "metadata": {},
   "outputs": [
    {
     "data": {
      "text/plain": [
       "array([20, 50, 80])"
      ]
     },
     "execution_count": 20,
     "metadata": {},
     "output_type": "execute_result"
    }
   ],
   "source": [
    "new_var1[:,1]"
   ]
  },
  {
   "cell_type": "code",
   "execution_count": 21,
   "id": "3e24f828",
   "metadata": {},
   "outputs": [
    {
     "data": {
      "text/plain": [
       "array([[50, 60],\n",
       "       [80, 90]])"
      ]
     },
     "execution_count": 21,
     "metadata": {},
     "output_type": "execute_result"
    }
   ],
   "source": [
    "new_var1[1:3,1:3]"
   ]
  },
  {
   "cell_type": "code",
   "execution_count": 22,
   "id": "e2e0fa3a",
   "metadata": {},
   "outputs": [
    {
     "data": {
      "text/plain": [
       "50.0"
      ]
     },
     "execution_count": 22,
     "metadata": {},
     "output_type": "execute_result"
    }
   ],
   "source": [
    "np.mean(new_var1)"
   ]
  },
  {
   "cell_type": "code",
   "execution_count": 23,
   "id": "6828bbf1",
   "metadata": {},
   "outputs": [
    {
     "data": {
      "text/plain": [
       "666.6666666666666"
      ]
     },
     "execution_count": 23,
     "metadata": {},
     "output_type": "execute_result"
    }
   ],
   "source": [
    "np.var(new_var1)"
   ]
  },
  {
   "cell_type": "code",
   "execution_count": 24,
   "id": "72b4f485",
   "metadata": {},
   "outputs": [
    {
     "data": {
      "text/plain": [
       "25.81988897471611"
      ]
     },
     "execution_count": 24,
     "metadata": {},
     "output_type": "execute_result"
    }
   ],
   "source": [
    "np.std(new_var1)"
   ]
  },
  {
   "cell_type": "code",
   "execution_count": 25,
   "id": "894913a9",
   "metadata": {},
   "outputs": [
    {
     "data": {
      "text/plain": [
       "array([[2.30258509, 2.99573227, 3.40119738],\n",
       "       [3.68887945, 3.91202301, 4.09434456],\n",
       "       [4.24849524, 4.38202663, 4.49980967]])"
      ]
     },
     "execution_count": 25,
     "metadata": {},
     "output_type": "execute_result"
    }
   ],
   "source": [
    "np.log(new_var1)"
   ]
  },
  {
   "cell_type": "code",
   "execution_count": 27,
   "id": "b022695f",
   "metadata": {},
   "outputs": [],
   "source": [
    "result = np.sqrt(new_var1)"
   ]
  },
  {
   "cell_type": "code",
   "execution_count": 29,
   "id": "46578f51",
   "metadata": {},
   "outputs": [
    {
     "data": {
      "text/plain": [
       "array([[3.16227766, 4.47213595, 5.47722558],\n",
       "       [6.32455532, 7.07106781, 7.74596669],\n",
       "       [8.36660027, 8.94427191, 9.48683298]])"
      ]
     },
     "execution_count": 29,
     "metadata": {},
     "output_type": "execute_result"
    }
   ],
   "source": [
    "np.sqrt(new_var1)"
   ]
  },
  {
   "cell_type": "code",
   "execution_count": 28,
   "id": "eb392698",
   "metadata": {},
   "outputs": [
    {
     "data": {
      "text/plain": [
       "array([[3.16, 4.47, 5.48],\n",
       "       [6.32, 7.07, 7.75],\n",
       "       [8.37, 8.94, 9.49]])"
      ]
     },
     "execution_count": 28,
     "metadata": {},
     "output_type": "execute_result"
    }
   ],
   "source": [
    "np.round(result,decimals=2)"
   ]
  },
  {
   "cell_type": "code",
   "execution_count": 30,
   "id": "4d90d5cc",
   "metadata": {},
   "outputs": [
    {
     "data": {
      "text/plain": [
       "array([ 0,  1,  2,  3,  4,  5,  6,  7,  8,  9, 10, 11, 12, 13, 14, 15, 16,\n",
       "       17, 18, 19])"
      ]
     },
     "execution_count": 30,
     "metadata": {},
     "output_type": "execute_result"
    }
   ],
   "source": [
    "np.arange(0,20)"
   ]
  },
  {
   "cell_type": "code",
   "execution_count": 31,
   "id": "f0daada8",
   "metadata": {},
   "outputs": [
    {
     "data": {
      "text/plain": [
       "array([ 0,  4,  8, 12, 16])"
      ]
     },
     "execution_count": 31,
     "metadata": {},
     "output_type": "execute_result"
    }
   ],
   "source": [
    "np.arange(0,20,4)"
   ]
  },
  {
   "cell_type": "code",
   "execution_count": 33,
   "id": "5466ae15",
   "metadata": {},
   "outputs": [
    {
     "data": {
      "text/plain": [
       "array([ 0. ,  2.5,  5. ,  7.5, 10. ])"
      ]
     },
     "execution_count": 33,
     "metadata": {},
     "output_type": "execute_result"
    }
   ],
   "source": [
    "np.linspace(0,10,5)"
   ]
  },
  {
   "cell_type": "code",
   "execution_count": 39,
   "id": "a1011a49",
   "metadata": {},
   "outputs": [
    {
     "data": {
      "text/plain": [
       "array([0.06101809, 0.66644931, 0.34249948, 0.75252036, 0.39530368])"
      ]
     },
     "execution_count": 39,
     "metadata": {},
     "output_type": "execute_result"
    }
   ],
   "source": [
    "np.random.rand(5) #Generate values that will follow uniform distribution"
   ]
  },
  {
   "cell_type": "code",
   "execution_count": 44,
   "id": "ee3bb4eb",
   "metadata": {},
   "outputs": [
    {
     "data": {
      "text/plain": [
       "array([ 0.91166535,  0.56262025, -0.57226889])"
      ]
     },
     "execution_count": 44,
     "metadata": {},
     "output_type": "execute_result"
    }
   ],
   "source": [
    "np.random.randn(3) #Generate values that will follow normal distribution"
   ]
  },
  {
   "cell_type": "code",
   "execution_count": 62,
   "id": "5fe59f6b",
   "metadata": {},
   "outputs": [
    {
     "data": {
      "text/plain": [
       "array([69, 25, 21])"
      ]
     },
     "execution_count": 62,
     "metadata": {},
     "output_type": "execute_result"
    }
   ],
   "source": [
    "np.random.randint(5,100,3)"
   ]
  },
  {
   "cell_type": "code",
   "execution_count": 64,
   "id": "02ef14c8",
   "metadata": {},
   "outputs": [],
   "source": [
    "sample = np.random.randint(5,100,20)"
   ]
  },
  {
   "cell_type": "code",
   "execution_count": 65,
   "id": "25da3160",
   "metadata": {},
   "outputs": [
    {
     "data": {
      "text/plain": [
       "(20,)"
      ]
     },
     "execution_count": 65,
     "metadata": {},
     "output_type": "execute_result"
    }
   ],
   "source": [
    "sample.shape"
   ]
  },
  {
   "cell_type": "code",
   "execution_count": 69,
   "id": "4c33e640",
   "metadata": {},
   "outputs": [],
   "source": [
    "sample_result = sample.reshape(2,10)"
   ]
  },
  {
   "cell_type": "code",
   "execution_count": 70,
   "id": "0488e0dc",
   "metadata": {},
   "outputs": [
    {
     "data": {
      "text/plain": [
       "(2, 10)"
      ]
     },
     "execution_count": 70,
     "metadata": {},
     "output_type": "execute_result"
    }
   ],
   "source": [
    "sample_result.shape"
   ]
  },
  {
   "cell_type": "code",
   "execution_count": 73,
   "id": "61677ae7",
   "metadata": {},
   "outputs": [
    {
     "name": "stdout",
     "output_type": "stream",
     "text": [
      "1.24.3\n"
     ]
    }
   ],
   "source": [
    "import numpy as np\n",
    "print(np.__version__)"
   ]
  },
  {
   "cell_type": "code",
   "execution_count": 74,
   "id": "c3a5a5f7",
   "metadata": {},
   "outputs": [
    {
     "data": {
      "text/plain": [
       "array([[90, 12, 70, 28, 37, 20, 31, 96, 53, 68],\n",
       "       [25, 97, 30, 13, 32, 11, 68, 77, 47, 35]])"
      ]
     },
     "execution_count": 74,
     "metadata": {},
     "output_type": "execute_result"
    }
   ],
   "source": [
    "sample_result"
   ]
  },
  {
   "cell_type": "code",
   "execution_count": 75,
   "id": "23115b2a",
   "metadata": {},
   "outputs": [
    {
     "data": {
      "text/plain": [
       "97"
      ]
     },
     "execution_count": 75,
     "metadata": {},
     "output_type": "execute_result"
    }
   ],
   "source": [
    "np.max(sample_result)"
   ]
  },
  {
   "cell_type": "code",
   "execution_count": 76,
   "id": "3b919c48",
   "metadata": {},
   "outputs": [
    {
     "data": {
      "text/plain": [
       "11"
      ]
     },
     "execution_count": 76,
     "metadata": {},
     "output_type": "execute_result"
    }
   ],
   "source": [
    "np.min(sample_result)"
   ]
  },
  {
   "cell_type": "code",
   "execution_count": 77,
   "id": "e137594b",
   "metadata": {},
   "outputs": [
    {
     "data": {
      "text/plain": [
       "11"
      ]
     },
     "execution_count": 77,
     "metadata": {},
     "output_type": "execute_result"
    }
   ],
   "source": [
    "np.argmax(sample_result)"
   ]
  },
  {
   "cell_type": "code",
   "execution_count": 78,
   "id": "16af1ec1",
   "metadata": {},
   "outputs": [
    {
     "data": {
      "text/plain": [
       "15"
      ]
     },
     "execution_count": 78,
     "metadata": {},
     "output_type": "execute_result"
    }
   ],
   "source": [
    "np.argmin(sample_result)"
   ]
  },
  {
   "cell_type": "code",
   "execution_count": 79,
   "id": "0bfc7b9f",
   "metadata": {},
   "outputs": [
    {
     "data": {
      "text/plain": [
       "array([90, 12, 70, 28, 37, 20, 31, 96, 53, 68, 25, 97, 30, 13, 32, 11, 68,\n",
       "       77, 47, 35])"
      ]
     },
     "execution_count": 79,
     "metadata": {},
     "output_type": "execute_result"
    }
   ],
   "source": [
    "sample"
   ]
  },
  {
   "cell_type": "code",
   "execution_count": 80,
   "id": "3a0cb722",
   "metadata": {},
   "outputs": [
    {
     "data": {
      "text/plain": [
       "37"
      ]
     },
     "execution_count": 80,
     "metadata": {},
     "output_type": "execute_result"
    }
   ],
   "source": [
    "sample[4]"
   ]
  },
  {
   "cell_type": "code",
   "execution_count": 81,
   "id": "70da7ea8",
   "metadata": {},
   "outputs": [
    {
     "data": {
      "text/plain": [
       "array([37, 20, 31, 96, 53, 68])"
      ]
     },
     "execution_count": 81,
     "metadata": {},
     "output_type": "execute_result"
    }
   ],
   "source": [
    "sample[4:10]"
   ]
  },
  {
   "cell_type": "code",
   "execution_count": 83,
   "id": "28f46a15",
   "metadata": {},
   "outputs": [
    {
     "data": {
      "text/plain": [
       "array([90, 70, 37])"
      ]
     },
     "execution_count": 83,
     "metadata": {},
     "output_type": "execute_result"
    }
   ],
   "source": [
    "sample[[0,2,4]]"
   ]
  },
  {
   "cell_type": "code",
   "execution_count": 85,
   "id": "668bb24c",
   "metadata": {},
   "outputs": [],
   "source": [
    "sample[0:4] = 100"
   ]
  },
  {
   "cell_type": "code",
   "execution_count": 86,
   "id": "fa8008e1",
   "metadata": {},
   "outputs": [
    {
     "data": {
      "text/plain": [
       "array([100, 100, 100, 100,  37,  20,  31,  96,  53,  68,  25,  97,  30,\n",
       "        13,  32,  11,  68,  77,  47,  35])"
      ]
     },
     "execution_count": 86,
     "metadata": {},
     "output_type": "execute_result"
    }
   ],
   "source": [
    "sample"
   ]
  },
  {
   "cell_type": "code",
   "execution_count": 95,
   "id": "caec5603",
   "metadata": {},
   "outputs": [],
   "source": [
    "sample_array = np.arange(10,21)"
   ]
  },
  {
   "cell_type": "code",
   "execution_count": 96,
   "id": "fb022a7c",
   "metadata": {},
   "outputs": [
    {
     "data": {
      "text/plain": [
       "array([10, 11, 12, 13, 14, 15, 16, 17, 18, 19, 20])"
      ]
     },
     "execution_count": 96,
     "metadata": {},
     "output_type": "execute_result"
    }
   ],
   "source": [
    "sample_array"
   ]
  },
  {
   "cell_type": "code",
   "execution_count": 97,
   "id": "018adccd",
   "metadata": {},
   "outputs": [],
   "source": [
    "subset_sample_array = sample_array[0:6]"
   ]
  },
  {
   "cell_type": "code",
   "execution_count": 98,
   "id": "492e636a",
   "metadata": {},
   "outputs": [
    {
     "data": {
      "text/plain": [
       "array([10, 11, 12, 13, 14, 15])"
      ]
     },
     "execution_count": 98,
     "metadata": {},
     "output_type": "execute_result"
    }
   ],
   "source": [
    "subset_sample_array"
   ]
  },
  {
   "cell_type": "code",
   "execution_count": 99,
   "id": "628566b5",
   "metadata": {},
   "outputs": [],
   "source": [
    "subset_sample_array[:] = 100"
   ]
  },
  {
   "cell_type": "code",
   "execution_count": 100,
   "id": "0de9e990",
   "metadata": {},
   "outputs": [
    {
     "data": {
      "text/plain": [
       "array([100, 100, 100, 100, 100, 100])"
      ]
     },
     "execution_count": 100,
     "metadata": {},
     "output_type": "execute_result"
    }
   ],
   "source": [
    "subset_sample_array"
   ]
  },
  {
   "cell_type": "code",
   "execution_count": 101,
   "id": "6f58e155",
   "metadata": {},
   "outputs": [
    {
     "data": {
      "text/plain": [
       "array([100, 100, 100, 100, 100, 100,  16,  17,  18,  19,  20])"
      ]
     },
     "execution_count": 101,
     "metadata": {},
     "output_type": "execute_result"
    }
   ],
   "source": [
    "sample_array"
   ]
  },
  {
   "cell_type": "code",
   "execution_count": 102,
   "id": "a1e52b9f",
   "metadata": {},
   "outputs": [],
   "source": [
    "sample_array = np.arange(10,21)"
   ]
  },
  {
   "cell_type": "code",
   "execution_count": 103,
   "id": "920e27b9",
   "metadata": {},
   "outputs": [
    {
     "data": {
      "text/plain": [
       "array([10, 11, 12, 13, 14, 15, 16, 17, 18, 19, 20])"
      ]
     },
     "execution_count": 103,
     "metadata": {},
     "output_type": "execute_result"
    }
   ],
   "source": [
    "sample_array"
   ]
  },
  {
   "cell_type": "code",
   "execution_count": 104,
   "id": "19e83540",
   "metadata": {},
   "outputs": [],
   "source": [
    "copy_array = sample_array.copy()"
   ]
  },
  {
   "cell_type": "code",
   "execution_count": 105,
   "id": "d442f6f9",
   "metadata": {},
   "outputs": [
    {
     "data": {
      "text/plain": [
       "array([10, 11, 12, 13, 14, 15, 16, 17, 18, 19, 20])"
      ]
     },
     "execution_count": 105,
     "metadata": {},
     "output_type": "execute_result"
    }
   ],
   "source": [
    "copy_array"
   ]
  },
  {
   "cell_type": "code",
   "execution_count": 106,
   "id": "e2ce03b5",
   "metadata": {},
   "outputs": [],
   "source": [
    "subset_sample_array = copy_array[0:5]"
   ]
  },
  {
   "cell_type": "code",
   "execution_count": 107,
   "id": "72e3663a",
   "metadata": {},
   "outputs": [
    {
     "data": {
      "text/plain": [
       "array([10, 11, 12, 13, 14])"
      ]
     },
     "execution_count": 107,
     "metadata": {},
     "output_type": "execute_result"
    }
   ],
   "source": [
    "subset_sample_array"
   ]
  },
  {
   "cell_type": "code",
   "execution_count": 108,
   "id": "7c23fec5",
   "metadata": {},
   "outputs": [],
   "source": [
    "subset_sample_array[:] = 100"
   ]
  },
  {
   "cell_type": "code",
   "execution_count": 109,
   "id": "ee834b2d",
   "metadata": {},
   "outputs": [
    {
     "data": {
      "text/plain": [
       "array([100, 100, 100, 100, 100,  15,  16,  17,  18,  19,  20])"
      ]
     },
     "execution_count": 109,
     "metadata": {},
     "output_type": "execute_result"
    }
   ],
   "source": [
    "copy_array"
   ]
  },
  {
   "cell_type": "code",
   "execution_count": 110,
   "id": "cf79bffe",
   "metadata": {},
   "outputs": [
    {
     "data": {
      "text/plain": [
       "array([10, 11, 12, 13, 14, 15, 16, 17, 18, 19, 20])"
      ]
     },
     "execution_count": 110,
     "metadata": {},
     "output_type": "execute_result"
    }
   ],
   "source": [
    "sample_array"
   ]
  },
  {
   "cell_type": "code",
   "execution_count": 111,
   "id": "7a7128db",
   "metadata": {},
   "outputs": [
    {
     "data": {
      "text/plain": [
       "array([10, 11, 12, 13, 14, 15, 16, 17, 18, 19, 20])"
      ]
     },
     "execution_count": 111,
     "metadata": {},
     "output_type": "execute_result"
    }
   ],
   "source": [
    "sample_array"
   ]
  },
  {
   "cell_type": "code",
   "execution_count": 112,
   "id": "d44b5266",
   "metadata": {},
   "outputs": [],
   "source": [
    "np.save('sample_result',sample_array)"
   ]
  },
  {
   "cell_type": "code",
   "execution_count": 113,
   "id": "81590b15",
   "metadata": {},
   "outputs": [],
   "source": [
    "sample_array_from_file = np.load('sample_result.npy')"
   ]
  },
  {
   "cell_type": "code",
   "execution_count": 114,
   "id": "26ec2d5a",
   "metadata": {},
   "outputs": [
    {
     "data": {
      "text/plain": [
       "array([10, 11, 12, 13, 14, 15, 16, 17, 18, 19, 20])"
      ]
     },
     "execution_count": 114,
     "metadata": {},
     "output_type": "execute_result"
    }
   ],
   "source": [
    "sample_array_from_file"
   ]
  },
  {
   "cell_type": "code",
   "execution_count": 115,
   "id": "49bdfe77",
   "metadata": {},
   "outputs": [
    {
     "data": {
      "text/plain": [
       "array([10, 11, 12, 13, 14, 15, 16, 17, 18, 19, 20])"
      ]
     },
     "execution_count": 115,
     "metadata": {},
     "output_type": "execute_result"
    }
   ],
   "source": [
    "sample_array"
   ]
  },
  {
   "cell_type": "code",
   "execution_count": 116,
   "id": "8b3bf478",
   "metadata": {},
   "outputs": [
    {
     "data": {
      "text/plain": [
       "array([[100, 100, 100, 100,  37,  20,  31,  96,  53,  68],\n",
       "       [ 25,  97,  30,  13,  32,  11,  68,  77,  47,  35]])"
      ]
     },
     "execution_count": 116,
     "metadata": {},
     "output_type": "execute_result"
    }
   ],
   "source": [
    "sample_result"
   ]
  },
  {
   "cell_type": "code",
   "execution_count": 117,
   "id": "ca62de62",
   "metadata": {},
   "outputs": [],
   "source": [
    "np.savez('2_arrays.npz',a=sample_array,b=sample_result)"
   ]
  },
  {
   "cell_type": "code",
   "execution_count": 118,
   "id": "69d9d77c",
   "metadata": {},
   "outputs": [],
   "source": [
    "archived_arrays = np.load('2_arrays.npz')"
   ]
  },
  {
   "cell_type": "code",
   "execution_count": 119,
   "id": "f10b9166",
   "metadata": {},
   "outputs": [
    {
     "data": {
      "text/plain": [
       "array([10, 11, 12, 13, 14, 15, 16, 17, 18, 19, 20])"
      ]
     },
     "execution_count": 119,
     "metadata": {},
     "output_type": "execute_result"
    }
   ],
   "source": [
    "archived_arrays['a']"
   ]
  },
  {
   "cell_type": "code",
   "execution_count": 120,
   "id": "473e273d",
   "metadata": {},
   "outputs": [
    {
     "data": {
      "text/plain": [
       "array([[100, 100, 100, 100,  37,  20,  31,  96,  53,  68],\n",
       "       [ 25,  97,  30,  13,  32,  11,  68,  77,  47,  35]])"
      ]
     },
     "execution_count": 120,
     "metadata": {},
     "output_type": "execute_result"
    }
   ],
   "source": [
    "archived_arrays['b']"
   ]
  },
  {
   "cell_type": "code",
   "execution_count": 122,
   "id": "688ca823",
   "metadata": {},
   "outputs": [
    {
     "data": {
      "text/plain": [
       "array([10, 11, 12, 13, 14, 15, 16, 17, 18, 19, 20])"
      ]
     },
     "execution_count": 122,
     "metadata": {},
     "output_type": "execute_result"
    }
   ],
   "source": [
    "archived_arrays['a']"
   ]
  },
  {
   "cell_type": "code",
   "execution_count": null,
   "id": "a85ceadc",
   "metadata": {},
   "outputs": [],
   "source": []
  }
 ],
 "metadata": {
  "kernelspec": {
   "display_name": "Python 3 (ipykernel)",
   "language": "python",
   "name": "python3"
  },
  "language_info": {
   "codemirror_mode": {
    "name": "ipython",
    "version": 3
   },
   "file_extension": ".py",
   "mimetype": "text/x-python",
   "name": "python",
   "nbconvert_exporter": "python",
   "pygments_lexer": "ipython3",
   "version": "3.11.5"
  }
 },
 "nbformat": 4,
 "nbformat_minor": 5
}
